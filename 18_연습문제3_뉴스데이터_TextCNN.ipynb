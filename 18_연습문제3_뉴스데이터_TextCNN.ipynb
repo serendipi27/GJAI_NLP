{
 "cells": [
  {
   "cell_type": "markdown",
   "id": "164ca2ac",
   "metadata": {},
   "source": [
    "연습문제\n",
    "1. 워드임베딩 + 순환신경망 + 규제설정L2\n",
    "4. 워드 임베딩 + 순환신경망 + Dropout\n",
    "5. 워드 임베딩 + Dropout \n",
    "6. 워드 임베딩 + 양방향 순환신경망"
   ]
  },
  {
   "cell_type": "code",
   "execution_count": 45,
   "id": "d2adc0bb",
   "metadata": {},
   "outputs": [],
   "source": [
    "import pandas as pd\n",
    "from matplotlib import rc\n",
    "import os\n",
    "\n",
    "rc('font', family='AppleGothic')\n",
    "\n",
    "path = '/Users/jsha/gjai/nlp/pytest/'\n",
    "working_path = path + '18_practice/'\n",
    "if not os.path.exists(working_path):\n",
    "    os.mkdir(working_path)\n",
    "    print(f'making done {working_path}')\n",
    "os.chdir(working_path)"
   ]
  },
  {
   "cell_type": "markdown",
   "id": "8a78ef8a",
   "metadata": {},
   "source": [
    "# 분류1"
   ]
  },
  {
   "cell_type": "code",
   "execution_count": 46,
   "id": "7083b30e",
   "metadata": {},
   "outputs": [],
   "source": [
    "import pandas as pd\n",
    "from matplotlib import rc\n",
    "\n",
    "rc('font', family='AppleGothic')\n",
    "\n",
    "data_path = '/Users/jsha/gjai/nlp/pytest/16_practice/'\n",
    "filename1 = '분류1_뉴스데이터_morphed_train.csv'\n",
    "filename2 = '분류1_뉴스데이터_morphed_test.csv'\n",
    "\n",
    "train_df = pd.read_csv(data_path+filename1)\n",
    "test_df = pd.read_csv(data_path+filename2)"
   ]
  },
  {
   "cell_type": "code",
   "execution_count": 47,
   "id": "b6b6b184",
   "metadata": {},
   "outputs": [
    {
     "data": {
      "text/html": [
       "<div>\n",
       "<style scoped>\n",
       "    .dataframe tbody tr th:only-of-type {\n",
       "        vertical-align: middle;\n",
       "    }\n",
       "\n",
       "    .dataframe tbody tr th {\n",
       "        vertical-align: top;\n",
       "    }\n",
       "\n",
       "    .dataframe thead th {\n",
       "        text-align: right;\n",
       "    }\n",
       "</style>\n",
       "<table border=\"1\" class=\"dataframe\">\n",
       "  <thead>\n",
       "    <tr style=\"text-align: right;\">\n",
       "      <th></th>\n",
       "      <th>id</th>\n",
       "      <th>날짜</th>\n",
       "      <th>분류1</th>\n",
       "      <th>텍스트</th>\n",
       "      <th>분류1_상위</th>\n",
       "      <th>morphed</th>\n",
       "    </tr>\n",
       "  </thead>\n",
       "  <tbody>\n",
       "    <tr>\n",
       "      <th>0</th>\n",
       "      <td>1319794</td>\n",
       "      <td>20190412</td>\n",
       "      <td>국제,중동_아프리카</td>\n",
       "      <td>이들은 성경이 난민에 대해 어떻게 말하고 있으며, 현 상황과 관련해 난민에 대한 정...</td>\n",
       "      <td>국제</td>\n",
       "      <td>성경 난민 대하 어떻하 말 있 현 상황과 관련 난민 대하 정확 하 팩트 밝히</td>\n",
       "    </tr>\n",
       "    <tr>\n",
       "      <th>1</th>\n",
       "      <td>1410943</td>\n",
       "      <td>20190503</td>\n",
       "      <td>지역,충북</td>\n",
       "      <td>충북 충주시는 3일 충주시청 중앙탑회의실에서 제47회 어버이날 유공자 시상식을 열고...</td>\n",
       "      <td>지역</td>\n",
       "      <td>충북 충주시 충주시 청 중앙 탑 회의실 어버이날 유공자 시상식 열 심영섭 효행 장한...</td>\n",
       "    </tr>\n",
       "    <tr>\n",
       "      <th>2</th>\n",
       "      <td>972814</td>\n",
       "      <td>20190122</td>\n",
       "      <td>스포츠,축구,국가대표팀</td>\n",
       "      <td>아시안게임이 U-23 대표팀 경기로 A 대표팀과는 객관적 지표에서 차이가 있지만, ...</td>\n",
       "      <td>스포츠</td>\n",
       "      <td>아시안게임 대표 팀 경기 대표 팀 객관적 지표 차이 있 그때 기억 황의 조의 자신감...</td>\n",
       "    </tr>\n",
       "    <tr>\n",
       "      <th>3</th>\n",
       "      <td>359452</td>\n",
       "      <td>20180828</td>\n",
       "      <td>IT_과학,콘텐츠</td>\n",
       "      <td>신기술전시회 280개 기업, 국제발명특허대전 160개 발명품, 국제컨퍼런스 40개 ...</td>\n",
       "      <td>IT_과학</td>\n",
       "      <td>신기술 전시회 기업 국제 발명 특허 대전 발명품 국제 컨퍼런스 세션 꾸미 명 관람객...</td>\n",
       "    </tr>\n",
       "    <tr>\n",
       "      <th>4</th>\n",
       "      <td>1338926</td>\n",
       "      <td>20190416</td>\n",
       "      <td>사회,장애인</td>\n",
       "      <td>아카데미에서는 장애인복지시설, 발달장애인훈련센터 등 학령기 장애인 대상으로의 진로직...</td>\n",
       "      <td>사회</td>\n",
       "      <td>아카데미 장애인 복지 시설 발달 장애 훈련 센터 학령기 장애인 대상 진로 직업 체험...</td>\n",
       "    </tr>\n",
       "  </tbody>\n",
       "</table>\n",
       "</div>"
      ],
      "text/plain": [
       "        id        날짜           분류1  \\\n",
       "0  1319794  20190412    국제,중동_아프리카   \n",
       "1  1410943  20190503         지역,충북   \n",
       "2   972814  20190122  스포츠,축구,국가대표팀   \n",
       "3   359452  20180828     IT_과학,콘텐츠   \n",
       "4  1338926  20190416        사회,장애인   \n",
       "\n",
       "                                                 텍스트 분류1_상위  \\\n",
       "0  이들은 성경이 난민에 대해 어떻게 말하고 있으며, 현 상황과 관련해 난민에 대한 정...     국제   \n",
       "1  충북 충주시는 3일 충주시청 중앙탑회의실에서 제47회 어버이날 유공자 시상식을 열고...     지역   \n",
       "2  아시안게임이 U-23 대표팀 경기로 A 대표팀과는 객관적 지표에서 차이가 있지만, ...    스포츠   \n",
       "3  신기술전시회 280개 기업, 국제발명특허대전 160개 발명품, 국제컨퍼런스 40개 ...  IT_과학   \n",
       "4  아카데미에서는 장애인복지시설, 발달장애인훈련센터 등 학령기 장애인 대상으로의 진로직...     사회   \n",
       "\n",
       "                                             morphed  \n",
       "0         성경 난민 대하 어떻하 말 있 현 상황과 관련 난민 대하 정확 하 팩트 밝히  \n",
       "1  충북 충주시 충주시 청 중앙 탑 회의실 어버이날 유공자 시상식 열 심영섭 효행 장한...  \n",
       "2  아시안게임 대표 팀 경기 대표 팀 객관적 지표 차이 있 그때 기억 황의 조의 자신감...  \n",
       "3  신기술 전시회 기업 국제 발명 특허 대전 발명품 국제 컨퍼런스 세션 꾸미 명 관람객...  \n",
       "4  아카데미 장애인 복지 시설 발달 장애 훈련 센터 학령기 장애인 대상 진로 직업 체험...  "
      ]
     },
     "execution_count": 47,
     "metadata": {},
     "output_type": "execute_result"
    }
   ],
   "source": [
    "# train_df.head()\n",
    "# train_df['morphed'] = morphed_data\n",
    "train_df.head()"
   ]
  },
  {
   "cell_type": "code",
   "execution_count": 48,
   "id": "62bc1e6f",
   "metadata": {},
   "outputs": [
    {
     "data": {
      "text/html": [
       "<div>\n",
       "<style scoped>\n",
       "    .dataframe tbody tr th:only-of-type {\n",
       "        vertical-align: middle;\n",
       "    }\n",
       "\n",
       "    .dataframe tbody tr th {\n",
       "        vertical-align: top;\n",
       "    }\n",
       "\n",
       "    .dataframe thead th {\n",
       "        text-align: right;\n",
       "    }\n",
       "</style>\n",
       "<table border=\"1\" class=\"dataframe\">\n",
       "  <thead>\n",
       "    <tr style=\"text-align: right;\">\n",
       "      <th></th>\n",
       "      <th>id</th>\n",
       "      <th>날짜</th>\n",
       "      <th>분류1</th>\n",
       "      <th>텍스트</th>\n",
       "      <th>분류1_상위</th>\n",
       "      <th>morphed</th>\n",
       "    </tr>\n",
       "  </thead>\n",
       "  <tbody>\n",
       "    <tr>\n",
       "      <th>0</th>\n",
       "      <td>268980</td>\n",
       "      <td>20180806</td>\n",
       "      <td>경제,증권_증시</td>\n",
       "      <td>이런 가격 조작 행위는 지난해 말 ‘코인 열풍’이 불 때부터 폭발적으로 늘어났다는 ...</td>\n",
       "      <td>경제</td>\n",
       "      <td>이런 가격 조작 행위 지난해 말 코인 열풍 불 때 폭발적 늘어나 설명</td>\n",
       "    </tr>\n",
       "    <tr>\n",
       "      <th>1</th>\n",
       "      <td>260551</td>\n",
       "      <td>20180803</td>\n",
       "      <td>국제,러시아</td>\n",
       "      <td>한 정보 소식통에 따르면 이 여성은 지난해 중순쯤 국무부로부터 비밀정보 사용 인가를...</td>\n",
       "      <td>국제</td>\n",
       "      <td>하 정보 소식통 따르 이 여성 지난해 중순쯤 국무부 비밀 정보 사용 인가 취소 당하...</td>\n",
       "    </tr>\n",
       "    <tr>\n",
       "      <th>2</th>\n",
       "      <td>390392</td>\n",
       "      <td>20180903</td>\n",
       "      <td>국제,아시아</td>\n",
       "      <td>시진핑(習近平) 중국 국가주석은 오는 11월 파푸아뉴기니에서 열리는 아시아·태평양경...</td>\n",
       "      <td>국제</td>\n",
       "      <td>시진 핑 중국 국가주석 오 파푸아뉴기니 열리 아시아 태평양 경제 협력체 정상 회의 ...</td>\n",
       "    </tr>\n",
       "    <tr>\n",
       "      <th>3</th>\n",
       "      <td>215899</td>\n",
       "      <td>20180723</td>\n",
       "      <td>경제,무역</td>\n",
       "      <td>이번 세이프가드는 최근 3년간 평균 수입물량으로 쿼터를 산정 후 쿼터 초과 수입물량...</td>\n",
       "      <td>경제</td>\n",
       "      <td>이번 세이프가드 최근 평균 수입 물량 쿼터 산정 후 쿼터 초과 수입 물량 대하 관세...</td>\n",
       "    </tr>\n",
       "    <tr>\n",
       "      <th>4</th>\n",
       "      <td>380078</td>\n",
       "      <td>20180902</td>\n",
       "      <td>스포츠,축구,국가대표팀</td>\n",
       "      <td>손흥민과 이승우, 황의조와 황희찬 등 해외에서 활약하는 선수들은 더 이상 병역 문제...</td>\n",
       "      <td>스포츠</td>\n",
       "      <td>손 흥 민 이승우 황의 황희찬 해외 활약 선수 더 이상 병역 문제 발목 잡히 국내 ...</td>\n",
       "    </tr>\n",
       "  </tbody>\n",
       "</table>\n",
       "</div>"
      ],
      "text/plain": [
       "       id        날짜           분류1  \\\n",
       "0  268980  20180806      경제,증권_증시   \n",
       "1  260551  20180803        국제,러시아   \n",
       "2  390392  20180903        국제,아시아   \n",
       "3  215899  20180723         경제,무역   \n",
       "4  380078  20180902  스포츠,축구,국가대표팀   \n",
       "\n",
       "                                                 텍스트 분류1_상위  \\\n",
       "0  이런 가격 조작 행위는 지난해 말 ‘코인 열풍’이 불 때부터 폭발적으로 늘어났다는 ...     경제   \n",
       "1  한 정보 소식통에 따르면 이 여성은 지난해 중순쯤 국무부로부터 비밀정보 사용 인가를...     국제   \n",
       "2  시진핑(習近平) 중국 국가주석은 오는 11월 파푸아뉴기니에서 열리는 아시아·태평양경...     국제   \n",
       "3  이번 세이프가드는 최근 3년간 평균 수입물량으로 쿼터를 산정 후 쿼터 초과 수입물량...     경제   \n",
       "4  손흥민과 이승우, 황의조와 황희찬 등 해외에서 활약하는 선수들은 더 이상 병역 문제...    스포츠   \n",
       "\n",
       "                                             morphed  \n",
       "0             이런 가격 조작 행위 지난해 말 코인 열풍 불 때 폭발적 늘어나 설명  \n",
       "1  하 정보 소식통 따르 이 여성 지난해 중순쯤 국무부 비밀 정보 사용 인가 취소 당하...  \n",
       "2  시진 핑 중국 국가주석 오 파푸아뉴기니 열리 아시아 태평양 경제 협력체 정상 회의 ...  \n",
       "3  이번 세이프가드 최근 평균 수입 물량 쿼터 산정 후 쿼터 초과 수입 물량 대하 관세...  \n",
       "4  손 흥 민 이승우 황의 황희찬 해외 활약 선수 더 이상 병역 문제 발목 잡히 국내 ...  "
      ]
     },
     "execution_count": 48,
     "metadata": {},
     "output_type": "execute_result"
    }
   ],
   "source": [
    "test_df.head()"
   ]
  },
  {
   "cell_type": "code",
   "execution_count": 49,
   "id": "a31761f5",
   "metadata": {},
   "outputs": [
    {
     "name": "stdout",
     "output_type": "stream",
     "text": [
      "['국제', '지역', '스포츠']\n",
      "['성경 난민 대하 어떻하 말 있 현 상황과 관련 난민 대하 정확 하 팩트 밝히', '충북 충주시 충주시 청 중앙 탑 회의실 어버이날 유공자 시상식 열 심영섭 효행 장한 어버이 표창장 수여', '아시안게임 대표 팀 경기 대표 팀 객관적 지표 차이 있 그때 기억 황의 조의 자신감 불태우 충분']\n",
      "--------------------------------------------------\n",
      "['경제', '국제', '국제']\n",
      "['이런 가격 조작 행위 지난해 말 코인 열풍 불 때 폭발적 늘어나 설명', '하 정보 소식통 따르 이 여성 지난해 중순쯤 국무부 비밀 정보 사용 인가 취소 당하 직후 해고 되', '시진 핑 중국 국가주석 오 파푸아뉴기니 열리 아시아 태평양 경제 협력체 정상 회의 전후 태평 도서 국 정상 회담 알리']\n"
     ]
    }
   ],
   "source": [
    "from sklearn.model_selection import train_test_split\n",
    "\n",
    "data_text = train_df.loc[:,'morphed'].to_list()\n",
    "data_label = train_df.loc[:,'분류1_상위'].to_list()\n",
    "print(data_label[:3])\n",
    "print(data_text[:3])\n",
    "\n",
    "print('-'*50)\n",
    "\n",
    "data_text_test = test_df.loc[:,'morphed'].to_list()\n",
    "data_label_test = test_df.loc[:,'분류1_상위'].to_list()\n",
    "print(data_label_test[:3])\n",
    "print(data_text_test[:3])\n",
    "\n",
    "train_data_text = data_text\n",
    "train_data_label = data_label\n",
    "test_data_text = data_text_test\n",
    "test_data_label = data_label_test\n",
    "# train_data_text, test_data_text, train_data_label, test_data_label = \\\n",
    "# train_test_split(data_text, data_label, stratify=data_label, \n",
    "#                  test_size=0.3, random_state=1111)"
   ]
  },
  {
   "cell_type": "code",
   "execution_count": 50,
   "id": "7d1ecda4",
   "metadata": {},
   "outputs": [
    {
     "name": "stdout",
     "output_type": "stream",
     "text": [
      "6792\n",
      "2265\n"
     ]
    }
   ],
   "source": [
    "print(len(train_data_text))\n",
    "print(len(test_data_text))"
   ]
  },
  {
   "cell_type": "code",
   "execution_count": 51,
   "id": "3788b358",
   "metadata": {},
   "outputs": [
    {
     "name": "stdout",
     "output_type": "stream",
     "text": [
      "train_data_label_freq: Counter({'지역': 2151, '스포츠': 1725, '경제': 945, '국제': 733, '사회': 639, 'IT_과학': 491, '문화': 98, '미분류': 9, '정치': 1})\n",
      "test_data_label_freq: Counter({'지역': 722, '스포츠': 540, '경제': 329, '국제': 219, '사회': 213, 'IT_과학': 203, '문화': 30, '미분류': 9})\n"
     ]
    }
   ],
   "source": [
    "from collections import Counter\n",
    "train_data_label_freq = Counter(train_data_label)\n",
    "print('train_data_label_freq:', train_data_label_freq)\n",
    "\n",
    "test_data_label_freq = Counter(test_data_label)\n",
    "print('test_data_label_freq:', test_data_label_freq)\n"
   ]
  },
  {
   "cell_type": "code",
   "execution_count": 52,
   "id": "1a40003f",
   "metadata": {},
   "outputs": [
    {
     "name": "stdout",
     "output_type": "stream",
     "text": [
      "최소길이: 4\n",
      "최대길이: 54\n",
      "평균길이: 19.5\n",
      "중위수길이: 19.0\n",
      "percentile  : [0, 25, 50, 75, 90, 99, 100]\n",
      "구간별 최대 길이: [ 4. 16. 19. 22. 27. 35. 54.]\n",
      "최소길이 문장: 투입 예산 내년 총\n",
      "최대길이 문장: 주요 신규 사업 삼사해상공원 해 파랑 공원 파도 걷기 보행 조성 새 뜰 사업 축산 블루 시티 조성 사업 예 주 고을 역사 문화 공원 조성 사업 오십천 그린 로드 조성 영덕 도서관 건립 사업 영덕 애니메이션 테마파크 조성 사업 영덕 하 양교 션 강구면 화전 우수 저류 시설 설치 아름답 소하천 꾸 사업\n"
     ]
    }
   ],
   "source": [
    "import numpy as np\n",
    "\n",
    "text_len = [len(line.split(' ')) for line in train_data_text]\n",
    "print('최소길이:', np.min(text_len))\n",
    "print('최대길이:', np.max(text_len))\n",
    "print('평균길이:', np.round(np.mean(text_len),1))\n",
    "print('중위수길이:', np.median(text_len))\n",
    "print('percentile  : [0, 25, 50, 75, 90, 99, 100]')\n",
    "print('구간별 최대 길이:', np.percentile(text_len, [0, 25, 50, 75, 90, 99, 100]))\n",
    "print('최소길이 문장:', train_data_text[np.argmin(text_len)])\n",
    "print('최대길이 문장:', train_data_text[np.argmax(text_len)])"
   ]
  },
  {
   "cell_type": "code",
   "execution_count": 53,
   "id": "7f42c405",
   "metadata": {},
   "outputs": [],
   "source": [
    "from keras.preprocessing.text import Tokenizer\n",
    "from keras.preprocessing.sequence import pad_sequences\n",
    "import numpy as np\n",
    "import math \n",
    "\n",
    "max_words = 10000\n",
    "maxlen = 40\n",
    "\n",
    "tokenizer = Tokenizer(num_words=max_words)\n",
    "tokenizer.fit_on_texts(train_data_text)\n",
    "word_index = tokenizer.word_index"
   ]
  },
  {
   "cell_type": "code",
   "execution_count": 54,
   "id": "3b59517f",
   "metadata": {},
   "outputs": [
    {
     "name": "stdout",
     "output_type": "stream",
     "text": [
      "wjscpdptj 18050개의 고유한 토큰을 찾았습니다\n",
      "word_index type: <class 'dict'>\n"
     ]
    }
   ],
   "source": [
    "print('wjscpdptj %s개의 고유한 토큰을 찾았습니다' % len(word_index))\n",
    "print('word_index type:', type(word_index))\n",
    "# print('word_index:', word_index)"
   ]
  },
  {
   "cell_type": "code",
   "execution_count": 55,
   "id": "45f8824d",
   "metadata": {},
   "outputs": [
    {
     "name": "stdout",
     "output_type": "stream",
     "text": [
      "최대 문장 길이: 49\n",
      "최소 문장 길이: 4\n"
     ]
    }
   ],
   "source": [
    "seq_data = tokenizer.texts_to_sequences(train_data_text)\n",
    "# print('data', data)\n",
    "\n",
    "len_d = [len(d) for d in seq_data]\n",
    "# print('길이:', len_d)\n",
    "print('최대 문장 길이:', max(len_d))\n",
    "print('최소 문장 길이:', min(len_d))"
   ]
  },
  {
   "cell_type": "code",
   "execution_count": 56,
   "id": "f43f94a5",
   "metadata": {},
   "outputs": [
    {
     "name": "stdout",
     "output_type": "stream",
     "text": [
      "data: [[   0    0    0 ...    1 7165   18]\n",
      " [   0    0    0 ... 7168 7169 2108]\n",
      " [   0    0    0 ... 3970 4700 1797]\n",
      " ...\n",
      " [   0    0    0 ... 9362 5861   18]\n",
      " [   0    0    0 ... 1042 1564   13]\n",
      " [   0    0    0 ... 9916 3268  362]]\n",
      "data 0: [   0    0    0    0    0    0    0    0    0    0    0    0    0    0\n",
      "    0    0    0    0    0    0    0    0    0    0    0 2300  677   10\n",
      " 2301  220    3  790 4698   76  677   10 1389    1 7165   18]\n",
      "data 0의 길이: 40\n"
     ]
    }
   ],
   "source": [
    "pad_data = pad_sequences(seq_data, maxlen=maxlen)\n",
    "\n",
    "print('data:', pad_data)\n",
    "print('data 0:', pad_data[0])\n",
    "print('data 0의 길이:', len(pad_data[0]))"
   ]
  },
  {
   "cell_type": "code",
   "execution_count": 57,
   "id": "d37569a4",
   "metadata": {},
   "outputs": [
    {
     "name": "stdout",
     "output_type": "stream",
     "text": [
      "train_data_text type: <class 'list'>\n",
      "data type: <class 'numpy.ndarray'>\n",
      "train_data_text 0: 성경 난민 대하 어떻하 말 있 현 상황과 관련 난민 대하 정확 하 팩트 밝히\n",
      "data 0: [   0    0    0    0    0    0    0    0    0    0    0    0    0    0\n",
      "    0    0    0    0    0    0    0    0    0    0    0 2300  677   10\n",
      " 2301  220    3  790 4698   76  677   10 1389    1 7165   18]\n"
     ]
    }
   ],
   "source": [
    "print('train_data_text type:', type(train_data_text))\n",
    "print('data type:', type(pad_data))\n",
    "print('train_data_text 0:', train_data_text[0])\n",
    "print('data 0:', pad_data[0])"
   ]
  },
  {
   "cell_type": "code",
   "execution_count": 58,
   "id": "a1e8c616",
   "metadata": {},
   "outputs": [],
   "source": [
    "def to_one_hot(sequences, dimension):\n",
    "    results = np.zeros((len(sequences), dimension))\n",
    "    for i, sequence in enumerate(sequences):\n",
    "        results[i, sequence] = 1.\n",
    "    return results\n",
    "\n",
    "# x_train = to_one_hot(pad_data, dimension=max_words)\n",
    "x_train = pad_data"
   ]
  },
  {
   "cell_type": "code",
   "execution_count": 59,
   "id": "90ebae9d",
   "metadata": {},
   "outputs": [],
   "source": [
    "# print('train_data_text type:', type(train_data_text))\n",
    "# print(len(train_data_text[0]))\n",
    "# print('texts 0:', train_data_text[0])\n",
    "\n",
    "# print('data type:', type(x_train))\n",
    "# print(len(x_train[0]))\n",
    "# print('x_train [0][0:100]:', x_train[0][:100])"
   ]
  },
  {
   "cell_type": "code",
   "execution_count": 60,
   "id": "31f15283",
   "metadata": {},
   "outputs": [
    {
     "name": "stdout",
     "output_type": "stream",
     "text": [
      "['IT_과학' '경제' '국제' '문화' '미분류' '사회' '스포츠' '정치' '지역']\n"
     ]
    }
   ],
   "source": [
    "from sklearn.preprocessing import LabelEncoder\n",
    "le = LabelEncoder()\n",
    "le.fit(train_data_label)\n",
    "print(le.classes_)\n",
    "train_data_label = le.transform(train_data_label)"
   ]
  },
  {
   "cell_type": "code",
   "execution_count": 61,
   "id": "5bb12e1f",
   "metadata": {},
   "outputs": [],
   "source": [
    "test_data_label = le.transform(test_data_label)"
   ]
  },
  {
   "cell_type": "code",
   "execution_count": 62,
   "id": "139ffcef",
   "metadata": {},
   "outputs": [
    {
     "name": "stdout",
     "output_type": "stream",
     "text": [
      "[[0. 0. 1. ... 0. 0. 0.]\n",
      " [0. 0. 0. ... 0. 0. 1.]\n",
      " [0. 0. 0. ... 1. 0. 0.]\n",
      " ...\n",
      " [0. 0. 0. ... 1. 0. 0.]\n",
      " [0. 1. 0. ... 0. 0. 0.]\n",
      " [0. 0. 0. ... 0. 0. 1.]]\n"
     ]
    }
   ],
   "source": [
    "class_number = len(le.classes_)\n",
    "y_train = to_one_hot(train_data_label, dimension=class_number)\n",
    "print(y_train)"
   ]
  },
  {
   "cell_type": "code",
   "execution_count": 63,
   "id": "7a7e1dfe",
   "metadata": {},
   "outputs": [
    {
     "name": "stdout",
     "output_type": "stream",
     "text": [
      "[[0. 1. 0. ... 0. 0. 0.]\n",
      " [0. 0. 1. ... 0. 0. 0.]\n",
      " [0. 0. 1. ... 0. 0. 0.]\n",
      " ...\n",
      " [0. 0. 1. ... 0. 0. 0.]\n",
      " [0. 1. 0. ... 0. 0. 0.]\n",
      " [0. 0. 1. ... 0. 0. 0.]]\n"
     ]
    }
   ],
   "source": [
    "data_test = tokenizer.texts_to_sequences(test_data_text)\n",
    "\n",
    "data_test = pad_sequences(data_test, maxlen=maxlen)\n",
    "\n",
    "x_test = data_test\n",
    "\n",
    "y_test = to_one_hot(test_data_label, dimension=class_number)\n",
    "print(y_test)"
   ]
  },
  {
   "cell_type": "code",
   "execution_count": 64,
   "id": "902faffb",
   "metadata": {},
   "outputs": [
    {
     "name": "stdout",
     "output_type": "stream",
     "text": [
      "훈련 데이터 본문 텐서의 크기: (6792, 40)\n",
      "훈련 데이터 레이블 텐서의 크기: (6792, 9)\n",
      "테스트 데이터 본문 텐서의 크기: (2265, 40)\n",
      "테스트 데이터 레이블 텐서의 크기: (2265, 9)\n"
     ]
    }
   ],
   "source": [
    "print('훈련 데이터 본문 텐서의 크기:', x_train.shape)\n",
    "print('훈련 데이터 레이블 텐서의 크기:', y_train.shape)\n",
    "\n",
    "print('테스트 데이터 본문 텐서의 크기:', x_test.shape)\n",
    "print('테스트 데이터 레이블 텐서의 크기:', y_test.shape)"
   ]
  },
  {
   "cell_type": "code",
   "execution_count": 65,
   "id": "5f74c0d2",
   "metadata": {},
   "outputs": [
    {
     "data": {
      "text/plain": [
       "(6792, 9)"
      ]
     },
     "execution_count": 65,
     "metadata": {},
     "output_type": "execute_result"
    }
   ],
   "source": [
    "y_train.shape"
   ]
  },
  {
   "cell_type": "code",
   "execution_count": 66,
   "id": "76fd0f5e",
   "metadata": {},
   "outputs": [
    {
     "name": "stdout",
     "output_type": "stream",
     "text": [
      "/Users/jsha/gjai/nlp/pytest/18_practice\r\n"
     ]
    }
   ],
   "source": [
    "!pwd"
   ]
  },
  {
   "cell_type": "code",
   "execution_count": null,
   "id": "d3847b12",
   "metadata": {},
   "outputs": [],
   "source": []
  },
  {
   "cell_type": "markdown",
   "id": "eb71b722",
   "metadata": {},
   "source": [
    "## we+LSTM+dropout"
   ]
  },
  {
   "cell_type": "code",
   "execution_count": 67,
   "id": "eeb318a7",
   "metadata": {},
   "outputs": [],
   "source": [
    "import os\n",
    "\n",
    "class_number = y_train.shape[-1]\n",
    "epochs = 10\n",
    "batch_size = 50\n",
    "embedding_dim = 200\n",
    "model_name = '분류1_we_lstm_TextCNN_model.h5'\n",
    "tokenizer_name = '분류1_we_lstm_TextCNN_token.pickle'\n",
    "labelencode_name = '분류1_we_lstm_TextCNN_le.pickle'\n",
    "\n",
    "# working_path = '/Users/jsha/gjai/nlp/pytest/15_working/'\n",
    "# save_path = working_path + 'practice/'\n",
    "# if not os.path.exists(save_path):\n",
    "#     os.mkdir(save_path)\n",
    "#     print(f'made {save_path} directory')\n",
    "# os.chdir(save_path)"
   ]
  },
  {
   "cell_type": "code",
   "execution_count": 69,
   "id": "0bb350de",
   "metadata": {},
   "outputs": [
    {
     "name": "stdout",
     "output_type": "stream",
     "text": [
      "Model: \"sequential_2\"\n",
      "_________________________________________________________________\n",
      "Layer (type)                 Output Shape              Param #   \n",
      "=================================================================\n",
      "embedding_2 (Embedding)      (None, 40, 200)           2000000   \n",
      "_________________________________________________________________\n",
      "conv1d_3 (Conv1D)            (None, 38, 128)           76928     \n",
      "_________________________________________________________________\n",
      "max_pooling1d_3 (MaxPooling1 (None, 19, 128)           0         \n",
      "_________________________________________________________________\n",
      "dropout_4 (Dropout)          (None, 19, 128)           0         \n",
      "_________________________________________________________________\n",
      "conv1d_4 (Conv1D)            (None, 17, 64)            24640     \n",
      "_________________________________________________________________\n",
      "max_pooling1d_4 (MaxPooling1 (None, 8, 64)             0         \n",
      "_________________________________________________________________\n",
      "dropout_5 (Dropout)          (None, 8, 64)             0         \n",
      "_________________________________________________________________\n",
      "lstm_2 (LSTM)                (None, 32)                12416     \n",
      "_________________________________________________________________\n",
      "dropout_6 (Dropout)          (None, 32)                0         \n",
      "_________________________________________________________________\n",
      "dense_1 (Dense)              (None, 16)                528       \n",
      "_________________________________________________________________\n",
      "dense_2 (Dense)              (None, 9)                 153       \n",
      "=================================================================\n",
      "Total params: 2,114,665\n",
      "Trainable params: 2,114,665\n",
      "Non-trainable params: 0\n",
      "_________________________________________________________________\n"
     ]
    }
   ],
   "source": [
    "from keras.models import Sequential\n",
    "from keras.layers import Dense, Dropout\n",
    "from keras import layers\n",
    "from keras import regularizers\n",
    "\n",
    "model = Sequential()\n",
    "\n",
    "model.add(layers.Embedding(input_dim=max_words, output_dim=embedding_dim, \n",
    "                          input_length=maxlen))\n",
    "\n",
    "\n",
    "model.add(layers.Conv1D(128, kernel_size=(3,), activation='relu'))\n",
    "model.add(layers.MaxPooling1D(pool_size=2))\n",
    "model.add(layers.Dropout(0.25))\n",
    "\n",
    "model.add(layers.Conv1D(64, kernel_size=(3,), activation='relu'))\n",
    "model.add(layers.MaxPooling1D(pool_size=2))\n",
    "model.add(layers.Dropout(0.25))\n",
    "\n",
    "model.add(layers.LSTM(32))\n",
    "model.add(Dropout(0.5))\n",
    "\n",
    "model.add(Dense(units=16, activation='relu'))\n",
    "model.add(Dense(units=class_number, activation='softmax'))\n",
    "\n",
    "model.summary()"
   ]
  },
  {
   "cell_type": "code",
   "execution_count": 70,
   "id": "eb02cece",
   "metadata": {},
   "outputs": [
    {
     "name": "stdout",
     "output_type": "stream",
     "text": [
      "/Users/jsha/gjai/nlp/pytest/18_practice/ --- Folder already exists\n",
      "\n"
     ]
    }
   ],
   "source": [
    "from keras.callbacks import EarlyStopping\n",
    "import os\n",
    "\n",
    "checkpoint_path = working_path\n",
    "# checkpoint_dir = os.path.dirname(checkpoint_path)\n",
    "if os.path.exists(checkpoint_path):\n",
    "    print('{} --- Folder already exists\\n'.format(checkpoint_path))\n",
    "else:\n",
    "    os.makedirs(checkpoint_path, exist_ok=True)\n",
    "    print('{} --- Folder created\\n'.format(checkpoint_path))"
   ]
  },
  {
   "cell_type": "code",
   "execution_count": 71,
   "id": "d52f5d79",
   "metadata": {},
   "outputs": [],
   "source": [
    "model.compile(optimizer='rmsprop', loss='categorical_crossentropy',\n",
    "             metrics=['acc'])"
   ]
  },
  {
   "cell_type": "code",
   "execution_count": 72,
   "id": "dd08e0db",
   "metadata": {
    "scrolled": true
   },
   "outputs": [
    {
     "name": "stderr",
     "output_type": "stream",
     "text": [
      "/Users/jsha/opt/anaconda3/envs/nlp3710/lib/python3.7/site-packages/tensorflow_core/python/framework/indexed_slices.py:424: UserWarning: Converting sparse IndexedSlices to a dense Tensor of unknown shape. This may consume a large amount of memory.\n",
      "  \"Converting sparse IndexedSlices to a dense Tensor of unknown shape. \"\n"
     ]
    },
    {
     "name": "stdout",
     "output_type": "stream",
     "text": [
      "Train on 4754 samples, validate on 2038 samples\n",
      "Epoch 1/10\n",
      "4754/4754 [==============================] - 10s 2ms/step - loss: 1.8072 - acc: 0.2913 - val_loss: 1.6495 - val_acc: 0.3224\n",
      "\n",
      "Epoch 00001: val_acc improved from -inf to 0.32237, saving model to /Users/jsha/gjai/nlp/pytest/18_practice/분류1_we_lstm_TextCNN_model.h5\n",
      "Epoch 2/10\n",
      "4754/4754 [==============================] - 8s 2ms/step - loss: 1.2548 - acc: 0.5890 - val_loss: 1.1406 - val_acc: 0.6129\n",
      "\n",
      "Epoch 00002: val_acc improved from 0.32237 to 0.61286, saving model to /Users/jsha/gjai/nlp/pytest/18_practice/분류1_we_lstm_TextCNN_model.h5\n",
      "Epoch 3/10\n",
      "4754/4754 [==============================] - 9s 2ms/step - loss: 0.9236 - acc: 0.6613 - val_loss: 1.1016 - val_acc: 0.6261\n",
      "\n",
      "Epoch 00003: val_acc improved from 0.61286 to 0.62610, saving model to /Users/jsha/gjai/nlp/pytest/18_practice/분류1_we_lstm_TextCNN_model.h5\n",
      "Epoch 4/10\n",
      "4754/4754 [==============================] - 8s 2ms/step - loss: 0.7693 - acc: 0.7061 - val_loss: 1.1501 - val_acc: 0.6340\n",
      "\n",
      "Epoch 00004: val_acc improved from 0.62610 to 0.63395, saving model to /Users/jsha/gjai/nlp/pytest/18_practice/분류1_we_lstm_TextCNN_model.h5\n",
      "Epoch 5/10\n",
      "4754/4754 [==============================] - 9s 2ms/step - loss: 0.6156 - acc: 0.7865 - val_loss: 1.2902 - val_acc: 0.6658\n",
      "\n",
      "Epoch 00005: val_acc improved from 0.63395 to 0.66585, saving model to /Users/jsha/gjai/nlp/pytest/18_practice/분류1_we_lstm_TextCNN_model.h5\n",
      "Epoch 6/10\n",
      "4754/4754 [==============================] - 9s 2ms/step - loss: 0.4604 - acc: 0.8639 - val_loss: 1.1725 - val_acc: 0.6850\n",
      "\n",
      "Epoch 00006: val_acc improved from 0.66585 to 0.68499, saving model to /Users/jsha/gjai/nlp/pytest/18_practice/분류1_we_lstm_TextCNN_model.h5\n",
      "Epoch 7/10\n",
      "4754/4754 [==============================] - 9s 2ms/step - loss: 0.3311 - acc: 0.9087 - val_loss: 1.3167 - val_acc: 0.6943\n",
      "\n",
      "Epoch 00007: val_acc improved from 0.68499 to 0.69431, saving model to /Users/jsha/gjai/nlp/pytest/18_practice/분류1_we_lstm_TextCNN_model.h5\n",
      "Epoch 8/10\n",
      "4754/4754 [==============================] - 9s 2ms/step - loss: 0.2599 - acc: 0.9316 - val_loss: 1.3670 - val_acc: 0.6923\n",
      "\n",
      "Epoch 00008: val_acc did not improve from 0.69431\n",
      "Epoch 9/10\n",
      "4754/4754 [==============================] - 9s 2ms/step - loss: 0.1949 - acc: 0.9514 - val_loss: 1.5343 - val_acc: 0.6909\n",
      "\n",
      "Epoch 00009: val_acc did not improve from 0.69431\n",
      "Epoch 10/10\n",
      "4754/4754 [==============================] - 9s 2ms/step - loss: 0.1403 - acc: 0.9630 - val_loss: 1.7109 - val_acc: 0.6958\n",
      "\n",
      "Epoch 00010: val_acc improved from 0.69431 to 0.69578, saving model to /Users/jsha/gjai/nlp/pytest/18_practice/분류1_we_lstm_TextCNN_model.h5\n"
     ]
    }
   ],
   "source": [
    "from keras.callbacks import ModelCheckpoint\n",
    "\n",
    "# earlystop_callback = EarlyStopping(monitor='val_acc', patience=2)\n",
    "cp_callback = ModelCheckpoint(filepath=checkpoint_path+model_name,\n",
    "                             monitor='val_acc', verbose=1, \n",
    "                             save_best_only=True)\n",
    "history = model.fit(x_train, y_train, epochs=epochs,\n",
    "                   batch_size=batch_size, validation_split=0.3,\n",
    "                   callbacks=[cp_callback], verbose=1)\n",
    "history_dict = history.history"
   ]
  },
  {
   "cell_type": "code",
   "execution_count": 78,
   "id": "c6bc8251",
   "metadata": {},
   "outputs": [],
   "source": [
    "import pickle\n",
    "\n",
    "# model.save(model_name)\n",
    "\n",
    "with open(checkpoint_path+atokenizer_name, 'wb') as file:\n",
    "    pickle.dump(tokenizer, file, protocol=pickle.HIGHEST_PROTOCOL)\n",
    "    "
   ]
  },
  {
   "cell_type": "markdown",
   "id": "064c866d",
   "metadata": {},
   "source": [
    "### 결과"
   ]
  },
  {
   "cell_type": "code",
   "execution_count": 74,
   "id": "b5e951a6",
   "metadata": {},
   "outputs": [
    {
     "name": "stdout",
     "output_type": "stream",
     "text": [
      "validation accuracy of each epoch: [0.322 0.613 0.626 0.634 0.666 0.685 0.694 0.692 0.691 0.696]\n",
      "validation loss of each epoch: [1.65  1.141 1.102 1.15  1.29  1.173 1.317 1.367 1.534 1.711]\n"
     ]
    }
   ],
   "source": [
    "acc = history.history['acc']\n",
    "val_acc = history.history['val_acc']\n",
    "loss = history.history['loss']\n",
    "val_loss = history.history['val_loss']\n",
    "\n",
    "# acc_list.append(acc)\n",
    "# val_acc_list.append(val_acc)\n",
    "# loss_list.append(loss)\n",
    "# val_loss_list.append(val_loss)\n",
    "\n",
    "print('validation accuracy of each epoch:', np.round(val_acc,3))\n",
    "epochs = range(1, len(val_acc)+1)\n",
    "print('validation loss of each epoch:', np.round(val_loss,3))"
   ]
  },
  {
   "cell_type": "code",
   "execution_count": 75,
   "id": "2b699548",
   "metadata": {
    "scrolled": true
   },
   "outputs": [
    {
     "data": {
      "image/png": "[encoded data removed]",
      "text/plain": [
       "<Figure size 432x288 with 1 Axes>"
      ]
     },
     "metadata": {
      "needs_background": "light"
     },
     "output_type": "display_data"
    }
   ],
   "source": [
    "import matplotlib.pyplot as plt\n",
    "\n",
    "plt.plot(epochs, acc, 'bo', label='Training Acc')\n",
    "plt.plot(epochs, val_acc, 'r', label='Validation Acc')\n",
    "plt.title('Training and Validation Accuracy')\n",
    "plt.legend(loc=4)\n",
    "plt.show()"
   ]
  },
  {
   "cell_type": "code",
   "execution_count": 76,
   "id": "64dbbbf5",
   "metadata": {},
   "outputs": [
    {
     "data": {
      "image/png": "[encoded data removed]",
      "text/plain": [
       "<Figure size 432x288 with 1 Axes>"
      ]
     },
     "metadata": {
      "needs_background": "light"
     },
     "output_type": "display_data"
    }
   ],
   "source": [
    "plt.plot(epochs, loss, 'bo', label='Training Loss')\n",
    "plt.plot(epochs, val_loss, 'r', label='Validation Loss')\n",
    "plt.title('Training and Validation loss')\n",
    "plt.legend(loc=1)\n",
    "plt.show()"
   ]
  },
  {
   "cell_type": "code",
   "execution_count": 79,
   "id": "d1bb909a",
   "metadata": {},
   "outputs": [
    {
     "name": "stderr",
     "output_type": "stream",
     "text": [
      "/Users/jsha/opt/anaconda3/envs/nlp3710/lib/python3.7/site-packages/tensorflow_core/python/framework/indexed_slices.py:424: UserWarning: Converting sparse IndexedSlices to a dense Tensor of unknown shape. This may consume a large amount of memory.\n",
      "  \"Converting sparse IndexedSlices to a dense Tensor of unknown shape. \"\n"
     ]
    }
   ],
   "source": [
    "from keras.models import load_model\n",
    "\n",
    "loaded_model = load_model(checkpoint_path+model_name)\n",
    "\n",
    "# with open(checkpoint_path+tokenizer_name, 'rb') as handle:\n",
    "#     loaded_tokenizer = pickle.load(handle)"
   ]
  },
  {
   "cell_type": "code",
   "execution_count": 80,
   "id": "a6b0910d",
   "metadata": {},
   "outputs": [
    {
     "name": "stdout",
     "output_type": "stream",
     "text": [
      "2265/2265 [==============================] - 1s 587us/step\n",
      "prediction\n",
      "prediction model loss & acc: [1.6900235024509052, 0.6887417435646057]\n"
     ]
    }
   ],
   "source": [
    "test_eval = loaded_model.evaluate(x_test, y_test)\n",
    "\n",
    "print('prediction')\n",
    "print('prediction model loss & acc:', test_eval)"
   ]
  },
  {
   "cell_type": "code",
   "execution_count": null,
   "id": "c3637f64",
   "metadata": {},
   "outputs": [],
   "source": [
    "a"
   ]
  }
 ],
 "metadata": {
  "kernelspec": {
   "display_name": "nlp3710",
   "language": "python",
   "name": "nlp3710"
  },
  "language_info": {
   "codemirror_mode": {
    "name": "ipython",
    "version": 3
   },
   "file_extension": ".py",
   "mimetype": "text/x-python",
   "name": "python",
   "nbconvert_exporter": "python",
   "pygments_lexer": "ipython3",
   "version": "3.7.10"
  },
  "toc": {
   "base_numbering": 1,
   "nav_menu": {},
   "number_sections": true,
   "sideBar": true,
   "skip_h1_title": false,
   "title_cell": "Table of Contents",
   "title_sidebar": "Contents",
   "toc_cell": false,
   "toc_position": {},
   "toc_section_display": true,
   "toc_window_display": false
  }
 },
 "nbformat": 4,
 "nbformat_minor": 5
}
