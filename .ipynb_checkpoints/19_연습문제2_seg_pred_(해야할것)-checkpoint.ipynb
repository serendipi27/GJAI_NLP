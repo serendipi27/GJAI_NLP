{
 "cells": [
  {
   "cell_type": "markdown",
   "id": "f435a51d",
   "metadata": {},
   "source": [
    "# 문제: 자연 풍경 이미지 분류하기\n",
    "- seg_pred 폴더에는 분류가 되어 있지 않은 파일들이 있다\n",
    "- 각각의 파일을 읽고, 예측하여 “seg_new” 라는 폴더를 만들어 예측된 분류명을 파일명으 로 하여 이미지를 생성하시오 (예: glacier_001.jpg)\n",
    "- 생성된 파일의 이미지와 파일명을 눈으로 보고 올바르게 분류되었는지 보시오 (정확도 계산은 없음)\n"
   ]
  },
  {
   "cell_type": "code",
   "execution_count": 1,
   "id": "29f93e67",
   "metadata": {},
   "outputs": [],
   "source": [
    "import os, sys\n",
    "from IPython.display import display\n",
    "from IPython.display import Image as _Imgdis\n",
    "from PIL import Image\n",
    "import numpy as np"
   ]
  },
  {
   "cell_type": "code",
   "execution_count": 4,
   "id": "ce76dbd0",
   "metadata": {},
   "outputs": [
    {
     "data": {
      "text/plain": [
       "'/Users/jsha/gjai/nlp/pytest_img/seg_pred/63.jpg'"
      ]
     },
     "execution_count": 4,
     "metadata": {},
     "output_type": "execute_result"
    }
   ],
   "source": [
    "foldername = '/Users/jsha/gjai/nlp/pytest_img/seg_pred/'\n",
    "\n",
    "file_names = [os.path.join(foldername, name) for name in os.listdir(foldername)]\n",
    "file_names[0]"
   ]
  },
  {
   "cell_type": "code",
   "execution_count": 7,
   "id": "c6860fe1",
   "metadata": {
    "scrolled": true
   },
   "outputs": [
    {
     "data": {
      "image/jpeg": "[encoded data removed]",
      "text/plain": [
       "<IPython.core.display.Image object>"
      ]
     },
     "metadata": {
      "image/jpeg": {
       "height": 120,
       "width": 120
      }
     },
     "output_type": "display_data"
    },
    {
     "data": {
      "image/jpeg": "[encoded data removed]",
      "text/plain": [
       "<IPython.core.display.Image object>"
      ]
     },
     "metadata": {
      "image/jpeg": {
       "height": 120,
       "width": 120
      }
     },
     "output_type": "display_data"
    }
   ],
   "source": [
    "for i in range(0, 2):\n",
    "    display(_Imgdis(filename=file_names[i], \n",
    "                                         width=120, height=120))"
   ]
  },
  {
   "cell_type": "code",
   "execution_count": 9,
   "id": "07e8c779",
   "metadata": {},
   "outputs": [
    {
     "name": "stdout",
     "output_type": "stream",
     "text": [
      "Original: <class 'PIL.JpegImagePlugin.JpegImageFile'>\n",
      "NumPy array info:\n",
      "<class 'numpy.ndarray'>\n",
      "type: float32\n",
      "shape: (150, 150, 3)\n"
     ]
    }
   ],
   "source": [
    "from tensorflow.keras.preprocessing.image import array_to_img, img_to_array, load_img\n",
    "\n",
    "img = load_img(file_names[0])\n",
    "print('Original:', type(img))\n",
    "\n",
    "img_array = img_to_array(img)\n",
    "\n",
    "print(\"NumPy array info:\")\n",
    "print(type(img_array))\n",
    "print(\"type:\", img_array.dtype)\n",
    "print('shape:', img_array.shape)"
   ]
  },
  {
   "cell_type": "code",
   "execution_count": 10,
   "id": "c3b549ce",
   "metadata": {},
   "outputs": [
    {
     "name": "stdout",
     "output_type": "stream",
     "text": [
      "Original: <class 'PIL.JpegImagePlugin.JpegImageFile'>\n",
      "NumPy array info:\n",
      "<class 'numpy.ndarray'>\n",
      "type: float32\n",
      "shape: (150, 150, 3)\n"
     ]
    }
   ],
   "source": [
    "img = load_img(file_names[-1])\n",
    "print('Original:', type(img))\n",
    "\n",
    "img_array = img_to_array(img)\n",
    "\n",
    "print(\"NumPy array info:\")\n",
    "print(type(img_array))\n",
    "print(\"type:\", img_array.dtype)\n",
    "print('shape:', img_array.shape)"
   ]
  },
  {
   "cell_type": "code",
   "execution_count": 11,
   "id": "cf36c6c8",
   "metadata": {},
   "outputs": [
    {
     "name": "stdout",
     "output_type": "stream",
     "text": [
      "(7301, 150, 150, 3)\n"
     ]
    }
   ],
   "source": [
    "image_height = 150\n",
    "image_width = 150\n",
    "channels = 3\n",
    "\n",
    "dataset = np.ndarray(shape=(len(file_names), image_height,\n",
    "                           image_width, channels), dtype=np.int32)\n",
    "print(dataset.shape)"
   ]
  },
  {
   "cell_type": "code",
   "execution_count": 12,
   "id": "25c5e896",
   "metadata": {},
   "outputs": [
    {
     "name": "stdout",
     "output_type": "stream",
     "text": [
      "0 images to array\n",
      "3000 images to array\n",
      "6000 images to array\n",
      "All images to array!\n"
     ]
    }
   ],
   "source": [
    "import cv2\n",
    "\n",
    "for count, item in enumerate(file_names):\n",
    "    img_cv = load_img(item)\n",
    "    img_array_cv = img_to_array(img_cv)\n",
    "    img_array_cv = cv2.resize(img_array_cv, (image_height,image_width))\n",
    "    dataset[count] = img_array_cv    \n",
    "    if count % 3000 == 0:\n",
    "        print(\"%d images to array\" % count)\n",
    "        \n",
    "print('All images to array!')"
   ]
  },
  {
   "cell_type": "code",
   "execution_count": 13,
   "id": "5c910545",
   "metadata": {},
   "outputs": [
    {
     "name": "stdout",
     "output_type": "stream",
     "text": [
      "(7301, 150, 150, 3)\n"
     ]
    }
   ],
   "source": [
    "print(dataset.shape)"
   ]
  },
  {
   "cell_type": "code",
   "execution_count": 14,
   "id": "2884e625",
   "metadata": {
    "scrolled": false
   },
   "outputs": [
    {
     "name": "stdout",
     "output_type": "stream",
     "text": [
      "[[255 252 249 ...  32  32  32]\n",
      " [255 255 255 ...  33  32  32]\n",
      " [127 139 145 ...  32  32  32]\n",
      " ...\n",
      " [ 18   3   0 ... 110 109 107]\n",
      " [ 72  38  26 ...  90  89  86]\n",
      " [ 92  72  91 ... 106 106 105]]\n"
     ]
    }
   ],
   "source": [
    "np.set_printoptions(linewidth=np.inf)\n",
    "print(dataset[4000, :, :, 0])"
   ]
  },
  {
   "cell_type": "code",
   "execution_count": 1,
   "id": "e45459dc",
   "metadata": {},
   "outputs": [
    {
     "ename": "NameError",
     "evalue": "name 'dataset' is not defined",
     "output_type": "error",
     "traceback": [
      "\u001b[0;31m---------------------------------------------------------------------------\u001b[0m",
      "\u001b[0;31mNameError\u001b[0m                                 Traceback (most recent call last)",
      "\u001b[0;32m<ipython-input-1-a79eaadc7084>\u001b[0m in \u001b[0;36m<module>\u001b[0;34m\u001b[0m\n\u001b[1;32m      1\u001b[0m \u001b[0;31m# train_images = train_images.reshape((len(train_images), 28, 28, 3))\u001b[0m\u001b[0;34m\u001b[0m\u001b[0;34m\u001b[0m\u001b[0;34m\u001b[0m\u001b[0m\n\u001b[0;32m----> 2\u001b[0;31m \u001b[0mpred_images\u001b[0m \u001b[0;34m=\u001b[0m \u001b[0mdataset\u001b[0m\u001b[0;34m.\u001b[0m\u001b[0mastype\u001b[0m\u001b[0;34m(\u001b[0m\u001b[0;34m'float32'\u001b[0m\u001b[0;34m)\u001b[0m \u001b[0;34m/\u001b[0m \u001b[0;36m255\u001b[0m\u001b[0;34m\u001b[0m\u001b[0;34m\u001b[0m\u001b[0m\n\u001b[0m",
      "\u001b[0;31mNameError\u001b[0m: name 'dataset' is not defined"
     ]
    }
   ],
   "source": [
    "# train_images = train_images.reshape((len(train_images), 28, 28, 3))\n",
    "pred_images = dataset.astype('float32') / 255\n"
   ]
  },
  {
   "cell_type": "code",
   "execution_count": null,
   "id": "f55a8929",
   "metadata": {},
   "outputs": [],
   "source": [
    "from keras.models import load_model\n",
    "import os\n",
    "\n",
    "save_path = '/Users/jsha/gjai/nlp/19_practice/'\n",
    "model_name = 'seg.h5'\n",
    "\n",
    "loaded_model = load_model(save_path+model_name)\n",
    "\n",
    "pred_eval = loaded_model.predict(pred_images)\n",
    "\n",
    "print('prediction model loss & acc', pred_eval)"
   ]
  },
  {
   "cell_type": "code",
   "execution_count": null,
   "id": "8ada399c",
   "metadata": {},
   "outputs": [],
   "source": []
  }
 ],
 "metadata": {
  "kernelspec": {
   "display_name": "nlp3710",
   "language": "python",
   "name": "nlp3710"
  },
  "language_info": {
   "codemirror_mode": {
    "name": "ipython",
    "version": 3
   },
   "file_extension": ".py",
   "mimetype": "text/x-python",
   "name": "python",
   "nbconvert_exporter": "python",
   "pygments_lexer": "ipython3",
   "version": "3.7.10"
  },
  "toc": {
   "base_numbering": 1,
   "nav_menu": {},
   "number_sections": true,
   "sideBar": true,
   "skip_h1_title": false,
   "title_cell": "Table of Contents",
   "title_sidebar": "Contents",
   "toc_cell": false,
   "toc_position": {},
   "toc_section_display": true,
   "toc_window_display": false
  }
 },
 "nbformat": 4,
 "nbformat_minor": 5
}
