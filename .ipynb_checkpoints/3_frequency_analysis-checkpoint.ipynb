{
 "cells": [
  {
   "cell_type": "markdown",
   "id": "cd0d636d",
   "metadata": {},
   "source": [
    "# 빅데이터 분석의 목적\n",
    "- 기업의 의사결정을 도움\n",
    "- 기업의 의사결정은 비즈니스의 성패와 직결\n",
    "- 자원, 인력, 시간, 예산이 한정적이기에 기업 성과를 높이기 위해 타당한 근거로 타겟점을 정확하게 인지하고, 집중적으로 정복해야 함.\n",
    "- 기업의 빅데이터 분석 사례\n",
    "    - 아모레퍼시픽\n",
    "        - 멤버쉽 카드 가입을 통한 회원 자료 수집\n",
    "        - 소비 행태 분석 및 타겟팅 마케팅 활용\n",
    "    - 신한은행 war room\n",
    "        - VIP 타겟으로 서비스 제공\n",
    "    - 자동차 렌탈 Hertz\n",
    "        - 접수받은 이메일, 콜센터, 회사홈페이지 게시판의 글을 통해 고객 불만 파악\n",
    "        - 지점 - 서비스 -고객불만의 연결성을 확인\n",
    "        - 개선점을 찾고 해소하여 경영 성과를 높임\n",
    "        \n"
   ]
  },
  {
   "cell_type": "markdown",
   "id": "cf3ab7b1",
   "metadata": {},
   "source": [
    "# 빅데이터 분석 예시\n",
    "## 충북관광 빅데이터 분석\n",
    "- 충북지역 대표 6대 관광지를 방문한 관광객의 후기 TEXT 분석\n",
    "- 일반명사(NNG) 분석: 일반적인 내용 파악. 예시) 마늘, 만두, 단풍 --> 충북지역의 명물\n",
    "- 고유명사(NNP) 분석: 구체적 내용 파악. 정확한 식당이름, 특이한 음식 이름. --> 구체적으로 사람들이 어디에 갔는지, 무엇을 먹었는지 등을 파악함.\n",
    "- 중요한 것은, NNG와 NNP를 뽑아놓고, 심상에 무언가가 떠오를 때까지 계속 읽어야 함. 상위 빈도 100 일반 명사를 뽑아 놓고, 이들이 무엇을 시사하는지 grouping을 해야 하는데, 그걸 하기 위해서는 이들 100개의 단어가 풍기는 심상을 이해할 필요가 있음.\n",
    "- 떠오르는 심상을 바탕으로 단어들을 grouping하여 적절한 title을 붙여줘야 함. 이게 잘 안된다면, 6하원칙에 근거하여 title을 지정해 줘도 됨.\n",
    "- 박석재 강사님의 결론\n",
    "    - 편안한 힐링 & 가벼운 체험\n",
    "- 이를 뒷받침하는 키워드\n",
    "    - 아름다운 자연\n",
    "    - 트레킹 및 드라이브\n",
    "    - 지역 특유의 먹거리\n",
    "    - 문화행사와 체험행사\n",
    "    - 편의시설(숙박, 주차장, 카페)\n",
    "- 키워드는 3~5개 정도로 grouping하여 naming 할 것.\n",
    "- 상식선에서 무리하지 않게 대부분이 공감할 수 있는 수준일 것.\n",
    "\n",
    "## 영화 시놉시스 분석\n",
    "- 목적: 흥행에 성공한 상위 30위 영화들의 시놉시스의 단어 빈도 분석을 통해, 흥행을 이끄는 시놉시스 작성에 대한 인사이트를 제공\n",
    "    - 빈도분석을 통해 시놉시스에 사용할 어휘 분석\n",
    "    - 문체를 다듬는 인사이트\n",
    "    - 어휘 + 문체를 바탕으로 시놉시스 제시안 작성\n",
    "- 사전 설문조사를 통해 영화를 선정하는데 영향을 미치는 요소를 파악\n",
    "    - 장르\n",
    "    - 시놉시스\n",
    "    - 출연배우 순\n",
    "- 시놉시스 길이와 영화관람객 수 관계 파악\n",
    "    - 대략 138~156자 사이\n",
    "- 상위 30% 영화에서 사용된 명사 추출 및 grouping\n",
    "    - 자극적인 주변사람\n",
    "    - 자극적인 이상적 존재\n",
    "    - 긍정적 또는 부정적 이상점\n",
    "    - 이 모든 것의 이야기\n",
    "- 상위 30% 영화에서 사용된 동사 추출 및 grouping\n",
    "    - 내게로 오다. 재회. 무언가를 가지고 찾아온다. 기대감.\n",
    "    - 너를 어떤 곳에 보낸다. 이상점으로 보낸다. 기대감. 두근거림.\n",
    "    - grouping 할 때, 가능한 명사 추출 때 사용한 group name에 맞추면 좋아.\n",
    "- 문체: straight 기사 문장의 구조를 참조\n",
    "    - 시놉시스는 \"중요한 정보를 간결하게 전달한다는 점!!\"\n",
    "    - 1. 리드(Lead): 무게중심이 가장 큰 내용을 간결하게 핵심 정리. 제목 느낌. 첫문장만 읽어도 무슨 내용인지 어떤 주제인지 짐작할 수 잇게 함.\n",
    "    - 2. 중요사실: 중요한 보충 사실로 내용을 구체화. 핵심 내용을 반복적으로 언급함. \n",
    "    - 3. 보충사실: 흥미로운 내용으로 자세한 내용을 전함."
   ]
  },
  {
   "cell_type": "markdown",
   "id": "c988065c",
   "metadata": {},
   "source": [
    "# 빈도 분석 - Frequency Analysis"
   ]
  },
  {
   "cell_type": "markdown",
   "id": "be25aada",
   "metadata": {},
   "source": [
    "## 폰트 설정"
   ]
  },
  {
   "cell_type": "code",
   "execution_count": 1,
   "id": "ec6214da",
   "metadata": {},
   "outputs": [],
   "source": [
    "from matplotlib import rc\n",
    "rc('font', family='AppleGothic')"
   ]
  },
  {
   "cell_type": "markdown",
   "id": "cb33fa16",
   "metadata": {},
   "source": [
    "## 네이버 영화평 자료 가져오기"
   ]
  },
  {
   "cell_type": "markdown",
   "id": "fa3f5a5d",
   "metadata": {},
   "source": [
    "### 동일한 포맷의 파일을 읽고 쓰기 위한 함수 설정\n",
    "- read_data()\n",
    "- write_data()"
   ]
  },
  {
   "cell_type": "code",
   "execution_count": 2,
   "id": "a1c16573",
   "metadata": {},
   "outputs": [],
   "source": [
    "def read_data(filename, encoding='cp949', start=1):\n",
    "    with open(filename, 'r', encoding=encoding) as f:\n",
    "        data = [line.split('\\t') for line in f.read().splitlines()]\n",
    "        data = data[start:]\n",
    "    return data\n",
    "\n",
    "def write_data(data, filename, encoding='cp949'):\n",
    "    with open(filename, 'w', encoding=encoding) as f:\n",
    "        f.write(data)"
   ]
  },
  {
   "cell_type": "markdown",
   "id": "8944bce8",
   "metadata": {},
   "source": [
    "### 'ratings_small.txt' 데이터 불러오기"
   ]
  },
  {
   "cell_type": "code",
   "execution_count": 3,
   "id": "0a2344e2",
   "metadata": {},
   "outputs": [],
   "source": [
    "import chardet\n",
    "\n",
    "path = '/Users/jsha/gjai/nlp/pytest/'\n",
    "filename = 'ratings_small.txt'\n",
    "f = open(path+filename, 'rb').read()\n",
    "encoding = chardet.detect(f)['encoding']\n",
    "# print(encoding)\n",
    "\n",
    "data = read_data(path+filename, encoding=encoding)"
   ]
  },
  {
   "cell_type": "code",
   "execution_count": 4,
   "id": "68e99b4b",
   "metadata": {
    "scrolled": false
   },
   "outputs": [
    {
     "data": {
      "text/plain": [
       "['8112052', '어릴때보고 지금다시봐도 재밌어요ㅋㅋ', '1']"
      ]
     },
     "execution_count": 4,
     "metadata": {},
     "output_type": "execute_result"
    }
   ],
   "source": [
    "data[0]"
   ]
  },
  {
   "cell_type": "markdown",
   "id": "57dbb955",
   "metadata": {},
   "source": [
    "## 어절 단위 통계 분석"
   ]
  },
  {
   "cell_type": "markdown",
   "id": "20af679a",
   "metadata": {},
   "source": [
    "### 어절 단위 통계 분석"
   ]
  },
  {
   "cell_type": "code",
   "execution_count": 5,
   "id": "c71afb06",
   "metadata": {},
   "outputs": [
    {
     "name": "stdout",
     "output_type": "stream",
     "text": [
      "첫 문장 어절 길이: 3\n"
     ]
    }
   ],
   "source": [
    "# 어절 길이 계산. 처음에 마땅한 분석 기준이 없을 때는 문장을 \n",
    "# 어절 단위로 잘라서 그 개수를 세는 방법으로 시작해 보자.\n",
    "\n",
    "len_data = []\n",
    "for d in data:\n",
    "    len_data.append(len(d[1].split()))\n",
    "print(f'첫 문장 어절 길이: {len_data[0]}')\n",
    "\n",
    "# 통계분석\n",
    "import numpy as np\n",
    "print(f'text length 최대: {np.max(len_data)}')\n",
    "print(f'text length 최소: {np.min(len_data)}')\n",
    "print(f'text length 평균: {np.mean(len_data)}')\n",
    "print(f'text length 표준편차: {np.std(len_data)}')\n",
    "print(f'text length 중간값: {np.median(len_data)}')\n",
    "print(f'text length 1사분위: {np.percentile(len_data, 25)}')\n",
    "print(f'text length 3사분위: {np.percentile(len_data, 75)}')\n",
    "print(f'text length 95%: {np.percentile(len_data, 95)}')"
   ]
  },
  {
   "cell_type": "markdown",
   "id": "50488041",
   "metadata": {},
   "source": [
    "### 어절 단위 boxplot으로 이상치 확인"
   ]
  },
  {
   "cell_type": "code",
   "execution_count": 7,
   "id": "1eab4cb6",
   "metadata": {},
   "outputs": [
    {
     "data": {
      "image/png": "[encoded data removed]",
      "text/plain": [
       "<Figure size 576x360 with 1 Axes>"
      ]
     },
     "metadata": {
      "needs_background": "light"
     },
     "output_type": "display_data"
    }
   ],
   "source": [
    "# boxplot\n",
    "import matplotlib.pyplot as plt\n",
    "fig = plt.figure(figsize=(8, 5))\n",
    "ax = fig.add_subplot(111)\n",
    "ax.boxplot(len_data, labels=['어절'], showmeans=True)\n",
    "plt.show()"
   ]
  },
  {
   "cell_type": "markdown",
   "id": "9a2b41d9",
   "metadata": {},
   "source": [
    "**boxplot에서 이상치가 너무 많아 보여서 20 이상의 모두를 제거하는 게 조금 주저된다.**"
   ]
  },
  {
   "cell_type": "code",
   "execution_count": 14,
   "id": "6baadb14",
   "metadata": {},
   "outputs": [
    {
     "name": "stdout",
     "output_type": "stream",
     "text": [
      "전체 수: 500\n",
      "결측치 수: 30\n"
     ]
    }
   ],
   "source": [
    "print('전체 수:', len(len_data))\n",
    "print('결측치 수:', sum(np.array(len_data) > 20))"
   ]
  },
  {
   "cell_type": "markdown",
   "id": "97c0dd23",
   "metadata": {},
   "source": [
    "### 어절 단위 histogram으로 분포 확인"
   ]
  },
  {
   "cell_type": "code",
   "execution_count": 23,
   "id": "e35fe969",
   "metadata": {},
   "outputs": [
    {
     "data": {
      "image/png": "[encoded data removed]",
      "text/plain": [
       "<Figure size 576x360 with 1 Axes>"
      ]
     },
     "metadata": {
      "needs_background": "light"
     },
     "output_type": "display_data"
    }
   ],
   "source": [
    "plt.figure(figsize=(8,5))\n",
    "plt.hist(len_data, bins=150, range=[0, 80], \n",
    "         facecolor='r', density=False, label='어절')\n",
    "plt.title('문장의 어절 수 분포', fontsize=20)\n",
    "plt.legend()\n",
    "plt.xlabel('어절 수', fontsize=15)\n",
    "plt.ylabel('샘플 수', fontsize=15)\n",
    "plt.show()"
   ]
  },
  {
   "cell_type": "code",
   "execution_count": 21,
   "id": "395f0ab9",
   "metadata": {},
   "outputs": [
    {
     "data": {
      "image/png": "[encoded data removed]",
      "text/plain": [
       "<Figure size 576x360 with 1 Axes>"
      ]
     },
     "metadata": {
      "needs_background": "light"
     },
     "output_type": "display_data"
    }
   ],
   "source": [
    "plt.figure(figsize=(8,5))\n",
    "plt.hist(len_data, \n",
    "         facecolor='r', density=False, label='어절')\n",
    "plt.title('문장의 어절 수 분포', fontsize=20)\n",
    "plt.legend()\n",
    "plt.xlabel('어절 수', fontsize=15)\n",
    "plt.ylabel('샘플 수', fontsize=15)\n",
    "plt.show()"
   ]
  },
  {
   "cell_type": "markdown",
   "id": "f09a6853",
   "metadata": {},
   "source": [
    "**30 중반까지 데이터가 뻗어 있다. boxplot에 의해 18 이상이 이상치로 나왔지만, 그건 너무 가혹하고, 30정도로 끊으면 어떨까 생각해 본다.**"
   ]
  },
  {
   "cell_type": "markdown",
   "id": "08be9faa",
   "metadata": {},
   "source": [
    "## 형태소 분석\n",
    "- **(주의사항**)빈도 분석에서는 단어가 몇 번 나왔는지 명확히 봐야 하기 때문에 <u>**eomi=True**</u>를 해서 단어의 뜻이 명확하게 또는 단어가 똑 떨어지게 만들어 줘야 한다.\n",
    "- 영어처럼 만들고 시작한다. 왜?\n",
    "    - 영어는 관사 빼고는 어근만 가지고 있다.\n",
    "    - 형태소 분석에서 pos=[NNP, NNG, VV, VA, IC, XR, MAG, MAJ, MM]를 해서 어근만 뽑아내고, 이를 다시 string으로 만든다.\n",
    "    - 그럼 영어랑 똑같다. \n",
    "- 이렇게 되면 영어에서 사용하는 프로세스를 그대로 사용할 수 있다.\n",
    "- 형태소 분석기의 역할은 여기서 끝난다."
   ]
  },
  {
   "cell_type": "markdown",
   "id": "3aac4b19",
   "metadata": {},
   "source": [
    "### sample data 형태소 분석"
   ]
  },
  {
   "cell_type": "code",
   "execution_count": 26,
   "id": "c8109545",
   "metadata": {},
   "outputs": [
    {
     "name": "stdout",
     "output_type": "stream",
     "text": [
      "filepath:  /Users/jsha/opt/anaconda3/envs/nlp3710/lib/python3.7/site-packages\n",
      "classpath:  /Users/jsha/opt/anaconda3/envs/nlp3710/lib/python3.7/site-packages/rhinoMorph/lib/rhino.jar\n",
      "JVM is already started~\n",
      "RHINO started!\n",
      "sample data: ['어리다', '때', '보다', '지금', '다시', '보다', '재미있다', 'ㅋㅋ']\n",
      "joined sample data: 어리다 때 보다 지금 다시 보다 재미있다 ㅋㅋ\n"
     ]
    }
   ],
   "source": [
    "# sample data 1개만 해본다.\n",
    "import rhinoMorph\n",
    "rn = rhinoMorph.startRhino()\n",
    "\n",
    "sample_morphed = rhinoMorph.onlyMorph_list(rn, \n",
    "                    data[0][1], pos=['NNP', 'NNG',\n",
    "                    'VV', 'VA', 'IC', 'XR', 'MM',\n",
    "                    'MAJ', 'MAG'], eomi=True)\n",
    "print('sample data:', sample_morphed)\n",
    "print('joined sample data:', ' '.join(sample_morphed))"
   ]
  },
  {
   "cell_type": "markdown",
   "id": "81eca766",
   "metadata": {},
   "source": [
    "### 전체 데이터 형태소 분석 후 원본 포맷으로 저장"
   ]
  },
  {
   "cell_type": "code",
   "execution_count": 34,
   "id": "fd633be4",
   "metadata": {},
   "outputs": [
    {
     "name": "stdout",
     "output_type": "stream",
     "text": [
      "500\n"
     ]
    }
   ],
   "source": [
    "# 전체 데이터 형태소 분석\n",
    "whole_morphed = []\n",
    "whole_text = 'ID'+ '\\t' + 'Sentence' + '\\t' + 'label' + '\\n'\n",
    "for dat in data:\n",
    "    morphed = rhinoMorph.onlyMorph_list(rn, dat[1],\n",
    "                            pos=['NNG', 'NNP', 'VV', \n",
    "                            'VA', 'IC', 'XR', 'MM', \n",
    "                            'MAJ', 'MAG'], eomi=True)\n",
    "    joined_morphed = ' '.join(morphed)\n",
    "    whole_morphed.append(joined_morphed)\n",
    "    \n",
    "    if joined_morphed:\n",
    "        whole_text += dat[0] + '\\t' + joined_morphed + '\\t' + dat[1] + '\\n'\n",
    "print(len(whole_morphed))\n",
    "write_data(whole_text, 'ratings_morphed_test.txt', encoding=encoding)"
   ]
  },
  {
   "cell_type": "code",
   "execution_count": 35,
   "id": "d4582c60",
   "metadata": {},
   "outputs": [
    {
     "name": "stdout",
     "output_type": "stream",
     "text": [
      "0_Java_JPype_rhinoMorph_installation.ipynb\r\n",
      "1_1_practice.ipynb\r\n",
      "1_morph_analysis_using_rhino.ipynb\r\n",
      "2_morph_analysis_using_konlpy.ipynb\r\n",
      "3_frequency_analysis.ipynb\r\n",
      "\u001b[1m\u001b[36mPackage_Pypi\u001b[m\u001b[m\r\n",
      "ex4_including_only_geumyung.csv\r\n",
      "ex5_sentence_keyword.csv\r\n",
      "noun_금융규제운영규정.csv\r\n",
      "\u001b[1m\u001b[36mpytest\u001b[m\u001b[m\r\n",
      "ratings_morphed_test.txt\r\n",
      "verbs_금융규제운영규정.csv\r\n"
     ]
    }
   ],
   "source": [
    "!ls"
   ]
  },
  {
   "cell_type": "markdown",
   "id": "02becfaf",
   "metadata": {},
   "source": [
    "## 영어처럼 만든 txt 파일 분석하기"
   ]
  },
  {
   "cell_type": "markdown",
   "id": "7af46491",
   "metadata": {},
   "source": [
    "###  데이터 로딩하기"
   ]
  },
  {
   "cell_type": "code",
   "execution_count": 39,
   "id": "6e3dec4a",
   "metadata": {},
   "outputs": [],
   "source": [
    "txt_data = read_data('ratings_morphed_test.txt', encoding=encoding)\n",
    "\n",
    "data_text = [data[1] for data in txt_data]\n",
    "data_label = [data[2] for data in txt_data]"
   ]
  },
  {
   "cell_type": "code",
   "execution_count": null,
   "id": "16e92534",
   "metadata": {},
   "outputs": [],
   "source": []
  },
  {
   "cell_type": "code",
   "execution_count": 5,
   "id": "85ac8ec6",
   "metadata": {},
   "outputs": [
    {
     "name": "stdout",
     "output_type": "stream",
     "text": [
      "첫 문장 어절 길이: 3\n"
     ]
    }
   ],
   "source": [
    "# 어절 길이 계산. 처음에 마땅한 분석 기준이 없을 때는 문장을 \n",
    "# 어절 단위로 잘라서 그 개수를 세는 방법으로 시작해 보자.\n",
    "\n",
    "len_data = []\n",
    "for d in data:\n",
    "    len_data.append(len(d[1].split()))\n",
    "print(f'첫 문장 어절 길이: {len_data[0]}')\n",
    "\n",
    "# 통계분석\n",
    "import numpy as np\n",
    "print(f'text length 최대: {np.max(len_data)}')\n",
    "print(f'text length 최소: {np.min(len_data)}')\n",
    "print(f'text length 평균: {np.mean(len_data)}')\n",
    "print(f'text length 표준편차: {np.std(len_data)}')\n",
    "print(f'text length 중간값: {np.median(len_data)}')\n",
    "print(f'text length 1사분위: {np.percentile(len_data, 25)}')\n",
    "print(f'text length 3사분위: {np.percentile(len_data, 75)}')\n",
    "print(f'text length 95%: {np.percentile(len_data, 95)}')"
   ]
  }
 ],
 "metadata": {
  "kernelspec": {
   "display_name": "nlp3710",
   "language": "python",
   "name": "nlp3710"
  },
  "language_info": {
   "codemirror_mode": {
    "name": "ipython",
    "version": 3
   },
   "file_extension": ".py",
   "mimetype": "text/x-python",
   "name": "python",
   "nbconvert_exporter": "python",
   "pygments_lexer": "ipython3",
   "version": "3.7.10"
  },
  "toc": {
   "base_numbering": 1,
   "nav_menu": {},
   "number_sections": true,
   "sideBar": true,
   "skip_h1_title": false,
   "title_cell": "Table of Contents",
   "title_sidebar": "Contents",
   "toc_cell": false,
   "toc_position": {},
   "toc_section_display": true,
   "toc_window_display": true
  }
 },
 "nbformat": 4,
 "nbformat_minor": 5
}
