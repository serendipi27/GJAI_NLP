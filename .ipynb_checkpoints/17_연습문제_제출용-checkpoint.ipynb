{
 "cells": [
  {
   "cell_type": "markdown",
   "id": "164ca2ac",
   "metadata": {},
   "source": [
    "연습문제\n",
    "1. 워드임베딩 + 순환신경망 + 규제설정L2\n",
    "4. 워드 임베딩 + 순환신경망 + Dropout\n",
    "5. 워드 임베딩 + Dropout \n",
    "6. 워드 임베딩 + 양방향 순환신경망"
   ]
  },
  {
   "cell_type": "code",
   "execution_count": 1,
   "id": "d2adc0bb",
   "metadata": {},
   "outputs": [],
   "source": [
    "import pandas as pd\n",
    "from matplotlib import rc\n",
    "import os\n",
    "\n",
    "rc('font', family='AppleGothic')\n",
    "\n",
    "path = '/Users/jsha/gjai/nlp/pytest/'\n",
    "working_path = path + '17_practice/'\n",
    "if not os.path.exists(working_path):\n",
    "    os.mkdir(working_path)\n",
    "    print(f'making done {working_path}')\n",
    "os.chdir(working_path)"
   ]
  },
  {
   "cell_type": "markdown",
   "id": "8a78ef8a",
   "metadata": {},
   "source": [
    "# 분류1"
   ]
  },
  {
   "cell_type": "code",
   "execution_count": 2,
   "id": "7083b30e",
   "metadata": {},
   "outputs": [],
   "source": [
    "import pandas as pd\n",
    "from matplotlib import rc\n",
    "\n",
    "rc('font', family='AppleGothic')\n",
    "\n",
    "data_path = '/Users/jsha/gjai/nlp/pytest/16_practice/'\n",
    "filename1 = '분류1_뉴스데이터_morphed_train.csv'\n",
    "filename2 = '분류1_뉴스데이터_morphed_test.csv'\n",
    "\n",
    "train_df = pd.read_csv(data_path+filename1)\n",
    "test_df = pd.read_csv(data_path+filename2)"
   ]
  },
  {
   "cell_type": "code",
   "execution_count": 3,
   "id": "b6b6b184",
   "metadata": {},
   "outputs": [
    {
     "data": {
      "text/html": [
       "<div>\n",
       "<style scoped>\n",
       "    .dataframe tbody tr th:only-of-type {\n",
       "        vertical-align: middle;\n",
       "    }\n",
       "\n",
       "    .dataframe tbody tr th {\n",
       "        vertical-align: top;\n",
       "    }\n",
       "\n",
       "    .dataframe thead th {\n",
       "        text-align: right;\n",
       "    }\n",
       "</style>\n",
       "<table border=\"1\" class=\"dataframe\">\n",
       "  <thead>\n",
       "    <tr style=\"text-align: right;\">\n",
       "      <th></th>\n",
       "      <th>id</th>\n",
       "      <th>날짜</th>\n",
       "      <th>분류1</th>\n",
       "      <th>텍스트</th>\n",
       "      <th>분류1_상위</th>\n",
       "      <th>morphed</th>\n",
       "    </tr>\n",
       "  </thead>\n",
       "  <tbody>\n",
       "    <tr>\n",
       "      <th>0</th>\n",
       "      <td>1319794</td>\n",
       "      <td>20190412</td>\n",
       "      <td>국제,중동_아프리카</td>\n",
       "      <td>이들은 성경이 난민에 대해 어떻게 말하고 있으며, 현 상황과 관련해 난민에 대한 정...</td>\n",
       "      <td>국제</td>\n",
       "      <td>성경 난민 대하 어떻하 말 있 현 상황과 관련 난민 대하 정확 하 팩트 밝히</td>\n",
       "    </tr>\n",
       "    <tr>\n",
       "      <th>1</th>\n",
       "      <td>1410943</td>\n",
       "      <td>20190503</td>\n",
       "      <td>지역,충북</td>\n",
       "      <td>충북 충주시는 3일 충주시청 중앙탑회의실에서 제47회 어버이날 유공자 시상식을 열고...</td>\n",
       "      <td>지역</td>\n",
       "      <td>충북 충주시 충주시 청 중앙 탑 회의실 어버이날 유공자 시상식 열 심영섭 효행 장한...</td>\n",
       "    </tr>\n",
       "    <tr>\n",
       "      <th>2</th>\n",
       "      <td>972814</td>\n",
       "      <td>20190122</td>\n",
       "      <td>스포츠,축구,국가대표팀</td>\n",
       "      <td>아시안게임이 U-23 대표팀 경기로 A 대표팀과는 객관적 지표에서 차이가 있지만, ...</td>\n",
       "      <td>스포츠</td>\n",
       "      <td>아시안게임 대표 팀 경기 대표 팀 객관적 지표 차이 있 그때 기억 황의 조의 자신감...</td>\n",
       "    </tr>\n",
       "    <tr>\n",
       "      <th>3</th>\n",
       "      <td>359452</td>\n",
       "      <td>20180828</td>\n",
       "      <td>IT_과학,콘텐츠</td>\n",
       "      <td>신기술전시회 280개 기업, 국제발명특허대전 160개 발명품, 국제컨퍼런스 40개 ...</td>\n",
       "      <td>IT_과학</td>\n",
       "      <td>신기술 전시회 기업 국제 발명 특허 대전 발명품 국제 컨퍼런스 세션 꾸미 명 관람객...</td>\n",
       "    </tr>\n",
       "    <tr>\n",
       "      <th>4</th>\n",
       "      <td>1338926</td>\n",
       "      <td>20190416</td>\n",
       "      <td>사회,장애인</td>\n",
       "      <td>아카데미에서는 장애인복지시설, 발달장애인훈련센터 등 학령기 장애인 대상으로의 진로직...</td>\n",
       "      <td>사회</td>\n",
       "      <td>아카데미 장애인 복지 시설 발달 장애 훈련 센터 학령기 장애인 대상 진로 직업 체험...</td>\n",
       "    </tr>\n",
       "  </tbody>\n",
       "</table>\n",
       "</div>"
      ],
      "text/plain": [
       "        id        날짜           분류1  \\\n",
       "0  1319794  20190412    국제,중동_아프리카   \n",
       "1  1410943  20190503         지역,충북   \n",
       "2   972814  20190122  스포츠,축구,국가대표팀   \n",
       "3   359452  20180828     IT_과학,콘텐츠   \n",
       "4  1338926  20190416        사회,장애인   \n",
       "\n",
       "                                                 텍스트 분류1_상위  \\\n",
       "0  이들은 성경이 난민에 대해 어떻게 말하고 있으며, 현 상황과 관련해 난민에 대한 정...     국제   \n",
       "1  충북 충주시는 3일 충주시청 중앙탑회의실에서 제47회 어버이날 유공자 시상식을 열고...     지역   \n",
       "2  아시안게임이 U-23 대표팀 경기로 A 대표팀과는 객관적 지표에서 차이가 있지만, ...    스포츠   \n",
       "3  신기술전시회 280개 기업, 국제발명특허대전 160개 발명품, 국제컨퍼런스 40개 ...  IT_과학   \n",
       "4  아카데미에서는 장애인복지시설, 발달장애인훈련센터 등 학령기 장애인 대상으로의 진로직...     사회   \n",
       "\n",
       "                                             morphed  \n",
       "0         성경 난민 대하 어떻하 말 있 현 상황과 관련 난민 대하 정확 하 팩트 밝히  \n",
       "1  충북 충주시 충주시 청 중앙 탑 회의실 어버이날 유공자 시상식 열 심영섭 효행 장한...  \n",
       "2  아시안게임 대표 팀 경기 대표 팀 객관적 지표 차이 있 그때 기억 황의 조의 자신감...  \n",
       "3  신기술 전시회 기업 국제 발명 특허 대전 발명품 국제 컨퍼런스 세션 꾸미 명 관람객...  \n",
       "4  아카데미 장애인 복지 시설 발달 장애 훈련 센터 학령기 장애인 대상 진로 직업 체험...  "
      ]
     },
     "execution_count": 3,
     "metadata": {},
     "output_type": "execute_result"
    }
   ],
   "source": [
    "# train_df.head()\n",
    "# train_df['morphed'] = morphed_data\n",
    "train_df.head()"
   ]
  },
  {
   "cell_type": "code",
   "execution_count": 4,
   "id": "62bc1e6f",
   "metadata": {},
   "outputs": [
    {
     "data": {
      "text/html": [
       "<div>\n",
       "<style scoped>\n",
       "    .dataframe tbody tr th:only-of-type {\n",
       "        vertical-align: middle;\n",
       "    }\n",
       "\n",
       "    .dataframe tbody tr th {\n",
       "        vertical-align: top;\n",
       "    }\n",
       "\n",
       "    .dataframe thead th {\n",
       "        text-align: right;\n",
       "    }\n",
       "</style>\n",
       "<table border=\"1\" class=\"dataframe\">\n",
       "  <thead>\n",
       "    <tr style=\"text-align: right;\">\n",
       "      <th></th>\n",
       "      <th>id</th>\n",
       "      <th>날짜</th>\n",
       "      <th>분류1</th>\n",
       "      <th>텍스트</th>\n",
       "      <th>분류1_상위</th>\n",
       "      <th>morphed</th>\n",
       "    </tr>\n",
       "  </thead>\n",
       "  <tbody>\n",
       "    <tr>\n",
       "      <th>0</th>\n",
       "      <td>268980</td>\n",
       "      <td>20180806</td>\n",
       "      <td>경제,증권_증시</td>\n",
       "      <td>이런 가격 조작 행위는 지난해 말 ‘코인 열풍’이 불 때부터 폭발적으로 늘어났다는 ...</td>\n",
       "      <td>경제</td>\n",
       "      <td>이런 가격 조작 행위 지난해 말 코인 열풍 불 때 폭발적 늘어나 설명</td>\n",
       "    </tr>\n",
       "    <tr>\n",
       "      <th>1</th>\n",
       "      <td>260551</td>\n",
       "      <td>20180803</td>\n",
       "      <td>국제,러시아</td>\n",
       "      <td>한 정보 소식통에 따르면 이 여성은 지난해 중순쯤 국무부로부터 비밀정보 사용 인가를...</td>\n",
       "      <td>국제</td>\n",
       "      <td>하 정보 소식통 따르 이 여성 지난해 중순쯤 국무부 비밀 정보 사용 인가 취소 당하...</td>\n",
       "    </tr>\n",
       "    <tr>\n",
       "      <th>2</th>\n",
       "      <td>390392</td>\n",
       "      <td>20180903</td>\n",
       "      <td>국제,아시아</td>\n",
       "      <td>시진핑(習近平) 중국 국가주석은 오는 11월 파푸아뉴기니에서 열리는 아시아·태평양경...</td>\n",
       "      <td>국제</td>\n",
       "      <td>시진 핑 중국 국가주석 오 파푸아뉴기니 열리 아시아 태평양 경제 협력체 정상 회의 ...</td>\n",
       "    </tr>\n",
       "    <tr>\n",
       "      <th>3</th>\n",
       "      <td>215899</td>\n",
       "      <td>20180723</td>\n",
       "      <td>경제,무역</td>\n",
       "      <td>이번 세이프가드는 최근 3년간 평균 수입물량으로 쿼터를 산정 후 쿼터 초과 수입물량...</td>\n",
       "      <td>경제</td>\n",
       "      <td>이번 세이프가드 최근 평균 수입 물량 쿼터 산정 후 쿼터 초과 수입 물량 대하 관세...</td>\n",
       "    </tr>\n",
       "    <tr>\n",
       "      <th>4</th>\n",
       "      <td>380078</td>\n",
       "      <td>20180902</td>\n",
       "      <td>스포츠,축구,국가대표팀</td>\n",
       "      <td>손흥민과 이승우, 황의조와 황희찬 등 해외에서 활약하는 선수들은 더 이상 병역 문제...</td>\n",
       "      <td>스포츠</td>\n",
       "      <td>손 흥 민 이승우 황의 황희찬 해외 활약 선수 더 이상 병역 문제 발목 잡히 국내 ...</td>\n",
       "    </tr>\n",
       "  </tbody>\n",
       "</table>\n",
       "</div>"
      ],
      "text/plain": [
       "       id        날짜           분류1  \\\n",
       "0  268980  20180806      경제,증권_증시   \n",
       "1  260551  20180803        국제,러시아   \n",
       "2  390392  20180903        국제,아시아   \n",
       "3  215899  20180723         경제,무역   \n",
       "4  380078  20180902  스포츠,축구,국가대표팀   \n",
       "\n",
       "                                                 텍스트 분류1_상위  \\\n",
       "0  이런 가격 조작 행위는 지난해 말 ‘코인 열풍’이 불 때부터 폭발적으로 늘어났다는 ...     경제   \n",
       "1  한 정보 소식통에 따르면 이 여성은 지난해 중순쯤 국무부로부터 비밀정보 사용 인가를...     국제   \n",
       "2  시진핑(習近平) 중국 국가주석은 오는 11월 파푸아뉴기니에서 열리는 아시아·태평양경...     국제   \n",
       "3  이번 세이프가드는 최근 3년간 평균 수입물량으로 쿼터를 산정 후 쿼터 초과 수입물량...     경제   \n",
       "4  손흥민과 이승우, 황의조와 황희찬 등 해외에서 활약하는 선수들은 더 이상 병역 문제...    스포츠   \n",
       "\n",
       "                                             morphed  \n",
       "0             이런 가격 조작 행위 지난해 말 코인 열풍 불 때 폭발적 늘어나 설명  \n",
       "1  하 정보 소식통 따르 이 여성 지난해 중순쯤 국무부 비밀 정보 사용 인가 취소 당하...  \n",
       "2  시진 핑 중국 국가주석 오 파푸아뉴기니 열리 아시아 태평양 경제 협력체 정상 회의 ...  \n",
       "3  이번 세이프가드 최근 평균 수입 물량 쿼터 산정 후 쿼터 초과 수입 물량 대하 관세...  \n",
       "4  손 흥 민 이승우 황의 황희찬 해외 활약 선수 더 이상 병역 문제 발목 잡히 국내 ...  "
      ]
     },
     "execution_count": 4,
     "metadata": {},
     "output_type": "execute_result"
    }
   ],
   "source": [
    "test_df.head()"
   ]
  },
  {
   "cell_type": "code",
   "execution_count": 5,
   "id": "a31761f5",
   "metadata": {},
   "outputs": [
    {
     "name": "stdout",
     "output_type": "stream",
     "text": [
      "['국제', '지역', '스포츠']\n",
      "['성경 난민 대하 어떻하 말 있 현 상황과 관련 난민 대하 정확 하 팩트 밝히', '충북 충주시 충주시 청 중앙 탑 회의실 어버이날 유공자 시상식 열 심영섭 효행 장한 어버이 표창장 수여', '아시안게임 대표 팀 경기 대표 팀 객관적 지표 차이 있 그때 기억 황의 조의 자신감 불태우 충분']\n",
      "--------------------------------------------------\n",
      "['경제', '국제', '국제']\n",
      "['이런 가격 조작 행위 지난해 말 코인 열풍 불 때 폭발적 늘어나 설명', '하 정보 소식통 따르 이 여성 지난해 중순쯤 국무부 비밀 정보 사용 인가 취소 당하 직후 해고 되', '시진 핑 중국 국가주석 오 파푸아뉴기니 열리 아시아 태평양 경제 협력체 정상 회의 전후 태평 도서 국 정상 회담 알리']\n"
     ]
    }
   ],
   "source": [
    "from sklearn.model_selection import train_test_split\n",
    "\n",
    "data_text = train_df.loc[:,'morphed'].to_list()\n",
    "data_label = train_df.loc[:,'분류1_상위'].to_list()\n",
    "print(data_label[:3])\n",
    "print(data_text[:3])\n",
    "\n",
    "print('-'*50)\n",
    "\n",
    "data_text_test = test_df.loc[:,'morphed'].to_list()\n",
    "data_label_test = test_df.loc[:,'분류1_상위'].to_list()\n",
    "print(data_label_test[:3])\n",
    "print(data_text_test[:3])\n",
    "\n",
    "train_data_text = data_text\n",
    "train_data_label = data_label\n",
    "test_data_text = data_text_test\n",
    "test_data_label = data_label_test\n",
    "# train_data_text, test_data_text, train_data_label, test_data_label = \\\n",
    "# train_test_split(data_text, data_label, stratify=data_label, \n",
    "#                  test_size=0.3, random_state=1111)"
   ]
  },
  {
   "cell_type": "code",
   "execution_count": 6,
   "id": "7d1ecda4",
   "metadata": {},
   "outputs": [
    {
     "name": "stdout",
     "output_type": "stream",
     "text": [
      "6792\n",
      "2265\n"
     ]
    }
   ],
   "source": [
    "print(len(train_data_text))\n",
    "print(len(test_data_text))"
   ]
  },
  {
   "cell_type": "code",
   "execution_count": 7,
   "id": "3788b358",
   "metadata": {},
   "outputs": [
    {
     "name": "stdout",
     "output_type": "stream",
     "text": [
      "train_data_label_freq: Counter({'지역': 2151, '스포츠': 1725, '경제': 945, '국제': 733, '사회': 639, 'IT_과학': 491, '문화': 98, '미분류': 9, '정치': 1})\n",
      "test_data_label_freq: Counter({'지역': 722, '스포츠': 540, '경제': 329, '국제': 219, '사회': 213, 'IT_과학': 203, '문화': 30, '미분류': 9})\n"
     ]
    }
   ],
   "source": [
    "from collections import Counter\n",
    "train_data_label_freq = Counter(train_data_label)\n",
    "print('train_data_label_freq:', train_data_label_freq)\n",
    "\n",
    "test_data_label_freq = Counter(test_data_label)\n",
    "print('test_data_label_freq:', test_data_label_freq)\n"
   ]
  },
  {
   "cell_type": "code",
   "execution_count": 8,
   "id": "1a40003f",
   "metadata": {},
   "outputs": [
    {
     "name": "stdout",
     "output_type": "stream",
     "text": [
      "최소길이: 4\n",
      "최대길이: 54\n",
      "평균길이: 19.5\n",
      "중위수길이: 19.0\n",
      "percentile  : [0, 25, 50, 75, 90, 99, 100]\n",
      "구간별 최대 길이: [ 4. 16. 19. 22. 27. 35. 54.]\n",
      "최소길이 문장: 투입 예산 내년 총\n",
      "최대길이 문장: 주요 신규 사업 삼사해상공원 해 파랑 공원 파도 걷기 보행 조성 새 뜰 사업 축산 블루 시티 조성 사업 예 주 고을 역사 문화 공원 조성 사업 오십천 그린 로드 조성 영덕 도서관 건립 사업 영덕 애니메이션 테마파크 조성 사업 영덕 하 양교 션 강구면 화전 우수 저류 시설 설치 아름답 소하천 꾸 사업\n"
     ]
    }
   ],
   "source": [
    "import numpy as np\n",
    "\n",
    "text_len = [len(line.split(' ')) for line in train_data_text]\n",
    "print('최소길이:', np.min(text_len))\n",
    "print('최대길이:', np.max(text_len))\n",
    "print('평균길이:', np.round(np.mean(text_len),1))\n",
    "print('중위수길이:', np.median(text_len))\n",
    "print('percentile  : [0, 25, 50, 75, 90, 99, 100]')\n",
    "print('구간별 최대 길이:', np.percentile(text_len, [0, 25, 50, 75, 90, 99, 100]))\n",
    "print('최소길이 문장:', train_data_text[np.argmin(text_len)])\n",
    "print('최대길이 문장:', train_data_text[np.argmax(text_len)])"
   ]
  },
  {
   "cell_type": "code",
   "execution_count": 9,
   "id": "7f42c405",
   "metadata": {},
   "outputs": [
    {
     "name": "stderr",
     "output_type": "stream",
     "text": [
      "Using TensorFlow backend.\n"
     ]
    }
   ],
   "source": [
    "from keras.preprocessing.text import Tokenizer\n",
    "from keras.preprocessing.sequence import pad_sequences\n",
    "import numpy as np\n",
    "import math \n",
    "\n",
    "max_words = 10000\n",
    "maxlen = 40\n",
    "\n",
    "tokenizer = Tokenizer(num_words=max_words)\n",
    "tokenizer.fit_on_texts(train_data_text)\n",
    "word_index = tokenizer.word_index"
   ]
  },
  {
   "cell_type": "code",
   "execution_count": 10,
   "id": "3b59517f",
   "metadata": {},
   "outputs": [
    {
     "name": "stdout",
     "output_type": "stream",
     "text": [
      "wjscpdptj 18050개의 고유한 토큰을 찾았습니다\n",
      "word_index type: <class 'dict'>\n"
     ]
    }
   ],
   "source": [
    "print('wjscpdptj %s개의 고유한 토큰을 찾았습니다' % len(word_index))\n",
    "print('word_index type:', type(word_index))\n",
    "# print('word_index:', word_index)"
   ]
  },
  {
   "cell_type": "code",
   "execution_count": 11,
   "id": "45f8824d",
   "metadata": {},
   "outputs": [
    {
     "name": "stdout",
     "output_type": "stream",
     "text": [
      "최대 문장 길이: 49\n",
      "최소 문장 길이: 4\n"
     ]
    }
   ],
   "source": [
    "seq_data = tokenizer.texts_to_sequences(train_data_text)\n",
    "# print('data', data)\n",
    "\n",
    "len_d = [len(d) for d in seq_data]\n",
    "# print('길이:', len_d)\n",
    "print('최대 문장 길이:', max(len_d))\n",
    "print('최소 문장 길이:', min(len_d))"
   ]
  },
  {
   "cell_type": "code",
   "execution_count": 12,
   "id": "f43f94a5",
   "metadata": {},
   "outputs": [
    {
     "name": "stdout",
     "output_type": "stream",
     "text": [
      "data: [[   0    0    0 ...    1 7165   18]\n",
      " [   0    0    0 ... 7168 7169 2108]\n",
      " [   0    0    0 ... 3970 4700 1797]\n",
      " ...\n",
      " [   0    0    0 ... 9362 5861   18]\n",
      " [   0    0    0 ... 1042 1564   13]\n",
      " [   0    0    0 ... 9916 3268  362]]\n",
      "data 0: [   0    0    0    0    0    0    0    0    0    0    0    0    0    0\n",
      "    0    0    0    0    0    0    0    0    0    0    0 2300  677   10\n",
      " 2301  220    3  790 4698   76  677   10 1389    1 7165   18]\n",
      "data 0의 길이: 40\n"
     ]
    }
   ],
   "source": [
    "pad_data = pad_sequences(seq_data, maxlen=maxlen)\n",
    "\n",
    "print('data:', pad_data)\n",
    "print('data 0:', pad_data[0])\n",
    "print('data 0의 길이:', len(pad_data[0]))"
   ]
  },
  {
   "cell_type": "code",
   "execution_count": 13,
   "id": "d37569a4",
   "metadata": {},
   "outputs": [
    {
     "name": "stdout",
     "output_type": "stream",
     "text": [
      "train_data_text type: <class 'list'>\n",
      "data type: <class 'numpy.ndarray'>\n",
      "train_data_text 0: 성경 난민 대하 어떻하 말 있 현 상황과 관련 난민 대하 정확 하 팩트 밝히\n",
      "data 0: [   0    0    0    0    0    0    0    0    0    0    0    0    0    0\n",
      "    0    0    0    0    0    0    0    0    0    0    0 2300  677   10\n",
      " 2301  220    3  790 4698   76  677   10 1389    1 7165   18]\n"
     ]
    }
   ],
   "source": [
    "print('train_data_text type:', type(train_data_text))\n",
    "print('data type:', type(pad_data))\n",
    "print('train_data_text 0:', train_data_text[0])\n",
    "print('data 0:', pad_data[0])"
   ]
  },
  {
   "cell_type": "code",
   "execution_count": 14,
   "id": "a1e8c616",
   "metadata": {},
   "outputs": [],
   "source": [
    "def to_one_hot(sequences, dimension):\n",
    "    results = np.zeros((len(sequences), dimension))\n",
    "    for i, sequence in enumerate(sequences):\n",
    "        results[i, sequence] = 1.\n",
    "    return results\n",
    "\n",
    "# x_train = to_one_hot(pad_data, dimension=max_words)\n",
    "x_train = pad_data"
   ]
  },
  {
   "cell_type": "code",
   "execution_count": 15,
   "id": "90ebae9d",
   "metadata": {},
   "outputs": [],
   "source": [
    "# print('train_data_text type:', type(train_data_text))\n",
    "# print(len(train_data_text[0]))\n",
    "# print('texts 0:', train_data_text[0])\n",
    "\n",
    "# print('data type:', type(x_train))\n",
    "# print(len(x_train[0]))\n",
    "# print('x_train [0][0:100]:', x_train[0][:100])"
   ]
  },
  {
   "cell_type": "code",
   "execution_count": 16,
   "id": "31f15283",
   "metadata": {},
   "outputs": [
    {
     "name": "stdout",
     "output_type": "stream",
     "text": [
      "['IT_과학' '경제' '국제' '문화' '미분류' '사회' '스포츠' '정치' '지역']\n"
     ]
    }
   ],
   "source": [
    "from sklearn.preprocessing import LabelEncoder\n",
    "le = LabelEncoder()\n",
    "le.fit(train_data_label)\n",
    "print(le.classes_)\n",
    "train_data_label = le.transform(train_data_label)"
   ]
  },
  {
   "cell_type": "code",
   "execution_count": 17,
   "id": "5bb12e1f",
   "metadata": {},
   "outputs": [],
   "source": [
    "test_data_label = le.transform(test_data_label)"
   ]
  },
  {
   "cell_type": "code",
   "execution_count": 18,
   "id": "139ffcef",
   "metadata": {},
   "outputs": [
    {
     "name": "stdout",
     "output_type": "stream",
     "text": [
      "[[0. 0. 1. ... 0. 0. 0.]\n",
      " [0. 0. 0. ... 0. 0. 1.]\n",
      " [0. 0. 0. ... 1. 0. 0.]\n",
      " ...\n",
      " [0. 0. 0. ... 1. 0. 0.]\n",
      " [0. 1. 0. ... 0. 0. 0.]\n",
      " [0. 0. 0. ... 0. 0. 1.]]\n"
     ]
    }
   ],
   "source": [
    "class_number = len(le.classes_)\n",
    "y_train = to_one_hot(train_data_label, dimension=class_number)\n",
    "print(y_train)"
   ]
  },
  {
   "cell_type": "code",
   "execution_count": 19,
   "id": "7a7e1dfe",
   "metadata": {},
   "outputs": [
    {
     "name": "stdout",
     "output_type": "stream",
     "text": [
      "[[0. 1. 0. ... 0. 0. 0.]\n",
      " [0. 0. 1. ... 0. 0. 0.]\n",
      " [0. 0. 1. ... 0. 0. 0.]\n",
      " ...\n",
      " [0. 0. 1. ... 0. 0. 0.]\n",
      " [0. 1. 0. ... 0. 0. 0.]\n",
      " [0. 0. 1. ... 0. 0. 0.]]\n"
     ]
    }
   ],
   "source": [
    "data_test = tokenizer.texts_to_sequences(test_data_text)\n",
    "\n",
    "data_test = pad_sequences(data_test, maxlen=maxlen)\n",
    "\n",
    "x_test = data_test\n",
    "\n",
    "y_test = to_one_hot(test_data_label, dimension=class_number)\n",
    "print(y_test)"
   ]
  },
  {
   "cell_type": "code",
   "execution_count": 20,
   "id": "902faffb",
   "metadata": {},
   "outputs": [
    {
     "name": "stdout",
     "output_type": "stream",
     "text": [
      "훈련 데이터 본문 텐서의 크기: (6792, 40)\n",
      "훈련 데이터 레이블 텐서의 크기: (6792, 9)\n",
      "테스트 데이터 본문 텐서의 크기: (2265, 40)\n",
      "테스트 데이터 레이블 텐서의 크기: (2265, 9)\n"
     ]
    }
   ],
   "source": [
    "print('훈련 데이터 본문 텐서의 크기:', x_train.shape)\n",
    "print('훈련 데이터 레이블 텐서의 크기:', y_train.shape)\n",
    "\n",
    "print('테스트 데이터 본문 텐서의 크기:', x_test.shape)\n",
    "print('테스트 데이터 레이블 텐서의 크기:', y_test.shape)"
   ]
  },
  {
   "cell_type": "code",
   "execution_count": 21,
   "id": "5f74c0d2",
   "metadata": {},
   "outputs": [
    {
     "data": {
      "text/plain": [
       "(6792, 9)"
      ]
     },
     "execution_count": 21,
     "metadata": {},
     "output_type": "execute_result"
    }
   ],
   "source": [
    "y_train.shape"
   ]
  },
  {
   "cell_type": "code",
   "execution_count": 22,
   "id": "76fd0f5e",
   "metadata": {},
   "outputs": [
    {
     "name": "stdout",
     "output_type": "stream",
     "text": [
      "/Users/jsha/gjai/nlp/pytest/17_practice\r\n"
     ]
    }
   ],
   "source": [
    "!pwd"
   ]
  },
  {
   "cell_type": "markdown",
   "id": "6b21587e",
   "metadata": {},
   "source": [
    "## we+lstm"
   ]
  },
  {
   "cell_type": "code",
   "execution_count": 87,
   "id": "f2f5deb5",
   "metadata": {},
   "outputs": [],
   "source": [
    "import os\n",
    "\n",
    "class_number = y_train.shape[-1]\n",
    "epochs = 10\n",
    "batch_size = 50\n",
    "embedding_dim = 200\n",
    "model_name = '분류1_we_rnn_l2_model.h5'\n",
    "tokenizer_name = '분류1_we_rnn_l2_token.pickle'\n",
    "labelencode_name = '분류1_we_rnn_l2_le.pickle'\n",
    "\n",
    "# working_path = '/Users/jsha/gjai/nlp/pytest/15_working/'\n",
    "# save_path = working_path + 'practice/'\n",
    "# if not os.path.exists(save_path):\n",
    "#     os.mkdir(save_path)\n",
    "#     print(f'made {save_path} directory')\n",
    "# os.chdir(save_path)"
   ]
  },
  {
   "cell_type": "code",
   "execution_count": 88,
   "id": "ef81f850",
   "metadata": {},
   "outputs": [
    {
     "name": "stdout",
     "output_type": "stream",
     "text": [
      "Model: \"sequential_14\"\n",
      "_________________________________________________________________\n",
      "Layer (type)                 Output Shape              Param #   \n",
      "=================================================================\n",
      "embedding_14 (Embedding)     (None, 40, 200)           2000000   \n",
      "_________________________________________________________________\n",
      "lstm_11 (LSTM)               (None, 64)                67840     \n",
      "_________________________________________________________________\n",
      "dense_26 (Dense)             (None, 32)                2080      \n",
      "_________________________________________________________________\n",
      "dense_27 (Dense)             (None, 9)                 297       \n",
      "=================================================================\n",
      "Total params: 2,070,217\n",
      "Trainable params: 2,070,217\n",
      "Non-trainable params: 0\n",
      "_________________________________________________________________\n"
     ]
    }
   ],
   "source": [
    "from keras.models import Sequential\n",
    "from keras.layers import Dense\n",
    "from keras import layers\n",
    "from keras import regularizers\n",
    "\n",
    "model = Sequential()\n",
    "\n",
    "model.add(layers.Embedding(input_dim=max_words, output_dim=embedding_dim, \n",
    "                          input_length=maxlen))\n",
    "\n",
    "model.add(layers.LSTM(64))\n",
    "\n",
    "model.add(Dense(units=32, activation='relu'))\n",
    "model.add(Dense(units=class_number, activation='softmax'))\n",
    "\n",
    "model.summary()"
   ]
  },
  {
   "cell_type": "code",
   "execution_count": 89,
   "id": "11ddfc20",
   "metadata": {},
   "outputs": [
    {
     "name": "stdout",
     "output_type": "stream",
     "text": [
      "/Users/jsha/gjai/nlp/pytest/17_practice/ --- Folder already exists\n",
      "\n"
     ]
    }
   ],
   "source": [
    "from keras.callbacks import EarlyStopping\n",
    "import os\n",
    "\n",
    "checkpoint_path = working_path\n",
    "# checkpoint_dir = os.path.dirname(checkpoint_path)\n",
    "if os.path.exists(checkpoint_path):\n",
    "    print('{} --- Folder already exists\\n'.format(checkpoint_path))\n",
    "else:\n",
    "    os.makedirs(checkpoint_path, exist_ok=True)\n",
    "    print('{} --- Folder created\\n'.format(checkpoint_path))"
   ]
  },
  {
   "cell_type": "code",
   "execution_count": 90,
   "id": "f7ac57a8",
   "metadata": {},
   "outputs": [],
   "source": [
    "model.compile(optimizer='rmsprop', loss='categorical_crossentropy',\n",
    "             metrics=['acc'])"
   ]
  },
  {
   "cell_type": "code",
   "execution_count": 91,
   "id": "d55a2547",
   "metadata": {
    "scrolled": true
   },
   "outputs": [
    {
     "name": "stderr",
     "output_type": "stream",
     "text": [
      "/Users/jsha/opt/anaconda3/envs/nlp3710/lib/python3.7/site-packages/tensorflow_core/python/framework/indexed_slices.py:424: UserWarning: Converting sparse IndexedSlices to a dense Tensor of unknown shape. This may consume a large amount of memory.\n",
      "  \"Converting sparse IndexedSlices to a dense Tensor of unknown shape. \"\n"
     ]
    },
    {
     "name": "stdout",
     "output_type": "stream",
     "text": [
      "Train on 4754 samples, validate on 2038 samples\n",
      "Epoch 1/10\n",
      "4754/4754 [==============================] - 17s 4ms/step - loss: 1.5925 - acc: 0.4295 - val_loss: 1.6331 - val_acc: 0.4333\n",
      "\n",
      "Epoch 00001: val_acc improved from -inf to 0.43327, saving model to /Users/jsha/gjai/nlp/pytest/17_practice/분류1_we_rnn_l2_model.h5\n",
      "Epoch 2/10\n",
      "4754/4754 [==============================] - 16s 3ms/step - loss: 1.0501 - acc: 0.6382 - val_loss: 1.0998 - val_acc: 0.6261\n",
      "\n",
      "Epoch 00002: val_acc improved from 0.43327 to 0.62610, saving model to /Users/jsha/gjai/nlp/pytest/17_practice/분류1_we_rnn_l2_model.h5\n",
      "Epoch 3/10\n",
      "4754/4754 [==============================] - 18s 4ms/step - loss: 0.7162 - acc: 0.7732 - val_loss: 1.0087 - val_acc: 0.6781\n",
      "\n",
      "Epoch 00003: val_acc improved from 0.62610 to 0.67812, saving model to /Users/jsha/gjai/nlp/pytest/17_practice/분류1_we_rnn_l2_model.h5\n",
      "Epoch 4/10\n",
      "4754/4754 [==============================] - 19s 4ms/step - loss: 0.4899 - acc: 0.8532 - val_loss: 1.0303 - val_acc: 0.6624\n",
      "\n",
      "Epoch 00004: val_acc did not improve from 0.67812\n",
      "Epoch 5/10\n",
      "4754/4754 [==============================] - 19s 4ms/step - loss: 0.3068 - acc: 0.9104 - val_loss: 1.1344 - val_acc: 0.6968\n",
      "\n",
      "Epoch 00005: val_acc improved from 0.67812 to 0.69676, saving model to /Users/jsha/gjai/nlp/pytest/17_practice/분류1_we_rnn_l2_model.h5\n",
      "Epoch 6/10\n",
      "4754/4754 [==============================] - 18s 4ms/step - loss: 0.1820 - acc: 0.9466 - val_loss: 1.3716 - val_acc: 0.6899\n",
      "\n",
      "Epoch 00006: val_acc did not improve from 0.69676\n",
      "Epoch 7/10\n",
      "4754/4754 [==============================] - 17s 4ms/step - loss: 0.1085 - acc: 0.9727 - val_loss: 1.5808 - val_acc: 0.6732\n",
      "\n",
      "Epoch 00007: val_acc did not improve from 0.69676\n"
     ]
    }
   ],
   "source": [
    "from keras.callbacks import ModelCheckpoint\n",
    "\n",
    "earlystop_callback = EarlyStopping(monitor='val_acc', patience=2)\n",
    "cp_callback = ModelCheckpoint(filepath=checkpoint_path+model_name,\n",
    "                             monitor='val_acc', verbose=1, \n",
    "                             save_best_only=True)\n",
    "history = model.fit(x_train, y_train, epochs=epochs,\n",
    "                   batch_size=batch_size, validation_split=0.3,\n",
    "                   callbacks=[earlystop_callback, cp_callback], verbose=1)\n",
    "history_dict = history.history"
   ]
  },
  {
   "cell_type": "code",
   "execution_count": 28,
   "id": "67823299",
   "metadata": {},
   "outputs": [],
   "source": [
    "acc_list = []\n",
    "val_acc_list = []\n",
    "loss_list = []\n",
    "val_loss_list = []"
   ]
  },
  {
   "cell_type": "markdown",
   "id": "1d37bd02",
   "metadata": {},
   "source": [
    "### 결과"
   ]
  },
  {
   "cell_type": "code",
   "execution_count": 86,
   "id": "6cb3721d",
   "metadata": {},
   "outputs": [
    {
     "name": "stdout",
     "output_type": "stream",
     "text": [
      "validation accuracy of each epoch: [0.476 0.637 0.582 0.671 0.59  0.691 0.692 0.695 0.699 0.688]\n",
      "validation loss of each epoch: [1.471 1.033 1.257 1.075 1.439 1.237 1.268 1.511 1.878 1.96 ]\n"
     ]
    }
   ],
   "source": [
    "acc = history.history['acc']\n",
    "val_acc = history.history['val_acc']\n",
    "loss = history.history['loss']\n",
    "val_loss = history.history['val_loss']\n",
    "\n",
    "acc_list.append(acc)\n",
    "val_acc_list.append(val_acc)\n",
    "loss_list.append(loss)\n",
    "val_loss_list.append(val_loss)\n",
    "\n",
    "print('validation accuracy of each epoch:', np.round(val_acc,3))\n",
    "print('validation loss of each epoch:', np.round(val_loss,3))\n",
    "epochs = range(1, len(val_acc)+1)"
   ]
  },
  {
   "cell_type": "code",
   "execution_count": null,
   "id": "1831990a",
   "metadata": {},
   "outputs": [],
   "source": []
  },
  {
   "cell_type": "markdown",
   "id": "b712b266",
   "metadata": {},
   "source": [
    "## we+lstm+l2"
   ]
  },
  {
   "cell_type": "code",
   "execution_count": 92,
   "id": "4f8ba4a1",
   "metadata": {},
   "outputs": [],
   "source": [
    "import os\n",
    "\n",
    "class_number = y_train.shape[-1]\n",
    "epochs = 10\n",
    "batch_size = 50\n",
    "embedding_dim = 200\n",
    "model_name = '분류1_we_lstm_l2_model.h5'\n",
    "tokenizer_name = '분류1_we_lstm_l2_token.pickle'\n",
    "labelencode_name = '분류1_we_lstm_l2_le.pickle'\n",
    "\n",
    "# working_path = '/Users/jsha/gjai/nlp/pytest/15_working/'\n",
    "# save_path = working_path + 'practice/'\n",
    "# if not os.path.exists(save_path):\n",
    "#     os.mkdir(save_path)\n",
    "#     print(f'made {save_path} directory')\n",
    "# os.chdir(save_path)"
   ]
  },
  {
   "cell_type": "code",
   "execution_count": 93,
   "id": "c9f6b141",
   "metadata": {},
   "outputs": [
    {
     "name": "stdout",
     "output_type": "stream",
     "text": [
      "Model: \"sequential_15\"\n",
      "_________________________________________________________________\n",
      "Layer (type)                 Output Shape              Param #   \n",
      "=================================================================\n",
      "embedding_15 (Embedding)     (None, 40, 200)           2000000   \n",
      "_________________________________________________________________\n",
      "lstm_12 (LSTM)               (None, 64)                67840     \n",
      "_________________________________________________________________\n",
      "dense_28 (Dense)             (None, 32)                2080      \n",
      "_________________________________________________________________\n",
      "dense_29 (Dense)             (None, 9)                 297       \n",
      "=================================================================\n",
      "Total params: 2,070,217\n",
      "Trainable params: 2,070,217\n",
      "Non-trainable params: 0\n",
      "_________________________________________________________________\n"
     ]
    }
   ],
   "source": [
    "from keras.models import Sequential\n",
    "from keras.layers import Dense\n",
    "from keras import layers\n",
    "from keras import regularizers\n",
    "\n",
    "model = Sequential()\n",
    "\n",
    "model.add(layers.Embedding(input_dim=max_words, output_dim=embedding_dim, \n",
    "                          input_length=maxlen))\n",
    "\n",
    "model.add(layers.LSTM(64))\n",
    "\n",
    "model.add(Dense(units=32, kernel_regularizer=regularizers.l2(0.001), activation='relu'))\n",
    "model.add(Dense(units=class_number, activation='softmax'))\n",
    "\n",
    "model.summary()"
   ]
  },
  {
   "cell_type": "code",
   "execution_count": 94,
   "id": "6529af7f",
   "metadata": {},
   "outputs": [
    {
     "name": "stdout",
     "output_type": "stream",
     "text": [
      "/Users/jsha/gjai/nlp/pytest/17_practice/ --- Folder already exists\n",
      "\n"
     ]
    }
   ],
   "source": [
    "from keras.callbacks import EarlyStopping\n",
    "import os\n",
    "\n",
    "checkpoint_path = working_path\n",
    "# checkpoint_dir = os.path.dirname(checkpoint_path)\n",
    "if os.path.exists(checkpoint_path):\n",
    "    print('{} --- Folder already exists\\n'.format(checkpoint_path))\n",
    "else:\n",
    "    os.makedirs(checkpoint_path, exist_ok=True)\n",
    "    print('{} --- Folder created\\n'.format(checkpoint_path))"
   ]
  },
  {
   "cell_type": "code",
   "execution_count": 95,
   "id": "c727d41d",
   "metadata": {},
   "outputs": [],
   "source": [
    "model.compile(optimizer='rmsprop', loss='categorical_crossentropy',\n",
    "             metrics=['acc'])"
   ]
  },
  {
   "cell_type": "code",
   "execution_count": 96,
   "id": "1c3b4853",
   "metadata": {
    "scrolled": true
   },
   "outputs": [
    {
     "name": "stderr",
     "output_type": "stream",
     "text": [
      "/Users/jsha/opt/anaconda3/envs/nlp3710/lib/python3.7/site-packages/tensorflow_core/python/framework/indexed_slices.py:424: UserWarning: Converting sparse IndexedSlices to a dense Tensor of unknown shape. This may consume a large amount of memory.\n",
      "  \"Converting sparse IndexedSlices to a dense Tensor of unknown shape. \"\n"
     ]
    },
    {
     "name": "stdout",
     "output_type": "stream",
     "text": [
      "Train on 4754 samples, validate on 2038 samples\n",
      "Epoch 1/10\n",
      "4754/4754 [==============================] - 18s 4ms/step - loss: 1.6205 - acc: 0.4386 - val_loss: 1.4519 - val_acc: 0.5083\n",
      "\n",
      "Epoch 00001: val_acc improved from -inf to 0.50834, saving model to /Users/jsha/gjai/nlp/pytest/17_practice/분류1_we_rnn_l2_model.h5\n",
      "Epoch 2/10\n",
      "4754/4754 [==============================] - 15s 3ms/step - loss: 1.1112 - acc: 0.6096 - val_loss: 1.2421 - val_acc: 0.5658\n",
      "\n",
      "Epoch 00002: val_acc improved from 0.50834 to 0.56575, saving model to /Users/jsha/gjai/nlp/pytest/17_practice/분류1_we_rnn_l2_model.h5\n",
      "Epoch 3/10\n",
      "4754/4754 [==============================] - 17s 4ms/step - loss: 0.8074 - acc: 0.7339 - val_loss: 1.1000 - val_acc: 0.6394\n",
      "\n",
      "Epoch 00003: val_acc improved from 0.56575 to 0.63935, saving model to /Users/jsha/gjai/nlp/pytest/17_practice/분류1_we_rnn_l2_model.h5\n",
      "Epoch 4/10\n",
      "4754/4754 [==============================] - 14s 3ms/step - loss: 0.5276 - acc: 0.8479 - val_loss: 1.1724 - val_acc: 0.7022\n",
      "\n",
      "Epoch 00004: val_acc improved from 0.63935 to 0.70216, saving model to /Users/jsha/gjai/nlp/pytest/17_practice/분류1_we_rnn_l2_model.h5\n",
      "Epoch 5/10\n",
      "4754/4754 [==============================] - 15s 3ms/step - loss: 0.3161 - acc: 0.9190 - val_loss: 1.0825 - val_acc: 0.7046\n",
      "\n",
      "Epoch 00005: val_acc improved from 0.70216 to 0.70461, saving model to /Users/jsha/gjai/nlp/pytest/17_practice/분류1_we_rnn_l2_model.h5\n",
      "Epoch 6/10\n",
      "4754/4754 [==============================] - 14s 3ms/step - loss: 0.1930 - acc: 0.9497 - val_loss: 1.2715 - val_acc: 0.7041\n",
      "\n",
      "Epoch 00006: val_acc did not improve from 0.70461\n",
      "Epoch 7/10\n",
      "4754/4754 [==============================] - 16s 3ms/step - loss: 0.1234 - acc: 0.9695 - val_loss: 1.3349 - val_acc: 0.7130\n",
      "\n",
      "Epoch 00007: val_acc improved from 0.70461 to 0.71295, saving model to /Users/jsha/gjai/nlp/pytest/17_practice/분류1_we_rnn_l2_model.h5\n",
      "Epoch 8/10\n",
      "4754/4754 [==============================] - 19s 4ms/step - loss: 0.0866 - acc: 0.9851 - val_loss: 1.4469 - val_acc: 0.6948\n",
      "\n",
      "Epoch 00008: val_acc did not improve from 0.71295\n",
      "Epoch 9/10\n",
      "4754/4754 [==============================] - 15s 3ms/step - loss: 0.0633 - acc: 0.9918 - val_loss: 1.6264 - val_acc: 0.7159\n",
      "\n",
      "Epoch 00009: val_acc improved from 0.71295 to 0.71590, saving model to /Users/jsha/gjai/nlp/pytest/17_practice/분류1_we_rnn_l2_model.h5\n",
      "Epoch 10/10\n",
      "4754/4754 [==============================] - 18s 4ms/step - loss: 0.0459 - acc: 0.9939 - val_loss: 1.6794 - val_acc: 0.7149\n",
      "\n",
      "Epoch 00010: val_acc did not improve from 0.71590\n"
     ]
    }
   ],
   "source": [
    "from keras.callbacks import ModelCheckpoint\n",
    "\n",
    "# earlystop_callback = EarlyStopping(monitor='val_acc', patience=2)\n",
    "cp_callback = ModelCheckpoint(filepath=checkpoint_path+model_name,\n",
    "                             monitor='val_acc', verbose=1, \n",
    "                             save_best_only=True)\n",
    "history = model.fit(x_train, y_train, epochs=epochs,\n",
    "                   batch_size=batch_size, validation_split=0.3,\n",
    "                   callbacks=[cp_callback], verbose=1)\n",
    "history_dict = history.history"
   ]
  },
  {
   "cell_type": "markdown",
   "id": "f09ad9fb",
   "metadata": {},
   "source": [
    "### 결과"
   ]
  },
  {
   "cell_type": "code",
   "execution_count": 98,
   "id": "e1a27c69",
   "metadata": {},
   "outputs": [
    {
     "name": "stdout",
     "output_type": "stream",
     "text": [
      "validation accuracy of each epoch: [0.508 0.566 0.639 0.702 0.705 0.704 0.713 0.695 0.716 0.715]\n",
      "validation loss of each epoch: [1.452 1.242 1.1   1.172 1.082 1.272 1.335 1.447 1.626 1.679]\n"
     ]
    }
   ],
   "source": [
    "acc = history.history['acc']\n",
    "val_acc = history.history['val_acc']\n",
    "loss = history.history['loss']\n",
    "val_loss = history.history['val_loss']\n",
    "\n",
    "acc_list.append(acc)\n",
    "val_acc_list.append(val_acc)\n",
    "loss_list.append(loss)\n",
    "val_loss_list.append(val_loss)\n",
    "\n",
    "print('validation accuracy of each epoch:', np.round(val_acc,3))\n",
    "print('validation loss of each epoch:', np.round(val_loss,3))\n",
    "epochs = range(1, len(val_acc)+1)"
   ]
  },
  {
   "cell_type": "code",
   "execution_count": null,
   "id": "60e59e7f",
   "metadata": {},
   "outputs": [],
   "source": [
    "len(val_acc_list)"
   ]
  },
  {
   "cell_type": "markdown",
   "id": "15526063",
   "metadata": {},
   "source": [
    "## we+LSTM+dropout"
   ]
  },
  {
   "cell_type": "code",
   "execution_count": 92,
   "id": "3bfff168",
   "metadata": {},
   "outputs": [],
   "source": [
    "import os\n",
    "\n",
    "class_number = y_train.shape[-1]\n",
    "epochs = 10\n",
    "batch_size = 50\n",
    "embedding_dim = 200\n",
    "model_name = '분류1_we_lstm_dropout_model.h5'\n",
    "tokenizer_name = '분류1_we_lstm_dropout_token.pickle'\n",
    "labelencode_name = '분류1_we_lstm_dropout_le.pickle'\n",
    "\n",
    "# working_path = '/Users/jsha/gjai/nlp/pytest/15_working/'\n",
    "# save_path = working_path + 'practice/'\n",
    "# if not os.path.exists(save_path):\n",
    "#     os.mkdir(save_path)\n",
    "#     print(f'made {save_path} directory')\n",
    "# os.chdir(save_path)"
   ]
  },
  {
   "cell_type": "code",
   "execution_count": 51,
   "id": "3f296a70",
   "metadata": {},
   "outputs": [
    {
     "name": "stdout",
     "output_type": "stream",
     "text": [
      "Model: \"sequential_7\"\n",
      "_________________________________________________________________\n",
      "Layer (type)                 Output Shape              Param #   \n",
      "=================================================================\n",
      "embedding_7 (Embedding)      (None, 40, 200)           2000000   \n",
      "_________________________________________________________________\n",
      "lstm_7 (LSTM)                (None, 64)                67840     \n",
      "_________________________________________________________________\n",
      "dropout_5 (Dropout)          (None, 64)                0         \n",
      "_________________________________________________________________\n",
      "dense_12 (Dense)             (None, 32)                2080      \n",
      "_________________________________________________________________\n",
      "dense_13 (Dense)             (None, 9)                 297       \n",
      "=================================================================\n",
      "Total params: 2,070,217\n",
      "Trainable params: 2,070,217\n",
      "Non-trainable params: 0\n",
      "_________________________________________________________________\n"
     ]
    }
   ],
   "source": [
    "from keras.models import Sequential\n",
    "from keras.layers import Dense, Dropout\n",
    "from keras import layers\n",
    "from keras import regularizers\n",
    "\n",
    "model = Sequential()\n",
    "\n",
    "model.add(layers.Embedding(input_dim=max_words, output_dim=embedding_dim, \n",
    "                          input_length=maxlen))\n",
    "\n",
    "model.add(layers.LSTM(64))\n",
    "model.add(Dropout(0.5))\n",
    "\n",
    "model.add(Dense(units=32, activation='relu'))\n",
    "model.add(Dense(units=class_number, activation='softmax'))\n",
    "\n",
    "model.summary()"
   ]
  },
  {
   "cell_type": "code",
   "execution_count": 52,
   "id": "b8e87887",
   "metadata": {},
   "outputs": [
    {
     "name": "stdout",
     "output_type": "stream",
     "text": [
      "/Users/jsha/gjai/nlp/pytest/17_practice/ --- Folder already exists\n",
      "\n"
     ]
    }
   ],
   "source": [
    "from keras.callbacks import EarlyStopping\n",
    "import os\n",
    "\n",
    "checkpoint_path = working_path\n",
    "# checkpoint_dir = os.path.dirname(checkpoint_path)\n",
    "if os.path.exists(checkpoint_path):\n",
    "    print('{} --- Folder already exists\\n'.format(checkpoint_path))\n",
    "else:\n",
    "    os.makedirs(checkpoint_path, exist_ok=True)\n",
    "    print('{} --- Folder created\\n'.format(checkpoint_path))"
   ]
  },
  {
   "cell_type": "code",
   "execution_count": 53,
   "id": "2e3f563e",
   "metadata": {},
   "outputs": [],
   "source": [
    "model.compile(optimizer='rmsprop', loss='categorical_crossentropy',\n",
    "             metrics=['acc'])"
   ]
  },
  {
   "cell_type": "code",
   "execution_count": 54,
   "id": "6acd768c",
   "metadata": {
    "scrolled": true
   },
   "outputs": [
    {
     "name": "stderr",
     "output_type": "stream",
     "text": [
      "/Users/jsha/opt/anaconda3/envs/nlp3710/lib/python3.7/site-packages/tensorflow_core/python/framework/indexed_slices.py:424: UserWarning: Converting sparse IndexedSlices to a dense Tensor of unknown shape. This may consume a large amount of memory.\n",
      "  \"Converting sparse IndexedSlices to a dense Tensor of unknown shape. \"\n"
     ]
    },
    {
     "name": "stdout",
     "output_type": "stream",
     "text": [
      "Train on 4754 samples, validate on 2038 samples\n",
      "Epoch 1/10\n",
      "4754/4754 [==============================] - 19s 4ms/step - loss: 1.5912 - acc: 0.4407 - val_loss: 2.1432 - val_acc: 0.4539\n",
      "\n",
      "Epoch 00001: val_acc improved from -inf to 0.45388, saving model to /Users/jsha/gjai/nlp/pytest/17_practice/분류1_we_rnn_l2_model.h5\n",
      "Epoch 2/10\n",
      "4754/4754 [==============================] - 18s 4ms/step - loss: 1.0929 - acc: 0.6180 - val_loss: 1.1587 - val_acc: 0.5986\n",
      "\n",
      "Epoch 00002: val_acc improved from 0.45388 to 0.59863, saving model to /Users/jsha/gjai/nlp/pytest/17_practice/분류1_we_rnn_l2_model.h5\n",
      "Epoch 3/10\n",
      "4754/4754 [==============================] - 16s 3ms/step - loss: 0.8516 - acc: 0.7000 - val_loss: 1.3855 - val_acc: 0.5643\n",
      "\n",
      "Epoch 00003: val_acc did not improve from 0.59863\n",
      "Epoch 4/10\n",
      "4754/4754 [==============================] - 16s 3ms/step - loss: 0.6223 - acc: 0.7716 - val_loss: 1.0890 - val_acc: 0.6717\n",
      "\n",
      "Epoch 00004: val_acc improved from 0.59863 to 0.67174, saving model to /Users/jsha/gjai/nlp/pytest/17_practice/분류1_we_rnn_l2_model.h5\n",
      "Epoch 5/10\n",
      "4754/4754 [==============================] - 19s 4ms/step - loss: 0.4349 - acc: 0.8544 - val_loss: 1.2096 - val_acc: 0.6982\n",
      "\n",
      "Epoch 00005: val_acc improved from 0.67174 to 0.69823, saving model to /Users/jsha/gjai/nlp/pytest/17_practice/분류1_we_rnn_l2_model.h5\n",
      "Epoch 6/10\n",
      "4754/4754 [==============================] - 22s 5ms/step - loss: 0.2842 - acc: 0.9182 - val_loss: 1.2623 - val_acc: 0.7031\n",
      "\n",
      "Epoch 00006: val_acc improved from 0.69823 to 0.70314, saving model to /Users/jsha/gjai/nlp/pytest/17_practice/분류1_we_rnn_l2_model.h5\n",
      "Epoch 7/10\n",
      "4754/4754 [==============================] - 20s 4ms/step - loss: 0.1854 - acc: 0.9489 - val_loss: 1.5912 - val_acc: 0.7076\n",
      "\n",
      "Epoch 00007: val_acc improved from 0.70314 to 0.70756, saving model to /Users/jsha/gjai/nlp/pytest/17_practice/분류1_we_rnn_l2_model.h5\n",
      "Epoch 8/10\n",
      "4754/4754 [==============================] - 22s 5ms/step - loss: 0.1204 - acc: 0.9642 - val_loss: 1.5453 - val_acc: 0.7174\n",
      "\n",
      "Epoch 00008: val_acc improved from 0.70756 to 0.71737, saving model to /Users/jsha/gjai/nlp/pytest/17_practice/분류1_we_rnn_l2_model.h5\n",
      "Epoch 9/10\n",
      "4754/4754 [==============================] - 19s 4ms/step - loss: 0.0736 - acc: 0.9783 - val_loss: 1.8829 - val_acc: 0.7115\n",
      "\n",
      "Epoch 00009: val_acc did not improve from 0.71737\n",
      "Epoch 10/10\n",
      "4754/4754 [==============================] - 17s 4ms/step - loss: 0.0534 - acc: 0.9867 - val_loss: 2.1572 - val_acc: 0.7080\n",
      "\n",
      "Epoch 00010: val_acc did not improve from 0.71737\n"
     ]
    }
   ],
   "source": [
    "from keras.callbacks import ModelCheckpoint\n",
    "\n",
    "# earlystop_callback = EarlyStopping(monitor='val_acc', patience=2)\n",
    "cp_callback = ModelCheckpoint(filepath=checkpoint_path+model_name,\n",
    "                             monitor='val_acc', verbose=1, \n",
    "                             save_best_only=True)\n",
    "history = model.fit(x_train, y_train, epochs=epochs,\n",
    "                   batch_size=batch_size, validation_split=0.3,\n",
    "                   callbacks=[cp_callback], verbose=1)\n",
    "history_dict = history.history"
   ]
  },
  {
   "cell_type": "markdown",
   "id": "9d25d483",
   "metadata": {},
   "source": [
    "### 결과"
   ]
  },
  {
   "cell_type": "code",
   "execution_count": 58,
   "id": "f58bdabb",
   "metadata": {},
   "outputs": [
    {
     "name": "stdout",
     "output_type": "stream",
     "text": [
      "validation accuracy of each epoch: [0.454 0.599 0.564 0.672 0.698 0.703 0.708 0.717 0.711 0.708]\n",
      "validation loss of each epoch: [2.143 1.159 1.386 1.089 1.21  1.262 1.591 1.545 1.883 2.157]\n"
     ]
    }
   ],
   "source": [
    "acc = history.history['acc']\n",
    "val_acc = history.history['val_acc']\n",
    "loss = history.history['loss']\n",
    "val_loss = history.history['val_loss']\n",
    "\n",
    "acc_list.append(acc)\n",
    "val_acc_list.append(val_acc)\n",
    "loss_list.append(loss)\n",
    "val_loss_list.append(val_loss)\n",
    "\n",
    "print('validation accuracy of each epoch:', np.round(val_acc,3))\n",
    "epochs = range(1, len(val_acc)+1)\n",
    "print('validation loss of each epoch:', np.round(val_loss,3))"
   ]
  },
  {
   "cell_type": "code",
   "execution_count": 57,
   "id": "61942c3f",
   "metadata": {},
   "outputs": [
    {
     "data": {
      "text/plain": [
       "2"
      ]
     },
     "execution_count": 57,
     "metadata": {},
     "output_type": "execute_result"
    }
   ],
   "source": [
    "len(val_acc_list)"
   ]
  },
  {
   "cell_type": "code",
   "execution_count": null,
   "id": "08f8b349",
   "metadata": {},
   "outputs": [],
   "source": []
  },
  {
   "cell_type": "markdown",
   "id": "bb3e6efa",
   "metadata": {},
   "source": [
    "## we+dropout"
   ]
  },
  {
   "cell_type": "code",
   "execution_count": 92,
   "id": "8c523bb7",
   "metadata": {},
   "outputs": [],
   "source": [
    "import os\n",
    "\n",
    "class_number = y_train.shape[-1]\n",
    "epochs = 10\n",
    "batch_size = 50\n",
    "embedding_dim = 200\n",
    "model_name = '분류1_we_dropout_model.h5'\n",
    "tokenizer_name = '분류1_we_dropout_token.pickle'\n",
    "labelencode_name = '분류1_we_dropout_le.pickle'\n",
    "\n",
    "# working_path = '/Users/jsha/gjai/nlp/pytest/15_working/'\n",
    "# save_path = working_path + 'practice/'\n",
    "# if not os.path.exists(save_path):\n",
    "#     os.mkdir(save_path)\n",
    "#     print(f'made {save_path} directory')\n",
    "# os.chdir(save_path)"
   ]
  },
  {
   "cell_type": "code",
   "execution_count": 69,
   "id": "a4ccf077",
   "metadata": {},
   "outputs": [
    {
     "name": "stdout",
     "output_type": "stream",
     "text": [
      "Model: \"sequential_11\"\n",
      "_________________________________________________________________\n",
      "Layer (type)                 Output Shape              Param #   \n",
      "=================================================================\n",
      "embedding_11 (Embedding)     (None, 40, 200)           2000000   \n",
      "_________________________________________________________________\n",
      "flatten_3 (Flatten)          (None, 8000)              0         \n",
      "_________________________________________________________________\n",
      "dense_20 (Dense)             (None, 32)                256032    \n",
      "_________________________________________________________________\n",
      "dropout_8 (Dropout)          (None, 32)                0         \n",
      "_________________________________________________________________\n",
      "dense_21 (Dense)             (None, 9)                 297       \n",
      "=================================================================\n",
      "Total params: 2,256,329\n",
      "Trainable params: 2,256,329\n",
      "Non-trainable params: 0\n",
      "_________________________________________________________________\n"
     ]
    }
   ],
   "source": [
    "from keras.models import Sequential\n",
    "from keras.layers import Dense, Dropout\n",
    "from keras import layers\n",
    "from keras import regularizers\n",
    "\n",
    "model = Sequential()\n",
    "\n",
    "model.add(layers.Embedding(input_dim=max_words, output_dim=embedding_dim, \n",
    "                          input_length=maxlen))\n",
    "\n",
    "model.add(layers.Flatten())\n",
    "\n",
    "model.add(Dense(units=32, activation='relu'))\n",
    "model.add(Dropout(0.5))\n",
    "model.add(Dense(units=class_number, activation='softmax'))\n",
    "\n",
    "model.summary()"
   ]
  },
  {
   "cell_type": "code",
   "execution_count": 70,
   "id": "b2009f8b",
   "metadata": {},
   "outputs": [
    {
     "name": "stdout",
     "output_type": "stream",
     "text": [
      "/Users/jsha/gjai/nlp/pytest/17_practice/ --- Folder already exists\n",
      "\n"
     ]
    }
   ],
   "source": [
    "from keras.callbacks import EarlyStopping\n",
    "import os\n",
    "\n",
    "checkpoint_path = working_path\n",
    "# checkpoint_dir = os.path.dirname(checkpoint_path)\n",
    "if os.path.exists(checkpoint_path):\n",
    "    print('{} --- Folder already exists\\n'.format(checkpoint_path))\n",
    "else:\n",
    "    os.makedirs(checkpoint_path, exist_ok=True)\n",
    "    print('{} --- Folder created\\n'.format(checkpoint_path))"
   ]
  },
  {
   "cell_type": "code",
   "execution_count": 71,
   "id": "88d138a7",
   "metadata": {},
   "outputs": [],
   "source": [
    "model.compile(optimizer='rmsprop', loss='categorical_crossentropy',\n",
    "             metrics=['acc'])"
   ]
  },
  {
   "cell_type": "code",
   "execution_count": 72,
   "id": "189f5973",
   "metadata": {
    "scrolled": true
   },
   "outputs": [
    {
     "name": "stderr",
     "output_type": "stream",
     "text": [
      "/Users/jsha/opt/anaconda3/envs/nlp3710/lib/python3.7/site-packages/tensorflow_core/python/framework/indexed_slices.py:424: UserWarning: Converting sparse IndexedSlices to a dense Tensor of unknown shape. This may consume a large amount of memory.\n",
      "  \"Converting sparse IndexedSlices to a dense Tensor of unknown shape. \"\n"
     ]
    },
    {
     "name": "stdout",
     "output_type": "stream",
     "text": [
      "Train on 4754 samples, validate on 2038 samples\n",
      "Epoch 1/10\n",
      "4754/4754 [==============================] - 4s 811us/step - loss: 1.8196 - acc: 0.3586 - val_loss: 1.5469 - val_acc: 0.5280\n",
      "\n",
      "Epoch 00001: val_acc improved from -inf to 0.52797, saving model to /Users/jsha/gjai/nlp/pytest/17_practice/분류1_we_rnn_l2_model.h5\n",
      "Epoch 2/10\n",
      "4754/4754 [==============================] - 3s 641us/step - loss: 1.3618 - acc: 0.5486 - val_loss: 1.2366 - val_acc: 0.5417\n",
      "\n",
      "Epoch 00002: val_acc improved from 0.52797 to 0.54171, saving model to /Users/jsha/gjai/nlp/pytest/17_practice/분류1_we_rnn_l2_model.h5\n",
      "Epoch 3/10\n",
      "4754/4754 [==============================] - 3s 669us/step - loss: 1.0543 - acc: 0.6443 - val_loss: 1.1054 - val_acc: 0.6153\n",
      "\n",
      "Epoch 00003: val_acc improved from 0.54171 to 0.61531, saving model to /Users/jsha/gjai/nlp/pytest/17_practice/분류1_we_rnn_l2_model.h5\n",
      "Epoch 4/10\n",
      "4754/4754 [==============================] - 4s 771us/step - loss: 0.7526 - acc: 0.7692 - val_loss: 1.0237 - val_acc: 0.6658\n",
      "\n",
      "Epoch 00004: val_acc improved from 0.61531 to 0.66585, saving model to /Users/jsha/gjai/nlp/pytest/17_practice/분류1_we_rnn_l2_model.h5\n",
      "Epoch 5/10\n",
      "4754/4754 [==============================] - 4s 807us/step - loss: 0.5020 - acc: 0.8685 - val_loss: 1.0350 - val_acc: 0.6712\n",
      "\n",
      "Epoch 00005: val_acc improved from 0.66585 to 0.67125, saving model to /Users/jsha/gjai/nlp/pytest/17_practice/분류1_we_rnn_l2_model.h5\n",
      "Epoch 6/10\n",
      "4754/4754 [==============================] - 4s 757us/step - loss: 0.3174 - acc: 0.9293 - val_loss: 1.0194 - val_acc: 0.6835\n",
      "\n",
      "Epoch 00006: val_acc improved from 0.67125 to 0.68351, saving model to /Users/jsha/gjai/nlp/pytest/17_practice/분류1_we_rnn_l2_model.h5\n",
      "Epoch 7/10\n",
      "4754/4754 [==============================] - 4s 770us/step - loss: 0.2107 - acc: 0.9518 - val_loss: 1.1012 - val_acc: 0.6933\n",
      "\n",
      "Epoch 00007: val_acc improved from 0.68351 to 0.69333, saving model to /Users/jsha/gjai/nlp/pytest/17_practice/분류1_we_rnn_l2_model.h5\n",
      "Epoch 8/10\n",
      "4754/4754 [==============================] - 3s 694us/step - loss: 0.1294 - acc: 0.9676 - val_loss: 1.2699 - val_acc: 0.6923\n",
      "\n",
      "Epoch 00008: val_acc did not improve from 0.69333\n",
      "Epoch 9/10\n",
      "4754/4754 [==============================] - 3s 719us/step - loss: 0.0859 - acc: 0.9794 - val_loss: 1.2848 - val_acc: 0.7007\n",
      "\n",
      "Epoch 00009: val_acc improved from 0.69333 to 0.70069, saving model to /Users/jsha/gjai/nlp/pytest/17_practice/분류1_we_rnn_l2_model.h5\n",
      "Epoch 10/10\n",
      "4754/4754 [==============================] - 3s 695us/step - loss: 0.0702 - acc: 0.9840 - val_loss: 1.4057 - val_acc: 0.7022\n",
      "\n",
      "Epoch 00010: val_acc improved from 0.70069 to 0.70216, saving model to /Users/jsha/gjai/nlp/pytest/17_practice/분류1_we_rnn_l2_model.h5\n"
     ]
    }
   ],
   "source": [
    "from keras.callbacks import ModelCheckpoint\n",
    "\n",
    "# earlystop_callback = EarlyStopping(monitor='val_acc', patience=2)\n",
    "cp_callback = ModelCheckpoint(filepath=checkpoint_path+model_name,\n",
    "                             monitor='val_acc', verbose=1, \n",
    "                             save_best_only=True)\n",
    "history = model.fit(x_train, y_train, epochs=epochs,\n",
    "                   batch_size=batch_size, validation_split=0.3,\n",
    "                   callbacks=[cp_callback], verbose=1)\n",
    "history_dict = history.history"
   ]
  },
  {
   "cell_type": "markdown",
   "id": "f26d1ff4",
   "metadata": {},
   "source": [
    "### 결과"
   ]
  },
  {
   "cell_type": "code",
   "execution_count": 73,
   "id": "655801ff",
   "metadata": {},
   "outputs": [
    {
     "name": "stdout",
     "output_type": "stream",
     "text": [
      "validation accuracy of each epoch: [0.528 0.542 0.615 0.666 0.671 0.684 0.693 0.692 0.701 0.702]\n",
      "validation loss of each epoch: [1.547 1.237 1.105 1.024 1.035 1.019 1.101 1.27  1.285 1.406]\n"
     ]
    }
   ],
   "source": [
    "acc = history.history['acc']\n",
    "val_acc = history.history['val_acc']\n",
    "loss = history.history['loss']\n",
    "val_loss = history.history['val_loss']\n",
    "\n",
    "acc_list.append(acc)\n",
    "val_acc_list.append(val_acc)\n",
    "loss_list.append(loss)\n",
    "val_loss_list.append(val_loss)\n",
    "\n",
    "print('validation accuracy of each epoch:', np.round(val_acc,3))\n",
    "epochs = range(1, len(val_acc)+1)\n",
    "print('validation loss of each epoch:', np.round(val_loss,3))"
   ]
  },
  {
   "cell_type": "code",
   "execution_count": 74,
   "id": "e51f5e10",
   "metadata": {},
   "outputs": [
    {
     "data": {
      "text/plain": [
       "4"
      ]
     },
     "execution_count": 74,
     "metadata": {},
     "output_type": "execute_result"
    }
   ],
   "source": [
    "len(val_acc_list)"
   ]
  },
  {
   "cell_type": "code",
   "execution_count": null,
   "id": "fe2fe1eb",
   "metadata": {},
   "outputs": [],
   "source": []
  },
  {
   "cell_type": "markdown",
   "id": "a266b3b6",
   "metadata": {},
   "source": [
    "## we+bidirectional_LSTM"
   ]
  },
  {
   "cell_type": "code",
   "execution_count": 92,
   "id": "609d1f4f",
   "metadata": {},
   "outputs": [],
   "source": [
    "import os\n",
    "\n",
    "class_number = y_train.shape[-1]\n",
    "epochs = 10\n",
    "batch_size = 50\n",
    "embedding_dim = 200\n",
    "model_name = '분류1_we_bidirectional_lstm_model.h5'\n",
    "tokenizer_name = '분류1_we_bidirectional_lstm_token.pickle'\n",
    "labelencode_name = '분류1_we_bidirectional_lstm_le.pickle'\n",
    "\n",
    "# working_path = '/Users/jsha/gjai/nlp/pytest/15_working/'\n",
    "# save_path = working_path + 'practice/'\n",
    "# if not os.path.exists(save_path):\n",
    "#     os.mkdir(save_path)\n",
    "#     print(f'made {save_path} directory')\n",
    "# os.chdir(save_path)"
   ]
  },
  {
   "cell_type": "code",
   "execution_count": 76,
   "id": "9e210c88",
   "metadata": {},
   "outputs": [
    {
     "name": "stdout",
     "output_type": "stream",
     "text": [
      "Model: \"sequential_12\"\n",
      "_________________________________________________________________\n",
      "Layer (type)                 Output Shape              Param #   \n",
      "=================================================================\n",
      "embedding_12 (Embedding)     (None, 40, 200)           2000000   \n",
      "_________________________________________________________________\n",
      "bidirectional_1 (Bidirection (None, 128)               135680    \n",
      "_________________________________________________________________\n",
      "dense_22 (Dense)             (None, 32)                4128      \n",
      "_________________________________________________________________\n",
      "dense_23 (Dense)             (None, 9)                 297       \n",
      "=================================================================\n",
      "Total params: 2,140,105\n",
      "Trainable params: 2,140,105\n",
      "Non-trainable params: 0\n",
      "_________________________________________________________________\n"
     ]
    }
   ],
   "source": [
    "from keras.models import Sequential\n",
    "from keras.layers import Dense, Dropout\n",
    "from keras import layers\n",
    "from keras import regularizers\n",
    "\n",
    "model = Sequential()\n",
    "\n",
    "model.add(layers.Embedding(input_dim=max_words, output_dim=embedding_dim, \n",
    "                          input_length=maxlen))\n",
    "\n",
    "model.add(layers.Bidirectional(layers.LSTM(64)))\n",
    "\n",
    "model.add(Dense(units=32, activation='relu'))\n",
    "model.add(Dense(units=class_number, activation='softmax'))\n",
    "\n",
    "model.summary()"
   ]
  },
  {
   "cell_type": "code",
   "execution_count": 77,
   "id": "84615b29",
   "metadata": {},
   "outputs": [
    {
     "name": "stdout",
     "output_type": "stream",
     "text": [
      "/Users/jsha/gjai/nlp/pytest/17_practice/ --- Folder already exists\n",
      "\n"
     ]
    }
   ],
   "source": [
    "from keras.callbacks import EarlyStopping\n",
    "import os\n",
    "\n",
    "checkpoint_path = working_path\n",
    "# checkpoint_dir = os.path.dirname(checkpoint_path)\n",
    "if os.path.exists(checkpoint_path):\n",
    "    print('{} --- Folder already exists\\n'.format(checkpoint_path))\n",
    "else:\n",
    "    os.makedirs(checkpoint_path, exist_ok=True)\n",
    "    print('{} --- Folder created\\n'.format(checkpoint_path))"
   ]
  },
  {
   "cell_type": "code",
   "execution_count": 78,
   "id": "ee5323f2",
   "metadata": {},
   "outputs": [],
   "source": [
    "model.compile(optimizer='rmsprop', loss='categorical_crossentropy',\n",
    "             metrics=['acc'])"
   ]
  },
  {
   "cell_type": "code",
   "execution_count": 79,
   "id": "7d8f2965",
   "metadata": {
    "scrolled": true
   },
   "outputs": [
    {
     "name": "stderr",
     "output_type": "stream",
     "text": [
      "/Users/jsha/opt/anaconda3/envs/nlp3710/lib/python3.7/site-packages/tensorflow_core/python/framework/indexed_slices.py:424: UserWarning: Converting sparse IndexedSlices to a dense Tensor of unknown shape. This may consume a large amount of memory.\n",
      "  \"Converting sparse IndexedSlices to a dense Tensor of unknown shape. \"\n"
     ]
    },
    {
     "name": "stdout",
     "output_type": "stream",
     "text": [
      "Train on 4754 samples, validate on 2038 samples\n",
      "Epoch 1/10\n",
      "4754/4754 [==============================] - 25s 5ms/step - loss: 1.5756 - acc: 0.4285 - val_loss: 1.2855 - val_acc: 0.5334\n",
      "\n",
      "Epoch 00001: val_acc improved from -inf to 0.53337, saving model to /Users/jsha/gjai/nlp/pytest/17_practice/분류1_we_rnn_l2_model.h5\n",
      "Epoch 2/10\n",
      "4754/4754 [==============================] - 23s 5ms/step - loss: 0.9828 - acc: 0.6569 - val_loss: 1.0774 - val_acc: 0.6060\n",
      "\n",
      "Epoch 00002: val_acc improved from 0.53337 to 0.60599, saving model to /Users/jsha/gjai/nlp/pytest/17_practice/분류1_we_rnn_l2_model.h5\n",
      "Epoch 3/10\n",
      "4754/4754 [==============================] - 25s 5ms/step - loss: 0.6649 - acc: 0.7808 - val_loss: 1.0826 - val_acc: 0.6251\n",
      "\n",
      "Epoch 00003: val_acc improved from 0.60599 to 0.62512, saving model to /Users/jsha/gjai/nlp/pytest/17_practice/분류1_we_rnn_l2_model.h5\n",
      "Epoch 4/10\n",
      "4754/4754 [==============================] - 21s 4ms/step - loss: 0.4342 - acc: 0.8650 - val_loss: 1.2647 - val_acc: 0.6585\n",
      "\n",
      "Epoch 00004: val_acc improved from 0.62512 to 0.65849, saving model to /Users/jsha/gjai/nlp/pytest/17_practice/분류1_we_rnn_l2_model.h5\n",
      "Epoch 5/10\n",
      "4754/4754 [==============================] - 28s 6ms/step - loss: 0.2881 - acc: 0.9188 - val_loss: 1.5196 - val_acc: 0.6369\n",
      "\n",
      "Epoch 00005: val_acc did not improve from 0.65849\n",
      "Epoch 6/10\n",
      "4754/4754 [==============================] - 29s 6ms/step - loss: 0.1959 - acc: 0.9447 - val_loss: 1.2263 - val_acc: 0.6860\n",
      "\n",
      "Epoch 00006: val_acc improved from 0.65849 to 0.68597, saving model to /Users/jsha/gjai/nlp/pytest/17_practice/분류1_we_rnn_l2_model.h5\n",
      "Epoch 7/10\n",
      "4754/4754 [==============================] - 28s 6ms/step - loss: 0.1325 - acc: 0.9655 - val_loss: 1.6111 - val_acc: 0.6899\n",
      "\n",
      "Epoch 00007: val_acc improved from 0.68597 to 0.68989, saving model to /Users/jsha/gjai/nlp/pytest/17_practice/분류1_we_rnn_l2_model.h5\n",
      "Epoch 8/10\n",
      "4754/4754 [==============================] - 27s 6ms/step - loss: 0.0901 - acc: 0.9775 - val_loss: 1.7354 - val_acc: 0.6845\n",
      "\n",
      "Epoch 00008: val_acc did not improve from 0.68989\n",
      "Epoch 9/10\n",
      "4754/4754 [==============================] - 28s 6ms/step - loss: 0.0624 - acc: 0.9832 - val_loss: 1.7908 - val_acc: 0.6845\n",
      "\n",
      "Epoch 00009: val_acc did not improve from 0.68989\n"
     ]
    }
   ],
   "source": [
    "from keras.callbacks import ModelCheckpoint\n",
    "\n",
    "# earlystop_callback = EarlyStopping(monitor='val_acc', patience=2)\n",
    "cp_callback = ModelCheckpoint(filepath=checkpoint_path+model_name,\n",
    "                             monitor='val_acc', verbose=1, \n",
    "                             save_best_only=True)\n",
    "history = model.fit(x_train, y_train, epochs=epochs,\n",
    "                   batch_size=batch_size, validation_split=0.3,\n",
    "                   callbacks=[cp_callback], verbose=1)\n",
    "history_dict = history.history"
   ]
  },
  {
   "cell_type": "markdown",
   "id": "56dfd74a",
   "metadata": {},
   "source": [
    "### 결과"
   ]
  },
  {
   "cell_type": "code",
   "execution_count": 80,
   "id": "16be3bc9",
   "metadata": {},
   "outputs": [
    {
     "name": "stdout",
     "output_type": "stream",
     "text": [
      "validation accuracy of each epoch: [0.533 0.606 0.625 0.658 0.637 0.686 0.69  0.684 0.684]\n",
      "validation loss of each epoch: [1.285 1.077 1.083 1.265 1.52  1.226 1.611 1.735 1.791]\n"
     ]
    }
   ],
   "source": [
    "acc = history.history['acc']\n",
    "val_acc = history.history['val_acc']\n",
    "loss = history.history['loss']\n",
    "val_loss = history.history['val_loss']\n",
    "\n",
    "acc_list.append(acc)\n",
    "val_acc_list.append(val_acc)\n",
    "loss_list.append(loss)\n",
    "val_loss_list.append(val_loss)\n",
    "\n",
    "print('validation accuracy of each epoch:', np.round(val_acc,3))\n",
    "epochs = range(1, len(val_acc)+1)\n",
    "print('validation loss of each epoch:', np.round(val_loss,3))"
   ]
  },
  {
   "cell_type": "code",
   "execution_count": 74,
   "id": "492c7abb",
   "metadata": {},
   "outputs": [
    {
     "data": {
      "text/plain": [
       "4"
      ]
     },
     "execution_count": 74,
     "metadata": {},
     "output_type": "execute_result"
    }
   ],
   "source": [
    "len(val_acc_list)"
   ]
  },
  {
   "cell_type": "markdown",
   "id": "7fdcfb61",
   "metadata": {},
   "source": [
    "### 결과"
   ]
  },
  {
   "cell_type": "code",
   "execution_count": 182,
   "id": "00197a29",
   "metadata": {},
   "outputs": [],
   "source": [
    "class1_acc_list = acc_list\n",
    "class1_val_acc_list = val_acc_list\n",
    "class1_loss_list = loss_list\n",
    "class1_val_loss_list = val_loss_list"
   ]
  },
  {
   "cell_type": "code",
   "execution_count": 185,
   "id": "2dfcbe14",
   "metadata": {
    "scrolled": true
   },
   "outputs": [
    {
     "data": {
      "image/png": "[encoded data removed]",
      "text/plain": [
       "<Figure size 432x288 with 1 Axes>"
      ]
     },
     "metadata": {
      "needs_background": "light"
     },
     "output_type": "display_data"
    }
   ],
   "source": [
    "import matplotlib.pyplot as plt\n",
    "\n",
    "names = ['word_embedding+LSTM', 'word_embedding+LSTM+L2',\n",
    "        'word_embedding+LSTM+Dropout', 'word_embedding+Dropout',\n",
    "        'word_embedding+bidirectional_LSTM']\n",
    "\n",
    "for acc, name in zip(class1_val_acc_list, names):\n",
    "    plt.plot(epochs, acc, marker='o', label=name)\n",
    "plt.legend()\n",
    "plt.title('Class1 Validation Accuracy')\n",
    "plt.xlabel('epochs')\n",
    "plt.ylabel('accuracy')\n",
    "plt.show()\n"
   ]
  },
  {
   "cell_type": "code",
   "execution_count": 186,
   "id": "1de3e1fc",
   "metadata": {},
   "outputs": [
    {
     "data": {
      "image/png": "[encoded data removed]",
      "text/plain": [
       "<Figure size 432x288 with 1 Axes>"
      ]
     },
     "metadata": {
      "needs_background": "light"
     },
     "output_type": "display_data"
    }
   ],
   "source": [
    "for loss, name in zip(class1_val_loss_list, names):\n",
    "    plt.plot(epochs, loss, marker='o', label=name)\n",
    "plt.legend()\n",
    "plt.title('Class1 Validation Loss')\n",
    "plt.xlabel('epochs')\n",
    "plt.ylabel('loss')\n",
    "plt.show()"
   ]
  },
  {
   "cell_type": "code",
   "execution_count": null,
   "id": "ab3f90fc",
   "metadata": {},
   "outputs": [],
   "source": []
  },
  {
   "cell_type": "markdown",
   "id": "4ac3ed9e",
   "metadata": {},
   "source": [
    "# 분류2"
   ]
  },
  {
   "cell_type": "code",
   "execution_count": 106,
   "id": "3849a1dd",
   "metadata": {},
   "outputs": [],
   "source": [
    "import pandas as pd\n",
    "from matplotlib import rc\n",
    "\n",
    "rc('font', family='AppleGothic')\n",
    "\n",
    "data_path = '/Users/jsha/gjai/nlp/pytest/16_practice/'\n",
    "filename1 = '분류2_뉴스데이터_morphed_train.csv'\n",
    "filename2 = '분류2_뉴스데이터_morphed_test.csv'\n",
    "\n",
    "train_df = pd.read_csv(data_path+filename1)\n",
    "test_df = pd.read_csv(data_path+filename2)"
   ]
  },
  {
   "cell_type": "code",
   "execution_count": 107,
   "id": "8da30b6d",
   "metadata": {},
   "outputs": [
    {
     "data": {
      "text/html": [
       "<div>\n",
       "<style scoped>\n",
       "    .dataframe tbody tr th:only-of-type {\n",
       "        vertical-align: middle;\n",
       "    }\n",
       "\n",
       "    .dataframe tbody tr th {\n",
       "        vertical-align: top;\n",
       "    }\n",
       "\n",
       "    .dataframe thead th {\n",
       "        text-align: right;\n",
       "    }\n",
       "</style>\n",
       "<table border=\"1\" class=\"dataframe\">\n",
       "  <thead>\n",
       "    <tr style=\"text-align: right;\">\n",
       "      <th></th>\n",
       "      <th>id</th>\n",
       "      <th>날짜</th>\n",
       "      <th>분류2</th>\n",
       "      <th>텍스트</th>\n",
       "      <th>분류2_상위</th>\n",
       "      <th>morphed</th>\n",
       "    </tr>\n",
       "  </thead>\n",
       "  <tbody>\n",
       "    <tr>\n",
       "      <th>0</th>\n",
       "      <td>1319794</td>\n",
       "      <td>20190412</td>\n",
       "      <td>문화,출판</td>\n",
       "      <td>이들은 성경이 난민에 대해 어떻게 말하고 있으며, 현 상황과 관련해 난민에 대한 정...</td>\n",
       "      <td>문화</td>\n",
       "      <td>성경 난민 대하 어떻하 말 있 현 상황과 관련 난민 대하 정확 하 팩트 밝히</td>\n",
       "    </tr>\n",
       "    <tr>\n",
       "      <th>1</th>\n",
       "      <td>1410943</td>\n",
       "      <td>20190503</td>\n",
       "      <td>사회,사회일반</td>\n",
       "      <td>충북 충주시는 3일 충주시청 중앙탑회의실에서 제47회 어버이날 유공자 시상식을 열고...</td>\n",
       "      <td>사회</td>\n",
       "      <td>충북 충주시 충주시 청 중앙 탑 회의실 어버이날 유공자 시상식 열 심영섭 효행 장한...</td>\n",
       "    </tr>\n",
       "    <tr>\n",
       "      <th>2</th>\n",
       "      <td>972814</td>\n",
       "      <td>20190122</td>\n",
       "      <td>스포츠,축구,한국프로축구</td>\n",
       "      <td>아시안게임이 U-23 대표팀 경기로 A 대표팀과는 객관적 지표에서 차이가 있지만, ...</td>\n",
       "      <td>스포츠</td>\n",
       "      <td>아시안게임 대표 팀 경기 대표 팀 객관적 지표 차이 있 그때 기억 황의 조의 자신감...</td>\n",
       "    </tr>\n",
       "    <tr>\n",
       "      <th>3</th>\n",
       "      <td>359452</td>\n",
       "      <td>20180828</td>\n",
       "      <td>IT_과학,과학</td>\n",
       "      <td>신기술전시회 280개 기업, 국제발명특허대전 160개 발명품, 국제컨퍼런스 40개 ...</td>\n",
       "      <td>IT_과학</td>\n",
       "      <td>신기술 전시회 기업 국제 발명 특허 대전 발명품 국제 컨퍼런스 세션 꾸미 명 관람객...</td>\n",
       "    </tr>\n",
       "    <tr>\n",
       "      <th>4</th>\n",
       "      <td>310019</td>\n",
       "      <td>20180816</td>\n",
       "      <td>스포츠,축구,해외축구</td>\n",
       "      <td>손흥민은 이미 지난 2018 러시아 월드컵 조벌예선 전 경기에 출전했을 뿐더러 토트...</td>\n",
       "      <td>스포츠</td>\n",
       "      <td>손 흥 민 이미 지나 러시아 월드컵 벌 예선 전 경기 출전 토트 넘 미국 프리 시즌...</td>\n",
       "    </tr>\n",
       "  </tbody>\n",
       "</table>\n",
       "</div>"
      ],
      "text/plain": [
       "        id        날짜            분류2  \\\n",
       "0  1319794  20190412          문화,출판   \n",
       "1  1410943  20190503        사회,사회일반   \n",
       "2   972814  20190122  스포츠,축구,한국프로축구   \n",
       "3   359452  20180828       IT_과학,과학   \n",
       "4   310019  20180816    스포츠,축구,해외축구   \n",
       "\n",
       "                                                 텍스트 분류2_상위  \\\n",
       "0  이들은 성경이 난민에 대해 어떻게 말하고 있으며, 현 상황과 관련해 난민에 대한 정...     문화   \n",
       "1  충북 충주시는 3일 충주시청 중앙탑회의실에서 제47회 어버이날 유공자 시상식을 열고...     사회   \n",
       "2  아시안게임이 U-23 대표팀 경기로 A 대표팀과는 객관적 지표에서 차이가 있지만, ...    스포츠   \n",
       "3  신기술전시회 280개 기업, 국제발명특허대전 160개 발명품, 국제컨퍼런스 40개 ...  IT_과학   \n",
       "4  손흥민은 이미 지난 2018 러시아 월드컵 조벌예선 전 경기에 출전했을 뿐더러 토트...    스포츠   \n",
       "\n",
       "                                             morphed  \n",
       "0         성경 난민 대하 어떻하 말 있 현 상황과 관련 난민 대하 정확 하 팩트 밝히  \n",
       "1  충북 충주시 충주시 청 중앙 탑 회의실 어버이날 유공자 시상식 열 심영섭 효행 장한...  \n",
       "2  아시안게임 대표 팀 경기 대표 팀 객관적 지표 차이 있 그때 기억 황의 조의 자신감...  \n",
       "3  신기술 전시회 기업 국제 발명 특허 대전 발명품 국제 컨퍼런스 세션 꾸미 명 관람객...  \n",
       "4  손 흥 민 이미 지나 러시아 월드컵 벌 예선 전 경기 출전 토트 넘 미국 프리 시즌...  "
      ]
     },
     "execution_count": 107,
     "metadata": {},
     "output_type": "execute_result"
    }
   ],
   "source": [
    "# train_df.head()\n",
    "# train_df['morphed'] = morphed_data\n",
    "train_df.head()"
   ]
  },
  {
   "cell_type": "code",
   "execution_count": 108,
   "id": "76da3c30",
   "metadata": {},
   "outputs": [
    {
     "data": {
      "text/html": [
       "<div>\n",
       "<style scoped>\n",
       "    .dataframe tbody tr th:only-of-type {\n",
       "        vertical-align: middle;\n",
       "    }\n",
       "\n",
       "    .dataframe tbody tr th {\n",
       "        vertical-align: top;\n",
       "    }\n",
       "\n",
       "    .dataframe thead th {\n",
       "        text-align: right;\n",
       "    }\n",
       "</style>\n",
       "<table border=\"1\" class=\"dataframe\">\n",
       "  <thead>\n",
       "    <tr style=\"text-align: right;\">\n",
       "      <th></th>\n",
       "      <th>id</th>\n",
       "      <th>날짜</th>\n",
       "      <th>분류2</th>\n",
       "      <th>텍스트</th>\n",
       "      <th>분류2_상위</th>\n",
       "      <th>morphed</th>\n",
       "    </tr>\n",
       "  </thead>\n",
       "  <tbody>\n",
       "    <tr>\n",
       "      <th>0</th>\n",
       "      <td>268980</td>\n",
       "      <td>20180806</td>\n",
       "      <td>경제,국제경제</td>\n",
       "      <td>이런 가격 조작 행위는 지난해 말 ‘코인 열풍’이 불 때부터 폭발적으로 늘어났다는 ...</td>\n",
       "      <td>경제</td>\n",
       "      <td>이런 가격 조작 행위 지난해 말 코인 열풍 불 때 폭발적 늘어나 설명</td>\n",
       "    </tr>\n",
       "    <tr>\n",
       "      <th>1</th>\n",
       "      <td>260551</td>\n",
       "      <td>20180803</td>\n",
       "      <td>국제,미국_북미</td>\n",
       "      <td>한 정보 소식통에 따르면 이 여성은 지난해 중순쯤 국무부로부터 비밀정보 사용 인가를...</td>\n",
       "      <td>국제</td>\n",
       "      <td>하 정보 소식통 따르 이 여성 지난해 중순쯤 국무부 비밀 정보 사용 인가 취소 당하...</td>\n",
       "    </tr>\n",
       "    <tr>\n",
       "      <th>2</th>\n",
       "      <td>390392</td>\n",
       "      <td>20180903</td>\n",
       "      <td>국제,중국</td>\n",
       "      <td>시진핑(習近平) 중국 국가주석은 오는 11월 파푸아뉴기니에서 열리는 아시아·태평양경...</td>\n",
       "      <td>국제</td>\n",
       "      <td>시진 핑 중국 국가주석 오 파푸아뉴기니 열리 아시아 태평양 경제 협력체 정상 회의 ...</td>\n",
       "    </tr>\n",
       "    <tr>\n",
       "      <th>3</th>\n",
       "      <td>215899</td>\n",
       "      <td>20180723</td>\n",
       "      <td>경제,산업_기업</td>\n",
       "      <td>이번 세이프가드는 최근 3년간 평균 수입물량으로 쿼터를 산정 후 쿼터 초과 수입물량...</td>\n",
       "      <td>경제</td>\n",
       "      <td>이번 세이프가드 최근 평균 수입 물량 쿼터 산정 후 쿼터 초과 수입 물량 대하 관세...</td>\n",
       "    </tr>\n",
       "    <tr>\n",
       "      <th>4</th>\n",
       "      <td>380078</td>\n",
       "      <td>20180902</td>\n",
       "      <td>스포츠,축구,해외축구</td>\n",
       "      <td>손흥민과 이승우, 황의조와 황희찬 등 해외에서 활약하는 선수들은 더 이상 병역 문제...</td>\n",
       "      <td>스포츠</td>\n",
       "      <td>손 흥 민 이승우 황의 황희찬 해외 활약 선수 더 이상 병역 문제 발목 잡히 국내 ...</td>\n",
       "    </tr>\n",
       "  </tbody>\n",
       "</table>\n",
       "</div>"
      ],
      "text/plain": [
       "       id        날짜          분류2  \\\n",
       "0  268980  20180806      경제,국제경제   \n",
       "1  260551  20180803     국제,미국_북미   \n",
       "2  390392  20180903        국제,중국   \n",
       "3  215899  20180723     경제,산업_기업   \n",
       "4  380078  20180902  스포츠,축구,해외축구   \n",
       "\n",
       "                                                 텍스트 분류2_상위  \\\n",
       "0  이런 가격 조작 행위는 지난해 말 ‘코인 열풍’이 불 때부터 폭발적으로 늘어났다는 ...     경제   \n",
       "1  한 정보 소식통에 따르면 이 여성은 지난해 중순쯤 국무부로부터 비밀정보 사용 인가를...     국제   \n",
       "2  시진핑(習近平) 중국 국가주석은 오는 11월 파푸아뉴기니에서 열리는 아시아·태평양경...     국제   \n",
       "3  이번 세이프가드는 최근 3년간 평균 수입물량으로 쿼터를 산정 후 쿼터 초과 수입물량...     경제   \n",
       "4  손흥민과 이승우, 황의조와 황희찬 등 해외에서 활약하는 선수들은 더 이상 병역 문제...    스포츠   \n",
       "\n",
       "                                             morphed  \n",
       "0             이런 가격 조작 행위 지난해 말 코인 열풍 불 때 폭발적 늘어나 설명  \n",
       "1  하 정보 소식통 따르 이 여성 지난해 중순쯤 국무부 비밀 정보 사용 인가 취소 당하...  \n",
       "2  시진 핑 중국 국가주석 오 파푸아뉴기니 열리 아시아 태평양 경제 협력체 정상 회의 ...  \n",
       "3  이번 세이프가드 최근 평균 수입 물량 쿼터 산정 후 쿼터 초과 수입 물량 대하 관세...  \n",
       "4  손 흥 민 이승우 황의 황희찬 해외 활약 선수 더 이상 병역 문제 발목 잡히 국내 ...  "
      ]
     },
     "execution_count": 108,
     "metadata": {},
     "output_type": "execute_result"
    }
   ],
   "source": [
    "test_df.head()"
   ]
  },
  {
   "cell_type": "code",
   "execution_count": 109,
   "id": "24600505",
   "metadata": {},
   "outputs": [
    {
     "name": "stdout",
     "output_type": "stream",
     "text": [
      "['문화', '사회', '스포츠']\n",
      "['성경 난민 대하 어떻하 말 있 현 상황과 관련 난민 대하 정확 하 팩트 밝히', '충북 충주시 충주시 청 중앙 탑 회의실 어버이날 유공자 시상식 열 심영섭 효행 장한 어버이 표창장 수여', '아시안게임 대표 팀 경기 대표 팀 객관적 지표 차이 있 그때 기억 황의 조의 자신감 불태우 충분']\n",
      "--------------------------------------------------\n",
      "['경제', '국제', '국제']\n",
      "['이런 가격 조작 행위 지난해 말 코인 열풍 불 때 폭발적 늘어나 설명', '하 정보 소식통 따르 이 여성 지난해 중순쯤 국무부 비밀 정보 사용 인가 취소 당하 직후 해고 되', '시진 핑 중국 국가주석 오 파푸아뉴기니 열리 아시아 태평양 경제 협력체 정상 회의 전후 태평 도서 국 정상 회담 알리']\n"
     ]
    }
   ],
   "source": [
    "from sklearn.model_selection import train_test_split\n",
    "\n",
    "data_text = train_df.loc[:,'morphed'].to_list()\n",
    "data_label = train_df.loc[:,'분류2_상위'].to_list()\n",
    "print(data_label[:3])\n",
    "print(data_text[:3])\n",
    "\n",
    "print('-'*50)\n",
    "\n",
    "data_text_test = test_df.loc[:,'morphed'].to_list()\n",
    "data_label_test = test_df.loc[:,'분류2_상위'].to_list()\n",
    "print(data_label_test[:3])\n",
    "print(data_text_test[:3])\n",
    "\n",
    "train_data_text = data_text\n",
    "train_data_label = data_label\n",
    "test_data_text = data_text_test\n",
    "test_data_label = data_label_test\n",
    "# train_data_text, test_data_text, train_data_label, test_data_label = \\\n",
    "# train_test_split(data_text, data_label, stratify=data_label, \n",
    "#                  test_size=0.3, random_state=1111)"
   ]
  },
  {
   "cell_type": "code",
   "execution_count": 110,
   "id": "d886bdf1",
   "metadata": {},
   "outputs": [
    {
     "name": "stdout",
     "output_type": "stream",
     "text": [
      "4730\n",
      "1593\n"
     ]
    }
   ],
   "source": [
    "print(len(train_data_text))\n",
    "print(len(test_data_text))"
   ]
  },
  {
   "cell_type": "code",
   "execution_count": 111,
   "id": "5652614b",
   "metadata": {},
   "outputs": [
    {
     "name": "stdout",
     "output_type": "stream",
     "text": [
      "train_data_label_freq: Counter({'지역': 1047, '경제': 936, '스포츠': 910, '사회': 473, '국제': 466, '문화': 463, 'IT_과학': 288, '정치': 147})\n",
      "test_data_label_freq: Counter({'지역': 349, '경제': 329, '스포츠': 303, '사회': 163, '국제': 142, 'IT_과학': 126, '문화': 125, '정치': 56})\n"
     ]
    }
   ],
   "source": [
    "from collections import Counter\n",
    "train_data_label_freq = Counter(train_data_label)\n",
    "print('train_data_label_freq:', train_data_label_freq)\n",
    "\n",
    "test_data_label_freq = Counter(test_data_label)\n",
    "print('test_data_label_freq:', test_data_label_freq)\n"
   ]
  },
  {
   "cell_type": "code",
   "execution_count": 112,
   "id": "bf3691bc",
   "metadata": {},
   "outputs": [
    {
     "name": "stdout",
     "output_type": "stream",
     "text": [
      "최소길이: 4\n",
      "최대길이: 54\n",
      "평균길이: 19.5\n",
      "중위수길이: 19.0\n",
      "percentile  : [0, 25, 50, 75, 90, 99, 100]\n",
      "구간별 최대 길이: [ 4. 16. 19. 22. 27. 35. 54.]\n",
      "최소길이 문장: 투입 예산 내년 총\n",
      "최대길이 문장: 주요 신규 사업 삼사해상공원 해 파랑 공원 파도 걷기 보행 조성 새 뜰 사업 축산 블루 시티 조성 사업 예 주 고을 역사 문화 공원 조성 사업 오십천 그린 로드 조성 영덕 도서관 건립 사업 영덕 애니메이션 테마파크 조성 사업 영덕 하 양교 션 강구면 화전 우수 저류 시설 설치 아름답 소하천 꾸 사업\n"
     ]
    }
   ],
   "source": [
    "import numpy as np\n",
    "\n",
    "text_len = [len(line.split(' ')) for line in train_data_text]\n",
    "print('최소길이:', np.min(text_len))\n",
    "print('최대길이:', np.max(text_len))\n",
    "print('평균길이:', np.round(np.mean(text_len),1))\n",
    "print('중위수길이:', np.median(text_len))\n",
    "print('percentile  : [0, 25, 50, 75, 90, 99, 100]')\n",
    "print('구간별 최대 길이:', np.percentile(text_len, [0, 25, 50, 75, 90, 99, 100]))\n",
    "print('최소길이 문장:', train_data_text[np.argmin(text_len)])\n",
    "print('최대길이 문장:', train_data_text[np.argmax(text_len)])"
   ]
  },
  {
   "cell_type": "code",
   "execution_count": 113,
   "id": "7b3be1c7",
   "metadata": {},
   "outputs": [],
   "source": [
    "from keras.preprocessing.text import Tokenizer\n",
    "from keras.preprocessing.sequence import pad_sequences\n",
    "import numpy as np\n",
    "import math \n",
    "\n",
    "max_words = 10000\n",
    "maxlen = 40\n",
    "\n",
    "tokenizer = Tokenizer(num_words=max_words)\n",
    "tokenizer.fit_on_texts(train_data_text)\n",
    "word_index = tokenizer.word_index"
   ]
  },
  {
   "cell_type": "code",
   "execution_count": 114,
   "id": "11a88cec",
   "metadata": {},
   "outputs": [
    {
     "name": "stdout",
     "output_type": "stream",
     "text": [
      "wjscpdptj 15300개의 고유한 토큰을 찾았습니다\n",
      "word_index type: <class 'dict'>\n"
     ]
    }
   ],
   "source": [
    "print('wjscpdptj %s개의 고유한 토큰을 찾았습니다' % len(word_index))\n",
    "print('word_index type:', type(word_index))\n",
    "# print('word_index:', word_index)"
   ]
  },
  {
   "cell_type": "code",
   "execution_count": 115,
   "id": "bf97b813",
   "metadata": {},
   "outputs": [
    {
     "name": "stdout",
     "output_type": "stream",
     "text": [
      "최대 문장 길이: 49\n",
      "최소 문장 길이: 4\n"
     ]
    }
   ],
   "source": [
    "seq_data = tokenizer.texts_to_sequences(train_data_text)\n",
    "# print('data', data)\n",
    "\n",
    "len_d = [len(d) for d in seq_data]\n",
    "# print('길이:', len_d)\n",
    "print('최대 문장 길이:', max(len_d))\n",
    "print('최소 문장 길이:', min(len_d))"
   ]
  },
  {
   "cell_type": "code",
   "execution_count": 116,
   "id": "c4f0d53c",
   "metadata": {},
   "outputs": [
    {
     "name": "stdout",
     "output_type": "stream",
     "text": [
      "data: [[   0    0    0 ...    1 8205   15]\n",
      " [   0    0    0 ... 5730 8208 2302]\n",
      " [   0    0    0 ... 3627 4436 1497]\n",
      " ...\n",
      " [   0    0    0 ... 7559 4594   15]\n",
      " [   0    0    0 ... 1403 1385    9]\n",
      " [   0    0    0 ... 8034 2811  446]]\n",
      "data 0: [   0    0    0    0    0    0    0    0    0    0    0    0    0    0\n",
      "    0    0    0    0    0    0    0    0    0    0    0 1642  747   10\n",
      " 2622  208    3  885 4435   87  747   10 1270    1 8205   15]\n",
      "data 0의 길이: 40\n"
     ]
    }
   ],
   "source": [
    "pad_data = pad_sequences(seq_data, maxlen=maxlen)\n",
    "\n",
    "print('data:', pad_data)\n",
    "print('data 0:', pad_data[0])\n",
    "print('data 0의 길이:', len(pad_data[0]))"
   ]
  },
  {
   "cell_type": "code",
   "execution_count": 117,
   "id": "dd0ab6fa",
   "metadata": {},
   "outputs": [
    {
     "name": "stdout",
     "output_type": "stream",
     "text": [
      "train_data_text type: <class 'list'>\n",
      "data type: <class 'numpy.ndarray'>\n",
      "train_data_text 0: 성경 난민 대하 어떻하 말 있 현 상황과 관련 난민 대하 정확 하 팩트 밝히\n",
      "data 0: [   0    0    0    0    0    0    0    0    0    0    0    0    0    0\n",
      "    0    0    0    0    0    0    0    0    0    0    0 1642  747   10\n",
      " 2622  208    3  885 4435   87  747   10 1270    1 8205   15]\n"
     ]
    }
   ],
   "source": [
    "print('train_data_text type:', type(train_data_text))\n",
    "print('data type:', type(pad_data))\n",
    "print('train_data_text 0:', train_data_text[0])\n",
    "print('data 0:', pad_data[0])"
   ]
  },
  {
   "cell_type": "code",
   "execution_count": 118,
   "id": "760f03a1",
   "metadata": {},
   "outputs": [],
   "source": [
    "def to_one_hot(sequences, dimension):\n",
    "    results = np.zeros((len(sequences), dimension))\n",
    "    for i, sequence in enumerate(sequences):\n",
    "        results[i, sequence] = 1.\n",
    "    return results\n",
    "\n",
    "# x_train = to_one_hot(pad_data, dimension=max_words)\n",
    "x_train = pad_data"
   ]
  },
  {
   "cell_type": "code",
   "execution_count": 119,
   "id": "0b0b0ca5",
   "metadata": {},
   "outputs": [],
   "source": [
    "# print('train_data_text type:', type(train_data_text))\n",
    "# print(len(train_data_text[0]))\n",
    "# print('texts 0:', train_data_text[0])\n",
    "\n",
    "# print('data type:', type(x_train))\n",
    "# print(len(x_train[0]))\n",
    "# print('x_train [0][0:100]:', x_train[0][:100])"
   ]
  },
  {
   "cell_type": "code",
   "execution_count": 120,
   "id": "73bd473a",
   "metadata": {},
   "outputs": [
    {
     "name": "stdout",
     "output_type": "stream",
     "text": [
      "['IT_과학' '경제' '국제' '문화' '사회' '스포츠' '정치' '지역']\n"
     ]
    }
   ],
   "source": [
    "from sklearn.preprocessing import LabelEncoder\n",
    "le = LabelEncoder()\n",
    "le.fit(train_data_label)\n",
    "print(le.classes_)\n",
    "train_data_label = le.transform(train_data_label)"
   ]
  },
  {
   "cell_type": "code",
   "execution_count": 121,
   "id": "0c31fc7a",
   "metadata": {},
   "outputs": [],
   "source": [
    "test_data_label = le.transform(test_data_label)"
   ]
  },
  {
   "cell_type": "code",
   "execution_count": 122,
   "id": "6cb7df08",
   "metadata": {},
   "outputs": [
    {
     "name": "stdout",
     "output_type": "stream",
     "text": [
      "[[0. 0. 0. ... 0. 0. 0.]\n",
      " [0. 0. 0. ... 0. 0. 0.]\n",
      " [0. 0. 0. ... 1. 0. 0.]\n",
      " ...\n",
      " [0. 0. 0. ... 1. 0. 0.]\n",
      " [0. 1. 0. ... 0. 0. 0.]\n",
      " [0. 0. 0. ... 0. 0. 0.]]\n"
     ]
    }
   ],
   "source": [
    "class_number = len(le.classes_)\n",
    "y_train = to_one_hot(train_data_label, dimension=class_number)\n",
    "print(y_train)"
   ]
  },
  {
   "cell_type": "code",
   "execution_count": 123,
   "id": "9e9bdc57",
   "metadata": {},
   "outputs": [
    {
     "name": "stdout",
     "output_type": "stream",
     "text": [
      "[[0. 1. 0. ... 0. 0. 0.]\n",
      " [0. 0. 1. ... 0. 0. 0.]\n",
      " [0. 0. 1. ... 0. 0. 0.]\n",
      " ...\n",
      " [0. 0. 1. ... 0. 0. 0.]\n",
      " [0. 0. 0. ... 0. 0. 1.]\n",
      " [0. 0. 1. ... 0. 0. 0.]]\n"
     ]
    }
   ],
   "source": [
    "data_test = tokenizer.texts_to_sequences(test_data_text)\n",
    "\n",
    "data_test = pad_sequences(data_test, maxlen=maxlen)\n",
    "\n",
    "x_test = data_test\n",
    "\n",
    "y_test = to_one_hot(test_data_label, dimension=class_number)\n",
    "print(y_test)"
   ]
  },
  {
   "cell_type": "code",
   "execution_count": 124,
   "id": "b1b7f931",
   "metadata": {},
   "outputs": [
    {
     "name": "stdout",
     "output_type": "stream",
     "text": [
      "훈련 데이터 본문 텐서의 크기: (4730, 40)\n",
      "훈련 데이터 레이블 텐서의 크기: (4730, 8)\n",
      "테스트 데이터 본문 텐서의 크기: (1593, 40)\n",
      "테스트 데이터 레이블 텐서의 크기: (1593, 8)\n"
     ]
    }
   ],
   "source": [
    "print('훈련 데이터 본문 텐서의 크기:', x_train.shape)\n",
    "print('훈련 데이터 레이블 텐서의 크기:', y_train.shape)\n",
    "\n",
    "print('테스트 데이터 본문 텐서의 크기:', x_test.shape)\n",
    "print('테스트 데이터 레이블 텐서의 크기:', y_test.shape)"
   ]
  },
  {
   "cell_type": "code",
   "execution_count": 125,
   "id": "cb2e65d5",
   "metadata": {},
   "outputs": [
    {
     "data": {
      "text/plain": [
       "(4730, 8)"
      ]
     },
     "execution_count": 125,
     "metadata": {},
     "output_type": "execute_result"
    }
   ],
   "source": [
    "y_train.shape"
   ]
  },
  {
   "cell_type": "code",
   "execution_count": 126,
   "id": "5da57bdd",
   "metadata": {},
   "outputs": [
    {
     "name": "stdout",
     "output_type": "stream",
     "text": [
      "/Users/jsha/gjai/nlp/pytest/17_practice\r\n"
     ]
    }
   ],
   "source": [
    "!pwd"
   ]
  },
  {
   "cell_type": "markdown",
   "id": "1367efe2",
   "metadata": {},
   "source": [
    "## we+lstm"
   ]
  },
  {
   "cell_type": "code",
   "execution_count": 127,
   "id": "3ff1ff5b",
   "metadata": {},
   "outputs": [],
   "source": [
    "import os\n",
    "\n",
    "class_number = y_train.shape[-1]\n",
    "epochs = 10\n",
    "batch_size = 50\n",
    "embedding_dim = 200\n",
    "model_name = '분류2_we_lstm_model.h5'\n",
    "tokenizer_name = '분류2_we_lstm_token.pickle'\n",
    "labelencode_name = '분류2_we_lstm_le.pickle'\n",
    "\n",
    "# working_path = '/Users/jsha/gjai/nlp/pytest/15_working/'\n",
    "# save_path = working_path + 'practice/'\n",
    "# if not os.path.exists(save_path):\n",
    "#     os.mkdir(save_path)\n",
    "#     print(f'made {save_path} directory')\n",
    "# os.chdir(save_path)"
   ]
  },
  {
   "cell_type": "code",
   "execution_count": 128,
   "id": "0443974e",
   "metadata": {},
   "outputs": [
    {
     "name": "stdout",
     "output_type": "stream",
     "text": [
      "Model: \"sequential_16\"\n",
      "_________________________________________________________________\n",
      "Layer (type)                 Output Shape              Param #   \n",
      "=================================================================\n",
      "embedding_16 (Embedding)     (None, 40, 200)           2000000   \n",
      "_________________________________________________________________\n",
      "lstm_13 (LSTM)               (None, 64)                67840     \n",
      "_________________________________________________________________\n",
      "dense_30 (Dense)             (None, 32)                2080      \n",
      "_________________________________________________________________\n",
      "dense_31 (Dense)             (None, 8)                 264       \n",
      "=================================================================\n",
      "Total params: 2,070,184\n",
      "Trainable params: 2,070,184\n",
      "Non-trainable params: 0\n",
      "_________________________________________________________________\n"
     ]
    }
   ],
   "source": [
    "from keras.models import Sequential\n",
    "from keras.layers import Dense\n",
    "from keras import layers\n",
    "from keras import regularizers\n",
    "\n",
    "model = Sequential()\n",
    "\n",
    "model.add(layers.Embedding(input_dim=max_words, output_dim=embedding_dim, \n",
    "                          input_length=maxlen))\n",
    "\n",
    "model.add(layers.LSTM(64))\n",
    "\n",
    "model.add(Dense(units=32, activation='relu'))\n",
    "model.add(Dense(units=class_number, activation='softmax'))\n",
    "\n",
    "model.summary()"
   ]
  },
  {
   "cell_type": "code",
   "execution_count": 129,
   "id": "5036ec3f",
   "metadata": {},
   "outputs": [
    {
     "name": "stdout",
     "output_type": "stream",
     "text": [
      "/Users/jsha/gjai/nlp/pytest/17_practice/ --- Folder already exists\n",
      "\n"
     ]
    }
   ],
   "source": [
    "from keras.callbacks import EarlyStopping\n",
    "import os\n",
    "\n",
    "checkpoint_path = working_path\n",
    "# checkpoint_dir = os.path.dirname(checkpoint_path)\n",
    "if os.path.exists(checkpoint_path):\n",
    "    print('{} --- Folder already exists\\n'.format(checkpoint_path))\n",
    "else:\n",
    "    os.makedirs(checkpoint_path, exist_ok=True)\n",
    "    print('{} --- Folder created\\n'.format(checkpoint_path))"
   ]
  },
  {
   "cell_type": "code",
   "execution_count": 130,
   "id": "08635003",
   "metadata": {},
   "outputs": [],
   "source": [
    "model.compile(optimizer='rmsprop', loss='categorical_crossentropy',\n",
    "             metrics=['acc'])"
   ]
  },
  {
   "cell_type": "code",
   "execution_count": 131,
   "id": "01516288",
   "metadata": {
    "scrolled": true
   },
   "outputs": [
    {
     "name": "stderr",
     "output_type": "stream",
     "text": [
      "/Users/jsha/opt/anaconda3/envs/nlp3710/lib/python3.7/site-packages/tensorflow_core/python/framework/indexed_slices.py:424: UserWarning: Converting sparse IndexedSlices to a dense Tensor of unknown shape. This may consume a large amount of memory.\n",
      "  \"Converting sparse IndexedSlices to a dense Tensor of unknown shape. \"\n"
     ]
    },
    {
     "name": "stdout",
     "output_type": "stream",
     "text": [
      "Train on 3311 samples, validate on 1419 samples\n",
      "Epoch 1/10\n",
      "3311/3311 [==============================] - 13s 4ms/step - loss: 1.8392 - acc: 0.3147 - val_loss: 1.5716 - val_acc: 0.4468\n",
      "\n",
      "Epoch 00001: val_acc improved from -inf to 0.44679, saving model to /Users/jsha/gjai/nlp/pytest/17_practice/분류2_we_lstm_model.h5\n",
      "Epoch 2/10\n",
      "3311/3311 [==============================] - 12s 4ms/step - loss: 1.3207 - acc: 0.5325 - val_loss: 1.3975 - val_acc: 0.4736\n",
      "\n",
      "Epoch 00002: val_acc improved from 0.44679 to 0.47357, saving model to /Users/jsha/gjai/nlp/pytest/17_practice/분류2_we_lstm_model.h5\n",
      "Epoch 3/10\n",
      "3311/3311 [==============================] - 12s 3ms/step - loss: 0.9558 - acc: 0.6793 - val_loss: 1.3909 - val_acc: 0.5680\n",
      "\n",
      "Epoch 00003: val_acc improved from 0.47357 to 0.56801, saving model to /Users/jsha/gjai/nlp/pytest/17_practice/분류2_we_lstm_model.h5\n",
      "Epoch 4/10\n",
      "3311/3311 [==============================] - 11s 3ms/step - loss: 0.6339 - acc: 0.7747 - val_loss: 1.4840 - val_acc: 0.5574\n",
      "\n",
      "Epoch 00004: val_acc did not improve from 0.56801\n",
      "Epoch 5/10\n",
      "3311/3311 [==============================] - 12s 4ms/step - loss: 0.3990 - acc: 0.8777 - val_loss: 1.5653 - val_acc: 0.5751\n",
      "\n",
      "Epoch 00005: val_acc improved from 0.56801 to 0.57505, saving model to /Users/jsha/gjai/nlp/pytest/17_practice/분류2_we_lstm_model.h5\n",
      "Epoch 6/10\n",
      "3311/3311 [==============================] - 12s 4ms/step - loss: 0.2413 - acc: 0.9384 - val_loss: 2.3463 - val_acc: 0.4665\n",
      "\n",
      "Epoch 00006: val_acc did not improve from 0.57505\n",
      "Epoch 7/10\n",
      "3311/3311 [==============================] - 12s 4ms/step - loss: 0.1304 - acc: 0.9674 - val_loss: 1.9568 - val_acc: 0.5645\n",
      "\n",
      "Epoch 00007: val_acc did not improve from 0.57505\n",
      "Epoch 8/10\n",
      "3311/3311 [==============================] - 11s 3ms/step - loss: 0.0760 - acc: 0.9831 - val_loss: 2.1854 - val_acc: 0.5701\n",
      "\n",
      "Epoch 00008: val_acc did not improve from 0.57505\n",
      "Epoch 9/10\n",
      "3311/3311 [==============================] - 10s 3ms/step - loss: 0.0408 - acc: 0.9897 - val_loss: 2.4965 - val_acc: 0.5610\n",
      "\n",
      "Epoch 00009: val_acc did not improve from 0.57505\n",
      "Epoch 10/10\n",
      "3311/3311 [==============================] - 10s 3ms/step - loss: 0.0338 - acc: 0.9912 - val_loss: 2.5323 - val_acc: 0.5673\n",
      "\n",
      "Epoch 00010: val_acc did not improve from 0.57505\n"
     ]
    }
   ],
   "source": [
    "from keras.callbacks import ModelCheckpoint\n",
    "\n",
    "# earlystop_callback = EarlyStopping(monitor='val_acc', patience=2)\n",
    "cp_callback = ModelCheckpoint(filepath=checkpoint_path+model_name,\n",
    "                             monitor='val_acc', verbose=1, \n",
    "                             save_best_only=True)\n",
    "history = model.fit(x_train, y_train, epochs=epochs,\n",
    "                   batch_size=batch_size, validation_split=0.3,\n",
    "                   callbacks=[cp_callback], verbose=1)\n",
    "history_dict = history.history"
   ]
  },
  {
   "cell_type": "code",
   "execution_count": 132,
   "id": "09070b43",
   "metadata": {},
   "outputs": [],
   "source": [
    "acc_list = []\n",
    "val_acc_list = []\n",
    "loss_list = []\n",
    "val_loss_list = []"
   ]
  },
  {
   "cell_type": "markdown",
   "id": "8aae2b18",
   "metadata": {},
   "source": [
    "### 결과"
   ]
  },
  {
   "cell_type": "code",
   "execution_count": 133,
   "id": "9421be65",
   "metadata": {},
   "outputs": [
    {
     "name": "stdout",
     "output_type": "stream",
     "text": [
      "validation accuracy of each epoch: [0.447 0.474 0.568 0.557 0.575 0.467 0.564 0.57  0.561 0.567]\n",
      "validation loss of each epoch: [1.572 1.398 1.391 1.484 1.565 2.346 1.957 2.185 2.496 2.532]\n"
     ]
    }
   ],
   "source": [
    "acc = history.history['acc']\n",
    "val_acc = history.history['val_acc']\n",
    "loss = history.history['loss']\n",
    "val_loss = history.history['val_loss']\n",
    "\n",
    "acc_list.append(acc)\n",
    "val_acc_list.append(val_acc)\n",
    "loss_list.append(loss)\n",
    "val_loss_list.append(val_loss)\n",
    "\n",
    "print('validation accuracy of each epoch:', np.round(val_acc,3))\n",
    "print('validation loss of each epoch:', np.round(val_loss,3))\n",
    "epochs = range(1, len(val_acc)+1)"
   ]
  },
  {
   "cell_type": "markdown",
   "id": "a8af15f5",
   "metadata": {},
   "source": [
    "## we+rnn+l2"
   ]
  },
  {
   "cell_type": "code",
   "execution_count": 140,
   "id": "2a126fab",
   "metadata": {},
   "outputs": [],
   "source": [
    "import os\n",
    "\n",
    "class_number = y_train.shape[-1]\n",
    "epochs = 10\n",
    "batch_size = 50\n",
    "embedding_dim = 200\n",
    "model_name = '분류2_we_rnn_l2_model.h5'\n",
    "tokenizer_name = '분류2_we_rnn_l2_token.pickle'\n",
    "labelencode_name = '분류2_we_rnn_l2_le.pickle'\n",
    "\n",
    "# working_path = '/Users/jsha/gjai/nlp/pytest/15_working/'\n",
    "# save_path = working_path + 'practice/'\n",
    "# if not os.path.exists(save_path):\n",
    "#     os.mkdir(save_path)\n",
    "#     print(f'made {save_path} directory')\n",
    "# os.chdir(save_path)"
   ]
  },
  {
   "cell_type": "code",
   "execution_count": 141,
   "id": "1490f193",
   "metadata": {},
   "outputs": [
    {
     "name": "stdout",
     "output_type": "stream",
     "text": [
      "Model: \"sequential_18\"\n",
      "_________________________________________________________________\n",
      "Layer (type)                 Output Shape              Param #   \n",
      "=================================================================\n",
      "embedding_18 (Embedding)     (None, 40, 200)           2000000   \n",
      "_________________________________________________________________\n",
      "lstm_15 (LSTM)               (None, 64)                67840     \n",
      "_________________________________________________________________\n",
      "dense_34 (Dense)             (None, 32)                2080      \n",
      "_________________________________________________________________\n",
      "dense_35 (Dense)             (None, 8)                 264       \n",
      "=================================================================\n",
      "Total params: 2,070,184\n",
      "Trainable params: 2,070,184\n",
      "Non-trainable params: 0\n",
      "_________________________________________________________________\n"
     ]
    }
   ],
   "source": [
    "from keras.models import Sequential\n",
    "from keras.layers import Dense\n",
    "from keras import layers\n",
    "from keras import regularizers\n",
    "\n",
    "model = Sequential()\n",
    "\n",
    "model.add(layers.Embedding(input_dim=max_words, output_dim=embedding_dim, \n",
    "                          input_length=maxlen))\n",
    "\n",
    "model.add(layers.LSTM(64))\n",
    "\n",
    "model.add(Dense(units=32, kernel_regularizer=regularizers.l2(0.001), activation='relu'))\n",
    "model.add(Dense(units=class_number, activation='softmax'))\n",
    "\n",
    "model.summary()"
   ]
  },
  {
   "cell_type": "code",
   "execution_count": 142,
   "id": "2af78b3a",
   "metadata": {},
   "outputs": [
    {
     "name": "stdout",
     "output_type": "stream",
     "text": [
      "/Users/jsha/gjai/nlp/pytest/17_practice/ --- Folder already exists\n",
      "\n"
     ]
    }
   ],
   "source": [
    "from keras.callbacks import EarlyStopping\n",
    "import os\n",
    "\n",
    "checkpoint_path = working_path\n",
    "# checkpoint_dir = os.path.dirname(checkpoint_path)\n",
    "if os.path.exists(checkpoint_path):\n",
    "    print('{} --- Folder already exists\\n'.format(checkpoint_path))\n",
    "else:\n",
    "    os.makedirs(checkpoint_path, exist_ok=True)\n",
    "    print('{} --- Folder created\\n'.format(checkpoint_path))"
   ]
  },
  {
   "cell_type": "code",
   "execution_count": 143,
   "id": "7ab0f55d",
   "metadata": {},
   "outputs": [],
   "source": [
    "model.compile(optimizer='rmsprop', loss='categorical_crossentropy',\n",
    "             metrics=['acc'])"
   ]
  },
  {
   "cell_type": "code",
   "execution_count": 144,
   "id": "6aad4b4e",
   "metadata": {
    "scrolled": true
   },
   "outputs": [
    {
     "name": "stderr",
     "output_type": "stream",
     "text": [
      "/Users/jsha/opt/anaconda3/envs/nlp3710/lib/python3.7/site-packages/tensorflow_core/python/framework/indexed_slices.py:424: UserWarning: Converting sparse IndexedSlices to a dense Tensor of unknown shape. This may consume a large amount of memory.\n",
      "  \"Converting sparse IndexedSlices to a dense Tensor of unknown shape. \"\n"
     ]
    },
    {
     "name": "stdout",
     "output_type": "stream",
     "text": [
      "Train on 3311 samples, validate on 1419 samples\n",
      "Epoch 1/10\n",
      "3311/3311 [==============================] - 14s 4ms/step - loss: 1.9035 - acc: 0.2918 - val_loss: 1.7696 - val_acc: 0.3185\n",
      "\n",
      "Epoch 00001: val_acc improved from -inf to 0.31853, saving model to /Users/jsha/gjai/nlp/pytest/17_practice/분류1_we_rnn_l2_model.h5\n",
      "Epoch 2/10\n",
      "3311/3311 [==============================] - 12s 4ms/step - loss: 1.4202 - acc: 0.5026 - val_loss: 1.4359 - val_acc: 0.5278\n",
      "\n",
      "Epoch 00002: val_acc improved from 0.31853 to 0.52784, saving model to /Users/jsha/gjai/nlp/pytest/17_practice/분류1_we_rnn_l2_model.h5\n",
      "Epoch 3/10\n",
      "3311/3311 [==============================] - 12s 4ms/step - loss: 1.0414 - acc: 0.6367 - val_loss: 1.3448 - val_acc: 0.5560\n",
      "\n",
      "Epoch 00003: val_acc improved from 0.52784 to 0.55603, saving model to /Users/jsha/gjai/nlp/pytest/17_practice/분류1_we_rnn_l2_model.h5\n",
      "Epoch 4/10\n",
      "3311/3311 [==============================] - 13s 4ms/step - loss: 0.7706 - acc: 0.7560 - val_loss: 1.5337 - val_acc: 0.4870\n",
      "\n",
      "Epoch 00004: val_acc did not improve from 0.55603\n",
      "Epoch 5/10\n",
      "3311/3311 [==============================] - 11s 3ms/step - loss: 0.5386 - acc: 0.8360 - val_loss: 1.5624 - val_acc: 0.5567\n",
      "\n",
      "Epoch 00005: val_acc improved from 0.55603 to 0.55673, saving model to /Users/jsha/gjai/nlp/pytest/17_practice/분류1_we_rnn_l2_model.h5\n",
      "Epoch 6/10\n",
      "3311/3311 [==============================] - 14s 4ms/step - loss: 0.3670 - acc: 0.8982 - val_loss: 1.7018 - val_acc: 0.5525\n",
      "\n",
      "Epoch 00006: val_acc did not improve from 0.55673\n",
      "Epoch 7/10\n",
      "3311/3311 [==============================] - 12s 4ms/step - loss: 0.2368 - acc: 0.9441 - val_loss: 2.1491 - val_acc: 0.5419\n",
      "\n",
      "Epoch 00007: val_acc did not improve from 0.55673\n",
      "Epoch 8/10\n",
      "3311/3311 [==============================] - 12s 4ms/step - loss: 0.1557 - acc: 0.9683 - val_loss: 2.0833 - val_acc: 0.5673\n",
      "\n",
      "Epoch 00008: val_acc improved from 0.55673 to 0.56730, saving model to /Users/jsha/gjai/nlp/pytest/17_practice/분류1_we_rnn_l2_model.h5\n",
      "Epoch 9/10\n",
      "3311/3311 [==============================] - 12s 4ms/step - loss: 0.1108 - acc: 0.9843 - val_loss: 2.4113 - val_acc: 0.5652\n",
      "\n",
      "Epoch 00009: val_acc did not improve from 0.56730\n",
      "Epoch 10/10\n",
      "3311/3311 [==============================] - 10s 3ms/step - loss: 0.0838 - acc: 0.9885 - val_loss: 2.3725 - val_acc: 0.5828\n",
      "\n",
      "Epoch 00010: val_acc improved from 0.56730 to 0.58280, saving model to /Users/jsha/gjai/nlp/pytest/17_practice/분류1_we_rnn_l2_model.h5\n"
     ]
    }
   ],
   "source": [
    "from keras.callbacks import ModelCheckpoint\n",
    "\n",
    "# earlystop_callback = EarlyStopping(monitor='val_acc', patience=2)\n",
    "cp_callback = ModelCheckpoint(filepath=checkpoint_path+model_name,\n",
    "                             monitor='val_acc', verbose=1, \n",
    "                             save_best_only=True)\n",
    "history = model.fit(x_train, y_train, epochs=epochs,\n",
    "                   batch_size=batch_size, validation_split=0.3,\n",
    "                   callbacks=[cp_callback], verbose=1)\n",
    "history_dict = history.history"
   ]
  },
  {
   "cell_type": "markdown",
   "id": "e0df04fe",
   "metadata": {},
   "source": [
    "### 결과"
   ]
  },
  {
   "cell_type": "code",
   "execution_count": 145,
   "id": "cebdd3d1",
   "metadata": {},
   "outputs": [
    {
     "name": "stdout",
     "output_type": "stream",
     "text": [
      "validation accuracy of each epoch: [0.319 0.528 0.556 0.487 0.557 0.553 0.542 0.567 0.565 0.583]\n",
      "validation loss of each epoch: [1.77  1.436 1.345 1.534 1.562 1.702 2.149 2.083 2.411 2.373]\n"
     ]
    }
   ],
   "source": [
    "acc = history.history['acc']\n",
    "val_acc = history.history['val_acc']\n",
    "loss = history.history['loss']\n",
    "val_loss = history.history['val_loss']\n",
    "\n",
    "acc_list.append(acc)\n",
    "val_acc_list.append(val_acc)\n",
    "loss_list.append(loss)\n",
    "val_loss_list.append(val_loss)\n",
    "\n",
    "print('validation accuracy of each epoch:', np.round(val_acc,3))\n",
    "print('validation loss of each epoch:', np.round(val_loss,3))\n",
    "epochs = range(1, len(val_acc)+1)"
   ]
  },
  {
   "cell_type": "code",
   "execution_count": 146,
   "id": "87f4ebff",
   "metadata": {},
   "outputs": [
    {
     "data": {
      "text/plain": [
       "2"
      ]
     },
     "execution_count": 146,
     "metadata": {},
     "output_type": "execute_result"
    }
   ],
   "source": [
    "len(acc_list)"
   ]
  },
  {
   "cell_type": "markdown",
   "id": "7604d542",
   "metadata": {},
   "source": [
    "## we+LSTM+dropout"
   ]
  },
  {
   "cell_type": "code",
   "execution_count": 153,
   "id": "9b38d8e2",
   "metadata": {},
   "outputs": [],
   "source": [
    "import os\n",
    "\n",
    "class_number = y_train.shape[-1]\n",
    "epochs = 10\n",
    "batch_size = 50\n",
    "embedding_dim = 200\n",
    "model_name = '분류2_we_lstm_dropout_model.h5'\n",
    "tokenizer_name = '분류2_we_lstm_dropout_token.pickle'\n",
    "labelencode_name = '분류2_we_lstm_dropout_le.pickle'\n",
    "\n",
    "# working_path = '/Users/jsha/gjai/nlp/pytest/15_working/'\n",
    "# save_path = working_path + 'practice/'\n",
    "# if not os.path.exists(save_path):\n",
    "#     os.mkdir(save_path)\n",
    "#     print(f'made {save_path} directory')\n",
    "# os.chdir(save_path)"
   ]
  },
  {
   "cell_type": "code",
   "execution_count": 154,
   "id": "38fb77a5",
   "metadata": {},
   "outputs": [
    {
     "name": "stdout",
     "output_type": "stream",
     "text": [
      "Model: \"sequential_20\"\n",
      "_________________________________________________________________\n",
      "Layer (type)                 Output Shape              Param #   \n",
      "=================================================================\n",
      "embedding_20 (Embedding)     (None, 40, 200)           2000000   \n",
      "_________________________________________________________________\n",
      "lstm_17 (LSTM)               (None, 64)                67840     \n",
      "_________________________________________________________________\n",
      "dropout_10 (Dropout)         (None, 64)                0         \n",
      "_________________________________________________________________\n",
      "dense_38 (Dense)             (None, 32)                2080      \n",
      "_________________________________________________________________\n",
      "dense_39 (Dense)             (None, 8)                 264       \n",
      "=================================================================\n",
      "Total params: 2,070,184\n",
      "Trainable params: 2,070,184\n",
      "Non-trainable params: 0\n",
      "_________________________________________________________________\n"
     ]
    }
   ],
   "source": [
    "from keras.models import Sequential\n",
    "from keras.layers import Dense, Dropout\n",
    "from keras import layers\n",
    "from keras import regularizers\n",
    "\n",
    "model = Sequential()\n",
    "\n",
    "model.add(layers.Embedding(input_dim=max_words, output_dim=embedding_dim, \n",
    "                          input_length=maxlen))\n",
    "\n",
    "model.add(layers.LSTM(64))\n",
    "model.add(Dropout(0.5))\n",
    "\n",
    "model.add(Dense(units=32, activation='relu'))\n",
    "model.add(Dense(units=class_number, activation='softmax'))\n",
    "\n",
    "model.summary()"
   ]
  },
  {
   "cell_type": "code",
   "execution_count": 155,
   "id": "f62803c5",
   "metadata": {},
   "outputs": [
    {
     "name": "stdout",
     "output_type": "stream",
     "text": [
      "/Users/jsha/gjai/nlp/pytest/17_practice/ --- Folder already exists\n",
      "\n"
     ]
    }
   ],
   "source": [
    "from keras.callbacks import EarlyStopping\n",
    "import os\n",
    "\n",
    "checkpoint_path = working_path\n",
    "# checkpoint_dir = os.path.dirname(checkpoint_path)\n",
    "if os.path.exists(checkpoint_path):\n",
    "    print('{} --- Folder already exists\\n'.format(checkpoint_path))\n",
    "else:\n",
    "    os.makedirs(checkpoint_path, exist_ok=True)\n",
    "    print('{} --- Folder created\\n'.format(checkpoint_path))"
   ]
  },
  {
   "cell_type": "code",
   "execution_count": 156,
   "id": "dbd23867",
   "metadata": {},
   "outputs": [],
   "source": [
    "model.compile(optimizer='rmsprop', loss='categorical_crossentropy',\n",
    "             metrics=['acc'])"
   ]
  },
  {
   "cell_type": "code",
   "execution_count": 157,
   "id": "cf0befdb",
   "metadata": {
    "scrolled": true
   },
   "outputs": [
    {
     "name": "stderr",
     "output_type": "stream",
     "text": [
      "/Users/jsha/opt/anaconda3/envs/nlp3710/lib/python3.7/site-packages/tensorflow_core/python/framework/indexed_slices.py:424: UserWarning: Converting sparse IndexedSlices to a dense Tensor of unknown shape. This may consume a large amount of memory.\n",
      "  \"Converting sparse IndexedSlices to a dense Tensor of unknown shape. \"\n"
     ]
    },
    {
     "name": "stdout",
     "output_type": "stream",
     "text": [
      "Train on 3311 samples, validate on 1419 samples\n",
      "Epoch 1/10\n",
      "3311/3311 [==============================] - 14s 4ms/step - loss: 1.8544 - acc: 0.3066 - val_loss: 1.5555 - val_acc: 0.4341\n",
      "\n",
      "Epoch 00001: val_acc improved from -inf to 0.43411, saving model to /Users/jsha/gjai/nlp/pytest/17_practice/분류2_we_lstm_dropout_model.h5\n",
      "Epoch 2/10\n",
      "3311/3311 [==============================] - 10s 3ms/step - loss: 1.3856 - acc: 0.4923 - val_loss: 1.4039 - val_acc: 0.4891\n",
      "\n",
      "Epoch 00002: val_acc improved from 0.43411 to 0.48908, saving model to /Users/jsha/gjai/nlp/pytest/17_practice/분류2_we_lstm_dropout_model.h5\n",
      "Epoch 3/10\n",
      "3311/3311 [==============================] - 13s 4ms/step - loss: 1.0777 - acc: 0.6010 - val_loss: 1.4184 - val_acc: 0.5328\n",
      "\n",
      "Epoch 00003: val_acc improved from 0.48908 to 0.53277, saving model to /Users/jsha/gjai/nlp/pytest/17_practice/분류2_we_lstm_dropout_model.h5\n",
      "Epoch 4/10\n",
      "3311/3311 [==============================] - 11s 3ms/step - loss: 0.8451 - acc: 0.6992 - val_loss: 1.9685 - val_acc: 0.4961\n",
      "\n",
      "Epoch 00004: val_acc did not improve from 0.53277\n",
      "Epoch 5/10\n",
      "3311/3311 [==============================] - 12s 4ms/step - loss: 0.6331 - acc: 0.7928 - val_loss: 1.9865 - val_acc: 0.5328\n",
      "\n",
      "Epoch 00005: val_acc did not improve from 0.53277\n",
      "Epoch 6/10\n",
      "3311/3311 [==============================] - 10s 3ms/step - loss: 0.4397 - acc: 0.8689 - val_loss: 1.8702 - val_acc: 0.5356\n",
      "\n",
      "Epoch 00006: val_acc improved from 0.53277 to 0.53559, saving model to /Users/jsha/gjai/nlp/pytest/17_practice/분류2_we_lstm_dropout_model.h5\n",
      "Epoch 7/10\n",
      "3311/3311 [==============================] - 11s 3ms/step - loss: 0.2899 - acc: 0.9239 - val_loss: 2.0614 - val_acc: 0.5652\n",
      "\n",
      "Epoch 00007: val_acc improved from 0.53559 to 0.56519, saving model to /Users/jsha/gjai/nlp/pytest/17_practice/분류2_we_lstm_dropout_model.h5\n",
      "Epoch 8/10\n",
      "3311/3311 [==============================] - 11s 3ms/step - loss: 0.1725 - acc: 0.9577 - val_loss: 2.6274 - val_acc: 0.5617\n",
      "\n",
      "Epoch 00008: val_acc did not improve from 0.56519\n",
      "Epoch 9/10\n",
      "3311/3311 [==============================] - 11s 3ms/step - loss: 0.1079 - acc: 0.9752 - val_loss: 2.4783 - val_acc: 0.5370\n",
      "\n",
      "Epoch 00009: val_acc did not improve from 0.56519\n",
      "Epoch 10/10\n",
      "3311/3311 [==============================] - 11s 3ms/step - loss: 0.0660 - acc: 0.9867 - val_loss: 2.7816 - val_acc: 0.5469\n",
      "\n",
      "Epoch 00010: val_acc did not improve from 0.56519\n"
     ]
    }
   ],
   "source": [
    "from keras.callbacks import ModelCheckpoint\n",
    "\n",
    "# earlystop_callback = EarlyStopping(monitor='val_acc', patience=2)\n",
    "cp_callback = ModelCheckpoint(filepath=checkpoint_path+model_name,\n",
    "                             monitor='val_acc', verbose=1, \n",
    "                             save_best_only=True)\n",
    "history = model.fit(x_train, y_train, epochs=epochs,\n",
    "                   batch_size=batch_size, validation_split=0.3,\n",
    "                   callbacks=[cp_callback], verbose=1)\n",
    "history_dict = history.history"
   ]
  },
  {
   "cell_type": "markdown",
   "id": "5569454d",
   "metadata": {},
   "source": [
    "### 결과"
   ]
  },
  {
   "cell_type": "code",
   "execution_count": 158,
   "id": "7a4ac1d2",
   "metadata": {},
   "outputs": [
    {
     "name": "stdout",
     "output_type": "stream",
     "text": [
      "validation accuracy of each epoch: [0.434 0.489 0.533 0.496 0.533 0.536 0.565 0.562 0.537 0.547]\n",
      "validation loss of each epoch: [1.556 1.404 1.418 1.969 1.986 1.87  2.061 2.627 2.478 2.782]\n"
     ]
    }
   ],
   "source": [
    "acc = history.history['acc']\n",
    "val_acc = history.history['val_acc']\n",
    "loss = history.history['loss']\n",
    "val_loss = history.history['val_loss']\n",
    "\n",
    "acc_list.append(acc)\n",
    "val_acc_list.append(val_acc)\n",
    "loss_list.append(loss)\n",
    "val_loss_list.append(val_loss)\n",
    "\n",
    "print('validation accuracy of each epoch:', np.round(val_acc,3))\n",
    "epochs = range(1, len(val_acc)+1)\n",
    "print('validation loss of each epoch:', np.round(val_loss,3))"
   ]
  },
  {
   "cell_type": "code",
   "execution_count": 159,
   "id": "4474094a",
   "metadata": {},
   "outputs": [
    {
     "data": {
      "text/plain": [
       "3"
      ]
     },
     "execution_count": 159,
     "metadata": {},
     "output_type": "execute_result"
    }
   ],
   "source": [
    "len(acc_list)"
   ]
  },
  {
   "cell_type": "code",
   "execution_count": null,
   "id": "66111359",
   "metadata": {},
   "outputs": [],
   "source": []
  },
  {
   "cell_type": "markdown",
   "id": "981b908c",
   "metadata": {},
   "source": [
    "## we+dropout"
   ]
  },
  {
   "cell_type": "code",
   "execution_count": 160,
   "id": "ef1af7eb",
   "metadata": {},
   "outputs": [],
   "source": [
    "import os\n",
    "\n",
    "class_number = y_train.shape[-1]\n",
    "epochs = 10\n",
    "batch_size = 50\n",
    "embedding_dim = 200\n",
    "model_name = '분류2_we_dropout_model.h5'\n",
    "tokenizer_name = '분류2_we_dropout_token.pickle'\n",
    "labelencode_name = '분류2_we_dropout_le.pickle'\n",
    "\n",
    "# working_path = '/Users/jsha/gjai/nlp/pytest/15_working/'\n",
    "# save_path = working_path + 'practice/'\n",
    "# if not os.path.exists(save_path):\n",
    "#     os.mkdir(save_path)\n",
    "#     print(f'made {save_path} directory')\n",
    "# os.chdir(save_path)"
   ]
  },
  {
   "cell_type": "code",
   "execution_count": 161,
   "id": "1303e116",
   "metadata": {},
   "outputs": [
    {
     "name": "stdout",
     "output_type": "stream",
     "text": [
      "Model: \"sequential_21\"\n",
      "_________________________________________________________________\n",
      "Layer (type)                 Output Shape              Param #   \n",
      "=================================================================\n",
      "embedding_21 (Embedding)     (None, 40, 200)           2000000   \n",
      "_________________________________________________________________\n",
      "flatten_4 (Flatten)          (None, 8000)              0         \n",
      "_________________________________________________________________\n",
      "dense_40 (Dense)             (None, 64)                512064    \n",
      "_________________________________________________________________\n",
      "dense_41 (Dense)             (None, 32)                2080      \n",
      "_________________________________________________________________\n",
      "dropout_11 (Dropout)         (None, 32)                0         \n",
      "_________________________________________________________________\n",
      "dense_42 (Dense)             (None, 8)                 264       \n",
      "=================================================================\n",
      "Total params: 2,514,408\n",
      "Trainable params: 2,514,408\n",
      "Non-trainable params: 0\n",
      "_________________________________________________________________\n"
     ]
    }
   ],
   "source": [
    "from keras.models import Sequential\n",
    "from keras.layers import Dense, Dropout\n",
    "from keras import layers\n",
    "from keras import regularizers\n",
    "\n",
    "model = Sequential()\n",
    "\n",
    "model.add(layers.Embedding(input_dim=max_words, output_dim=embedding_dim, \n",
    "                          input_length=maxlen))\n",
    "\n",
    "model.add(layers.Flatten())\n",
    "model.add(Dense(units=64, activation='relu'))\n",
    "model.add(Dense(units=32, activation='relu'))\n",
    "model.add(Dropout(0.5))\n",
    "model.add(Dense(units=class_number, activation='softmax'))\n",
    "\n",
    "model.summary()"
   ]
  },
  {
   "cell_type": "code",
   "execution_count": 162,
   "id": "4d511008",
   "metadata": {},
   "outputs": [
    {
     "name": "stdout",
     "output_type": "stream",
     "text": [
      "/Users/jsha/gjai/nlp/pytest/17_practice/ --- Folder already exists\n",
      "\n"
     ]
    }
   ],
   "source": [
    "from keras.callbacks import EarlyStopping\n",
    "import os\n",
    "\n",
    "checkpoint_path = working_path\n",
    "# checkpoint_dir = os.path.dirname(checkpoint_path)\n",
    "if os.path.exists(checkpoint_path):\n",
    "    print('{} --- Folder already exists\\n'.format(checkpoint_path))\n",
    "else:\n",
    "    os.makedirs(checkpoint_path, exist_ok=True)\n",
    "    print('{} --- Folder created\\n'.format(checkpoint_path))"
   ]
  },
  {
   "cell_type": "code",
   "execution_count": 163,
   "id": "7869d17e",
   "metadata": {},
   "outputs": [],
   "source": [
    "model.compile(optimizer='rmsprop', loss='categorical_crossentropy',\n",
    "             metrics=['acc'])"
   ]
  },
  {
   "cell_type": "code",
   "execution_count": 164,
   "id": "83deeaf3",
   "metadata": {
    "scrolled": true
   },
   "outputs": [
    {
     "name": "stderr",
     "output_type": "stream",
     "text": [
      "/Users/jsha/opt/anaconda3/envs/nlp3710/lib/python3.7/site-packages/tensorflow_core/python/framework/indexed_slices.py:424: UserWarning: Converting sparse IndexedSlices to a dense Tensor of unknown shape. This may consume a large amount of memory.\n",
      "  \"Converting sparse IndexedSlices to a dense Tensor of unknown shape. \"\n"
     ]
    },
    {
     "name": "stdout",
     "output_type": "stream",
     "text": [
      "Train on 3311 samples, validate on 1419 samples\n",
      "Epoch 1/10\n",
      "3311/3311 [==============================] - 3s 915us/step - loss: 1.9926 - acc: 0.2162 - val_loss: 1.9363 - val_acc: 0.2410\n",
      "\n",
      "Epoch 00001: val_acc improved from -inf to 0.24101, saving model to /Users/jsha/gjai/nlp/pytest/17_practice/분류2_we_dropout_model.h5\n",
      "Epoch 2/10\n",
      "3311/3311 [==============================] - 2s 666us/step - loss: 1.7643 - acc: 0.3691 - val_loss: 1.6545 - val_acc: 0.4017\n",
      "\n",
      "Epoch 00002: val_acc improved from 0.24101 to 0.40169, saving model to /Users/jsha/gjai/nlp/pytest/17_practice/분류2_we_dropout_model.h5\n",
      "Epoch 3/10\n",
      "3311/3311 [==============================] - 2s 700us/step - loss: 1.2597 - acc: 0.5738 - val_loss: 1.4409 - val_acc: 0.5039\n",
      "\n",
      "Epoch 00003: val_acc improved from 0.40169 to 0.50388, saving model to /Users/jsha/gjai/nlp/pytest/17_practice/분류2_we_dropout_model.h5\n",
      "Epoch 4/10\n",
      "3311/3311 [==============================] - 2s 708us/step - loss: 0.7930 - acc: 0.7357 - val_loss: 1.3752 - val_acc: 0.5236\n",
      "\n",
      "Epoch 00004: val_acc improved from 0.50388 to 0.52361, saving model to /Users/jsha/gjai/nlp/pytest/17_practice/분류2_we_dropout_model.h5\n",
      "Epoch 5/10\n",
      "3311/3311 [==============================] - 3s 778us/step - loss: 0.4680 - acc: 0.8457 - val_loss: 1.4377 - val_acc: 0.5321\n",
      "\n",
      "Epoch 00005: val_acc improved from 0.52361 to 0.53206, saving model to /Users/jsha/gjai/nlp/pytest/17_practice/분류2_we_dropout_model.h5\n",
      "Epoch 6/10\n",
      "3311/3311 [==============================] - 3s 786us/step - loss: 0.2965 - acc: 0.9043 - val_loss: 1.6119 - val_acc: 0.5074\n",
      "\n",
      "Epoch 00006: val_acc did not improve from 0.53206\n",
      "Epoch 7/10\n",
      "3311/3311 [==============================] - 2s 733us/step - loss: 0.1913 - acc: 0.9363 - val_loss: 1.7152 - val_acc: 0.5243\n",
      "\n",
      "Epoch 00007: val_acc did not improve from 0.53206\n",
      "Epoch 8/10\n",
      "3311/3311 [==============================] - 3s 779us/step - loss: 0.1473 - acc: 0.9481 - val_loss: 1.8807 - val_acc: 0.5300\n",
      "\n",
      "Epoch 00008: val_acc did not improve from 0.53206\n",
      "Epoch 9/10\n",
      "3311/3311 [==============================] - 3s 781us/step - loss: 0.1082 - acc: 0.9641 - val_loss: 2.1026 - val_acc: 0.5356\n",
      "\n",
      "Epoch 00009: val_acc improved from 0.53206 to 0.53559, saving model to /Users/jsha/gjai/nlp/pytest/17_practice/분류2_we_dropout_model.h5\n",
      "Epoch 10/10\n",
      "3311/3311 [==============================] - 2s 747us/step - loss: 0.0983 - acc: 0.9625 - val_loss: 2.2145 - val_acc: 0.5447\n",
      "\n",
      "Epoch 00010: val_acc improved from 0.53559 to 0.54475, saving model to /Users/jsha/gjai/nlp/pytest/17_practice/분류2_we_dropout_model.h5\n"
     ]
    }
   ],
   "source": [
    "from keras.callbacks import ModelCheckpoint\n",
    "\n",
    "# earlystop_callback = EarlyStopping(monitor='val_acc', patience=2)\n",
    "cp_callback = ModelCheckpoint(filepath=checkpoint_path+model_name,\n",
    "                             monitor='val_acc', verbose=1, \n",
    "                             save_best_only=True)\n",
    "history = model.fit(x_train, y_train, epochs=epochs,\n",
    "                   batch_size=batch_size, validation_split=0.3,\n",
    "                   callbacks=[cp_callback], verbose=1)\n",
    "history_dict = history.history"
   ]
  },
  {
   "cell_type": "markdown",
   "id": "7aa4ff30",
   "metadata": {},
   "source": [
    "### 결과"
   ]
  },
  {
   "cell_type": "code",
   "execution_count": 165,
   "id": "917268e0",
   "metadata": {},
   "outputs": [
    {
     "name": "stdout",
     "output_type": "stream",
     "text": [
      "validation accuracy of each epoch: [0.241 0.402 0.504 0.524 0.532 0.507 0.524 0.53  0.536 0.545]\n",
      "validation loss of each epoch: [1.936 1.654 1.441 1.375 1.438 1.612 1.715 1.881 2.103 2.214]\n"
     ]
    }
   ],
   "source": [
    "acc = history.history['acc']\n",
    "val_acc = history.history['val_acc']\n",
    "loss = history.history['loss']\n",
    "val_loss = history.history['val_loss']\n",
    "\n",
    "acc_list.append(acc)\n",
    "val_acc_list.append(val_acc)\n",
    "loss_list.append(loss)\n",
    "val_loss_list.append(val_loss)\n",
    "\n",
    "print('validation accuracy of each epoch:', np.round(val_acc,3))\n",
    "epochs = range(1, len(val_acc)+1)\n",
    "print('validation loss of each epoch:', np.round(val_loss,3))"
   ]
  },
  {
   "cell_type": "code",
   "execution_count": 166,
   "id": "50798c8a",
   "metadata": {},
   "outputs": [
    {
     "data": {
      "text/plain": [
       "4"
      ]
     },
     "execution_count": 166,
     "metadata": {},
     "output_type": "execute_result"
    }
   ],
   "source": [
    "len(acc_list)"
   ]
  },
  {
   "cell_type": "code",
   "execution_count": null,
   "id": "360fa0cb",
   "metadata": {},
   "outputs": [],
   "source": []
  },
  {
   "cell_type": "markdown",
   "id": "98d2c3b8",
   "metadata": {},
   "source": [
    "## we+bidirectional_LSTM"
   ]
  },
  {
   "cell_type": "code",
   "execution_count": 171,
   "id": "6f8e42c5",
   "metadata": {},
   "outputs": [],
   "source": [
    "import os\n",
    "\n",
    "class_number = y_train.shape[-1]\n",
    "epochs = 10\n",
    "batch_size = 50\n",
    "embedding_dim = 200\n",
    "model_name = '분류2_we_bidirectional_lstm_model.h5'\n",
    "tokenizer_name = '분류2_we_bidirectional_lstm_token.pickle'\n",
    "labelencode_name = '분류2_we_bidirectional_lstm_le.pickle'\n",
    "\n",
    "# working_path = '/Users/jsha/gjai/nlp/pytest/15_working/'\n",
    "# save_path = working_path + 'practice/'\n",
    "# if not os.path.exists(save_path):\n",
    "#     os.mkdir(save_path)\n",
    "#     print(f'made {save_path} directory')\n",
    "# os.chdir(save_path)"
   ]
  },
  {
   "cell_type": "code",
   "execution_count": 172,
   "id": "aa318e14",
   "metadata": {},
   "outputs": [
    {
     "name": "stdout",
     "output_type": "stream",
     "text": [
      "Model: \"sequential_23\"\n",
      "_________________________________________________________________\n",
      "Layer (type)                 Output Shape              Param #   \n",
      "=================================================================\n",
      "embedding_23 (Embedding)     (None, 40, 200)           2000000   \n",
      "_________________________________________________________________\n",
      "bidirectional_3 (Bidirection (None, 128)               135680    \n",
      "_________________________________________________________________\n",
      "dense_45 (Dense)             (None, 32)                4128      \n",
      "_________________________________________________________________\n",
      "dense_46 (Dense)             (None, 8)                 264       \n",
      "=================================================================\n",
      "Total params: 2,140,072\n",
      "Trainable params: 2,140,072\n",
      "Non-trainable params: 0\n",
      "_________________________________________________________________\n"
     ]
    }
   ],
   "source": [
    "from keras.models import Sequential\n",
    "from keras.layers import Dense, Dropout\n",
    "from keras import layers\n",
    "from keras import regularizers\n",
    "\n",
    "model = Sequential()\n",
    "\n",
    "model.add(layers.Embedding(input_dim=max_words, output_dim=embedding_dim, \n",
    "                          input_length=maxlen))\n",
    "\n",
    "model.add(layers.Bidirectional(layers.LSTM(64)))\n",
    "\n",
    "model.add(Dense(units=32, activation='relu'))\n",
    "model.add(Dense(units=class_number, activation='softmax'))\n",
    "\n",
    "model.summary()"
   ]
  },
  {
   "cell_type": "code",
   "execution_count": 173,
   "id": "c6028807",
   "metadata": {},
   "outputs": [
    {
     "name": "stdout",
     "output_type": "stream",
     "text": [
      "/Users/jsha/gjai/nlp/pytest/17_practice/ --- Folder already exists\n",
      "\n"
     ]
    }
   ],
   "source": [
    "from keras.callbacks import EarlyStopping\n",
    "import os\n",
    "\n",
    "checkpoint_path = working_path\n",
    "# checkpoint_dir = os.path.dirname(checkpoint_path)\n",
    "if os.path.exists(checkpoint_path):\n",
    "    print('{} --- Folder already exists\\n'.format(checkpoint_path))\n",
    "else:\n",
    "    os.makedirs(checkpoint_path, exist_ok=True)\n",
    "    print('{} --- Folder created\\n'.format(checkpoint_path))"
   ]
  },
  {
   "cell_type": "code",
   "execution_count": 174,
   "id": "87510daa",
   "metadata": {},
   "outputs": [],
   "source": [
    "model.compile(optimizer='rmsprop', loss='categorical_crossentropy',\n",
    "             metrics=['acc'])"
   ]
  },
  {
   "cell_type": "code",
   "execution_count": 175,
   "id": "d41930e3",
   "metadata": {
    "scrolled": true
   },
   "outputs": [
    {
     "name": "stderr",
     "output_type": "stream",
     "text": [
      "/Users/jsha/opt/anaconda3/envs/nlp3710/lib/python3.7/site-packages/tensorflow_core/python/framework/indexed_slices.py:424: UserWarning: Converting sparse IndexedSlices to a dense Tensor of unknown shape. This may consume a large amount of memory.\n",
      "  \"Converting sparse IndexedSlices to a dense Tensor of unknown shape. \"\n"
     ]
    },
    {
     "name": "stdout",
     "output_type": "stream",
     "text": [
      "Train on 3311 samples, validate on 1419 samples\n",
      "Epoch 1/10\n",
      "3311/3311 [==============================] - 17s 5ms/step - loss: 1.7693 - acc: 0.3416 - val_loss: 1.6505 - val_acc: 0.4066\n",
      "\n",
      "Epoch 00001: val_acc improved from -inf to 0.40662, saving model to /Users/jsha/gjai/nlp/pytest/17_practice/분류2_we_bidirectional_lstm_model.h5\n",
      "Epoch 2/10\n",
      "3311/3311 [==============================] - 13s 4ms/step - loss: 1.2668 - acc: 0.5796 - val_loss: 1.4122 - val_acc: 0.4968\n",
      "\n",
      "Epoch 00002: val_acc improved from 0.40662 to 0.49683, saving model to /Users/jsha/gjai/nlp/pytest/17_practice/분류2_we_bidirectional_lstm_model.h5\n",
      "Epoch 3/10\n",
      "3311/3311 [==============================] - 15s 5ms/step - loss: 0.9192 - acc: 0.6941 - val_loss: 1.4113 - val_acc: 0.5194\n",
      "\n",
      "Epoch 00003: val_acc improved from 0.49683 to 0.51938, saving model to /Users/jsha/gjai/nlp/pytest/17_practice/분류2_we_bidirectional_lstm_model.h5\n",
      "Epoch 4/10\n",
      "3311/3311 [==============================] - 14s 4ms/step - loss: 0.7021 - acc: 0.7590 - val_loss: 1.5280 - val_acc: 0.5250\n",
      "\n",
      "Epoch 00004: val_acc improved from 0.51938 to 0.52502, saving model to /Users/jsha/gjai/nlp/pytest/17_practice/분류2_we_bidirectional_lstm_model.h5\n",
      "Epoch 5/10\n",
      "3311/3311 [==============================] - 16s 5ms/step - loss: 0.5233 - acc: 0.8242 - val_loss: 1.7715 - val_acc: 0.5363\n",
      "\n",
      "Epoch 00005: val_acc improved from 0.52502 to 0.53629, saving model to /Users/jsha/gjai/nlp/pytest/17_practice/분류2_we_bidirectional_lstm_model.h5\n",
      "Epoch 6/10\n",
      "3311/3311 [==============================] - 16s 5ms/step - loss: 0.3700 - acc: 0.8864 - val_loss: 1.8228 - val_acc: 0.5384\n",
      "\n",
      "Epoch 00006: val_acc improved from 0.53629 to 0.53841, saving model to /Users/jsha/gjai/nlp/pytest/17_practice/분류2_we_bidirectional_lstm_model.h5\n",
      "Epoch 7/10\n",
      "3311/3311 [==============================] - 14s 4ms/step - loss: 0.2400 - acc: 0.9387 - val_loss: 2.1268 - val_acc: 0.5243\n",
      "\n",
      "Epoch 00007: val_acc did not improve from 0.53841\n",
      "Epoch 8/10\n",
      "3311/3311 [==============================] - 12s 4ms/step - loss: 0.1395 - acc: 0.9662 - val_loss: 2.8503 - val_acc: 0.5462\n",
      "\n",
      "Epoch 00008: val_acc improved from 0.53841 to 0.54616, saving model to /Users/jsha/gjai/nlp/pytest/17_practice/분류2_we_bidirectional_lstm_model.h5\n",
      "Epoch 9/10\n",
      "3311/3311 [==============================] - 17s 5ms/step - loss: 0.0895 - acc: 0.9789 - val_loss: 2.5366 - val_acc: 0.5292\n",
      "\n",
      "Epoch 00009: val_acc did not improve from 0.54616\n",
      "Epoch 10/10\n",
      "3311/3311 [==============================] - 17s 5ms/step - loss: 0.0535 - acc: 0.9885 - val_loss: 3.0354 - val_acc: 0.5553\n",
      "\n",
      "Epoch 00010: val_acc improved from 0.54616 to 0.55532, saving model to /Users/jsha/gjai/nlp/pytest/17_practice/분류2_we_bidirectional_lstm_model.h5\n"
     ]
    }
   ],
   "source": [
    "from keras.callbacks import ModelCheckpoint\n",
    "\n",
    "# earlystop_callback = EarlyStopping(monitor='val_acc', patience=2)\n",
    "cp_callback = ModelCheckpoint(filepath=checkpoint_path+model_name,\n",
    "                             monitor='val_acc', verbose=1, \n",
    "                             save_best_only=True)\n",
    "history = model.fit(x_train, y_train, epochs=epochs,\n",
    "                   batch_size=batch_size, validation_split=0.3,\n",
    "                   callbacks=[cp_callback], verbose=1)\n",
    "history_dict = history.history"
   ]
  },
  {
   "cell_type": "markdown",
   "id": "7076c7e1",
   "metadata": {},
   "source": [
    "### 결과"
   ]
  },
  {
   "cell_type": "code",
   "execution_count": 176,
   "id": "4f808ed5",
   "metadata": {},
   "outputs": [
    {
     "name": "stdout",
     "output_type": "stream",
     "text": [
      "validation accuracy of each epoch: [0.407 0.497 0.519 0.525 0.536 0.538 0.524 0.546 0.529 0.555]\n",
      "validation loss of each epoch: [1.65  1.412 1.411 1.528 1.772 1.823 2.127 2.85  2.537 3.035]\n"
     ]
    }
   ],
   "source": [
    "acc = history.history['acc']\n",
    "val_acc = history.history['val_acc']\n",
    "loss = history.history['loss']\n",
    "val_loss = history.history['val_loss']\n",
    "\n",
    "acc_list.append(acc)\n",
    "val_acc_list.append(val_acc)\n",
    "loss_list.append(loss)\n",
    "val_loss_list.append(val_loss)\n",
    "\n",
    "print('validation accuracy of each epoch:', np.round(val_acc,3))\n",
    "epochs = range(1, len(val_acc)+1)\n",
    "print('validation loss of each epoch:', np.round(val_loss,3))"
   ]
  },
  {
   "cell_type": "code",
   "execution_count": 178,
   "id": "eeda302a",
   "metadata": {},
   "outputs": [],
   "source": [
    "class2_acc_list = acc_list\n",
    "class2_val_acc_list = val_acc_list\n",
    "class2_loss_list = loss_list\n",
    "class2_val_loss_list = val_loss_list"
   ]
  },
  {
   "cell_type": "code",
   "execution_count": 187,
   "id": "5aef5121",
   "metadata": {
    "scrolled": true
   },
   "outputs": [
    {
     "data": {
      "image/png": "[encoded data removed]",
      "text/plain": [
       "<Figure size 432x288 with 1 Axes>"
      ]
     },
     "metadata": {
      "needs_background": "light"
     },
     "output_type": "display_data"
    }
   ],
   "source": [
    "import matplotlib.pyplot as plt\n",
    "\n",
    "names = ['word_embedding+LSTM', 'word_embedding+LSTM+L2',\n",
    "        'word_embedding+LSTM+Dropout', 'word_embedding+Dropout',\n",
    "        'word_embedding+bidirectional_LSTM']\n",
    "\n",
    "for acc, name in zip(class2_val_acc_list, names):\n",
    "    plt.plot(epochs, acc, marker='o', label=name)\n",
    "plt.legend()\n",
    "plt.title('Class2 Validation Accuracy')\n",
    "plt.xlabel('epochs')\n",
    "plt.ylabel('accuracy')\n",
    "plt.show()\n"
   ]
  },
  {
   "cell_type": "code",
   "execution_count": 188,
   "id": "fa869793",
   "metadata": {},
   "outputs": [
    {
     "data": {
      "image/png": "[encoded data removed]",
      "text/plain": [
       "<Figure size 432x288 with 1 Axes>"
      ]
     },
     "metadata": {
      "needs_background": "light"
     },
     "output_type": "display_data"
    }
   ],
   "source": [
    "for loss, name in zip(class2_val_loss_list, names):\n",
    "    plt.plot(epochs, loss, marker='o', label=name)\n",
    "plt.legend()\n",
    "plt.title('Class2 Validation Loss')\n",
    "plt.xlabel('epochs')\n",
    "plt.ylabel('loss')\n",
    "plt.show()"
   ]
  },
  {
   "cell_type": "code",
   "execution_count": null,
   "id": "2b699548",
   "metadata": {},
   "outputs": [],
   "source": []
  }
 ],
 "metadata": {
  "kernelspec": {
   "display_name": "nlp3710",
   "language": "python",
   "name": "nlp3710"
  },
  "language_info": {
   "codemirror_mode": {
    "name": "ipython",
    "version": 3
   },
   "file_extension": ".py",
   "mimetype": "text/x-python",
   "name": "python",
   "nbconvert_exporter": "python",
   "pygments_lexer": "ipython3",
   "version": "3.7.10"
  },
  "toc": {
   "base_numbering": 1,
   "nav_menu": {},
   "number_sections": true,
   "sideBar": true,
   "skip_h1_title": false,
   "title_cell": "Table of Contents",
   "title_sidebar": "Contents",
   "toc_cell": false,
   "toc_position": {},
   "toc_section_display": true,
   "toc_window_display": false
  }
 },
 "nbformat": 4,
 "nbformat_minor": 5
}
