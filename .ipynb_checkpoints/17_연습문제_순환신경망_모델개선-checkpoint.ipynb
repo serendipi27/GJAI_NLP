{
 "cells": [
  {
   "cell_type": "markdown",
   "id": "db7818cc",
   "metadata": {},
   "source": [
    "# 연습문제\n",
    "1. 뉴스데이터_train.csv와 뉴스데이터_test.csv를 pd.read_csv() 함수로 읽으시오\n",
    "2. 데이터에서 결측치가 있는 행을 제거하시오\n",
    "3. _train, _test 두 데이터에서 [분류2]는 제거한 복사본 data1_train, data1_test를 만드시오\n",
    "4. _train, _test 두 데이터에서 [분류1]은 제거한 복사본 data2_train, data2_test를 만드시오\n",
    "data1의 상위분류만을 추출하여 이를 내용으로 받는 [분류1_상위] 컬럼을 만드시오\n",
    "6. data2의 상위분류만을 추출하여 이를 내용으로 받는 [분류2_상위] 컬럼을 만드시오\n",
    "7. data1_train의 [분류1_상위] 컬럼 내용에 따라 data1_test의 [분류1_상위] 컬럼을 자동 분류할 수 있는 딥러닝 모델을 만드시오\n",
    "8. data2_train의 [분류2_상위] 컬럼 내용에 따라 data2_test의 [분류2_상위] 컬럼을 자동 분류할 수 있는 딥러닝 모델을 만드시오\n",
    "사전훈련된 워드임베딩 또는 케라스 임베딩을 사용하시오"
   ]
  },
  {
   "cell_type": "code",
   "execution_count": 191,
   "id": "d2adc0bb",
   "metadata": {},
   "outputs": [],
   "source": [
    "import pandas as pd\n",
    "from matplotlib import rc\n",
    "import os\n",
    "\n",
    "rc('font', family='AppleGothic')\n",
    "\n",
    "def read_data(filename, encoding='cp949', start=1):\n",
    "    with open(filename, 'r', encoding=encoding) as f:\n",
    "        data = [line.split('\\t') for line in f.read().splitlines()]\n",
    "        data = daㅁta[start:]\n",
    "    return data\n",
    "\n",
    "def write_data(data, filename, encoding='cp949'):\n",
    "    with open(filename, 'w', encoding=encoding) as f:\n",
    "        f.write(data)\n",
    "\n",
    "path = '/Users/jsha/gjai/nlp/pytest/'\n",
    "working_path = path + '16_practice/'\n",
    "if not os.path.exists(working_path):\n",
    "    os.mkdir(working_path)\n",
    "    print(f'making done {working_path}')\n",
    "os.chdir(working_path)\n",
    "\n",
    "file1 = '뉴스데이터_train.csv'\n",
    "file2 = '뉴스데이터_test.csv'\n",
    "\n",
    "train_df = pd.read_csv(path+file1, encoding='cp949')\n",
    "test_df = pd.read_csv(path+file2, encoding='cp949')"
   ]
  },
  {
   "cell_type": "code",
   "execution_count": 192,
   "id": "e6bd1729",
   "metadata": {},
   "outputs": [
    {
     "name": "stdout",
     "output_type": "stream",
     "text": [
      "<class 'pandas.core.frame.DataFrame'>\n",
      "RangeIndex: 6792 entries, 0 to 6791\n",
      "Data columns (total 5 columns):\n",
      " #   Column  Non-Null Count  Dtype \n",
      "---  ------  --------------  ----- \n",
      " 0   id      6792 non-null   int64 \n",
      " 1   날짜      6792 non-null   int64 \n",
      " 2   분류1     6792 non-null   object\n",
      " 3   분류2     4730 non-null   object\n",
      " 4   텍스트     6792 non-null   object\n",
      "dtypes: int64(2), object(3)\n",
      "memory usage: 265.4+ KB\n"
     ]
    }
   ],
   "source": [
    "train_df.info()"
   ]
  },
  {
   "cell_type": "code",
   "execution_count": 193,
   "id": "bdb38fd1",
   "metadata": {},
   "outputs": [
    {
     "name": "stdout",
     "output_type": "stream",
     "text": [
      "<class 'pandas.core.frame.DataFrame'>\n",
      "RangeIndex: 2265 entries, 0 to 2264\n",
      "Data columns (total 5 columns):\n",
      " #   Column  Non-Null Count  Dtype \n",
      "---  ------  --------------  ----- \n",
      " 0   id      2265 non-null   int64 \n",
      " 1   날짜      2265 non-null   int64 \n",
      " 2   분류1     2265 non-null   object\n",
      " 3   분류2     1593 non-null   object\n",
      " 4   텍스트     2265 non-null   object\n",
      "dtypes: int64(2), object(3)\n",
      "memory usage: 88.6+ KB\n"
     ]
    }
   ],
   "source": [
    "test_df.info()"
   ]
  },
  {
   "cell_type": "code",
   "execution_count": 194,
   "id": "d5904408",
   "metadata": {},
   "outputs": [],
   "source": [
    "data1_train = train_df[['id', '날짜', '분류1', '텍스트']]\n",
    "data1_test = test_df[['id', '날짜', '분류1', '텍스트']]\n",
    "\n",
    "data2_train = train_df[['id', '날짜', '분류2', '텍스트']]\n",
    "data2_test = test_df[['id', '날짜', '분류2', '텍스트']]"
   ]
  },
  {
   "cell_type": "code",
   "execution_count": 195,
   "id": "95fc9359",
   "metadata": {},
   "outputs": [
    {
     "name": "stdout",
     "output_type": "stream",
     "text": [
      "<class 'pandas.core.frame.DataFrame'>\n",
      "Int64Index: 6792 entries, 0 to 6791\n",
      "Data columns (total 4 columns):\n",
      " #   Column  Non-Null Count  Dtype \n",
      "---  ------  --------------  ----- \n",
      " 0   id      6792 non-null   int64 \n",
      " 1   날짜      6792 non-null   int64 \n",
      " 2   분류1     6792 non-null   object\n",
      " 3   텍스트     6792 non-null   object\n",
      "dtypes: int64(2), object(2)\n",
      "memory usage: 265.3+ KB\n",
      "<class 'pandas.core.frame.DataFrame'>\n",
      "Int64Index: 4730 entries, 0 to 6791\n",
      "Data columns (total 4 columns):\n",
      " #   Column  Non-Null Count  Dtype \n",
      "---  ------  --------------  ----- \n",
      " 0   id      4730 non-null   int64 \n",
      " 1   날짜      4730 non-null   int64 \n",
      " 2   분류2     4730 non-null   object\n",
      " 3   텍스트     4730 non-null   object\n",
      "dtypes: int64(2), object(2)\n",
      "memory usage: 184.8+ KB\n"
     ]
    }
   ],
   "source": [
    "data1_train_df = data1_train.dropna()\n",
    "data1_train_df.info()\n",
    "\n",
    "data2_train_df = data2_train.dropna()\n",
    "data2_train_df.info()"
   ]
  },
  {
   "cell_type": "code",
   "execution_count": 196,
   "id": "a2c899cf",
   "metadata": {},
   "outputs": [
    {
     "name": "stdout",
     "output_type": "stream",
     "text": [
      "<class 'pandas.core.frame.DataFrame'>\n",
      "Int64Index: 2265 entries, 0 to 2264\n",
      "Data columns (total 4 columns):\n",
      " #   Column  Non-Null Count  Dtype \n",
      "---  ------  --------------  ----- \n",
      " 0   id      2265 non-null   int64 \n",
      " 1   날짜      2265 non-null   int64 \n",
      " 2   분류1     2265 non-null   object\n",
      " 3   텍스트     2265 non-null   object\n",
      "dtypes: int64(2), object(2)\n",
      "memory usage: 88.5+ KB\n",
      "<class 'pandas.core.frame.DataFrame'>\n",
      "Int64Index: 1593 entries, 0 to 2264\n",
      "Data columns (total 4 columns):\n",
      " #   Column  Non-Null Count  Dtype \n",
      "---  ------  --------------  ----- \n",
      " 0   id      1593 non-null   int64 \n",
      " 1   날짜      1593 non-null   int64 \n",
      " 2   분류2     1593 non-null   object\n",
      " 3   텍스트     1593 non-null   object\n",
      "dtypes: int64(2), object(2)\n",
      "memory usage: 62.2+ KB\n"
     ]
    }
   ],
   "source": [
    "data1_test_df = data1_test.dropna()\n",
    "data1_test_df.info()\n",
    "\n",
    "data2_test_df = data2_test.dropna()\n",
    "data2_test_df.info()"
   ]
  },
  {
   "cell_type": "code",
   "execution_count": 130,
   "id": "1fc53e66",
   "metadata": {},
   "outputs": [],
   "source": [
    "def first_thing(text):\n",
    "    return text.split(',')[0]"
   ]
  },
  {
   "cell_type": "code",
   "execution_count": 198,
   "id": "3b0356de",
   "metadata": {},
   "outputs": [
    {
     "name": "stderr",
     "output_type": "stream",
     "text": [
      "/Users/jsha/opt/anaconda3/envs/nlp3710/lib/python3.7/site-packages/ipykernel_launcher.py:3: SettingWithCopyWarning: \n",
      "A value is trying to be set on a copy of a slice from a DataFrame.\n",
      "Try using .loc[row_indexer,col_indexer] = value instead\n",
      "\n",
      "See the caveats in the documentation: https://pandas.pydata.org/pandas-docs/stable/user_guide/indexing.html#returning-a-view-versus-a-copy\n",
      "  This is separate from the ipykernel package so we can avoid doing imports until\n"
     ]
    }
   ],
   "source": [
    "data1_train_df['분류1_상위'] = data1_train_df['분류1'].map(first_thing)\n",
    "\n",
    "data2_train_df['분류2_상위'] = data2_train_df['분류2'].map(first_thing)"
   ]
  },
  {
   "cell_type": "code",
   "execution_count": 199,
   "id": "dac81de9",
   "metadata": {},
   "outputs": [
    {
     "data": {
      "text/html": [
       "<div>\n",
       "<style scoped>\n",
       "    .dataframe tbody tr th:only-of-type {\n",
       "        vertical-align: middle;\n",
       "    }\n",
       "\n",
       "    .dataframe tbody tr th {\n",
       "        vertical-align: top;\n",
       "    }\n",
       "\n",
       "    .dataframe thead th {\n",
       "        text-align: right;\n",
       "    }\n",
       "</style>\n",
       "<table border=\"1\" class=\"dataframe\">\n",
       "  <thead>\n",
       "    <tr style=\"text-align: right;\">\n",
       "      <th></th>\n",
       "      <th>id</th>\n",
       "      <th>날짜</th>\n",
       "      <th>분류2</th>\n",
       "      <th>텍스트</th>\n",
       "      <th>분류2_상위</th>\n",
       "    </tr>\n",
       "  </thead>\n",
       "  <tbody>\n",
       "    <tr>\n",
       "      <th>0</th>\n",
       "      <td>1319794</td>\n",
       "      <td>20190412</td>\n",
       "      <td>문화,출판</td>\n",
       "      <td>이들은 성경이 난민에 대해 어떻게 말하고 있으며, 현 상황과 관련해 난민에 대한 정...</td>\n",
       "      <td>문화</td>\n",
       "    </tr>\n",
       "    <tr>\n",
       "      <th>1</th>\n",
       "      <td>1410943</td>\n",
       "      <td>20190503</td>\n",
       "      <td>사회,사회일반</td>\n",
       "      <td>충북 충주시는 3일 충주시청 중앙탑회의실에서 제47회 어버이날 유공자 시상식을 열고...</td>\n",
       "      <td>사회</td>\n",
       "    </tr>\n",
       "    <tr>\n",
       "      <th>2</th>\n",
       "      <td>972814</td>\n",
       "      <td>20190122</td>\n",
       "      <td>스포츠,축구,한국프로축구</td>\n",
       "      <td>아시안게임이 U-23 대표팀 경기로 A 대표팀과는 객관적 지표에서 차이가 있지만, ...</td>\n",
       "      <td>스포츠</td>\n",
       "    </tr>\n",
       "    <tr>\n",
       "      <th>3</th>\n",
       "      <td>359452</td>\n",
       "      <td>20180828</td>\n",
       "      <td>IT_과학,과학</td>\n",
       "      <td>신기술전시회 280개 기업, 국제발명특허대전 160개 발명품, 국제컨퍼런스 40개 ...</td>\n",
       "      <td>IT_과학</td>\n",
       "    </tr>\n",
       "    <tr>\n",
       "      <th>5</th>\n",
       "      <td>310019</td>\n",
       "      <td>20180816</td>\n",
       "      <td>스포츠,축구,해외축구</td>\n",
       "      <td>손흥민은 이미 지난 2018 러시아 월드컵 조벌예선 전 경기에 출전했을 뿐더러 토트...</td>\n",
       "      <td>스포츠</td>\n",
       "    </tr>\n",
       "  </tbody>\n",
       "</table>\n",
       "</div>"
      ],
      "text/plain": [
       "        id        날짜            분류2  \\\n",
       "0  1319794  20190412          문화,출판   \n",
       "1  1410943  20190503        사회,사회일반   \n",
       "2   972814  20190122  스포츠,축구,한국프로축구   \n",
       "3   359452  20180828       IT_과학,과학   \n",
       "5   310019  20180816    스포츠,축구,해외축구   \n",
       "\n",
       "                                                 텍스트 분류2_상위  \n",
       "0  이들은 성경이 난민에 대해 어떻게 말하고 있으며, 현 상황과 관련해 난민에 대한 정...     문화  \n",
       "1  충북 충주시는 3일 충주시청 중앙탑회의실에서 제47회 어버이날 유공자 시상식을 열고...     사회  \n",
       "2  아시안게임이 U-23 대표팀 경기로 A 대표팀과는 객관적 지표에서 차이가 있지만, ...    스포츠  \n",
       "3  신기술전시회 280개 기업, 국제발명특허대전 160개 발명품, 국제컨퍼런스 40개 ...  IT_과학  \n",
       "5  손흥민은 이미 지난 2018 러시아 월드컵 조벌예선 전 경기에 출전했을 뿐더러 토트...    스포츠  "
      ]
     },
     "execution_count": 199,
     "metadata": {},
     "output_type": "execute_result"
    }
   ],
   "source": [
    "data1_train_df.head()\n",
    "\n",
    "data2_train_df.head()"
   ]
  },
  {
   "cell_type": "code",
   "execution_count": 201,
   "id": "47627a4f",
   "metadata": {},
   "outputs": [
    {
     "name": "stderr",
     "output_type": "stream",
     "text": [
      "/Users/jsha/opt/anaconda3/envs/nlp3710/lib/python3.7/site-packages/ipykernel_launcher.py:3: SettingWithCopyWarning: \n",
      "A value is trying to be set on a copy of a slice from a DataFrame.\n",
      "Try using .loc[row_indexer,col_indexer] = value instead\n",
      "\n",
      "See the caveats in the documentation: https://pandas.pydata.org/pandas-docs/stable/user_guide/indexing.html#returning-a-view-versus-a-copy\n",
      "  This is separate from the ipykernel package so we can avoid doing imports until\n"
     ]
    }
   ],
   "source": [
    "data1_test_df['분류1_상위'] = data1_test_df['분류1'].map(first_thing)\n",
    "\n",
    "data2_test_df['분류2_상위'] = data2_test_df['분류2'].map(first_thing)"
   ]
  },
  {
   "cell_type": "code",
   "execution_count": 202,
   "id": "cfef1c85",
   "metadata": {},
   "outputs": [
    {
     "data": {
      "text/html": [
       "<div>\n",
       "<style scoped>\n",
       "    .dataframe tbody tr th:only-of-type {\n",
       "        vertical-align: middle;\n",
       "    }\n",
       "\n",
       "    .dataframe tbody tr th {\n",
       "        vertical-align: top;\n",
       "    }\n",
       "\n",
       "    .dataframe thead th {\n",
       "        text-align: right;\n",
       "    }\n",
       "</style>\n",
       "<table border=\"1\" class=\"dataframe\">\n",
       "  <thead>\n",
       "    <tr style=\"text-align: right;\">\n",
       "      <th></th>\n",
       "      <th>id</th>\n",
       "      <th>날짜</th>\n",
       "      <th>분류2</th>\n",
       "      <th>텍스트</th>\n",
       "      <th>분류2_상위</th>\n",
       "    </tr>\n",
       "  </thead>\n",
       "  <tbody>\n",
       "    <tr>\n",
       "      <th>0</th>\n",
       "      <td>268980</td>\n",
       "      <td>20180806</td>\n",
       "      <td>경제,국제경제</td>\n",
       "      <td>이런 가격 조작 행위는 지난해 말 ‘코인 열풍’이 불 때부터 폭발적으로 늘어났다는 ...</td>\n",
       "      <td>경제</td>\n",
       "    </tr>\n",
       "    <tr>\n",
       "      <th>1</th>\n",
       "      <td>260551</td>\n",
       "      <td>20180803</td>\n",
       "      <td>국제,미국_북미</td>\n",
       "      <td>한 정보 소식통에 따르면 이 여성은 지난해 중순쯤 국무부로부터 비밀정보 사용 인가를...</td>\n",
       "      <td>국제</td>\n",
       "    </tr>\n",
       "    <tr>\n",
       "      <th>2</th>\n",
       "      <td>390392</td>\n",
       "      <td>20180903</td>\n",
       "      <td>국제,중국</td>\n",
       "      <td>시진핑(習近平) 중국 국가주석은 오는 11월 파푸아뉴기니에서 열리는 아시아·태평양경...</td>\n",
       "      <td>국제</td>\n",
       "    </tr>\n",
       "    <tr>\n",
       "      <th>3</th>\n",
       "      <td>215899</td>\n",
       "      <td>20180723</td>\n",
       "      <td>경제,산업_기업</td>\n",
       "      <td>이번 세이프가드는 최근 3년간 평균 수입물량으로 쿼터를 산정 후 쿼터 초과 수입물량...</td>\n",
       "      <td>경제</td>\n",
       "    </tr>\n",
       "    <tr>\n",
       "      <th>4</th>\n",
       "      <td>380078</td>\n",
       "      <td>20180902</td>\n",
       "      <td>스포츠,축구,해외축구</td>\n",
       "      <td>손흥민과 이승우, 황의조와 황희찬 등 해외에서 활약하는 선수들은 더 이상 병역 문제...</td>\n",
       "      <td>스포츠</td>\n",
       "    </tr>\n",
       "  </tbody>\n",
       "</table>\n",
       "</div>"
      ],
      "text/plain": [
       "       id        날짜          분류2  \\\n",
       "0  268980  20180806      경제,국제경제   \n",
       "1  260551  20180803     국제,미국_북미   \n",
       "2  390392  20180903        국제,중국   \n",
       "3  215899  20180723     경제,산업_기업   \n",
       "4  380078  20180902  스포츠,축구,해외축구   \n",
       "\n",
       "                                                 텍스트 분류2_상위  \n",
       "0  이런 가격 조작 행위는 지난해 말 ‘코인 열풍’이 불 때부터 폭발적으로 늘어났다는 ...     경제  \n",
       "1  한 정보 소식통에 따르면 이 여성은 지난해 중순쯤 국무부로부터 비밀정보 사용 인가를...     국제  \n",
       "2  시진핑(習近平) 중국 국가주석은 오는 11월 파푸아뉴기니에서 열리는 아시아·태평양경...     국제  \n",
       "3  이번 세이프가드는 최근 3년간 평균 수입물량으로 쿼터를 산정 후 쿼터 초과 수입물량...     경제  \n",
       "4  손흥민과 이승우, 황의조와 황희찬 등 해외에서 활약하는 선수들은 더 이상 병역 문제...    스포츠  "
      ]
     },
     "execution_count": 202,
     "metadata": {},
     "output_type": "execute_result"
    }
   ],
   "source": [
    "data1_test_df.head()\n",
    "\n",
    "data2_test_df.head()"
   ]
  },
  {
   "cell_type": "code",
   "execution_count": 203,
   "id": "da4e9435",
   "metadata": {},
   "outputs": [
    {
     "data": {
      "text/plain": [
       "지역       349\n",
       "경제       329\n",
       "스포츠      303\n",
       "사회       163\n",
       "국제       142\n",
       "IT_과학    126\n",
       "문화       125\n",
       "정치        56\n",
       "Name: 분류2_상위, dtype: int64"
      ]
     },
     "execution_count": 203,
     "metadata": {},
     "output_type": "execute_result"
    }
   ],
   "source": [
    "data1_train_df['분류1_상위'].value_counts()\n",
    "data1_test_df['분류1_상위'].value_counts()\n",
    "\n",
    "data2_train_df['분류2_상위'].value_counts()\n",
    "data2_test_df['분류2_상위'].value_counts()"
   ]
  },
  {
   "cell_type": "code",
   "execution_count": 204,
   "id": "351c5d57",
   "metadata": {},
   "outputs": [
    {
     "data": {
      "text/plain": [
       "4730"
      ]
     },
     "execution_count": 204,
     "metadata": {},
     "output_type": "execute_result"
    }
   ],
   "source": [
    "data = data1_train_df.loc[:,'텍스트'].to_list()\n",
    "len(data)\n",
    "\n",
    "data2 = data2_train_df.loc[:,'텍스트'].to_list()\n",
    "len(data2)"
   ]
  },
  {
   "cell_type": "code",
   "execution_count": 206,
   "id": "db7efd83",
   "metadata": {},
   "outputs": [
    {
     "data": {
      "text/plain": [
       "1593"
      ]
     },
     "execution_count": 206,
     "metadata": {},
     "output_type": "execute_result"
    }
   ],
   "source": [
    "data_test = data1_test_df.loc[:,'텍스트'].to_list()\n",
    "len(data_test)\n",
    "\n",
    "data2_test = data2_test_df.loc[:,'텍스트'].to_list()\n",
    "len(data2_test)"
   ]
  },
  {
   "cell_type": "code",
   "execution_count": 209,
   "id": "5616369d",
   "metadata": {},
   "outputs": [
    {
     "name": "stdout",
     "output_type": "stream",
     "text": [
      "filepath:  /Users/jsha/opt/anaconda3/envs/nlp3710/lib/python3.7/site-packages\n",
      "classpath:  /Users/jsha/opt/anaconda3/envs/nlp3710/lib/python3.7/site-packages/rhinoMorph/lib/rhino.jar\n",
      "JVM is already started~\n"
     ]
    },
    {
     "name": "stderr",
     "output_type": "stream",
     "text": [
      "  2%|▏         | 103/6792 [00:00<00:06, 1025.22it/s]"
     ]
    },
    {
     "name": "stdout",
     "output_type": "stream",
     "text": [
      "RHINO started!\n"
     ]
    },
    {
     "name": "stderr",
     "output_type": "stream",
     "text": [
      "100%|██████████| 6792/6792 [00:09<00:00, 723.72it/s] \n"
     ]
    }
   ],
   "source": [
    "from tqdm import tqdm\n",
    "import rhinoMorph\n",
    "rn = rhinoMorph.startRhino()\n",
    "\n",
    "morphed_data = []\n",
    "morphed_text = ''\n",
    "for data_each in tqdm(data):\n",
    "    morphed_data_each = rhinoMorph.onlyMorph_list(rn, \n",
    "                        data_each, pos=['NNG', 'NNP', 'VV',\n",
    "                        'VA', 'XR', 'IC', 'MM', 'MAG', 'MAJ'])\n",
    "#                             xrVv=True, eomi=True)\n",
    "    joined_data_each = ' '.join(morphed_data_each)\n",
    "    if joined_data_each:\n",
    "        morphed_data.append(joined_data_each)\n",
    "        morphed_text += joined_data_each + '\\n'\n"
   ]
  },
  {
   "cell_type": "code",
   "execution_count": 210,
   "id": "a4faa577",
   "metadata": {
    "scrolled": true
   },
   "outputs": [
    {
     "name": "stdout",
     "output_type": "stream",
     "text": [
      "filepath:  /Users/jsha/opt/anaconda3/envs/nlp3710/lib/python3.7/site-packages\n",
      "classpath:  /Users/jsha/opt/anaconda3/envs/nlp3710/lib/python3.7/site-packages/rhinoMorph/lib/rhino.jar\n",
      "JVM is already started~\n"
     ]
    },
    {
     "name": "stderr",
     "output_type": "stream",
     "text": [
      "\r",
      "  0%|          | 0/2265 [00:00<?, ?it/s]"
     ]
    },
    {
     "name": "stdout",
     "output_type": "stream",
     "text": [
      "RHINO started!\n"
     ]
    },
    {
     "name": "stderr",
     "output_type": "stream",
     "text": [
      "100%|██████████| 2265/2265 [00:03<00:00, 670.95it/s]\n"
     ]
    }
   ],
   "source": [
    "from tqdm import tqdm\n",
    "import rhinoMorph\n",
    "rn = rhinoMorph.startRhino()\n",
    "\n",
    "morphed_data_test = []\n",
    "morphed_text_test = ''\n",
    "for data_each in tqdm(data_test):\n",
    "    morphed_data_test_each = rhinoMorph.onlyMorph_list(rn, \n",
    "                        data_each, pos=['NNG', 'NNP', 'VV',\n",
    "                        'VA', 'XR', 'IC', 'MM', 'MAG', 'MAJ'])\n",
    "#                             xrVv=True, eomi=True)\n",
    "    joined_data_test_each = ' '.join(morphed_data_test_each)\n",
    "    if joined_data_test_each:\n",
    "        morphed_data_test.append(joined_data_test_each)\n",
    "        morphed_text_test += joined_data_test_each + '\\n'\n"
   ]
  },
  {
   "cell_type": "code",
   "execution_count": 211,
   "id": "6e5a50e7",
   "metadata": {},
   "outputs": [
    {
     "name": "stdout",
     "output_type": "stream",
     "text": [
      "filepath:  /Users/jsha/opt/anaconda3/envs/nlp3710/lib/python3.7/site-packages\n",
      "classpath:  /Users/jsha/opt/anaconda3/envs/nlp3710/lib/python3.7/site-packages/rhinoMorph/lib/rhino.jar\n",
      "JVM is already started~\n"
     ]
    },
    {
     "name": "stderr",
     "output_type": "stream",
     "text": [
      "  5%|▍         | 223/4730 [00:00<00:03, 1128.79it/s]"
     ]
    },
    {
     "name": "stdout",
     "output_type": "stream",
     "text": [
      "RHINO started!\n"
     ]
    },
    {
     "name": "stderr",
     "output_type": "stream",
     "text": [
      "100%|██████████| 4730/4730 [00:07<00:00, 646.62it/s]\n"
     ]
    }
   ],
   "source": [
    "from tqdm import tqdm\n",
    "import rhinoMorph\n",
    "rn = rhinoMorph.startRhino()\n",
    "\n",
    "morphed_data2 = []\n",
    "morphed_text2 = ''\n",
    "for data_each in tqdm(data2):\n",
    "    morphed_data_each = rhinoMorph.onlyMorph_list(rn, \n",
    "                        data_each, pos=['NNG', 'NNP', 'VV',\n",
    "                        'VA', 'XR', 'IC', 'MM', 'MAG', 'MAJ'])\n",
    "#                             xrVv=True, eomi=True)\n",
    "    joined_data_each = ' '.join(morphed_data_each)\n",
    "    if joined_data_each:\n",
    "        morphed_data2.append(joined_data_each)\n",
    "        morphed_text2 += joined_data_each + '\\n'\n"
   ]
  },
  {
   "cell_type": "code",
   "execution_count": 212,
   "id": "94a46269",
   "metadata": {},
   "outputs": [
    {
     "name": "stdout",
     "output_type": "stream",
     "text": [
      "filepath:  /Users/jsha/opt/anaconda3/envs/nlp3710/lib/python3.7/site-packages\n",
      "classpath:  /Users/jsha/opt/anaconda3/envs/nlp3710/lib/python3.7/site-packages/rhinoMorph/lib/rhino.jar\n",
      "JVM is already started~\n"
     ]
    },
    {
     "name": "stderr",
     "output_type": "stream",
     "text": [
      "\r",
      "  0%|          | 0/1593 [00:00<?, ?it/s]"
     ]
    },
    {
     "name": "stdout",
     "output_type": "stream",
     "text": [
      "RHINO started!\n"
     ]
    },
    {
     "name": "stderr",
     "output_type": "stream",
     "text": [
      "100%|██████████| 1593/1593 [00:03<00:00, 490.62it/s]\n"
     ]
    }
   ],
   "source": [
    "from tqdm import tqdm\n",
    "import rhinoMorph\n",
    "rn = rhinoMorph.startRhino()\n",
    "\n",
    "morphed_data2_test = []\n",
    "morphed_text2_test = ''\n",
    "for data_each in tqdm(data2_test):\n",
    "    morphed_data_test_each = rhinoMorph.onlyMorph_list(rn, \n",
    "                        data_each, pos=['NNG', 'NNP', 'VV',\n",
    "                        'VA', 'XR', 'IC', 'MM', 'MAG', 'MAJ'])\n",
    "#                             xrVv=True, eomi=True)\n",
    "    joined_data_test_each = ' '.join(morphed_data_test_each)\n",
    "    if joined_data_test_each:\n",
    "        morphed_data2_test.append(joined_data_test_each)\n",
    "        morphed_text2_test += joined_data_test_each + '\\n'\n"
   ]
  },
  {
   "cell_type": "code",
   "execution_count": 216,
   "id": "2a7341d6",
   "metadata": {},
   "outputs": [
    {
     "name": "stdout",
     "output_type": "stream",
     "text": [
      "6792\n",
      "4730\n"
     ]
    },
    {
     "name": "stderr",
     "output_type": "stream",
     "text": [
      "/Users/jsha/opt/anaconda3/envs/nlp3710/lib/python3.7/site-packages/ipykernel_launcher.py:8: SettingWithCopyWarning: \n",
      "A value is trying to be set on a copy of a slice from a DataFrame.\n",
      "Try using .loc[row_indexer,col_indexer] = value instead\n",
      "\n",
      "See the caveats in the documentation: https://pandas.pydata.org/pandas-docs/stable/user_guide/indexing.html#returning-a-view-versus-a-copy\n",
      "  \n"
     ]
    }
   ],
   "source": [
    "data1_train_df.head()\n",
    "data1_train_df['morphed'] = morphed_data\n",
    "data1_train_df.head()\n",
    "print(len(data1_train_df))\n",
    "data1_train_df.to_csv('분류1_뉴스데이터_morphed_train.csv', index=False)\n",
    "\n",
    "data2_train_df.head()\n",
    "data2_train_df['morphed'] = morphed_data2\n",
    "data2_train_df.head()\n",
    "print(len(data2_train_df))\n",
    "data2_train_df.to_csv('분류2_뉴스데이터_morphed_train.csv', index=False)"
   ]
  },
  {
   "cell_type": "code",
   "execution_count": 218,
   "id": "d9a5fb5a",
   "metadata": {},
   "outputs": [
    {
     "name": "stdout",
     "output_type": "stream",
     "text": [
      "2265\n",
      "1593\n"
     ]
    }
   ],
   "source": [
    "data1_test_df.head()\n",
    "data1_test_df['morphed'] = morphed_data_test\n",
    "data1_test_df.head()\n",
    "print(len(data1_test_df))\n",
    "data1_test_df.to_csv('분류1_뉴스데이터_morphed_test.csv', index=False)\n",
    "\n",
    "data2_test_df.head()\n",
    "data2_test_df['morphed'] = morphed_data2_test\n",
    "data2_test_df.head()\n",
    "print(len(data2_test_df))\n",
    "data2_test_df.to_csv('분류2_뉴스데이터_morphed_test.csv', index=False)"
   ]
  },
  {
   "cell_type": "markdown",
   "id": "842ac573",
   "metadata": {},
   "source": [
    "# 분류1"
   ]
  },
  {
   "cell_type": "code",
   "execution_count": 157,
   "id": "7083b30e",
   "metadata": {},
   "outputs": [],
   "source": [
    "from matplotlib import rc\n",
    "rc('font', family='AppleGothic')\n",
    "\n",
    "filename1 = '분류1_뉴스데이터_morphed_train.csv'\n",
    "filename2 = '분류1_뉴스데이터_morphed_test.csv'\n",
    "\n",
    "# # 데이터 읽기와 쓰기를 위한 사용자 함수\n",
    "# def read_data(filename, encoding='cp949', start=1):\n",
    "#     with open(filename, 'r', encoding=encoding) as f:\n",
    "#         data = [line.split('\\t') for line in f.read().splitlines()]\n",
    "#         data = data[start:]\n",
    "#     return data\n",
    "\n",
    "# def write_data(data, filename, encoding='cp949'):\n",
    "#     with open(filename, 'w', encoding=encoding) as f:\n",
    "#         f.write(data)\n",
    "\n",
    "train_df = pd.read_csv(filename1)\n",
    "test_df = pd.read_csv(filename2)\n"
   ]
  },
  {
   "cell_type": "code",
   "execution_count": 158,
   "id": "a29170b8",
   "metadata": {},
   "outputs": [
    {
     "data": {
      "text/html": [
       "<div>\n",
       "<style scoped>\n",
       "    .dataframe tbody tr th:only-of-type {\n",
       "        vertical-align: middle;\n",
       "    }\n",
       "\n",
       "    .dataframe tbody tr th {\n",
       "        vertical-align: top;\n",
       "    }\n",
       "\n",
       "    .dataframe thead th {\n",
       "        text-align: right;\n",
       "    }\n",
       "</style>\n",
       "<table border=\"1\" class=\"dataframe\">\n",
       "  <thead>\n",
       "    <tr style=\"text-align: right;\">\n",
       "      <th></th>\n",
       "      <th>id</th>\n",
       "      <th>날짜</th>\n",
       "      <th>분류1</th>\n",
       "      <th>텍스트</th>\n",
       "      <th>분류1_상위</th>\n",
       "      <th>morphed</th>\n",
       "    </tr>\n",
       "  </thead>\n",
       "  <tbody>\n",
       "    <tr>\n",
       "      <th>0</th>\n",
       "      <td>1319794</td>\n",
       "      <td>20190412</td>\n",
       "      <td>국제,중동_아프리카</td>\n",
       "      <td>이들은 성경이 난민에 대해 어떻게 말하고 있으며, 현 상황과 관련해 난민에 대한 정...</td>\n",
       "      <td>국제</td>\n",
       "      <td>성경 난민 대하 어떻하 말 있 현 상황과 관련 난민 대하 정확 하 팩트 밝히</td>\n",
       "    </tr>\n",
       "    <tr>\n",
       "      <th>1</th>\n",
       "      <td>1410943</td>\n",
       "      <td>20190503</td>\n",
       "      <td>지역,충북</td>\n",
       "      <td>충북 충주시는 3일 충주시청 중앙탑회의실에서 제47회 어버이날 유공자 시상식을 열고...</td>\n",
       "      <td>지역</td>\n",
       "      <td>충북 충주시 충주시 청 중앙 탑 회의실 어버이날 유공자 시상식 열 심영섭 효행 장한...</td>\n",
       "    </tr>\n",
       "    <tr>\n",
       "      <th>2</th>\n",
       "      <td>972814</td>\n",
       "      <td>20190122</td>\n",
       "      <td>스포츠,축구,국가대표팀</td>\n",
       "      <td>아시안게임이 U-23 대표팀 경기로 A 대표팀과는 객관적 지표에서 차이가 있지만, ...</td>\n",
       "      <td>스포츠</td>\n",
       "      <td>아시안게임 대표 팀 경기 대표 팀 객관적 지표 차이 있 그때 기억 황의 조의 자신감...</td>\n",
       "    </tr>\n",
       "    <tr>\n",
       "      <th>3</th>\n",
       "      <td>359452</td>\n",
       "      <td>20180828</td>\n",
       "      <td>IT_과학,콘텐츠</td>\n",
       "      <td>신기술전시회 280개 기업, 국제발명특허대전 160개 발명품, 국제컨퍼런스 40개 ...</td>\n",
       "      <td>IT_과학</td>\n",
       "      <td>신기술 전시회 기업 국제 발명 특허 대전 발명품 국제 컨퍼런스 세션 꾸미 명 관람객...</td>\n",
       "    </tr>\n",
       "    <tr>\n",
       "      <th>4</th>\n",
       "      <td>1338926</td>\n",
       "      <td>20190416</td>\n",
       "      <td>사회,장애인</td>\n",
       "      <td>아카데미에서는 장애인복지시설, 발달장애인훈련센터 등 학령기 장애인 대상으로의 진로직...</td>\n",
       "      <td>사회</td>\n",
       "      <td>아카데미 장애인 복지 시설 발달 장애 훈련 센터 학령기 장애인 대상 진로 직업 체험...</td>\n",
       "    </tr>\n",
       "  </tbody>\n",
       "</table>\n",
       "</div>"
      ],
      "text/plain": [
       "        id        날짜           분류1  \\\n",
       "0  1319794  20190412    국제,중동_아프리카   \n",
       "1  1410943  20190503         지역,충북   \n",
       "2   972814  20190122  스포츠,축구,국가대표팀   \n",
       "3   359452  20180828     IT_과학,콘텐츠   \n",
       "4  1338926  20190416        사회,장애인   \n",
       "\n",
       "                                                 텍스트 분류1_상위  \\\n",
       "0  이들은 성경이 난민에 대해 어떻게 말하고 있으며, 현 상황과 관련해 난민에 대한 정...     국제   \n",
       "1  충북 충주시는 3일 충주시청 중앙탑회의실에서 제47회 어버이날 유공자 시상식을 열고...     지역   \n",
       "2  아시안게임이 U-23 대표팀 경기로 A 대표팀과는 객관적 지표에서 차이가 있지만, ...    스포츠   \n",
       "3  신기술전시회 280개 기업, 국제발명특허대전 160개 발명품, 국제컨퍼런스 40개 ...  IT_과학   \n",
       "4  아카데미에서는 장애인복지시설, 발달장애인훈련센터 등 학령기 장애인 대상으로의 진로직...     사회   \n",
       "\n",
       "                                             morphed  \n",
       "0         성경 난민 대하 어떻하 말 있 현 상황과 관련 난민 대하 정확 하 팩트 밝히  \n",
       "1  충북 충주시 충주시 청 중앙 탑 회의실 어버이날 유공자 시상식 열 심영섭 효행 장한...  \n",
       "2  아시안게임 대표 팀 경기 대표 팀 객관적 지표 차이 있 그때 기억 황의 조의 자신감...  \n",
       "3  신기술 전시회 기업 국제 발명 특허 대전 발명품 국제 컨퍼런스 세션 꾸미 명 관람객...  \n",
       "4  아카데미 장애인 복지 시설 발달 장애 훈련 센터 학령기 장애인 대상 진로 직업 체험...  "
      ]
     },
     "execution_count": 158,
     "metadata": {},
     "output_type": "execute_result"
    }
   ],
   "source": [
    "# train_df.head()\n",
    "# train_df['morphed'] = morphed_data\n",
    "train_df.head()"
   ]
  },
  {
   "cell_type": "code",
   "execution_count": 159,
   "id": "9a10ea58",
   "metadata": {},
   "outputs": [
    {
     "data": {
      "text/html": [
       "<div>\n",
       "<style scoped>\n",
       "    .dataframe tbody tr th:only-of-type {\n",
       "        vertical-align: middle;\n",
       "    }\n",
       "\n",
       "    .dataframe tbody tr th {\n",
       "        vertical-align: top;\n",
       "    }\n",
       "\n",
       "    .dataframe thead th {\n",
       "        text-align: right;\n",
       "    }\n",
       "</style>\n",
       "<table border=\"1\" class=\"dataframe\">\n",
       "  <thead>\n",
       "    <tr style=\"text-align: right;\">\n",
       "      <th></th>\n",
       "      <th>id</th>\n",
       "      <th>날짜</th>\n",
       "      <th>분류1</th>\n",
       "      <th>텍스트</th>\n",
       "      <th>분류1_상위</th>\n",
       "      <th>morphed</th>\n",
       "    </tr>\n",
       "  </thead>\n",
       "  <tbody>\n",
       "    <tr>\n",
       "      <th>0</th>\n",
       "      <td>268980</td>\n",
       "      <td>20180806</td>\n",
       "      <td>경제,증권_증시</td>\n",
       "      <td>이런 가격 조작 행위는 지난해 말 ‘코인 열풍’이 불 때부터 폭발적으로 늘어났다는 ...</td>\n",
       "      <td>경제</td>\n",
       "      <td>이런 가격 조작 행위 지난해 말 코인 열풍 불 때 폭발적 늘어나 설명</td>\n",
       "    </tr>\n",
       "    <tr>\n",
       "      <th>1</th>\n",
       "      <td>260551</td>\n",
       "      <td>20180803</td>\n",
       "      <td>국제,러시아</td>\n",
       "      <td>한 정보 소식통에 따르면 이 여성은 지난해 중순쯤 국무부로부터 비밀정보 사용 인가를...</td>\n",
       "      <td>국제</td>\n",
       "      <td>하 정보 소식통 따르 이 여성 지난해 중순쯤 국무부 비밀 정보 사용 인가 취소 당하...</td>\n",
       "    </tr>\n",
       "    <tr>\n",
       "      <th>2</th>\n",
       "      <td>390392</td>\n",
       "      <td>20180903</td>\n",
       "      <td>국제,아시아</td>\n",
       "      <td>시진핑(習近平) 중국 국가주석은 오는 11월 파푸아뉴기니에서 열리는 아시아·태평양경...</td>\n",
       "      <td>국제</td>\n",
       "      <td>시진 핑 중국 국가주석 오 파푸아뉴기니 열리 아시아 태평양 경제 협력체 정상 회의 ...</td>\n",
       "    </tr>\n",
       "    <tr>\n",
       "      <th>3</th>\n",
       "      <td>215899</td>\n",
       "      <td>20180723</td>\n",
       "      <td>경제,무역</td>\n",
       "      <td>이번 세이프가드는 최근 3년간 평균 수입물량으로 쿼터를 산정 후 쿼터 초과 수입물량...</td>\n",
       "      <td>경제</td>\n",
       "      <td>이번 세이프가드 최근 평균 수입 물량 쿼터 산정 후 쿼터 초과 수입 물량 대하 관세...</td>\n",
       "    </tr>\n",
       "    <tr>\n",
       "      <th>4</th>\n",
       "      <td>380078</td>\n",
       "      <td>20180902</td>\n",
       "      <td>스포츠,축구,국가대표팀</td>\n",
       "      <td>손흥민과 이승우, 황의조와 황희찬 등 해외에서 활약하는 선수들은 더 이상 병역 문제...</td>\n",
       "      <td>스포츠</td>\n",
       "      <td>손 흥 민 이승우 황의 황희찬 해외 활약 선수 더 이상 병역 문제 발목 잡히 국내 ...</td>\n",
       "    </tr>\n",
       "  </tbody>\n",
       "</table>\n",
       "</div>"
      ],
      "text/plain": [
       "       id        날짜           분류1  \\\n",
       "0  268980  20180806      경제,증권_증시   \n",
       "1  260551  20180803        국제,러시아   \n",
       "2  390392  20180903        국제,아시아   \n",
       "3  215899  20180723         경제,무역   \n",
       "4  380078  20180902  스포츠,축구,국가대표팀   \n",
       "\n",
       "                                                 텍스트 분류1_상위  \\\n",
       "0  이런 가격 조작 행위는 지난해 말 ‘코인 열풍’이 불 때부터 폭발적으로 늘어났다는 ...     경제   \n",
       "1  한 정보 소식통에 따르면 이 여성은 지난해 중순쯤 국무부로부터 비밀정보 사용 인가를...     국제   \n",
       "2  시진핑(習近平) 중국 국가주석은 오는 11월 파푸아뉴기니에서 열리는 아시아·태평양경...     국제   \n",
       "3  이번 세이프가드는 최근 3년간 평균 수입물량으로 쿼터를 산정 후 쿼터 초과 수입물량...     경제   \n",
       "4  손흥민과 이승우, 황의조와 황희찬 등 해외에서 활약하는 선수들은 더 이상 병역 문제...    스포츠   \n",
       "\n",
       "                                             morphed  \n",
       "0             이런 가격 조작 행위 지난해 말 코인 열풍 불 때 폭발적 늘어나 설명  \n",
       "1  하 정보 소식통 따르 이 여성 지난해 중순쯤 국무부 비밀 정보 사용 인가 취소 당하...  \n",
       "2  시진 핑 중국 국가주석 오 파푸아뉴기니 열리 아시아 태평양 경제 협력체 정상 회의 ...  \n",
       "3  이번 세이프가드 최근 평균 수입 물량 쿼터 산정 후 쿼터 초과 수입 물량 대하 관세...  \n",
       "4  손 흥 민 이승우 황의 황희찬 해외 활약 선수 더 이상 병역 문제 발목 잡히 국내 ...  "
      ]
     },
     "execution_count": 159,
     "metadata": {},
     "output_type": "execute_result"
    }
   ],
   "source": [
    "test_df.head()"
   ]
  },
  {
   "cell_type": "code",
   "execution_count": 161,
   "id": "a31761f5",
   "metadata": {},
   "outputs": [
    {
     "name": "stdout",
     "output_type": "stream",
     "text": [
      "6792\n",
      "6792\n",
      "['국제', '지역', '스포츠']\n",
      "['성경 난민 대하 어떻하 말 있 현 상황과 관련 난민 대하 정확 하 팩트 밝히', '충북 충주시 충주시 청 중앙 탑 회의실 어버이날 유공자 시상식 열 심영섭 효행 장한 어버이 표창장 수여', '아시안게임 대표 팀 경기 대표 팀 객관적 지표 차이 있 그때 기억 황의 조의 자신감 불태우 충분']\n",
      "--------------------------------------------------\n",
      "2265\n",
      "2265\n",
      "['경제', '국제', '국제']\n",
      "['이런 가격 조작 행위 지난해 말 코인 열풍 불 때 폭발적 늘어나 설명', '하 정보 소식통 따르 이 여성 지난해 중순쯤 국무부 비밀 정보 사용 인가 취소 당하 직후 해고 되', '시진 핑 중국 국가주석 오 파푸아뉴기니 열리 아시아 태평양 경제 협력체 정상 회의 전후 태평 도서 국 정상 회담 알리']\n"
     ]
    }
   ],
   "source": [
    "from sklearn.model_selection import train_test_split\n",
    "\n",
    "print(len(morphed_data))\n",
    "print(len(train_df))\n",
    "data_text = train_df.loc[:,'morphed'].to_list()\n",
    "data_label = train_df.loc[:,'분류1_상위'].to_list()\n",
    "print(data_label[:3])\n",
    "print(data_text[:3])\n",
    "\n",
    "print('-'*50)\n",
    "\n",
    "print(len(morphed_data_test))\n",
    "print(len(test_df))\n",
    "data_text_test = test_df.loc[:,'morphed'].to_list()\n",
    "data_label_test = test_df.loc[:,'분류1_상위'].to_list()\n",
    "print(data_label_test[:3])\n",
    "print(data_text_test[:3])\n",
    "\n",
    "train_data_text = data_text\n",
    "train_data_label = data_label\n",
    "test_data_text = data_text_test\n",
    "test_data_label = data_label_test\n",
    "# train_data_text, test_data_text, train_data_label, test_data_label = \\\n",
    "# train_test_split(data_text, data_label, stratify=data_label, \n",
    "#                  test_size=0.3, random_state=1111)"
   ]
  },
  {
   "cell_type": "code",
   "execution_count": 162,
   "id": "2d489784",
   "metadata": {},
   "outputs": [
    {
     "name": "stdout",
     "output_type": "stream",
     "text": [
      "6792\n",
      "2265\n"
     ]
    }
   ],
   "source": [
    "print(len(train_data_text))\n",
    "print(len(test_data_text))"
   ]
  },
  {
   "cell_type": "code",
   "execution_count": 163,
   "id": "3788b358",
   "metadata": {},
   "outputs": [
    {
     "name": "stdout",
     "output_type": "stream",
     "text": [
      "train_data_label_freq: Counter({'지역': 2151, '스포츠': 1725, '경제': 945, '국제': 733, '사회': 639, 'IT_과학': 491, '문화': 98, '미분류': 9, '정치': 1})\n",
      "test_data_label_freq: Counter({'지역': 722, '스포츠': 540, '경제': 329, '국제': 219, '사회': 213, 'IT_과학': 203, '문화': 30, '미분류': 9})\n"
     ]
    }
   ],
   "source": [
    "from collections import Counter\n",
    "train_data_label_freq = Counter(train_data_label)\n",
    "print('train_data_label_freq:', train_data_label_freq)\n",
    "\n",
    "test_data_label_freq = Counter(test_data_label)\n",
    "print('test_data_label_freq:', test_data_label_freq)\n"
   ]
  },
  {
   "cell_type": "code",
   "execution_count": 32,
   "id": "6582fa83",
   "metadata": {},
   "outputs": [],
   "source": [
    "# test_data_text = test_data_text[:3000]\n",
    "# test_data_label = test_data_label[:3000]"
   ]
  },
  {
   "cell_type": "code",
   "execution_count": 164,
   "id": "1a40003f",
   "metadata": {},
   "outputs": [
    {
     "name": "stdout",
     "output_type": "stream",
     "text": [
      "최소길이: 4\n",
      "최대길이: 54\n",
      "평균길이: 19.5\n",
      "중위수길이: 19.0\n",
      "percentile  : [0, 25, 50, 75, 90, 99, 100]\n",
      "구간별 최대 길이: [ 4. 16. 19. 22. 27. 35. 54.]\n",
      "최소길이 문장: 투입 예산 내년 총\n",
      "최대길이 문장: 주요 신규 사업 삼사해상공원 해 파랑 공원 파도 걷기 보행 조성 새 뜰 사업 축산 블루 시티 조성 사업 예 주 고을 역사 문화 공원 조성 사업 오십천 그린 로드 조성 영덕 도서관 건립 사업 영덕 애니메이션 테마파크 조성 사업 영덕 하 양교 션 강구면 화전 우수 저류 시설 설치 아름답 소하천 꾸 사업\n"
     ]
    }
   ],
   "source": [
    "import numpy as np\n",
    "\n",
    "text_len = [len(line.split(' ')) for line in train_data_text]\n",
    "print('최소길이:', np.min(text_len))\n",
    "print('최대길이:', np.max(text_len))\n",
    "print('평균길이:', np.round(np.mean(text_len),1))\n",
    "print('중위수길이:', np.median(text_len))\n",
    "print('percentile  : [0, 25, 50, 75, 90, 99, 100]')\n",
    "print('구간별 최대 길이:', np.percentile(text_len, [0, 25, 50, 75, 90, 99, 100]))\n",
    "print('최소길이 문장:', train_data_text[np.argmin(text_len)])\n",
    "print('최대길이 문장:', train_data_text[np.argmax(text_len)])"
   ]
  },
  {
   "cell_type": "code",
   "execution_count": 165,
   "id": "7f42c405",
   "metadata": {},
   "outputs": [],
   "source": [
    "from keras.preprocessing.text import Tokenizer\n",
    "from keras.preprocessing.sequence import pad_sequences\n",
    "import numpy as np\n",
    "import math \n",
    "\n",
    "max_words = 10000\n",
    "maxlen = 40\n",
    "\n",
    "tokenizer = Tokenizer(num_words=max_words)\n",
    "tokenizer.fit_on_texts(train_data_text)\n",
    "word_index = tokenizer.word_index"
   ]
  },
  {
   "cell_type": "code",
   "execution_count": 166,
   "id": "3b59517f",
   "metadata": {},
   "outputs": [
    {
     "name": "stdout",
     "output_type": "stream",
     "text": [
      "wjscpdptj 18050개의 고유한 토큰을 찾았습니다\n",
      "word_index type: <class 'dict'>\n"
     ]
    }
   ],
   "source": [
    "print('wjscpdptj %s개의 고유한 토큰을 찾았습니다' % len(word_index))\n",
    "print('word_index type:', type(word_index))\n",
    "# print('word_index:', word_index)"
   ]
  },
  {
   "cell_type": "code",
   "execution_count": 167,
   "id": "45f8824d",
   "metadata": {},
   "outputs": [
    {
     "name": "stdout",
     "output_type": "stream",
     "text": [
      "최대 문장 길이: 179\n",
      "최소 문장 길이: 48\n"
     ]
    }
   ],
   "source": [
    "seq_data = tokenizer.texts_to_sequences(train_data_text)\n",
    "# print('data', data)\n",
    "\n",
    "len_d = [len(d) for d in data]\n",
    "# print('길이:', len_d)\n",
    "print('최대 문장 길이:', max(len_d))\n",
    "print('최소 문장 길이:', min(len_d))"
   ]
  },
  {
   "cell_type": "code",
   "execution_count": 168,
   "id": "f43f94a5",
   "metadata": {},
   "outputs": [
    {
     "name": "stdout",
     "output_type": "stream",
     "text": [
      "data: [[   0    0    0 ...    1 7165   18]\n",
      " [   0    0    0 ... 7168 7169 2108]\n",
      " [   0    0    0 ... 3970 4700 1797]\n",
      " ...\n",
      " [   0    0    0 ... 9362 5861   18]\n",
      " [   0    0    0 ... 1042 1564   13]\n",
      " [   0    0    0 ... 9916 3268  362]]\n",
      "data 0: [   0    0    0    0    0    0    0    0    0    0    0    0    0    0\n",
      "    0    0    0    0    0    0    0    0    0    0    0 2300  677   10\n",
      " 2301  220    3  790 4698   76  677   10 1389    1 7165   18]\n",
      "data 0의 길이: 40\n"
     ]
    }
   ],
   "source": [
    "pad_data = pad_sequences(seq_data, maxlen=maxlen)\n",
    "\n",
    "print('data:', pad_data)\n",
    "print('data 0:', pad_data[0])\n",
    "print('data 0의 길이:', len(pad_data[0]))"
   ]
  },
  {
   "cell_type": "code",
   "execution_count": 169,
   "id": "d37569a4",
   "metadata": {},
   "outputs": [
    {
     "name": "stdout",
     "output_type": "stream",
     "text": [
      "train_data_text type: <class 'list'>\n",
      "data type: <class 'numpy.ndarray'>\n",
      "train_data_text 0: 성경 난민 대하 어떻하 말 있 현 상황과 관련 난민 대하 정확 하 팩트 밝히\n",
      "data 0: [   0    0    0    0    0    0    0    0    0    0    0    0    0    0\n",
      "    0    0    0    0    0    0    0    0    0    0    0 2300  677   10\n",
      " 2301  220    3  790 4698   76  677   10 1389    1 7165   18]\n"
     ]
    }
   ],
   "source": [
    "print('train_data_text type:', type(train_data_text))\n",
    "print('data type:', type(pad_data))\n",
    "print('train_data_text 0:', train_data_text[0])\n",
    "print('data 0:', pad_data[0])"
   ]
  },
  {
   "cell_type": "code",
   "execution_count": 170,
   "id": "a1e8c616",
   "metadata": {},
   "outputs": [],
   "source": [
    "def to_one_hot(sequences, dimension):\n",
    "    results = np.zeros((len(sequences), dimension))\n",
    "    for i, sequence in enumerate(sequences):\n",
    "        results[i, sequence] = 1.\n",
    "    return results\n",
    "\n",
    "# x_train = to_one_hot(pad_data, dimension=max_words)\n",
    "x_train = pad_data"
   ]
  },
  {
   "cell_type": "code",
   "execution_count": 171,
   "id": "90ebae9d",
   "metadata": {},
   "outputs": [],
   "source": [
    "# print('train_data_text type:', type(train_data_text))\n",
    "# print(len(train_data_text[0]))\n",
    "# print('texts 0:', train_data_text[0])\n",
    "\n",
    "# print('data type:', type(x_train))\n",
    "# print(len(x_train[0]))\n",
    "# print('x_train [0][0:100]:', x_train[0][:100])"
   ]
  },
  {
   "cell_type": "code",
   "execution_count": 172,
   "id": "31f15283",
   "metadata": {},
   "outputs": [
    {
     "name": "stdout",
     "output_type": "stream",
     "text": [
      "['IT_과학' '경제' '국제' '문화' '미분류' '사회' '스포츠' '정치' '지역']\n"
     ]
    }
   ],
   "source": [
    "from sklearn.preprocessing import LabelEncoder\n",
    "le = LabelEncoder()\n",
    "le.fit(train_data_label)\n",
    "print(le.classes_)\n",
    "train_data_label = le.transform(train_data_label)"
   ]
  },
  {
   "cell_type": "code",
   "execution_count": 173,
   "id": "5bb12e1f",
   "metadata": {},
   "outputs": [],
   "source": [
    "test_data_label = le.transform(test_data_label)"
   ]
  },
  {
   "cell_type": "code",
   "execution_count": 174,
   "id": "139ffcef",
   "metadata": {},
   "outputs": [
    {
     "name": "stdout",
     "output_type": "stream",
     "text": [
      "[[0. 0. 1. ... 0. 0. 0.]\n",
      " [0. 0. 0. ... 0. 0. 1.]\n",
      " [0. 0. 0. ... 1. 0. 0.]\n",
      " ...\n",
      " [0. 0. 0. ... 1. 0. 0.]\n",
      " [0. 1. 0. ... 0. 0. 0.]\n",
      " [0. 0. 0. ... 0. 0. 1.]]\n"
     ]
    }
   ],
   "source": [
    "class_number = len(le.classes_)\n",
    "y_train = to_one_hot(train_data_label, dimension=class_number)\n",
    "print(y_train)"
   ]
  },
  {
   "cell_type": "code",
   "execution_count": 175,
   "id": "7a7e1dfe",
   "metadata": {},
   "outputs": [
    {
     "name": "stdout",
     "output_type": "stream",
     "text": [
      "[[0. 1. 0. ... 0. 0. 0.]\n",
      " [0. 0. 1. ... 0. 0. 0.]\n",
      " [0. 0. 1. ... 0. 0. 0.]\n",
      " ...\n",
      " [0. 0. 1. ... 0. 0. 0.]\n",
      " [0. 1. 0. ... 0. 0. 0.]\n",
      " [0. 0. 1. ... 0. 0. 0.]]\n"
     ]
    }
   ],
   "source": [
    "data_test = tokenizer.texts_to_sequences(test_data_text)\n",
    "\n",
    "data_test = pad_sequences(data_test, maxlen=maxlen)\n",
    "\n",
    "x_test = data_test\n",
    "\n",
    "y_test = to_one_hot(test_data_label, dimension=class_number)\n",
    "print(y_test)"
   ]
  },
  {
   "cell_type": "code",
   "execution_count": 176,
   "id": "902faffb",
   "metadata": {},
   "outputs": [
    {
     "name": "stdout",
     "output_type": "stream",
     "text": [
      "훈련 데이터 본문 텐서의 크기: (6792, 40)\n",
      "훈련 데이터 레이블 텐서의 크기: (6792, 9)\n",
      "테스트 데이터 본문 텐서의 크기: (2265, 40)\n",
      "테스트 데이터 레이블 텐서의 크기: (2265, 9)\n"
     ]
    }
   ],
   "source": [
    "print('훈련 데이터 본문 텐서의 크기:', x_train.shape)\n",
    "print('훈련 데이터 레이블 텐서의 크기:', y_train.shape)\n",
    "\n",
    "print('테스트 데이터 본문 텐서의 크기:', x_test.shape)\n",
    "print('테스트 데이터 레이블 텐서의 크기:', y_test.shape)"
   ]
  },
  {
   "cell_type": "code",
   "execution_count": 177,
   "id": "2b1191ef",
   "metadata": {},
   "outputs": [
    {
     "data": {
      "text/plain": [
       "(6792, 9)"
      ]
     },
     "execution_count": 177,
     "metadata": {},
     "output_type": "execute_result"
    }
   ],
   "source": [
    "y_train.shape"
   ]
  },
  {
   "cell_type": "code",
   "execution_count": 178,
   "id": "88bb753d",
   "metadata": {},
   "outputs": [
    {
     "name": "stdout",
     "output_type": "stream",
     "text": [
      "/Users/jsha/gjai/nlp/pytest/16_practice\r\n"
     ]
    }
   ],
   "source": [
    "!pwd"
   ]
  },
  {
   "cell_type": "code",
   "execution_count": 179,
   "id": "4f8ba4a1",
   "metadata": {},
   "outputs": [],
   "source": [
    "import os\n",
    "\n",
    "class_number = y_train.shape[-1]\n",
    "epochs = 10\n",
    "batch_size = 50\n",
    "embedding_dim = 200\n",
    "model_name = 'train_data_분류1_morphed_model.h5'\n",
    "tokenizer_name = 'train_data_분류1_morphed_token.pickle'\n",
    "labelencode_name = 'train_data_분류1_morphed_le.pickle'\n",
    "\n",
    "# working_path = '/Users/jsha/gjai/nlp/pytest/15_working/'\n",
    "# save_path = working_path + 'practice/'\n",
    "# if not os.path.exists(save_path):\n",
    "#     os.mkdir(save_path)\n",
    "#     print(f'made {save_path} directory')\n",
    "# os.chdir(save_path)"
   ]
  },
  {
   "cell_type": "code",
   "execution_count": 180,
   "id": "c9f6b141",
   "metadata": {},
   "outputs": [
    {
     "name": "stdout",
     "output_type": "stream",
     "text": [
      "Model: \"sequential_5\"\n",
      "_________________________________________________________________\n",
      "Layer (type)                 Output Shape              Param #   \n",
      "=================================================================\n",
      "embedding_5 (Embedding)      (None, 40, 200)           2000000   \n",
      "_________________________________________________________________\n",
      "lstm_4 (LSTM)                (None, 128)               168448    \n",
      "_________________________________________________________________\n",
      "dense_12 (Dense)             (None, 64)                8256      \n",
      "_________________________________________________________________\n",
      "dense_13 (Dense)             (None, 32)                2080      \n",
      "_________________________________________________________________\n",
      "dense_14 (Dense)             (None, 9)                 297       \n",
      "=================================================================\n",
      "Total params: 2,179,081\n",
      "Trainable params: 2,179,081\n",
      "Non-trainable params: 0\n",
      "_________________________________________________________________\n"
     ]
    }
   ],
   "source": [
    "from keras.models import Sequential\n",
    "from keras.layers import Dense\n",
    "from keras import layers\n",
    "\n",
    "model = Sequential()\n",
    "\n",
    "model.add(layers.Embedding(input_dim=max_words, output_dim=embedding_dim, \n",
    "                          input_length=maxlen))\n",
    "\n",
    "model.add(layers.LSTM(128))\n",
    "\n",
    "model.add(Dense(64, activation='relu', input_shape=(max_words,)))\n",
    "model.add(Dense(units=32, activation='relu'))\n",
    "model.add(Dense(units=class_number, activation='softmax'))\n",
    "\n",
    "model.summary()"
   ]
  },
  {
   "cell_type": "code",
   "execution_count": 181,
   "id": "6529af7f",
   "metadata": {},
   "outputs": [
    {
     "name": "stdout",
     "output_type": "stream",
     "text": [
      "/Users/jsha/gjai/nlp/pytest/16_practice/ --- Folder already exists\n",
      "\n"
     ]
    }
   ],
   "source": [
    "from keras.callbacks import EarlyStopping\n",
    "import os\n",
    "\n",
    "checkpoint_path = working_path\n",
    "# checkpoint_dir = os.path.dirname(checkpoint_path)\n",
    "if os.path.exists(checkpoint_path):\n",
    "    print('{} --- Folder already exists\\n'.format(checkpoint_path))\n",
    "else:\n",
    "    os.makedirs(checkpoint_path, exist_ok=True)\n",
    "    print('{} --- Folder created\\n'.format(checkpoint_path))"
   ]
  },
  {
   "cell_type": "code",
   "execution_count": 182,
   "id": "c727d41d",
   "metadata": {},
   "outputs": [],
   "source": [
    "model.compile(optimizer='rmsprop', loss='categorical_crossentropy',\n",
    "             metrics=['acc'])"
   ]
  },
  {
   "cell_type": "code",
   "execution_count": 183,
   "id": "1c3b4853",
   "metadata": {},
   "outputs": [
    {
     "name": "stderr",
     "output_type": "stream",
     "text": [
      "/Users/jsha/opt/anaconda3/envs/nlp3710/lib/python3.7/site-packages/tensorflow_core/python/framework/indexed_slices.py:424: UserWarning: Converting sparse IndexedSlices to a dense Tensor of unknown shape. This may consume a large amount of memory.\n",
      "  \"Converting sparse IndexedSlices to a dense Tensor of unknown shape. \"\n"
     ]
    },
    {
     "name": "stdout",
     "output_type": "stream",
     "text": [
      "Train on 4754 samples, validate on 2038 samples\n",
      "Epoch 1/10\n",
      "4754/4754 [==============================] - 22s 5ms/step - loss: 1.7677 - acc: 0.3357 - val_loss: 1.5462 - val_acc: 0.5221\n",
      "\n",
      "Epoch 00001: val_acc improved from -inf to 0.52208, saving model to /Users/jsha/gjai/nlp/pytest/16_practice/train_data_분류1_morphed_model.h5\n",
      "Epoch 2/10\n",
      "4754/4754 [==============================] - 23s 5ms/step - loss: 1.2131 - acc: 0.5822 - val_loss: 1.1687 - val_acc: 0.5780\n",
      "\n",
      "Epoch 00002: val_acc improved from 0.52208 to 0.57802, saving model to /Users/jsha/gjai/nlp/pytest/16_practice/train_data_분류1_morphed_model.h5\n",
      "Epoch 3/10\n",
      "4754/4754 [==============================] - 22s 5ms/step - loss: 0.8829 - acc: 0.7000 - val_loss: 1.1590 - val_acc: 0.6001\n",
      "\n",
      "Epoch 00003: val_acc improved from 0.57802 to 0.60010, saving model to /Users/jsha/gjai/nlp/pytest/16_practice/train_data_분류1_morphed_model.h5\n",
      "Epoch 4/10\n",
      "4754/4754 [==============================] - 24s 5ms/step - loss: 0.5994 - acc: 0.8063 - val_loss: 1.0605 - val_acc: 0.6575\n",
      "\n",
      "Epoch 00004: val_acc improved from 0.60010 to 0.65751, saving model to /Users/jsha/gjai/nlp/pytest/16_practice/train_data_분류1_morphed_model.h5\n",
      "Epoch 5/10\n",
      "4754/4754 [==============================] - 26s 5ms/step - loss: 0.3747 - acc: 0.8873 - val_loss: 1.0987 - val_acc: 0.6816\n",
      "\n",
      "Epoch 00005: val_acc improved from 0.65751 to 0.68155, saving model to /Users/jsha/gjai/nlp/pytest/16_practice/train_data_분류1_morphed_model.h5\n",
      "Epoch 6/10\n",
      "4754/4754 [==============================] - 20s 4ms/step - loss: 0.2295 - acc: 0.9321 - val_loss: 1.3042 - val_acc: 0.6801\n",
      "\n",
      "Epoch 00006: val_acc did not improve from 0.68155\n",
      "Epoch 7/10\n",
      "4754/4754 [==============================] - 22s 5ms/step - loss: 0.1327 - acc: 0.9626 - val_loss: 1.4003 - val_acc: 0.6987\n",
      "\n",
      "Epoch 00007: val_acc improved from 0.68155 to 0.69872, saving model to /Users/jsha/gjai/nlp/pytest/16_practice/train_data_분류1_morphed_model.h5\n",
      "Epoch 8/10\n",
      "4754/4754 [==============================] - 21s 4ms/step - loss: 0.0777 - acc: 0.9798 - val_loss: 1.5465 - val_acc: 0.7076\n",
      "\n",
      "Epoch 00008: val_acc improved from 0.69872 to 0.70756, saving model to /Users/jsha/gjai/nlp/pytest/16_practice/train_data_분류1_morphed_model.h5\n",
      "Epoch 9/10\n",
      "4754/4754 [==============================] - 21s 4ms/step - loss: 0.0456 - acc: 0.9882 - val_loss: 2.1959 - val_acc: 0.6904\n",
      "\n",
      "Epoch 00009: val_acc did not improve from 0.70756\n",
      "Epoch 10/10\n",
      "4754/4754 [==============================] - 22s 5ms/step - loss: 0.0239 - acc: 0.9924 - val_loss: 2.3015 - val_acc: 0.6948\n",
      "\n",
      "Epoch 00010: val_acc did not improve from 0.70756\n"
     ]
    }
   ],
   "source": [
    "from keras.callbacks import ModelCheckpoint\n",
    "\n",
    "earlystop_callback = EarlyStopping(monitor='val_acc', patience=2)\n",
    "cp_callback = ModelCheckpoint(filepath=checkpoint_path+model_name,\n",
    "                             monitor='val_acc', verbose=1, \n",
    "                             save_best_only=True)\n",
    "history = model.fit(x_train, y_train, epochs=epochs,\n",
    "                   batch_size=batch_size, validation_split=0.3,\n",
    "                   callbacks=[earlystop_callback, cp_callback], verbose=1)\n",
    "history_dict = history.history"
   ]
  },
  {
   "cell_type": "code",
   "execution_count": 184,
   "id": "45e59aa1",
   "metadata": {},
   "outputs": [],
   "source": [
    "import pickle\n",
    "\n",
    "# model.save(model_name)\n",
    "\n",
    "with open(checkpoint_path+tokenizer_name, 'wb') as file:\n",
    "    pickle.dump(tokenizer, file, protocol=pickle.HIGHEST_PROTOCOL)\n",
    "    \n",
    "with open(checkpoint_path+labelencode_name, 'wb') as file:\n",
    "    pickle.dump(le, file, protocol=pickle.HIGHEST_PROTOCOL)\n",
    "    "
   ]
  },
  {
   "cell_type": "code",
   "execution_count": 185,
   "id": "e1a27c69",
   "metadata": {},
   "outputs": [
    {
     "name": "stdout",
     "output_type": "stream",
     "text": [
      "validation accuracy of each epoch: [0.522 0.578 0.6   0.658 0.682 0.68  0.699 0.708 0.69  0.695]\n"
     ]
    }
   ],
   "source": [
    "acc = history.history['acc']\n",
    "val_acc = history.history['val_acc']\n",
    "loss = history.history['loss']\n",
    "val_loss = history.history['val_loss']\n",
    "\n",
    "print('validation accuracy of each epoch:', np.round(val_acc,3))\n",
    "epochs = range(1, len(val_acc)+1)"
   ]
  },
  {
   "cell_type": "code",
   "execution_count": 186,
   "id": "f2feaec0",
   "metadata": {},
   "outputs": [
    {
     "data": {
      "image/png": "[encoded data removed]",
      "text/plain": [
       "<Figure size 432x288 with 1 Axes>"
      ]
     },
     "metadata": {
      "needs_background": "light"
     },
     "output_type": "display_data"
    }
   ],
   "source": [
    "import matplotlib.pyplot as plt\n",
    "\n",
    "plt.plot(epochs, acc, 'bo', label='Training Acc')\n",
    "plt.plot(epochs, val_acc, 'r', label='Validation Acc')\n",
    "plt.title('Training and Validation Accuracy')\n",
    "plt.legend(loc=4)\n",
    "plt.show()"
   ]
  },
  {
   "cell_type": "code",
   "execution_count": 187,
   "id": "24c863da",
   "metadata": {
    "scrolled": false
   },
   "outputs": [
    {
     "data": {
      "image/png": "[encoded data removed]",
      "text/plain": [
       "<Figure size 432x288 with 1 Axes>"
      ]
     },
     "metadata": {
      "needs_background": "light"
     },
     "output_type": "display_data"
    }
   ],
   "source": [
    "plt.plot(epochs, loss, 'bo', label='Training Loss')\n",
    "plt.plot(epochs, val_loss, 'r', label='Validation Loss')\n",
    "plt.title('Training and Validation loss')\n",
    "plt.legend(loc=1)\n",
    "plt.show()"
   ]
  },
  {
   "cell_type": "code",
   "execution_count": 188,
   "id": "92f366fd",
   "metadata": {},
   "outputs": [
    {
     "name": "stderr",
     "output_type": "stream",
     "text": [
      "/Users/jsha/opt/anaconda3/envs/nlp3710/lib/python3.7/site-packages/tensorflow_core/python/framework/indexed_slices.py:424: UserWarning: Converting sparse IndexedSlices to a dense Tensor of unknown shape. This may consume a large amount of memory.\n",
      "  \"Converting sparse IndexedSlices to a dense Tensor of unknown shape. \"\n"
     ]
    }
   ],
   "source": [
    "from keras.models import load_model\n",
    "\n",
    "loaded_model = load_model(checkpoint_path+model_name)\n",
    "\n",
    "with open(checkpoint_path+tokenizer_name, 'rb') as handle:\n",
    "    loaded_tokenizer = pickle.load(handle)"
   ]
  },
  {
   "cell_type": "code",
   "execution_count": 189,
   "id": "319196bd",
   "metadata": {},
   "outputs": [
    {
     "name": "stdout",
     "output_type": "stream",
     "text": [
      "2265/2265 [==============================] - 3s 1ms/step\n",
      "분류1 prediction\n",
      "prediction model loss & acc: [1.5043930590547474, 0.7081677913665771]\n"
     ]
    }
   ],
   "source": [
    "test_eval = loaded_model.evaluate(x_test, y_test)\n",
    "\n",
    "print('분류1 prediction')\n",
    "print('prediction model loss & acc:', test_eval)"
   ]
  },
  {
   "cell_type": "code",
   "execution_count": null,
   "id": "18510a30",
   "metadata": {},
   "outputs": [],
   "source": []
  },
  {
   "cell_type": "code",
   "execution_count": null,
   "id": "da2d4b95",
   "metadata": {},
   "outputs": [],
   "source": []
  },
  {
   "cell_type": "markdown",
   "id": "235672a9",
   "metadata": {},
   "source": [
    "# 분류2"
   ]
  },
  {
   "cell_type": "code",
   "execution_count": null,
   "id": "5b3016a1",
   "metadata": {},
   "outputs": [],
   "source": []
  },
  {
   "cell_type": "code",
   "execution_count": 219,
   "id": "7fac9dc2",
   "metadata": {},
   "outputs": [],
   "source": [
    "from matplotlib import rc\n",
    "rc('font', family='AppleGothic')\n",
    "\n",
    "filename1 = '분류2_뉴스데이터_morphed_train.csv'\n",
    "filename2 = '분류2_뉴스데이터_morphed_test.csv'\n",
    "\n",
    "# # 데이터 읽기와 쓰기를 위한 사용자 함수\n",
    "# def read_data(filename, encoding='cp949', start=1):\n",
    "#     with open(filename, 'r', encoding=encoding) as f:\n",
    "#         data = [line.split('\\t') for line in f.read().splitlines()]\n",
    "#         data = data[start:]\n",
    "#     return data\n",
    "\n",
    "# def write_data(data, filename, encoding='cp949'):\n",
    "#     with open(filename, 'w', encoding=encoding) as f:\n",
    "#         f.write(data)\n",
    "\n",
    "train_df = pd.read_csv(filename1)\n",
    "test_df = pd.read_csv(filename2)\n"
   ]
  },
  {
   "cell_type": "code",
   "execution_count": 221,
   "id": "4ee83e68",
   "metadata": {},
   "outputs": [
    {
     "name": "stdout",
     "output_type": "stream",
     "text": [
      "4730\n",
      "1593\n"
     ]
    },
    {
     "data": {
      "text/html": [
       "<div>\n",
       "<style scoped>\n",
       "    .dataframe tbody tr th:only-of-type {\n",
       "        vertical-align: middle;\n",
       "    }\n",
       "\n",
       "    .dataframe tbody tr th {\n",
       "        vertical-align: top;\n",
       "    }\n",
       "\n",
       "    .dataframe thead th {\n",
       "        text-align: right;\n",
       "    }\n",
       "</style>\n",
       "<table border=\"1\" class=\"dataframe\">\n",
       "  <thead>\n",
       "    <tr style=\"text-align: right;\">\n",
       "      <th></th>\n",
       "      <th>id</th>\n",
       "      <th>날짜</th>\n",
       "      <th>분류2</th>\n",
       "      <th>텍스트</th>\n",
       "      <th>분류2_상위</th>\n",
       "      <th>morphed</th>\n",
       "    </tr>\n",
       "  </thead>\n",
       "  <tbody>\n",
       "    <tr>\n",
       "      <th>0</th>\n",
       "      <td>1319794</td>\n",
       "      <td>20190412</td>\n",
       "      <td>문화,출판</td>\n",
       "      <td>이들은 성경이 난민에 대해 어떻게 말하고 있으며, 현 상황과 관련해 난민에 대한 정...</td>\n",
       "      <td>문화</td>\n",
       "      <td>성경 난민 대하 어떻하 말 있 현 상황과 관련 난민 대하 정확 하 팩트 밝히</td>\n",
       "    </tr>\n",
       "    <tr>\n",
       "      <th>1</th>\n",
       "      <td>1410943</td>\n",
       "      <td>20190503</td>\n",
       "      <td>사회,사회일반</td>\n",
       "      <td>충북 충주시는 3일 충주시청 중앙탑회의실에서 제47회 어버이날 유공자 시상식을 열고...</td>\n",
       "      <td>사회</td>\n",
       "      <td>충북 충주시 충주시 청 중앙 탑 회의실 어버이날 유공자 시상식 열 심영섭 효행 장한...</td>\n",
       "    </tr>\n",
       "    <tr>\n",
       "      <th>2</th>\n",
       "      <td>972814</td>\n",
       "      <td>20190122</td>\n",
       "      <td>스포츠,축구,한국프로축구</td>\n",
       "      <td>아시안게임이 U-23 대표팀 경기로 A 대표팀과는 객관적 지표에서 차이가 있지만, ...</td>\n",
       "      <td>스포츠</td>\n",
       "      <td>아시안게임 대표 팀 경기 대표 팀 객관적 지표 차이 있 그때 기억 황의 조의 자신감...</td>\n",
       "    </tr>\n",
       "    <tr>\n",
       "      <th>3</th>\n",
       "      <td>359452</td>\n",
       "      <td>20180828</td>\n",
       "      <td>IT_과학,과학</td>\n",
       "      <td>신기술전시회 280개 기업, 국제발명특허대전 160개 발명품, 국제컨퍼런스 40개 ...</td>\n",
       "      <td>IT_과학</td>\n",
       "      <td>신기술 전시회 기업 국제 발명 특허 대전 발명품 국제 컨퍼런스 세션 꾸미 명 관람객...</td>\n",
       "    </tr>\n",
       "    <tr>\n",
       "      <th>4</th>\n",
       "      <td>310019</td>\n",
       "      <td>20180816</td>\n",
       "      <td>스포츠,축구,해외축구</td>\n",
       "      <td>손흥민은 이미 지난 2018 러시아 월드컵 조벌예선 전 경기에 출전했을 뿐더러 토트...</td>\n",
       "      <td>스포츠</td>\n",
       "      <td>손 흥 민 이미 지나 러시아 월드컵 벌 예선 전 경기 출전 토트 넘 미국 프리 시즌...</td>\n",
       "    </tr>\n",
       "  </tbody>\n",
       "</table>\n",
       "</div>"
      ],
      "text/plain": [
       "        id        날짜            분류2  \\\n",
       "0  1319794  20190412          문화,출판   \n",
       "1  1410943  20190503        사회,사회일반   \n",
       "2   972814  20190122  스포츠,축구,한국프로축구   \n",
       "3   359452  20180828       IT_과학,과학   \n",
       "4   310019  20180816    스포츠,축구,해외축구   \n",
       "\n",
       "                                                 텍스트 분류2_상위  \\\n",
       "0  이들은 성경이 난민에 대해 어떻게 말하고 있으며, 현 상황과 관련해 난민에 대한 정...     문화   \n",
       "1  충북 충주시는 3일 충주시청 중앙탑회의실에서 제47회 어버이날 유공자 시상식을 열고...     사회   \n",
       "2  아시안게임이 U-23 대표팀 경기로 A 대표팀과는 객관적 지표에서 차이가 있지만, ...    스포츠   \n",
       "3  신기술전시회 280개 기업, 국제발명특허대전 160개 발명품, 국제컨퍼런스 40개 ...  IT_과학   \n",
       "4  손흥민은 이미 지난 2018 러시아 월드컵 조벌예선 전 경기에 출전했을 뿐더러 토트...    스포츠   \n",
       "\n",
       "                                             morphed  \n",
       "0         성경 난민 대하 어떻하 말 있 현 상황과 관련 난민 대하 정확 하 팩트 밝히  \n",
       "1  충북 충주시 충주시 청 중앙 탑 회의실 어버이날 유공자 시상식 열 심영섭 효행 장한...  \n",
       "2  아시안게임 대표 팀 경기 대표 팀 객관적 지표 차이 있 그때 기억 황의 조의 자신감...  \n",
       "3  신기술 전시회 기업 국제 발명 특허 대전 발명품 국제 컨퍼런스 세션 꾸미 명 관람객...  \n",
       "4  손 흥 민 이미 지나 러시아 월드컵 벌 예선 전 경기 출전 토트 넘 미국 프리 시즌...  "
      ]
     },
     "execution_count": 221,
     "metadata": {},
     "output_type": "execute_result"
    }
   ],
   "source": [
    "# train_df.head()\n",
    "# train_df['morphed'] = morphed_data\n",
    "print(len(train_df))\n",
    "print(len(test_df))\n",
    "train_df.head()"
   ]
  },
  {
   "cell_type": "code",
   "execution_count": 222,
   "id": "c0ebf96f",
   "metadata": {},
   "outputs": [
    {
     "data": {
      "text/html": [
       "<div>\n",
       "<style scoped>\n",
       "    .dataframe tbody tr th:only-of-type {\n",
       "        vertical-align: middle;\n",
       "    }\n",
       "\n",
       "    .dataframe tbody tr th {\n",
       "        vertical-align: top;\n",
       "    }\n",
       "\n",
       "    .dataframe thead th {\n",
       "        text-align: right;\n",
       "    }\n",
       "</style>\n",
       "<table border=\"1\" class=\"dataframe\">\n",
       "  <thead>\n",
       "    <tr style=\"text-align: right;\">\n",
       "      <th></th>\n",
       "      <th>id</th>\n",
       "      <th>날짜</th>\n",
       "      <th>분류2</th>\n",
       "      <th>텍스트</th>\n",
       "      <th>분류2_상위</th>\n",
       "      <th>morphed</th>\n",
       "    </tr>\n",
       "  </thead>\n",
       "  <tbody>\n",
       "    <tr>\n",
       "      <th>0</th>\n",
       "      <td>268980</td>\n",
       "      <td>20180806</td>\n",
       "      <td>경제,국제경제</td>\n",
       "      <td>이런 가격 조작 행위는 지난해 말 ‘코인 열풍’이 불 때부터 폭발적으로 늘어났다는 ...</td>\n",
       "      <td>경제</td>\n",
       "      <td>이런 가격 조작 행위 지난해 말 코인 열풍 불 때 폭발적 늘어나 설명</td>\n",
       "    </tr>\n",
       "    <tr>\n",
       "      <th>1</th>\n",
       "      <td>260551</td>\n",
       "      <td>20180803</td>\n",
       "      <td>국제,미국_북미</td>\n",
       "      <td>한 정보 소식통에 따르면 이 여성은 지난해 중순쯤 국무부로부터 비밀정보 사용 인가를...</td>\n",
       "      <td>국제</td>\n",
       "      <td>하 정보 소식통 따르 이 여성 지난해 중순쯤 국무부 비밀 정보 사용 인가 취소 당하...</td>\n",
       "    </tr>\n",
       "    <tr>\n",
       "      <th>2</th>\n",
       "      <td>390392</td>\n",
       "      <td>20180903</td>\n",
       "      <td>국제,중국</td>\n",
       "      <td>시진핑(習近平) 중국 국가주석은 오는 11월 파푸아뉴기니에서 열리는 아시아·태평양경...</td>\n",
       "      <td>국제</td>\n",
       "      <td>시진 핑 중국 국가주석 오 파푸아뉴기니 열리 아시아 태평양 경제 협력체 정상 회의 ...</td>\n",
       "    </tr>\n",
       "    <tr>\n",
       "      <th>3</th>\n",
       "      <td>215899</td>\n",
       "      <td>20180723</td>\n",
       "      <td>경제,산업_기업</td>\n",
       "      <td>이번 세이프가드는 최근 3년간 평균 수입물량으로 쿼터를 산정 후 쿼터 초과 수입물량...</td>\n",
       "      <td>경제</td>\n",
       "      <td>이번 세이프가드 최근 평균 수입 물량 쿼터 산정 후 쿼터 초과 수입 물량 대하 관세...</td>\n",
       "    </tr>\n",
       "    <tr>\n",
       "      <th>4</th>\n",
       "      <td>380078</td>\n",
       "      <td>20180902</td>\n",
       "      <td>스포츠,축구,해외축구</td>\n",
       "      <td>손흥민과 이승우, 황의조와 황희찬 등 해외에서 활약하는 선수들은 더 이상 병역 문제...</td>\n",
       "      <td>스포츠</td>\n",
       "      <td>손 흥 민 이승우 황의 황희찬 해외 활약 선수 더 이상 병역 문제 발목 잡히 국내 ...</td>\n",
       "    </tr>\n",
       "  </tbody>\n",
       "</table>\n",
       "</div>"
      ],
      "text/plain": [
       "       id        날짜          분류2  \\\n",
       "0  268980  20180806      경제,국제경제   \n",
       "1  260551  20180803     국제,미국_북미   \n",
       "2  390392  20180903        국제,중국   \n",
       "3  215899  20180723     경제,산업_기업   \n",
       "4  380078  20180902  스포츠,축구,해외축구   \n",
       "\n",
       "                                                 텍스트 분류2_상위  \\\n",
       "0  이런 가격 조작 행위는 지난해 말 ‘코인 열풍’이 불 때부터 폭발적으로 늘어났다는 ...     경제   \n",
       "1  한 정보 소식통에 따르면 이 여성은 지난해 중순쯤 국무부로부터 비밀정보 사용 인가를...     국제   \n",
       "2  시진핑(習近平) 중국 국가주석은 오는 11월 파푸아뉴기니에서 열리는 아시아·태평양경...     국제   \n",
       "3  이번 세이프가드는 최근 3년간 평균 수입물량으로 쿼터를 산정 후 쿼터 초과 수입물량...     경제   \n",
       "4  손흥민과 이승우, 황의조와 황희찬 등 해외에서 활약하는 선수들은 더 이상 병역 문제...    스포츠   \n",
       "\n",
       "                                             morphed  \n",
       "0             이런 가격 조작 행위 지난해 말 코인 열풍 불 때 폭발적 늘어나 설명  \n",
       "1  하 정보 소식통 따르 이 여성 지난해 중순쯤 국무부 비밀 정보 사용 인가 취소 당하...  \n",
       "2  시진 핑 중국 국가주석 오 파푸아뉴기니 열리 아시아 태평양 경제 협력체 정상 회의 ...  \n",
       "3  이번 세이프가드 최근 평균 수입 물량 쿼터 산정 후 쿼터 초과 수입 물량 대하 관세...  \n",
       "4  손 흥 민 이승우 황의 황희찬 해외 활약 선수 더 이상 병역 문제 발목 잡히 국내 ...  "
      ]
     },
     "execution_count": 222,
     "metadata": {},
     "output_type": "execute_result"
    }
   ],
   "source": [
    "test_df.head()"
   ]
  },
  {
   "cell_type": "code",
   "execution_count": 224,
   "id": "4daa105b",
   "metadata": {},
   "outputs": [
    {
     "name": "stdout",
     "output_type": "stream",
     "text": [
      "6792\n",
      "4730\n",
      "['문화', '사회', '스포츠']\n",
      "['성경 난민 대하 어떻하 말 있 현 상황과 관련 난민 대하 정확 하 팩트 밝히', '충북 충주시 충주시 청 중앙 탑 회의실 어버이날 유공자 시상식 열 심영섭 효행 장한 어버이 표창장 수여', '아시안게임 대표 팀 경기 대표 팀 객관적 지표 차이 있 그때 기억 황의 조의 자신감 불태우 충분']\n",
      "--------------------------------------------------\n",
      "2265\n",
      "1593\n",
      "['경제', '국제', '국제']\n",
      "['이런 가격 조작 행위 지난해 말 코인 열풍 불 때 폭발적 늘어나 설명', '하 정보 소식통 따르 이 여성 지난해 중순쯤 국무부 비밀 정보 사용 인가 취소 당하 직후 해고 되', '시진 핑 중국 국가주석 오 파푸아뉴기니 열리 아시아 태평양 경제 협력체 정상 회의 전후 태평 도서 국 정상 회담 알리']\n"
     ]
    }
   ],
   "source": [
    "from sklearn.model_selection import train_test_split\n",
    "\n",
    "print(len(morphed_data))\n",
    "print(len(train_df))\n",
    "data_text = train_df.loc[:,'morphed'].to_list()\n",
    "data_label = train_df.loc[:,'분류2_상위'].to_list()\n",
    "print(data_label[:3])\n",
    "print(data_text[:3])\n",
    "\n",
    "print('-'*50)\n",
    "\n",
    "print(len(morphed_data_test))\n",
    "print(len(test_df))\n",
    "data_text_test = test_df.loc[:,'morphed'].to_list()\n",
    "data_label_test = test_df.loc[:,'분류2_상위'].to_list()\n",
    "print(data_label_test[:3])\n",
    "print(data_text_test[:3])\n",
    "\n",
    "train_data_text = data_text\n",
    "train_data_label = data_label\n",
    "test_data_text = data_text_test\n",
    "test_data_label = data_label_test\n",
    "# train_data_text, test_data_text, train_data_label, test_data_label = \\\n",
    "# train_test_split(data_text, data_label, stratify=data_label, \n",
    "#                  test_size=0.3, random_state=1111)"
   ]
  },
  {
   "cell_type": "code",
   "execution_count": 225,
   "id": "cd810853",
   "metadata": {},
   "outputs": [
    {
     "name": "stdout",
     "output_type": "stream",
     "text": [
      "4730\n",
      "1593\n"
     ]
    }
   ],
   "source": [
    "print(len(train_data_text))\n",
    "print(len(test_data_text))"
   ]
  },
  {
   "cell_type": "code",
   "execution_count": 226,
   "id": "b6e3ff5c",
   "metadata": {},
   "outputs": [
    {
     "name": "stdout",
     "output_type": "stream",
     "text": [
      "train_data_label_freq: Counter({'지역': 1047, '경제': 936, '스포츠': 910, '사회': 473, '국제': 466, '문화': 463, 'IT_과학': 288, '정치': 147})\n",
      "test_data_label_freq: Counter({'지역': 349, '경제': 329, '스포츠': 303, '사회': 163, '국제': 142, 'IT_과학': 126, '문화': 125, '정치': 56})\n"
     ]
    }
   ],
   "source": [
    "from collections import Counter\n",
    "train_data_label_freq = Counter(train_data_label)\n",
    "print('train_data_label_freq:', train_data_label_freq)\n",
    "\n",
    "test_data_label_freq = Counter(test_data_label)\n",
    "print('test_data_label_freq:', test_data_label_freq)\n"
   ]
  },
  {
   "cell_type": "code",
   "execution_count": 227,
   "id": "ca168372",
   "metadata": {},
   "outputs": [],
   "source": [
    "# test_data_text = test_data_text[:3000]\n",
    "# test_data_label = test_data_label[:3000]"
   ]
  },
  {
   "cell_type": "code",
   "execution_count": 228,
   "id": "004e1e91",
   "metadata": {},
   "outputs": [
    {
     "name": "stdout",
     "output_type": "stream",
     "text": [
      "최소길이: 4\n",
      "최대길이: 54\n",
      "평균길이: 19.5\n",
      "중위수길이: 19.0\n",
      "percentile  : [0, 25, 50, 75, 90, 99, 100]\n",
      "구간별 최대 길이: [ 4. 16. 19. 22. 27. 35. 54.]\n",
      "최소길이 문장: 투입 예산 내년 총\n",
      "최대길이 문장: 주요 신규 사업 삼사해상공원 해 파랑 공원 파도 걷기 보행 조성 새 뜰 사업 축산 블루 시티 조성 사업 예 주 고을 역사 문화 공원 조성 사업 오십천 그린 로드 조성 영덕 도서관 건립 사업 영덕 애니메이션 테마파크 조성 사업 영덕 하 양교 션 강구면 화전 우수 저류 시설 설치 아름답 소하천 꾸 사업\n"
     ]
    }
   ],
   "source": [
    "import numpy as np\n",
    "\n",
    "text_len = [len(line.split(' ')) for line in train_data_text]\n",
    "print('최소길이:', np.min(text_len))\n",
    "print('최대길이:', np.max(text_len))\n",
    "print('평균길이:', np.round(np.mean(text_len),1))\n",
    "print('중위수길이:', np.median(text_len))\n",
    "print('percentile  : [0, 25, 50, 75, 90, 99, 100]')\n",
    "print('구간별 최대 길이:', np.percentile(text_len, [0, 25, 50, 75, 90, 99, 100]))\n",
    "print('최소길이 문장:', train_data_text[np.argmin(text_len)])\n",
    "print('최대길이 문장:', train_data_text[np.argmax(text_len)])"
   ]
  },
  {
   "cell_type": "code",
   "execution_count": 229,
   "id": "a4ab7186",
   "metadata": {},
   "outputs": [],
   "source": [
    "from keras.preprocessing.text import Tokenizer\n",
    "from keras.preprocessing.sequence import pad_sequences\n",
    "import numpy as np\n",
    "import math \n",
    "\n",
    "max_words = 10000\n",
    "maxlen = 40\n",
    "\n",
    "tokenizer = Tokenizer(num_words=max_words)\n",
    "tokenizer.fit_on_texts(train_data_text)\n",
    "word_index = tokenizer.word_index"
   ]
  },
  {
   "cell_type": "code",
   "execution_count": 230,
   "id": "27337315",
   "metadata": {},
   "outputs": [
    {
     "name": "stdout",
     "output_type": "stream",
     "text": [
      "wjscpdptj 15300개의 고유한 토큰을 찾았습니다\n",
      "word_index type: <class 'dict'>\n"
     ]
    }
   ],
   "source": [
    "print('wjscpdptj %s개의 고유한 토큰을 찾았습니다' % len(word_index))\n",
    "print('word_index type:', type(word_index))\n",
    "# print('word_index:', word_index)"
   ]
  },
  {
   "cell_type": "code",
   "execution_count": 231,
   "id": "df6ec5d4",
   "metadata": {},
   "outputs": [
    {
     "name": "stdout",
     "output_type": "stream",
     "text": [
      "최대 문장 길이: 179\n",
      "최소 문장 길이: 48\n"
     ]
    }
   ],
   "source": [
    "seq_data = tokenizer.texts_to_sequences(train_data_text)\n",
    "# print('data', data)\n",
    "\n",
    "len_d = [len(d) for d in data]\n",
    "# print('길이:', len_d)\n",
    "print('최대 문장 길이:', max(len_d))\n",
    "print('최소 문장 길이:', min(len_d))"
   ]
  },
  {
   "cell_type": "code",
   "execution_count": 232,
   "id": "63e6632f",
   "metadata": {},
   "outputs": [
    {
     "name": "stdout",
     "output_type": "stream",
     "text": [
      "data: [[   0    0    0 ...    1 8205   15]\n",
      " [   0    0    0 ... 5730 8208 2302]\n",
      " [   0    0    0 ... 3627 4436 1497]\n",
      " ...\n",
      " [   0    0    0 ... 7559 4594   15]\n",
      " [   0    0    0 ... 1403 1385    9]\n",
      " [   0    0    0 ... 8034 2811  446]]\n",
      "data 0: [   0    0    0    0    0    0    0    0    0    0    0    0    0    0\n",
      "    0    0    0    0    0    0    0    0    0    0    0 1642  747   10\n",
      " 2622  208    3  885 4435   87  747   10 1270    1 8205   15]\n",
      "data 0의 길이: 40\n"
     ]
    }
   ],
   "source": [
    "pad_data = pad_sequences(seq_data, maxlen=maxlen)\n",
    "\n",
    "print('data:', pad_data)\n",
    "print('data 0:', pad_data[0])\n",
    "print('data 0의 길이:', len(pad_data[0]))"
   ]
  },
  {
   "cell_type": "code",
   "execution_count": 233,
   "id": "38984e2a",
   "metadata": {},
   "outputs": [
    {
     "name": "stdout",
     "output_type": "stream",
     "text": [
      "train_data_text type: <class 'list'>\n",
      "data type: <class 'numpy.ndarray'>\n",
      "train_data_text 0: 성경 난민 대하 어떻하 말 있 현 상황과 관련 난민 대하 정확 하 팩트 밝히\n",
      "data 0: [   0    0    0    0    0    0    0    0    0    0    0    0    0    0\n",
      "    0    0    0    0    0    0    0    0    0    0    0 1642  747   10\n",
      " 2622  208    3  885 4435   87  747   10 1270    1 8205   15]\n"
     ]
    }
   ],
   "source": [
    "print('train_data_text type:', type(train_data_text))\n",
    "print('data type:', type(pad_data))\n",
    "print('train_data_text 0:', train_data_text[0])\n",
    "print('data 0:', pad_data[0])"
   ]
  },
  {
   "cell_type": "code",
   "execution_count": 234,
   "id": "632cd1e7",
   "metadata": {},
   "outputs": [],
   "source": [
    "def to_one_hot(sequences, dimension):\n",
    "    results = np.zeros((len(sequences), dimension))\n",
    "    for i, sequence in enumerate(sequences):\n",
    "        results[i, sequence] = 1.\n",
    "    return results\n",
    "\n",
    "# x_train = to_one_hot(pad_data, dimension=max_words)\n",
    "x_train = pad_data"
   ]
  },
  {
   "cell_type": "code",
   "execution_count": 235,
   "id": "265afca9",
   "metadata": {},
   "outputs": [],
   "source": [
    "# print('train_data_text type:', type(train_data_text))\n",
    "# print(len(train_data_text[0]))\n",
    "# print('texts 0:', train_data_text[0])\n",
    "\n",
    "# print('data type:', type(x_train))\n",
    "# print(len(x_train[0]))\n",
    "# print('x_train [0][0:100]:', x_train[0][:100])"
   ]
  },
  {
   "cell_type": "code",
   "execution_count": 236,
   "id": "cb6b0c0f",
   "metadata": {},
   "outputs": [
    {
     "name": "stdout",
     "output_type": "stream",
     "text": [
      "['IT_과학' '경제' '국제' '문화' '사회' '스포츠' '정치' '지역']\n"
     ]
    }
   ],
   "source": [
    "from sklearn.preprocessing import LabelEncoder\n",
    "le = LabelEncoder()\n",
    "le.fit(train_data_label)\n",
    "print(le.classes_)\n",
    "train_data_label = le.transform(train_data_label)"
   ]
  },
  {
   "cell_type": "code",
   "execution_count": 237,
   "id": "df5d5f93",
   "metadata": {},
   "outputs": [],
   "source": [
    "test_data_label = le.transform(test_data_label)"
   ]
  },
  {
   "cell_type": "code",
   "execution_count": 238,
   "id": "27f392a3",
   "metadata": {},
   "outputs": [
    {
     "name": "stdout",
     "output_type": "stream",
     "text": [
      "[[0. 0. 0. ... 0. 0. 0.]\n",
      " [0. 0. 0. ... 0. 0. 0.]\n",
      " [0. 0. 0. ... 1. 0. 0.]\n",
      " ...\n",
      " [0. 0. 0. ... 1. 0. 0.]\n",
      " [0. 1. 0. ... 0. 0. 0.]\n",
      " [0. 0. 0. ... 0. 0. 0.]]\n"
     ]
    }
   ],
   "source": [
    "class_number = len(le.classes_)\n",
    "y_train = to_one_hot(train_data_label, dimension=class_number)\n",
    "print(y_train)"
   ]
  },
  {
   "cell_type": "code",
   "execution_count": 239,
   "id": "c98af176",
   "metadata": {},
   "outputs": [
    {
     "name": "stdout",
     "output_type": "stream",
     "text": [
      "[[0. 1. 0. ... 0. 0. 0.]\n",
      " [0. 0. 1. ... 0. 0. 0.]\n",
      " [0. 0. 1. ... 0. 0. 0.]\n",
      " ...\n",
      " [0. 0. 1. ... 0. 0. 0.]\n",
      " [0. 0. 0. ... 0. 0. 1.]\n",
      " [0. 0. 1. ... 0. 0. 0.]]\n"
     ]
    }
   ],
   "source": [
    "data_test = tokenizer.texts_to_sequences(test_data_text)\n",
    "\n",
    "data_test = pad_sequences(data_test, maxlen=maxlen)\n",
    "\n",
    "x_test = data_test\n",
    "\n",
    "y_test = to_one_hot(test_data_label, dimension=class_number)\n",
    "print(y_test)"
   ]
  },
  {
   "cell_type": "code",
   "execution_count": 240,
   "id": "af7075b8",
   "metadata": {},
   "outputs": [
    {
     "name": "stdout",
     "output_type": "stream",
     "text": [
      "훈련 데이터 본문 텐서의 크기: (4730, 40)\n",
      "훈련 데이터 레이블 텐서의 크기: (4730, 8)\n",
      "테스트 데이터 본문 텐서의 크기: (1593, 40)\n",
      "테스트 데이터 레이블 텐서의 크기: (1593, 8)\n"
     ]
    }
   ],
   "source": [
    "print('훈련 데이터 본문 텐서의 크기:', x_train.shape)\n",
    "print('훈련 데이터 레이블 텐서의 크기:', y_train.shape)\n",
    "\n",
    "print('테스트 데이터 본문 텐서의 크기:', x_test.shape)\n",
    "print('테스트 데이터 레이블 텐서의 크기:', y_test.shape)"
   ]
  },
  {
   "cell_type": "code",
   "execution_count": 241,
   "id": "0cc3c489",
   "metadata": {},
   "outputs": [
    {
     "data": {
      "text/plain": [
       "(4730, 8)"
      ]
     },
     "execution_count": 241,
     "metadata": {},
     "output_type": "execute_result"
    }
   ],
   "source": [
    "y_train.shape"
   ]
  },
  {
   "cell_type": "code",
   "execution_count": 242,
   "id": "0f0cda8a",
   "metadata": {},
   "outputs": [
    {
     "name": "stdout",
     "output_type": "stream",
     "text": [
      "/Users/jsha/gjai/nlp/pytest/16_practice\r\n"
     ]
    }
   ],
   "source": [
    "!pwd"
   ]
  },
  {
   "cell_type": "code",
   "execution_count": 244,
   "id": "a7a5221a",
   "metadata": {},
   "outputs": [],
   "source": [
    "import os\n",
    "\n",
    "class_number = y_train.shape[-1]\n",
    "epochs = 10\n",
    "batch_size = 50\n",
    "embedding_dim = 200\n",
    "model_name = 'train_data_분류2_morphed_model.h5'\n",
    "tokenizer_name = 'train_data_분류2_morphed_token.pickle'\n",
    "labelencode_name = 'train_data_분류2_morphed_le.pickle'\n",
    "\n",
    "# working_path = '/Users/jsha/gjai/nlp/pytest/15_working/'\n",
    "# save_path = working_path + 'practice/'\n",
    "# if not os.path.exists(save_path):\n",
    "#     os.mkdir(save_path)\n",
    "#     print(f'made {save_path} directory')\n",
    "# os.chdir(save_path)"
   ]
  },
  {
   "cell_type": "code",
   "execution_count": 245,
   "id": "09ee9fc5",
   "metadata": {},
   "outputs": [
    {
     "name": "stdout",
     "output_type": "stream",
     "text": [
      "Model: \"sequential_6\"\n",
      "_________________________________________________________________\n",
      "Layer (type)                 Output Shape              Param #   \n",
      "=================================================================\n",
      "embedding_6 (Embedding)      (None, 40, 200)           2000000   \n",
      "_________________________________________________________________\n",
      "lstm_5 (LSTM)                (None, 128)               168448    \n",
      "_________________________________________________________________\n",
      "dense_15 (Dense)             (None, 64)                8256      \n",
      "_________________________________________________________________\n",
      "dense_16 (Dense)             (None, 32)                2080      \n",
      "_________________________________________________________________\n",
      "dense_17 (Dense)             (None, 8)                 264       \n",
      "=================================================================\n",
      "Total params: 2,179,048\n",
      "Trainable params: 2,179,048\n",
      "Non-trainable params: 0\n",
      "_________________________________________________________________\n"
     ]
    }
   ],
   "source": [
    "from keras.models import Sequential\n",
    "from keras.layers import Dense\n",
    "from keras import layers\n",
    "\n",
    "model = Sequential()\n",
    "\n",
    "model.add(layers.Embedding(input_dim=max_words, output_dim=embedding_dim, \n",
    "                          input_length=maxlen))\n",
    "\n",
    "model.add(layers.LSTM(128))\n",
    "\n",
    "model.add(Dense(64, activation='relu', input_shape=(max_words,)))\n",
    "model.add(Dense(units=32, activation='relu'))\n",
    "model.add(Dense(units=class_number, activation='softmax'))\n",
    "\n",
    "model.summary()"
   ]
  },
  {
   "cell_type": "code",
   "execution_count": 246,
   "id": "69ebda91",
   "metadata": {},
   "outputs": [
    {
     "name": "stdout",
     "output_type": "stream",
     "text": [
      "/Users/jsha/gjai/nlp/pytest/16_practice/ --- Folder already exists\n",
      "\n"
     ]
    }
   ],
   "source": [
    "from keras.callbacks import EarlyStopping\n",
    "import os\n",
    "\n",
    "checkpoint_path = working_path\n",
    "# checkpoint_dir = os.path.dirname(checkpoint_path)\n",
    "if os.path.exists(checkpoint_path):\n",
    "    print('{} --- Folder already exists\\n'.format(checkpoint_path))\n",
    "else:\n",
    "    os.makedirs(checkpoint_path, exist_ok=True)\n",
    "    print('{} --- Folder created\\n'.format(checkpoint_path))"
   ]
  },
  {
   "cell_type": "code",
   "execution_count": 247,
   "id": "cda2c023",
   "metadata": {},
   "outputs": [],
   "source": [
    "model.compile(optimizer='rmsprop', loss='categorical_crossentropy',\n",
    "             metrics=['acc'])"
   ]
  },
  {
   "cell_type": "code",
   "execution_count": 248,
   "id": "03741059",
   "metadata": {},
   "outputs": [
    {
     "name": "stderr",
     "output_type": "stream",
     "text": [
      "/Users/jsha/opt/anaconda3/envs/nlp3710/lib/python3.7/site-packages/tensorflow_core/python/framework/indexed_slices.py:424: UserWarning: Converting sparse IndexedSlices to a dense Tensor of unknown shape. This may consume a large amount of memory.\n",
      "  \"Converting sparse IndexedSlices to a dense Tensor of unknown shape. \"\n"
     ]
    },
    {
     "name": "stdout",
     "output_type": "stream",
     "text": [
      "Train on 3311 samples, validate on 1419 samples\n",
      "Epoch 1/10\n",
      "3311/3311 [==============================] - 15s 5ms/step - loss: 1.9221 - acc: 0.2673 - val_loss: 1.6894 - val_acc: 0.3996\n",
      "\n",
      "Epoch 00001: val_acc improved from -inf to 0.39958, saving model to /Users/jsha/gjai/nlp/pytest/16_practice/train_data_분류2_morphed_model.h5\n",
      "Epoch 2/10\n",
      "3311/3311 [==============================] - 15s 4ms/step - loss: 1.3871 - acc: 0.4941 - val_loss: 1.4483 - val_acc: 0.5067\n",
      "\n",
      "Epoch 00002: val_acc improved from 0.39958 to 0.50669, saving model to /Users/jsha/gjai/nlp/pytest/16_practice/train_data_분류2_morphed_model.h5\n",
      "Epoch 3/10\n",
      "3311/3311 [==============================] - 16s 5ms/step - loss: 0.9993 - acc: 0.6566 - val_loss: 1.4134 - val_acc: 0.5215\n",
      "\n",
      "Epoch 00003: val_acc improved from 0.50669 to 0.52149, saving model to /Users/jsha/gjai/nlp/pytest/16_practice/train_data_분류2_morphed_model.h5\n",
      "Epoch 4/10\n",
      "3311/3311 [==============================] - 16s 5ms/step - loss: 0.7059 - acc: 0.7593 - val_loss: 1.5684 - val_acc: 0.5011\n",
      "\n",
      "Epoch 00004: val_acc did not improve from 0.52149\n",
      "Epoch 5/10\n",
      "3311/3311 [==============================] - 17s 5ms/step - loss: 0.5233 - acc: 0.8185 - val_loss: 1.7160 - val_acc: 0.5271\n",
      "\n",
      "Epoch 00005: val_acc improved from 0.52149 to 0.52713, saving model to /Users/jsha/gjai/nlp/pytest/16_practice/train_data_분류2_morphed_model.h5\n",
      "Epoch 6/10\n",
      "3311/3311 [==============================] - 17s 5ms/step - loss: 0.3921 - acc: 0.8701 - val_loss: 1.8333 - val_acc: 0.5328\n",
      "\n",
      "Epoch 00006: val_acc improved from 0.52713 to 0.53277, saving model to /Users/jsha/gjai/nlp/pytest/16_practice/train_data_분류2_morphed_model.h5\n",
      "Epoch 7/10\n",
      "3311/3311 [==============================] - 16s 5ms/step - loss: 0.2741 - acc: 0.9121 - val_loss: 2.0880 - val_acc: 0.5243\n",
      "\n",
      "Epoch 00007: val_acc did not improve from 0.53277\n",
      "Epoch 8/10\n",
      "3311/3311 [==============================] - 17s 5ms/step - loss: 0.1739 - acc: 0.9441 - val_loss: 2.4209 - val_acc: 0.5180\n",
      "\n",
      "Epoch 00008: val_acc did not improve from 0.53277\n"
     ]
    }
   ],
   "source": [
    "from keras.callbacks import ModelCheckpoint\n",
    "\n",
    "earlystop_callback = EarlyStopping(monitor='val_acc', patience=2)\n",
    "cp_callback = ModelCheckpoint(filepath=checkpoint_path+model_name,\n",
    "                             monitor='val_acc', verbose=1, \n",
    "                             save_best_only=True)\n",
    "history = model.fit(x_train, y_train, epochs=epochs,\n",
    "                   batch_size=batch_size, validation_split=0.3,\n",
    "                   callbacks=[earlystop_callback, cp_callback], verbose=1)\n",
    "history_dict = history.history"
   ]
  },
  {
   "cell_type": "code",
   "execution_count": 249,
   "id": "0392598f",
   "metadata": {},
   "outputs": [],
   "source": [
    "import pickle\n",
    "\n",
    "# model.save(model_name)\n",
    "\n",
    "with open(checkpoint_path+tokenizer_name, 'wb') as file:\n",
    "    pickle.dump(tokenizer, file, protocol=pickle.HIGHEST_PROTOCOL)\n",
    "    \n",
    "with open(checkpoint_path+labelencode_name, 'wb') as file:\n",
    "    pickle.dump(le, file, protocol=pickle.HIGHEST_PROTOCOL)\n",
    "    "
   ]
  },
  {
   "cell_type": "code",
   "execution_count": 250,
   "id": "e69047c8",
   "metadata": {},
   "outputs": [
    {
     "name": "stdout",
     "output_type": "stream",
     "text": [
      "validation accuracy of each epoch: [0.4   0.507 0.521 0.501 0.527 0.533 0.524 0.518]\n"
     ]
    }
   ],
   "source": [
    "acc = history.history['acc']\n",
    "val_acc = history.history['val_acc']\n",
    "loss = history.history['loss']\n",
    "val_loss = history.history['val_loss']\n",
    "\n",
    "print('validation accuracy of each epoch:', np.round(val_acc,3))\n",
    "epochs = range(1, len(val_acc)+1)"
   ]
  },
  {
   "cell_type": "code",
   "execution_count": 251,
   "id": "48ea1136",
   "metadata": {},
   "outputs": [
    {
     "data": {
      "image/png": "[encoded data removed]",
      "text/plain": [
       "<Figure size 432x288 with 1 Axes>"
      ]
     },
     "metadata": {
      "needs_background": "light"
     },
     "output_type": "display_data"
    }
   ],
   "source": [
    "import matplotlib.pyplot as plt\n",
    "\n",
    "plt.plot(epochs, acc, 'bo', label='Training Acc')\n",
    "plt.plot(epochs, val_acc, 'r', label='Validation Acc')\n",
    "plt.title('Training and Validation Accuracy')\n",
    "plt.legend(loc=4)\n",
    "plt.show()"
   ]
  },
  {
   "cell_type": "code",
   "execution_count": 252,
   "id": "c0bb90e5",
   "metadata": {
    "scrolled": false
   },
   "outputs": [
    {
     "data": {
      "image/png": "[encoded data removed]",
      "text/plain": [
       "<Figure size 432x288 with 1 Axes>"
      ]
     },
     "metadata": {
      "needs_background": "light"
     },
     "output_type": "display_data"
    }
   ],
   "source": [
    "plt.plot(epochs, loss, 'bo', label='Training Loss')\n",
    "plt.plot(epochs, val_loss, 'r', label='Validation Loss')\n",
    "plt.title('Training and Validation loss')\n",
    "plt.legend(loc=1)\n",
    "plt.show()"
   ]
  },
  {
   "cell_type": "code",
   "execution_count": 253,
   "id": "5f62f00b",
   "metadata": {},
   "outputs": [
    {
     "name": "stderr",
     "output_type": "stream",
     "text": [
      "/Users/jsha/opt/anaconda3/envs/nlp3710/lib/python3.7/site-packages/tensorflow_core/python/framework/indexed_slices.py:424: UserWarning: Converting sparse IndexedSlices to a dense Tensor of unknown shape. This may consume a large amount of memory.\n",
      "  \"Converting sparse IndexedSlices to a dense Tensor of unknown shape. \"\n"
     ]
    }
   ],
   "source": [
    "from keras.models import load_model\n",
    "\n",
    "loaded_model = load_model(checkpoint_path+model_name)\n",
    "\n",
    "with open(checkpoint_path+tokenizer_name, 'rb') as handle:\n",
    "    loaded_tokenizer = pickle.load(handle)"
   ]
  },
  {
   "cell_type": "code",
   "execution_count": 254,
   "id": "858fbd9d",
   "metadata": {},
   "outputs": [
    {
     "name": "stdout",
     "output_type": "stream",
     "text": [
      "1593/1593 [==============================] - 2s 2ms/step\n",
      "분류1 prediction\n",
      "prediction model loss & acc: [1.871986893386266, 0.5260514616966248]\n"
     ]
    }
   ],
   "source": [
    "test_eval = loaded_model.evaluate(x_test, y_test)\n",
    "\n",
    "print('분류1 prediction')\n",
    "print('prediction model loss & acc:', test_eval)"
   ]
  },
  {
   "cell_type": "code",
   "execution_count": null,
   "id": "8d843a57",
   "metadata": {},
   "outputs": [],
   "source": []
  }
 ],
 "metadata": {
  "kernelspec": {
   "display_name": "nlp3710",
   "language": "python",
   "name": "nlp3710"
  },
  "language_info": {
   "codemirror_mode": {
    "name": "ipython",
    "version": 3
   },
   "file_extension": ".py",
   "mimetype": "text/x-python",
   "name": "python",
   "nbconvert_exporter": "python",
   "pygments_lexer": "ipython3",
   "version": "3.7.10"
  },
  "toc": {
   "base_numbering": 1,
   "nav_menu": {},
   "number_sections": true,
   "sideBar": true,
   "skip_h1_title": false,
   "title_cell": "Table of Contents",
   "title_sidebar": "Contents",
   "toc_cell": false,
   "toc_position": {},
   "toc_section_display": true,
   "toc_window_display": false
  }
 },
 "nbformat": 4,
 "nbformat_minor": 5
}
