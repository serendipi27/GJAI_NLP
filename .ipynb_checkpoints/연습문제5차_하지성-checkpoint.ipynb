{
 "cells": [
  {
   "cell_type": "markdown",
   "id": "4067af2b",
   "metadata": {},
   "source": [
    "# 연습문제1. 다음은 오차역전파 개념을 사과 구매 비용으로 비유하여 설명하는 그림이다. 이것이 딥러닝의 학습 과정이라면, 다음 중 무엇이 줄어들도록 해야 하는가?\n",
    "\n",
    "- 2.2, 1.1, 1\n",
    "- 이 값들은 최종 결과인 사과 구매 비용에 영향을 미치는 가중치들의 미분값으로서(딥러닝에서는 가중치에 대한 오차의 미분값) 이 값들이 0에 가깝게 줄어들도록 가중치들을 업데이트 해야 함. 가중치들이 각 층마다 존재하기 때문에 이들 각각이 오차 결과에 미치는 영향도를 계산하여 이를 최소화한다. "
   ]
  },
  {
   "cell_type": "markdown",
   "id": "83eb3e5d",
   "metadata": {},
   "source": [
    "# 연습문제2. 다음은 Chain Rule을 설명하는 그림이다. 출력층에서 입력층으로서의 계산 과정을 설명하시오.\n",
    "\n",
    "- 순정파: x와 y를 더한 값 t를 제곱하여 결과 z를 도출한다.\n",
    "- 역전파: z에 대한 z의 미분값은 1이 되고, 이를 이전 층으로 전파하고, 이 값에 z에 대한 t의 미분값을 구해 곱하면, chain rule에 의해 결과값 z에 대한 t의 미분값, 즉 영향도를 계산할 수 있다. 또한, 이 결과를 이전층으로 전파하고, t에 대한 x의 미분값을 구하여 z에 대한 x의 미분값을 구할 수 있다. 마찬가지로 z에 대한 y의 미분값을 구할 수 있다. \n",
    "- 역으로 미분값을 전파해 가면서 chain rule에 의거해 각 층마다 결과에 미치는 미분값을 도출한다. 이 미분값을 0으로 목표로하면서, 결과(에러)를 최소화한다. 가중치가 조금 변해도 에러는 낮은 상태로 변함이 없는 정도가 될때까지."
   ]
  },
  {
   "cell_type": "markdown",
   "id": "b4340575",
   "metadata": {},
   "source": [
    "# 연습문제3. z=xy라고 할때, 곱셈 노드의 역전파 대하여 다음의 수식과 그림을 이용하여 설명하시오.\n",
    "\n",
    "- z에 대한 x의 편미분은 y, z에 대한 y의 편미분은 x로 나타남.\n",
    "- 따라서 전체 결과에 영향을 미치는 x의 미분은 y를 곱하고, y의 미분은 x를 곱하면 된다."
   ]
  },
  {
   "cell_type": "markdown",
   "id": "2138f3a7",
   "metadata": {},
   "source": [
    "# 연습문제4. 순전파의 내용이 위 그림과 같을 때 역전파의 결과를 완성하시오.\n",
    "\n",
    "- 1.1\n",
    "- 1.1\n",
    "- 110"
   ]
  },
  {
   "cell_type": "code",
   "execution_count": null,
   "id": "edf05947",
   "metadata": {},
   "outputs": [],
   "source": []
  }
 ],
 "metadata": {
  "kernelspec": {
   "display_name": "nlp3710",
   "language": "python",
   "name": "nlp3710"
  },
  "language_info": {
   "codemirror_mode": {
    "name": "ipython",
    "version": 3
   },
   "file_extension": ".py",
   "mimetype": "text/x-python",
   "name": "python",
   "nbconvert_exporter": "python",
   "pygments_lexer": "ipython3",
   "version": "3.7.10"
  },
  "toc": {
   "base_numbering": 1,
   "nav_menu": {},
   "number_sections": true,
   "sideBar": true,
   "skip_h1_title": false,
   "title_cell": "Table of Contents",
   "title_sidebar": "Contents",
   "toc_cell": false,
   "toc_position": {},
   "toc_section_display": true,
   "toc_window_display": false
  }
 },
 "nbformat": 4,
 "nbformat_minor": 5
}
