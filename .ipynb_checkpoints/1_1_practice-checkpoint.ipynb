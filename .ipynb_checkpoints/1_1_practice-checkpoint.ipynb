{
 "cells": [
  {
   "cell_type": "markdown",
   "id": "96e5670d",
   "metadata": {},
   "source": [
    "# 연습문제1\n",
    "\n",
    "- 네이버 뉴스 텍스트를 하나 선택하여 형태소 분석을 수행하고, 형태소 분석 결과에서 추가가 필요한 단일어와 복합어를 발견하여 이를 사전에 반 영하시오\n",
    "    - 1. 단일어는 stem_MethodDeleted.txt\n",
    "    - 2. 복합어는 complexStem_MethodDelete.txt 에 같은 방식으로 저장"
   ]
  },
  {
   "cell_type": "code",
   "execution_count": null,
   "id": "d578ac1f",
   "metadata": {
    "scrolled": false
   },
   "outputs": [],
   "source": [
    "text = \"\"\"\n",
    "MZ세대가 접속하는 세계가 궁금하다면 메타버스에 접속해볼 것을 권합니다. ‘제페토’나 ‘로블록스’에 캐릭터를 만들어두면 지금 조직뿐 아니라 미래 사회 적응이 한결 수월해질 것입니다.\n",
    "MZ세대의 직장 선택 기준 중 가장 중요한 것은 자신의 성장 여부입니다. 아무리 급여가 높고 복지가 훌륭해도 성장할 수 없는 일터라면 과감하게 뒤돌아서죠. 상사는 MZ세대가 하는 일에 대한 의미와 가치를 깨닫게 해주고, 일의 중요성을 느끼게 해주는 것이 좋습니다.\n",
    "스마트폰 키보드에서 제공하는 그림 문자인 이모지가 MZ세대의 새로운 언어로 떠오르고 있습니다. 텍스트 하나 없이 이모지만으로 대화가 가능한 수준이죠. 사무용 이메일이나 보고서에 이모지를 섞어 쓴다면 문제가 되겠지만 MZ세대와의 커뮤니케이션을 돕는 수단으로 활용하기에 좋습니다.\n",
    "\"\"\"\n",
    "\n",
    "import rhinoMorph\n",
    "\n",
    "rn = rhinoMorph.startRhino()\n",
    "\n",
    "# morphed = rhinoMorph.onlyMorph_list(rn, text)\n",
    "morphs, pos = rhinoMorph.wholeResult_list(rn, text)\n",
    "for morph, po in zip(morphs, pos):\n",
    "    print(morph, po)\n"
   ]
  },
  {
   "cell_type": "code",
   "execution_count": 34,
   "id": "2addf3c5",
   "metadata": {},
   "outputs": [
    {
     "name": "stdout",
     "output_type": "stream",
     "text": [
      "filepath:  /Users/jsha/opt/anaconda3/envs/nlp3710/lib/python3.7/site-packages\n",
      "classpath:  /Users/jsha/opt/anaconda3/envs/nlp3710/lib/python3.7/site-packages/rhinoMorph/lib/rhino.jar\n",
      "JVM is already started~\n",
      "RHINO started!\n",
      "['MZ', '세대', '가', '접속', '하', '는', '세계', '가', '궁금', '하', '다면', '메타', '버스', '에', '접속', '하', '아', '보', 'ㄹ', '것', '을', '권하', 'ㅂ니다', '.', '‘', '제페토', '’', '나', '‘', '로', '록스', '’', '에', '캐릭터', '를', '만들', '어', '두', '면', '지금', '조직', '뿐', '아니', '라', '미래', '사회', '적응', '이', '한결', '수월', '하', '아', '지', 'ㄹ', '것', '이', 'ㅂ니다', '.', 'MZ', '세대', '의', '직장', '선택', '기준', '중', '가장', '중요', '하', 'ㄴ', '것', '은', '자신', '의', '성장', '여부', '이', 'ㅂ니다', '.', '아무리', '급여', '가', '높', '고', '복지', '가', '훌륭', '하', '아도', '성장', '하', 'ㄹ', '수', '없', '는', '일터', '라면', '과감', '하', '게', '뒤돌아서', '죠', '.', '상사', '는', 'MZ', '세대', '가', '하', '는', '일', '에', '대하', 'ㄴ', '의미', '와', '가치', '를', '깨닫', '게', '하', '어', '주', '고', ',', '일의', '중요', '성', '을', '느끼', '게', '하', '어', '주', '는', '것', '이', '좋', '습니다', '.', '스마트폰', '키보드', '에서', '\\xa0', '제공', '하', '는', 'MZ', '림\\xa0문자', '이', 'ㄴ', '\\xa0', '이', '모지', '가', '\\xa0MZ세대', '의', '\\xa0새', '로', '운', '어', '로', '\\xa0', '뜨', '어', '오르', '고', '\\xa0', '있', '습니다', '.', '\\xa0', '텍스트', '나', '\\xa0없', '이', '\\xa0', '이', '모지', '만', '으로', '\\xa0', '대화', '가', '\\xa0', '가', '능', '수준', '이', '죠', '.', '\\xa0', '사무용\\xa0이메일이나\\xa0', '보고', '서', '에', '\\xa0', '이모', '지', '를', '\\xa0', '섞', '어', '\\xa0쓴', '다면', 'MZ', '저', '가', '\\xa0되겠지', '말', 'ㄴ', '\\xa0MZ세대', '와', '의', '\\xa0', '커뮤니케이션', '을', '\\xa0', '돕', '는', '\\xa0', '수단', '으로', '\\xa0', '활용', '하', '기', '에', '\\xa0', '좋', '습니다', '.']\n"
     ]
    }
   ],
   "source": [
    "text = \"\"\"\n",
    "MZ세대가 접속하는 세계가 궁금하다면 메타버스에 접속해볼 것을 권합니다. ‘제페토’나 ‘로블록스’에 캐릭터를 만들어두면 지금 조직뿐 아니라 미래 사회 적응이 한결 수월해질 것입니다.\n",
    "MZ세대의 직장 선택 기준 중 가장 중요한 것은 자신의 성장 여부입니다. 아무리 급여가 높고 복지가 훌륭해도 성장할 수 없는 일터라면 과감하게 뒤돌아서죠. 상사는 MZ세대가 하는 일에 대한 의미와 가치를 깨닫게 해주고, 일의 중요성을 느끼게 해주는 것이 좋습니다.\n",
    "스마트폰 키보드에서 제공하는 그림 문자인 이모지가 MZ세대의 새로운 언어로 떠오르고 있습니다. 텍스트 하나 없이 이모지만으로 대화가 가능한 수준이죠. 사무용 이메일이나 보고서에 이모지를 섞어 쓴다면 문제가 되겠지만 MZ세대와의 커뮤니케이션을 돕는 수단으로 활용하기에 좋습니다.\n",
    "\"\"\"\n",
    "\n",
    "import rhinoMorph\n",
    "\n",
    "rn = rhinoMorph.startRhino()\n",
    "\n",
    "morphed = rhinoMorph.onlyMorph_list(rn, text)\n",
    "print(morphed)"
   ]
  },
  {
   "cell_type": "markdown",
   "id": "cd936d0d",
   "metadata": {},
   "source": [
    "## 복합어 complexStem_MethodDelete.txt에 적용하기\n",
    "- 복합어: '이모지'- JKS(이)/NNG - NNG(이모)/EC, 'MZ세대'- SL/NNG \n",
    "- 위치: /Users/serendipi27/opt/anaconda3/envs/nlp3710/lib/python3.7/site-packages/rhinoMorph/resource/\n",
    "- 이모지\t이모/NNG + 지/EC\n",
    "- 이모지\t이/JKS + 모지/NNG\n",
    "- MZ세대\tMZ/SL + 세대/NNG"
   ]
  },
  {
   "cell_type": "markdown",
   "id": "c6d683e7",
   "metadata": {},
   "source": [
    "# 연습문제 2\n",
    "- 네이버 뉴스 텍스트를 하나 선택하여 다음을 수행하시오. \n",
    "    - 1 명사만 추출하세요 (‘명사’에 해당하는 적절한 태그 선택)\n",
    "    - 2 동사만 추출하세요 (‘동사’에 해당하는 적절한 태그 선택)\n",
    "    - 3 이 데이터에서 불용어에 해당하는 어휘를 선택하세요\n",
    "    - 4 combineN=True 옵션을 사용하고, 결과를 살펴보세요"
   ]
  },
  {
   "cell_type": "markdown",
   "id": "ef148330",
   "metadata": {},
   "source": [
    "## 명사만 추출하기"
   ]
  },
  {
   "cell_type": "code",
   "execution_count": 36,
   "id": "83b964d2",
   "metadata": {},
   "outputs": [
    {
     "name": "stdout",
     "output_type": "stream",
     "text": [
      "filepath:  /Users/jsha/opt/anaconda3/envs/nlp3710/lib/python3.7/site-packages\n",
      "classpath:  /Users/jsha/opt/anaconda3/envs/nlp3710/lib/python3.7/site-packages/rhinoMorph/lib/rhino.jar\n",
      "JVM is already started~\n",
      "RHINO started!\n",
      "['세대', '세계', '메타', '버스', '제페토', '로', '록스', '캐릭터', '조직', '미래', '사회', '적응', '세대', '직장', '선택', '기준', '중요', '자신', '성장', '여부', '급여', '복지', '일터', '상사', '세대', '일', '의미', '가치', '일의', '중요', '스마트폰', '키보드', '제공', '모지', '운', '텍스트', '모지', '대화', '능', '수준', '이모', '다면', '커뮤니케이션', '수단', '활용']\n"
     ]
    }
   ],
   "source": [
    "text = \"\"\"\n",
    "MZ세대가 접속하는 세계가 궁금하다면 메타버스에 접속해볼 것을 권합니다. ‘제페토’나 ‘로블록스’에 캐릭터를 만들어두면 지금 조직뿐 아니라 미래 사회 적응이 한결 수월해질 것입니다.\n",
    "MZ세대의 직장 선택 기준 중 가장 중요한 것은 자신의 성장 여부입니다. 아무리 급여가 높고 복지가 훌륭해도 성장할 수 없는 일터라면 과감하게 뒤돌아서죠. 상사는 MZ세대가 하는 일에 대한 의미와 가치를 깨닫게 해주고, 일의 중요성을 느끼게 해주는 것이 좋습니다.\n",
    "스마트폰 키보드에서 제공하는 그림 문자인 이모지가 MZ세대의 새로운 언어로 떠오르고 있습니다. 텍스트 하나 없이 이모지만으로 대화가 가능한 수준이죠. 사무용 이메일이나 보고서에 이모지를 섞어 쓴다면 문제가 되겠지만 MZ세대와의 커뮤니케이션을 돕는 수단으로 활용하기에 좋습니다.\n",
    "\"\"\"\n",
    "\n",
    "import rhinoMorph\n",
    "\n",
    "rn = rhinoMorph.startRhino()\n",
    "\n",
    "nouns = rhinoMorph.onlyMorph_list(rn, text, pos=['NNG', 'NNP'])\n",
    "print(nouns)"
   ]
  },
  {
   "cell_type": "markdown",
   "id": "9d393b07",
   "metadata": {},
   "source": [
    "## 동사만 추출하기"
   ]
  },
  {
   "cell_type": "code",
   "execution_count": 38,
   "id": "fe48c75b",
   "metadata": {},
   "outputs": [
    {
     "name": "stdout",
     "output_type": "stream",
     "text": [
      "['권하', '만들', '하', '뒤돌아서', '하', '대하', '깨닫', '느끼', '하', '뜨', '오르', '섞', '돕']\n"
     ]
    }
   ],
   "source": [
    "verbs = rhinoMorph.onlyMorph_list(rn, text, pos=['VV'])\n",
    "print(verbs)"
   ]
  },
  {
   "cell_type": "markdown",
   "id": "2174a275",
   "metadata": {},
   "source": [
    "## 불용어에 해당하는 어휘 선택하기"
   ]
  },
  {
   "cell_type": "code",
   "execution_count": 38,
   "id": "524ea581",
   "metadata": {},
   "outputs": [
    {
     "name": "stdout",
     "output_type": "stream",
     "text": [
      "['권하', '만들', '하', '뒤돌아서', '하', '대하', '깨닫', '느끼', '하', '뜨', '오르', '섞', '돕']\n"
     ]
    }
   ],
   "source": [
    "verbs = rhinoMorph.onlyMorph_list(rn, text, pos=[])\n",
    "print(verbs)"
   ]
  },
  {
   "cell_type": "code",
   "execution_count": 41,
   "id": "8fe3412f",
   "metadata": {},
   "outputs": [
    {
     "name": "stdout",
     "output_type": "stream",
     "text": [
      "['가', '는', '가', '다면', '에', '아', '보', 'ㄹ', '것', '을', 'ㅂ니다', '.', '‘', '’', '‘', '’', '에', '를', '어', '두', '면', '뿐', '아니', '라', '이', '아', '지', 'ㄹ', '것', '이', 'ㅂ니다', '.', '의', '중', 'ㄴ', '것', '은', '의', '이', 'ㅂ니다', '.', '가', '고', '가', '아도', 'ㄹ', '수', '는', '라면', '게', '죠', '.', '는', '가', '는', '에', 'ㄴ', '와', '를', '게', '하', '어', '주', '고', ',', '을', '게', '하', '어', '주', '는', '것', '이', '습니다', '.', '에서', '는', '림\\xa0문자', '이', 'ㄴ', '\\xa0', '이', '가', '\\xa0MZ세대', '의', '\\xa0새', '로', '어', '로', '\\xa0', '어', '고', '있', '습니다', '.', '나', '\\xa0없', '이', '\\xa0', '이', '만', '으로', '가', '\\xa0', '가', '이', '죠', '.', '사무용\\xa0이메일이나\\xa0', '보고', '에', '\\xa0', '지', '를', '어', '\\xa0쓴', '가', '\\xa0되겠지', '말', 'ㄴ', '\\xa0MZ세대', '와', '의', '\\xa0', '을', '는', '으로', '기', '에', '\\xa0', '습니다', '.']\n"
     ]
    }
   ],
   "source": [
    "lesstext = '''주격조사(JKS), 보격조사(JKC), 관형격조사(JKG), 목적격조사(JKO), 부사격조사(JKB), 호 격조사(JKV), 인용격조사(JKQ), 보조사(JX), 접속조사(JC), 선어말어미(EP), 종결어미(EF), 연결어미(EC), 명사형전성어미(ETN), 관형형전성어미(ETM), 체언접두사(XPN), 명사파생 접미사(XSA), 마침표, 물음표, 느낌표(SF), 따옴표, 괄호표, 줄표(SS), 쉼표, 가운뎃점, 콜 론, 빗금(SP), 줄임표(SE), 붙임표(물결, 숨김, 빠짐) SO, 분석불능범주(NA)\n",
    "수사(NR), 숫자(SN), 명사추정범주(NF), 기타기호(논리수학기호, 화폐기호) SW, 용언추정범주(NV), 의존명사(NNB), 보조용언(VX), 긍정지정사(VCP), 부정지정사(VCN)'''\n",
    "\n",
    "useless_tags = rhinoMorph.onlyMorph_list(rn, lesstext, pos=['SL'])\n",
    "# print(useless_tags)\n",
    "\n",
    "useless = rhinoMorph.onlyMorph_list(rn, text, pos=useless_tags)\n",
    "print(useless)"
   ]
  },
  {
   "cell_type": "markdown",
   "id": "bf86d8ea",
   "metadata": {},
   "source": [
    "## 옵션 combineN=True 결과와 비교하기"
   ]
  },
  {
   "cell_type": "code",
   "execution_count": 43,
   "id": "1d2748d9",
   "metadata": {},
   "outputs": [
    {
     "name": "stdout",
     "output_type": "stream",
     "text": [
      "231\n",
      "227\n",
      "{'버스', '수준', '메타', '능', '록스', '키보드', '스마트폰'}\n",
      "{'메타버스', '로록스', '능수준', '스마트폰키보드'}\n"
     ]
    }
   ],
   "source": [
    "morphs = rhinoMorph.onlyMorph_list(rn, text)\n",
    "morphs_comb = rhinoMorph.onlyMorph_list(rn, text, combineN=True)\n",
    "print(len(morphs))\n",
    "print(len(morphs_comb))\n",
    "\n",
    "print(set(morphs) - set(morphs_comb))\n",
    "print(set(morphs_comb) - set(morphs))"
   ]
  },
  {
   "cell_type": "code",
   "execution_count": 46,
   "id": "45ef9b9a",
   "metadata": {},
   "outputs": [
    {
     "name": "stdout",
     "output_type": "stream",
     "text": [
      "MZ SL\n",
      "세대 NNG\n",
      "가 JKS\n",
      "접속하 VV\n",
      "는 ETM\n",
      "세계 NNG\n",
      "가 JKS\n",
      "궁금하 VV\n",
      "다면 EC\n",
      "메타 NNG\n",
      "버스 NNG\n",
      "에 JKB\n",
      "접속하 VV\n",
      "아 EC\n",
      "보 VX\n",
      "ㄹ ETM\n",
      "것 NNB\n",
      "을 JKO\n",
      "권하 VV\n",
      "ㅂ니다 EF\n",
      ". SF\n",
      "‘ SS\n",
      "제페토 NNP\n",
      "’ SS\n",
      "나 NP\n",
      "‘ SS\n",
      "로 NNG\n",
      "록스 NNP\n",
      "’ SS\n",
      "에 JKB\n",
      "캐릭터 NNG\n",
      "를 JKO\n",
      "만들 VV\n",
      "어 EC\n",
      "두 VX\n",
      "면 EC\n",
      "지금 MAG\n",
      "조직 NNG\n",
      "뿐 NNB\n",
      "아니 VCN\n",
      "라 EC\n",
      "미래 NNG\n",
      "사회 NNG\n",
      "적응 NNG\n",
      "이 JKS\n",
      "한결 MAG\n",
      "수월하 VV\n",
      "아 EC\n",
      "지 VX\n",
      "ㄹ ETM\n",
      "것 NNB\n",
      "이 VCP\n",
      "ㅂ니다 EF\n",
      ". SF\n",
      "MZ SL\n",
      "세대 NNG\n",
      "의 JKG\n",
      "직장 NNG\n",
      "선택 NNG\n",
      "기준 NNG\n",
      "중 NNB\n",
      "가장 MAG\n",
      "중요 NNG\n",
      "하 VV\n",
      "ㄴ ETM\n",
      "것 NNB\n",
      "은 JX\n",
      "자신 NNG\n",
      "의 JKG\n",
      "성장 NNG\n",
      "여부 NNG\n",
      "이 VCP\n",
      "ㅂ니다 EF\n",
      ". SF\n",
      "아무리 MAG\n",
      "급여 NNG\n",
      "가 JKS\n",
      "높 VA\n",
      "고 EC\n",
      "복지 NNG\n",
      "가 JKS\n",
      "훌륭하 VV\n",
      "아도 EC\n",
      "성장하 VV\n",
      "ㄹ ETM\n",
      "수 NNB\n",
      "없 VA\n",
      "는 ETM\n",
      "일터 NNG\n",
      "라면 EC\n",
      "과감하 VV\n",
      "게 EC\n",
      "뒤돌아서 VV\n",
      "죠 EF\n",
      ". SF\n",
      "상사 NNG\n",
      "는 JX\n",
      "MZ SL\n",
      "세대 NNG\n",
      "가 JKS\n",
      "하 VV\n",
      "는 ETM\n",
      "일 NNG\n",
      "에 JKB\n",
      "대하 VV\n",
      "ㄴ ETM\n",
      "의미 NNG\n",
      "와 JC\n",
      "가치 NNG\n",
      "를 JKO\n",
      "깨닫 VV\n",
      "게 EC\n",
      "하 VX\n",
      "어 EC\n",
      "주 VX\n",
      "고 EC\n",
      ", SP\n",
      "일의 NNG\n",
      "중요 NNG\n",
      "성 XSN\n",
      "을 JKO\n",
      "느끼 VV\n",
      "게 EC\n",
      "하 VX\n",
      "어 EC\n",
      "주 VX\n",
      "는 JX\n",
      "것 NNB\n",
      "이 JKS\n",
      "좋 VA\n",
      "습니다 EF\n",
      ". SF\n",
      "스마트폰 NNG\n",
      "키보드 NNG\n",
      "에서 JKB\n",
      "  SH\n",
      "제공 NNG\n",
      "하 VV\n",
      "는 ETM\n",
      "MZ SL\n",
      "림 문자 NA\n",
      "이 VCP\n",
      "ㄴ ETM\n",
      "  NA\n",
      "이 JKS\n",
      "모지 NNG\n",
      "가 JKS\n",
      " MZ세대 NA\n",
      "의 JKG\n",
      " 새 NA\n",
      "로 JKB\n",
      "운 NNG\n",
      "어 EC\n",
      "로 JKB\n",
      "  NA\n",
      "뜨 VV\n",
      "어 EC\n",
      "오르 VV\n",
      "고 EC\n",
      "  SH\n",
      "있 VX\n",
      "습니다 EF\n",
      ". SF\n",
      "  SH\n",
      "텍스트 NNG\n",
      "나 JX\n",
      " 없 NA\n",
      "이 JKS\n",
      "  NA\n",
      "이 JKS\n",
      "모지 NNG\n",
      "만 JX\n",
      "으로 JKB\n",
      "  SH\n",
      "대화 NNG\n",
      "가 JKS\n",
      "  NA\n",
      "가 JKS\n",
      "능 NNG\n",
      "수준 NNG\n",
      "이 VCP\n",
      "죠 EF\n",
      ". SF\n",
      "  SH\n",
      "사무용 이메일이나  NA\n",
      "보고 JKB\n",
      "서 MM\n",
      "에 JKB\n",
      "  NA\n",
      "이모 NNG\n",
      "지 EC\n",
      "를 JKO\n",
      "  SH\n",
      "섞 VV\n",
      "어 EC\n",
      " 쓴 NA\n",
      "다면 NNG\n",
      "MZ SL\n",
      "저 NP\n",
      "가 JKS\n",
      " 되겠지 NA\n",
      "말 VX\n",
      "ㄴ ETM\n",
      " MZ세대 NA\n",
      "와 JC\n",
      "의 JKG\n",
      "  NA\n",
      "커뮤니케이션 NNG\n",
      "을 JKO\n",
      "  SH\n",
      "돕 VV\n",
      "는 JX\n",
      "  SH\n",
      "수단 NNG\n",
      "으로 JKB\n",
      "  SH\n",
      "활용 NNG\n",
      "하 XSV\n",
      "기 ETN\n",
      "에 JKB\n",
      "  NA\n",
      "좋 VA\n",
      "습니다 EF\n",
      ". SF\n"
     ]
    }
   ],
   "source": [
    "morphs, pos = rhinoMorph.wholeResult_list(rn, text, xrVv=True)\n",
    "for morph, po in zip(morphs, pos):\n",
    "    print(morph, po)"
   ]
  },
  {
   "cell_type": "code",
   "execution_count": 9,
   "id": "e8e8c400",
   "metadata": {
    "scrolled": true
   },
   "outputs": [
    {
     "name": "stdout",
     "output_type": "stream",
     "text": [
      "filepath:  /Users/jsha/opt/anaconda3/envs/nlp3710/lib/python3.7/site-packages\n",
      "classpath:  /Users/jsha/opt/anaconda3/envs/nlp3710/lib/python3.7/site-packages/rhinoMorph/lib/rhino.jar\n",
      "JVM is already started~\n",
      "RHINO started!\n",
      "['MZ세대', '가', '접속', '하', '는', '세계', '가', '궁금', '하', '다면', '메타버스', '에', '접속', '하', '아', '보', 'ㄹ', '것', '을', '권하', 'ㅂ니다', '.', '‘', '제페토', '’', '나', '‘', '로블록스', '’', '에', '캐릭터', '를', '만들', '어', '두', '면', '지금', '조직', '뿐', '아니', '라', '미래', '사회', '적응', '이', '한결', '수월', '하', '아', '지', 'ㄹ', '것', '이', 'ㅂ니다', '.', 'MZ세대', '의', '직장', '선택', '기준', '중', '가장', '중요', '하', 'ㄴ', '것', '은', '자신', '의', '성장', '여부', '이', 'ㅂ니다', '.', '아무리', '급여', '가', '높', '고', '복지', '가', '훌륭', '하', '아도', '성장', '하', 'ㄹ', '수', '없', '는', '일터', '라면', '과감', '하', '게', '뒤돌아서', '죠', '.', '상사', '는', 'MZ세대', '가', '하', '는', '일', '에', '대하', 'ㄴ', '의미', '와', '가치', '를', '깨닫', '게', '하', '어', '주', '고', ',', '일의', '중요', '성', '을', '느끼', '게', '하', '어', '주', '는', '것', '이', '좋', '습니다', '.', '스마트폰', '키보드', '에서', '\\xa0', '제공', '하', '는', 'MZ', '림\\xa0문자', '이', 'ㄴ', '\\xa0', '이', '모지', '가', '\\xa0MZ세대', '의', '\\xa0새', '로', '운', '어', '로', '\\xa0', '뜨', '어', '오르', '고', '\\xa0', '있', '습니다', '.', '\\xa0', '텍스트', '\\xa0하', '나', '\\xa0없', '이', '\\xa0', '이모지', '만', '으로', '\\xa0', '대화', '가', '\\xa0', '가', '능', '수준', '이', '죠', '.', '\\xa0', '사무용\\xa0이메일이나\\xa0', '보고', '서', '에', '\\xa0', '이모', '지', '를', '\\xa0', '섞', '어', '\\xa0쓴', '다면', 'MZ', '저', '가', '\\xa0되겠지', '말', 'ㄴ', '\\xa0MZ세대', '와', '의', '\\xa0', '커뮤니케이션', '을', '\\xa0', '돕', '는', '\\xa0', '수단', '으로', '\\xa0', '활용', '하', '기', '에', '\\xa0', '좋', '습니다', '.']\n"
     ]
    }
   ],
   "source": [
    "import rhinoMorph\n",
    "\n",
    "rn = rhinoMorph.startRhino()\n",
    "\n",
    "text = \"\"\"\n",
    "MZ세대가 접속하는 세계가 궁금하다면 메타버스에 접속해볼 것을 권합니다. ‘제페토’나 ‘로블록스’에 캐릭터를 만들어두면 지금 조직뿐 아니라 미래 사회 적응이 한결 수월해질 것입니다.\n",
    "MZ세대의 직장 선택 기준 중 가장 중요한 것은 자신의 성장 여부입니다. 아무리 급여가 높고 복지가 훌륭해도 성장할 수 없는 일터라면 과감하게 뒤돌아서죠. 상사는 MZ세대가 하는 일에 대한 의미와 가치를 깨닫게 해주고, 일의 중요성을 느끼게 해주는 것이 좋습니다.\n",
    "스마트폰 키보드에서 제공하는 그림 문자인 이모지가 MZ세대의 새로운 언어로 떠오르고 있습니다. 텍스트 하나 없이 이모지만으로 대화가 가능한 수준이죠. 사무용 이메일이나 보고서에 이모지를 섞어 쓴다면 문제가 되겠지만 MZ세대와의 커뮤니케이션을 돕는 수단으로 활용하기에 좋습니다.\n",
    "\"\"\"\n",
    "\n",
    "morph = rhinoMorph.onlyMorph_list(rn, text)\n",
    "print(morph)"
   ]
  },
  {
   "cell_type": "markdown",
   "id": "9315706a",
   "metadata": {},
   "source": [
    "# 연습문제 3\n",
    "- 연습 폴더에 있는 ‘금융규제운영규정.txt’ 파일을 읽고 다음의 작업을 수행 하시오\n",
    "    - 1 문장에서 명사류만 추출하시오\n",
    "    - 2 문장에서 동사류만 추출하시오\n",
    "    - 3 추출한 명사류와 동사류가 아래와 같이 되도록 하시오 4 엑셀을 빈도하여 정렬하시오"
   ]
  },
  {
   "cell_type": "markdown",
   "id": "4a130139",
   "metadata": {},
   "source": [
    "### 명사류만 추출하기"
   ]
  },
  {
   "cell_type": "code",
   "execution_count": 38,
   "id": "d1f27a81",
   "metadata": {},
   "outputs": [
    {
     "name": "stdout",
     "output_type": "stream",
     "text": [
      "filepath:  /Users/jsha/opt/anaconda3/envs/nlp3710/lib/python3.7/site-packages\n",
      "classpath:  /Users/jsha/opt/anaconda3/envs/nlp3710/lib/python3.7/site-packages/rhinoMorph/lib/rhino.jar\n",
      "JVM is already started~\n",
      "RHINO started!\n"
     ]
    }
   ],
   "source": [
    "import numpy as np\n",
    "import pandas as pd\n",
    "import rhinoMorph\n",
    "\n",
    "path = '/Users/jsha/gjai/nlp/pytest/'\n",
    "with open(path+'금융규제운영규정.txt', 'r', encoding='euc-kr') as file:\n",
    "    text = file.read()\n",
    "type(txt)\n",
    "\n",
    "rn = rhinoMorph.startRhino()\n",
    "\n",
    "# 명사류만 추출하기\n",
    "onlynouns = rhinoMorph.onlyMorph_list(rn, text, pos=['NNG', 'NNP'])\n",
    "# print(len(onlynouns), onlynouns)\n",
    "nouns_series = pd.Series(onlynouns, name='noun')\n",
    "# type(nouns_series)\n",
    "nouns_series.to_csv('nouns_금융규제운영규정.csv', index_label=False)"
   ]
  },
  {
   "cell_type": "code",
   "execution_count": 63,
   "id": "2bfe61d7",
   "metadata": {
    "scrolled": true
   },
   "outputs": [
    {
     "name": "stdout",
     "output_type": "stream",
     "text": [
      "7059\n",
      "1076\n"
     ]
    },
    {
     "data": {
      "text/plain": [
       "6471    PIN\n",
       "100       가\n",
       "746      가격\n",
       "2338     가공\n",
       "5494     가능\n",
       "Name: noun, dtype: object"
      ]
     },
     "execution_count": 63,
     "metadata": {},
     "output_type": "execute_result"
    }
   ],
   "source": [
    "test_nouns = pd.read_csv('noun_금융규제운영규정.csv')\n",
    "test_nouns.head()\n",
    "test_nouns = test_nouns.iloc[:, -1].copy()\n",
    "\n",
    "# 명사류 오름차순으로 정렬하기\n",
    "test_nouns.sort_values(inplace=True)\n",
    "\n",
    "# 명사류 중복 제거\n",
    "print(len(test_nouns))\n",
    "test_nouns.drop_duplicates(inplace=True)\n",
    "print(len(test_nouns))\n",
    "\n",
    "test_nouns.head()"
   ]
  },
  {
   "cell_type": "markdown",
   "id": "d26454cf",
   "metadata": {},
   "source": [
    "### 동사류만 추출하기"
   ]
  },
  {
   "cell_type": "code",
   "execution_count": 24,
   "id": "bf76d44f",
   "metadata": {
    "scrolled": true
   },
   "outputs": [],
   "source": [
    "# 동사류만 추출하기\n",
    "onlyverbs = rhinoMorph.onlyMorph_list(rn, text, pos=['VV'])\n",
    "# print(len(onlyverbs), onlyverbs)\n",
    "\n",
    "verbs_series = pd.Series(onlyverbs, name='verb')\n",
    "verbs_series.to_csv('verbs_금융규제운영규정.csv', index=False)"
   ]
  },
  {
   "cell_type": "code",
   "execution_count": 66,
   "id": "3afe898c",
   "metadata": {
    "scrolled": true
   },
   "outputs": [
    {
     "name": "stdout",
     "output_type": "stream",
     "text": [
      "1137\n",
      "55\n"
     ]
    },
    {
     "data": {
      "text/plain": [
       "366      가\n",
       "475      갖\n",
       "639     갖추\n",
       "749     거치\n",
       "846    관리하\n",
       "Name: verb, dtype: object"
      ]
     },
     "execution_count": 66,
     "metadata": {},
     "output_type": "execute_result"
    }
   ],
   "source": [
    "test_verbs = pd.read_csv('verbs_금융규제운영규정.csv')\n",
    "test_verbs.head()\n",
    "test_verbs = test_verbs.iloc[:, -1].copy()\n",
    "\n",
    "# 동사류 오름차순으로 정렬\n",
    "test_verbs.sort_values(inplace=True)\n",
    "\n",
    "# 동사류 중복항목 삭제\n",
    "print(len(test_verbs))\n",
    "test_verbs.drop_duplicates(inplace=True)\n",
    "print(len(test_verbs))\n",
    "\n",
    "test_verbs.head()"
   ]
  },
  {
   "cell_type": "markdown",
   "id": "26df306d",
   "metadata": {},
   "source": [
    "# 연습문제 4\n",
    "- 연습 폴더에 있는 ‘금융규제운영규정.txt’ 파일을 읽고 다음의 작업을 수행 하시오\n",
    "    - 1 텍스트 내용을 캐리지 리턴을 기준으로 분리하시오.\n",
    "    - 2 분리된 문장에서 ‘금융‘ 이라는 단어가 들어간 문장만 출력하시오 3 ‘금융‘이 들어간 문장만 파일로 저장하시오."
   ]
  },
  {
   "cell_type": "code",
   "execution_count": 95,
   "id": "1e14dbd3",
   "metadata": {},
   "outputs": [
    {
     "name": "stdout",
     "output_type": "stream",
     "text": [
      "1158\n",
      "286\n"
     ]
    }
   ],
   "source": [
    "import numpy as np\n",
    "import pandas as pd\n",
    "import rhinoMorph\n",
    "\n",
    "path = '/Users/jsha/gjai/nlp/pytest/'\n",
    "\n",
    "with open(path+'금융규제운영규정.txt', 'r', encoding='euc-kr') as file:\n",
    "    text = file.readlines()\n",
    "#     whole_text = file.read()\n",
    "\n",
    "# carrage return을 이용한 분리 후 리스트 저장\n",
    "new_text = list(map(lambda x: x.replace('\\n', ''), text))\n",
    "new_text\n",
    "\n",
    "srs = pd.Series(new_text)\n",
    "srs.head()\n",
    "\n",
    "# '금융'만 들어간 문장 찾기\n",
    "bool_indexing = srs.map(lambda x: True if '금융' in x else False)\n",
    "srs_including_geumyung = srs[bool_indexing]\n",
    "srs_including_geumyung.name = 'only_금융'\n",
    "print(len(srs))\n",
    "print(len(srs_including_geumyung))\n",
    "\n",
    "# csv 파일로 저장\n",
    "srs_including_geumyung.to_csv('ex4_including_only_geumyung.csv', index=False)"
   ]
  },
  {
   "cell_type": "markdown",
   "id": "fd0f72bc",
   "metadata": {},
   "source": [
    "# 연습문제 5\n",
    "- 연습 폴더에 있는 ‘금융규제운영규정.txt’ 파일을 읽고 사용자가 입력한 키 워드가 있는 문장을 찾고, 찾은 키워드를 보여주는 코드를 작성하시오\n",
    "    - 찾는 키워드는 먼저 하나만 찾게 하고, 가능하면 복수 개가 가능하도록 하세요\n",
    "    - 분석 결과는 다음과 같이 나오게 하며, 가능하면 저장 기능까지 구현하세요\n",
    "    - 형태소 분석기는 사용하지 않아도 됨"
   ]
  },
  {
   "cell_type": "code",
   "execution_count": 138,
   "id": "23e52415",
   "metadata": {},
   "outputs": [
    {
     "data": {
      "text/plain": [
       "0                                            금융규제 운영규정\n",
       "1    [시행 2019. 1. 30.] [국무총리훈령 제734호, 2019. 1. 30.,...\n",
       "2                       금융위원회(규제개혁법무담당관), 02-2100-2802\n",
       "3                                               제1장 총칙\n",
       "4     제1조(목적) 이 훈령은 금융위원회 및 금융유관기관이 금융회사등에 대한 금융규제를...\n",
       "Name: sentence, dtype: object"
      ]
     },
     "execution_count": 138,
     "metadata": {},
     "output_type": "execute_result"
    }
   ],
   "source": [
    "import numpy as np\n",
    "import pandas as pd\n",
    "\n",
    "path = '/Users/jsha/gjai/nlp/pytest/'\n",
    "\n",
    "with open(path+'금융규제운영규정.txt', 'r', encoding='euc-kr') as file:\n",
    "    text_list = file.readlines()\n",
    "\n",
    "# 금융규제운영규정 판다스 시리즈로 사전 구축\n",
    "srs = pd.Series(text_list, name='sentence')\n",
    "srs.head()\n",
    "srs = srs.map(lambda x: x.replace('\\n',''))\n",
    "mapping = srs.map(lambda x: False if x == '' else True)\n",
    "srs = srs[mapping]\n",
    "srs.reset_index(drop=True, inplace=True)\n",
    "srs.head()"
   ]
  },
  {
   "cell_type": "code",
   "execution_count": 151,
   "id": "efb1e81d",
   "metadata": {},
   "outputs": [
    {
     "name": "stdout",
     "output_type": "stream",
     "text": [
      "0                                            금융규제 운영규정\n",
      "1    [시행 2019. 1. 30.] [국무총리훈령 제734호, 2019. 1. 30.,...\n",
      "2                       금융위원회(규제개혁법무담당관), 02-2100-2802\n",
      "3                                               제1장 총칙\n",
      "4     제1조(목적) 이 훈령은 금융위원회 및 금융유관기관이 금융회사등에 대한 금융규제를...\n",
      "Name: sentence, dtype: object\n",
      "581\n"
     ]
    }
   ],
   "source": [
    "import re\n",
    "kw = '금융'\n",
    "\n",
    "# srs_kw = srs[srs.map(lambda x: True if kw in x else False)]\n",
    "# srs_kw.head()\n",
    "print(srs.head())\n",
    "print(len(srs))\n",
    "\n",
    "def find_kw(pool, kw):\n",
    "    if kw in pool:\n",
    "        dummy = re.findall(kw, pool)\n",
    "        result = ','.join(dummy)\n",
    "        return result\n",
    "    else:\n",
    "        return None\n",
    "    \n",
    "sec_col = srs.apply(find_kw, kw=kw)\n",
    "srs_df = pd.concat([srs, sec_col], axis=1)\n",
    "srs_df.columns = ['sentence', 'keyword']\n",
    "# print(srs_df.isnull().sum())\n",
    "srs_df.dropna(inplace=True)\n",
    "\n",
    "srs_df.to_csv('ex5_sentence_keyword.csv', index=False)"
   ]
  },
  {
   "cell_type": "markdown",
   "id": "c95eef24",
   "metadata": {},
   "source": [
    "# 연습문제 6 - PyPi에 패키지 업로드\n",
    "- 연습문제 5에 대하여 PyPI에 패키지 형태로 구현하여 업로드하시오"
   ]
  },
  {
   "cell_type": "markdown",
   "id": "28aec33b",
   "metadata": {},
   "source": [
    "## Package 파일 저장 위치\n",
    "- path1 = '/Users/jsha/gjai/nlp/Package_Pypi/'\n",
    "- path2 = '/Users/jsha/PycharmProjects/getkeyforgeumyung/'\n",
    "\n",
    "## PyPi에 업로드 완료함\n",
    "- package name : getkeyforgeumyung\n",
    "- id: serendipi27@gmail.com\n",
    "- pw: G@\n",
    "\n",
    "## 업로드 절차\n",
    "- 1. Package 디렉토리 만들기\n",
    "- 2. Package 디렉토리 안에 setup.py 파일 만들기\n",
    "    - setup.py\n",
    "- 3. Package 디랙토리 안에 동일한 이름의 Package 디렉토리 만들기\n",
    "- 4. Package 디렉토리 - 동일 이름 디렉토리 안에 모듈 파일 만들기\n",
    "    - getsentence.py\n",
    "- 5. 패키지 업로드를 위해 필요한 모듈 설치. 가상환경 nlp3710에 이미 설치완료 \n",
    "    - conda install setuptools\n",
    "    - conda install wheel\n",
    "- 6. setup.py가 있는 디렉토리에 가서 다음 명령 실행\n",
    "    - python setup.py bdist_wheel\n",
    "- 7. 새로 생긴 dist 디렉토리로 이동하여 다음 명령 실행\n",
    "    - twine upload PackageName-0.0.0.1-py3-none-any.whl\n",
    "    - PyPi 이메일 계정과 비번 등록"
   ]
  },
  {
   "cell_type": "code",
   "execution_count": null,
   "id": "685a0cc7",
   "metadata": {
    "scrolled": false
   },
   "outputs": [],
   "source": [
    "# setup.py\n",
    "from setuptools import setup, find_packages\n",
    "\n",
    "setup(name='getkeyforgeumyung',\n",
    "      version='0.0.0.1',\n",
    "      description='when you input your keyword, you can get sentence including the keyword you input.',\n",
    "      author='Jisung Ha',\n",
    "      author_email='serendipi27@gmail.com',\n",
    "      url='',\n",
    "      license='MIT',\n",
    "      py_modules=['getsentence'],\n",
    "      python_requires='>=3',\n",
    "      packages=['getkeyforgeumyung'])"
   ]
  },
  {
   "cell_type": "code",
   "execution_count": 152,
   "id": "0058c8d2",
   "metadata": {},
   "outputs": [],
   "source": [
    "# 모듈: getsetence.py\n",
    "import numpy as np\n",
    "import pandas as pd\n",
    "import re\n",
    "\n",
    "def set_library(txtfile):\n",
    "\ttry:\n",
    "\t\twith open(txtfile, 'r', encoding='euc-kr') as file:\n",
    "\t\t\ttext_list = file.readlines()\n",
    "\texcept:\n",
    "\t\twith open(txtfile, 'r', encoding='utf-8') as file:\n",
    "\t\t\ttext_list = file.readlines()\n",
    "\n",
    "\t# 금융규제운영규정 판다스 시리즈로 사전 구축\n",
    "\tsrs = pd.Series(text_list, name='sentence')\n",
    "\n",
    "\tsrs = srs.map(lambda x: x.replace('\\n',''))\n",
    "\tmapping = srs.map(lambda x: False if x == '' else True)\n",
    "\tsrs = srs[mapping]\n",
    "\tsrs.reset_index(drop=True, inplace=True)\n",
    "\n",
    "\treturn srs\n",
    "\n",
    "def get_sentence_kw(srs, kw):\n",
    "\n",
    "\tdef find_kw(pool, kw):\n",
    "\t\tif kw in pool:\n",
    "\t\t\tdummy = re.findall(kw, pool)\n",
    "\t\t\tresult = ','.join(dummy)\n",
    "\t\t\treturn result\n",
    "\t\telse:\n",
    "\t\t\treturn None\n",
    "\n",
    "\tsec_col = srs.apply(find_kw, kw=kw)\n",
    "\tsrs_df = pd.concat([srs, sec_col], axis=1)\n",
    "\tsrs_df.columns = ['sentence', 'keyword']\n",
    "\t# print(srs_df.isnull().sum())\n",
    "\tsrs_df.dropna(inplace=True)\n",
    "\n",
    "\treturn srs_df\n",
    "\n",
    "def get_csv(df, csv_name):\n",
    "\tdf.to_csv(csv_name, index=False)"
   ]
  },
  {
   "cell_type": "code",
   "execution_count": 157,
   "id": "d309a57d",
   "metadata": {},
   "outputs": [
    {
     "name": "stdout",
     "output_type": "stream",
     "text": [
      "0_Java_JPype_rhinoMorph_installation.ipynb\r\n",
      "1_1_practice.ipynb\r\n",
      "1_morph_analysis_using_rhino.ipynb\r\n",
      "2_morph_analysis_using_konlpy.ipynb\r\n",
      "\u001b[1m\u001b[36mPackage_Pypi\u001b[m\u001b[m\r\n",
      "ex4_including_only_geumyung.csv\r\n",
      "ex5_sentence_keyword.csv\r\n",
      "noun_금융규제운영규정.csv\r\n",
      "\u001b[1m\u001b[36mpytest\u001b[m\u001b[m\r\n",
      "test.csv\r\n",
      "verbs_금융규제운영규정.csv\r\n"
     ]
    }
   ],
   "source": [
    "# 사용법\n",
    "import getkeyforgeumyung.getsentence as gs\n",
    "path = '/Users/jsha/gjai/nlp/pytest/'\n",
    "dummy = gs.set_library(path+'금융규제운영규정.txt')\n",
    "dummy\n",
    "dummy2 = gs.get_sentence_kw(dummy, '금융')\n",
    "dummy2\n",
    "gs.get_csv(dummy2, 'test.csv')\n",
    "!ls"
   ]
  }
 ],
 "metadata": {
  "kernelspec": {
   "display_name": "nlp3710",
   "language": "python",
   "name": "nlp3710"
  },
  "language_info": {
   "codemirror_mode": {
    "name": "ipython",
    "version": 3
   },
   "file_extension": ".py",
   "mimetype": "text/x-python",
   "name": "python",
   "nbconvert_exporter": "python",
   "pygments_lexer": "ipython3",
   "version": "3.7.10"
  },
  "toc": {
   "base_numbering": 1,
   "nav_menu": {},
   "number_sections": true,
   "sideBar": true,
   "skip_h1_title": false,
   "title_cell": "Table of Contents",
   "title_sidebar": "Contents",
   "toc_cell": false,
   "toc_position": {},
   "toc_section_display": true,
   "toc_window_display": false
  }
 },
 "nbformat": 4,
 "nbformat_minor": 5
}
