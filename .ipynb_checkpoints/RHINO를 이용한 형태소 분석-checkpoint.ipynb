{
 "cells": [
  {
   "cell_type": "markdown",
   "id": "7f528f6c",
   "metadata": {},
   "source": [
    "# 시동 걸기 - startRhino()\n",
    " - 형태소 분석을 위한 rhinoMorph 모듈 시작을 알리는 함수\n",
    " - 사전의 내용을 메모리에 올리는 기능\n",
    " - 단 한번만 실행함."
   ]
  },
  {
   "cell_type": "code",
   "execution_count": 4,
   "id": "145cc2da",
   "metadata": {},
   "outputs": [
    {
     "name": "stdout",
     "output_type": "stream",
     "text": [
      "filepath:  /Users/jsha/opt/anaconda3/envs/nlp3710/lib/python3.7/site-packages\n",
      "classpath:  /Users/jsha/opt/anaconda3/envs/nlp3710/lib/python3.7/site-packages/rhinoMorph/lib/rhino.jar\n",
      "JVM is already started~\n",
      "RHINO started!\n"
     ]
    }
   ],
   "source": [
    "import rhinoMorph\n",
    "\n",
    "# 시동 걸기\n",
    "rn = rhinoMorph.startRhino()\n",
    "text = \"한글로 된 한글텍스트를 분석하는 것은 즐겁다.\""
   ]
  },
  {
   "cell_type": "markdown",
   "id": "cc1d8cef",
   "metadata": {},
   "source": [
    "# 형태소 분석 함수 1 - onlyMorph_list()\n",
    " - 그렇게 많이 사용되진 않는다. 왜냐하면 형태소 분석에서는 필요한 정보량을 포함한 \n",
    "    명사류, 동사류 정도만 필요함.\n",
    " - 모든 형태소만 가지고 오되, list 타입으로 반환함.\n",
    " "
   ]
  },
  {
   "cell_type": "code",
   "execution_count": 5,
   "id": "d386d4eb",
   "metadata": {},
   "outputs": [
    {
     "name": "stdout",
     "output_type": "stream",
     "text": [
      "\n",
      "1. 형태소 분석 결과: ['한글', '로', '되', 'ㄴ', '한글', '텍스트', '를', '분석', '하', '는', '것', '은', '즐겁', '다', '.']\n"
     ]
    }
   ],
   "source": [
    "# 형태소 분석 함수 1 : 모든 형태소 보이기\n",
    "text_analyzed = rhinoMorph.onlyMorph_list(rn, text) \n",
    "print('\\n1. 형태소 분석 결과:', text_analyzed)"
   ]
  },
  {
   "cell_type": "markdown",
   "id": "02aa98d8",
   "metadata": {},
   "source": [
    "## onlyMorph_list 옵션 1 - pos\n",
    " - 실질형태소만, 동사의 어말어미는 제외\n",
    " - Part of Speech ==> 품사라고 번역하지만 실은 단어!!\n",
    " - 영어에서는 어떤 어근을 쓸 것인가 의미(영어는 모든 품사가 모든 어근, 단어를 포함함)\n",
    " - 우리나라에서는 실질적 의미 분석을 위해 어떤 어근만을 쓸 것인가 의미(모든 품사가 모든 어근, 단어를 포함하지 못함. 어미 제외)\n",
    " - 우리나라 단어의 조건\n",
    "     - 첫째, 자립할 수 있어야 한다.\n",
    "     - 둘째, 단, 조사는 예외이다."
   ]
  },
  {
   "cell_type": "code",
   "execution_count": 6,
   "id": "908de181",
   "metadata": {},
   "outputs": [
    {
     "name": "stdout",
     "output_type": "stream",
     "text": [
      "\n",
      "2. 형태소 분석 결과: ['한글', '로', '되', 'ㄴ', '한글', '텍스트', '를', '분석', '하', '는', '것', '은', '즐겁', '다', '.']\n"
     ]
    }
   ],
   "source": [
    "text2_analyzed = rhinoMorph.onlyMorph_list(rn, text, pos=['NNG', 'NNP', 'VV', 'VA', 'XR', 'IC', 'MM', 'MAG', 'MAJ'])\n",
    "print('\\n2. 형태소 분석 결과:', text_analyzed)"
   ]
  },
  {
   "cell_type": "markdown",
   "id": "9fc28717",
   "metadata": {},
   "source": [
    "## onlyMorph_list 옵션 2 - eomi\n",
    "- 실질형태소만, 동사의 어말어미 포함\n",
    "- 형용사 등의 뒤에 어미 '다'를 붙여 뜻이 통하게끔 만듦.\n",
    "- 만약 \"되\", \"즐겁\" 이렇게만 형태소 분석이 되었다면 그 의미를 파악하기 어려움.\n",
    "- 의뢰자가 형태소 분석이 잘못됐다고 생각할 수도 있기 때문에 조치가 필요함."
   ]
  },
  {
   "cell_type": "code",
   "execution_count": 7,
   "id": "c52be891",
   "metadata": {},
   "outputs": [
    {
     "name": "stdout",
     "output_type": "stream",
     "text": [
      "\n",
      "3. 형태소 분석 결과: ['한글', '되다', '한글', '텍스트', '분석', '즐겁다']\n"
     ]
    }
   ],
   "source": [
    "text_analyzed = rhinoMorph.onlyMorph_list(rn, text, pos=['NNG', 'NNP', 'VV', 'VA', 'XR', 'IC', 'MM', 'MAG', 'MAJ'], eomi=True)\n",
    "print('\\n3. 형태소 분석 결과:', text_analyzed)"
   ]
  },
  {
   "cell_type": "code",
   "execution_count": null,
   "id": "25652c78",
   "metadata": {},
   "outputs": [],
   "source": []
  }
 ],
 "metadata": {
  "kernelspec": {
   "display_name": "nlp3710",
   "language": "python",
   "name": "nlp3710"
  },
  "language_info": {
   "codemirror_mode": {
    "name": "ipython",
    "version": 3
   },
   "file_extension": ".py",
   "mimetype": "text/x-python",
   "name": "python",
   "nbconvert_exporter": "python",
   "pygments_lexer": "ipython3",
   "version": "3.7.10"
  },
  "toc": {
   "base_numbering": 1,
   "nav_menu": {},
   "number_sections": true,
   "sideBar": true,
   "skip_h1_title": false,
   "title_cell": "Table of Contents",
   "title_sidebar": "Contents",
   "toc_cell": false,
   "toc_position": {},
   "toc_section_display": true,
   "toc_window_display": false
  }
 },
 "nbformat": 4,
 "nbformat_minor": 5
}
