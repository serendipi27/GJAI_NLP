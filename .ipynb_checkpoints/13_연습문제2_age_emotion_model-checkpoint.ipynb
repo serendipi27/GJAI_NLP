{
 "cells": [
  {
   "cell_type": "code",
   "execution_count": 1,
   "id": "d9708eb8",
   "metadata": {},
   "outputs": [],
   "source": [
    "import pandas as pd\n",
    "\n",
    "def read_data(filename, encoding='cp949', start=1):\n",
    "    with open(filename, 'r', encoding=encoding) as f:\n",
    "        data = [line.split('\\t') for line in f.read().splitlines()]\n",
    "        data = data[start:]\n",
    "    return data\n",
    "\n",
    "def write_data(data, filename, encoding='cp949'):\n",
    "    with open(filename, 'w', encoding=encoding) as f:\n",
    "        f.write(data)\n",
    "\n",
    "path = '/Users/jsha/gjai/nlp/pytest/'\n",
    "file = '감성대화말뭉치(최종데이터)_Training.xlsx'\n",
    "\n",
    "df = pd.read_excel(path+file)"
   ]
  },
  {
   "cell_type": "code",
   "execution_count": 2,
   "id": "39f0bfa1",
   "metadata": {},
   "outputs": [
    {
     "name": "stdout",
     "output_type": "stream",
     "text": [
      "<class 'pandas.core.frame.DataFrame'>\n",
      "RangeIndex: 40879 entries, 0 to 40878\n",
      "Data columns (total 15 columns):\n",
      " #   Column  Non-Null Count  Dtype \n",
      "---  ------  --------------  ----- \n",
      " 0   번호      40879 non-null  int64 \n",
      " 1   연령      40879 non-null  object\n",
      " 2   성별      40879 non-null  object\n",
      " 3   상황키워드   40879 non-null  object\n",
      " 4   신체질환    40879 non-null  object\n",
      " 5   감정_대분류  40879 non-null  object\n",
      " 6   감정_소분류  40879 non-null  object\n",
      " 7   사람문장1   40879 non-null  object\n",
      " 8   시스템응답1  40879 non-null  object\n",
      " 9   사람문장2   40879 non-null  object\n",
      " 10  시스템응답2  40879 non-null  object\n",
      " 11  사람문장3   31059 non-null  object\n",
      " 12  시스템응답3  31059 non-null  object\n",
      " 13  사람문장4   1472 non-null   object\n",
      " 14  시스템응답4  1362 non-null   object\n",
      "dtypes: int64(1), object(14)\n",
      "memory usage: 4.7+ MB\n"
     ]
    }
   ],
   "source": [
    "df.info()"
   ]
  },
  {
   "cell_type": "code",
   "execution_count": 3,
   "id": "259f1558",
   "metadata": {},
   "outputs": [
    {
     "name": "stdout",
     "output_type": "stream",
     "text": [
      "<class 'pandas.core.frame.DataFrame'>\n",
      "RangeIndex: 40879 entries, 0 to 40878\n",
      "Data columns (total 6 columns):\n",
      " #   Column  Non-Null Count  Dtype \n",
      "---  ------  --------------  ----- \n",
      " 0   연령      40879 non-null  object\n",
      " 1   감정_대분류  40879 non-null  object\n",
      " 2   사람문장1   40879 non-null  object\n",
      " 3   사람문장2   40879 non-null  object\n",
      " 4   사람문장3   31059 non-null  object\n",
      " 5   사람문장4   1472 non-null   object\n",
      "dtypes: object(6)\n",
      "memory usage: 1.9+ MB\n"
     ]
    }
   ],
   "source": [
    "df = df[['연령', '감정_대분류', '사람문장1', '사람문장2', '사람문장3', '사람문장4']]\n",
    "df.info()"
   ]
  },
  {
   "cell_type": "code",
   "execution_count": 7,
   "id": "4bb3d149",
   "metadata": {},
   "outputs": [
    {
     "data": {
      "text/plain": [
       "연령        0\n",
       "감정_대분류    0\n",
       "사람문장1     0\n",
       "사람문장2     0\n",
       "사람문장3     0\n",
       "사람문장4     0\n",
       "dtype: int64"
      ]
     },
     "execution_count": 7,
     "metadata": {},
     "output_type": "execute_result"
    }
   ],
   "source": [
    "new_df = df.fillna('')\n",
    "new_df.isnull().sum()"
   ]
  },
  {
   "cell_type": "code",
   "execution_count": 8,
   "id": "d36b22a3",
   "metadata": {},
   "outputs": [],
   "source": [
    "data = new_df.iloc[:,2:].to_numpy()\n",
    "data = [' '.join(ar).rstrip() for ar in data]"
   ]
  },
  {
   "cell_type": "code",
   "execution_count": 9,
   "id": "4265c9e0",
   "metadata": {},
   "outputs": [
    {
     "name": "stdout",
     "output_type": "stream",
     "text": [
      "40879\n",
      "40879\n"
     ]
    }
   ],
   "source": [
    "print(len(data))\n",
    "print(len(new_df.iloc[:,0]))"
   ]
  },
  {
   "cell_type": "code",
   "execution_count": 10,
   "id": "eba06f7d",
   "metadata": {},
   "outputs": [
    {
     "name": "stdout",
     "output_type": "stream",
     "text": [
      "filepath:  /Users/jsha/opt/anaconda3/envs/nlp3710/lib/python3.7/site-packages\n",
      "classpath:  /Users/jsha/opt/anaconda3/envs/nlp3710/lib/python3.7/site-packages/rhinoMorph/lib/rhino.jar\n",
      "RHINO started!\n"
     ]
    },
    {
     "name": "stderr",
     "output_type": "stream",
     "text": [
      "100%|██████████| 40879/40879 [00:44<00:00, 917.54it/s] \n"
     ]
    }
   ],
   "source": [
    "from tqdm import tqdm\n",
    "import rhinoMorph\n",
    "rn = rhinoMorph.startRhino()\n",
    "\n",
    "morphed_data = []\n",
    "morphed_text = ''\n",
    "for data_each in tqdm(data):\n",
    "    morphed_data_each = rhinoMorph.onlyMorph_list(rn, \n",
    "                        data_each, pos=['NNG', 'NNP', 'VV',\n",
    "                        'VA', 'XR', 'IC', 'MM', 'MAG', 'MAJ'])\n",
    "    joined_data_each = ' '.join(morphed_data_each)\n",
    "    if joined_data_each:\n",
    "        morphed_data.append(joined_data_each)\n",
    "        morphed_text += joined_data_each + '\\n'\n"
   ]
  },
  {
   "cell_type": "code",
   "execution_count": 12,
   "id": "270b1dee",
   "metadata": {},
   "outputs": [],
   "source": [
    "# path = '/Users/jsha/gjai/nlp/pytest/'\n",
    "# with open(path+'감성대화말뭉치(최종데이터)_Training_morphed.txt', 'w') as file:\n",
    "#     file.write(morphed_text)"
   ]
  },
  {
   "cell_type": "code",
   "execution_count": 14,
   "id": "9d5e836c",
   "metadata": {},
   "outputs": [
    {
     "name": "stdout",
     "output_type": "stream",
     "text": [
      "자료 타입: <class 'list'>\n",
      "전체 문장수: 0\n",
      "형태소 분석 전 모습: []\n"
     ]
    }
   ],
   "source": [
    "# from matplotlib import rc\n",
    "# rc('font', family='AppleGothic')\n",
    "\n",
    "# # 데이터 읽기와 쓰기를 위한 사용자 함수\n",
    "# def read_data(filename, encoding='cp949', start=1):\n",
    "#     with open(filename, 'r', encoding=encoding) as f:\n",
    "#         data = [line.split('\\t') for line in f.read().splitlines()]\n",
    "#         data = data[start:]\n",
    "#     return data\n",
    "\n",
    "# def write_data(data, filename, encoding='cp949'):\n",
    "#     with open(filename, 'w', encoding=encoding) as f:\n",
    "#         f.write(data)\n",
    "\n",
    "# dummy = read_data(path+'감성대화말뭉치(최종데이터)_Training_morphed.txt', encoding='utf-8')\n",
    "# print('자료 타입:', type(dummy))\n",
    "# print('전체 문장수:', len(dummy))\n",
    "# print('형태소 분석 전 모습:', dummy[:5])"
   ]
  },
  {
   "cell_type": "markdown",
   "id": "76c69749",
   "metadata": {},
   "source": [
    "# 연령 분류"
   ]
  },
  {
   "cell_type": "code",
   "execution_count": 10,
   "id": "bc9c1011",
   "metadata": {},
   "outputs": [
    {
     "name": "stdout",
     "output_type": "stream",
     "text": [
      "40879\n"
     ]
    }
   ],
   "source": [
    "from sklearn.model_selection import train_test_split\n",
    "\n",
    "print(len(morphed_data))\n",
    "data_text = data\n",
    "data_age = new_df.iloc[:,0].to_list()\n",
    "# data_senti = new_df.iloc[:,1].to_list()\n",
    "\n",
    "train_data_text, test_data_text, train_data_age, test_data_age = \\\n",
    "train_test_split(data_text, data_age, stratify=data_age, \n",
    "                 test_size=0.3, random_state=1111)"
   ]
  },
  {
   "cell_type": "code",
   "execution_count": 11,
   "id": "bb8d7664",
   "metadata": {},
   "outputs": [
    {
     "name": "stdout",
     "output_type": "stream",
     "text": [
      "train_data_age_freq: Counter({'청년': 8753, '중년': 7620, '노년': 7105, '청소년': 5137})\n",
      "test_data_age_freq: Counter({'청년': 3752, '중년': 3265, '노년': 3045, '청소년': 2202})\n"
     ]
    }
   ],
   "source": [
    "from collections import Counter\n",
    "train_data_age_freq = Counter(train_data_age)\n",
    "print('train_data_age_freq:', train_data_age_freq)\n",
    "\n",
    "test_data_age_freq = Counter(test_data_age)\n",
    "print('test_data_age_freq:', test_data_age_freq)\n"
   ]
  },
  {
   "cell_type": "code",
   "execution_count": null,
   "id": "ebea7dd0",
   "metadata": {},
   "outputs": [],
   "source": []
  },
  {
   "cell_type": "code",
   "execution_count": 12,
   "id": "f9596f2f",
   "metadata": {},
   "outputs": [],
   "source": [
    "test_data_text = test_data_text[:3000]\n",
    "test_data_age = test_data_age[:3000]"
   ]
  },
  {
   "cell_type": "code",
   "execution_count": 13,
   "id": "dd23a0b0",
   "metadata": {},
   "outputs": [
    {
     "name": "stdout",
     "output_type": "stream",
     "text": [
      "최소길이: 4\n",
      "최대길이: 88\n",
      "평균길이: 25.6\n",
      "중위수길이: 26.0\n",
      "구간별 최대 길이: [ 4. 20. 26. 31. 36. 45. 88.]\n",
      "최소길이 문장: 선생님께 감사해. 학교폭력을 없앴어.\n",
      "최대길이 문장: 어제 우리 아들이 무슨 잘못을 해서 야단을 좀 쳤는데 글쎄 걔 말이 엄마가 자기한테 해 준 게 뭐가 있냐고 하는데 기가 막히네. 내가 애들 뒷바라지를 하느라 얼마나 고생을 했는데. 아들이 그림을 좀 잘 그리는 편이긴 한데 내가 미대는 절대 안 된다고 하고 그림 도구 같은 걸 다 버렸거든. 근데 부모가 돼서 자식 진로에 대한 결정은 할 수 있지 않겠어? 애가 공부할 시간도 없는데 틈만 나면 붓을 잡고 있으니 나도 화가 나서 그랬지. 아들한테 좀 미안한 마음은 있긴 한데 그렇다고 부모한테 그렇게 말을 하는 게 더 나쁜 거 아닌가?\n"
     ]
    }
   ],
   "source": [
    "import numpy as np\n",
    "\n",
    "text_len = [len(line.split(' ')) for line in train_data_text]\n",
    "print('최소길이:', np.min(text_len))\n",
    "print('최대길이:', np.max(text_len))\n",
    "print('평균길이:', np.round(np.mean(text_len),1))\n",
    "print('중위수길이:', np.median(text_len))\n",
    "print('구간별 최대 길이:', np.percentile(text_len, [0, 25, 50, 75, 90, 99, 100]))\n",
    "print('최소길이 문장:', train_data_text[np.argmin(text_len)])\n",
    "print('최대길이 문장:', train_data_text[np.argmax(text_len)])"
   ]
  },
  {
   "cell_type": "code",
   "execution_count": 14,
   "id": "88f1c3f1",
   "metadata": {},
   "outputs": [
    {
     "name": "stderr",
     "output_type": "stream",
     "text": [
      "Using TensorFlow backend.\n"
     ]
    }
   ],
   "source": [
    "from keras.preprocessing.text import Tokenizer\n",
    "from keras.preprocessing.sequence import pad_sequences\n",
    "import numpy as np\n",
    "import math \n",
    "\n",
    "max_words = 20000\n",
    "maxlen = 40\n",
    "\n",
    "tokenizer = Tokenizer(num_words=max_words)\n",
    "tokenizer.fit_on_texts(train_data_text)\n",
    "word_index = tokenizer.word_index"
   ]
  },
  {
   "cell_type": "code",
   "execution_count": 15,
   "id": "b4140207",
   "metadata": {},
   "outputs": [
    {
     "name": "stdout",
     "output_type": "stream",
     "text": [
      "wjscpdptj 75890개의 고유한 토큰을 찾았습니다\n",
      "word_index type: <class 'dict'>\n"
     ]
    }
   ],
   "source": [
    "print('wjscpdptj %s개의 고유한 토큰을 찾았습니다' % len(word_index))\n",
    "print('word_index type:', type(word_index))\n",
    "# print('word_index:', word_index)"
   ]
  },
  {
   "cell_type": "code",
   "execution_count": 16,
   "id": "8019ea5a",
   "metadata": {},
   "outputs": [
    {
     "name": "stdout",
     "output_type": "stream",
     "text": [
      "최대 문장 길이: 83\n",
      "최소 문장 길이: 2\n"
     ]
    }
   ],
   "source": [
    "seq_data = tokenizer.texts_to_sequences(train_data_text)\n",
    "# print('data', data)\n",
    "\n",
    "len_d = [len(d) for d in data]\n",
    "# print('길이:', len_d)\n",
    "print('최대 문장 길이:', max(len_d))\n",
    "print('최소 문장 길이:', min(len_d))"
   ]
  },
  {
   "cell_type": "code",
   "execution_count": 17,
   "id": "ccb62ef0",
   "metadata": {},
   "outputs": [
    {
     "name": "stdout",
     "output_type": "stream",
     "text": [
      "data: [[   0    0    0 ... 1800 1389   24]\n",
      " [   0    0    0 ...    4   44    7]\n",
      " [   0    0    0 ...  516   73 7810]\n",
      " ...\n",
      " [   0    0    0 ... 1460  126 2109]\n",
      " [   0    0    0 ... 6770 1119  159]\n",
      " [   0    0    0 ... 3261    9  303]]\n",
      "data 0: [    0     0     0     0     0     0     0     0     0     0  1212    21\n",
      "  2909   266     2     4    88 10574  2639   593  7809    85  1212     1\n",
      " 14252  2160   688   881  1051   581  2841    24     3   280   393  2711\n",
      "  3394  1800  1389    24]\n",
      "data 0의 길이: 40\n"
     ]
    }
   ],
   "source": [
    "pad_data = pad_sequences(seq_data, maxlen=maxlen)\n",
    "\n",
    "print('data:', pad_data)\n",
    "print('data 0:', pad_data[0])\n",
    "print('data 0의 길이:', len(pad_data[0]))"
   ]
  },
  {
   "cell_type": "code",
   "execution_count": 18,
   "id": "cd5ea33f",
   "metadata": {},
   "outputs": [
    {
     "name": "stdout",
     "output_type": "stream",
     "text": [
      "train_data_text type: <class 'list'>\n",
      "data type: <class 'numpy.ndarray'>\n",
      "train_data_text 0: 팀장님이 나를 좋아하지 않는 것 같아. 나만 제외하고 팀원들에게 밥을 사주셨어. 맞아. 팀장님이 너무 미워졌어. 팀장님께 이유를 물어보고 관계를 좋게 유지하고 싶어. 내가 오해했을 수도 있으니 서로의 입장을 자세히 이야기하고 싶어.\n",
      "data 0: [    0     0     0     0     0     0     0     0     0     0  1212    21\n",
      "  2909   266     2     4    88 10574  2639   593  7809    85  1212     1\n",
      " 14252  2160   688   881  1051   581  2841    24     3   280   393  2711\n",
      "  3394  1800  1389    24]\n"
     ]
    }
   ],
   "source": [
    "print('train_data_text type:', type(train_data_text))\n",
    "print('data type:', type(pad_data))\n",
    "print('train_data_text 0:', train_data_text[0])\n",
    "print('data 0:', pad_data[0])"
   ]
  },
  {
   "cell_type": "code",
   "execution_count": 19,
   "id": "835bce3a",
   "metadata": {},
   "outputs": [],
   "source": [
    "def to_one_hot(sequences, dimension):\n",
    "    results = np.zeros((len(sequences), dimension))\n",
    "    for i, sequence in enumerate(sequences):\n",
    "        results[i, sequence] = 1.\n",
    "    return results\n",
    "\n",
    "x_train = to_one_hot(pad_data, dimension=max_words)"
   ]
  },
  {
   "cell_type": "code",
   "execution_count": 20,
   "id": "cfb18260",
   "metadata": {},
   "outputs": [
    {
     "name": "stdout",
     "output_type": "stream",
     "text": [
      "train_data_text type: <class 'list'>\n",
      "129\n",
      "texts 0: 팀장님이 나를 좋아하지 않는 것 같아. 나만 제외하고 팀원들에게 밥을 사주셨어. 맞아. 팀장님이 너무 미워졌어. 팀장님께 이유를 물어보고 관계를 좋게 유지하고 싶어. 내가 오해했을 수도 있으니 서로의 입장을 자세히 이야기하고 싶어.\n",
      "data type: <class 'numpy.ndarray'>\n",
      "20000\n",
      "x_train [0][0:100]: [1. 1. 1. 1. 1. 0. 0. 0. 0. 0. 0. 0. 0. 0. 0. 0. 0. 0. 0. 0. 0. 1. 0. 0.\n",
      " 1. 0. 0. 0. 0. 0. 0. 0. 0. 0. 0. 0. 0. 0. 0. 0. 0. 0. 0. 0. 0. 0. 0. 0.\n",
      " 0. 0. 0. 0. 0. 0. 0. 0. 0. 0. 0. 0. 0. 0. 0. 0. 0. 0. 0. 0. 0. 0. 0. 0.\n",
      " 0. 0. 0. 0. 0. 0. 0. 0. 0. 0. 0. 0. 0. 1. 0. 0. 1. 0. 0. 0. 0. 0. 0. 0.\n",
      " 0. 0. 0. 0.]\n"
     ]
    }
   ],
   "source": [
    "print('train_data_text type:', type(train_data_text))\n",
    "print(len(train_data_text[0]))\n",
    "print('texts 0:', train_data_text[0])\n",
    "\n",
    "print('data type:', type(x_train))\n",
    "print(len(x_train[0]))\n",
    "print('x_train [0][0:100]:', x_train[0][:100])"
   ]
  },
  {
   "cell_type": "code",
   "execution_count": 21,
   "id": "95c8008c",
   "metadata": {},
   "outputs": [
    {
     "name": "stdout",
     "output_type": "stream",
     "text": [
      "['노년' '중년' '청년' '청소년']\n"
     ]
    }
   ],
   "source": [
    "from sklearn.preprocessing import LabelEncoder\n",
    "le_age = LabelEncoder()\n",
    "le_age.fit(train_data_age)\n",
    "print(le_age.classes_)\n",
    "train_data_age = le_age.transform(train_data_age)"
   ]
  },
  {
   "cell_type": "code",
   "execution_count": 23,
   "id": "b94a25dc",
   "metadata": {},
   "outputs": [],
   "source": [
    "test_data_age = le_age.transform(test_data_age)"
   ]
  },
  {
   "cell_type": "code",
   "execution_count": 22,
   "id": "fac2a638",
   "metadata": {},
   "outputs": [
    {
     "name": "stdout",
     "output_type": "stream",
     "text": [
      "[[0. 0. 1. 0.]\n",
      " [0. 0. 0. 1.]\n",
      " [1. 0. 0. 0.]\n",
      " ...\n",
      " [0. 1. 0. 0.]\n",
      " [0. 0. 1. 0.]\n",
      " [0. 0. 1. 0.]]\n"
     ]
    }
   ],
   "source": [
    "class_number = len(le_age.classes_)\n",
    "y_train = to_one_hot(train_data_age, dimension=class_number)\n",
    "print(y_train)"
   ]
  },
  {
   "cell_type": "code",
   "execution_count": 24,
   "id": "750654f9",
   "metadata": {},
   "outputs": [
    {
     "name": "stdout",
     "output_type": "stream",
     "text": [
      "[[0. 0. 1. 0.]\n",
      " [0. 0. 0. 1.]\n",
      " [1. 0. 0. 0.]\n",
      " ...\n",
      " [1. 0. 0. 0.]\n",
      " [0. 1. 0. 0.]\n",
      " [0. 1. 0. 0.]]\n"
     ]
    }
   ],
   "source": [
    "data_test = tokenizer.texts_to_sequences(test_data_text)\n",
    "\n",
    "data_test = pad_sequences(data_test, maxlen=maxlen)\n",
    "\n",
    "x_test = to_one_hot(data_test, dimension=max_words)\n",
    "\n",
    "y_test = to_one_hot(test_data_age, dimension=class_number)\n",
    "print(y_test)"
   ]
  },
  {
   "cell_type": "code",
   "execution_count": 25,
   "id": "d2851ad3",
   "metadata": {},
   "outputs": [
    {
     "name": "stdout",
     "output_type": "stream",
     "text": [
      "훈련 데이터 본문 텐서의 크기: (28615, 20000)\n",
      "훈련 데이터 레이블 텐서의 크기: (28615, 4)\n",
      "테스트 데이터 본문 텐서의 크기: (3000, 20000)\n",
      "테스트 데이터 레이블 텐서의 크기: (3000, 4)\n"
     ]
    }
   ],
   "source": [
    "print('훈련 데이터 본문 텐서의 크기:', x_train.shape)\n",
    "print('훈련 데이터 레이블 텐서의 크기:', y_train.shape)\n",
    "\n",
    "print('테스트 데이터 본문 텐서의 크기:', x_test.shape)\n",
    "print('테스트 데이터 레이블 텐서의 크기:', y_test.shape)"
   ]
  },
  {
   "cell_type": "code",
   "execution_count": 26,
   "id": "e97a96c6",
   "metadata": {},
   "outputs": [],
   "source": [
    "epochs = 10\n",
    "batch_size = 100\n",
    "model_name = 'train_data_age_morphed.h5'\n",
    "tokenizer_name = 'train_data_age_morphed.pickle'"
   ]
  },
  {
   "cell_type": "code",
   "execution_count": 35,
   "id": "02a7b5d4",
   "metadata": {},
   "outputs": [
    {
     "name": "stdout",
     "output_type": "stream",
     "text": [
      "Model: \"sequential_2\"\n",
      "_________________________________________________________________\n",
      "Layer (type)                 Output Shape              Param #   \n",
      "=================================================================\n",
      "dense_4 (Dense)              (None, 64)                1280064   \n",
      "_________________________________________________________________\n",
      "dense_5 (Dense)              (None, 32)                2080      \n",
      "_________________________________________________________________\n",
      "dense_6 (Dense)              (None, 4)                 132       \n",
      "=================================================================\n",
      "Total params: 1,282,276\n",
      "Trainable params: 1,282,276\n",
      "Non-trainable params: 0\n",
      "_________________________________________________________________\n"
     ]
    }
   ],
   "source": [
    "from keras.models import Sequential\n",
    "from keras.layers import Dense\n",
    "\n",
    "model = Sequential()\n",
    "\n",
    "model.add(Dense(64, activation='relu', input_shape=(max_words,)))\n",
    "model.add(Dense(units=32, activation='relu'))\n",
    "model.add(Dense(units=class_number, activation='softmax'))\n",
    "\n",
    "model.summary()"
   ]
  },
  {
   "cell_type": "code",
   "execution_count": 36,
   "id": "6b366973",
   "metadata": {},
   "outputs": [
    {
     "name": "stdout",
     "output_type": "stream",
     "text": [
      "/Users/jsha/gjai/nlp/pytest/13_연습문제2/ --- Folder already exists\n",
      "\n"
     ]
    }
   ],
   "source": [
    "from keras.callbacks import EarlyStopping\n",
    "import os\n",
    "\n",
    "checkpoint_path = path + '13_연습문제2/'\n",
    "# checkpoint_dir = os.path.dirname(checkpoint_path)\n",
    "if os.path.exists(checkpoint_path):\n",
    "    print('{} --- Folder already exists\\n'.format(checkpoint_path))\n",
    "else:\n",
    "    os.makedirs(checkpoint_path, exist_ok=True)\n",
    "    print('{} --- Folder created\\n'.format(checkpoint_path))"
   ]
  },
  {
   "cell_type": "code",
   "execution_count": 37,
   "id": "8415c22d",
   "metadata": {},
   "outputs": [],
   "source": [
    "model.compile(optimizer='rmsprop', loss='categorical_crossentropy',\n",
    "             metrics=['acc'])"
   ]
  },
  {
   "cell_type": "code",
   "execution_count": 38,
   "id": "c7f6291f",
   "metadata": {},
   "outputs": [
    {
     "name": "stdout",
     "output_type": "stream",
     "text": [
      "Train on 20030 samples, validate on 8585 samples\n",
      "Epoch 1/10\n",
      "20030/20030 [==============================] - 6s 294us/step - loss: 0.9212 - acc: 0.6284 - val_loss: 0.6876 - val_acc: 0.7222\n",
      "\n",
      "Epoch 00001: val_acc improved from -inf to 0.72219, saving model to /Users/jsha/gjai/nlp/pytest/13_연습문제2/train_data_age_morphed.h5\n",
      "Epoch 2/10\n",
      "20030/20030 [==============================] - 6s 281us/step - loss: 0.4723 - acc: 0.8233 - val_loss: 0.6926 - val_acc: 0.7285\n",
      "\n",
      "Epoch 00002: val_acc improved from 0.72219 to 0.72848, saving model to /Users/jsha/gjai/nlp/pytest/13_연습문제2/train_data_age_morphed.h5\n",
      "Epoch 3/10\n",
      "20030/20030 [==============================] - 6s 280us/step - loss: 0.3218 - acc: 0.8850 - val_loss: 0.7230 - val_acc: 0.7361\n",
      "\n",
      "Epoch 00003: val_acc improved from 0.72848 to 0.73605, saving model to /Users/jsha/gjai/nlp/pytest/13_연습문제2/train_data_age_morphed.h5\n",
      "Epoch 4/10\n",
      "20030/20030 [==============================] - 6s 283us/step - loss: 0.2277 - acc: 0.9209 - val_loss: 0.8356 - val_acc: 0.7207\n",
      "\n",
      "Epoch 00004: val_acc did not improve from 0.73605\n",
      "Epoch 5/10\n",
      "20030/20030 [==============================] - 6s 280us/step - loss: 0.1656 - acc: 0.9437 - val_loss: 0.9199 - val_acc: 0.7229\n",
      "\n",
      "Epoch 00005: val_acc did not improve from 0.73605\n"
     ]
    }
   ],
   "source": [
    "from keras.callbacks import ModelCheckpoint\n",
    "earlystop_callback = EarlyStopping(monitor='val_acc', patience=2)\n",
    "cp_callback = ModelCheckpoint(filepath=checkpoint_path+model_name,\n",
    "                             monitor='val_acc', verbose=1, \n",
    "                             save_best_only=True)\n",
    "history = model.fit(x_train, y_train, epochs=epochs,\n",
    "                   batch_size=batch_size, validation_split=0.3,\n",
    "                   callbacks=[earlystop_callback, cp_callback], verbose=1)\n",
    "history_dict = history.history"
   ]
  },
  {
   "cell_type": "code",
   "execution_count": 39,
   "id": "e07666d7",
   "metadata": {},
   "outputs": [],
   "source": [
    "import pickle\n",
    "\n",
    "# model.save(model_name)\n",
    "\n",
    "with open(checkpoint_path+tokenizer_name, 'wb') as file:\n",
    "    pickle.dump(tokenizer, file, protocol=pickle.HIGHEST_PROTOCOL)\n"
   ]
  },
  {
   "cell_type": "code",
   "execution_count": 40,
   "id": "343ab4f0",
   "metadata": {},
   "outputs": [
    {
     "name": "stdout",
     "output_type": "stream",
     "text": [
      "validation accuracy of each epoch: [0.722 0.728 0.736 0.721 0.723]\n"
     ]
    }
   ],
   "source": [
    "acc = history.history['acc']\n",
    "val_acc = history.history['val_acc']\n",
    "loss = history.history['loss']\n",
    "val_loss = history.history['val_loss']\n",
    "\n",
    "print('validation accuracy of each epoch:', np.round(val_acc,3))\n",
    "epochs = range(1, len(val_acc)+1)"
   ]
  },
  {
   "cell_type": "code",
   "execution_count": 41,
   "id": "144bc927",
   "metadata": {},
   "outputs": [
    {
     "data": {
      "image/png": "[encoded data removed]",
      "text/plain": [
       "<Figure size 432x288 with 1 Axes>"
      ]
     },
     "metadata": {
      "needs_background": "light"
     },
     "output_type": "display_data"
    }
   ],
   "source": [
    "import matplotlib.pyplot as plt\n",
    "\n",
    "plt.plot(epochs, acc, 'bo', label='Training Acc')\n",
    "plt.plot(epochs, val_acc, 'r', label='Validation Acc')\n",
    "plt.title('Training and Validation Accuracy')\n",
    "plt.legend(loc=4)\n",
    "plt.show()"
   ]
  },
  {
   "cell_type": "code",
   "execution_count": 42,
   "id": "1bc78874",
   "metadata": {
    "scrolled": true
   },
   "outputs": [
    {
     "data": {
      "image/png": "[encoded data removed]",
      "text/plain": [
       "<Figure size 432x288 with 1 Axes>"
      ]
     },
     "metadata": {
      "needs_background": "light"
     },
     "output_type": "display_data"
    }
   ],
   "source": [
    "plt.plot(epochs, loss, 'bo', label='Training Loss')\n",
    "plt.plot(epochs, val_loss, 'r', label='Validation Loss')\n",
    "plt.title('Training and Validation loss')\n",
    "plt.legend(loc=1)\n",
    "plt.show()"
   ]
  },
  {
   "cell_type": "code",
   "execution_count": null,
   "id": "4aaad272",
   "metadata": {},
   "outputs": [],
   "source": []
  },
  {
   "cell_type": "code",
   "execution_count": null,
   "id": "bb96c9b8",
   "metadata": {},
   "outputs": [],
   "source": []
  },
  {
   "cell_type": "code",
   "execution_count": null,
   "id": "0f3ba6f9",
   "metadata": {},
   "outputs": [],
   "source": []
  },
  {
   "cell_type": "code",
   "execution_count": null,
   "id": "0a36b9d5",
   "metadata": {},
   "outputs": [],
   "source": []
  },
  {
   "cell_type": "code",
   "execution_count": null,
   "id": "289bb5bd",
   "metadata": {},
   "outputs": [],
   "source": []
  },
  {
   "cell_type": "code",
   "execution_count": null,
   "id": "299bf551",
   "metadata": {},
   "outputs": [],
   "source": []
  },
  {
   "cell_type": "markdown",
   "id": "a3bf3e7c",
   "metadata": {},
   "source": [
    "# 감정 분류"
   ]
  },
  {
   "cell_type": "code",
   "execution_count": 17,
   "id": "7670baf4",
   "metadata": {},
   "outputs": [
    {
     "data": {
      "text/plain": [
       "Index(['연령', '감정_대분류', '사람문장1', '사람문장2', '사람문장3', '사람문장4'], dtype='object')"
      ]
     },
     "execution_count": 17,
     "metadata": {},
     "output_type": "execute_result"
    }
   ],
   "source": [
    "new_df.columns"
   ]
  },
  {
   "cell_type": "code",
   "execution_count": 15,
   "id": "44253209",
   "metadata": {},
   "outputs": [
    {
     "name": "stdout",
     "output_type": "stream",
     "text": [
      "40879\n"
     ]
    },
    {
     "ename": "ValueError",
     "evalue": "The least populated class in y has only 1 member, which is too few. The minimum number of groups for any class cannot be less than 2.",
     "output_type": "error",
     "traceback": [
      "\u001b[0;31m---------------------------------------------------------------------------\u001b[0m",
      "\u001b[0;31mValueError\u001b[0m                                Traceback (most recent call last)",
      "\u001b[0;32m<ipython-input-15-8bcff6758a93>\u001b[0m in \u001b[0;36m<module>\u001b[0;34m\u001b[0m\n\u001b[1;32m      8\u001b[0m \u001b[0mtrain_data_text\u001b[0m\u001b[0;34m,\u001b[0m \u001b[0mtest_data_text\u001b[0m\u001b[0;34m,\u001b[0m \u001b[0mtrain_data_label\u001b[0m\u001b[0;34m,\u001b[0m \u001b[0mtest_data_label\u001b[0m \u001b[0;34m=\u001b[0m\u001b[0;31m \u001b[0m\u001b[0;31m\\\u001b[0m\u001b[0;34m\u001b[0m\u001b[0;34m\u001b[0m\u001b[0m\n\u001b[1;32m      9\u001b[0m train_test_split(data_text, data_label, stratify=data_label, \n\u001b[0;32m---> 10\u001b[0;31m                  test_size=0.3, random_state=1111)\n\u001b[0m",
      "\u001b[0;32m~/opt/anaconda3/envs/nlp3710/lib/python3.7/site-packages/sklearn/model_selection/_split.py\u001b[0m in \u001b[0;36mtrain_test_split\u001b[0;34m(test_size, train_size, random_state, shuffle, stratify, *arrays)\u001b[0m\n\u001b[1;32m   2195\u001b[0m                      random_state=random_state)\n\u001b[1;32m   2196\u001b[0m \u001b[0;34m\u001b[0m\u001b[0m\n\u001b[0;32m-> 2197\u001b[0;31m         \u001b[0mtrain\u001b[0m\u001b[0;34m,\u001b[0m \u001b[0mtest\u001b[0m \u001b[0;34m=\u001b[0m \u001b[0mnext\u001b[0m\u001b[0;34m(\u001b[0m\u001b[0mcv\u001b[0m\u001b[0;34m.\u001b[0m\u001b[0msplit\u001b[0m\u001b[0;34m(\u001b[0m\u001b[0mX\u001b[0m\u001b[0;34m=\u001b[0m\u001b[0marrays\u001b[0m\u001b[0;34m[\u001b[0m\u001b[0;36m0\u001b[0m\u001b[0;34m]\u001b[0m\u001b[0;34m,\u001b[0m \u001b[0my\u001b[0m\u001b[0;34m=\u001b[0m\u001b[0mstratify\u001b[0m\u001b[0;34m)\u001b[0m\u001b[0;34m)\u001b[0m\u001b[0;34m\u001b[0m\u001b[0;34m\u001b[0m\u001b[0m\n\u001b[0m\u001b[1;32m   2198\u001b[0m \u001b[0;34m\u001b[0m\u001b[0m\n\u001b[1;32m   2199\u001b[0m     return list(chain.from_iterable((_safe_indexing(a, train),\n",
      "\u001b[0;32m~/opt/anaconda3/envs/nlp3710/lib/python3.7/site-packages/sklearn/model_selection/_split.py\u001b[0m in \u001b[0;36msplit\u001b[0;34m(self, X, y, groups)\u001b[0m\n\u001b[1;32m   1385\u001b[0m         \"\"\"\n\u001b[1;32m   1386\u001b[0m         \u001b[0mX\u001b[0m\u001b[0;34m,\u001b[0m \u001b[0my\u001b[0m\u001b[0;34m,\u001b[0m \u001b[0mgroups\u001b[0m \u001b[0;34m=\u001b[0m \u001b[0mindexable\u001b[0m\u001b[0;34m(\u001b[0m\u001b[0mX\u001b[0m\u001b[0;34m,\u001b[0m \u001b[0my\u001b[0m\u001b[0;34m,\u001b[0m \u001b[0mgroups\u001b[0m\u001b[0;34m)\u001b[0m\u001b[0;34m\u001b[0m\u001b[0;34m\u001b[0m\u001b[0m\n\u001b[0;32m-> 1387\u001b[0;31m         \u001b[0;32mfor\u001b[0m \u001b[0mtrain\u001b[0m\u001b[0;34m,\u001b[0m \u001b[0mtest\u001b[0m \u001b[0;32min\u001b[0m \u001b[0mself\u001b[0m\u001b[0;34m.\u001b[0m\u001b[0m_iter_indices\u001b[0m\u001b[0;34m(\u001b[0m\u001b[0mX\u001b[0m\u001b[0;34m,\u001b[0m \u001b[0my\u001b[0m\u001b[0;34m,\u001b[0m \u001b[0mgroups\u001b[0m\u001b[0;34m)\u001b[0m\u001b[0;34m:\u001b[0m\u001b[0;34m\u001b[0m\u001b[0;34m\u001b[0m\u001b[0m\n\u001b[0m\u001b[1;32m   1388\u001b[0m             \u001b[0;32myield\u001b[0m \u001b[0mtrain\u001b[0m\u001b[0;34m,\u001b[0m \u001b[0mtest\u001b[0m\u001b[0;34m\u001b[0m\u001b[0;34m\u001b[0m\u001b[0m\n\u001b[1;32m   1389\u001b[0m \u001b[0;34m\u001b[0m\u001b[0m\n",
      "\u001b[0;32m~/opt/anaconda3/envs/nlp3710/lib/python3.7/site-packages/sklearn/model_selection/_split.py\u001b[0m in \u001b[0;36m_iter_indices\u001b[0;34m(self, X, y, groups)\u001b[0m\n\u001b[1;32m   1713\u001b[0m         \u001b[0mclass_counts\u001b[0m \u001b[0;34m=\u001b[0m \u001b[0mnp\u001b[0m\u001b[0;34m.\u001b[0m\u001b[0mbincount\u001b[0m\u001b[0;34m(\u001b[0m\u001b[0my_indices\u001b[0m\u001b[0;34m)\u001b[0m\u001b[0;34m\u001b[0m\u001b[0;34m\u001b[0m\u001b[0m\n\u001b[1;32m   1714\u001b[0m         \u001b[0;32mif\u001b[0m \u001b[0mnp\u001b[0m\u001b[0;34m.\u001b[0m\u001b[0mmin\u001b[0m\u001b[0;34m(\u001b[0m\u001b[0mclass_counts\u001b[0m\u001b[0;34m)\u001b[0m \u001b[0;34m<\u001b[0m \u001b[0;36m2\u001b[0m\u001b[0;34m:\u001b[0m\u001b[0;34m\u001b[0m\u001b[0;34m\u001b[0m\u001b[0m\n\u001b[0;32m-> 1715\u001b[0;31m             raise ValueError(\"The least populated class in y has only 1\"\n\u001b[0m\u001b[1;32m   1716\u001b[0m                              \u001b[0;34m\" member, which is too few. The minimum\"\u001b[0m\u001b[0;34m\u001b[0m\u001b[0;34m\u001b[0m\u001b[0m\n\u001b[1;32m   1717\u001b[0m                              \u001b[0;34m\" number of groups for any class cannot\"\u001b[0m\u001b[0;34m\u001b[0m\u001b[0;34m\u001b[0m\u001b[0m\n",
      "\u001b[0;31mValueError\u001b[0m: The least populated class in y has only 1 member, which is too few. The minimum number of groups for any class cannot be less than 2."
     ]
    }
   ],
   "source": [
    "from sklearn.model_selection import train_test_split\n",
    "\n",
    "print(len(morphed_data))\n",
    "data_text = data\n",
    "# data_age = new_df.iloc[:,0].to_list()\n",
    "data_label = new_df.iloc[:,1].to_list()\n",
    "\n",
    "train_data_text, test_data_text, train_data_label, test_data_label = \\\n",
    "train_test_split(data_text, data_label, stratify=data_label, \n",
    "                 test_size=0.3, random_state=1111)"
   ]
  },
  {
   "cell_type": "code",
   "execution_count": 11,
   "id": "1eef3b88",
   "metadata": {},
   "outputs": [
    {
     "name": "stdout",
     "output_type": "stream",
     "text": [
      "train_data_age_freq: Counter({'청년': 8753, '중년': 7620, '노년': 7105, '청소년': 5137})\n",
      "test_data_age_freq: Counter({'청년': 3752, '중년': 3265, '노년': 3045, '청소년': 2202})\n"
     ]
    }
   ],
   "source": [
    "from collections import Counter\n",
    "train_data_age_freq = Counter(train_data_age)\n",
    "print('train_data_age_freq:', train_data_age_freq)\n",
    "\n",
    "test_data_age_freq = Counter(test_data_age)\n",
    "print('test_data_age_freq:', test_data_age_freq)\n"
   ]
  },
  {
   "cell_type": "code",
   "execution_count": 12,
   "id": "14e0cc77",
   "metadata": {},
   "outputs": [],
   "source": [
    "test_data_text = test_data_text[:3000]\n",
    "test_data_age = test_data_age[:3000]"
   ]
  },
  {
   "cell_type": "code",
   "execution_count": 13,
   "id": "6d6e0fe3",
   "metadata": {},
   "outputs": [
    {
     "name": "stdout",
     "output_type": "stream",
     "text": [
      "최소길이: 4\n",
      "최대길이: 88\n",
      "평균길이: 25.6\n",
      "중위수길이: 26.0\n",
      "구간별 최대 길이: [ 4. 20. 26. 31. 36. 45. 88.]\n",
      "최소길이 문장: 선생님께 감사해. 학교폭력을 없앴어.\n",
      "최대길이 문장: 어제 우리 아들이 무슨 잘못을 해서 야단을 좀 쳤는데 글쎄 걔 말이 엄마가 자기한테 해 준 게 뭐가 있냐고 하는데 기가 막히네. 내가 애들 뒷바라지를 하느라 얼마나 고생을 했는데. 아들이 그림을 좀 잘 그리는 편이긴 한데 내가 미대는 절대 안 된다고 하고 그림 도구 같은 걸 다 버렸거든. 근데 부모가 돼서 자식 진로에 대한 결정은 할 수 있지 않겠어? 애가 공부할 시간도 없는데 틈만 나면 붓을 잡고 있으니 나도 화가 나서 그랬지. 아들한테 좀 미안한 마음은 있긴 한데 그렇다고 부모한테 그렇게 말을 하는 게 더 나쁜 거 아닌가?\n"
     ]
    }
   ],
   "source": [
    "import numpy as np\n",
    "\n",
    "text_len = [len(line.split(' ')) for line in train_data_text]\n",
    "print('최소길이:', np.min(text_len))\n",
    "print('최대길이:', np.max(text_len))\n",
    "print('평균길이:', np.round(np.mean(text_len),1))\n",
    "print('중위수길이:', np.median(text_len))\n",
    "print('구간별 최대 길이:', np.percentile(text_len, [0, 25, 50, 75, 90, 99, 100]))\n",
    "print('최소길이 문장:', train_data_text[np.argmin(text_len)])\n",
    "print('최대길이 문장:', train_data_text[np.argmax(text_len)])"
   ]
  },
  {
   "cell_type": "code",
   "execution_count": 14,
   "id": "fa164ff8",
   "metadata": {},
   "outputs": [
    {
     "name": "stderr",
     "output_type": "stream",
     "text": [
      "Using TensorFlow backend.\n"
     ]
    }
   ],
   "source": [
    "from keras.preprocessing.text import Tokenizer\n",
    "from keras.preprocessing.sequence import pad_sequences\n",
    "import numpy as np\n",
    "import math \n",
    "\n",
    "max_words = 20000\n",
    "maxlen = 40\n",
    "\n",
    "tokenizer = Tokenizer(num_words=max_words)\n",
    "tokenizer.fit_on_texts(train_data_text)\n",
    "word_index = tokenizer.word_index"
   ]
  },
  {
   "cell_type": "code",
   "execution_count": 15,
   "id": "74e4d771",
   "metadata": {},
   "outputs": [
    {
     "name": "stdout",
     "output_type": "stream",
     "text": [
      "wjscpdptj 75890개의 고유한 토큰을 찾았습니다\n",
      "word_index type: <class 'dict'>\n"
     ]
    }
   ],
   "source": [
    "print('wjscpdptj %s개의 고유한 토큰을 찾았습니다' % len(word_index))\n",
    "print('word_index type:', type(word_index))\n",
    "# print('word_index:', word_index)"
   ]
  },
  {
   "cell_type": "code",
   "execution_count": 16,
   "id": "bdf1c32a",
   "metadata": {},
   "outputs": [
    {
     "name": "stdout",
     "output_type": "stream",
     "text": [
      "최대 문장 길이: 83\n",
      "최소 문장 길이: 2\n"
     ]
    }
   ],
   "source": [
    "seq_data = tokenizer.texts_to_sequences(train_data_text)\n",
    "# print('data', data)\n",
    "\n",
    "len_d = [len(d) for d in data]\n",
    "# print('길이:', len_d)\n",
    "print('최대 문장 길이:', max(len_d))\n",
    "print('최소 문장 길이:', min(len_d))"
   ]
  },
  {
   "cell_type": "code",
   "execution_count": 17,
   "id": "49bd03b0",
   "metadata": {},
   "outputs": [
    {
     "name": "stdout",
     "output_type": "stream",
     "text": [
      "data: [[   0    0    0 ... 1800 1389   24]\n",
      " [   0    0    0 ...    4   44    7]\n",
      " [   0    0    0 ...  516   73 7810]\n",
      " ...\n",
      " [   0    0    0 ... 1460  126 2109]\n",
      " [   0    0    0 ... 6770 1119  159]\n",
      " [   0    0    0 ... 3261    9  303]]\n",
      "data 0: [    0     0     0     0     0     0     0     0     0     0  1212    21\n",
      "  2909   266     2     4    88 10574  2639   593  7809    85  1212     1\n",
      " 14252  2160   688   881  1051   581  2841    24     3   280   393  2711\n",
      "  3394  1800  1389    24]\n",
      "data 0의 길이: 40\n"
     ]
    }
   ],
   "source": [
    "pad_data = pad_sequences(seq_data, maxlen=maxlen)\n",
    "\n",
    "print('data:', pad_data)\n",
    "print('data 0:', pad_data[0])\n",
    "print('data 0의 길이:', len(pad_data[0]))"
   ]
  },
  {
   "cell_type": "code",
   "execution_count": 18,
   "id": "0f448b39",
   "metadata": {},
   "outputs": [
    {
     "name": "stdout",
     "output_type": "stream",
     "text": [
      "train_data_text type: <class 'list'>\n",
      "data type: <class 'numpy.ndarray'>\n",
      "train_data_text 0: 팀장님이 나를 좋아하지 않는 것 같아. 나만 제외하고 팀원들에게 밥을 사주셨어. 맞아. 팀장님이 너무 미워졌어. 팀장님께 이유를 물어보고 관계를 좋게 유지하고 싶어. 내가 오해했을 수도 있으니 서로의 입장을 자세히 이야기하고 싶어.\n",
      "data 0: [    0     0     0     0     0     0     0     0     0     0  1212    21\n",
      "  2909   266     2     4    88 10574  2639   593  7809    85  1212     1\n",
      " 14252  2160   688   881  1051   581  2841    24     3   280   393  2711\n",
      "  3394  1800  1389    24]\n"
     ]
    }
   ],
   "source": [
    "print('train_data_text type:', type(train_data_text))\n",
    "print('data type:', type(pad_data))\n",
    "print('train_data_text 0:', train_data_text[0])\n",
    "print('data 0:', pad_data[0])"
   ]
  },
  {
   "cell_type": "code",
   "execution_count": 19,
   "id": "e5c94896",
   "metadata": {},
   "outputs": [],
   "source": [
    "def to_one_hot(sequences, dimension):\n",
    "    results = np.zeros((len(sequences), dimension))\n",
    "    for i, sequence in enumerate(sequences):\n",
    "        results[i, sequence] = 1.\n",
    "    return results\n",
    "\n",
    "x_train = to_one_hot(pad_data, dimension=max_words)"
   ]
  },
  {
   "cell_type": "code",
   "execution_count": 20,
   "id": "5b340da6",
   "metadata": {},
   "outputs": [
    {
     "name": "stdout",
     "output_type": "stream",
     "text": [
      "train_data_text type: <class 'list'>\n",
      "129\n",
      "texts 0: 팀장님이 나를 좋아하지 않는 것 같아. 나만 제외하고 팀원들에게 밥을 사주셨어. 맞아. 팀장님이 너무 미워졌어. 팀장님께 이유를 물어보고 관계를 좋게 유지하고 싶어. 내가 오해했을 수도 있으니 서로의 입장을 자세히 이야기하고 싶어.\n",
      "data type: <class 'numpy.ndarray'>\n",
      "20000\n",
      "x_train [0][0:100]: [1. 1. 1. 1. 1. 0. 0. 0. 0. 0. 0. 0. 0. 0. 0. 0. 0. 0. 0. 0. 0. 1. 0. 0.\n",
      " 1. 0. 0. 0. 0. 0. 0. 0. 0. 0. 0. 0. 0. 0. 0. 0. 0. 0. 0. 0. 0. 0. 0. 0.\n",
      " 0. 0. 0. 0. 0. 0. 0. 0. 0. 0. 0. 0. 0. 0. 0. 0. 0. 0. 0. 0. 0. 0. 0. 0.\n",
      " 0. 0. 0. 0. 0. 0. 0. 0. 0. 0. 0. 0. 0. 1. 0. 0. 1. 0. 0. 0. 0. 0. 0. 0.\n",
      " 0. 0. 0. 0.]\n"
     ]
    }
   ],
   "source": [
    "print('train_data_text type:', type(train_data_text))\n",
    "print(len(train_data_text[0]))\n",
    "print('texts 0:', train_data_text[0])\n",
    "\n",
    "print('data type:', type(x_train))\n",
    "print(len(x_train[0]))\n",
    "print('x_train [0][0:100]:', x_train[0][:100])"
   ]
  },
  {
   "cell_type": "code",
   "execution_count": 21,
   "id": "fdd879ee",
   "metadata": {},
   "outputs": [
    {
     "name": "stdout",
     "output_type": "stream",
     "text": [
      "['노년' '중년' '청년' '청소년']\n"
     ]
    }
   ],
   "source": [
    "from sklearn.preprocessing import LabelEncoder\n",
    "le_age = LabelEncoder()\n",
    "le_age.fit(train_data_age)\n",
    "print(le_age.classes_)\n",
    "train_data_age = le_age.transform(train_data_age)"
   ]
  },
  {
   "cell_type": "code",
   "execution_count": 23,
   "id": "5fa00c6b",
   "metadata": {},
   "outputs": [],
   "source": [
    "test_data_age = le_age.transform(test_data_age)"
   ]
  },
  {
   "cell_type": "code",
   "execution_count": 22,
   "id": "4cc76484",
   "metadata": {},
   "outputs": [
    {
     "name": "stdout",
     "output_type": "stream",
     "text": [
      "[[0. 0. 1. 0.]\n",
      " [0. 0. 0. 1.]\n",
      " [1. 0. 0. 0.]\n",
      " ...\n",
      " [0. 1. 0. 0.]\n",
      " [0. 0. 1. 0.]\n",
      " [0. 0. 1. 0.]]\n"
     ]
    }
   ],
   "source": [
    "class_number = len(le_age.classes_)\n",
    "y_train = to_one_hot(train_data_age, dimension=class_number)\n",
    "print(y_train)"
   ]
  },
  {
   "cell_type": "code",
   "execution_count": 24,
   "id": "e33724c0",
   "metadata": {},
   "outputs": [
    {
     "name": "stdout",
     "output_type": "stream",
     "text": [
      "[[0. 0. 1. 0.]\n",
      " [0. 0. 0. 1.]\n",
      " [1. 0. 0. 0.]\n",
      " ...\n",
      " [1. 0. 0. 0.]\n",
      " [0. 1. 0. 0.]\n",
      " [0. 1. 0. 0.]]\n"
     ]
    }
   ],
   "source": [
    "data_test = tokenizer.texts_to_sequences(test_data_text)\n",
    "\n",
    "data_test = pad_sequences(data_test, maxlen=maxlen)\n",
    "\n",
    "x_test = to_one_hot(data_test, dimension=max_words)\n",
    "\n",
    "y_test = to_one_hot(test_data_age, dimension=class_number)\n",
    "print(y_test)"
   ]
  },
  {
   "cell_type": "code",
   "execution_count": 25,
   "id": "4b56ab60",
   "metadata": {},
   "outputs": [
    {
     "name": "stdout",
     "output_type": "stream",
     "text": [
      "훈련 데이터 본문 텐서의 크기: (28615, 20000)\n",
      "훈련 데이터 레이블 텐서의 크기: (28615, 4)\n",
      "테스트 데이터 본문 텐서의 크기: (3000, 20000)\n",
      "테스트 데이터 레이블 텐서의 크기: (3000, 4)\n"
     ]
    }
   ],
   "source": [
    "print('훈련 데이터 본문 텐서의 크기:', x_train.shape)\n",
    "print('훈련 데이터 레이블 텐서의 크기:', y_train.shape)\n",
    "\n",
    "print('테스트 데이터 본문 텐서의 크기:', x_test.shape)\n",
    "print('테스트 데이터 레이블 텐서의 크기:', y_test.shape)"
   ]
  },
  {
   "cell_type": "code",
   "execution_count": 26,
   "id": "0d869475",
   "metadata": {},
   "outputs": [],
   "source": [
    "epochs = 10\n",
    "batch_size = 100\n",
    "model_name = 'train_data_age_morphed.h5'\n",
    "tokenizer_name = 'train_data_age_morphed.pickle'"
   ]
  },
  {
   "cell_type": "code",
   "execution_count": 35,
   "id": "adf415fe",
   "metadata": {},
   "outputs": [
    {
     "name": "stdout",
     "output_type": "stream",
     "text": [
      "Model: \"sequential_2\"\n",
      "_________________________________________________________________\n",
      "Layer (type)                 Output Shape              Param #   \n",
      "=================================================================\n",
      "dense_4 (Dense)              (None, 64)                1280064   \n",
      "_________________________________________________________________\n",
      "dense_5 (Dense)              (None, 32)                2080      \n",
      "_________________________________________________________________\n",
      "dense_6 (Dense)              (None, 4)                 132       \n",
      "=================================================================\n",
      "Total params: 1,282,276\n",
      "Trainable params: 1,282,276\n",
      "Non-trainable params: 0\n",
      "_________________________________________________________________\n"
     ]
    }
   ],
   "source": [
    "from keras.models import Sequential\n",
    "from keras.layers import Dense\n",
    "\n",
    "model = Sequential()\n",
    "\n",
    "model.add(Dense(64, activation='relu', input_shape=(max_words,)))\n",
    "model.add(Dense(units=32, activation='relu'))\n",
    "model.add(Dense(units=class_number, activation='softmax'))\n",
    "\n",
    "model.summary()"
   ]
  },
  {
   "cell_type": "code",
   "execution_count": 36,
   "id": "00d9d995",
   "metadata": {},
   "outputs": [
    {
     "name": "stdout",
     "output_type": "stream",
     "text": [
      "/Users/jsha/gjai/nlp/pytest/13_연습문제2/ --- Folder already exists\n",
      "\n"
     ]
    }
   ],
   "source": [
    "from keras.callbacks import EarlyStopping\n",
    "import os\n",
    "\n",
    "checkpoint_path = path + '13_연습문제2/'\n",
    "# checkpoint_dir = os.path.dirname(checkpoint_path)\n",
    "if os.path.exists(checkpoint_path):\n",
    "    print('{} --- Folder already exists\\n'.format(checkpoint_path))\n",
    "else:\n",
    "    os.makedirs(checkpoint_path, exist_ok=True)\n",
    "    print('{} --- Folder created\\n'.format(checkpoint_path))"
   ]
  },
  {
   "cell_type": "code",
   "execution_count": 37,
   "id": "7ec7ec39",
   "metadata": {},
   "outputs": [],
   "source": [
    "model.compile(optimizer='rmsprop', loss='categorical_crossentropy',\n",
    "             metrics=['acc'])"
   ]
  },
  {
   "cell_type": "code",
   "execution_count": 38,
   "id": "d419ac2d",
   "metadata": {},
   "outputs": [
    {
     "name": "stdout",
     "output_type": "stream",
     "text": [
      "Train on 20030 samples, validate on 8585 samples\n",
      "Epoch 1/10\n",
      "20030/20030 [==============================] - 6s 294us/step - loss: 0.9212 - acc: 0.6284 - val_loss: 0.6876 - val_acc: 0.7222\n",
      "\n",
      "Epoch 00001: val_acc improved from -inf to 0.72219, saving model to /Users/jsha/gjai/nlp/pytest/13_연습문제2/train_data_age_morphed.h5\n",
      "Epoch 2/10\n",
      "20030/20030 [==============================] - 6s 281us/step - loss: 0.4723 - acc: 0.8233 - val_loss: 0.6926 - val_acc: 0.7285\n",
      "\n",
      "Epoch 00002: val_acc improved from 0.72219 to 0.72848, saving model to /Users/jsha/gjai/nlp/pytest/13_연습문제2/train_data_age_morphed.h5\n",
      "Epoch 3/10\n",
      "20030/20030 [==============================] - 6s 280us/step - loss: 0.3218 - acc: 0.8850 - val_loss: 0.7230 - val_acc: 0.7361\n",
      "\n",
      "Epoch 00003: val_acc improved from 0.72848 to 0.73605, saving model to /Users/jsha/gjai/nlp/pytest/13_연습문제2/train_data_age_morphed.h5\n",
      "Epoch 4/10\n",
      "20030/20030 [==============================] - 6s 283us/step - loss: 0.2277 - acc: 0.9209 - val_loss: 0.8356 - val_acc: 0.7207\n",
      "\n",
      "Epoch 00004: val_acc did not improve from 0.73605\n",
      "Epoch 5/10\n",
      "20030/20030 [==============================] - 6s 280us/step - loss: 0.1656 - acc: 0.9437 - val_loss: 0.9199 - val_acc: 0.7229\n",
      "\n",
      "Epoch 00005: val_acc did not improve from 0.73605\n"
     ]
    }
   ],
   "source": [
    "from keras.callbacks import ModelCheckpoint\n",
    "earlystop_callback = EarlyStopping(monitor='val_acc', patience=2)\n",
    "cp_callback = ModelCheckpoint(filepath=checkpoint_path+model_name,\n",
    "                             monitor='val_acc', verbose=1, \n",
    "                             save_best_only=True)\n",
    "history = model.fit(x_train, y_train, epochs=epochs,\n",
    "                   batch_size=batch_size, validation_split=0.3,\n",
    "                   callbacks=[earlystop_callback, cp_callback], verbose=1)\n",
    "history_dict = history.history"
   ]
  },
  {
   "cell_type": "code",
   "execution_count": 39,
   "id": "0aeedd0e",
   "metadata": {},
   "outputs": [],
   "source": [
    "import pickle\n",
    "\n",
    "# model.save(model_name)\n",
    "\n",
    "with open(checkpoint_path+tokenizer_name, 'wb') as file:\n",
    "    pickle.dump(tokenizer, file, protocol=pickle.HIGHEST_PROTOCOL)\n"
   ]
  },
  {
   "cell_type": "code",
   "execution_count": 40,
   "id": "6661cca2",
   "metadata": {},
   "outputs": [
    {
     "name": "stdout",
     "output_type": "stream",
     "text": [
      "validation accuracy of each epoch: [0.722 0.728 0.736 0.721 0.723]\n"
     ]
    }
   ],
   "source": [
    "acc = history.history['acc']\n",
    "val_acc = history.history['val_acc']\n",
    "loss = history.history['loss']\n",
    "val_loss = history.history['val_loss']\n",
    "\n",
    "print('validation accuracy of each epoch:', np.round(val_acc,3))\n",
    "epochs = range(1, len(val_acc)+1)"
   ]
  },
  {
   "cell_type": "code",
   "execution_count": 41,
   "id": "80329e66",
   "metadata": {},
   "outputs": [
    {
     "data": {
      "image/png": "[encoded data removed]",
      "text/plain": [
       "<Figure size 432x288 with 1 Axes>"
      ]
     },
     "metadata": {
      "needs_background": "light"
     },
     "output_type": "display_data"
    }
   ],
   "source": [
    "import matplotlib.pyplot as plt\n",
    "\n",
    "plt.plot(epochs, acc, 'bo', label='Training Acc')\n",
    "plt.plot(epochs, val_acc, 'r', label='Validation Acc')\n",
    "plt.title('Training and Validation Accuracy')\n",
    "plt.legend(loc=4)\n",
    "plt.show()"
   ]
  },
  {
   "cell_type": "code",
   "execution_count": 42,
   "id": "f9dab341",
   "metadata": {
    "scrolled": true
   },
   "outputs": [
    {
     "data": {
      "image/png": "[encoded data removed]",
      "text/plain": [
       "<Figure size 432x288 with 1 Axes>"
      ]
     },
     "metadata": {
      "needs_background": "light"
     },
     "output_type": "display_data"
    }
   ],
   "source": [
    "plt.plot(epochs, loss, 'bo', label='Training Loss')\n",
    "plt.plot(epochs, val_loss, 'r', label='Validation Loss')\n",
    "plt.title('Training and Validation loss')\n",
    "plt.legend(loc=1)\n",
    "plt.show()"
   ]
  }
 ],
 "metadata": {
  "kernelspec": {
   "display_name": "nlp3710",
   "language": "python",
   "name": "nlp3710"
  },
  "language_info": {
   "codemirror_mode": {
    "name": "ipython",
    "version": 3
   },
   "file_extension": ".py",
   "mimetype": "text/x-python",
   "name": "python",
   "nbconvert_exporter": "python",
   "pygments_lexer": "ipython3",
   "version": "3.7.10"
  },
  "toc": {
   "base_numbering": 1,
   "nav_menu": {},
   "number_sections": true,
   "sideBar": true,
   "skip_h1_title": false,
   "title_cell": "Table of Contents",
   "title_sidebar": "Contents",
   "toc_cell": false,
   "toc_position": {},
   "toc_section_display": true,
   "toc_window_display": false
  }
 },
 "nbformat": 4,
 "nbformat_minor": 5
}
