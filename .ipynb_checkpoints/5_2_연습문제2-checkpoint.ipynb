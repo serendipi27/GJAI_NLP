{
 "cells": [
  {
   "cell_type": "markdown",
   "id": "584ea1e0",
   "metadata": {},
   "source": [
    "# 연습문제2\n",
    "- 일반 블로그와 홍보성 글을 분류하는 모델을 만드시오\n",
    "- 사전기반 감성분석 과제의 결과로 나온 홍보성 글을 이용하여 학습 데이터를 구성 • 자료가 충분하지 않더라도 현재 수준에서 진행하여 빠르게 모델 생성 (추가 수집 X) →조별작업_제거데이터 > 충북데이터_정상이상.csv\n",
    "    - 1 머신러닝 기법을 이용하여 정상글(0)과 홍보성 글(1)을 분류 (7.5:2.5 분리)\n",
    "    - 2 앞에서 진행한 규칙기반 코드에 머신러닝을 결합하여 분류\n",
    "        - 어떻게 결합하는 것이 좋을지 고려해볼 것 (토의 가능)\n",
    "        - K-fold 교차 검증 수행\n",
    "        - 진행된결과를사람의태깅결과와비교하여개선효과를확인"
   ]
  },
  {
   "cell_type": "code",
   "execution_count": null,
   "id": "3ce16acd",
   "metadata": {},
   "outputs": [],
   "source": []
  }
 ],
 "metadata": {
  "kernelspec": {
   "display_name": "nlp3710",
   "language": "python",
   "name": "nlp3710"
  },
  "language_info": {
   "codemirror_mode": {
    "name": "ipython",
    "version": 3
   },
   "file_extension": ".py",
   "mimetype": "text/x-python",
   "name": "python",
   "nbconvert_exporter": "python",
   "pygments_lexer": "ipython3",
   "version": "3.7.10"
  },
  "toc": {
   "base_numbering": 1,
   "nav_menu": {},
   "number_sections": true,
   "sideBar": true,
   "skip_h1_title": false,
   "title_cell": "Table of Contents",
   "title_sidebar": "Contents",
   "toc_cell": false,
   "toc_position": {},
   "toc_section_display": true,
   "toc_window_display": false
  }
 },
 "nbformat": 4,
 "nbformat_minor": 5
}
