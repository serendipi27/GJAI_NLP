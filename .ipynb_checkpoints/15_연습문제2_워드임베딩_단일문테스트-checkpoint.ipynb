{
 "cells": [
  {
   "cell_type": "markdown",
   "id": "66dffa57",
   "metadata": {},
   "source": [
    "# 감정 분류 단일문 테스트"
   ]
  },
  {
   "cell_type": "code",
   "execution_count": 10,
   "id": "5696ce68",
   "metadata": {},
   "outputs": [],
   "source": [
    "path = '/Users/jsha/gjai/nlp/pytest/13_연습문제2/'\n",
    "model_name = 'train_data_emotion_morphed_model.h5'\n",
    "tokenizer_name = 'train_data_emotion_morphed_token.pickle'\n",
    "labelencoder_name = 'train_data_emotion_morphed_le.pickle'"
   ]
  },
  {
   "cell_type": "code",
   "execution_count": 11,
   "id": "36a0c679",
   "metadata": {},
   "outputs": [],
   "source": [
    "from keras.models import load_model\n",
    "import pickle\n",
    "\n",
    "loaded_model = load_model(path+model_name)\n",
    "\n",
    "with open(path+tokenizer_name, 'rb') as handle:\n",
    "    loaded_tokenizer = pickle.load(handle)\n",
    "    \n",
    "with open(path+labelencoder_name, 'rb') as handle:\n",
    "    loaded_le = pickle.load(handle)"
   ]
  },
  {
   "cell_type": "code",
   "execution_count": 12,
   "id": "f10a9c7c",
   "metadata": {},
   "outputs": [
    {
     "data": {
      "text/plain": [
       "array(['기쁨', '당황', '분노', '불안', '상처', '슬픔'], dtype='<U2')"
      ]
     },
     "execution_count": 12,
     "metadata": {},
     "output_type": "execute_result"
    }
   ],
   "source": [
    "loaded_le.classes_"
   ]
  },
  {
   "cell_type": "code",
   "execution_count": 13,
   "id": "9687096f",
   "metadata": {},
   "outputs": [],
   "source": [
    "def intToLabel(label_int):\n",
    "    label_class = loaded_le.classes_\n",
    "    labels = label_class[label_int]\n",
    "    return labels"
   ]
  },
  {
   "cell_type": "code",
   "execution_count": 18,
   "id": "86e4112c",
   "metadata": {},
   "outputs": [
    {
     "name": "stdout",
     "output_type": "stream",
     "text": [
      "filepath:  /Users/jsha/opt/anaconda3/envs/nlp3710/lib/python3.7/site-packages\n",
      "classpath:  /Users/jsha/opt/anaconda3/envs/nlp3710/lib/python3.7/site-packages/rhinoMorph/lib/rhino.jar\n",
      "JVM is already started~\n",
      "RHINO started!\n",
      "내용을 입력하세요:나는 무척 화가 났습니다\n",
      "[[0.02056497 0.05570847 0.725085   0.04665909 0.09034134 0.06164098]]\n",
      "2\n",
      "분노\n"
     ]
    }
   ],
   "source": [
    "import rhinoMorph\n",
    "from keras.preprocessing.sequence import pad_sequences\n",
    "import numpy as np\n",
    "\n",
    "def to_one_hot(sequences, dimension):\n",
    "    results = np.zeros((len(sequences), dimension))\n",
    "    for i, sequence in enumerate(sequences):\n",
    "        results[i, sequence] = 1.\n",
    "    return results\n",
    "\n",
    "rn = rhinoMorph.startRhino()\n",
    "\n",
    "user_input = input('내용을 입력하세요:')\n",
    "\n",
    "morphed_input, poses = rhinoMorph.wholeResult_list(rn, user_input,\n",
    "                        pos=['NNG', 'NNP', 'NP', 'VV', 'VA', 'IC',\n",
    "                            'XR', 'VCN', 'MMG', 'MMJ'])\n",
    "maxlen = 40\n",
    "max_words = 20000\n",
    "text = [morphed_input]\n",
    "data = loaded_tokenizer.texts_to_sequences(text)\n",
    "data = pad_sequences(data, maxlen=maxlen)\n",
    "x_test = to_one_hot(data, dimension=max_words)\n",
    "\n",
    "prediction = loaded_model.predict(x_test)\n",
    "print(prediction)\n",
    "\n",
    "label_int = np.argmax(prediction)\n",
    "print(label_int)\n",
    "label = intToLabel(label_int)\n",
    "print(label)"
   ]
  },
  {
   "cell_type": "code",
   "execution_count": null,
   "id": "b3e974cc",
   "metadata": {},
   "outputs": [],
   "source": []
  },
  {
   "cell_type": "markdown",
   "id": "cc384a7c",
   "metadata": {},
   "source": [
    "# 나이 분류 단일문 테스트"
   ]
  },
  {
   "cell_type": "code",
   "execution_count": 19,
   "id": "5701bae8",
   "metadata": {},
   "outputs": [],
   "source": [
    "path = '/Users/jsha/gjai/nlp/pytest/13_연습문제2/'\n",
    "model_name = 'train_data_age_morphed_model.h5'\n",
    "tokenizer_name = 'train_data_age_morphed_token.pickle'\n",
    "labelencoder_name = 'train_data_age_morphed_le.pickle'"
   ]
  },
  {
   "cell_type": "code",
   "execution_count": 20,
   "id": "312773f3",
   "metadata": {},
   "outputs": [],
   "source": [
    "from keras.models import load_model\n",
    "import pickle\n",
    "\n",
    "loaded_model = load_model(path+model_name)\n",
    "\n",
    "with open(path+tokenizer_name, 'rb') as handle:\n",
    "    loaded_tokenizer = pickle.load(handle)\n",
    "    \n",
    "with open(path+labelencoder_name, 'rb') as handle:\n",
    "    loaded_le = pickle.load(handle)"
   ]
  },
  {
   "cell_type": "code",
   "execution_count": 21,
   "id": "98dfecdf",
   "metadata": {},
   "outputs": [
    {
     "data": {
      "text/plain": [
       "array(['노년', '중년', '청년', '청소년'], dtype='<U3')"
      ]
     },
     "execution_count": 21,
     "metadata": {},
     "output_type": "execute_result"
    }
   ],
   "source": [
    "loaded_le.classes_"
   ]
  },
  {
   "cell_type": "code",
   "execution_count": 22,
   "id": "1a75eafb",
   "metadata": {},
   "outputs": [],
   "source": [
    "def intToLabel(label_int):\n",
    "    label_class = loaded_le.classes_\n",
    "    labels = label_class[label_int]\n",
    "    return labels"
   ]
  },
  {
   "cell_type": "code",
   "execution_count": 23,
   "id": "f5bcad76",
   "metadata": {},
   "outputs": [
    {
     "name": "stdout",
     "output_type": "stream",
     "text": [
      "filepath:  /Users/jsha/opt/anaconda3/envs/nlp3710/lib/python3.7/site-packages\n",
      "classpath:  /Users/jsha/opt/anaconda3/envs/nlp3710/lib/python3.7/site-packages/rhinoMorph/lib/rhino.jar\n",
      "JVM is already started~\n",
      "RHINO started!\n",
      "내용을 입력하세요:아이구야 왜이리 허리가 아프노\n",
      "[[0.55515    0.37540066 0.04413854 0.02531086]]\n",
      "0\n",
      "노년\n"
     ]
    }
   ],
   "source": [
    "import rhinoMorph\n",
    "from keras.preprocessing.sequence import pad_sequences\n",
    "import numpy as np\n",
    "\n",
    "def to_one_hot(sequences, dimension):\n",
    "    results = np.zeros((len(sequences), dimension))\n",
    "    for i, sequence in enumerate(sequences):\n",
    "        results[i, sequence] = 1.\n",
    "    return results\n",
    "\n",
    "rn = rhinoMorph.startRhino()\n",
    "\n",
    "user_input = input('내용을 입력하세요:')\n",
    "\n",
    "morphed_input, poses = rhinoMorph.wholeResult_list(rn, user_input,\n",
    "                        pos=['NNG', 'NNP', 'NP', 'VV', 'VA', 'IC',\n",
    "                            'XR', 'VCN', 'MMG', 'MMJ'])\n",
    "maxlen = 40\n",
    "max_words = 20000\n",
    "text = [morphed_input]\n",
    "data = loaded_tokenizer.texts_to_sequences(text)\n",
    "data = pad_sequences(data, maxlen=maxlen)\n",
    "x_test = to_one_hot(data, dimension=max_words)\n",
    "\n",
    "prediction = loaded_model.predict(x_test)\n",
    "print(prediction)\n",
    "\n",
    "label_int = np.argmax(prediction)\n",
    "print(label_int)\n",
    "label = intToLabel(label_int)\n",
    "print(label)"
   ]
  },
  {
   "cell_type": "markdown",
   "id": "f30ef4ca",
   "metadata": {},
   "source": [
    "## 예문: 아이구야 왜이리 허리가 아프노?"
   ]
  },
  {
   "cell_type": "code",
   "execution_count": null,
   "id": "e8776dbb",
   "metadata": {},
   "outputs": [],
   "source": []
  }
 ],
 "metadata": {
  "kernelspec": {
   "display_name": "nlp3710",
   "language": "python",
   "name": "nlp3710"
  },
  "language_info": {
   "codemirror_mode": {
    "name": "ipython",
    "version": 3
   },
   "file_extension": ".py",
   "mimetype": "text/x-python",
   "name": "python",
   "nbconvert_exporter": "python",
   "pygments_lexer": "ipython3",
   "version": "3.7.10"
  },
  "toc": {
   "base_numbering": 1,
   "nav_menu": {},
   "number_sections": true,
   "sideBar": true,
   "skip_h1_title": false,
   "title_cell": "Table of Contents",
   "title_sidebar": "Contents",
   "toc_cell": false,
   "toc_position": {},
   "toc_section_display": true,
   "toc_window_display": false
  }
 },
 "nbformat": 4,
 "nbformat_minor": 5
}
