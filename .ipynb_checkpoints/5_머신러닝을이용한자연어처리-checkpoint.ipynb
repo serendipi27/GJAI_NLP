{
 "cells": [
  {
   "cell_type": "code",
   "execution_count": 1,
   "id": "6aac2293",
   "metadata": {},
   "outputs": [],
   "source": [
    "from matplotlib import rc\n",
    "\n",
    "path = '/Users/jsha/gjai/nlp/pytest/'\n",
    "rc('font', family='AppleGothic')"
   ]
  },
  {
   "cell_type": "code",
   "execution_count": 2,
   "id": "f9fe6eec",
   "metadata": {},
   "outputs": [],
   "source": [
    "def read_data(filename, encoding='cp949', start=1):\n",
    "    with open(filename, 'r', encoding=encoding) as f:\n",
    "        data = [line.split('\\t') for line in f.read().splitlines()]\n",
    "        data = data[start:]\n",
    "    return data\n",
    "\n",
    "def write_data(data, filename, encoding='cp949'):\n",
    "    with open(filename, 'w', encoding=encoding) as f:\n",
    "        f.write(data)"
   ]
  },
  {
   "cell_type": "code",
   "execution_count": 3,
   "id": "108898a7",
   "metadata": {},
   "outputs": [],
   "source": [
    "### 'ratings_small.txt' 데이터 불러오기\n",
    "\n",
    "import chardet\n",
    "\n",
    "path = '/Users/jsha/gjai/nlp/pytest/'\n",
    "filename = 'ratings_morphed.txt'\n",
    "f = open(path+filename, 'rb').read()\n",
    "encoding = chardet.detect(f)['encoding']\n",
    "# print(encoding)\n",
    "\n",
    "data = read_data(path+filename, encoding=encoding)"
   ]
  },
  {
   "cell_type": "code",
   "execution_count": 4,
   "id": "4f834395",
   "metadata": {},
   "outputs": [
    {
     "name": "stdout",
     "output_type": "stream",
     "text": [
      "train_data_senti_freq: Counter({'1': 69174, '0': 69117})\n",
      "test_data_senti_freq: Counter({'1': 29646, '0': 29622})\n"
     ]
    }
   ],
   "source": [
    "data_text = [line[1] for line in data]\n",
    "data_senti = [line[2] for line in data]\n",
    "\n",
    "# stratify를 사용한 것에 주목\n",
    "from sklearn.model_selection import train_test_split\n",
    "train_data_text, test_data_text, train_data_senti, test_data_senti = \\\n",
    "train_test_split(data_text, data_senti, stratify=data_senti, test_size=0.3)\n",
    "\n",
    "# Counter 클래스를 이용해 data_senti의 value 값과 수를 고려하여 잘 분배되었는지 확인\n",
    "from collections import Counter\n",
    "train_data_senti_freq = Counter(train_data_senti)\n",
    "print('train_data_senti_freq:', train_data_senti_freq)\n",
    "\n",
    "test_data_senti_freq = Counter(test_data_senti)\n",
    "print('test_data_senti_freq:', test_data_senti_freq)"
   ]
  },
  {
   "cell_type": "code",
   "execution_count": 5,
   "id": "52a853c9",
   "metadata": {},
   "outputs": [
    {
     "name": "stdout",
     "output_type": "stream",
     "text": [
      "X_train:\n",
      " <138291x11255 sparse matrix of type '<class 'numpy.int64'>'\n",
      "\twith 770633 stored elements in Compressed Sparse Row format>\n"
     ]
    }
   ],
   "source": [
    "from sklearn.feature_extraction.text import CountVectorizer\n",
    "\n",
    "vect = CountVectorizer(min_df=5).fit(train_data_text)\n",
    "X_train = vect.transform(train_data_text)\n",
    "print(\"X_train:\\n\", repr(X_train))"
   ]
  },
  {
   "cell_type": "code",
   "execution_count": 6,
   "id": "9de8780f",
   "metadata": {},
   "outputs": [
    {
     "name": "stdout",
     "output_type": "stream",
     "text": [
      "0.049598278670018696\n"
     ]
    }
   ],
   "source": [
    "print(771637/138291/11250*100)"
   ]
  },
  {
   "cell_type": "code",
   "execution_count": 7,
   "id": "50efc5bf",
   "metadata": {},
   "outputs": [
    {
     "name": "stdout",
     "output_type": "stream",
     "text": [
      "특성 개수: 11255\n",
      "처음 20개 특성:\n",
      " ['10점', '1빠', 'cgv', 'ebs', 'kbs', 'la', 'mb', 'mbc', 'naver', 'new', 'ok', 'sbs', 'sns', 'tv', 'ㄱㅅ', 'ㄴㄴ', 'ㄷㄷ', 'ㅂㅅ', 'ㅅㅂ', 'ㅇㅇ']\n"
     ]
    }
   ],
   "source": [
    "feature_names = vect.get_feature_names()\n",
    "print(\"특성 개수:\", len(feature_names))\n",
    "print('처음 20개 특성:\\n', feature_names[:20])\n",
    "# print('3000~5000까지의 특성:\\n', feature_names[3000:5000])"
   ]
  },
  {
   "cell_type": "code",
   "execution_count": 8,
   "id": "f69e9304",
   "metadata": {},
   "outputs": [
    {
     "data": {
      "text/plain": [
       "LogisticRegression(solver='liblinear')"
      ]
     },
     "execution_count": 8,
     "metadata": {},
     "output_type": "execute_result"
    }
   ],
   "source": [
    "import pandas as pd\n",
    "from sklearn.model_selection import cross_val_score\n",
    "from sklearn.linear_model import LogisticRegression\n",
    "\n",
    "y_train = pd.Series(train_data_senti) # 리스트 -> 종속변수로 가능한 series로 변환\n",
    "\n",
    "# solver는 잘나오는 걸 쓰면돼. categorical이냐 series냐.\n",
    "lr = LogisticRegression(solver='liblinear')\n",
    "lr.fit(X_train, y_train)\n",
    "\n"
   ]
  },
  {
   "cell_type": "code",
   "execution_count": 9,
   "id": "2d77575e",
   "metadata": {},
   "outputs": [
    {
     "name": "stdout",
     "output_type": "stream",
     "text": [
      "테스트 데이터 점수: 0.8067422555173112\n"
     ]
    }
   ],
   "source": [
    "X_test = vect.transform(test_data_text)\n",
    "y_test = pd.Series(test_data_senti)\n",
    "print('테스트 데이터 점수:', lr.score(X_test, y_test))"
   ]
  },
  {
   "cell_type": "code",
   "execution_count": 11,
   "id": "11d68a04",
   "metadata": {},
   "outputs": [
    {
     "name": "stdout",
     "output_type": "stream",
     "text": [
      "filepath:  /Users/jsha/opt/anaconda3/envs/nlp3710/lib/python3.7/site-packages\n",
      "classpath:  /Users/jsha/opt/anaconda3/envs/nlp3710/lib/python3.7/site-packages/rhinoMorph/lib/rhino.jar\n",
      "RHINO started!\n"
     ]
    },
    {
     "ename": "NameError",
     "evalue": "name 'inputdata' is not defined",
     "output_type": "error",
     "traceback": [
      "\u001b[0;31m---------------------------------------------------------------------------\u001b[0m",
      "\u001b[0;31mNameError\u001b[0m                                 Traceback (most recent call last)",
      "\u001b[0;32m<ipython-input-11-c716fe67c5c9>\u001b[0m in \u001b[0;36m<module>\u001b[0;34m\u001b[0m\n\u001b[1;32m     10\u001b[0m \u001b[0;34m\u001b[0m\u001b[0m\n\u001b[1;32m     11\u001b[0m \u001b[0minput_data\u001b[0m\u001b[0;34m.\u001b[0m\u001b[0mappend\u001b[0m\u001b[0;34m(\u001b[0m\u001b[0mmorphed_input\u001b[0m\u001b[0;34m)\u001b[0m\u001b[0;34m\u001b[0m\u001b[0;34m\u001b[0m\u001b[0m\n\u001b[0;32m---> 12\u001b[0;31m \u001b[0mprint\u001b[0m\u001b[0;34m(\u001b[0m\u001b[0;34m'input data:'\u001b[0m\u001b[0;34m,\u001b[0m \u001b[0minputdata\u001b[0m\u001b[0;34m)\u001b[0m\u001b[0;34m\u001b[0m\u001b[0;34m\u001b[0m\u001b[0m\n\u001b[0m",
      "\u001b[0;31mNameError\u001b[0m: name 'inputdata' is not defined"
     ]
    }
   ],
   "source": [
    "import rhinoMorph\n",
    "rn = rhinoMorph.startRhino()\n",
    "\n",
    "new_input = '나의 인생은 즐겁고 찬란해'\n",
    "input_data = []\n",
    "morphed_input = rhinoMorph.onlyMorph_list(rn, new_input,\n",
    "                    pos=['NNP', 'NNG', 'VV', 'VA', 'IC', 'XR',\n",
    "                         'MM', 'MAG', 'MAJ'], eomi=True)\n",
    "morphed_input = ' '.join(morphed_input)\n",
    "\n",
    "input_data.append(morphed_input)\n",
    "print('input data:', inputdata)"
   ]
  },
  {
   "cell_type": "code",
   "execution_count": null,
   "id": "c0210802",
   "metadata": {},
   "outputs": [],
   "source": []
  }
 ],
 "metadata": {
  "kernelspec": {
   "display_name": "nlp3710",
   "language": "python",
   "name": "nlp3710"
  },
  "language_info": {
   "codemirror_mode": {
    "name": "ipython",
    "version": 3
   },
   "file_extension": ".py",
   "mimetype": "text/x-python",
   "name": "python",
   "nbconvert_exporter": "python",
   "pygments_lexer": "ipython3",
   "version": "3.7.10"
  },
  "toc": {
   "base_numbering": 1,
   "nav_menu": {},
   "number_sections": true,
   "sideBar": true,
   "skip_h1_title": false,
   "title_cell": "Table of Contents",
   "title_sidebar": "Contents",
   "toc_cell": false,
   "toc_position": {},
   "toc_section_display": true,
   "toc_window_display": false
  }
 },
 "nbformat": 4,
 "nbformat_minor": 5
}
