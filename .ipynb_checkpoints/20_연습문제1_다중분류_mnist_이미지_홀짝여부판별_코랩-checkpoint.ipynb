{
 "cells": [
  {
   "cell_type": "code",
   "execution_count": 1,
   "id": "29f93e67",
   "metadata": {
    "executionInfo": {
     "elapsed": 2777,
     "status": "ok",
     "timestamp": 1666253757206,
     "user": {
      "displayName": "jisung ha",
      "userId": "09971022567349189698"
     },
     "user_tz": -540
    },
    "id": "29f93e67"
   },
   "outputs": [],
   "source": [
    "import os\n",
    "import numpy as np\n",
    "import pandas as pd\n",
    "from keras.datasets import mnist\n",
    "\n",
    "# working_path = '/Users/jsha/gjai/nlp/20_practice/'\n",
    "\n",
    "# if not os.path.exists(working_path):\n",
    "#     os.mkdir(working_path)\n",
    "#     print(f'making directory {working_path}')\n",
    "    \n",
    "# os.chdir(working_path)\n",
    "# !pwd"
   ]
  },
  {
   "cell_type": "code",
   "execution_count": 2,
   "id": "9ce1d6d9",
   "metadata": {
    "executionInfo": {
     "elapsed": 17,
     "status": "ok",
     "timestamp": 1666253757207,
     "user": {
      "displayName": "jisung ha",
      "userId": "09971022567349189698"
     },
     "user_tz": -540
    },
    "id": "9ce1d6d9"
   },
   "outputs": [],
   "source": [
    "(train_images, train_labels), (test_images, test_labels) = mnist.load_data()"
   ]
  },
  {
   "cell_type": "code",
   "execution_count": 3,
   "id": "1fbeedfb",
   "metadata": {
    "colab": {
     "base_uri": "https://localhost:8080/"
    },
    "executionInfo": {
     "elapsed": 15,
     "status": "ok",
     "timestamp": 1666253757207,
     "user": {
      "displayName": "jisung ha",
      "userId": "09971022567349189698"
     },
     "user_tz": -540
    },
    "id": "1fbeedfb",
    "outputId": "a16a777e-09a7-4559-f101-e5fa61b0b3a2"
   },
   "outputs": [
    {
     "name": "stdout",
     "output_type": "stream",
     "text": [
      "(60000, 28, 28)\n",
      "(60000,)\n"
     ]
    }
   ],
   "source": [
    "print(train_images.shape)\n",
    "print(train_labels.shape)"
   ]
  },
  {
   "cell_type": "code",
   "execution_count": 4,
   "id": "2acc03ad",
   "metadata": {
    "executionInfo": {
     "elapsed": 12,
     "status": "ok",
     "timestamp": 1666253757208,
     "user": {
      "displayName": "jisung ha",
      "userId": "09971022567349189698"
     },
     "user_tz": -540
    },
    "id": "2acc03ad"
   },
   "outputs": [],
   "source": [
    "train_images = np.reshape(train_images, train_images.shape + (1,))\n",
    "test_images = np.reshape(test_images, test_images.shape + (1,))"
   ]
  },
  {
   "cell_type": "code",
   "execution_count": 5,
   "id": "d7b46518",
   "metadata": {
    "colab": {
     "base_uri": "https://localhost:8080/"
    },
    "executionInfo": {
     "elapsed": 12,
     "status": "ok",
     "timestamp": 1666253757208,
     "user": {
      "displayName": "jisung ha",
      "userId": "09971022567349189698"
     },
     "user_tz": -540
    },
    "id": "d7b46518",
    "outputId": "8f69bd5d-3087-4337-b31a-54ff07b12186",
    "scrolled": true
   },
   "outputs": [
    {
     "name": "stdout",
     "output_type": "stream",
     "text": [
      "(60000, 28, 28, 1)\n",
      "(10000, 28, 28, 1)\n"
     ]
    }
   ],
   "source": [
    "print(train_images.shape)\n",
    "print(test_images.shape)"
   ]
  },
  {
   "cell_type": "code",
   "execution_count": 6,
   "id": "28fe2356",
   "metadata": {
    "colab": {
     "base_uri": "https://localhost:8080/"
    },
    "executionInfo": {
     "elapsed": 10,
     "status": "ok",
     "timestamp": 1666253757209,
     "user": {
      "displayName": "jisung ha",
      "userId": "09971022567349189698"
     },
     "user_tz": -540
    },
    "id": "28fe2356",
    "outputId": "8d001758-6775-47a8-efee-714d6a817a0d"
   },
   "outputs": [
    {
     "name": "stdout",
     "output_type": "stream",
     "text": [
      "[7 2 1 0 4]\n",
      "[1, 0, 1, 0, 0]\n"
     ]
    }
   ],
   "source": [
    "train_labels_홀짝 = [0 if i%2 == 0 else 1 for i in train_labels]\n",
    "test_labels_홀짝 = [0 if i%2 == 0 else 1 for i in test_labels]\n",
    "print(test_labels[:5])\n",
    "print(test_labels_홀짝[:5])"
   ]
  },
  {
   "cell_type": "code",
   "execution_count": 7,
   "id": "83d10ca0",
   "metadata": {
    "colab": {
     "base_uri": "https://localhost:8080/"
    },
    "executionInfo": {
     "elapsed": 627,
     "status": "ok",
     "timestamp": 1666253757829,
     "user": {
      "displayName": "jisung ha",
      "userId": "09971022567349189698"
     },
     "user_tz": -540
    },
    "id": "83d10ca0",
    "outputId": "fc3b34dd-01b2-454d-8978-3fabdfe8933b"
   },
   "outputs": [
    {
     "data": {
      "text/plain": [
       "array([[[[0],\n",
       "         [0],\n",
       "         [0],\n",
       "         ...,\n",
       "         [0],\n",
       "         [0],\n",
       "         [0]],\n",
       "\n",
       "        [[0],\n",
       "         [0],\n",
       "         [0],\n",
       "         ...,\n",
       "         [0],\n",
       "         [0],\n",
       "         [0]],\n",
       "\n",
       "        [[0],\n",
       "         [0],\n",
       "         [0],\n",
       "         ...,\n",
       "         [0],\n",
       "         [0],\n",
       "         [0]],\n",
       "\n",
       "        ...,\n",
       "\n",
       "        [[0],\n",
       "         [0],\n",
       "         [0],\n",
       "         ...,\n",
       "         [0],\n",
       "         [0],\n",
       "         [0]],\n",
       "\n",
       "        [[0],\n",
       "         [0],\n",
       "         [0],\n",
       "         ...,\n",
       "         [0],\n",
       "         [0],\n",
       "         [0]],\n",
       "\n",
       "        [[0],\n",
       "         [0],\n",
       "         [0],\n",
       "         ...,\n",
       "         [0],\n",
       "         [0],\n",
       "         [0]]],\n",
       "\n",
       "\n",
       "       [[[0],\n",
       "         [0],\n",
       "         [0],\n",
       "         ...,\n",
       "         [0],\n",
       "         [0],\n",
       "         [0]],\n",
       "\n",
       "        [[0],\n",
       "         [0],\n",
       "         [0],\n",
       "         ...,\n",
       "         [0],\n",
       "         [0],\n",
       "         [0]],\n",
       "\n",
       "        [[0],\n",
       "         [0],\n",
       "         [0],\n",
       "         ...,\n",
       "         [0],\n",
       "         [0],\n",
       "         [0]],\n",
       "\n",
       "        ...,\n",
       "\n",
       "        [[0],\n",
       "         [0],\n",
       "         [0],\n",
       "         ...,\n",
       "         [0],\n",
       "         [0],\n",
       "         [0]],\n",
       "\n",
       "        [[0],\n",
       "         [0],\n",
       "         [0],\n",
       "         ...,\n",
       "         [0],\n",
       "         [0],\n",
       "         [0]],\n",
       "\n",
       "        [[0],\n",
       "         [0],\n",
       "         [0],\n",
       "         ...,\n",
       "         [0],\n",
       "         [0],\n",
       "         [0]]],\n",
       "\n",
       "\n",
       "       [[[0],\n",
       "         [0],\n",
       "         [0],\n",
       "         ...,\n",
       "         [0],\n",
       "         [0],\n",
       "         [0]],\n",
       "\n",
       "        [[0],\n",
       "         [0],\n",
       "         [0],\n",
       "         ...,\n",
       "         [0],\n",
       "         [0],\n",
       "         [0]],\n",
       "\n",
       "        [[0],\n",
       "         [0],\n",
       "         [0],\n",
       "         ...,\n",
       "         [0],\n",
       "         [0],\n",
       "         [0]],\n",
       "\n",
       "        ...,\n",
       "\n",
       "        [[0],\n",
       "         [0],\n",
       "         [0],\n",
       "         ...,\n",
       "         [0],\n",
       "         [0],\n",
       "         [0]],\n",
       "\n",
       "        [[0],\n",
       "         [0],\n",
       "         [0],\n",
       "         ...,\n",
       "         [0],\n",
       "         [0],\n",
       "         [0]],\n",
       "\n",
       "        [[0],\n",
       "         [0],\n",
       "         [0],\n",
       "         ...,\n",
       "         [0],\n",
       "         [0],\n",
       "         [0]]],\n",
       "\n",
       "\n",
       "       ...,\n",
       "\n",
       "\n",
       "       [[[0],\n",
       "         [0],\n",
       "         [0],\n",
       "         ...,\n",
       "         [0],\n",
       "         [0],\n",
       "         [0]],\n",
       "\n",
       "        [[0],\n",
       "         [0],\n",
       "         [0],\n",
       "         ...,\n",
       "         [0],\n",
       "         [0],\n",
       "         [0]],\n",
       "\n",
       "        [[0],\n",
       "         [0],\n",
       "         [0],\n",
       "         ...,\n",
       "         [0],\n",
       "         [0],\n",
       "         [0]],\n",
       "\n",
       "        ...,\n",
       "\n",
       "        [[0],\n",
       "         [0],\n",
       "         [0],\n",
       "         ...,\n",
       "         [0],\n",
       "         [0],\n",
       "         [0]],\n",
       "\n",
       "        [[0],\n",
       "         [0],\n",
       "         [0],\n",
       "         ...,\n",
       "         [0],\n",
       "         [0],\n",
       "         [0]],\n",
       "\n",
       "        [[0],\n",
       "         [0],\n",
       "         [0],\n",
       "         ...,\n",
       "         [0],\n",
       "         [0],\n",
       "         [0]]],\n",
       "\n",
       "\n",
       "       [[[0],\n",
       "         [0],\n",
       "         [0],\n",
       "         ...,\n",
       "         [0],\n",
       "         [0],\n",
       "         [0]],\n",
       "\n",
       "        [[0],\n",
       "         [0],\n",
       "         [0],\n",
       "         ...,\n",
       "         [0],\n",
       "         [0],\n",
       "         [0]],\n",
       "\n",
       "        [[0],\n",
       "         [0],\n",
       "         [0],\n",
       "         ...,\n",
       "         [0],\n",
       "         [0],\n",
       "         [0]],\n",
       "\n",
       "        ...,\n",
       "\n",
       "        [[0],\n",
       "         [0],\n",
       "         [0],\n",
       "         ...,\n",
       "         [0],\n",
       "         [0],\n",
       "         [0]],\n",
       "\n",
       "        [[0],\n",
       "         [0],\n",
       "         [0],\n",
       "         ...,\n",
       "         [0],\n",
       "         [0],\n",
       "         [0]],\n",
       "\n",
       "        [[0],\n",
       "         [0],\n",
       "         [0],\n",
       "         ...,\n",
       "         [0],\n",
       "         [0],\n",
       "         [0]]],\n",
       "\n",
       "\n",
       "       [[[0],\n",
       "         [0],\n",
       "         [0],\n",
       "         ...,\n",
       "         [0],\n",
       "         [0],\n",
       "         [0]],\n",
       "\n",
       "        [[0],\n",
       "         [0],\n",
       "         [0],\n",
       "         ...,\n",
       "         [0],\n",
       "         [0],\n",
       "         [0]],\n",
       "\n",
       "        [[0],\n",
       "         [0],\n",
       "         [0],\n",
       "         ...,\n",
       "         [0],\n",
       "         [0],\n",
       "         [0]],\n",
       "\n",
       "        ...,\n",
       "\n",
       "        [[0],\n",
       "         [0],\n",
       "         [0],\n",
       "         ...,\n",
       "         [0],\n",
       "         [0],\n",
       "         [0]],\n",
       "\n",
       "        [[0],\n",
       "         [0],\n",
       "         [0],\n",
       "         ...,\n",
       "         [0],\n",
       "         [0],\n",
       "         [0]],\n",
       "\n",
       "        [[0],\n",
       "         [0],\n",
       "         [0],\n",
       "         ...,\n",
       "         [0],\n",
       "         [0],\n",
       "         [0]]]], dtype=uint8)"
      ]
     },
     "execution_count": 7,
     "metadata": {},
     "output_type": "execute_result"
    }
   ],
   "source": [
    "train_images"
   ]
  },
  {
   "cell_type": "code",
   "execution_count": 8,
   "id": "90fce018",
   "metadata": {
    "colab": {
     "base_uri": "https://localhost:8080/"
    },
    "executionInfo": {
     "elapsed": 20,
     "status": "ok",
     "timestamp": 1666253757829,
     "user": {
      "displayName": "jisung ha",
      "userId": "09971022567349189698"
     },
     "user_tz": -540
    },
    "id": "90fce018",
    "outputId": "99053f93-36f9-48ba-e080-5efb46edc9aa"
   },
   "outputs": [
    {
     "data": {
      "text/plain": [
       "10"
      ]
     },
     "execution_count": 8,
     "metadata": {},
     "output_type": "execute_result"
    }
   ],
   "source": [
    "class_num = len(set(train_labels))\n",
    "class_num"
   ]
  },
  {
   "cell_type": "code",
   "execution_count": 9,
   "id": "2884e625",
   "metadata": {
    "colab": {
     "base_uri": "https://localhost:8080/"
    },
    "executionInfo": {
     "elapsed": 15,
     "status": "ok",
     "timestamp": 1666253757830,
     "user": {
      "displayName": "jisung ha",
      "userId": "09971022567349189698"
     },
     "user_tz": -540
    },
    "id": "2884e625",
    "outputId": "d2163c9c-2668-40f8-b6cd-a30657f5814d"
   },
   "outputs": [
    {
     "name": "stdout",
     "output_type": "stream",
     "text": [
      "[[  0   0   0   0   0   0   0   0   0   0   0   0   0   0   0   0   0   0   0   0   0   0   0   0   0   0   0   0]\n",
      " [  0   0   0   0   0   0   0   0   0   0   0   0   0   0   0   0   0   0   0   0   0   0   0   0   0   0   0   0]\n",
      " [  0   0   0   0   0   0   0   0   0   0   0   0   0   0   0   0   0   0   0   0   0   0   0   0   0   0   0   0]\n",
      " [  0   0   0   0   0   0   0   0   0   0   0   0   0   0   0   0   0   0   0   0   0   0   0   0   0   0   0   0]\n",
      " [  0   0   0   0   0   0   0   0   0   0   0   0   0   0   0   0   0   0   0   0   0   0   0   0   0   0   0   0]\n",
      " [  0   0   0   0   0   0   0   0   0   0   0   0   3  18  18  18 126 136 175  26 166 255 247 127   0   0   0   0]\n",
      " [  0   0   0   0   0   0   0   0  30  36  94 154 170 253 253 253 253 253 225 172 253 242 195  64   0   0   0   0]\n",
      " [  0   0   0   0   0   0   0  49 238 253 253 253 253 253 253 253 253 251  93  82  82  56  39   0   0   0   0   0]\n",
      " [  0   0   0   0   0   0   0  18 219 253 253 253 253 253 198 182 247 241   0   0   0   0   0   0   0   0   0   0]\n",
      " [  0   0   0   0   0   0   0   0  80 156 107 253 253 205  11   0  43 154   0   0   0   0   0   0   0   0   0   0]\n",
      " [  0   0   0   0   0   0   0   0   0  14   1 154 253  90   0   0   0   0   0   0   0   0   0   0   0   0   0   0]\n",
      " [  0   0   0   0   0   0   0   0   0   0   0 139 253 190   2   0   0   0   0   0   0   0   0   0   0   0   0   0]\n",
      " [  0   0   0   0   0   0   0   0   0   0   0  11 190 253  70   0   0   0   0   0   0   0   0   0   0   0   0   0]\n",
      " [  0   0   0   0   0   0   0   0   0   0   0   0  35 241 225 160 108   1   0   0   0   0   0   0   0   0   0   0]\n",
      " [  0   0   0   0   0   0   0   0   0   0   0   0   0  81 240 253 253 119  25   0   0   0   0   0   0   0   0   0]\n",
      " [  0   0   0   0   0   0   0   0   0   0   0   0   0   0  45 186 253 253 150  27   0   0   0   0   0   0   0   0]\n",
      " [  0   0   0   0   0   0   0   0   0   0   0   0   0   0   0  16  93 252 253 187   0   0   0   0   0   0   0   0]\n",
      " [  0   0   0   0   0   0   0   0   0   0   0   0   0   0   0   0   0 249 253 249  64   0   0   0   0   0   0   0]\n",
      " [  0   0   0   0   0   0   0   0   0   0   0   0   0   0  46 130 183 253 253 207   2   0   0   0   0   0   0   0]\n",
      " [  0   0   0   0   0   0   0   0   0   0   0   0  39 148 229 253 253 253 250 182   0   0   0   0   0   0   0   0]\n",
      " [  0   0   0   0   0   0   0   0   0   0  24 114 221 253 253 253 253 201  78   0   0   0   0   0   0   0   0   0]\n",
      " [  0   0   0   0   0   0   0   0  23  66 213 253 253 253 253 198  81   2   0   0   0   0   0   0   0   0   0   0]\n",
      " [  0   0   0   0   0   0  18 171 219 253 253 253 253 195  80   9   0   0   0   0   0   0   0   0   0   0   0   0]\n",
      " [  0   0   0   0  55 172 226 253 253 253 253 244 133  11   0   0   0   0   0   0   0   0   0   0   0   0   0   0]\n",
      " [  0   0   0   0 136 253 253 253 212 135 132  16   0   0   0   0   0   0   0   0   0   0   0   0   0   0   0   0]\n",
      " [  0   0   0   0   0   0   0   0   0   0   0   0   0   0   0   0   0   0   0   0   0   0   0   0   0   0   0   0]\n",
      " [  0   0   0   0   0   0   0   0   0   0   0   0   0   0   0   0   0   0   0   0   0   0   0   0   0   0   0   0]\n",
      " [  0   0   0   0   0   0   0   0   0   0   0   0   0   0   0   0   0   0   0   0   0   0   0   0   0   0   0   0]]\n"
     ]
    }
   ],
   "source": [
    "np.set_printoptions(linewidth=np.inf)\n",
    "print(train_images[0, :, :, 0])"
   ]
  },
  {
   "cell_type": "code",
   "execution_count": 10,
   "id": "b6a76b23",
   "metadata": {
    "executionInfo": {
     "elapsed": 12,
     "status": "ok",
     "timestamp": 1666253757830,
     "user": {
      "displayName": "jisung ha",
      "userId": "09971022567349189698"
     },
     "user_tz": -540
    },
    "id": "b6a76b23"
   },
   "outputs": [],
   "source": [
    "train_images = train_images.astype('float32') / 255\n",
    "\n",
    "test_images = test_images.astype('float32') / 255"
   ]
  },
  {
   "cell_type": "code",
   "execution_count": 11,
   "id": "03cd2666",
   "metadata": {
    "executionInfo": {
     "elapsed": 13,
     "status": "ok",
     "timestamp": 1666253757831,
     "user": {
      "displayName": "jisung ha",
      "userId": "09971022567349189698"
     },
     "user_tz": -540
    },
    "id": "03cd2666"
   },
   "outputs": [],
   "source": [
    "from tensorflow.keras.utils import to_categorical\n",
    "\n",
    "train_labels = to_categorical(train_labels)\n",
    "test_labels = to_categorical(test_labels)\n",
    "\n",
    "train_labels_홀짝 = np.array(train_labels_홀짝)\n",
    "test_labels_홀짝 = np.array(test_labels_홀짝)"
   ]
  },
  {
   "cell_type": "code",
   "execution_count": 12,
   "id": "bc947fc2",
   "metadata": {
    "colab": {
     "base_uri": "https://localhost:8080/"
    },
    "executionInfo": {
     "elapsed": 12,
     "status": "ok",
     "timestamp": 1666253757831,
     "user": {
      "displayName": "jisung ha",
      "userId": "09971022567349189698"
     },
     "user_tz": -540
    },
    "id": "bc947fc2",
    "outputId": "9f27752f-794d-4b8e-c352-c4968cbb1454"
   },
   "outputs": [
    {
     "name": "stdout",
     "output_type": "stream",
     "text": [
      "(60000, 28, 28, 1)\n",
      "(60000, 10)\n",
      "(60000,)\n"
     ]
    }
   ],
   "source": [
    "print(train_images.shape)\n",
    "print(train_labels.shape)\n",
    "print(train_labels_홀짝.shape)\n"
   ]
  },
  {
   "cell_type": "code",
   "execution_count": 13,
   "id": "158bb599",
   "metadata": {
    "colab": {
     "base_uri": "https://localhost:8080/"
    },
    "executionInfo": {
     "elapsed": 8,
     "status": "ok",
     "timestamp": 1666253757831,
     "user": {
      "displayName": "jisung ha",
      "userId": "09971022567349189698"
     },
     "user_tz": -540
    },
    "id": "158bb599",
    "outputId": "f9cf6463-744b-4ee0-8e27-ac58951819d1"
   },
   "outputs": [
    {
     "name": "stdout",
     "output_type": "stream",
     "text": [
      "(10000, 28, 28, 1)\n",
      "(10000, 10)\n",
      "(10000,)\n"
     ]
    }
   ],
   "source": [
    "print(test_images.shape)\n",
    "print(test_labels.shape)\n",
    "print(test_labels_홀짝.shape)\n"
   ]
  },
  {
   "cell_type": "code",
   "execution_count": 14,
   "id": "d2290516",
   "metadata": {
    "executionInfo": {
     "elapsed": 860,
     "status": "ok",
     "timestamp": 1666253758685,
     "user": {
      "displayName": "jisung ha",
      "userId": "09971022567349189698"
     },
     "user_tz": -540
    },
    "id": "d2290516"
   },
   "outputs": [],
   "source": [
    "from keras.models import Model\n",
    "from keras import models\n",
    "from keras import layers\n",
    "from keras import Input\n",
    "import numpy as np\n",
    "\n",
    "images_input = Input(shape=(28,28,1), dtype='float32', name='images')\n",
    "\n",
    "x = layers.Conv2D(128, kernel_size=(3, 3),\n",
    "                       activation='relu')(images_input)\n",
    "x = layers.Conv2D(128, kernel_size=(3, 3), activation='relu')(x)\n",
    "x = layers.MaxPooling2D(pool_size=2)(x)\n",
    "x = layers.Dropout(0.25)(x)\n",
    "x = layers.Flatten()(x)\n",
    "x = layers.Dense(128, activation='relu')(x)\n",
    "x = layers.Dense(64, activation='relu')(x)\n",
    "x = layers.Dropout(0.25)(x)\n",
    "x = layers.Dense(32, activation='relu')(x)\n",
    "x = layers.Dense(16, activation='relu')(x)"
   ]
  },
  {
   "cell_type": "code",
   "execution_count": 15,
   "id": "ff6084ba",
   "metadata": {
    "executionInfo": {
     "elapsed": 25,
     "status": "ok",
     "timestamp": 1666253758686,
     "user": {
      "displayName": "jisung ha",
      "userId": "09971022567349189698"
     },
     "user_tz": -540
    },
    "id": "ff6084ba"
   },
   "outputs": [],
   "source": [
    "pred_labels = layers.Dense(class_num, activation='softmax',\n",
    "                           name='labels')(x)\n",
    "\n",
    "pred_odds = layers.Dense(1, activation='sigmoid', name='odds')(x)"
   ]
  },
  {
   "cell_type": "code",
   "execution_count": 16,
   "id": "d676a08c",
   "metadata": {
    "colab": {
     "base_uri": "https://localhost:8080/"
    },
    "executionInfo": {
     "elapsed": 1315,
     "status": "ok",
     "timestamp": 1666253759977,
     "user": {
      "displayName": "jisung ha",
      "userId": "09971022567349189698"
     },
     "user_tz": -540
    },
    "id": "d676a08c",
    "outputId": "38865695-096c-4cca-a737-ade69b9f476b"
   },
   "outputs": [
    {
     "name": "stdout",
     "output_type": "stream",
     "text": [
      "Model: \"model\"\n",
      "__________________________________________________________________________________________________\n",
      " Layer (type)                   Output Shape         Param #     Connected to                     \n",
      "==================================================================================================\n",
      " images (InputLayer)            [(None, 28, 28, 1)]  0           []                               \n",
      "                                                                                                  \n",
      " conv2d (Conv2D)                (None, 26, 26, 128)  1280        ['images[0][0]']                 \n",
      "                                                                                                  \n",
      " conv2d_1 (Conv2D)              (None, 24, 24, 128)  147584      ['conv2d[0][0]']                 \n",
      "                                                                                                  \n",
      " max_pooling2d (MaxPooling2D)   (None, 12, 12, 128)  0           ['conv2d_1[0][0]']               \n",
      "                                                                                                  \n",
      " dropout (Dropout)              (None, 12, 12, 128)  0           ['max_pooling2d[0][0]']          \n",
      "                                                                                                  \n",
      " flatten (Flatten)              (None, 18432)        0           ['dropout[0][0]']                \n",
      "                                                                                                  \n",
      " dense (Dense)                  (None, 128)          2359424     ['flatten[0][0]']                \n",
      "                                                                                                  \n",
      " dense_1 (Dense)                (None, 64)           8256        ['dense[0][0]']                  \n",
      "                                                                                                  \n",
      " dropout_1 (Dropout)            (None, 64)           0           ['dense_1[0][0]']                \n",
      "                                                                                                  \n",
      " dense_2 (Dense)                (None, 32)           2080        ['dropout_1[0][0]']              \n",
      "                                                                                                  \n",
      " dense_3 (Dense)                (None, 16)           528         ['dense_2[0][0]']                \n",
      "                                                                                                  \n",
      " labels (Dense)                 (None, 10)           170         ['dense_3[0][0]']                \n",
      "                                                                                                  \n",
      " odds (Dense)                   (None, 1)            17          ['dense_3[0][0]']                \n",
      "                                                                                                  \n",
      "==================================================================================================\n",
      "Total params: 2,519,339\n",
      "Trainable params: 2,519,339\n",
      "Non-trainable params: 0\n",
      "__________________________________________________________________________________________________\n"
     ]
    }
   ],
   "source": [
    "model = Model(inputs=images_input, outputs=[pred_labels, pred_odds])\n",
    "\n",
    "model.summary()"
   ]
  },
  {
   "cell_type": "code",
   "execution_count": 17,
   "id": "0dd44418",
   "metadata": {
    "executionInfo": {
     "elapsed": 13,
     "status": "ok",
     "timestamp": 1666253759978,
     "user": {
      "displayName": "jisung ha",
      "userId": "09971022567349189698"
     },
     "user_tz": -540
    },
    "id": "0dd44418"
   },
   "outputs": [],
   "source": [
    "model.compile(optimizer='rmsprop',\n",
    "              loss={'labels':'categorical_crossentropy',\n",
    "                    'odds':'binary_crossentropy'},\n",
    "              metrics=['acc'])"
   ]
  },
  {
   "cell_type": "code",
   "execution_count": 18,
   "id": "4d7e8e26",
   "metadata": {
    "colab": {
     "base_uri": "https://localhost:8080/",
     "height": 1000
    },
    "executionInfo": {
     "elapsed": 12,
     "status": "ok",
     "timestamp": 1666253759978,
     "user": {
      "displayName": "jisung ha",
      "userId": "09971022567349189698"
     },
     "user_tz": -540
    },
    "id": "4d7e8e26",
    "outputId": "e9d1e697-5301-46c6-9fd2-cb75d355ee69",
    "scrolled": true
   },
   "outputs": [
    {
     "data": {
      "image/png": "[encoded data removed]",
      "text/plain": [
       "<IPython.core.display.Image object>"
      ]
     },
     "execution_count": 18,
     "metadata": {},
     "output_type": "execute_result"
    }
   ],
   "source": [
    "from keras.utils.vis_utils import plot_model\n",
    "\n",
    "plot_model(model, show_shapes=True, show_layer_names=True)"
   ]
  },
  {
   "cell_type": "code",
   "execution_count": 19,
   "id": "c8310fa9",
   "metadata": {
    "colab": {
     "base_uri": "https://localhost:8080/"
    },
    "executionInfo": {
     "elapsed": 142855,
     "status": "ok",
     "timestamp": 1666253902826,
     "user": {
      "displayName": "jisung ha",
      "userId": "09971022567349189698"
     },
     "user_tz": -540
    },
    "id": "c8310fa9",
    "outputId": "13b74c6c-fa1b-4c91-abbd-9293b12cf28a"
   },
   "outputs": [
    {
     "name": "stdout",
     "output_type": "stream",
     "text": [
      "Epoch 1/10\n",
      "469/469 [==============================] - 18s 30ms/step - loss: 0.4222 - labels_loss: 0.3068 - odds_loss: 0.1153 - labels_acc: 0.9084 - odds_acc: 0.9535 - val_loss: 0.1018 - val_labels_loss: 0.0733 - val_odds_loss: 0.0286 - val_labels_acc: 0.9792 - val_odds_acc: 0.9910\n",
      "Epoch 2/10\n",
      "469/469 [==============================] - 10s 22ms/step - loss: 0.1077 - labels_loss: 0.0774 - odds_loss: 0.0303 - labels_acc: 0.9794 - odds_acc: 0.9900 - val_loss: 0.0644 - val_labels_loss: 0.0437 - val_odds_loss: 0.0207 - val_labels_acc: 0.9875 - val_odds_acc: 0.9925\n",
      "Epoch 3/10\n",
      "469/469 [==============================] - 10s 22ms/step - loss: 0.0719 - labels_loss: 0.0509 - odds_loss: 0.0210 - labels_acc: 0.9862 - odds_acc: 0.9936 - val_loss: 0.0553 - val_labels_loss: 0.0398 - val_odds_loss: 0.0156 - val_labels_acc: 0.9906 - val_odds_acc: 0.9954\n",
      "Epoch 4/10\n",
      "469/469 [==============================] - 10s 22ms/step - loss: 0.0555 - labels_loss: 0.0397 - odds_loss: 0.0158 - labels_acc: 0.9893 - odds_acc: 0.9947 - val_loss: 0.0533 - val_labels_loss: 0.0374 - val_odds_loss: 0.0159 - val_labels_acc: 0.9908 - val_odds_acc: 0.9958\n",
      "Epoch 5/10\n",
      "469/469 [==============================] - 10s 22ms/step - loss: 0.0435 - labels_loss: 0.0311 - odds_loss: 0.0124 - labels_acc: 0.9917 - odds_acc: 0.9962 - val_loss: 0.0697 - val_labels_loss: 0.0521 - val_odds_loss: 0.0176 - val_labels_acc: 0.9887 - val_odds_acc: 0.9948\n",
      "Epoch 6/10\n",
      "469/469 [==============================] - 10s 22ms/step - loss: 0.0376 - labels_loss: 0.0265 - odds_loss: 0.0111 - labels_acc: 0.9930 - odds_acc: 0.9969 - val_loss: 0.0577 - val_labels_loss: 0.0407 - val_odds_loss: 0.0170 - val_labels_acc: 0.9917 - val_odds_acc: 0.9962\n",
      "Epoch 7/10\n",
      "469/469 [==============================] - 11s 23ms/step - loss: 0.0349 - labels_loss: 0.0252 - odds_loss: 0.0096 - labels_acc: 0.9935 - odds_acc: 0.9968 - val_loss: 0.0654 - val_labels_loss: 0.0456 - val_odds_loss: 0.0198 - val_labels_acc: 0.9891 - val_odds_acc: 0.9943\n",
      "Epoch 8/10\n",
      "469/469 [==============================] - 10s 22ms/step - loss: 0.0313 - labels_loss: 0.0225 - odds_loss: 0.0089 - labels_acc: 0.9944 - odds_acc: 0.9974 - val_loss: 0.0529 - val_labels_loss: 0.0379 - val_odds_loss: 0.0150 - val_labels_acc: 0.9925 - val_odds_acc: 0.9961\n",
      "Epoch 9/10\n",
      "469/469 [==============================] - 10s 22ms/step - loss: 0.0282 - labels_loss: 0.0201 - odds_loss: 0.0081 - labels_acc: 0.9950 - odds_acc: 0.9976 - val_loss: 0.0634 - val_labels_loss: 0.0464 - val_odds_loss: 0.0170 - val_labels_acc: 0.9921 - val_odds_acc: 0.9966\n",
      "Epoch 10/10\n",
      "469/469 [==============================] - 10s 22ms/step - loss: 0.0272 - labels_loss: 0.0196 - odds_loss: 0.0076 - labels_acc: 0.9954 - odds_acc: 0.9978 - val_loss: 0.0538 - val_labels_loss: 0.0385 - val_odds_loss: 0.0153 - val_labels_acc: 0.9918 - val_odds_acc: 0.9955\n"
     ]
    }
   ],
   "source": [
    "history = model.fit(train_images, [train_labels, train_labels_홀짝], \n",
    "                    epochs=10, batch_size=128, validation_data=(test_images, [test_labels, test_labels_홀짝]))"
   ]
  },
  {
   "cell_type": "code",
   "execution_count": 19,
   "id": "1dec1458",
   "metadata": {
    "executionInfo": {
     "elapsed": 17,
     "status": "ok",
     "timestamp": 1666253902826,
     "user": {
      "displayName": "jisung ha",
      "userId": "09971022567349189698"
     },
     "user_tz": -540
    },
    "id": "1dec1458"
   },
   "outputs": [],
   "source": []
  },
  {
   "cell_type": "code",
   "execution_count": 19,
   "id": "ad190505",
   "metadata": {
    "executionInfo": {
     "elapsed": 16,
     "status": "ok",
     "timestamp": 1666253902827,
     "user": {
      "displayName": "jisung ha",
      "userId": "09971022567349189698"
     },
     "user_tz": -540
    },
    "id": "ad190505"
   },
   "outputs": [],
   "source": []
  },
  {
   "cell_type": "code",
   "execution_count": 20,
   "id": "96d2295a",
   "metadata": {
    "colab": {
     "base_uri": "https://localhost:8080/"
    },
    "executionInfo": {
     "elapsed": 15,
     "status": "ok",
     "timestamp": 1666253902827,
     "user": {
      "displayName": "jisung ha",
      "userId": "09971022567349189698"
     },
     "user_tz": -540
    },
    "id": "96d2295a",
    "outputId": "8ed46b54-c85f-4109-fd17-445dcae3d8d0"
   },
   "outputs": [
    {
     "data": {
      "text/plain": [
       "{'loss': [0.4221784770488739,\n",
       "  0.10766691714525223,\n",
       "  0.07190946489572525,\n",
       "  0.05548112094402313,\n",
       "  0.04346025362610817,\n",
       "  0.0376456193625927,\n",
       "  0.034853868186473846,\n",
       "  0.03132571280002594,\n",
       "  0.028209706768393517,\n",
       "  0.02723333053290844],\n",
       " 'labels_loss': [0.30683502554893494,\n",
       "  0.07735294848680496,\n",
       "  0.05089046061038971,\n",
       "  0.03971360996365547,\n",
       "  0.031076988205313683,\n",
       "  0.02654491364955902,\n",
       "  0.025211531668901443,\n",
       "  0.02245793119072914,\n",
       "  0.020148010924458504,\n",
       "  0.01960519142448902],\n",
       " 'odds_loss': [0.1153435930609703,\n",
       "  0.03031397983431816,\n",
       "  0.021019019186496735,\n",
       "  0.015767524018883705,\n",
       "  0.012383298017084599,\n",
       "  0.011100709438323975,\n",
       "  0.009642348624765873,\n",
       "  0.008867774158716202,\n",
       "  0.00806169118732214,\n",
       "  0.007628138177096844],\n",
       " 'labels_acc': [0.9084333181381226,\n",
       "  0.9794166684150696,\n",
       "  0.9861999750137329,\n",
       "  0.9892666935920715,\n",
       "  0.9916666746139526,\n",
       "  0.9930499792098999,\n",
       "  0.9934999942779541,\n",
       "  0.994350016117096,\n",
       "  0.9949833154678345,\n",
       "  0.9953666925430298],\n",
       " 'odds_acc': [0.9534666538238525,\n",
       "  0.9899500012397766,\n",
       "  0.9935833215713501,\n",
       "  0.9947166442871094,\n",
       "  0.996150016784668,\n",
       "  0.9968500137329102,\n",
       "  0.9967666864395142,\n",
       "  0.9974333047866821,\n",
       "  0.9976166486740112,\n",
       "  0.9978166818618774],\n",
       " 'val_loss': [0.10184039920568466,\n",
       "  0.0643581822514534,\n",
       "  0.055344853550195694,\n",
       "  0.053255192935466766,\n",
       "  0.06973578780889511,\n",
       "  0.057680509984493256,\n",
       "  0.06536242365837097,\n",
       "  0.0529182143509388,\n",
       "  0.0633682832121849,\n",
       "  0.05380930006504059],\n",
       " 'val_labels_loss': [0.07326095551252365,\n",
       "  0.043692655861377716,\n",
       "  0.03976044803857803,\n",
       "  0.03735435754060745,\n",
       "  0.05214063078165054,\n",
       "  0.040725648403167725,\n",
       "  0.045599762350320816,\n",
       "  0.037943772971630096,\n",
       "  0.04636102542281151,\n",
       "  0.0384989008307457],\n",
       " 'val_odds_loss': [0.02857942134141922,\n",
       "  0.020665517076849937,\n",
       "  0.015584412030875683,\n",
       "  0.015900831669569016,\n",
       "  0.01759515516459942,\n",
       "  0.01695486716926098,\n",
       "  0.019762666895985603,\n",
       "  0.014974440447986126,\n",
       "  0.017007259652018547,\n",
       "  0.015310399234294891],\n",
       " 'val_labels_acc': [0.979200005531311,\n",
       "  0.987500011920929,\n",
       "  0.9905999898910522,\n",
       "  0.9908000230789185,\n",
       "  0.9886999726295471,\n",
       "  0.9916999936103821,\n",
       "  0.9890999794006348,\n",
       "  0.9925000071525574,\n",
       "  0.9921000003814697,\n",
       "  0.9918000102043152],\n",
       " 'val_odds_acc': [0.9909999966621399,\n",
       "  0.9925000071525574,\n",
       "  0.9954000115394592,\n",
       "  0.9958000183105469,\n",
       "  0.9947999715805054,\n",
       "  0.9962000250816345,\n",
       "  0.9943000078201294,\n",
       "  0.9961000084877014,\n",
       "  0.9965999722480774,\n",
       "  0.9955000281333923]}"
      ]
     },
     "execution_count": 20,
     "metadata": {},
     "output_type": "execute_result"
    }
   ],
   "source": [
    "history.history"
   ]
  },
  {
   "cell_type": "code",
   "execution_count": 21,
   "id": "e750d6e7",
   "metadata": {
    "colab": {
     "base_uri": "https://localhost:8080/"
    },
    "executionInfo": {
     "elapsed": 4127,
     "status": "ok",
     "timestamp": 1666253906943,
     "user": {
      "displayName": "jisung ha",
      "userId": "09971022567349189698"
     },
     "user_tz": -540
    },
    "id": "e750d6e7",
    "outputId": "14d0fc95-3be1-4e60-b25d-60324972fe1a",
    "scrolled": true
   },
   "outputs": [
    {
     "name": "stdout",
     "output_type": "stream",
     "text": [
      "313/313 [==============================] - 2s 5ms/step - loss: 0.0538 - labels_loss: 0.0385 - odds_loss: 0.0153 - labels_acc: 0.9918 - odds_acc: 0.9955\n",
      "loss: 0.05380928888916969\n",
      "labels_loss: 0.038498904556035995\n",
      "odds_loss: 0.015310403890907764\n",
      "labels_acc: 0.9918000102043152\n",
      "odds_acc: 0.9955000281333923\n"
     ]
    }
   ],
   "source": [
    "loss, labels_loss, odds_loss, labels_acc, odds_acc = model.evaluate(test_images, [test_labels, test_labels_홀짝])\n",
    "print('loss:', loss)\n",
    "print('labels_loss:', labels_loss)\n",
    "print('odds_loss:', odds_loss)\n",
    "print('labels_acc:', labels_acc)\n",
    "print('odds_acc:', odds_acc)\n"
   ]
  },
  {
   "cell_type": "code",
   "execution_count": 22,
   "id": "cKBOWjl2PdYZ",
   "metadata": {
    "executionInfo": {
     "elapsed": 20,
     "status": "ok",
     "timestamp": 1666253906944,
     "user": {
      "displayName": "jisung ha",
      "userId": "09971022567349189698"
     },
     "user_tz": -540
    },
    "id": "cKBOWjl2PdYZ"
   },
   "outputs": [],
   "source": [
    "working_path = '/content/drive/MyDrive/class7_2/'\n",
    "model.save(working_path+'mnist_multilabels.h5')"
   ]
  },
  {
   "cell_type": "code",
   "execution_count": 25,
   "id": "pxlH7uEZR4hP",
   "metadata": {
    "executionInfo": {
     "elapsed": 5,
     "status": "ok",
     "timestamp": 1666253949545,
     "user": {
      "displayName": "jisung ha",
      "userId": "09971022567349189698"
     },
     "user_tz": -540
    },
    "id": "pxlH7uEZR4hP"
   },
   "outputs": [],
   "source": [
    "from keras.models import load_model\n",
    "\n",
    "loaded_model = load_model(working_path+'mnist_multilabels.h5')"
   ]
  },
  {
   "cell_type": "code",
   "execution_count": 26,
   "id": "oW8eG7O3P65h",
   "metadata": {
    "colab": {
     "base_uri": "https://localhost:8080/"
    },
    "executionInfo": {
     "elapsed": 4,
     "status": "ok",
     "timestamp": 1666253952059,
     "user": {
      "displayName": "jisung ha",
      "userId": "09971022567349189698"
     },
     "user_tz": -540
    },
    "id": "oW8eG7O3P65h",
    "outputId": "1923d5dc-1821-44f6-94ed-5e9a31972fcb"
   },
   "outputs": [
    {
     "name": "stdout",
     "output_type": "stream",
     "text": [
      "1/1 [==============================] - 0s 152ms/step\n"
     ]
    }
   ],
   "source": [
    "result = loaded_model.predict(test_images[0:1])"
   ]
  },
  {
   "cell_type": "code",
   "execution_count": 31,
   "id": "Y5qyHdWfSZJ8",
   "metadata": {
    "colab": {
     "base_uri": "https://localhost:8080/"
    },
    "executionInfo": {
     "elapsed": 5,
     "status": "ok",
     "timestamp": 1666254204386,
     "user": {
      "displayName": "jisung ha",
      "userId": "09971022567349189698"
     },
     "user_tz": -540
    },
    "id": "Y5qyHdWfSZJ8",
    "outputId": "61489389-1709-4903-fd42-3f31705ffcbe"
   },
   "outputs": [
    {
     "name": "stdout",
     "output_type": "stream",
     "text": [
      "본 이미지의 label은 7 입니다.\n",
      "본 이미지의 label은 '홀수' 입니다.\n"
     ]
    }
   ],
   "source": [
    "label = result[0][0]\n",
    "odd_even = result[1][0]\n",
    "\n",
    "labeling = np.argmax(label)\n",
    "print(f'본 이미지의 label은 {labeling} 입니다.')\n",
    "if odd_even > 0.5:\n",
    "    print(\"본 이미지의 label은 '홀수' 입니다.\")\n",
    "else:\n",
    "    print(\"본 이미지의 label은 '짝수' 입니다.\")"
   ]
  },
  {
   "cell_type": "code",
   "execution_count": 33,
   "id": "0MrtwL7YSp3h",
   "metadata": {
    "colab": {
     "base_uri": "https://localhost:8080/",
     "height": 283
    },
    "executionInfo": {
     "elapsed": 1093,
     "status": "ok",
     "timestamp": 1666254829574,
     "user": {
      "displayName": "jisung ha",
      "userId": "09971022567349189698"
     },
     "user_tz": -540
    },
    "id": "0MrtwL7YSp3h",
    "outputId": "a955c474-0fa4-4d00-fed3-5fb164689592"
   },
   "outputs": [
    {
     "data": {
      "text/plain": [
       "<matplotlib.image.AxesImage at 0x7fecb01d0ad0>"
      ]
     },
     "execution_count": 33,
     "metadata": {},
     "output_type": "execute_result"
    },
    {
     "data": {
      "image/png": "[encoded data removed]",
      "text/plain": [
       "<Figure size 432x288 with 1 Axes>"
      ]
     },
     "metadata": {
      "needs_background": "light"
     },
     "output_type": "display_data"
    }
   ],
   "source": [
    "%matplotlib inline\n",
    "import matplotlib.pyplot as plt\n",
    "\n",
    "plt.imshow(test_images[0].reshape((28,28)))"
   ]
  },
  {
   "cell_type": "code",
   "execution_count": 34,
   "id": "MZAhOECHbACX",
   "metadata": {
    "colab": {
     "base_uri": "https://localhost:8080/"
    },
    "executionInfo": {
     "elapsed": 651,
     "status": "ok",
     "timestamp": 1666254859867,
     "user": {
      "displayName": "jisung ha",
      "userId": "09971022567349189698"
     },
     "user_tz": -540
    },
    "id": "MZAhOECHbACX",
    "outputId": "9737df7e-08a1-4de5-8a54-c5f6b758c561"
   },
   "outputs": [
    {
     "data": {
      "text/plain": [
       "dict_keys(['loss', 'labels_loss', 'odds_loss', 'labels_acc', 'odds_acc', 'val_loss', 'val_labels_loss', 'val_odds_loss', 'val_labels_acc', 'val_odds_acc'])"
      ]
     },
     "execution_count": 34,
     "metadata": {},
     "output_type": "execute_result"
    }
   ],
   "source": [
    "history.history.keys()"
   ]
  },
  {
   "cell_type": "code",
   "execution_count": 38,
   "id": "3394b30c",
   "metadata": {
    "executionInfo": {
     "elapsed": 555,
     "status": "ok",
     "timestamp": 1666255240271,
     "user": {
      "displayName": "jisung ha",
      "userId": "09971022567349189698"
     },
     "user_tz": -540
    },
    "id": "3394b30c"
   },
   "outputs": [],
   "source": [
    "%matplotlib inline\n",
    "import matplotlib.pyplot as plt\n",
    "\n",
    "# acc = history.history['acc']\n",
    "# val_acc = history.history['val_acc']\n",
    "loss = history.history['loss']\n",
    "labels_loss = history.history['labels_loss']\n",
    "odds_loss = history.history['odds_loss']\n",
    "val_loss = history.history['val_loss']\n",
    "\n",
    "labels_acc = history.history['labels_acc']\n",
    "odds_acc = history.history['odds_acc']\n",
    "val_labels_acc = history.history['val_labels_acc']\n",
    "val_odds_acc = history.history['val_odds_acc']\n",
    "\n",
    "epochs = range(1, len(loss)+1)\n",
    "# plt.plot(epochs, acc, 'bo', label='Training Acc')\n",
    "# plt.plot(epochs, val_acc, 'b', label='Validation Acc')\n",
    "# plt.title('Training and validation accuracy')\n",
    "# plt.legend()\n",
    "# plt.show()"
   ]
  },
  {
   "cell_type": "code",
   "execution_count": 39,
   "id": "dd74b767",
   "metadata": {
    "colab": {
     "base_uri": "https://localhost:8080/",
     "height": 281
    },
    "executionInfo": {
     "elapsed": 519,
     "status": "ok",
     "timestamp": 1666255244594,
     "user": {
      "displayName": "jisung ha",
      "userId": "09971022567349189698"
     },
     "user_tz": -540
    },
    "id": "dd74b767",
    "outputId": "855639d2-9c7b-43e6-d576-f7821159a420"
   },
   "outputs": [
    {
     "data": {
      "image/png": "[encoded data removed]",
      "text/plain": [
       "<Figure size 432x288 with 1 Axes>"
      ]
     },
     "metadata": {
      "needs_background": "light"
     },
     "output_type": "display_data"
    }
   ],
   "source": [
    "plt.plot(epochs, loss, 'bo', label='Training Loss')\n",
    "# plt.plot(epochs, val_loss, 'b', label='Validation Loss')\n",
    "plt.plot(epochs, labels_loss, 'b', label='labels Loss')\n",
    "plt.plot(epochs, odds_loss, 'r', label='odds Loss')\n",
    "plt.title('Training and validation loss')\n",
    "plt.legend()\n",
    "plt.show()"
   ]
  },
  {
   "cell_type": "code",
   "execution_count": 41,
   "id": "c3c873f2",
   "metadata": {
    "colab": {
     "base_uri": "https://localhost:8080/",
     "height": 281
    },
    "executionInfo": {
     "elapsed": 992,
     "status": "ok",
     "timestamp": 1666255287165,
     "user": {
      "displayName": "jisung ha",
      "userId": "09971022567349189698"
     },
     "user_tz": -540
    },
    "id": "c3c873f2",
    "outputId": "d92801ce-7a41-4f9b-beba-5863c12754b8"
   },
   "outputs": [
    {
     "data": {
      "image/png": "[encoded data removed]",
      "text/plain": [
       "<Figure size 432x288 with 1 Axes>"
      ]
     },
     "metadata": {
      "needs_background": "light"
     },
     "output_type": "display_data"
    }
   ],
   "source": [
    "plt.plot(epochs, labels_acc, 'bo', label='Training labels Loss')\n",
    "plt.plot(epochs, odds_acc, 'ro', label='Training odds Loss')\n",
    "plt.plot(epochs, val_labels_acc, 'b-', label='Validation Labels Loss')\n",
    "plt.plot(epochs, val_odds_acc, 'r-', label='Validation odds Loss')\n",
    "\n",
    "plt.title('Training and validation acc')\n",
    "plt.legend()\n",
    "plt.show()"
   ]
  }
 ],
 "metadata": {
  "accelerator": "GPU",
  "colab": {
   "collapsed_sections": [],
   "provenance": []
  },
  "kernelspec": {
   "display_name": "Python 3",
   "language": "python",
   "name": "python3"
  },
  "language_info": {
   "codemirror_mode": {
    "name": "ipython",
    "version": 3
   },
   "file_extension": ".py",
   "mimetype": "text/x-python",
   "name": "python",
   "nbconvert_exporter": "python",
   "pygments_lexer": "ipython3",
   "version": "3.7.10"
  },
  "toc": {
   "base_numbering": 1,
   "nav_menu": {},
   "number_sections": true,
   "sideBar": true,
   "skip_h1_title": false,
   "title_cell": "Table of Contents",
   "title_sidebar": "Contents",
   "toc_cell": false,
   "toc_position": {},
   "toc_section_display": true,
   "toc_window_display": false
  }
 },
 "nbformat": 4,
 "nbformat_minor": 5
}
