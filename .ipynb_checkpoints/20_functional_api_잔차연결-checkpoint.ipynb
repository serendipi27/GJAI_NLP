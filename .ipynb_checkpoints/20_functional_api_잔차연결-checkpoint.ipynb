{
 "cells": [
  {
   "cell_type": "code",
   "execution_count": 16,
   "id": "5aba2b4a",
   "metadata": {},
   "outputs": [],
   "source": [
    "from keras.models import Model\n",
    "from keras import layers\n",
    "from keras import Input\n",
    "\n",
    "text_max_words = 10000\n",
    "answer_max_words = 200"
   ]
  },
  {
   "cell_type": "markdown",
   "id": "5e161a91",
   "metadata": {},
   "source": [
    "### 잔차연결에서 중요한 것.\n",
    "- layers.add함수인데, 여기에 hidden층 결과와 text_input을 더해주는데, 이건 단순히 행렬 덧셈이야.\n",
    "- concatenate와는 달라. 이건 행렬을 연결해 주는 것이고.\n",
    "- 그래서 단순 행렬 덧셈을 하려면, hidden층 결과와 text_input 층 결과의 형상(shape)이 같아야 한다. (batch_size, 특징수)로 같아야 한다.\n",
    "- 여기서는 text_input shpae에 (None,)으로 특징수를 열어놓았지만, 실은 hidden층 LSTM(32)처럼 32이라고 못박아도 상관없다. 이게 나을듯. 나중 데이터 주입할 때, 더 헷갈릴 수 있음."
   ]
  },
  {
   "cell_type": "code",
   "execution_count": 22,
   "id": "9a6b27af",
   "metadata": {},
   "outputs": [
    {
     "name": "stdout",
     "output_type": "stream",
     "text": [
      "hidden shape: (None, 32)\n",
      "text_input shape: (None, 32)\n"
     ]
    }
   ],
   "source": [
    "text_input = Input(shape=(32,), dtype='float32', name='text')\n",
    "hidden = layers.Embedding(text_max_words, 64)(text_input)\n",
    "hidden = layers.LSTM(32)(hidden)\n",
    "\n",
    "hidden = layers.add([hidden, text_input])\n",
    "print('hidden shape:', hidden.shape)\n",
    "print('text_input shape:', text_input.shape)"
   ]
  },
  {
   "cell_type": "code",
   "execution_count": 23,
   "id": "fabe0c0b",
   "metadata": {},
   "outputs": [],
   "source": [
    "result = layers.Dense(answer_max_words, activation='softmax')(hidden)"
   ]
  },
  {
   "cell_type": "code",
   "execution_count": 25,
   "id": "123af8ed",
   "metadata": {},
   "outputs": [],
   "source": [
    "model = Model(inputs=text_input, outputs=result)"
   ]
  },
  {
   "cell_type": "code",
   "execution_count": 1,
   "id": "a591390e",
   "metadata": {},
   "outputs": [
    {
     "ename": "NameError",
     "evalue": "name 'model' is not defined",
     "output_type": "error",
     "traceback": [
      "\u001b[0;31m---------------------------------------------------------------------------\u001b[0m",
      "\u001b[0;31mNameError\u001b[0m                                 Traceback (most recent call last)",
      "\u001b[0;32m<ipython-input-1-d9565d84fc1d>\u001b[0m in \u001b[0;36m<module>\u001b[0;34m\u001b[0m\n\u001b[0;32m----> 1\u001b[0;31m \u001b[0mmodel\u001b[0m\u001b[0;34m.\u001b[0m\u001b[0mcompile\u001b[0m\u001b[0;34m(\u001b[0m\u001b[0moptimizer\u001b[0m\u001b[0;34m=\u001b[0m\u001b[0;34m'rmsprop'\u001b[0m\u001b[0;34m,\u001b[0m \u001b[0mloss\u001b[0m\u001b[0;34m=\u001b[0m\u001b[0;34m'sparse_categorical_crossentropy'\u001b[0m\u001b[0;34m,\u001b[0m \u001b[0mmetrics\u001b[0m\u001b[0;34m=\u001b[0m\u001b[0;34m[\u001b[0m\u001b[0;34m'acc'\u001b[0m\u001b[0;34m]\u001b[0m\u001b[0;34m)\u001b[0m\u001b[0;34m\u001b[0m\u001b[0;34m\u001b[0m\u001b[0m\n\u001b[0m",
      "\u001b[0;31mNameError\u001b[0m: name 'model' is not defined"
     ]
    }
   ],
   "source": [
    "model.compile(optimizer='rmsprop', loss='sparse_categorical_crossentropy', metrics=['acc'])"
   ]
  },
  {
   "cell_type": "code",
   "execution_count": 27,
   "id": "048b4ab7",
   "metadata": {},
   "outputs": [
    {
     "name": "stdout",
     "output_type": "stream",
     "text": [
      "Model: \"model_1\"\n",
      "__________________________________________________________________________________________________\n",
      "Layer (type)                    Output Shape         Param #     Connected to                     \n",
      "==================================================================================================\n",
      "text (InputLayer)               (None, 32)           0                                            \n",
      "__________________________________________________________________________________________________\n",
      "embedding_11 (Embedding)        (None, 32, 64)       640000      text[0][0]                       \n",
      "__________________________________________________________________________________________________\n",
      "lstm_11 (LSTM)                  (None, 32)           12416       embedding_11[0][0]               \n",
      "__________________________________________________________________________________________________\n",
      "add_10 (Add)                    (None, 32)           0           lstm_11[0][0]                    \n",
      "                                                                 text[0][0]                       \n",
      "__________________________________________________________________________________________________\n",
      "dense_5 (Dense)                 (None, 200)          6600        add_10[0][0]                     \n",
      "==================================================================================================\n",
      "Total params: 659,016\n",
      "Trainable params: 659,016\n",
      "Non-trainable params: 0\n",
      "__________________________________________________________________________________________________\n"
     ]
    }
   ],
   "source": [
    "model.summary()"
   ]
  },
  {
   "cell_type": "code",
   "execution_count": 28,
   "id": "a66acd4c",
   "metadata": {},
   "outputs": [],
   "source": [
    "from tensorflow.keras.utils import to_categorical\n",
    "import numpy as np\n",
    "\n",
    "num_samples = 10000\n",
    "max_len = 32\n",
    "\n",
    "inputs = np.random.randint(low=0, high=text_max_words, \n",
    "                          size=(num_samples, max_len))\n",
    "\n",
    "result = np.random.randint(low=0, high=answer_max_words, size=num_samples)\n",
    "result = to_categorical(result)"
   ]
  },
  {
   "cell_type": "code",
   "execution_count": 29,
   "id": "cf8ccc8f",
   "metadata": {},
   "outputs": [
    {
     "name": "stdout",
     "output_type": "stream",
     "text": [
      "inputs.shape: (10000, 32)\n",
      "\n",
      "result.shape: (10000, 200)\n",
      "\n",
      "inputs: [[6906 9515 6226 ... 6718 8769 5473]\n",
      " [9212 3514 8950 ... 9282 5843  696]\n",
      " [5171 3671  905 ... 6311 7275 2674]\n",
      " ...\n",
      " [5379 5808  963 ...  225  880  559]\n",
      " [3084 5381 7166 ... 3480 4435 1768]\n",
      " [  64 9142 6416 ... 7900 2782 5956]]\n",
      "\n",
      "result: [[0. 0. 0. ... 0. 0. 0.]\n",
      " [0. 0. 0. ... 0. 0. 0.]\n",
      " [0. 0. 0. ... 0. 0. 0.]\n",
      " ...\n",
      " [0. 0. 0. ... 0. 0. 0.]\n",
      " [0. 0. 0. ... 0. 0. 0.]\n",
      " [0. 0. 0. ... 0. 0. 0.]]\n"
     ]
    }
   ],
   "source": [
    "print('inputs.shape:', inputs.shape)\n",
    "print('\\nresult.shape:', result.shape)\n",
    "print('\\ninputs:', inputs)\n",
    "print('\\nresult:', result)"
   ]
  },
  {
   "cell_type": "code",
   "execution_count": null,
   "id": "f7a57fc9",
   "metadata": {},
   "outputs": [
    {
     "name": "stderr",
     "output_type": "stream",
     "text": [
      "/Users/jsha/opt/anaconda3/envs/nlp3710/lib/python3.7/site-packages/tensorflow_core/python/framework/indexed_slices.py:424: UserWarning: Converting sparse IndexedSlices to a dense Tensor of unknown shape. This may consume a large amount of memory.\n",
      "  \"Converting sparse IndexedSlices to a dense Tensor of unknown shape. \"\n"
     ]
    },
    {
     "name": "stdout",
     "output_type": "stream",
     "text": [
      "Epoch 1/3\n"
     ]
    }
   ],
   "source": [
    "model.fit(inputs, result, epochs=3, batch_size=8)"
   ]
  }
 ],
 "metadata": {
  "kernelspec": {
   "display_name": "nlp3710",
   "language": "python",
   "name": "nlp3710"
  },
  "language_info": {
   "codemirror_mode": {
    "name": "ipython",
    "version": 3
   },
   "file_extension": ".py",
   "mimetype": "text/x-python",
   "name": "python",
   "nbconvert_exporter": "python",
   "pygments_lexer": "ipython3",
   "version": "3.7.10"
  },
  "toc": {
   "base_numbering": 1,
   "nav_menu": {},
   "number_sections": true,
   "sideBar": true,
   "skip_h1_title": false,
   "title_cell": "Table of Contents",
   "title_sidebar": "Contents",
   "toc_cell": false,
   "toc_position": {},
   "toc_section_display": true,
   "toc_window_display": false
  }
 },
 "nbformat": 4,
 "nbformat_minor": 5
}
