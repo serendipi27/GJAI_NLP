{
 "cells": [
  {
   "cell_type": "markdown",
   "id": "05127c63",
   "metadata": {},
   "source": [
    "# Activation Function"
   ]
  },
  {
   "cell_type": "markdown",
   "id": "93fdd042",
   "metadata": {},
   "source": [
    "## step function"
   ]
  },
  {
   "cell_type": "code",
   "execution_count": 1,
   "id": "2e02bdc7",
   "metadata": {},
   "outputs": [],
   "source": [
    "def step_function_basic(x):\n",
    "    if x > 0:\n",
    "        return 1\n",
    "    else:\n",
    "        return 0"
   ]
  },
  {
   "cell_type": "code",
   "execution_count": 6,
   "id": "4582cadd",
   "metadata": {},
   "outputs": [
    {
     "name": "stdout",
     "output_type": "stream",
     "text": [
      "[-1.  1.  2.]\n",
      "[False  True  True]\n",
      "[0 1 1]\n"
     ]
    }
   ],
   "source": [
    "import numpy as np\n",
    "\n",
    "x = np.array([-1., 1., 2.])\n",
    "y = x > 0\n",
    "print(x)\n",
    "print(y)\n",
    "\n",
    "y = y.astype(np.int32)\n",
    "print(y)"
   ]
  },
  {
   "cell_type": "code",
   "execution_count": 7,
   "id": "3d8e7e4c",
   "metadata": {},
   "outputs": [],
   "source": [
    "def step_function(x):\n",
    "    y = x > 0\n",
    "    y = y.astype(np.int32)\n",
    "    return y"
   ]
  },
  {
   "cell_type": "code",
   "execution_count": 8,
   "id": "013c2be8",
   "metadata": {},
   "outputs": [
    {
     "data": {
      "image/png": "[encoded data removed]",
      "text/plain": [
       "<Figure size 432x288 with 1 Axes>"
      ]
     },
     "metadata": {
      "needs_background": "light"
     },
     "output_type": "display_data"
    }
   ],
   "source": [
    "x = np.arange(-5., 5., 0.1)\n",
    "y = step_function(x)\n",
    "\n",
    "import matplotlib.pylab as plt\n",
    "plt.plot(x, y)\n",
    "plt.show()"
   ]
  },
  {
   "cell_type": "markdown",
   "id": "8317ccb3",
   "metadata": {},
   "source": [
    "## Sigmoid Function"
   ]
  },
  {
   "cell_type": "code",
   "execution_count": 9,
   "id": "a3abaf08",
   "metadata": {},
   "outputs": [],
   "source": [
    "def sigmoid(x):\n",
    "    y = 1 / (1 + np.exp(-x))\n",
    "    return y"
   ]
  },
  {
   "cell_type": "code",
   "execution_count": 12,
   "id": "791cd304",
   "metadata": {},
   "outputs": [
    {
     "name": "stdout",
     "output_type": "stream",
     "text": [
      "[0.    0.    0.    0.    0.    0.001 0.001 0.002 0.002 0.004 0.007 0.011\n",
      " 0.018 0.029 0.047 0.076 0.119 0.182 0.269 0.378 0.5   0.622 0.731 0.818\n",
      " 0.881 0.924 0.953 0.971 0.982 0.989 0.993 0.996 0.998 0.998 0.999 0.999\n",
      " 1.    1.    1.    1.   ]\n"
     ]
    }
   ],
   "source": [
    "x = np.arange(-10, 10, 0.5)\n",
    "y = sigmoid(x)\n",
    "print(np.round(y, 3))"
   ]
  },
  {
   "cell_type": "code",
   "execution_count": 13,
   "id": "49392615",
   "metadata": {},
   "outputs": [
    {
     "data": {
      "image/png": "[encoded data removed]",
      "text/plain": [
       "<Figure size 432x288 with 1 Axes>"
      ]
     },
     "metadata": {
      "needs_background": "light"
     },
     "output_type": "display_data"
    }
   ],
   "source": [
    "plt.plot(x, y)\n",
    "plt.show()"
   ]
  },
  {
   "cell_type": "markdown",
   "id": "8f980120",
   "metadata": {},
   "source": [
    "## ReLU(Rectified Linear Unit)\n",
    "- 1970년대에 발견되었으나 2011년에 도입. 하니까 잘되네.\n",
    "- 그동안 도입 안된 이유는 발산 가능성 때문임.\n",
    "- 그런데 생각해보면, 은닉층이 쌓일수록 발산할 것 같다는 생각이 들지만, 중요한 키는 가중치. 가중치가 생각보다 작아. 그래서 곱하면 심각할 정도로 발산하지 않더라.\n",
    "- 발산 문제를 해결하는 동시에 중요한 이슈는 <u>\"그레이디언트 소실문제\"</u>를 해결한다는 것. 은닉층이 깊어질수록 가중치가 1 이하기 때문에 곱하기가 쌓여감에 따라 가중치가 소실되는 문제가 발생하는데, ReLU에서는 \"있는 그대로 받아줘\"가 되기 때문에 소실문제를 해결함.\n",
    "- 그래서 은닉층에서 ReLU 함수를 활성화 함수로 많이 사용함."
   ]
  },
  {
   "cell_type": "code",
   "execution_count": 18,
   "id": "aa4f37c4",
   "metadata": {},
   "outputs": [],
   "source": [
    "def relu(x):\n",
    "    return np.maximum(0, x)"
   ]
  },
  {
   "cell_type": "code",
   "execution_count": 19,
   "id": "a49c61db",
   "metadata": {},
   "outputs": [
    {
     "data": {
      "image/png": "[encoded data removed]",
      "text/plain": [
       "<Figure size 432x288 with 1 Axes>"
      ]
     },
     "metadata": {
      "needs_background": "light"
     },
     "output_type": "display_data"
    }
   ],
   "source": [
    "x = np.arange(-5, 5, 0.1)\n",
    "y = relu(x)\n",
    "\n",
    "plt.plot(x, y)\n",
    "plt.show()"
   ]
  },
  {
   "cell_type": "code",
   "execution_count": 27,
   "id": "0b56b61a",
   "metadata": {},
   "outputs": [
    {
     "data": {
      "text/plain": [
       "1"
      ]
     },
     "execution_count": 27,
     "metadata": {},
     "output_type": "execute_result"
    }
   ],
   "source": [
    "a = [1, 2 ]\n",
    "b = np.array(a)\n",
    "b.ndim\n",
    "# a.ndim"
   ]
  },
  {
   "cell_type": "markdown",
   "id": "e1f42b89",
   "metadata": {},
   "source": [
    "# 행렬곱 내적에 대하여"
   ]
  },
  {
   "cell_type": "markdown",
   "id": "b655147a",
   "metadata": {},
   "source": [
    "- 내적 연산의 의미\n",
    "    - 1. 대수: 선형방정식 계산. 행렬곱\n",
    "    - 2. 기하학: 유사도 측정. 1에 가까우면 유사도가 높다.\n",
    "    \n",
    "- 내적은 순서에 민감하다. 교환법칙이 성립하지 않는다.\n",
    "\n",
    "- 행렬과 벡터 곱도 가능하다. 단, 행렬의 열과 벡터의 차원 수가 맞아야 한다. 결과 shape은 행렬의 행과 같다."
   ]
  },
  {
   "cell_type": "code",
   "execution_count": 43,
   "id": "1bae2e32",
   "metadata": {},
   "outputs": [
    {
     "name": "stdout",
     "output_type": "stream",
     "text": [
      "(3, 2)\n",
      "(2, 1)\n",
      "(2,)\n",
      "shape of A.dot(B) : (3, 1)\n",
      "shape of A.dot(C) : (3,)\n"
     ]
    }
   ],
   "source": [
    "A = np.array([[1,2], [3, 4], [5,6]])\n",
    "B = np.array([[7], [8]])\n",
    "C = np.array([7, 8])\n",
    "\n",
    "print(A.shape)\n",
    "print(B.shape)\n",
    "print(C.shape)\n",
    "\n",
    "print('shape of A.dot(B) :', A.dot(B).shape)\n",
    "print('shape of A.dot(C) :', A.dot(C).shape)"
   ]
  },
  {
   "cell_type": "markdown",
   "id": "c3cd8d3c",
   "metadata": {},
   "source": [
    "## 신경망의 내적\n",
    "\n",
    "- 입력값 X는 벡터이고, 가중치 w는 행렬이 된다.\n",
    "- X가 w 앞에 위치하게 되면, X는 열벡터로, 뒤에 위치하면 행벡터로 나타내면 된다.\n",
    "    - (, 2) dot (2, 3) --> (, 3)\n",
    "    - (2, 3) dot (3, ) --> (2, )"
   ]
  },
  {
   "cell_type": "code",
   "execution_count": 48,
   "id": "620b9e7c",
   "metadata": {},
   "outputs": [
    {
     "name": "stdout",
     "output_type": "stream",
     "text": [
      "x.shape: (2,)\n",
      "W.shape: (2, 3)\n"
     ]
    }
   ],
   "source": [
    "x = np.array([1, 2])\n",
    "print('x.shape:', x.shape)\n",
    "\n",
    "W = np.array([[1,2,3], [4,5,6]])\n",
    "print('W.shape:', W.shape)"
   ]
  },
  {
   "cell_type": "code",
   "execution_count": 49,
   "id": "2e0d4c0c",
   "metadata": {},
   "outputs": [
    {
     "name": "stdout",
     "output_type": "stream",
     "text": [
      "y: [ 9 12 15]\n",
      "y.shape: (3,)\n"
     ]
    }
   ],
   "source": [
    "y = np.dot(x, W)\n",
    "print('y:', y)\n",
    "print('y.shape:', y.shape)"
   ]
  },
  {
   "cell_type": "code",
   "execution_count": 50,
   "id": "c0a8dab4",
   "metadata": {},
   "outputs": [
    {
     "name": "stdout",
     "output_type": "stream",
     "text": [
      "y: [ 9 12 15]\n",
      "y.shape: (3,)\n"
     ]
    }
   ],
   "source": [
    "W2 = np.array([[1,2],\n",
    "              [3,4],\n",
    "              [5,6]])\n",
    "y2 = np.dot(W2, x)\n",
    "print('y:', y)\n",
    "print('y.shape:', y.shape)"
   ]
  },
  {
   "cell_type": "markdown",
   "id": "ce7887af",
   "metadata": {},
   "source": [
    "# 연습문제"
   ]
  },
  {
   "cell_type": "markdown",
   "id": "9175d73b",
   "metadata": {},
   "source": [
    "## 연습문제 1. 활성화 함수는 어떤 역할을 하는지 설명하시오.\n",
    "\n",
    "- 가중치의 중요도를 수치로 표현한다. sigmoid 경우, 0과 1 사이의 값.\n",
    "- 입력값과 가중치의 선형방정식 계산 결과가 발산하지 않도록 막아준다.\n",
    "- 은닉층에서는 다음 층의 입력값으로 제공되고, 출력층에서는 결과값을 제공한다."
   ]
  },
  {
   "cell_type": "markdown",
   "id": "39fb3185",
   "metadata": {},
   "source": [
    "## 연습문제 2. Sigmoid Function의 수식을 그래프와 sample 값을 입력하여 설명하시오."
   ]
  },
  {
   "attachments": {
    "Screen%20Shot%202022-09-28%20at%202.36.35%20PM.png": {
     "image/png": "[encoded data removed]"
    }
   },
   "cell_type": "markdown",
   "id": "1b251b5d",
   "metadata": {},
   "source": [
    "![Screen%20Shot%202022-09-28%20at%202.36.35%20PM.png](attachment:Screen%20Shot%202022-09-28%20at%202.36.35%20PM.png)"
   ]
  },
  {
   "cell_type": "code",
   "execution_count": 55,
   "id": "d9b20bb4",
   "metadata": {},
   "outputs": [],
   "source": [
    "def sigmoid(x):\n",
    "    y = 1 / (1 + np.exp(-x))\n",
    "    return y"
   ]
  },
  {
   "cell_type": "code",
   "execution_count": 56,
   "id": "916cfcf2",
   "metadata": {},
   "outputs": [
    {
     "name": "stdout",
     "output_type": "stream",
     "text": [
      "[0.    0.    0.    0.    0.    0.001 0.001 0.002 0.002 0.004 0.007 0.011\n",
      " 0.018 0.029 0.047 0.076 0.119 0.182 0.269 0.378 0.5   0.622 0.731 0.818\n",
      " 0.881 0.924 0.953 0.971 0.982 0.989 0.993 0.996 0.998 0.998 0.999 0.999\n",
      " 1.    1.    1.    1.   ]\n"
     ]
    }
   ],
   "source": [
    "x = np.arange(-10, 10, 0.5)\n",
    "y = sigmoid(x)\n",
    "print(np.round(y, 3))"
   ]
  },
  {
   "cell_type": "code",
   "execution_count": 57,
   "id": "8d653365",
   "metadata": {},
   "outputs": [
    {
     "data": {
      "image/png": "[encoded data removed]",
      "text/plain": [
       "<Figure size 432x288 with 1 Axes>"
      ]
     },
     "metadata": {
      "needs_background": "light"
     },
     "output_type": "display_data"
    }
   ],
   "source": [
    "plt.plot(x, y)\n",
    "plt.xlabel('x')\n",
    "plt.ylabel('y')\n",
    "plt.show()"
   ]
  },
  {
   "cell_type": "markdown",
   "id": "9ad45664",
   "metadata": {},
   "source": [
    "## 연습문제3. 다음 연산의 수행 과정을 설명하시오."
   ]
  },
  {
   "cell_type": "code",
   "execution_count": 62,
   "id": "3ca82578",
   "metadata": {},
   "outputs": [],
   "source": [
    "# 1*5 + 2*7 = 19\n",
    "# 1*6 + 2*8 = 22\n",
    "# 3*5 + 4*7 = 43\n",
    "# 3*6 + 4*8 = 50"
   ]
  },
  {
   "cell_type": "code",
   "execution_count": 60,
   "id": "89568082",
   "metadata": {},
   "outputs": [
    {
     "data": {
      "text/plain": [
       "array([[19, 22],\n",
       "       [43, 50]])"
      ]
     },
     "execution_count": 60,
     "metadata": {},
     "output_type": "execute_result"
    }
   ],
   "source": [
    "np.dot(np.array([[1,2],[3,4]]), np.array([[5,6],[7,8]]))"
   ]
  },
  {
   "cell_type": "markdown",
   "id": "b6b28ac3",
   "metadata": {},
   "source": [
    "## 연습문제4. (2 x 3) 행렬과 (2 x 2)행렬 사이의 행렬곱은 이루어지지 않는다. 그 이유를 설명하시오.\n",
    "\n",
    "- 두 행렬의 내적이 이루어지려면 첫번째 행렬의 열의 개수와 두번째 행렬의 행의 개수가 동일해야 한다. 그러나 예시에서는 첫번째 행렬의 열의 수는 3, 두번째 행렬의 행의 개수는 2임으로 성분끼리의 곱이 이루어질 때 개수가 맞지않아 연산을 할 수 없다."
   ]
  },
  {
   "cell_type": "markdown",
   "id": "9e3fdbae",
   "metadata": {},
   "source": [
    "## 연습문제 5. 아래 그림의 내용을 연습문제 4의 형식으로 설명하시오."
   ]
  },
  {
   "attachments": {
    "Screen%20Shot%202022-09-28%20at%202.22.42%20PM.png": {
     "image/png": "[encoded data removed]"
    }
   },
   "cell_type": "markdown",
   "id": "2e9b55b6",
   "metadata": {},
   "source": [
    "![Screen%20Shot%202022-09-28%20at%202.22.42%20PM.png](attachment:Screen%20Shot%202022-09-28%20at%202.22.42%20PM.png)"
   ]
  },
  {
   "cell_type": "markdown",
   "id": "7da12b12",
   "metadata": {},
   "source": [
    "- x는 크기 2를 갖는 벡터이고, W는 (2, 3)의 shape을 갖는다.\n",
    "- np.dot(x, W)는 x 크기 2와 W의 행 크기 2가 같기 때문에 연산이 가능하고, 그 결과는 크기 3을 갖는 벡터로 나온다.\n",
    "- 만약 np.dot(W, x)로 연산을 했다면, W의 열 개수 3과 x의 크기 2와는 맞지 않기 때문에 연산이 불가하다.\n"
   ]
  },
  {
   "cell_type": "markdown",
   "id": "be6cc176",
   "metadata": {},
   "source": [
    "x = np.array([x1, x2])\n",
    "W = np.array([[w1, w2, w3],\n",
    "             [w4, w5, w6]])\n",
    "y = np.dot(x, W)"
   ]
  },
  {
   "cell_type": "code",
   "execution_count": 64,
   "id": "fe94a291",
   "metadata": {},
   "outputs": [
    {
     "name": "stdout",
     "output_type": "stream",
     "text": [
      "[ 9 12 15]\n"
     ]
    }
   ],
   "source": [
    "x = np.array([1, 2])\n",
    "W = np.array([[1, 2, 3],\n",
    "             [4, 5, 6]])\n",
    "y = np.dot(x, W)\n",
    "print(y)"
   ]
  },
  {
   "cell_type": "code",
   "execution_count": null,
   "id": "4597c559",
   "metadata": {},
   "outputs": [],
   "source": []
  },
  {
   "cell_type": "markdown",
   "id": "c599d98a",
   "metadata": {},
   "source": [
    "# 신경망 구현하기\n",
    "- 2개의 은닉층과 출력층 구현\n",
    "- 은닉층 활성화 함수로 sigmoid 사용"
   ]
  },
  {
   "cell_type": "markdown",
   "id": "31a7f253",
   "metadata": {},
   "source": [
    "## 은닉 1층 구현하기"
   ]
  },
  {
   "cell_type": "code",
   "execution_count": 1,
   "id": "6bf38a63",
   "metadata": {},
   "outputs": [
    {
     "name": "stdout",
     "output_type": "stream",
     "text": [
      "X.shape:  (2,)\n",
      "W1.shape:  (2, 3)\n",
      "B1.shape:  (3,)\n"
     ]
    }
   ],
   "source": [
    "import numpy as np\n",
    "\n",
    "X = np.array([1., 0.5])\n",
    "print('X.shape: ', X.shape)\n",
    "\n",
    "W1 = np.array([[0.1, 0.3, 0.5],\n",
    "              [0.2, 0.4, 0.6]])\n",
    "print('W1.shape: ', W1.shape)\n",
    "\n",
    "B1 = np.array([0.1, 0.2, 0.3])\n",
    "print('B1.shape: ', B1.shape)\n"
   ]
  },
  {
   "cell_type": "code",
   "execution_count": 2,
   "id": "ec248f93",
   "metadata": {},
   "outputs": [],
   "source": [
    "def sigmoid(x):\n",
    "    return 1 / (1 + np.exp(-x))"
   ]
  },
  {
   "cell_type": "code",
   "execution_count": 6,
   "id": "d697c27e",
   "metadata": {},
   "outputs": [
    {
     "name": "stdout",
     "output_type": "stream",
     "text": [
      "result of sum and dot product: [0.3 0.7 1.1]\n",
      "result of activation:  [0.57444252 0.66818777 0.75026011]\n",
      "shape of result of activation: (3,)\n"
     ]
    }
   ],
   "source": [
    "result_of_sum_dot_product = np.dot(X, W1) + B1\n",
    "result_of_activation = sigmoid(result_of_sum_dot_product)\n",
    "\n",
    "print('result of sum and dot product:', result_of_sum_dot_product)\n",
    "print('result of activation: ', result_of_activation)\n",
    "print('shape of result of activation:', result_of_activation.shape)"
   ]
  },
  {
   "cell_type": "markdown",
   "id": "e8c08b1e",
   "metadata": {},
   "source": [
    "## 은닉 2층 구현하기"
   ]
  },
  {
   "cell_type": "code",
   "execution_count": 7,
   "id": "1c38e13f",
   "metadata": {},
   "outputs": [
    {
     "name": "stdout",
     "output_type": "stream",
     "text": [
      "W2.shape: (3, 2)\n",
      "B2.shape: (2,)\n"
     ]
    }
   ],
   "source": [
    "W2 = np.array([[0.1, 0.4],\n",
    "              [0.2, 0.5],\n",
    "              [0.3, 0.6]])\n",
    "B2 = np.array([0.1, 0.2])\n",
    "\n",
    "print('W2.shape:', W2.shape)\n",
    "print('B2.shape:', B2.shape)"
   ]
  },
  {
   "cell_type": "code",
   "execution_count": 8,
   "id": "9eb17bd5",
   "metadata": {},
   "outputs": [
    {
     "name": "stdout",
     "output_type": "stream",
     "text": [
      "result of sum and dot product2: [0.51615984 1.21402696]\n",
      "result of activation2:  [0.62624937 0.7710107 ]\n",
      "shape of result of activation2: (2,)\n"
     ]
    }
   ],
   "source": [
    "result_of_sum_dot_product2 = np.dot(result_of_activation, W2) +B2\n",
    "result_of_activation2 = sigmoid(result_of_sum_dot_product2)\n",
    "\n",
    "print('result of sum and dot product2:', result_of_sum_dot_product2)\n",
    "print('result of activation2: ', result_of_activation2)\n",
    "print('shape of result of activation2:', result_of_activation2.shape)"
   ]
  },
  {
   "cell_type": "markdown",
   "id": "2ed0cb77",
   "metadata": {},
   "source": [
    "## 출력층 구현하기"
   ]
  },
  {
   "cell_type": "code",
   "execution_count": 9,
   "id": "37782a9a",
   "metadata": {},
   "outputs": [],
   "source": [
    "def identity_function(x):\n",
    "    return x"
   ]
  },
  {
   "cell_type": "code",
   "execution_count": 10,
   "id": "d5a121f6",
   "metadata": {},
   "outputs": [
    {
     "name": "stdout",
     "output_type": "stream",
     "text": [
      "W3 shape: (2, 2)\n",
      "B3 shape: (2,)\n"
     ]
    }
   ],
   "source": [
    "W3 = np.array([[0.1, 0.3], [0.2, 0.4]])\n",
    "B3 = np.array([0.1, 0.2])\n",
    "\n",
    "print('W3 shape:', W3.shape)\n",
    "print('B3 shape:', B3.shape)"
   ]
  },
  {
   "cell_type": "code",
   "execution_count": 12,
   "id": "a0d40845",
   "metadata": {},
   "outputs": [
    {
     "name": "stdout",
     "output_type": "stream",
     "text": [
      "output =  [0.31682708 0.69627909]\n"
     ]
    }
   ],
   "source": [
    "result_of_sum_dot_product3 = np.dot(result_of_activation2, W3) + B3\n",
    "output = identity_function(result_of_sum_dot_product3)\n",
    "\n",
    "print(\"output = \", output)"
   ]
  },
  {
   "cell_type": "markdown",
   "id": "8e749fa7",
   "metadata": {},
   "source": [
    "## 신경망 구현 정리"
   ]
  },
  {
   "cell_type": "code",
   "execution_count": 13,
   "id": "b85fd59c",
   "metadata": {},
   "outputs": [],
   "source": [
    "def init_network():\n",
    "    network = {}\n",
    "    network['weight1'] = np.array([[0.1, 0.3, 0.5], [0.2, 0.4, 0.6]])\n",
    "    network['bias1'] = np.array([0.1, 0.2, 0.3])\n",
    "    network['weight2'] = np.array([[0.1, 0.4], [0.2, 0.5], [0.3, 0.6]])\n",
    "    network['bias2'] = np.array([0.1, 0.2])\n",
    "    network['weight3'] = np.array([[0.1, 0.3], [0.2, 0.4]])\n",
    "    network['bias3'] = np.array([0.1, 0.2])\n",
    "    \n",
    "    return network"
   ]
  },
  {
   "cell_type": "code",
   "execution_count": 17,
   "id": "6140b20d",
   "metadata": {},
   "outputs": [],
   "source": [
    "def forward(network, x):\n",
    "    W1, W2, W3 = network['weight1'], network['weight2'], network['weight3']\n",
    "    B1, B2, B3 = network['bias1'], network['bias2'], network['bias3']\n",
    "    \n",
    "    result_of_inner1 = np.dot(x, W1) + B1\n",
    "    result_of_sigmoid1 = sigmoid(result_of_inner1)\n",
    "    \n",
    "    result_of_inner2 = np.dot(result_of_sigmoid1, W2) + B2\n",
    "    result_of_sigmoid2 = sigmoid(result_of_inner2)\n",
    "    \n",
    "    result_of_inner3 = np.dot(result_of_sigmoid2, W3) + B3\n",
    "    output = sigmoid(result_of_inner3)\n",
    "    \n",
    "    return output"
   ]
  },
  {
   "cell_type": "code",
   "execution_count": 18,
   "id": "00168fc3",
   "metadata": {},
   "outputs": [
    {
     "name": "stdout",
     "output_type": "stream",
     "text": [
      "y: [0.57855079 0.66736228]\n"
     ]
    }
   ],
   "source": [
    "network = init_network()\n",
    "x = np.array([1.0, 0.5])\n",
    "y = forward(network, x)\n",
    "\n",
    "print('y:', y)"
   ]
  },
  {
   "cell_type": "markdown",
   "id": "f2ecc012",
   "metadata": {},
   "source": [
    "## Softmax를 이용한 출력층 구현하기"
   ]
  },
  {
   "cell_type": "code",
   "execution_count": 19,
   "id": "5beb83d0",
   "metadata": {},
   "outputs": [],
   "source": [
    "import numpy as np\n",
    "\n",
    "def softmax(a):\n",
    "    exp_a = np.exp(a)\n",
    "    sum_exp_a = np.sum(exp_a)\n",
    "    y = exp_a / sum_exp_a\n",
    "    \n",
    "    return y"
   ]
  },
  {
   "cell_type": "code",
   "execution_count": 21,
   "id": "651a66d9",
   "metadata": {},
   "outputs": [
    {
     "data": {
      "text/plain": [
       "array([0.01821127, 0.24519181, 0.73659691])"
      ]
     },
     "execution_count": 21,
     "metadata": {},
     "output_type": "execute_result"
    }
   ],
   "source": [
    "softmax(np.array([0.3, 2.9, 4]))"
   ]
  },
  {
   "cell_type": "code",
   "execution_count": 22,
   "id": "5c3f6236",
   "metadata": {},
   "outputs": [
    {
     "data": {
      "text/plain": [
       "array([8.53290511e-17, 1.67014218e-05, 9.99983299e-01])"
      ]
     },
     "execution_count": 22,
     "metadata": {},
     "output_type": "execute_result"
    }
   ],
   "source": [
    "softmax(np.array([3, 29, 40]))"
   ]
  },
  {
   "cell_type": "code",
   "execution_count": 23,
   "id": "fae22c3c",
   "metadata": {},
   "outputs": [
    {
     "data": {
      "text/plain": [
       "array([2.04664112e-161, 1.68891188e-048, 1.00000000e+000])"
      ]
     },
     "execution_count": 23,
     "metadata": {},
     "output_type": "execute_result"
    }
   ],
   "source": [
    "softmax(np.array([30, 290, 400]))"
   ]
  },
  {
   "cell_type": "code",
   "execution_count": 25,
   "id": "99d4dfe4",
   "metadata": {},
   "outputs": [
    {
     "name": "stderr",
     "output_type": "stream",
     "text": [
      "/Users/jsha/opt/anaconda3/envs/nlp3710/lib/python3.7/site-packages/ipykernel_launcher.py:4: RuntimeWarning: overflow encountered in exp\n",
      "  after removing the cwd from sys.path.\n",
      "/Users/jsha/opt/anaconda3/envs/nlp3710/lib/python3.7/site-packages/ipykernel_launcher.py:6: RuntimeWarning: invalid value encountered in true_divide\n",
      "  \n"
     ]
    },
    {
     "data": {
      "text/plain": [
       "array([ 0., nan, nan])"
      ]
     },
     "execution_count": 25,
     "metadata": {},
     "output_type": "execute_result"
    }
   ],
   "source": [
    "softmax(np.array([300, 2900, 4000]))"
   ]
  },
  {
   "cell_type": "markdown",
   "id": "49aa8c3c",
   "metadata": {},
   "source": [
    "## Softmax 함수의 overflow 문제를 막기 위한 수정\n",
    "- 지수와 로그의 관계를 이용하여 지수에 들어가는 벡터를 max(a)를 빼줌."
   ]
  },
  {
   "cell_type": "code",
   "execution_count": 26,
   "id": "da92befc",
   "metadata": {},
   "outputs": [],
   "source": [
    "def softmax_diff(a):\n",
    "    c = np.max(a)\n",
    "    exp_a = np.exp(a - c)\n",
    "    sum_exp_a = np.sum(exp_a)\n",
    "    y = exp_a / sum_exp_a\n",
    "    \n",
    "    return y"
   ]
  },
  {
   "cell_type": "code",
   "execution_count": 27,
   "id": "94c0a638",
   "metadata": {},
   "outputs": [
    {
     "data": {
      "text/plain": [
       "array([0., 0., 1.])"
      ]
     },
     "execution_count": 27,
     "metadata": {},
     "output_type": "execute_result"
    }
   ],
   "source": [
    "softmax_diff([300, 2900, 4000])"
   ]
  },
  {
   "cell_type": "markdown",
   "id": "1e6b9c21",
   "metadata": {},
   "source": [
    "# mnist 이미지 실습"
   ]
  },
  {
   "cell_type": "code",
   "execution_count": 42,
   "id": "124d9c2f",
   "metadata": {},
   "outputs": [],
   "source": [
    "import sys, os\n",
    "data_path = '/Users/jsha/gjai/nlp/pytest/base/dataset/'\n",
    "sys.path.append(data_path)\n",
    "\n",
    "import numpy as np\n",
    "import pickle\n",
    "from mnist import load_mnist\n",
    "import matplotlib.pylab as plt"
   ]
  },
  {
   "cell_type": "code",
   "execution_count": 31,
   "id": "00efa15b",
   "metadata": {},
   "outputs": [],
   "source": [
    "(train_image, train_label), (test_image, test_label) = load_mnist()"
   ]
  },
  {
   "cell_type": "code",
   "execution_count": 35,
   "id": "bb364121",
   "metadata": {},
   "outputs": [
    {
     "data": {
      "text/plain": [
       "(10000,)"
      ]
     },
     "execution_count": 35,
     "metadata": {},
     "output_type": "execute_result"
    }
   ],
   "source": [
    "train_image.shape\n",
    "train_label.shape\n",
    "test_image.shape\n",
    "test_label.shape"
   ]
  },
  {
   "cell_type": "code",
   "execution_count": 40,
   "id": "ee830519",
   "metadata": {},
   "outputs": [
    {
     "data": {
      "text/plain": [
       "array([5, 0, 4], dtype=uint8)"
      ]
     },
     "execution_count": 40,
     "metadata": {},
     "output_type": "execute_result"
    }
   ],
   "source": [
    "train_label[:3]"
   ]
  },
  {
   "cell_type": "code",
   "execution_count": 37,
   "id": "139cccbd",
   "metadata": {},
   "outputs": [
    {
     "data": {
      "text/plain": [
       "(784,)"
      ]
     },
     "execution_count": 37,
     "metadata": {},
     "output_type": "execute_result"
    }
   ],
   "source": [
    "image = train_image[0]\n",
    "image.shape"
   ]
  },
  {
   "cell_type": "code",
   "execution_count": 38,
   "id": "93a5d13e",
   "metadata": {},
   "outputs": [
    {
     "data": {
      "text/plain": [
       "(28, 28)"
      ]
     },
     "execution_count": 38,
     "metadata": {},
     "output_type": "execute_result"
    }
   ],
   "source": [
    "image_reshaped = image.reshape(28, -1)\n",
    "image_reshaped.shape"
   ]
  },
  {
   "cell_type": "code",
   "execution_count": 39,
   "id": "f2eaa1a0",
   "metadata": {},
   "outputs": [
    {
     "data": {
      "image/png": "[encoded data removed]",
      "text/plain": [
       "<Figure size 432x288 with 1 Axes>"
      ]
     },
     "metadata": {
      "needs_background": "light"
     },
     "output_type": "display_data"
    }
   ],
   "source": [
    "label = train_label[0]\n",
    "plt.title(label)\n",
    "plt.imshow(image_reshaped)\n",
    "plt.show()"
   ]
  },
  {
   "cell_type": "code",
   "execution_count": null,
   "id": "61201f1b",
   "metadata": {},
   "outputs": [],
   "source": []
  },
  {
   "cell_type": "code",
   "execution_count": 41,
   "id": "ad72bd52",
   "metadata": {},
   "outputs": [],
   "source": [
    "def sigmoid(x):\n",
    "    return 1 / (1 + np.exp(-x))\n",
    "\n",
    "def softmax_diff(a):\n",
    "    c = np.max(a)\n",
    "    exp_a = np.exp(a - c)\n",
    "    sum_exp_a = np.sum(exp_a)\n",
    "    y = exp_a / sum_exp_a\n",
    "    \n",
    "    return y"
   ]
  },
  {
   "cell_type": "code",
   "execution_count": 47,
   "id": "f67d1d63",
   "metadata": {},
   "outputs": [],
   "source": [
    "def get_test_data():\n",
    "    (train_image, train_label), (test_image, test_label) = \\\n",
    "    load_mnist(flatten=True, normalize=True)\n",
    "    return test_image, test_label\n",
    "\n",
    "def init_network():\n",
    "    with open('/Users/jsha/gjai/nlp/pytest/base/'+'sample_weight.pkl', 'rb') as f:\n",
    "        network = pickle.load(f)\n",
    "    return network\n",
    "        \n",
    "def predict(network, x):\n",
    "    W1, W2, W3 = network['W1'], network['W2'], network['W3']\n",
    "    B1, B2, B3 = network['b1'], network['b2'], network['b3']\n",
    "    \n",
    "    result_of_inner1 = np.dot(x, W1) + B1\n",
    "    result_of_sigmoid1 = sigmoid(result_of_inner1)\n",
    "    \n",
    "    result_of_inner2 = np.dot(result_of_sigmoid1, W2) + B2\n",
    "    result_of_sigmoid2 = sigmoid(result_of_inner2)\n",
    "    \n",
    "    result_of_inner3 = np.dot(result_of_sigmoid2, W3) + B3\n",
    "    output = softmax_diff(result_of_inner3)\n",
    "    \n",
    "    return output"
   ]
  },
  {
   "cell_type": "code",
   "execution_count": 48,
   "id": "3d6ee264",
   "metadata": {},
   "outputs": [
    {
     "name": "stdout",
     "output_type": "stream",
     "text": [
      "{'b2': array([-0.01471108, -0.07215131, -0.00155692,  0.12199665,  0.11603302,\n",
      "       -0.00754946,  0.04085451, -0.08496164,  0.02898045,  0.0199724 ,\n",
      "        0.19770803,  0.04365116, -0.06518728, -0.05226324,  0.0113163 ,\n",
      "        0.03049979,  0.04060355,  0.0695399 , -0.07778469,  0.0692313 ,\n",
      "       -0.09365533,  0.0548001 , -0.03843745,  0.02123107,  0.03793406,\n",
      "       -0.02806267, -0.01818407,  0.06870425,  0.0542943 ,  0.0674368 ,\n",
      "        0.06264312, -0.0233236 , -0.01589135,  0.01860516,  0.01839287,\n",
      "       -0.01568104, -0.07422207, -0.01606729, -0.02262172, -0.01007509,\n",
      "        0.0434415 , -0.12020151,  0.02802471, -0.07591944, -0.00533499,\n",
      "       -0.08935217, -0.0181419 ,  0.0330689 , -0.01812706, -0.07689384,\n",
      "       -0.02715412, -0.03847084, -0.05315471, -0.02153288,  0.06898243,\n",
      "        0.02431128, -0.00333816,  0.00817491,  0.03911701, -0.02924617,\n",
      "        0.07184725, -0.00356748,  0.02246175,  0.03987982, -0.04921926,\n",
      "        0.02454282,  0.05875788,  0.08505439, -0.00190306, -0.03044275,\n",
      "       -0.06383366,  0.0470311 , -0.12005549,  0.03573952, -0.04293387,\n",
      "        0.03283867, -0.03347731, -0.13659105, -0.00123189,  0.00096832,\n",
      "        0.04590394, -0.02517798, -0.02073979,  0.02005584,  0.010629  ,\n",
      "        0.01902938, -0.01046924,  0.05777885,  0.04737163, -0.04362756,\n",
      "        0.07450858,  0.05077952,  0.06648835,  0.04064002, -0.00265163,\n",
      "        0.00576806, -0.09652461, -0.05131314,  0.02199687, -0.04358608],\n",
      "      dtype=float32), 'W1': array([[-0.00741249, -0.00790439, -0.01307499, ...,  0.01978721,\n",
      "        -0.04331266, -0.01350104],\n",
      "       [-0.01029745, -0.01616653, -0.01228376, ...,  0.01920228,\n",
      "         0.02809811,  0.01450908],\n",
      "       [-0.01309184, -0.00244747, -0.0177224 , ...,  0.00944778,\n",
      "         0.01387301,  0.03393568],\n",
      "       ...,\n",
      "       [ 0.02242565, -0.0296145 , -0.06326169, ..., -0.01012643,\n",
      "         0.01120969,  0.01027199],\n",
      "       [-0.00761533,  0.02028973, -0.01498873, ...,  0.02735376,\n",
      "        -0.01229855,  0.02407041],\n",
      "       [ 0.00027915, -0.06848375,  0.00911191, ..., -0.03183098,\n",
      "         0.00743086, -0.04021148]], dtype=float32), 'b1': array([-0.06750315,  0.0695926 , -0.02730473,  0.02256093, -0.22001474,\n",
      "       -0.22038847,  0.04862635,  0.13499236,  0.23342554, -0.0487357 ,\n",
      "        0.10170191, -0.03076038,  0.15482435,  0.05212503,  0.06017235,\n",
      "       -0.03364862, -0.11218343, -0.26460695, -0.03323386,  0.13610415,\n",
      "        0.06354368,  0.04679805, -0.01621654, -0.05775835, -0.03108677,\n",
      "        0.10366164, -0.0845938 ,  0.11665157,  0.21852103,  0.04437255,\n",
      "        0.03378392, -0.01720384, -0.07383765,  0.16152057, -0.10621249,\n",
      "       -0.01646949,  0.00913961,  0.10238428,  0.00916639, -0.0564299 ,\n",
      "       -0.10607515,  0.09892716, -0.07136887, -0.06349134,  0.12461706,\n",
      "        0.02242282, -0.00047972,  0.04527043, -0.15179175,  0.10716812],\n",
      "      dtype=float32), 'W2': array([[-0.10694039,  0.01591247, -0.44349867, ...,  0.03561032,\n",
      "         0.14045963,  0.03964241],\n",
      "       [ 0.29911557, -0.03322235, -0.08902215, ..., -0.04722451,\n",
      "        -0.0972147 ,  0.2950258 ],\n",
      "       [ 0.06576645,  0.6330455 ,  0.02325344, ...,  0.05046809,\n",
      "         0.26831996, -0.13252524],\n",
      "       ...,\n",
      "       [-0.1839421 , -0.10925075,  0.25180233, ...,  0.06017017,\n",
      "         0.11689074,  0.28868544],\n",
      "       [ 0.10001627,  0.0899286 , -0.03874066, ...,  0.15217757,\n",
      "        -0.05744234, -0.00713823],\n",
      "       [-0.02220659, -0.05105179,  0.00777963, ..., -0.531206  ,\n",
      "        -0.4042084 ,  0.0090801 ]], dtype=float32), 'W3': array([[-4.21735764e-01,  6.89445496e-01,  8.78510177e-02,\n",
      "        -4.83838320e-01, -1.95891604e-01, -3.11136067e-01,\n",
      "         5.49542189e-01,  5.37674278e-02, -3.05000603e-01,\n",
      "         2.75984704e-02],\n",
      "       [-5.24320543e-01, -1.43624887e-01, -4.42160573e-03,\n",
      "         4.17745829e-01,  2.15625867e-01, -2.56584466e-01,\n",
      "        -1.00939667e+00,  8.12479675e-01, -3.98552269e-02,\n",
      "         8.23425591e-01],\n",
      "       [ 6.82799876e-01, -5.12037337e-01, -4.41083580e-01,\n",
      "        -8.21710154e-02,  3.19505751e-01,  1.08093655e+00,\n",
      "         2.96021044e-01, -4.06458199e-01, -3.87590617e-01,\n",
      "        -9.11374271e-01],\n",
      "       [ 1.55144155e-01,  6.78902492e-02,  9.47823405e-01,\n",
      "        -1.68429948e-02, -5.80456555e-01,  3.27762365e-02,\n",
      "         3.62194031e-01,  7.43931830e-01, -8.67070615e-01,\n",
      "        -8.71464610e-01],\n",
      "       [ 5.05435288e-01, -2.73010045e-01, -3.86344641e-02,\n",
      "         1.62854403e-01, -6.88129485e-01,  3.32544267e-01,\n",
      "         2.02865437e-01,  9.50981900e-02,  1.51449129e-01,\n",
      "        -7.51806647e-02],\n",
      "       [-1.96135119e-01, -1.86595306e-01, -7.12956667e-01,\n",
      "         1.86611667e-01,  4.71210986e-01,  2.42333114e-01,\n",
      "        -6.10382736e-01,  7.51007020e-01, -3.54771428e-02,\n",
      "         3.63117427e-01],\n",
      "       [-3.40776503e-01,  1.12583566e+00, -7.88639635e-02,\n",
      "        -2.40077689e-01, -1.88947007e-01,  2.77629793e-01,\n",
      "         5.58597930e-02,  7.87557483e-01, -7.21895814e-01,\n",
      "        -6.01844311e-01],\n",
      "       [-5.99524677e-01,  7.77958393e-01, -6.34838939e-01,\n",
      "        -4.66428464e-03,  7.62679726e-02, -5.22314072e-01,\n",
      "        -5.41155636e-01,  1.18006003e+00, -5.90134799e-01,\n",
      "         6.01088047e-01],\n",
      "       [-3.76633376e-01,  5.10982513e-01, -2.23146994e-02,\n",
      "        -2.52363771e-01, -3.46366763e-01,  2.64313281e-01,\n",
      "         3.83371353e-01, -7.59539828e-02,  1.97959334e-01,\n",
      "        -4.29215163e-01],\n",
      "       [ 6.50213897e-01, -3.07582080e-01, -1.82832479e-01,\n",
      "         3.61862123e-01, -2.20673040e-01,  2.36749575e-01,\n",
      "         1.46889806e-01, -8.55163217e-01, -4.77893144e-01,\n",
      "         5.95522761e-01],\n",
      "       [ 9.80530322e-01, -2.83191472e-01,  4.37024772e-01,\n",
      "         3.36801678e-01, -7.04811275e-01,  5.14311731e-01,\n",
      "         3.63065779e-01,  1.93833143e-01, -9.63333666e-01,\n",
      "        -9.99653816e-01],\n",
      "       [-5.14112294e-01, -5.21245450e-02,  8.73817950e-02,\n",
      "         6.49854317e-02, -6.79773763e-02,  5.75620718e-02,\n",
      "         2.17452496e-02,  2.97408521e-01,  6.58227876e-02,\n",
      "         5.48533797e-02],\n",
      "       [-1.22029677e-01, -5.97060800e-01, -1.67890251e-01,\n",
      "        -7.57286906e-01,  3.32458198e-01,  4.26246405e-01,\n",
      "        -5.21180809e-01,  2.07759365e-01, -3.89716327e-02,\n",
      "         7.81422555e-01],\n",
      "       [ 1.54342026e-01, -3.68901044e-01,  5.82112253e-01,\n",
      "         5.15596330e-01, -5.64041555e-01, -4.99413550e-01,\n",
      "        -8.81392837e-01,  2.10159346e-01,  1.86985135e-01,\n",
      "        -4.38510999e-02],\n",
      "       [ 4.54860330e-01, -3.00265312e-01,  6.81924820e-01,\n",
      "        -2.64147162e-01, -2.18347400e-01,  1.88041180e-01,\n",
      "         3.81713420e-01, -7.35825658e-01,  2.48639315e-01,\n",
      "        -4.43372279e-01],\n",
      "       [-5.25331438e-01,  1.18984044e+00,  3.92173350e-01,\n",
      "         6.12658978e-01, -6.09629095e-01, -1.64488718e-01,\n",
      "        -4.21452105e-01, -1.57024071e-01,  4.09224838e-01,\n",
      "        -4.47212726e-01],\n",
      "       [ 6.64840162e-01, -4.77979153e-01, -2.65062183e-01,\n",
      "         6.36108816e-01, -1.42231810e+00,  3.43148038e-02,\n",
      "        -1.16741645e+00,  7.00149655e-01,  1.24187134e-01,\n",
      "         9.88344133e-01],\n",
      "       [ 9.01858881e-02,  1.87217399e-01,  2.40680173e-01,\n",
      "         2.17940882e-01, -4.56552237e-01,  1.17312826e-01,\n",
      "         1.69359997e-01, -4.43112820e-01,  3.64482552e-01,\n",
      "        -1.11816239e+00],\n",
      "       [ 4.91134822e-01, -9.00796771e-01, -5.36716223e-01,\n",
      "        -7.89842069e-01,  3.83926064e-01,  2.72480428e-01,\n",
      "        -2.04326913e-01,  1.29462862e-02,  8.45103979e-01,\n",
      "         4.70017105e-01],\n",
      "       [ 5.84113061e-01, -5.51996469e-01,  6.50859475e-01,\n",
      "         8.69455695e-01, -1.85319453e-01, -6.97416365e-01,\n",
      "        -1.75041392e-01,  9.19872299e-02, -2.56296039e-01,\n",
      "        -7.93265477e-02],\n",
      "       [-6.92425907e-01, -1.96424216e-01, -2.89716989e-01,\n",
      "         4.59242135e-01,  3.48947614e-01, -1.67159468e-01,\n",
      "         1.60998300e-01, -8.09544206e-01,  6.75078809e-01,\n",
      "         1.56182379e-01],\n",
      "       [-1.29524320e-02,  3.38228792e-01,  5.93463369e-02,\n",
      "        -6.87147900e-02, -5.87453544e-01,  7.74757266e-02,\n",
      "        -2.76282996e-01,  2.38401830e-01,  6.18681967e-01,\n",
      "        -5.51157482e-02],\n",
      "       [-1.18962085e+00,  2.37674057e-01,  7.05483854e-02,\n",
      "         2.19739154e-01,  8.16889703e-01, -3.32062960e-01,\n",
      "        -5.38534045e-01,  1.60113409e-01, -8.55953246e-02,\n",
      "         5.15658796e-01],\n",
      "       [ 4.10203546e-01,  6.13717549e-03,  5.66948950e-01,\n",
      "        -2.59074479e-01, -1.50069296e-01,  2.25018293e-01,\n",
      "         4.06786650e-01, -7.35297143e-01, -3.46720248e-01,\n",
      "        -2.61616319e-01],\n",
      "       [ 4.59970772e-01, -4.31826115e-01, -8.56852472e-01,\n",
      "         7.73031771e-01,  1.38916939e-01,  5.60679853e-01,\n",
      "         2.40944013e-01, -8.48280013e-01, -3.33365619e-01,\n",
      "         4.76054907e-01],\n",
      "       [-9.88283753e-02, -1.76046476e-01,  5.23827970e-01,\n",
      "         4.93311286e-01, -3.64566833e-01, -6.25113010e-01,\n",
      "        -1.03237808e-01,  1.33148193e-01, -2.17261493e-01,\n",
      "         4.12722528e-01],\n",
      "       [ 1.01385760e+00, -8.49169970e-01, -5.17473184e-02,\n",
      "         1.36904821e-01, -2.97809035e-01, -2.57933736e-01,\n",
      "         9.45847854e-02,  1.84433058e-01, -9.48848128e-02,\n",
      "        -1.27696171e-01],\n",
      "       [ 1.10258982e-01, -1.13074876e-01,  3.61660570e-01,\n",
      "         6.37016416e-01, -9.38879609e-01,  4.03465390e-01,\n",
      "        -8.38840306e-01,  8.87874886e-02,  6.13263905e-01,\n",
      "        -2.62609452e-01],\n",
      "       [ 3.35207991e-02, -3.10817391e-01,  6.60446942e-01,\n",
      "        -8.03743303e-02, -3.53499681e-01,  1.35674715e-01,\n",
      "         7.04031825e-01, -5.38375497e-01,  2.68499017e-01,\n",
      "        -3.45674306e-01],\n",
      "       [ 5.69811165e-01, -5.41205049e-01,  2.31889188e-02,\n",
      "         4.89905447e-01, -2.72151738e-01,  5.81560850e-01,\n",
      "        -1.45812467e-01, -6.32519484e-01,  1.47586465e-01,\n",
      "        -4.30490822e-01],\n",
      "       [-1.78033903e-01,  4.55413640e-01,  2.76871175e-01,\n",
      "         7.92362913e-02, -1.37377933e-01, -5.41430473e-01,\n",
      "         1.04435158e+00, -2.25798294e-01, -5.47417521e-01,\n",
      "        -6.21576250e-01],\n",
      "       [-3.71773511e-01,  1.31890997e-01,  9.79362205e-02,\n",
      "         6.88198984e-01, -1.36723658e-02, -4.33259517e-01,\n",
      "         2.70418584e-01,  6.90640584e-02, -7.96580434e-01,\n",
      "        -5.26694544e-02],\n",
      "       [-7.46119380e-01,  9.01669323e-01, -2.98285723e-01,\n",
      "        -6.93346620e-01,  2.22594962e-01,  3.04485057e-02,\n",
      "         6.12528384e-01,  2.91027486e-01, -6.12122193e-02,\n",
      "         2.26576433e-01],\n",
      "       [ 3.48814666e-01, -4.58619356e-01, -6.81712866e-01,\n",
      "        -8.45831633e-01,  3.85846436e-01,  3.74807537e-01,\n",
      "         6.80784345e-01,  4.05046254e-01, -3.60009670e-01,\n",
      "         4.06914890e-01],\n",
      "       [-2.68160850e-01,  1.07725048e+00, -2.42447808e-01,\n",
      "        -2.51773655e-01, -4.94481117e-01,  7.93285251e-01,\n",
      "        -1.86872244e-01,  2.33764172e-01,  7.65040368e-02,\n",
      "        -5.82407176e-01],\n",
      "       [-2.11705387e-01, -1.51310667e-01,  4.11912441e-01,\n",
      "        -3.43303621e-01,  8.63409936e-01, -1.09486476e-01,\n",
      "         3.09372574e-01,  9.14473683e-02, -8.08858573e-01,\n",
      "        -4.53698725e-01],\n",
      "       [-8.46252620e-01,  2.60528892e-01, -2.08791450e-01,\n",
      "         3.45685095e-01,  3.24550092e-01,  1.55364513e-01,\n",
      "        -7.04575300e-01, -3.74434799e-01,  6.25603318e-01,\n",
      "         2.56761312e-01],\n",
      "       [ 1.74457684e-01,  1.81623884e-02,  5.10722816e-01,\n",
      "         1.43729225e-01, -5.16600788e-01, -1.29177034e-01,\n",
      "        -2.84929127e-01,  7.80223534e-02, -1.95045814e-01,\n",
      "        -3.94748539e-01],\n",
      "       [-9.24672037e-02, -2.23728850e-01, -9.66394618e-02,\n",
      "        -4.45146620e-01,  6.13103390e-01, -3.68567199e-01,\n",
      "         3.70431751e-01,  2.21393555e-01, -2.72072498e-02,\n",
      "         5.77588558e-01],\n",
      "       [ 4.03020531e-01, -2.55338818e-01, -8.18292499e-01,\n",
      "        -7.23324642e-02, -1.96062587e-02,  1.01438415e+00,\n",
      "        -1.16559081e-01,  8.81542623e-01, -4.94637221e-01,\n",
      "         1.04218423e-01],\n",
      "       [ 2.29111224e-01,  7.30729550e-02,  1.22222453e-01,\n",
      "         3.62838387e-01, -3.36847633e-01,  3.46625239e-01,\n",
      "         4.59826976e-01, -1.19660234e+00,  6.46007299e-01,\n",
      "        -3.92430216e-01],\n",
      "       [-6.43994093e-01, -2.67290205e-01,  9.30678025e-02,\n",
      "         3.94550234e-01,  1.39838919e-01, -1.74355850e-01,\n",
      "        -6.76944792e-01, -2.02130079e-01,  7.06950128e-01,\n",
      "         5.73860466e-01],\n",
      "       [ 1.07093401e-01, -2.68440068e-01, -2.92150110e-01,\n",
      "         1.73880085e-01, -3.07512134e-01, -3.96545947e-01,\n",
      "        -1.84642792e-01,  3.94368291e-01, -4.25530560e-02,\n",
      "         3.89361382e-01],\n",
      "       [-9.44061875e-01,  3.12739849e-01,  7.40508661e-02,\n",
      "         3.96307945e-01,  5.65728784e-01, -7.04721391e-01,\n",
      "        -5.46964332e-02, -2.59483963e-01,  1.21336356e-01,\n",
      "         1.15879285e+00],\n",
      "       [-3.42181930e-03, -2.76601106e-01,  1.77765489e-01,\n",
      "        -1.00918278e-01,  5.06949902e-01,  1.84735537e-01,\n",
      "         3.32832158e-01, -2.01131087e-02, -9.75943431e-02,\n",
      "        -6.96182191e-01],\n",
      "       [ 3.78743917e-01, -1.30411685e-01,  5.25011957e-01,\n",
      "        -4.92531627e-01,  8.44208971e-02, -4.36175138e-01,\n",
      "         4.46968526e-01, -6.69526532e-02, -2.38409087e-01,\n",
      "         1.86576545e-01],\n",
      "       [-1.38466686e-01,  2.03825533e-01,  7.62569189e-01,\n",
      "         5.65001488e-01, -4.62089807e-01, -9.06799734e-02,\n",
      "        -3.04654509e-01, -3.25737983e-01,  3.49818558e-01,\n",
      "        -2.02839971e-01],\n",
      "       [ 2.19535548e-02, -5.79012573e-01, -2.61314094e-01,\n",
      "        -7.66233563e-01,  6.20492339e-01,  2.91753441e-01,\n",
      "         3.10217768e-01,  1.84355244e-01, -3.97317529e-01,\n",
      "         1.77944213e-01],\n",
      "       [ 8.36480111e-02,  1.80452511e-01, -1.26577318e-01,\n",
      "         1.01459846e-01, -4.49865282e-01,  2.09935844e-01,\n",
      "        -8.78130078e-01,  3.66405249e-01, -5.88898994e-02,\n",
      "         1.14128381e-01],\n",
      "       [ 4.04730767e-01, -2.30980113e-01, -2.02063665e-01,\n",
      "        -8.40371922e-02,  3.85631770e-01, -2.53033131e-01,\n",
      "        -7.08307028e-01,  4.86081317e-02,  5.63206136e-01,\n",
      "        -2.45178029e-01],\n",
      "       [ 1.23736739e-01,  6.76029548e-03, -4.96723533e-01,\n",
      "         1.10396254e+00,  9.44059342e-02,  1.11372745e+00,\n",
      "         1.17447861e-02, -6.46701455e-01, -4.05388534e-01,\n",
      "        -6.19069815e-01],\n",
      "       [-4.22820002e-01,  1.78682953e-01, -3.56148094e-01,\n",
      "         2.37796769e-01, -3.54685962e-01,  3.11215729e-01,\n",
      "         4.49742610e-03, -4.62334067e-01,  1.25280845e+00,\n",
      "         2.57526368e-01],\n",
      "       [ 5.01734205e-03, -2.78115179e-02,  8.33090007e-01,\n",
      "        -9.38227713e-01,  4.41729516e-01, -2.41064683e-01,\n",
      "         2.70801604e-01, -2.75141865e-01,  2.39632681e-01,\n",
      "        -2.43629783e-01],\n",
      "       [ 1.65217429e-01,  1.71752870e-01, -3.43052834e-01,\n",
      "        -6.45057321e-01,  4.53449517e-01,  1.79140553e-01,\n",
      "         4.08720821e-01, -8.79922092e-01,  4.29752409e-01,\n",
      "         3.10203969e-01],\n",
      "       [ 4.18428481e-01,  6.94155693e-01,  3.97938192e-01,\n",
      "         4.51456159e-01, -7.18708575e-01,  9.63209383e-03,\n",
      "        -4.92072105e-01,  5.09976700e-04, -2.95970529e-01,\n",
      "        -4.95860398e-01],\n",
      "       [-1.76199555e-01,  7.09368765e-01, -2.31948897e-01,\n",
      "         3.25359583e-01, -4.63672340e-01,  7.24577367e-01,\n",
      "        -4.43653435e-01, -1.68254837e-01,  2.95370251e-01,\n",
      "        -4.97434855e-01],\n",
      "       [-1.87396109e-01, -2.23947570e-01,  2.42886275e-01,\n",
      "        -2.86557496e-01,  2.73342788e-01, -1.13700256e-02,\n",
      "        -3.06602985e-01,  5.72437823e-01, -2.42054805e-01,\n",
      "         3.46188515e-01],\n",
      "       [-1.17365503e+00,  5.90703338e-02, -1.56762972e-01,\n",
      "         1.38338506e-01,  6.11611664e-01, -1.62515834e-01,\n",
      "        -2.27308512e-01,  5.09866297e-01,  7.78953657e-02,\n",
      "        -8.07275623e-03],\n",
      "       [-1.22156359e-01, -2.62149960e-01, -2.96030581e-01,\n",
      "        -6.09369529e-03,  8.27431440e-01,  1.45755662e-02,\n",
      "         1.35886416e-01,  4.84385580e-01, -6.17888629e-01,\n",
      "        -2.57963389e-01],\n",
      "       [-1.18745811e-01, -3.78561169e-02,  8.41072202e-02,\n",
      "         1.59376860e-01,  2.78664678e-01, -5.57438016e-01,\n",
      "        -1.06849708e-01,  7.62400031e-02, -1.46159276e-01,\n",
      "         6.71272278e-01],\n",
      "       [-4.58585024e-01, -2.70307302e-01,  8.93705249e-01,\n",
      "         4.14883375e-01,  5.04897237e-01, -5.52910447e-01,\n",
      "         7.95029774e-02,  3.26490283e-01, -4.37226027e-01,\n",
      "        -1.50011420e-01],\n",
      "       [-2.27586448e-01,  2.70228744e-01, -1.38651179e-02,\n",
      "        -1.68369621e-01, -6.68714801e-03,  1.84312925e-01,\n",
      "        -2.07858533e-01, -7.48970136e-02,  2.81839728e-01,\n",
      "         1.62073016e-01],\n",
      "       [-2.93510854e-01,  5.90191126e-01, -8.06541979e-01,\n",
      "         4.55247253e-01, -6.28962517e-02,  4.05282497e-01,\n",
      "        -8.00064087e-01,  1.01426566e+00, -9.47925091e-01,\n",
      "         1.12049413e+00],\n",
      "       [ 1.03260410e+00, -3.75866979e-01, -2.32749850e-01,\n",
      "         3.54511850e-02,  1.59004685e-02,  1.35123044e-01,\n",
      "        -1.82888061e-01,  5.62692165e-01, -7.38840044e-01,\n",
      "        -1.65996298e-01],\n",
      "       [-3.03140342e-01, -3.99403989e-01, -1.24023721e-01,\n",
      "         8.09619203e-02,  6.03184886e-02, -3.47880661e-01,\n",
      "        -3.64323795e-01,  7.73909748e-01, -5.57690300e-02,\n",
      "         7.16391385e-01],\n",
      "       [-9.02440190e-01,  4.48047310e-01,  3.87582779e-01,\n",
      "        -1.07054925e+00,  6.14855111e-01, -4.32848215e-01,\n",
      "         6.89762652e-01,  1.21512324e-01,  1.68398306e-01,\n",
      "        -5.61287642e-01],\n",
      "       [-6.52550608e-02,  5.19375086e-01,  2.36409321e-01,\n",
      "         1.48231626e-01, -1.71541229e-01,  4.79659773e-02,\n",
      "         6.95545554e-01, -7.34554410e-01,  5.00819862e-01,\n",
      "        -8.43456626e-01],\n",
      "       [-5.33281922e-01,  5.26653945e-01,  1.57454126e-02,\n",
      "         1.46121949e-01,  2.76504960e-02, -8.91758129e-02,\n",
      "         4.62411702e-01,  5.36043644e-02,  2.31896397e-02,\n",
      "        -6.53083622e-01],\n",
      "       [ 3.93885463e-01,  2.22290620e-01, -8.66812587e-01,\n",
      "        -4.42612439e-01, -1.09500468e-01,  3.44947040e-01,\n",
      "         4.43797231e-01, -3.26241434e-01, -1.91667125e-01,\n",
      "         2.68693328e-01],\n",
      "       [ 5.09423316e-01, -1.10831499e+00, -6.63363814e-01,\n",
      "         6.10601194e-02,  4.62890774e-01,  2.16605678e-01,\n",
      "        -2.04363316e-01, -3.48413497e-01,  5.46411932e-01,\n",
      "         1.59806624e-01],\n",
      "       [ 5.03182411e-01, -4.58128005e-01, -1.23811312e-01,\n",
      "        -7.70608895e-03, -5.03727078e-01, -1.03737101e-01,\n",
      "        -6.97336435e-01,  8.40921402e-02,  9.15018559e-01,\n",
      "         4.06962276e-01],\n",
      "       [-3.36555511e-01,  2.32747003e-01, -6.51690245e-01,\n",
      "         1.92894682e-01,  4.90722917e-02,  4.82812226e-01,\n",
      "         5.17001033e-01, -3.74707580e-01, -7.26062572e-03,\n",
      "        -2.24724170e-02],\n",
      "       [-8.20727646e-01,  2.77037054e-01, -4.00716156e-01,\n",
      "        -6.01541400e-01,  5.41227221e-01, -1.07606472e-02,\n",
      "         1.13190107e-01, -7.11759388e-01,  7.47027993e-01,\n",
      "         3.95591497e-01],\n",
      "       [-9.64956045e-01,  6.50479198e-01,  1.57247171e-01,\n",
      "         1.21039891e+00, -6.58656538e-01, -2.88676590e-01,\n",
      "        -5.25724113e-01,  6.54611349e-01, -3.65922421e-01,\n",
      "         4.67684865e-02],\n",
      "       [-4.69699763e-02, -3.76960456e-01, -8.73867750e-01,\n",
      "        -2.19822064e-01,  6.68559313e-01,  5.76594114e-01,\n",
      "        -2.38980711e-01,  1.74888268e-01, -1.48410887e-01,\n",
      "         5.87270916e-01],\n",
      "       [ 3.56634349e-01, -5.18213026e-02,  9.20258999e-01,\n",
      "        -1.40335053e-01, -4.26269978e-01, -6.22207582e-01,\n",
      "         5.75894825e-02,  5.12691498e-01, -2.06441224e-01,\n",
      "        -2.68630385e-01],\n",
      "       [-3.19506019e-01,  2.53038436e-01,  1.83337316e-01,\n",
      "        -2.11295307e-01, -5.53449214e-01, -4.45205271e-01,\n",
      "        -1.75601929e-01,  4.42056775e-01,  6.44582987e-01,\n",
      "         2.00125635e-01],\n",
      "       [-7.43463695e-01,  2.60086924e-01, -1.95406988e-01,\n",
      "        -4.23818171e-01,  8.64849150e-01, -2.67847985e-01,\n",
      "        -1.79303423e-01, -4.71354812e-01,  5.73067427e-01,\n",
      "         3.13313872e-01],\n",
      "       [-2.63424993e-01, -2.83117831e-01, -2.91389525e-01,\n",
      "         5.06457686e-01,  7.84329653e-01, -5.26254058e-01,\n",
      "         7.48095810e-01, -4.18872535e-01, -8.39335993e-02,\n",
      "         2.52932400e-01],\n",
      "       [ 4.14991900e-02, -4.03793097e-01, -1.95395365e-01,\n",
      "         2.11023405e-01,  1.32343337e-01,  2.31272504e-01,\n",
      "        -1.18078411e+00,  1.86573476e-01,  7.68505335e-02,\n",
      "         3.85415733e-01],\n",
      "       [ 1.09860265e+00, -1.09753442e+00,  3.80715638e-01,\n",
      "        -6.38348997e-01, -1.58655971e-01,  1.94847152e-01,\n",
      "        -7.95399770e-02,  9.50471818e-01, -3.16824853e-01,\n",
      "        -2.83558935e-01],\n",
      "       [-2.77928740e-01,  2.24254742e-01, -3.28038484e-01,\n",
      "         2.36775950e-01,  4.65092897e-01,  1.14463799e-01,\n",
      "        -4.18108590e-02,  1.95581898e-01, -7.47340381e-01,\n",
      "        -2.79023498e-01],\n",
      "       [ 7.56891370e-02, -1.96978986e-01,  6.49631858e-01,\n",
      "         4.44254547e-01,  4.46472913e-01, -2.43867710e-01,\n",
      "         3.44643325e-01, -6.73000336e-01,  1.98133841e-01,\n",
      "        -7.13343263e-01],\n",
      "       [ 3.50795746e-01, -2.43827224e-01,  2.70755768e-01,\n",
      "        -1.88798487e-01,  2.67679513e-01, -2.67900437e-01,\n",
      "        -2.25820035e-01,  1.41538918e-01, -6.25311971e-01,\n",
      "        -7.91989092e-04],\n",
      "       [ 6.04720116e-01, -1.23945558e+00, -9.89200622e-02,\n",
      "        -8.47476780e-01,  1.88840643e-01,  1.78689778e-01,\n",
      "         3.30614984e-01,  2.13386491e-01,  1.40828237e-01,\n",
      "         5.96347034e-01],\n",
      "       [-1.29010156e-01, -4.19559628e-01,  8.10783267e-01,\n",
      "        -7.79421180e-02, -6.39355540e-01,  1.82476446e-01,\n",
      "         4.43780273e-02,  2.43306741e-01,  3.22627991e-01,\n",
      "        -6.96950316e-01],\n",
      "       [-2.65945554e-01,  2.54204452e-01, -2.81551868e-01,\n",
      "         3.05856839e-02,  3.32366735e-01, -2.72288859e-01,\n",
      "        -1.56741664e-01,  7.37876654e-01, -3.42516750e-01,\n",
      "        -3.38515751e-02],\n",
      "       [-2.21063226e-01, -1.61017135e-01, -3.43953133e-01,\n",
      "         7.71231763e-03,  3.99634361e-01,  4.22857910e-01,\n",
      "         1.07494044e+00,  1.67980686e-01, -5.57168424e-01,\n",
      "        -9.82021630e-01],\n",
      "       [-3.34168285e-01,  4.13684517e-01,  8.20092857e-02,\n",
      "         2.00068444e-01, -6.36684000e-01,  6.32712722e-01,\n",
      "         6.26974523e-01, -7.68007815e-01,  7.41086155e-02,\n",
      "        -7.47185767e-01],\n",
      "       [-1.13031104e-01,  2.84815133e-01,  4.20125455e-01,\n",
      "        -4.12524790e-01,  2.86876053e-01, -5.96397281e-01,\n",
      "        -6.13868050e-02, -2.01329246e-01,  1.37402400e-01,\n",
      "         4.73863035e-02],\n",
      "       [-8.77382278e-01,  7.03926206e-01, -5.87477982e-01,\n",
      "         8.03793550e-01, -5.38776457e-01,  8.71291935e-01,\n",
      "        -4.21437055e-01,  1.79496706e-01, -2.01206416e-01,\n",
      "         2.20881462e-01],\n",
      "       [ 4.79993403e-01, -3.88967425e-01,  6.42738879e-01,\n",
      "        -2.66709924e-01, -2.35347107e-01, -5.27117729e-01,\n",
      "         2.24357635e-01,  4.09907281e-01, -2.55028307e-01,\n",
      "        -3.98389012e-01],\n",
      "       [-2.36967623e-01,  2.08492681e-01,  4.95875329e-02,\n",
      "        -2.54601955e-01, -1.96262509e-01,  2.20791083e-02,\n",
      "         5.87105930e-01, -1.76071987e-01, -2.93505043e-01,\n",
      "        -6.90922514e-02],\n",
      "       [ 3.72552484e-01,  1.13524333e-01,  1.47908121e-01,\n",
      "        -5.87250233e-01, -5.45590937e-01,  2.20800832e-01,\n",
      "        -1.86717466e-01, -2.76110709e-01,  1.63341820e-01,\n",
      "         9.27756205e-02],\n",
      "       [ 6.91043854e-01, -7.39305258e-01,  3.66775483e-01,\n",
      "         2.29010403e-01, -2.62648702e-01, -3.35895628e-01,\n",
      "         4.16883469e-01, -4.66414630e-01, -4.81522113e-01,\n",
      "         5.41691422e-01],\n",
      "       [-5.42117991e-02,  8.16400051e-02, -2.16311708e-01,\n",
      "        -6.47027910e-01,  4.48576599e-01, -2.78799266e-01,\n",
      "         6.27859950e-01, -3.13865662e-01,  3.10088933e-01,\n",
      "         5.49431086e-01],\n",
      "       [-4.22955692e-01,  4.71692123e-02,  5.09801149e-01,\n",
      "        -4.14053082e-01,  1.48667157e-01, -1.13204829e-01,\n",
      "         1.46537170e-01, -8.12405765e-01,  7.64870703e-01,\n",
      "        -9.93795879e-03],\n",
      "       [-4.50043291e-01,  7.81999648e-01,  2.15509236e-01,\n",
      "        -3.13456476e-01, -4.41162616e-01, -8.88375938e-02,\n",
      "         1.30276158e-01, -7.62776807e-02,  4.38656509e-01,\n",
      "        -3.53991002e-01],\n",
      "       [-5.44507623e-01,  5.37671924e-01,  2.79337078e-01,\n",
      "         6.31389797e-01, -3.13700497e-01, -9.68888775e-02,\n",
      "        -8.03692937e-01,  3.23311478e-01,  5.13087690e-01,\n",
      "        -3.67015935e-02],\n",
      "       [ 1.07227898e+00, -3.73002291e-01, -3.47672790e-01,\n",
      "        -6.34944439e-01, -2.26390660e-01,  8.66467118e-01,\n",
      "        -1.20632663e-01,  1.60931930e-01, -2.61490524e-01,\n",
      "         3.17717306e-02]], dtype=float32), 'b3': array([-0.06023985,  0.00932628, -0.01359946,  0.02167128,  0.0107372 ,\n",
      "        0.06619699, -0.08397342, -0.00912251,  0.00576962,  0.0532335 ],\n",
      "      dtype=float32)}\n"
     ]
    }
   ],
   "source": [
    "images, labels = get_test_data()\n",
    "network = init_network()\n",
    "print(network)"
   ]
  },
  {
   "cell_type": "code",
   "execution_count": 49,
   "id": "d4a35823",
   "metadata": {},
   "outputs": [
    {
     "name": "stdout",
     "output_type": "stream",
     "text": [
      "Accuracy:0.9352\n"
     ]
    }
   ],
   "source": [
    "accuracy_cnt = 0\n",
    "for i in range(len(images)):\n",
    "    y = predict(network, images[i])\n",
    "    max_y = np.argmax(y)\n",
    "    if max_y == labels[i]:\n",
    "        accuracy_cnt += 1\n",
    "        \n",
    "print(\"Accuracy:\" + str(float(accuracy_cnt) / len(images)))"
   ]
  },
  {
   "cell_type": "markdown",
   "id": "9252796f",
   "metadata": {},
   "source": [
    "### 분석\n",
    "정확도가 0.93이 넘는 매우 결과가 높게 나온 이유는 무엇일까?\n",
    "넣어준 가중치가 이미 잘 학습이 된 것이기 때문이다.\n",
    "계층을 쌓은 것도 영향은 있었겠지만 그게 핵심은 아니야. 핵심은 가중치와 편향의 학습이야!!"
   ]
  },
  {
   "cell_type": "markdown",
   "id": "745c26ff",
   "metadata": {},
   "source": [
    "### 결과 레이블값을 원-핫 인코딩을 하는 이유는?\n",
    "- 학습결과로 레이블에 따른 확률값을 줌으로 target값은 레이블에 따른 값을 주는 게 맞다. 1은 그 레이블이 정답이야를 알려주기 때문에."
   ]
  },
  {
   "cell_type": "markdown",
   "id": "e9d35b02",
   "metadata": {},
   "source": [
    "# MNIST 추론 신경망 구현\n",
    "- Input:784개(28X28),Output:10개(0~9숫자분류)\n",
    "- Hidden layer 2층. 첫 번째 은닉층에는 50개의 뉴런, 두 번째 은닉층에는 100개의 뉴런\n",
    "- init_network(): sample_weight.pkl에 저장된 학습된 가중치를 가져오는 함수"
   ]
  },
  {
   "cell_type": "code",
   "execution_count": 4,
   "id": "2c3b187c",
   "metadata": {},
   "outputs": [],
   "source": [
    "import sys, os\n",
    "data_path = '/Users/jsha/gjai/nlp/pytest/base/dataset/'\n",
    "sys.path.append(data_path)\n",
    "\n",
    "import numpy as np\n",
    "import pickle\n",
    "from mnist import load_mnist\n",
    "import matplotlib.pylab as plt"
   ]
  },
  {
   "cell_type": "code",
   "execution_count": 1,
   "id": "a5c939c4",
   "metadata": {},
   "outputs": [],
   "source": [
    "def sigmoid(x):\n",
    "    return 1 / (1 + np.exp(-x))\n",
    "\n",
    "def softmax_diff(a):\n",
    "    c = np.max(a)\n",
    "    exp_a = np.exp(a - c)\n",
    "    sum_exp_a = np.sum(exp_a)\n",
    "    y = exp_a / sum_exp_a\n",
    "    \n",
    "    return y"
   ]
  },
  {
   "cell_type": "code",
   "execution_count": 2,
   "id": "725580f4",
   "metadata": {},
   "outputs": [],
   "source": [
    "def get_test_data():\n",
    "    (train_image, train_label), (test_image, test_label) = \\\n",
    "    load_mnist(flatten=True, normalize=True)\n",
    "    return test_image, test_label\n",
    "\n",
    "def init_network():\n",
    "    with open('/Users/jsha/gjai/nlp/pytest/base/'+'sample_weight.pkl', 'rb') as f:\n",
    "        network = pickle.load(f)\n",
    "    return network\n",
    "        \n",
    "def predict(network, x):\n",
    "    W1, W2, W3 = network['W1'], network['W2'], network['W3']\n",
    "    B1, B2, B3 = network['b1'], network['b2'], network['b3']\n",
    "    \n",
    "    result_of_inner1 = np.dot(x, W1) + B1\n",
    "    result_of_sigmoid1 = sigmoid(result_of_inner1)\n",
    "    \n",
    "    result_of_inner2 = np.dot(result_of_sigmoid1, W2) + B2\n",
    "    result_of_sigmoid2 = sigmoid(result_of_inner2)\n",
    "    \n",
    "    result_of_inner3 = np.dot(result_of_sigmoid2, W3) + B3\n",
    "    output = softmax_diff(result_of_inner3)\n",
    "    \n",
    "    return output"
   ]
  },
  {
   "cell_type": "code",
   "execution_count": 6,
   "id": "dd945415",
   "metadata": {},
   "outputs": [],
   "source": [
    "images, labels = get_test_data()\n",
    "network = init_network()"
   ]
  },
  {
   "cell_type": "code",
   "execution_count": 7,
   "id": "eb07ba07",
   "metadata": {},
   "outputs": [
    {
     "name": "stdout",
     "output_type": "stream",
     "text": [
      "Accuracy:0.9352\n"
     ]
    }
   ],
   "source": [
    "batch_size = 100\n",
    "accuracy_cnt = 0\n",
    "for i in range(0, len(images), batch_size):\n",
    "    x_batch = images[i : i+batch_size]\n",
    "    y_batch = predict(network, x_batch)\n",
    "    max_y_batch = np.argmax(y_batch, axis=1)\n",
    "    accuracy_cnt += np.sum(max_y_batch == labels[i : i+batch_size])\n",
    "    \n",
    "print(\"Accuracy:\" + str(float(accuracy_cnt) / len(images)))"
   ]
  },
  {
   "cell_type": "markdown",
   "id": "14042f5b",
   "metadata": {},
   "source": [
    "### 주의할 점.\n",
    "- predict() 함수의 softmax() 함수에 들어가는 100장 이미지의 입력은 100x10의 행렬로 동시에 들어가므로 1장의 이미지 10개 결과값의 총합이 1.0이 아니라, 100장의 이미지 전체 노드 1,000 결과값에 대한 총합이 1.0이다."
   ]
  },
  {
   "cell_type": "markdown",
   "id": "4bd64432",
   "metadata": {},
   "source": [
    "# 연습문제 2차"
   ]
  },
  {
   "cell_type": "markdown",
   "id": "c613af86",
   "metadata": {},
   "source": [
    "## 연습문제1. 다음 기호 $w^{(1)}_{12}$의 의미를 설명하시오.\n",
    "- 은닉 1층 1번 노드에 대한 입력층 2번 노드의 가중치를 의미함."
   ]
  },
  {
   "cell_type": "markdown",
   "id": "4106eb89",
   "metadata": {},
   "source": [
    "## 연습문제2. 왼쪽의 식을 오른쪽 그림과 관련하여 설명하시오. 특히, XW를 계산해 보시오\n",
    "\n",
    "- $A^{(1)} = XW^{(1)} + B^{(1)}$\n",
    "\n",
    "- 은닉 1층 1번 노드에 대하여 입력층 X 노드들 각각의 가중치들을 내적하고, 그 결과에 편향 $b^{(1)}_1$를 더한다.\n",
    "- 은닉 1층에 대한 입력층 X와 가중치 W의 내적 XW는 $x_1$과 은닉 1층 1번 노드 $a_1^{(1)}$에 대한 가중치 $w^{(1)}_{11}$의 곱의 결과와 $x_2$와 은닉 1층 1번 노드 $a_1^{(1)}$에 대한 가중치 $w^{(1)}_{12}$의 곱의 결과를 더하는 연산이다. "
   ]
  },
  {
   "cell_type": "markdown",
   "id": "4c0114e3",
   "metadata": {},
   "source": [
    "## 연습문제3. 다음 그림의 진하게 표시된 부분을 설명하시오\n",
    "\n",
    "- 은닉 1층 1번 노드 $a_1^{(1)}$에 대한 XW+B 계산이 끝나면 활성화 함수 h()에 대입하여 $Z^{(1)}_1$를 얻는다.\n",
    "- 활성화 함수는 각 노드에 대한 선형방정식 결과에서 영향력 있는 가중치는 출력하고 영향력이 적은 가중치를 필터링하는 역할을 수행한다.\n",
    "- 현재는 활성화 함수로 ReLU를 많이 사용한다."
   ]
  },
  {
   "cell_type": "markdown",
   "id": "0eb473fb",
   "metadata": {},
   "source": [
    "## 연습문제4. 활성화 함수는 기본적으로 은닉층에서는 relu, 출력층에서는 sigmoid/softmax 함수를 사용한다. 은닉층에서 활성화함수를 다른 것으로 바꿀 수는 있지만, 분류 상황의 출력층에서 relu 함수를 사용할 수는 없다. 그 이유를 설명하시오.\n",
    "\n",
    "- relu는 0이하의 값에서는 0, 0이상의 값에서는 identity value를 출력하는데, 결과값의 수가 매우 커질 수 있다. \n",
    "- 딥러닝의 다중 분류 문제에서 출력층 노드 각각은 타겟의 레이블에 해당한다. 분류 문제를 해결할 때, 출력층 하나의 노드에에 대한 수치를 보고 판단하는 것 보다는, 출력층 전체 노드에 대한 특정 노드들의 확률을 구하고 가장 높은 확률을 갖는 노드를 선택하는 게 타당하다.  \n",
    "- 이에 비해 relu는 0 이상에서는 identity value를 내어놓기 때문에 각 노드에 대한 확률을 판단하기가 어렵다."
   ]
  },
  {
   "cell_type": "markdown",
   "id": "0900ec9b",
   "metadata": {},
   "source": [
    "## 연습문제5. 다음은 소프트맥스 함수의 수식이다. 이 수식에 대하여 설명하시오.\n",
    "\n",
    "- 선형방정식 XW + B 연산을 끝낸 A값들에 대해 소프트맥스 함수를 적용한다.\n",
    "- A의 각각의 요소에 exponential을 취한 값을 합한 전체에 대해 각 요소의 exponential의 비율을 구함으로서, 각 노드마다 갖는 확률을 구하고 가장 높은 확률의 노드를 선택한다."
   ]
  },
  {
   "cell_type": "code",
   "execution_count": null,
   "id": "9ea3d0a4",
   "metadata": {},
   "outputs": [],
   "source": []
  }
 ],
 "metadata": {
  "kernelspec": {
   "display_name": "nlp3710",
   "language": "python",
   "name": "nlp3710"
  },
  "language_info": {
   "codemirror_mode": {
    "name": "ipython",
    "version": 3
   },
   "file_extension": ".py",
   "mimetype": "text/x-python",
   "name": "python",
   "nbconvert_exporter": "python",
   "pygments_lexer": "ipython3",
   "version": "3.7.10"
  },
  "toc": {
   "base_numbering": 1,
   "nav_menu": {},
   "number_sections": true,
   "sideBar": true,
   "skip_h1_title": false,
   "title_cell": "Table of Contents",
   "title_sidebar": "Contents",
   "toc_cell": false,
   "toc_position": {},
   "toc_section_display": true,
   "toc_window_display": false
  }
 },
 "nbformat": 4,
 "nbformat_minor": 5
}
