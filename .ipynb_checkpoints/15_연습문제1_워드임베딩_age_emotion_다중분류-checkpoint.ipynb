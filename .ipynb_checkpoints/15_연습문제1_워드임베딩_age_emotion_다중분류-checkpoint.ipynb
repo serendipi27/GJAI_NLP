{
 "cells": [
  {
   "cell_type": "markdown",
   "id": "28cafdd5",
   "metadata": {},
   "source": [
    "# 연습문제\n",
    "- 다중분류에서 진행한 연령과 감정_대분류 모델에 워드 임베딩 Layer를 추가해보시오.\n",
    "- 단, 감정_대분류의 경우 ‘당황‘, ‘불안’, ‘상처‘ 감정을 가진 대화는 제거하고 3분류 모델로 진행 하시오."
   ]
  },
  {
   "cell_type": "code",
   "execution_count": 1,
   "id": "d2adc0bb",
   "metadata": {},
   "outputs": [],
   "source": [
    "import pandas as pd\n",
    "\n",
    "def read_data(filename, encoding='cp949', start=1):\n",
    "    with open(filename, 'r', encoding=encoding) as f:\n",
    "        data = [line.split('\\t') for line in f.read().splitlines()]\n",
    "        data = daㅁta[start:]\n",
    "    return data\n",
    "\n",
    "def write_data(data, filename, encoding='cp949'):\n",
    "    with open(filename, 'w', encoding=encoding) as f:\n",
    "        f.write(data)\n",
    "\n",
    "path = '/Users/jsha/gjai/nlp/pytest/'\n",
    "file = '감성대화말뭉치(최종데이터)_Training.xlsx'\n",
    "\n",
    "df = pd.read_excel(path+file)"
   ]
  },
  {
   "cell_type": "code",
   "execution_count": 2,
   "id": "e6bd1729",
   "metadata": {},
   "outputs": [
    {
     "name": "stdout",
     "output_type": "stream",
     "text": [
      "<class 'pandas.core.frame.DataFrame'>\n",
      "RangeIndex: 40879 entries, 0 to 40878\n",
      "Data columns (total 15 columns):\n",
      " #   Column  Non-Null Count  Dtype \n",
      "---  ------  --------------  ----- \n",
      " 0   번호      40879 non-null  int64 \n",
      " 1   연령      40879 non-null  object\n",
      " 2   성별      40879 non-null  object\n",
      " 3   상황키워드   40879 non-null  object\n",
      " 4   신체질환    40879 non-null  object\n",
      " 5   감정_대분류  40879 non-null  object\n",
      " 6   감정_소분류  40879 non-null  object\n",
      " 7   사람문장1   40879 non-null  object\n",
      " 8   시스템응답1  40879 non-null  object\n",
      " 9   사람문장2   40879 non-null  object\n",
      " 10  시스템응답2  40879 non-null  object\n",
      " 11  사람문장3   31059 non-null  object\n",
      " 12  시스템응답3  31059 non-null  object\n",
      " 13  사람문장4   1472 non-null   object\n",
      " 14  시스템응답4  1362 non-null   object\n",
      "dtypes: int64(1), object(14)\n",
      "memory usage: 4.7+ MB\n"
     ]
    }
   ],
   "source": [
    "df.info()"
   ]
  },
  {
   "cell_type": "code",
   "execution_count": 17,
   "id": "312470c0",
   "metadata": {},
   "outputs": [
    {
     "name": "stdout",
     "output_type": "stream",
     "text": [
      "<class 'pandas.core.frame.DataFrame'>\n",
      "RangeIndex: 40879 entries, 0 to 40878\n",
      "Data columns (total 6 columns):\n",
      " #   Column  Non-Null Count  Dtype \n",
      "---  ------  --------------  ----- \n",
      " 0   연령      40879 non-null  object\n",
      " 1   감정_대분류  40879 non-null  object\n",
      " 2   사람문장1   40879 non-null  object\n",
      " 3   사람문장2   40879 non-null  object\n",
      " 4   사람문장3   31059 non-null  object\n",
      " 5   사람문장4   1472 non-null   object\n",
      "dtypes: object(6)\n",
      "memory usage: 1.9+ MB\n"
     ]
    }
   ],
   "source": [
    "df = df[['연령', '감정_대분류', '사람문장1', '사람문장2', '사람문장3', '사람문장4']]\n",
    "df.info()"
   ]
  },
  {
   "cell_type": "code",
   "execution_count": 18,
   "id": "6df48fe4",
   "metadata": {
    "scrolled": true
   },
   "outputs": [
    {
     "data": {
      "text/plain": [
       "연령        0\n",
       "감정_대분류    0\n",
       "사람문장1     0\n",
       "사람문장2     0\n",
       "사람문장3     0\n",
       "사람문장4     0\n",
       "dtype: int64"
      ]
     },
     "execution_count": 18,
     "metadata": {},
     "output_type": "execute_result"
    }
   ],
   "source": [
    "new_df = df.fillna('')\n",
    "new_df.isnull().sum()"
   ]
  },
  {
   "cell_type": "code",
   "execution_count": 19,
   "id": "d5e84c13",
   "metadata": {},
   "outputs": [
    {
     "data": {
      "text/plain": [
       "불안     7328\n",
       "분노     6920\n",
       "슬픔     6915\n",
       "기쁨     6730\n",
       "상처     6624\n",
       "당황     6360\n",
       "기쁨        1\n",
       "불안        1\n",
       "Name: 감정_대분류, dtype: int64"
      ]
     },
     "execution_count": 19,
     "metadata": {},
     "output_type": "execute_result"
    }
   ],
   "source": [
    "new_df['감정_대분류'].value_counts()"
   ]
  },
  {
   "cell_type": "code",
   "execution_count": 20,
   "id": "24f8a422",
   "metadata": {},
   "outputs": [],
   "source": [
    "new_df['감정_대분류'] = new_df['감정_대분류'].map(lambda x: str.strip(x))"
   ]
  },
  {
   "cell_type": "code",
   "execution_count": 21,
   "id": "7054288d",
   "metadata": {},
   "outputs": [
    {
     "data": {
      "text/plain": [
       "Index(['불안', '분노', '슬픔', '기쁨', '상처', '당황'], dtype='object')"
      ]
     },
     "execution_count": 21,
     "metadata": {},
     "output_type": "execute_result"
    }
   ],
   "source": [
    "new_df['감정_대분류'].value_counts().index\n"
   ]
  },
  {
   "cell_type": "code",
   "execution_count": 26,
   "id": "302e18cc",
   "metadata": {},
   "outputs": [
    {
     "data": {
      "text/plain": [
       "분노    6920\n",
       "슬픔    6915\n",
       "기쁨    6731\n",
       "Name: 감정_대분류, dtype: int64"
      ]
     },
     "execution_count": 26,
     "metadata": {},
     "output_type": "execute_result"
    }
   ],
   "source": [
    "new_df = new_df[(new_df['감정_대분류'] == '기쁨') | (new_df['감정_대분류'] == '분노') | (new_df['감정_대분류'] == '슬픔')]\n",
    "new_df['감정_대분류'].value_counts()"
   ]
  },
  {
   "cell_type": "code",
   "execution_count": 27,
   "id": "351c5d57",
   "metadata": {},
   "outputs": [],
   "source": [
    "data = new_df.iloc[:,2:].to_numpy()\n",
    "data = [' '.join(ar).rstrip() for ar in data]"
   ]
  },
  {
   "cell_type": "code",
   "execution_count": 28,
   "id": "bbb4e491",
   "metadata": {},
   "outputs": [
    {
     "name": "stdout",
     "output_type": "stream",
     "text": [
      "20566\n",
      "20566\n"
     ]
    }
   ],
   "source": [
    "print(len(data))\n",
    "print(len(new_df.iloc[:,0]))"
   ]
  },
  {
   "cell_type": "code",
   "execution_count": 29,
   "id": "5616369d",
   "metadata": {},
   "outputs": [
    {
     "name": "stdout",
     "output_type": "stream",
     "text": [
      "filepath:  /Users/jsha/opt/anaconda3/envs/nlp3710/lib/python3.7/site-packages\n",
      "classpath:  /Users/jsha/opt/anaconda3/envs/nlp3710/lib/python3.7/site-packages/rhinoMorph/lib/rhino.jar\n",
      "RHINO started!\n"
     ]
    },
    {
     "name": "stderr",
     "output_type": "stream",
     "text": [
      "100%|██████████| 20566/20566 [00:24<00:00, 824.91it/s] \n"
     ]
    }
   ],
   "source": [
    "from tqdm import tqdm\n",
    "import rhinoMorph\n",
    "rn = rhinoMorph.startRhino()\n",
    "\n",
    "morphed_data = []\n",
    "morphed_text = ''\n",
    "for data_each in tqdm(data):\n",
    "    morphed_data_each = rhinoMorph.onlyMorph_list(rn, \n",
    "                        data_each, pos=['NNG', 'NNP', 'VV',\n",
    "                        'VA', 'XR', 'IC', 'MM', 'MAG', 'MAJ'])\n",
    "    joined_data_each = ' '.join(morphed_data_each)\n",
    "    if joined_data_each:\n",
    "        morphed_data.append(joined_data_each)\n",
    "        morphed_text += joined_data_each + '\\n'\n"
   ]
  },
  {
   "cell_type": "code",
   "execution_count": 30,
   "id": "e50a4357",
   "metadata": {},
   "outputs": [],
   "source": [
    "path = '/Users/jsha/gjai/nlp/pytest/'\n",
    "with open(path+'감성대화말뭉치(최종데이터)_Training_morphed.txt', 'w') as file:\n",
    "    file.write(morphed_text)"
   ]
  },
  {
   "cell_type": "code",
   "execution_count": 31,
   "id": "7083b30e",
   "metadata": {},
   "outputs": [
    {
     "name": "stdout",
     "output_type": "stream",
     "text": [
      "자료 타입: <class 'list'>\n",
      "전체 문장수: 20565\n",
      "형태소 분석 전 모습: [['재취업 되 받 되 첫 월급 오 가족 외식 하 예정 너무 행복 퇴직 후 다시 돈 못 벌 알 이렇게 월급 가족 맛있 밥 사 있 너무 행복 회사 생활 열심히 하 계속 월급 받'], ['빚 드디어 다 갚 되 이제야 안도감 들 빚 다 갚 당분간 아무 생각 안 하 살'], ['사십 접어들 머리카락 많이 빠지 고민 이러 대머리 되 걱정 아직 병원 진료 받 탈모 방지 샴푸 쓰 있'], ['이제 돈 지긋지긋 나이 넘 돈 나가 많 힘'], ['친구 괴롭 부모 선생 이야기 믿 너무 화도 나 좌절 하 상태 학교 다니 싫 증거 준비 다시 부모 선생 말씀 좋']]\n"
     ]
    }
   ],
   "source": [
    "from matplotlib import rc\n",
    "rc('font', family='AppleGothic')\n",
    "\n",
    "# 데이터 읽기와 쓰기를 위한 사용자 함수\n",
    "def read_data(filename, encoding='cp949', start=1):\n",
    "    with open(filename, 'r', encoding=encoding) as f:\n",
    "        data = [line.split('\\t') for line in f.read().splitlines()]\n",
    "        data = data[start:]\n",
    "    return data\n",
    "\n",
    "def write_data(data, filename, encoding='cp949'):\n",
    "    with open(filename, 'w', encoding=encoding) as f:\n",
    "        f.write(data)\n",
    "\n",
    "dummy = read_data(path+'감성대화말뭉치(최종데이터)_Training_morphed.txt', encoding='utf-8')\n",
    "print('자료 타입:', type(dummy))\n",
    "print('전체 문장수:', len(dummy))\n",
    "print('형태소 분석 전 모습:', dummy[:5])"
   ]
  },
  {
   "cell_type": "code",
   "execution_count": null,
   "id": "ca947fed",
   "metadata": {},
   "outputs": [],
   "source": []
  },
  {
   "cell_type": "markdown",
   "id": "842ac573",
   "metadata": {},
   "source": [
    "# 연령 분류"
   ]
  },
  {
   "cell_type": "code",
   "execution_count": 32,
   "id": "a31761f5",
   "metadata": {},
   "outputs": [
    {
     "name": "stdout",
     "output_type": "stream",
     "text": [
      "20566\n"
     ]
    }
   ],
   "source": [
    "from sklearn.model_selection import train_test_split\n",
    "\n",
    "print(len(morphed_data))\n",
    "data_text = morphed_data\n",
    "data_label = new_df.iloc[:,0].to_list()\n",
    "# data_label = new_df.iloc[:,1].to_list()\n",
    "\n",
    "train_data_text, test_data_text, train_data_label, test_data_label = \\\n",
    "train_test_split(data_text, data_label, stratify=data_label, \n",
    "                 test_size=0.3, random_state=1111)"
   ]
  },
  {
   "cell_type": "code",
   "execution_count": 33,
   "id": "3788b358",
   "metadata": {},
   "outputs": [
    {
     "name": "stdout",
     "output_type": "stream",
     "text": [
      "train_data_label_freq: Counter({'청년': 4372, '중년': 3837, '노년': 3561, '청소년': 2626})\n",
      "test_data_label_freq: Counter({'청년': 1874, '중년': 1644, '노년': 1527, '청소년': 1125})\n"
     ]
    }
   ],
   "source": [
    "from collections import Counter\n",
    "train_data_label_freq = Counter(train_data_label)\n",
    "print('train_data_label_freq:', train_data_label_freq)\n",
    "\n",
    "test_data_label_freq = Counter(test_data_label)\n",
    "print('test_data_label_freq:', test_data_label_freq)\n"
   ]
  },
  {
   "cell_type": "code",
   "execution_count": 34,
   "id": "6582fa83",
   "metadata": {},
   "outputs": [],
   "source": [
    "test_data_text = test_data_text[:3000]\n",
    "test_data_label = test_data_label[:3000]"
   ]
  },
  {
   "cell_type": "code",
   "execution_count": 35,
   "id": "1a40003f",
   "metadata": {},
   "outputs": [
    {
     "name": "stdout",
     "output_type": "stream",
     "text": [
      "최소길이: 4\n",
      "최대길이: 74\n",
      "평균길이: 22.1\n",
      "중위수길이: 22.0\n",
      "구간별 최대 길이: [ 4. 17. 22. 27. 31. 40. 74.]\n",
      "최소길이 문장: 친구 눈물 친구 거짓말\n",
      "최대길이 문장: 어제 아들 무슨 잘못 하 야단 좀 치 글쎄 말 엄마 하 줄 있 기가 막히 애 뒷바라지 하 얼마나 고생 하 아들 그림 좀 잘 그리 편 한데 내가 미대 절대 안 되 그림 도구 같 다 버리 근데 부모 되 자식 진로 대하 결정 하 있 애가 공부 시간 없 틈 나 붓 잡 있 화 나 그리하 아들 좀 미안 하 마음 있 한데 그렇 부모 그렇게 말 하 더 나쁘\n"
     ]
    }
   ],
   "source": [
    "import numpy as np\n",
    "\n",
    "text_len = [len(line.split(' ')) for line in train_data_text]\n",
    "print('최소길이:', np.min(text_len))\n",
    "print('최대길이:', np.max(text_len))\n",
    "print('평균길이:', np.round(np.mean(text_len),1))\n",
    "print('중위수길이:', np.median(text_len))\n",
    "print('구간별 최대 길이:', np.percentile(text_len, [0, 25, 50, 75, 90, 99, 100]))\n",
    "print('최소길이 문장:', train_data_text[np.argmin(text_len)])\n",
    "print('최대길이 문장:', train_data_text[np.argmax(text_len)])"
   ]
  },
  {
   "cell_type": "code",
   "execution_count": 38,
   "id": "7f42c405",
   "metadata": {},
   "outputs": [],
   "source": [
    "from keras.preprocessing.text import Tokenizer\n",
    "from keras.preprocessing.sequence import pad_sequences\n",
    "import numpy as np\n",
    "import math \n",
    "\n",
    "max_words = 9000\n",
    "maxlen = 40\n",
    "\n",
    "tokenizer = Tokenizer(num_words=max_words)\n",
    "tokenizer.fit_on_texts(train_data_text)\n",
    "word_index = tokenizer.word_index"
   ]
  },
  {
   "cell_type": "code",
   "execution_count": 39,
   "id": "3b59517f",
   "metadata": {},
   "outputs": [
    {
     "name": "stdout",
     "output_type": "stream",
     "text": [
      "wjscpdptj 9846개의 고유한 토큰을 찾았습니다\n",
      "word_index type: <class 'dict'>\n"
     ]
    }
   ],
   "source": [
    "print('wjscpdptj %s개의 고유한 토큰을 찾았습니다' % len(word_index))\n",
    "print('word_index type:', type(word_index))\n",
    "# print('word_index:', word_index)"
   ]
  },
  {
   "cell_type": "code",
   "execution_count": 40,
   "id": "45f8824d",
   "metadata": {},
   "outputs": [
    {
     "name": "stdout",
     "output_type": "stream",
     "text": [
      "최대 문장 길이: 297\n",
      "최소 문장 길이: 19\n"
     ]
    }
   ],
   "source": [
    "seq_data = tokenizer.texts_to_sequences(train_data_text)\n",
    "# print('data', data)\n",
    "\n",
    "len_d = [len(d) for d in data]\n",
    "# print('길이:', len_d)\n",
    "print('최대 문장 길이:', max(len_d))\n",
    "print('최소 문장 길이:', min(len_d))"
   ]
  },
  {
   "cell_type": "code",
   "execution_count": 41,
   "id": "f43f94a5",
   "metadata": {},
   "outputs": [
    {
     "name": "stdout",
     "output_type": "stream",
     "text": [
      "data: [[   0    0    0 ...  384   51    1]\n",
      " [   0    0    0 ... 1466 1594 1292]\n",
      " [   0    0    0 ... 1147  193  114]\n",
      " ...\n",
      " [   0    0    0 ... 1457   75    1]\n",
      " [   0    0    0 ...  366   23  106]\n",
      " [   0    0    0 ...   31   37  354]]\n",
      "data 0: [   0    0    0    0    0    0    0    0    0   30 2115 2881 1073  132\n",
      " 1146    1   38 1017  172    5  297 4360   25   26  236    1   28   16\n",
      "  357   21 2017  329  497  107 4361 1334   20  384   51    1]\n",
      "data 0의 길이: 40\n"
     ]
    }
   ],
   "source": [
    "pad_data = pad_sequences(seq_data, maxlen=maxlen)\n",
    "\n",
    "print('data:', pad_data)\n",
    "print('data 0:', pad_data[0])\n",
    "print('data 0의 길이:', len(pad_data[0]))"
   ]
  },
  {
   "cell_type": "code",
   "execution_count": 43,
   "id": "d37569a4",
   "metadata": {},
   "outputs": [
    {
     "name": "stdout",
     "output_type": "stream",
     "text": [
      "train_data_text type: <class 'list'>\n",
      "data type: <class 'numpy.ndarray'>\n",
      "train_data_text 0: 회사 권고 사직 권유 그래도 정년 하 알 배신 당하 같 화나 한창 힘들 때 이해 하 이제 일 구하 모르 착잡 퇴근 동네 한 바퀴 돌 생각 정리 좀 하\n",
      "data 0: [   0    0    0    0    0    0    0    0    0   30 2115 2881 1073  132\n",
      " 1146    1   38 1017  172    5  297 4360   25   26  236    1   28   16\n",
      "  357   21 2017  329  497  107 4361 1334   20  384   51    1]\n"
     ]
    }
   ],
   "source": [
    "print('train_data_text type:', type(train_data_text))\n",
    "print('data type:', type(pad_data))\n",
    "print('train_data_text 0:', train_data_text[0])\n",
    "print('data 0:', pad_data[0])"
   ]
  },
  {
   "cell_type": "code",
   "execution_count": 44,
   "id": "90ebae9d",
   "metadata": {},
   "outputs": [
    {
     "name": "stdout",
     "output_type": "stream",
     "text": [
      "train_data_text type: <class 'list'>\n",
      "83\n",
      "texts 0: 회사 권고 사직 권유 그래도 정년 하 알 배신 당하 같 화나 한창 힘들 때 이해 하 이제 일 구하 모르 착잡 퇴근 동네 한 바퀴 돌 생각 정리 좀 하\n"
     ]
    },
    {
     "ename": "NameError",
     "evalue": "name 'x_train' is not defined",
     "output_type": "error",
     "traceback": [
      "\u001b[0;31m---------------------------------------------------------------------------\u001b[0m",
      "\u001b[0;31mNameError\u001b[0m                                 Traceback (most recent call last)",
      "\u001b[0;32m<ipython-input-44-15bc4da4e292>\u001b[0m in \u001b[0;36m<module>\u001b[0;34m\u001b[0m\n\u001b[1;32m      3\u001b[0m \u001b[0mprint\u001b[0m\u001b[0;34m(\u001b[0m\u001b[0;34m'texts 0:'\u001b[0m\u001b[0;34m,\u001b[0m \u001b[0mtrain_data_text\u001b[0m\u001b[0;34m[\u001b[0m\u001b[0;36m0\u001b[0m\u001b[0;34m]\u001b[0m\u001b[0;34m)\u001b[0m\u001b[0;34m\u001b[0m\u001b[0;34m\u001b[0m\u001b[0m\n\u001b[1;32m      4\u001b[0m \u001b[0;34m\u001b[0m\u001b[0m\n\u001b[0;32m----> 5\u001b[0;31m \u001b[0mprint\u001b[0m\u001b[0;34m(\u001b[0m\u001b[0;34m'data type:'\u001b[0m\u001b[0;34m,\u001b[0m \u001b[0mtype\u001b[0m\u001b[0;34m(\u001b[0m\u001b[0mx_train\u001b[0m\u001b[0;34m)\u001b[0m\u001b[0;34m)\u001b[0m\u001b[0;34m\u001b[0m\u001b[0;34m\u001b[0m\u001b[0m\n\u001b[0m\u001b[1;32m      6\u001b[0m \u001b[0mprint\u001b[0m\u001b[0;34m(\u001b[0m\u001b[0mlen\u001b[0m\u001b[0;34m(\u001b[0m\u001b[0mx_train\u001b[0m\u001b[0;34m[\u001b[0m\u001b[0;36m0\u001b[0m\u001b[0;34m]\u001b[0m\u001b[0;34m)\u001b[0m\u001b[0;34m)\u001b[0m\u001b[0;34m\u001b[0m\u001b[0;34m\u001b[0m\u001b[0m\n\u001b[1;32m      7\u001b[0m \u001b[0mprint\u001b[0m\u001b[0;34m(\u001b[0m\u001b[0;34m'x_train [0][0:100]:'\u001b[0m\u001b[0;34m,\u001b[0m \u001b[0mx_train\u001b[0m\u001b[0;34m[\u001b[0m\u001b[0;36m0\u001b[0m\u001b[0;34m]\u001b[0m\u001b[0;34m[\u001b[0m\u001b[0;34m:\u001b[0m\u001b[0;36m100\u001b[0m\u001b[0;34m]\u001b[0m\u001b[0;34m)\u001b[0m\u001b[0;34m\u001b[0m\u001b[0;34m\u001b[0m\u001b[0m\n",
      "\u001b[0;31mNameError\u001b[0m: name 'x_train' is not defined"
     ]
    }
   ],
   "source": [
    "print('train_data_text type:', type(train_data_text))\n",
    "print(len(train_data_text[0]))\n",
    "print('texts 0:', train_data_text[0])\n",
    "\n",
    "print('data type:', type(x_train))\n",
    "print(len(x_train[0]))\n",
    "print('x_train [0][0:100]:', x_train[0][:100])"
   ]
  },
  {
   "cell_type": "code",
   "execution_count": 24,
   "id": "31f15283",
   "metadata": {},
   "outputs": [
    {
     "name": "stdout",
     "output_type": "stream",
     "text": [
      "['노년' '중년' '청년' '청소년']\n"
     ]
    }
   ],
   "source": [
    "from sklearn.preprocessing import LabelEncoder\n",
    "le = LabelEncoder()\n",
    "le.fit(train_data_label)\n",
    "print(le.classes_)\n",
    "train_data_label = le.transform(train_data_label)"
   ]
  },
  {
   "cell_type": "code",
   "execution_count": 25,
   "id": "5bb12e1f",
   "metadata": {},
   "outputs": [],
   "source": [
    "test_data_label = le.transform(test_data_label)"
   ]
  },
  {
   "cell_type": "code",
   "execution_count": 26,
   "id": "139ffcef",
   "metadata": {},
   "outputs": [
    {
     "name": "stdout",
     "output_type": "stream",
     "text": [
      "[[0. 0. 1. 0.]\n",
      " [0. 0. 0. 1.]\n",
      " [1. 0. 0. 0.]\n",
      " ...\n",
      " [0. 1. 0. 0.]\n",
      " [0. 0. 1. 0.]\n",
      " [0. 0. 1. 0.]]\n"
     ]
    }
   ],
   "source": [
    "class_number = len(le.classes_)\n",
    "y_train = to_one_hot(train_data_label, dimension=class_number)\n",
    "print(y_train)"
   ]
  },
  {
   "cell_type": "code",
   "execution_count": 27,
   "id": "7a7e1dfe",
   "metadata": {},
   "outputs": [
    {
     "name": "stdout",
     "output_type": "stream",
     "text": [
      "[[0. 0. 1. 0.]\n",
      " [0. 0. 0. 1.]\n",
      " [1. 0. 0. 0.]\n",
      " ...\n",
      " [1. 0. 0. 0.]\n",
      " [0. 1. 0. 0.]\n",
      " [0. 1. 0. 0.]]\n"
     ]
    }
   ],
   "source": [
    "data_test = tokenizer.texts_to_sequences(test_data_text)\n",
    "\n",
    "data_test = pad_sequences(data_test, maxlen=maxlen)\n",
    "\n",
    "x_test = to_one_hot(data_test, dimension=max_words)\n",
    "\n",
    "y_test = to_one_hot(test_data_label, dimension=class_number)\n",
    "print(y_test)"
   ]
  },
  {
   "cell_type": "code",
   "execution_count": 28,
   "id": "902faffb",
   "metadata": {},
   "outputs": [
    {
     "name": "stdout",
     "output_type": "stream",
     "text": [
      "훈련 데이터 본문 텐서의 크기: (28615, 20000)\n",
      "훈련 데이터 레이블 텐서의 크기: (28615, 4)\n",
      "테스트 데이터 본문 텐서의 크기: (3000, 20000)\n",
      "테스트 데이터 레이블 텐서의 크기: (3000, 4)\n"
     ]
    }
   ],
   "source": [
    "print('훈련 데이터 본문 텐서의 크기:', x_train.shape)\n",
    "print('훈련 데이터 레이블 텐서의 크기:', y_train.shape)\n",
    "\n",
    "print('테스트 데이터 본문 텐서의 크기:', x_test.shape)\n",
    "print('테스트 데이터 레이블 텐서의 크기:', y_test.shape)"
   ]
  },
  {
   "cell_type": "code",
   "execution_count": 29,
   "id": "4f8ba4a1",
   "metadata": {},
   "outputs": [],
   "source": [
    "epochs = 10\n",
    "batch_size = 100\n",
    "model_name = 'train_data_age_morphed_model.h5'\n",
    "tokenizer_name = 'train_data_age_morphed_token.pickle'\n",
    "labelencode_name = 'train_data_age_morphed_le.pickle'"
   ]
  },
  {
   "cell_type": "code",
   "execution_count": 30,
   "id": "c9f6b141",
   "metadata": {},
   "outputs": [
    {
     "name": "stdout",
     "output_type": "stream",
     "text": [
      "Model: \"sequential_1\"\n",
      "_________________________________________________________________\n",
      "Layer (type)                 Output Shape              Param #   \n",
      "=================================================================\n",
      "dense_1 (Dense)              (None, 64)                1280064   \n",
      "_________________________________________________________________\n",
      "dense_2 (Dense)              (None, 32)                2080      \n",
      "_________________________________________________________________\n",
      "dense_3 (Dense)              (None, 4)                 132       \n",
      "=================================================================\n",
      "Total params: 1,282,276\n",
      "Trainable params: 1,282,276\n",
      "Non-trainable params: 0\n",
      "_________________________________________________________________\n"
     ]
    }
   ],
   "source": [
    "from keras.models import Sequential\n",
    "from keras.layers import Dense\n",
    "\n",
    "model = Sequential()\n",
    "\n",
    "model.add(Dense(64, activation='relu', input_shape=(max_words,)))\n",
    "model.add(Dense(units=32, activation='relu'))\n",
    "model.add(Dense(units=class_number, activation='softmax'))\n",
    "\n",
    "model.summary()"
   ]
  },
  {
   "cell_type": "code",
   "execution_count": 31,
   "id": "6529af7f",
   "metadata": {},
   "outputs": [
    {
     "name": "stdout",
     "output_type": "stream",
     "text": [
      "/Users/jsha/gjai/nlp/pytest/13_연습문제2/ --- Folder already exists\n",
      "\n"
     ]
    }
   ],
   "source": [
    "from keras.callbacks import EarlyStopping\n",
    "import os\n",
    "\n",
    "checkpoint_path = path + '13_연습문제2/'\n",
    "# checkpoint_dir = os.path.dirname(checkpoint_path)\n",
    "if os.path.exists(checkpoint_path):\n",
    "    print('{} --- Folder already exists\\n'.format(checkpoint_path))\n",
    "else:\n",
    "    os.makedirs(checkpoint_path, exist_ok=True)\n",
    "    print('{} --- Folder created\\n'.format(checkpoint_path))"
   ]
  },
  {
   "cell_type": "code",
   "execution_count": 32,
   "id": "c727d41d",
   "metadata": {},
   "outputs": [],
   "source": [
    "model.compile(optimizer='rmsprop', loss='categorical_crossentropy',\n",
    "             metrics=['acc'])"
   ]
  },
  {
   "cell_type": "code",
   "execution_count": 33,
   "id": "1c3b4853",
   "metadata": {},
   "outputs": [
    {
     "name": "stdout",
     "output_type": "stream",
     "text": [
      "Train on 20030 samples, validate on 8585 samples\n",
      "Epoch 1/10\n",
      "20030/20030 [==============================] - 9s 451us/step - loss: 0.7905 - acc: 0.6900 - val_loss: 0.6381 - val_acc: 0.7441\n",
      "\n",
      "Epoch 00001: val_acc improved from -inf to 0.74409, saving model to /Users/jsha/gjai/nlp/pytest/13_연습문제2/train_data_age_morphed_model.h5\n",
      "Epoch 2/10\n",
      "20030/20030 [==============================] - 7s 332us/step - loss: 0.5007 - acc: 0.8000 - val_loss: 0.6216 - val_acc: 0.7521\n",
      "\n",
      "Epoch 00002: val_acc improved from 0.74409 to 0.75213, saving model to /Users/jsha/gjai/nlp/pytest/13_연습문제2/train_data_age_morphed_model.h5\n",
      "Epoch 3/10\n",
      "20030/20030 [==============================] - 6s 322us/step - loss: 0.4228 - acc: 0.8354 - val_loss: 0.6323 - val_acc: 0.7542\n",
      "\n",
      "Epoch 00003: val_acc improved from 0.75213 to 0.75422, saving model to /Users/jsha/gjai/nlp/pytest/13_연습문제2/train_data_age_morphed_model.h5\n",
      "Epoch 4/10\n",
      "20030/20030 [==============================] - 7s 349us/step - loss: 0.3718 - acc: 0.8568 - val_loss: 0.6574 - val_acc: 0.7507\n",
      "\n",
      "Epoch 00004: val_acc did not improve from 0.75422\n",
      "Epoch 5/10\n",
      "20030/20030 [==============================] - 9s 443us/step - loss: 0.3284 - acc: 0.8766 - val_loss: 0.6885 - val_acc: 0.7448\n",
      "\n",
      "Epoch 00005: val_acc did not improve from 0.75422\n"
     ]
    }
   ],
   "source": [
    "from keras.callbacks import ModelCheckpoint\n",
    "earlystop_callback = EarlyStopping(monitor='val_acc', patience=2)\n",
    "cp_callback = ModelCheckpoint(filepath=checkpoint_path+model_name,\n",
    "                             monitor='val_acc', verbose=1, \n",
    "                             save_best_only=True)\n",
    "history = model.fit(x_train, y_train, epochs=epochs,\n",
    "                   batch_size=batch_size, validation_split=0.3,\n",
    "                   callbacks=[earlystop_callback, cp_callback], verbose=1)\n",
    "history_dict = history.history"
   ]
  },
  {
   "cell_type": "code",
   "execution_count": 34,
   "id": "45e59aa1",
   "metadata": {},
   "outputs": [],
   "source": [
    "import pickle\n",
    "\n",
    "# model.save(model_name)\n",
    "\n",
    "with open(checkpoint_path+tokenizer_name, 'wb') as file:\n",
    "    pickle.dump(tokenizer, file, protocol=pickle.HIGHEST_PROTOCOL)\n",
    "    \n",
    "with open(checkpoint_path+labelencode_name, 'wb') as file:\n",
    "    pickle.dump(le, file, protocol=pickle.HIGHEST_PROTOCOL)\n",
    "    "
   ]
  },
  {
   "cell_type": "code",
   "execution_count": 35,
   "id": "e1a27c69",
   "metadata": {},
   "outputs": [
    {
     "name": "stdout",
     "output_type": "stream",
     "text": [
      "validation accuracy of each epoch: [0.744 0.752 0.754 0.751 0.745]\n"
     ]
    }
   ],
   "source": [
    "acc = history.history['acc']\n",
    "val_acc = history.history['val_acc']\n",
    "loss = history.history['loss']\n",
    "val_loss = history.history['val_loss']\n",
    "\n",
    "print('validation accuracy of each epoch:', np.round(val_acc,3))\n",
    "epochs = range(1, len(val_acc)+1)"
   ]
  },
  {
   "cell_type": "code",
   "execution_count": 36,
   "id": "f2feaec0",
   "metadata": {},
   "outputs": [
    {
     "data": {
      "image/png": "[encoded data removed]",
      "text/plain": [
       "<Figure size 432x288 with 1 Axes>"
      ]
     },
     "metadata": {
      "needs_background": "light"
     },
     "output_type": "display_data"
    }
   ],
   "source": [
    "import matplotlib.pyplot as plt\n",
    "\n",
    "plt.plot(epochs, acc, 'bo', label='Training Acc')\n",
    "plt.plot(epochs, val_acc, 'r', label='Validation Acc')\n",
    "plt.title('Training and Validation Accuracy')\n",
    "plt.legend(loc=4)\n",
    "plt.show()"
   ]
  },
  {
   "cell_type": "code",
   "execution_count": 37,
   "id": "24c863da",
   "metadata": {
    "scrolled": false
   },
   "outputs": [
    {
     "data": {
      "image/png": "[encoded data removed]",
      "text/plain": [
       "<Figure size 432x288 with 1 Axes>"
      ]
     },
     "metadata": {
      "needs_background": "light"
     },
     "output_type": "display_data"
    }
   ],
   "source": [
    "plt.plot(epochs, loss, 'bo', label='Training Loss')\n",
    "plt.plot(epochs, val_loss, 'r', label='Validation Loss')\n",
    "plt.title('Training and Validation loss')\n",
    "plt.legend(loc=1)\n",
    "plt.show()"
   ]
  },
  {
   "cell_type": "code",
   "execution_count": 38,
   "id": "92f366fd",
   "metadata": {},
   "outputs": [],
   "source": [
    "from keras.models import load_model\n",
    "\n",
    "loaded_model = load_model(checkpoint_path+model_name)\n",
    "\n",
    "with open(checkpoint_path+tokenizer_name, 'rb') as handle:\n",
    "    loaded_tokenizer = pickle.load(handle)"
   ]
  },
  {
   "cell_type": "code",
   "execution_count": 39,
   "id": "319196bd",
   "metadata": {},
   "outputs": [
    {
     "name": "stdout",
     "output_type": "stream",
     "text": [
      "3000/3000 [==============================] - 1s 497us/step\n",
      "prediction model loss & acc: [0.6367411748568217, 0.750333309173584]\n"
     ]
    }
   ],
   "source": [
    "test_eval = loaded_model.evaluate(x_test, y_test)\n",
    "\n",
    "print('prediction model loss & acc:', test_eval)"
   ]
  },
  {
   "cell_type": "code",
   "execution_count": null,
   "id": "18510a30",
   "metadata": {},
   "outputs": [],
   "source": []
  },
  {
   "cell_type": "code",
   "execution_count": null,
   "id": "f50eb6a5",
   "metadata": {},
   "outputs": [],
   "source": []
  },
  {
   "cell_type": "code",
   "execution_count": null,
   "id": "da2d4b95",
   "metadata": {},
   "outputs": [],
   "source": []
  },
  {
   "cell_type": "markdown",
   "id": "235672a9",
   "metadata": {},
   "source": [
    "# 감정 분류"
   ]
  },
  {
   "cell_type": "code",
   "execution_count": 40,
   "id": "20d5865b",
   "metadata": {},
   "outputs": [
    {
     "data": {
      "text/plain": [
       "Index(['연령', '감정_대분류', '사람문장1', '사람문장2', '사람문장3', '사람문장4'], dtype='object')"
      ]
     },
     "execution_count": 40,
     "metadata": {},
     "output_type": "execute_result"
    }
   ],
   "source": [
    "new_df.columns"
   ]
  },
  {
   "cell_type": "code",
   "execution_count": 41,
   "id": "32faf15b",
   "metadata": {},
   "outputs": [
    {
     "name": "stdout",
     "output_type": "stream",
     "text": [
      "40879\n"
     ]
    }
   ],
   "source": [
    "from sklearn.model_selection import train_test_split\n",
    "\n",
    "print(len(morphed_data))\n",
    "data_text = morphed_data\n",
    "# data_label = new_df.iloc[:,0].to_list()\n",
    "data_label = new_df.iloc[:,1].to_list()\n",
    "\n",
    "train_data_text, test_data_text, train_data_label, test_data_label = \\\n",
    "train_test_split(data_text, data_label, stratify=data_label, \n",
    "                 test_size=0.3, random_state=1111)"
   ]
  },
  {
   "cell_type": "code",
   "execution_count": 42,
   "id": "1c0ac868",
   "metadata": {},
   "outputs": [
    {
     "name": "stdout",
     "output_type": "stream",
     "text": [
      "train_data_label_freq: Counter({'불안': 5130, '분노': 4844, '슬픔': 4840, '기쁨': 4712, '상처': 4637, '당황': 4452})\n",
      "test_data_label_freq: Counter({'불안': 2199, '분노': 2076, '슬픔': 2075, '기쁨': 2019, '상처': 1987, '당황': 1908})\n"
     ]
    }
   ],
   "source": [
    "from collections import Counter\n",
    "train_data_label_freq = Counter(train_data_label)\n",
    "print('train_data_label_freq:', train_data_label_freq)\n",
    "\n",
    "test_data_label_freq = Counter(test_data_label)\n",
    "print('test_data_label_freq:', test_data_label_freq)\n"
   ]
  },
  {
   "cell_type": "code",
   "execution_count": 43,
   "id": "538221ee",
   "metadata": {},
   "outputs": [],
   "source": [
    "test_data_text = test_data_text[:3000]\n",
    "test_data_label = test_data_label[:3000]"
   ]
  },
  {
   "cell_type": "code",
   "execution_count": 44,
   "id": "f1019dc8",
   "metadata": {},
   "outputs": [
    {
     "name": "stdout",
     "output_type": "stream",
     "text": [
      "최소길이: 4\n",
      "최대길이: 65\n",
      "평균길이: 22.0\n",
      "중위수길이: 22.0\n",
      "구간별 최대 길이: [ 4. 17. 22. 26. 31. 40. 65.]\n",
      "최소길이 문장: 따돌림 힘들 친구 따돌리\n",
      "최대길이 문장: 전 시작 하 맨발 걷기 덕분 최근 건강검진 여러 수치 정상 범위 들어오 인터넷 보 의사 인터뷰 보 되 그 의사 신뢰 되 매일 이른 아침 기상하 집 근처 초등학교 운동장 한 시간 이상 맨발 걷기 하 그리고 퇴근 후 격일 한 시간 정도 조깅 하 얼마 전 하 운동 중독 운동 좀 줄이 그러나 이번 검진 결과 보 후 그 효과 알 같이 운동\n"
     ]
    }
   ],
   "source": [
    "import numpy as np\n",
    "\n",
    "text_len = [len(line.split(' ')) for line in train_data_text]\n",
    "print('최소길이:', np.min(text_len))\n",
    "print('최대길이:', np.max(text_len))\n",
    "print('평균길이:', np.round(np.mean(text_len),1))\n",
    "print('중위수길이:', np.median(text_len))\n",
    "print('구간별 최대 길이:', np.percentile(text_len, [0, 25, 50, 75, 90, 99, 100]))\n",
    "print('최소길이 문장:', train_data_text[np.argmin(text_len)])\n",
    "print('최대길이 문장:', train_data_text[np.argmax(text_len)])"
   ]
  },
  {
   "cell_type": "code",
   "execution_count": 45,
   "id": "4de9b51b",
   "metadata": {},
   "outputs": [],
   "source": [
    "from keras.preprocessing.text import Tokenizer\n",
    "from keras.preprocessing.sequence import pad_sequences\n",
    "import numpy as np\n",
    "import math \n",
    "\n",
    "max_words = 20000\n",
    "maxlen = 40\n",
    "\n",
    "tokenizer = Tokenizer(num_words=max_words)\n",
    "tokenizer.fit_on_texts(train_data_text)\n",
    "word_index = tokenizer.word_index"
   ]
  },
  {
   "cell_type": "code",
   "execution_count": 46,
   "id": "1215f6d6",
   "metadata": {},
   "outputs": [
    {
     "name": "stdout",
     "output_type": "stream",
     "text": [
      "wjscpdptj 12463개의 고유한 토큰을 찾았습니다\n",
      "word_index type: <class 'dict'>\n"
     ]
    }
   ],
   "source": [
    "print('wjscpdptj %s개의 고유한 토큰을 찾았습니다' % len(word_index))\n",
    "print('word_index type:', type(word_index))\n",
    "# print('word_index:', word_index)"
   ]
  },
  {
   "cell_type": "code",
   "execution_count": 47,
   "id": "6ad5f06a",
   "metadata": {},
   "outputs": [
    {
     "name": "stdout",
     "output_type": "stream",
     "text": [
      "최대 문장 길이: 297\n",
      "최소 문장 길이: 19\n"
     ]
    }
   ],
   "source": [
    "seq_data = tokenizer.texts_to_sequences(train_data_text)\n",
    "# print('data', data)\n",
    "\n",
    "len_d = [len(d) for d in data]\n",
    "# print('길이:', len_d)\n",
    "print('최대 문장 길이:', max(len_d))\n",
    "print('최소 문장 길이:', min(len_d))"
   ]
  },
  {
   "cell_type": "code",
   "execution_count": 48,
   "id": "d53d5217",
   "metadata": {},
   "outputs": [
    {
     "name": "stdout",
     "output_type": "stream",
     "text": [
      "data: [[   0    0    0 ...  548    5  259]\n",
      " [   0    0    0 ...  130  199    6]\n",
      " [   0    0    0 ... 1254    8    8]\n",
      " ...\n",
      " [   0    0    0 ...  540  288    3]\n",
      " [   0    0    0 ... 5729 1605   11]\n",
      " [   0    0    0 ...   16    7    8]]\n",
      "data 0: [   0    0    0    0    0    0    0    0    0    0    0    0    0    0\n",
      "    0    0    0    0    0    0    0    0    0    0    0    0 2437  548\n",
      "    6    2  115   39  135  115  602  259   39  548    5  259]\n",
      "data 0의 길이: 40\n"
     ]
    }
   ],
   "source": [
    "pad_data = pad_sequences(seq_data, maxlen=maxlen)\n",
    "\n",
    "print('data:', pad_data)\n",
    "print('data 0:', pad_data[0])\n",
    "print('data 0의 길이:', len(pad_data[0]))"
   ]
  },
  {
   "cell_type": "code",
   "execution_count": 49,
   "id": "33e098f5",
   "metadata": {},
   "outputs": [
    {
     "name": "stdout",
     "output_type": "stream",
     "text": [
      "train_data_text type: <class 'list'>\n",
      "data type: <class 'numpy.ndarray'>\n",
      "train_data_text 0: 짝사랑 애가 있 친구 좋아하 그 애 좋아하 털어놓 답답 그 애가 너무 답답\n",
      "data 0: [   0    0    0    0    0    0    0    0    0    0    0    0    0    0\n",
      "    0    0    0    0    0    0    0    0    0    0    0    0 2437  548\n",
      "    6    2  115   39  135  115  602  259   39  548    5  259]\n"
     ]
    }
   ],
   "source": [
    "print('train_data_text type:', type(train_data_text))\n",
    "print('data type:', type(pad_data))\n",
    "print('train_data_text 0:', train_data_text[0])\n",
    "print('data 0:', pad_data[0])"
   ]
  },
  {
   "cell_type": "code",
   "execution_count": 50,
   "id": "11236c29",
   "metadata": {},
   "outputs": [],
   "source": [
    "def to_one_hot(sequences, dimension):\n",
    "    results = np.zeros((len(sequences), dimension))\n",
    "    for i, sequence in enumerate(sequences):\n",
    "        results[i, sequence] = 1.\n",
    "    return results\n",
    "\n",
    "x_train = to_one_hot(pad_data, dimension=max_words)"
   ]
  },
  {
   "cell_type": "code",
   "execution_count": 51,
   "id": "f125b9c5",
   "metadata": {},
   "outputs": [
    {
     "name": "stdout",
     "output_type": "stream",
     "text": [
      "train_data_text type: <class 'list'>\n",
      "41\n",
      "texts 0: 짝사랑 애가 있 친구 좋아하 그 애 좋아하 털어놓 답답 그 애가 너무 답답\n",
      "data type: <class 'numpy.ndarray'>\n",
      "20000\n",
      "x_train [0][0:100]: [1. 0. 1. 0. 0. 1. 1. 0. 0. 0. 0. 0. 0. 0. 0. 0. 0. 0. 0. 0. 0. 0. 0. 0.\n",
      " 0. 0. 0. 0. 0. 0. 0. 0. 0. 0. 0. 0. 0. 0. 0. 1. 0. 0. 0. 0. 0. 0. 0. 0.\n",
      " 0. 0. 0. 0. 0. 0. 0. 0. 0. 0. 0. 0. 0. 0. 0. 0. 0. 0. 0. 0. 0. 0. 0. 0.\n",
      " 0. 0. 0. 0. 0. 0. 0. 0. 0. 0. 0. 0. 0. 0. 0. 0. 0. 0. 0. 0. 0. 0. 0. 0.\n",
      " 0. 0. 0. 0.]\n"
     ]
    }
   ],
   "source": [
    "print('train_data_text type:', type(train_data_text))\n",
    "print(len(train_data_text[0]))\n",
    "print('texts 0:', train_data_text[0])\n",
    "\n",
    "print('data type:', type(x_train))\n",
    "print(len(x_train[0]))\n",
    "print('x_train [0][0:100]:', x_train[0][:100])"
   ]
  },
  {
   "cell_type": "code",
   "execution_count": 52,
   "id": "f9f2d475",
   "metadata": {},
   "outputs": [
    {
     "name": "stdout",
     "output_type": "stream",
     "text": [
      "['기쁨' '당황' '분노' '불안' '상처' '슬픔']\n"
     ]
    }
   ],
   "source": [
    "from sklearn.preprocessing import LabelEncoder\n",
    "le = LabelEncoder()\n",
    "le.fit(train_data_label)\n",
    "print(le.classes_)\n",
    "train_data_label = le.transform(train_data_label)"
   ]
  },
  {
   "cell_type": "code",
   "execution_count": 53,
   "id": "e1885890",
   "metadata": {},
   "outputs": [],
   "source": [
    "test_data_label = le.transform(test_data_label)"
   ]
  },
  {
   "cell_type": "code",
   "execution_count": 54,
   "id": "d8dc2b97",
   "metadata": {},
   "outputs": [
    {
     "name": "stdout",
     "output_type": "stream",
     "text": [
      "[[0. 0. 0. 0. 1. 0.]\n",
      " [0. 0. 0. 1. 0. 0.]\n",
      " [1. 0. 0. 0. 0. 0.]\n",
      " ...\n",
      " [0. 0. 0. 0. 0. 1.]\n",
      " [0. 0. 1. 0. 0. 0.]\n",
      " [0. 0. 1. 0. 0. 0.]]\n"
     ]
    }
   ],
   "source": [
    "class_number = len(le.classes_)\n",
    "y_train = to_one_hot(train_data_label, dimension=class_number)\n",
    "print(y_train)"
   ]
  },
  {
   "cell_type": "code",
   "execution_count": 55,
   "id": "5f58e843",
   "metadata": {},
   "outputs": [
    {
     "name": "stdout",
     "output_type": "stream",
     "text": [
      "[[0. 0. 0. 0. 0. 1.]\n",
      " [0. 0. 0. 0. 0. 1.]\n",
      " [0. 0. 1. 0. 0. 0.]\n",
      " ...\n",
      " [0. 1. 0. 0. 0. 0.]\n",
      " [0. 0. 0. 0. 1. 0.]\n",
      " [1. 0. 0. 0. 0. 0.]]\n"
     ]
    }
   ],
   "source": [
    "data_test = tokenizer.texts_to_sequences(test_data_text)\n",
    "\n",
    "data_test = pad_sequences(data_test, maxlen=maxlen)\n",
    "\n",
    "x_test = to_one_hot(data_test, dimension=max_words)\n",
    "\n",
    "y_test = to_one_hot(test_data_label, dimension=class_number)\n",
    "print(y_test)"
   ]
  },
  {
   "cell_type": "code",
   "execution_count": 56,
   "id": "4866d0d1",
   "metadata": {},
   "outputs": [
    {
     "name": "stdout",
     "output_type": "stream",
     "text": [
      "훈련 데이터 본문 텐서의 크기: (28615, 20000)\n",
      "훈련 데이터 레이블 텐서의 크기: (28615, 6)\n",
      "테스트 데이터 본문 텐서의 크기: (3000, 20000)\n",
      "테스트 데이터 레이블 텐서의 크기: (3000, 6)\n"
     ]
    }
   ],
   "source": [
    "print('훈련 데이터 본문 텐서의 크기:', x_train.shape)\n",
    "print('훈련 데이터 레이블 텐서의 크기:', y_train.shape)\n",
    "\n",
    "print('테스트 데이터 본문 텐서의 크기:', x_test.shape)\n",
    "print('테스트 데이터 레이블 텐서의 크기:', y_test.shape)"
   ]
  },
  {
   "cell_type": "code",
   "execution_count": 68,
   "id": "f2033ade",
   "metadata": {},
   "outputs": [],
   "source": [
    "model_name = 'train_data_emotion_morphed_model.h5'\n",
    "tokenizer_name = 'train_data_emotion_morphed_token.pickle'\n",
    "labelencode_name = 'train_data_emotion_morphed_le.pickle'"
   ]
  },
  {
   "cell_type": "code",
   "execution_count": 69,
   "id": "d84f45d5",
   "metadata": {},
   "outputs": [
    {
     "name": "stdout",
     "output_type": "stream",
     "text": [
      "Model: \"sequential_3\"\n",
      "_________________________________________________________________\n",
      "Layer (type)                 Output Shape              Param #   \n",
      "=================================================================\n",
      "dense_7 (Dense)              (None, 256)               5120256   \n",
      "_________________________________________________________________\n",
      "dense_8 (Dense)              (None, 128)               32896     \n",
      "_________________________________________________________________\n",
      "dense_9 (Dense)              (None, 64)                8256      \n",
      "_________________________________________________________________\n",
      "dense_10 (Dense)             (None, 32)                2080      \n",
      "_________________________________________________________________\n",
      "dense_11 (Dense)             (None, 6)                 198       \n",
      "=================================================================\n",
      "Total params: 5,163,686\n",
      "Trainable params: 5,163,686\n",
      "Non-trainable params: 0\n",
      "_________________________________________________________________\n"
     ]
    }
   ],
   "source": [
    "from keras.models import Sequential\n",
    "from keras.layers import Dense\n",
    "\n",
    "model = Sequential()\n",
    "\n",
    "model.add(Dense(256, activation='relu', input_shape=(max_words,)))\n",
    "model.add(Dense(units=128, activation='relu'))\n",
    "model.add(Dense(units=64, activation='relu'))\n",
    "model.add(Dense(units=32, activation='relu'))\n",
    "model.add(Dense(units=class_number, activation='softmax'))\n",
    "\n",
    "model.summary()"
   ]
  },
  {
   "cell_type": "code",
   "execution_count": 70,
   "id": "b70e08c4",
   "metadata": {},
   "outputs": [
    {
     "name": "stdout",
     "output_type": "stream",
     "text": [
      "/Users/jsha/gjai/nlp/pytest/13_연습문제2/ --- Folder already exists\n",
      "\n"
     ]
    }
   ],
   "source": [
    "from keras.callbacks import EarlyStopping\n",
    "import os\n",
    "\n",
    "checkpoint_path = path + '13_연습문제2/'\n",
    "# checkpoint_dir = os.path.dirname(checkpoint_path)\n",
    "if os.path.exists(checkpoint_path):\n",
    "    print('{} --- Folder already exists\\n'.format(checkpoint_path))\n",
    "else:\n",
    "    os.makedirs(checkpoint_path, exist_ok=True)\n",
    "    print('{} --- Folder created\\n'.format(checkpoint_path))"
   ]
  },
  {
   "cell_type": "code",
   "execution_count": 71,
   "id": "68a032cf",
   "metadata": {},
   "outputs": [],
   "source": [
    "model.compile(optimizer='rmsprop', loss='categorical_crossentropy',\n",
    "             metrics=['acc'])"
   ]
  },
  {
   "cell_type": "code",
   "execution_count": 72,
   "id": "deec29e7",
   "metadata": {},
   "outputs": [
    {
     "name": "stdout",
     "output_type": "stream",
     "text": [
      "Train on 20030 samples, validate on 8585 samples\n",
      "Epoch 1/10\n",
      "20030/20030 [==============================] - 17s 827us/step - loss: 1.1847 - acc: 0.5715 - val_loss: 1.0576 - val_acc: 0.6324\n",
      "\n",
      "Epoch 00001: val_acc improved from -inf to 0.63238, saving model to /Users/jsha/gjai/nlp/pytest/13_연습문제2/train_data_emotion_morphed_model.h5\n",
      "Epoch 2/10\n",
      "20030/20030 [==============================] - 15s 764us/step - loss: 0.7784 - acc: 0.7317 - val_loss: 1.0078 - val_acc: 0.6535\n",
      "\n",
      "Epoch 00002: val_acc improved from 0.63238 to 0.65347, saving model to /Users/jsha/gjai/nlp/pytest/13_연습문제2/train_data_emotion_morphed_model.h5\n",
      "Epoch 3/10\n",
      "20030/20030 [==============================] - 16s 788us/step - loss: 0.5769 - acc: 0.8029 - val_loss: 1.1515 - val_acc: 0.6375\n",
      "\n",
      "Epoch 00003: val_acc did not improve from 0.65347\n",
      "Epoch 4/10\n",
      "20030/20030 [==============================] - 16s 795us/step - loss: 0.3792 - acc: 0.8770 - val_loss: 1.3480 - val_acc: 0.6256\n",
      "\n",
      "Epoch 00004: val_acc did not improve from 0.65347\n"
     ]
    }
   ],
   "source": [
    "from keras.callbacks import ModelCheckpoint\n",
    "\n",
    "epochs = 10\n",
    "batch_size = 100\n",
    "\n",
    "earlystop_callback = EarlyStopping(monitor='val_acc', patience=2)\n",
    "cp_callback = ModelCheckpoint(filepath=checkpoint_path+model_name,\n",
    "                             monitor='val_acc', verbose=1, \n",
    "                             save_best_only=True)\n",
    "history = model.fit(x_train, y_train, epochs=epochs,\n",
    "                   batch_size=batch_size, validation_split=0.3,\n",
    "                   callbacks=[earlystop_callback, cp_callback], verbose=1)\n",
    "history_dict = history.history"
   ]
  },
  {
   "cell_type": "code",
   "execution_count": 73,
   "id": "5833cbbc",
   "metadata": {},
   "outputs": [],
   "source": [
    "import pickle\n",
    "\n",
    "# model.save(model_name)\n",
    "\n",
    "with open(checkpoint_path+tokenizer_name, 'wb') as file:\n",
    "    pickle.dump(tokenizer, file, protocol=pickle.HIGHEST_PROTOCOL)\n",
    "    \n",
    "with open(checkpoint_path+labelencode_name, 'wb') as file:\n",
    "    pickle.dump(le, file, protocol=pickle.HIGHEST_PROTOCOL)\n",
    "    "
   ]
  },
  {
   "cell_type": "code",
   "execution_count": 74,
   "id": "f51234ab",
   "metadata": {},
   "outputs": [
    {
     "name": "stdout",
     "output_type": "stream",
     "text": [
      "validation accuracy of each epoch: [0.632 0.653 0.638 0.626]\n"
     ]
    }
   ],
   "source": [
    "acc = history.history['acc']\n",
    "val_acc = history.history['val_acc']\n",
    "loss = history.history['loss']\n",
    "val_loss = history.history['val_loss']\n",
    "\n",
    "print('validation accuracy of each epoch:', np.round(val_acc,3))\n",
    "epochs = range(1, len(val_acc)+1)"
   ]
  },
  {
   "cell_type": "code",
   "execution_count": 75,
   "id": "abc5c449",
   "metadata": {},
   "outputs": [
    {
     "data": {
      "image/png": "[encoded data removed]",
      "text/plain": [
       "<Figure size 432x288 with 1 Axes>"
      ]
     },
     "metadata": {
      "needs_background": "light"
     },
     "output_type": "display_data"
    }
   ],
   "source": [
    "import matplotlib.pyplot as plt\n",
    "\n",
    "plt.plot(epochs, acc, 'bo', label='Training Acc')\n",
    "plt.plot(epochs, val_acc, 'r', label='Validation Acc')\n",
    "plt.title('Training and Validation Accuracy')\n",
    "plt.legend(loc=4)\n",
    "plt.show()"
   ]
  },
  {
   "cell_type": "code",
   "execution_count": 76,
   "id": "86681d58",
   "metadata": {
    "scrolled": false
   },
   "outputs": [
    {
     "data": {
      "image/png": "[encoded data removed]",
      "text/plain": [
       "<Figure size 432x288 with 1 Axes>"
      ]
     },
     "metadata": {
      "needs_background": "light"
     },
     "output_type": "display_data"
    }
   ],
   "source": [
    "plt.plot(epochs, loss, 'bo', label='Training Loss')\n",
    "plt.plot(epochs, val_loss, 'r', label='Validation Loss')\n",
    "plt.title('Training and Validation loss')\n",
    "plt.legend(loc=1)\n",
    "plt.show()"
   ]
  },
  {
   "cell_type": "code",
   "execution_count": 77,
   "id": "c2ed8f5b",
   "metadata": {},
   "outputs": [],
   "source": [
    "from keras.models import load_model\n",
    "\n",
    "loaded_model = load_model(checkpoint_path+model_name)\n",
    "\n",
    "with open(checkpoint_path+tokenizer_name, 'rb') as handle:\n",
    "    loaded_tokenizer = pickle.load(handle)"
   ]
  },
  {
   "cell_type": "code",
   "execution_count": 78,
   "id": "c3ba22b8",
   "metadata": {},
   "outputs": [
    {
     "name": "stdout",
     "output_type": "stream",
     "text": [
      "3000/3000 [==============================] - 1s 399us/step\n",
      "prediction model loss & acc: [0.9975601439476013, 0.6656666398048401]\n"
     ]
    }
   ],
   "source": [
    "test_eval = loaded_model.evaluate(x_test, y_test)\n",
    "\n",
    "print('prediction model loss & acc:', test_eval)"
   ]
  },
  {
   "cell_type": "code",
   "execution_count": null,
   "id": "8cc533a8",
   "metadata": {},
   "outputs": [],
   "source": []
  }
 ],
 "metadata": {
  "kernelspec": {
   "display_name": "nlp3710",
   "language": "python",
   "name": "nlp3710"
  },
  "language_info": {
   "codemirror_mode": {
    "name": "ipython",
    "version": 3
   },
   "file_extension": ".py",
   "mimetype": "text/x-python",
   "name": "python",
   "nbconvert_exporter": "python",
   "pygments_lexer": "ipython3",
   "version": "3.7.10"
  },
  "toc": {
   "base_numbering": 1,
   "nav_menu": {},
   "number_sections": true,
   "sideBar": true,
   "skip_h1_title": false,
   "title_cell": "Table of Contents",
   "title_sidebar": "Contents",
   "toc_cell": false,
   "toc_position": {},
   "toc_section_display": true,
   "toc_window_display": false
  }
 },
 "nbformat": 4,
 "nbformat_minor": 5
}
