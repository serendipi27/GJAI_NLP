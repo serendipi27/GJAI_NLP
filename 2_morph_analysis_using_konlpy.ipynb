{
 "cells": [
  {
   "cell_type": "markdown",
   "id": "3430491e",
   "metadata": {},
   "source": [
    "# KoNLPy 설치\n",
    "- Hannanum, Kkma, Komoran, Okt 등의 형태소 분석기를 동일한 인터페이스에서 사용할 수 있게 한다.\n",
    "- 사전에 Java, JPype 등을 설치해야 하는 것은 rhinoMorph와 동일하다.\n",
    "- pip install konlpy"
   ]
  },
  {
   "cell_type": "markdown",
   "id": "565e4d0d",
   "metadata": {},
   "source": [
    "# 형태소 분석기 사용하기"
   ]
  },
  {
   "cell_type": "markdown",
   "id": "5093a6d3",
   "metadata": {},
   "source": [
    "## 형태소 분석기 - Hannanum"
   ]
  },
  {
   "cell_type": "code",
   "execution_count": 6,
   "id": "618641c8",
   "metadata": {},
   "outputs": [
    {
     "name": "stdout",
     "output_type": "stream",
     "text": [
      "한나눔 전체: ['형태소분석기', '로', '빅데이터', '처리', '를', '하', '는', '것', '은', '즐겁', '다', '.']--------------------------------------------------------------------------------한나눔 명사: ['형태소분석기', '빅데이터', '처리', '것']--------------------------------------------------------------------------------한나눔 품사: [('형태소분석기', 'N'), ('로', 'J'), ('빅데이터', 'N'), ('처리', 'N'), ('를', 'J'), ('하', 'P'), ('는', 'E'), ('것', 'N'), ('은', 'J'), ('즐겁', 'P'), ('다', 'E'), ('.', 'S')]--------------------------------------------------------------------------------한나눔 태그셋: {'E': '어미', 'EC': '연결 어미', 'EF': '종결 어미', 'EP': '선어말어미', 'ET': '전성 어미', 'F': '외국어', 'I': '독립언', 'II': '감탄사', 'J': '관계언', 'JC': '격조사', 'JP': '서술격 조사', 'JX': '보조사', 'M': '수식언', 'MA': '부사', 'MM': '관형사', 'N': '체언', 'NB': '의존명사', 'NC': '보통명사', 'NN': '수사', 'NP': '대명사', 'NQ': '고유명사', 'P': '용언', 'PA': '형용사', 'PV': '동사', 'PX': '보조 용언', 'S': '기호', 'X': '접사', 'XP': '접두사', 'XS': '접미사'}--------------------------------------------------------------------------------"
     ]
    }
   ],
   "source": [
    "text = '형태소분석기로 빅데이터 처리를 하는 것은 즐겁다.'\n",
    "\n",
    "from konlpy.tag import Hannanum\n",
    "han = Hannanum()\n",
    "\n",
    "print('한나눔 전체:', han.morphs(text), end='-'*80)\n",
    "print('한나눔 명사:', han.nouns(text), end='-'*80)\n",
    "print('한나눔 품사:', han.pos(text), end='-'*80)\n",
    "print('한나눔 태그셋:', han.tagset, end='-'*80)"
   ]
  },
  {
   "cell_type": "markdown",
   "id": "769068d4",
   "metadata": {},
   "source": [
    "## 형태소 분석기 - Kkma"
   ]
  },
  {
   "cell_type": "code",
   "execution_count": 7,
   "id": "1e9af3de",
   "metadata": {},
   "outputs": [
    {
     "name": "stdout",
     "output_type": "stream",
     "text": [
      "꼬꼬마 전체: ['형태소', '분석기', '로', '빅', '데이터', '처리', '를', '하', '는', '것', '은', '즐겁', '다', '.']--------------------------------------------------------------------------------꼬꼬마 nouns: ['형태소', '형태소분석기', '분석기', '빅', '빅데이터', '데이터', '처리']--------------------------------------------------------------------------------꼬꼬마 poses: [('형태소', 'NNG'), ('분석기', 'NNG'), ('로', 'JKM'), ('빅', 'NNG'), ('데이터', 'NNG'), ('처리', 'NNG'), ('를', 'JKO'), ('하', 'VV'), ('는', 'ETD'), ('것', 'NNB'), ('은', 'JX'), ('즐겁', 'VA'), ('다', 'EFN'), ('.', 'SF')]--------------------------------------------------------------------------------꼬꼬마 tagset: {'EC': '연결 어미', 'ECD': '의존적 연결 어미', 'ECE': '대등 연결 어미', 'ECS': '보조적 연결 어미', 'EF': '종결 어미', 'EFA': '청유형 종결 어미', 'EFI': '감탄형 종결 어미', 'EFN': '평서형 종결 어미', 'EFO': '명령형 종결 어미', 'EFQ': '의문형 종결 어미', 'EFR': '존칭형 종결 어미', 'EP': '선어말 어미', 'EPH': '존칭 선어말 어미', 'EPP': '공손 선어말 어미', 'EPT': '시제 선어말 어미', 'ET': '전성 어미', 'ETD': '관형형 전성 어미', 'ETN': '명사형 전성 어미', 'IC': '감탄사', 'JC': '접속 조사', 'JK': '조사', 'JKC': '보격 조사', 'JKG': '관형격 조사', 'JKI': '호격 조사', 'JKM': '부사격 조사', 'JKO': '목적격 조사', 'JKQ': '인용격 조사', 'JKS': '주격 조사', 'JX': '보조사', 'MA': '부사', 'MAC': '접속 부사', 'MAG': '일반 부사', 'MD': '관형사', 'MDN': '수 관형사', 'MDT': '일반 관형사', 'NN': '명사', 'NNB': '일반 의존 명사', 'NNG': '보통명사', 'NNM': '단위 의존 명사', 'NNP': '고유명사', 'NP': '대명사', 'NR': '수사', 'OH': '한자', 'OL': '외국어', 'ON': '숫자', 'SE': '줄임표', 'SF': '마침표, 물음표, 느낌표', 'SO': '붙임표(물결,숨김,빠짐)', 'SP': '쉼표,가운뎃점,콜론,빗금', 'SS': '따옴표,괄호표,줄표', 'SW': '기타기호 (논리수학기호,화폐기호)', 'UN': '명사추정범주', 'VA': '형용사', 'VC': '지정사', 'VCN': \"부정 지정사, 형용사 '아니다'\", 'VCP': \"긍정 지정사, 서술격 조사 '이다'\", 'VV': '동사', 'VX': '보조 용언', 'VXA': '보조 형용사', 'VXV': '보조 동사', 'XP': '접두사', 'XPN': '체언 접두사', 'XPV': '용언 접두사', 'XR': '어근', 'XSA': '형용사 파생 접미사', 'XSN': '명사파생 접미사', 'XSV': '동사 파생 접미사'}--------------------------------------------------------------------------------"
     ]
    }
   ],
   "source": [
    "text = '형태소분석기로 빅데이터 처리를 하는 것은 즐겁다.'\n",
    "\n",
    "from konlpy.tag import Kkma\n",
    "kkma = Kkma()\n",
    "print(\"꼬꼬마 전체:\", kkma.morphs(text), end='-'*80)\n",
    "print(\"꼬꼬마 nouns:\", kkma.nouns(text), end='-'*80)\n",
    "print('꼬꼬마 poses:', kkma.pos(text), end='-'*80)\n",
    "print('꼬꼬마 tagset:', kkma.tagset, end='-'*80)"
   ]
  },
  {
   "cell_type": "markdown",
   "id": "54ef9303",
   "metadata": {},
   "source": [
    "## 형태소 분석기 - Komoran"
   ]
  },
  {
   "cell_type": "code",
   "execution_count": 10,
   "id": "69a310f8",
   "metadata": {},
   "outputs": [
    {
     "name": "stdout",
     "output_type": "stream",
     "text": [
      "코모란 전체: ['형태소', '분석', '기로', '빅', '데이터 처리', '를', '하', '는', '것', '은', '즐겁', '다', '.']--------------------------------------------------------------------------------코모란 명사: ['형태소', '분석', '기로', '빅', '데이터 처리', '것']--------------------------------------------------------------------------------코모란 품사: [('형태소', 'NNP'), ('분석', 'NNP'), ('기로', 'NNP'), ('빅', 'NNG'), ('데이터 처리', 'NNP'), ('를', 'JKO'), ('하', 'VV'), ('는', 'ETM'), ('것', 'NNB'), ('은', 'JX'), ('즐겁', 'VA'), ('다', 'EF'), ('.', 'SF')]--------------------------------------------------------------------------------코모란 태그셋: {'EC': '연결 어미', 'EF': '종결 어미', 'EP': '선어말어미', 'ETM': '관형형 전성 어미', 'ETN': '명사형 전성 어미', 'IC': '감탄사', 'JC': '접속 조사', 'JKB': '부사격 조사', 'JKC': '보격 조사', 'JKG': '관형격 조사', 'JKO': '목적격 조사', 'JKQ': '인용격 조사', 'JKS': '주격 조사', 'JKV': '호격 조사', 'JX': '보조사', 'MAG': '일반 부사', 'MAJ': '접속 부사', 'MM': '관형사', 'NA': '분석불능범주', 'NF': '명사추정범주', 'NNB': '의존 명사', 'NNG': '일반 명사', 'NNP': '고유 명사', 'NP': '대명사', 'NR': '수사', 'NV': '용언추정범주', 'SE': '줄임표', 'SF': '마침표, 물음표, 느낌표', 'SH': '한자', 'SL': '외국어', 'SN': '숫자', 'SO': '붙임표(물결,숨김,빠짐)', 'SP': '쉼표,가운뎃점,콜론,빗금', 'SS': '따옴표,괄호표,줄표', 'SW': '기타기호 (논리수학기호,화폐기호)', 'VA': '형용사', 'VCN': '부정 지정사', 'VCP': '긍정 지정사', 'VV': '동사', 'VX': '보조 용언', 'XPN': '체언 접두사', 'XR': '어근', 'XSA': '형용사 파생 접미사', 'XSN': '명사파생 접미사', 'XSV': '동사 파생 접미사'}--------------------------------------------------------------------------------"
     ]
    }
   ],
   "source": [
    "text = '형태소분석기로 빅데이터 처리를 하는 것은 즐겁다.'\n",
    "\n",
    "from konlpy.tag import Komoran\n",
    "komo = Komoran()\n",
    "\n",
    "print('코모란 전체:', komo.morphs(text), end='-'*80)\n",
    "print('코모란 명사:', komo.nouns(text), end='-'*80)\n",
    "print('코모란 품사:', komo.pos(text), end='-'*80)\n",
    "print('코모란 태그셋:', komo.tagset, end='-'*80)"
   ]
  },
  {
   "cell_type": "markdown",
   "id": "d21e3ecb",
   "metadata": {},
   "source": [
    "## 형태소 분석기 - Okt"
   ]
  },
  {
   "cell_type": "code",
   "execution_count": 13,
   "id": "0937790c",
   "metadata": {},
   "outputs": [
    {
     "name": "stdout",
     "output_type": "stream",
     "text": [
      "Okt 전체: ['형태소', '분', '석기', '로', '빅데이터', '처리', '를', '하는', '것', '은', '즐겁다', '.']\n",
      "Okt 전체, 어말어미유지: ['형태소', '분', '석기', '로', '빅데이터', '처리', '를', '하다', '것', '은', '즐겁다', '.']\n",
      "Okt 명사: ['형태소', '석기', '빅데이터', '처리', '것']\n",
      "Okt 품사: [('형태소', 'Noun'), ('분', 'Suffix'), ('석기', 'Noun'), ('로', 'Josa'), ('빅데이터', 'Noun'), ('처리', 'Noun'), ('를', 'Josa'), ('하는', 'Verb'), ('것', 'Noun'), ('은', 'Josa'), ('즐겁다', 'Adjective'), ('.', 'Punctuation')]\n",
      "Okt 태그셋: {'Adjective': '형용사', 'Adverb': '부사', 'Alpha': '알파벳', 'Conjunction': '접속사', 'Determiner': '관형사', 'Eomi': '어미', 'Exclamation': '감탄사', 'Foreign': '외국어, 한자 및 기타기호', 'Hashtag': '트위터 해쉬태그', 'Josa': '조사', 'KoreanParticle': '(ex: ㅋㅋ)', 'Noun': '명사', 'Number': '숫자', 'PreEomi': '선어말어미', 'Punctuation': '구두점', 'ScreenName': '트위터 아이디', 'Suffix': '접미사', 'Unknown': '미등록어', 'Verb': '동사'}\n"
     ]
    }
   ],
   "source": [
    "text = '형태소분석기로 빅데이터 처리를 하는 것은 즐겁다.'\n",
    "\n",
    "from konlpy.tag import Okt\n",
    "okt = Okt()\n",
    "print(\"Okt 전체:\", okt.morphs(text))\n",
    "print(\"Okt 전체, 어말어미유지:\", okt.morphs(text, stem=True)) \n",
    "print(\"Okt 명사:\", okt.nouns(text))\n",
    "print(\"Okt 품사:\", okt.pos(text)) \n",
    "print(\"Okt 태그셋:\", okt.tagset)"
   ]
  },
  {
   "cell_type": "markdown",
   "id": "5b4c19e2",
   "metadata": {},
   "source": [
    "# 사전 등록하기\n",
    "## rhinoMorph 설치 위치 찾기\n",
    " - conda를 이용한 env 가상환경에서 rhinoMorph 설치 위치 찾기\n",
    " - ex) /Users/serendipi27/opt/anaconda3/envs/nlp3710/lib/python3.7/site-packages/rhinoMorph/resource/\n",
    "\n",
    "## stem_MethodDeleted.txt 파일 수정\n",
    " - 맨 아래 줄에 아래와 같이 작성한다.\n",
    " - **새로 등록할 단어 + tab + 새로 등록할 단어/품사태그 + return**\n",
    " - ex) 흥칫뿡    흥칫뿡/IC\n",
    " - 위 return을 반드시 해줘야 한다. 그리고 저장."
   ]
  },
  {
   "cell_type": "code",
   "execution_count": 1,
   "id": "8e1deb2c",
   "metadata": {},
   "outputs": [
    {
     "name": "stdout",
     "output_type": "stream",
     "text": [
      "filepath:  /Users/jsha/opt/anaconda3/envs/nlp3710/lib/python3.7/site-packages\n",
      "classpath:  /Users/jsha/opt/anaconda3/envs/nlp3710/lib/python3.7/site-packages/rhinoMorph/lib/rhino.jar\n",
      "RHINO started!\n",
      "(['너', '는', '흥칫뿡', '이야', '!', '!', '!', '!'], ['NP', 'JX', 'IC', 'IC', 'SF', 'SF', 'SF', 'SF'])\n"
     ]
    }
   ],
   "source": [
    "import rhinoMorph\n",
    "\n",
    "text = '너는 흥칫뿡 이야!!!!'\n",
    "rn = rhinoMorph.startRhino()\n",
    "\n",
    "morphed = rhinoMorph.wholeResult_list(rn, text)\n",
    "print(morphed)"
   ]
  },
  {
   "cell_type": "code",
   "execution_count": null,
   "id": "cfae5f99",
   "metadata": {},
   "outputs": [],
   "source": []
  }
 ],
 "metadata": {
  "kernelspec": {
   "display_name": "nlp3710",
   "language": "python",
   "name": "nlp3710"
  },
  "language_info": {
   "codemirror_mode": {
    "name": "ipython",
    "version": 3
   },
   "file_extension": ".py",
   "mimetype": "text/x-python",
   "name": "python",
   "nbconvert_exporter": "python",
   "pygments_lexer": "ipython3",
   "version": "3.7.10"
  },
  "toc": {
   "base_numbering": 1,
   "nav_menu": {},
   "number_sections": true,
   "sideBar": true,
   "skip_h1_title": false,
   "title_cell": "Table of Contents",
   "title_sidebar": "Contents",
   "toc_cell": false,
   "toc_position": {},
   "toc_section_display": true,
   "toc_window_display": false
  }
 },
 "nbformat": 4,
 "nbformat_minor": 5
}
