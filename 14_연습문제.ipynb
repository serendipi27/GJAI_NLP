{
 "cells": [
  {
   "cell_type": "code",
   "execution_count": 1,
   "id": "5db80b2b",
   "metadata": {},
   "outputs": [
    {
     "name": "stdout",
     "output_type": "stream",
     "text": [
      "df_X.shape: (32561, 11)\n"
     ]
    }
   ],
   "source": [
    "import pandas as pd\n",
    "\n",
    "path = '/Users/jsha/gjai/nlp/pytest/'\n",
    "\n",
    "df = pd.read_csv(path+'income.csv')\n",
    "df_X = df.loc[:, 'age':'nativeCountry']\n",
    "print('df_X.shape:', df_X.shape)\n"
   ]
  },
  {
   "cell_type": "code",
   "execution_count": 2,
   "id": "88d4ea23",
   "metadata": {
    "scrolled": false
   },
   "outputs": [
    {
     "data": {
      "text/html": [
       "<div>\n",
       "<style scoped>\n",
       "    .dataframe tbody tr th:only-of-type {\n",
       "        vertical-align: middle;\n",
       "    }\n",
       "\n",
       "    .dataframe tbody tr th {\n",
       "        vertical-align: top;\n",
       "    }\n",
       "\n",
       "    .dataframe thead th {\n",
       "        text-align: right;\n",
       "    }\n",
       "</style>\n",
       "<table border=\"1\" class=\"dataframe\">\n",
       "  <thead>\n",
       "    <tr style=\"text-align: right;\">\n",
       "      <th></th>\n",
       "      <th>age</th>\n",
       "      <th>workclass</th>\n",
       "      <th>education</th>\n",
       "      <th>educationNumber</th>\n",
       "      <th>maritalStatus</th>\n",
       "      <th>occupation</th>\n",
       "      <th>relationship</th>\n",
       "      <th>race</th>\n",
       "      <th>gender</th>\n",
       "      <th>hourPerWeek</th>\n",
       "      <th>nativeCountry</th>\n",
       "    </tr>\n",
       "  </thead>\n",
       "  <tbody>\n",
       "    <tr>\n",
       "      <th>0</th>\n",
       "      <td>39</td>\n",
       "      <td>State-gov</td>\n",
       "      <td>Bachelors</td>\n",
       "      <td>13</td>\n",
       "      <td>Never-married</td>\n",
       "      <td>Adm-clerical</td>\n",
       "      <td>Not-in-family</td>\n",
       "      <td>4</td>\n",
       "      <td>Male</td>\n",
       "      <td>40</td>\n",
       "      <td>United-States</td>\n",
       "    </tr>\n",
       "    <tr>\n",
       "      <th>1</th>\n",
       "      <td>50</td>\n",
       "      <td>Self-emp-not-inc</td>\n",
       "      <td>Bachelors</td>\n",
       "      <td>13</td>\n",
       "      <td>Married-civ-spouse</td>\n",
       "      <td>Exec-managerial</td>\n",
       "      <td>Husband</td>\n",
       "      <td>4</td>\n",
       "      <td>Male</td>\n",
       "      <td>13</td>\n",
       "      <td>United-States</td>\n",
       "    </tr>\n",
       "    <tr>\n",
       "      <th>2</th>\n",
       "      <td>38</td>\n",
       "      <td>Private</td>\n",
       "      <td>HS-grad</td>\n",
       "      <td>9</td>\n",
       "      <td>Divorced</td>\n",
       "      <td>Handlers-cleaners</td>\n",
       "      <td>Not-in-family</td>\n",
       "      <td>4</td>\n",
       "      <td>Male</td>\n",
       "      <td>40</td>\n",
       "      <td>United-States</td>\n",
       "    </tr>\n",
       "    <tr>\n",
       "      <th>3</th>\n",
       "      <td>53</td>\n",
       "      <td>Private</td>\n",
       "      <td>11th</td>\n",
       "      <td>7</td>\n",
       "      <td>Married-civ-spouse</td>\n",
       "      <td>Handlers-cleaners</td>\n",
       "      <td>Husband</td>\n",
       "      <td>3</td>\n",
       "      <td>Male</td>\n",
       "      <td>40</td>\n",
       "      <td>United-States</td>\n",
       "    </tr>\n",
       "    <tr>\n",
       "      <th>4</th>\n",
       "      <td>28</td>\n",
       "      <td>Private</td>\n",
       "      <td>Bachelors</td>\n",
       "      <td>13</td>\n",
       "      <td>Married-civ-spouse</td>\n",
       "      <td>Prof-specialty</td>\n",
       "      <td>Wife</td>\n",
       "      <td>3</td>\n",
       "      <td>Female</td>\n",
       "      <td>40</td>\n",
       "      <td>Cuba</td>\n",
       "    </tr>\n",
       "    <tr>\n",
       "      <th>5</th>\n",
       "      <td>37</td>\n",
       "      <td>Private</td>\n",
       "      <td>Masters</td>\n",
       "      <td>14</td>\n",
       "      <td>Married-civ-spouse</td>\n",
       "      <td>Exec-managerial</td>\n",
       "      <td>Wife</td>\n",
       "      <td>4</td>\n",
       "      <td>Female</td>\n",
       "      <td>40</td>\n",
       "      <td>United-States</td>\n",
       "    </tr>\n",
       "    <tr>\n",
       "      <th>6</th>\n",
       "      <td>49</td>\n",
       "      <td>Private</td>\n",
       "      <td>9th</td>\n",
       "      <td>5</td>\n",
       "      <td>Married-spouse-absent</td>\n",
       "      <td>Other-service</td>\n",
       "      <td>Not-in-family</td>\n",
       "      <td>3</td>\n",
       "      <td>Female</td>\n",
       "      <td>16</td>\n",
       "      <td>Jamaica</td>\n",
       "    </tr>\n",
       "    <tr>\n",
       "      <th>7</th>\n",
       "      <td>52</td>\n",
       "      <td>Self-emp-not-inc</td>\n",
       "      <td>HS-grad</td>\n",
       "      <td>9</td>\n",
       "      <td>Married-civ-spouse</td>\n",
       "      <td>Exec-managerial</td>\n",
       "      <td>Husband</td>\n",
       "      <td>4</td>\n",
       "      <td>Male</td>\n",
       "      <td>45</td>\n",
       "      <td>United-States</td>\n",
       "    </tr>\n",
       "    <tr>\n",
       "      <th>8</th>\n",
       "      <td>31</td>\n",
       "      <td>Private</td>\n",
       "      <td>Masters</td>\n",
       "      <td>14</td>\n",
       "      <td>Never-married</td>\n",
       "      <td>Prof-specialty</td>\n",
       "      <td>Not-in-family</td>\n",
       "      <td>4</td>\n",
       "      <td>Female</td>\n",
       "      <td>50</td>\n",
       "      <td>United-States</td>\n",
       "    </tr>\n",
       "    <tr>\n",
       "      <th>9</th>\n",
       "      <td>42</td>\n",
       "      <td>Private</td>\n",
       "      <td>Bachelors</td>\n",
       "      <td>13</td>\n",
       "      <td>Married-civ-spouse</td>\n",
       "      <td>Exec-managerial</td>\n",
       "      <td>Husband</td>\n",
       "      <td>4</td>\n",
       "      <td>Male</td>\n",
       "      <td>40</td>\n",
       "      <td>United-States</td>\n",
       "    </tr>\n",
       "  </tbody>\n",
       "</table>\n",
       "</div>"
      ],
      "text/plain": [
       "   age          workclass   education  educationNumber  \\\n",
       "0   39          State-gov   Bachelors               13   \n",
       "1   50   Self-emp-not-inc   Bachelors               13   \n",
       "2   38            Private     HS-grad                9   \n",
       "3   53            Private        11th                7   \n",
       "4   28            Private   Bachelors               13   \n",
       "5   37            Private     Masters               14   \n",
       "6   49            Private         9th                5   \n",
       "7   52   Self-emp-not-inc     HS-grad                9   \n",
       "8   31            Private     Masters               14   \n",
       "9   42            Private   Bachelors               13   \n",
       "\n",
       "            maritalStatus          occupation    relationship  race   gender  \\\n",
       "0           Never-married        Adm-clerical   Not-in-family     4     Male   \n",
       "1      Married-civ-spouse     Exec-managerial         Husband     4     Male   \n",
       "2                Divorced   Handlers-cleaners   Not-in-family     4     Male   \n",
       "3      Married-civ-spouse   Handlers-cleaners         Husband     3     Male   \n",
       "4      Married-civ-spouse      Prof-specialty            Wife     3   Female   \n",
       "5      Married-civ-spouse     Exec-managerial            Wife     4   Female   \n",
       "6   Married-spouse-absent       Other-service   Not-in-family     3   Female   \n",
       "7      Married-civ-spouse     Exec-managerial         Husband     4     Male   \n",
       "8           Never-married      Prof-specialty   Not-in-family     4   Female   \n",
       "9      Married-civ-spouse     Exec-managerial         Husband     4     Male   \n",
       "\n",
       "   hourPerWeek   nativeCountry  \n",
       "0           40   United-States  \n",
       "1           13   United-States  \n",
       "2           40   United-States  \n",
       "3           40   United-States  \n",
       "4           40            Cuba  \n",
       "5           40   United-States  \n",
       "6           16         Jamaica  \n",
       "7           45   United-States  \n",
       "8           50   United-States  \n",
       "9           40   United-States  "
      ]
     },
     "execution_count": 2,
     "metadata": {},
     "output_type": "execute_result"
    }
   ],
   "source": [
    "df_X.head(10)"
   ]
  },
  {
   "cell_type": "code",
   "execution_count": 3,
   "id": "b11078fb",
   "metadata": {},
   "outputs": [
    {
     "name": "stdout",
     "output_type": "stream",
     "text": [
      "다음과 같은 순으로 띄어쓰기를 이용하여 정보를 입력하세요. \n",
      " 나이 직업형태 최종학력 학력수 결혼유무 직업 가족관계 인종 성별 주업무시간 출신국가\n",
      "40 Self-emp-not-inc Masters 14 Married-civ-spouse Exec-managerial Not-in-family 3 male 38 Jamaica\n"
     ]
    }
   ],
   "source": [
    "import numpy as np\n",
    "\n",
    "# 입력정보: '40 Self-emp-not-inc Masters 14 Married-civ-spouse Exec-managerial Not-in-family 3 male 38 Jamaica'\n",
    "\n",
    "string = input('다음과 같은 순으로 띄어쓰기를 이용하여 정보를 입력하세요. \\n 나이 직업형태 최종학력 학력수 결혼유무 직업 가족관계 인종 성별 주업무시간 출신국가\\n')\n",
    "input_data = np.array(string.split(' ')).reshape(1,-1)\n",
    "new_df_X = pd.DataFrame(input_data)\n",
    "new_df_X.shape\n",
    "new_df_X.columns = df_X.columns"
   ]
  },
  {
   "cell_type": "code",
   "execution_count": 4,
   "id": "4fd24e4a",
   "metadata": {},
   "outputs": [
    {
     "data": {
      "text/plain": [
       "age                 int64\n",
       "workclass          object\n",
       "education          object\n",
       "educationNumber     int64\n",
       "maritalStatus      object\n",
       "occupation         object\n",
       "relationship       object\n",
       "race                int64\n",
       "gender             object\n",
       "hourPerWeek         int64\n",
       "nativeCountry      object\n",
       "dtype: object"
      ]
     },
     "execution_count": 4,
     "metadata": {},
     "output_type": "execute_result"
    }
   ],
   "source": [
    "new_df_X.dtypes\n",
    "new_df_X['age'] = new_df_X['age'].astype('int64')\n",
    "new_df_X['educationNumber'] = new_df_X['educationNumber'].astype('int64')\n",
    "new_df_X['hourPerWeek'] = new_df_X['hourPerWeek'].astype('int64')\n",
    "new_df_X['race'] = new_df_X['race'].astype('int64')\n",
    "new_df_X.dtypes"
   ]
  },
  {
   "cell_type": "code",
   "execution_count": 5,
   "id": "2e6e893e",
   "metadata": {},
   "outputs": [
    {
     "data": {
      "text/plain": [
       "age                 int64\n",
       "workclass          object\n",
       "education          object\n",
       "educationNumber     int64\n",
       "maritalStatus      object\n",
       "occupation         object\n",
       "relationship       object\n",
       "race                int64\n",
       "gender             object\n",
       "hourPerWeek         int64\n",
       "nativeCountry      object\n",
       "dtype: object"
      ]
     },
     "execution_count": 5,
     "metadata": {},
     "output_type": "execute_result"
    }
   ],
   "source": [
    "df_X.dtypes"
   ]
  },
  {
   "cell_type": "code",
   "execution_count": 6,
   "id": "8fa2bb3b",
   "metadata": {},
   "outputs": [
    {
     "name": "stdout",
     "output_type": "stream",
     "text": [
      "df_appended.shape: (32562, 11)\n"
     ]
    },
    {
     "data": {
      "text/html": [
       "<div>\n",
       "<style scoped>\n",
       "    .dataframe tbody tr th:only-of-type {\n",
       "        vertical-align: middle;\n",
       "    }\n",
       "\n",
       "    .dataframe tbody tr th {\n",
       "        vertical-align: top;\n",
       "    }\n",
       "\n",
       "    .dataframe thead th {\n",
       "        text-align: right;\n",
       "    }\n",
       "</style>\n",
       "<table border=\"1\" class=\"dataframe\">\n",
       "  <thead>\n",
       "    <tr style=\"text-align: right;\">\n",
       "      <th></th>\n",
       "      <th>age</th>\n",
       "      <th>workclass</th>\n",
       "      <th>education</th>\n",
       "      <th>educationNumber</th>\n",
       "      <th>maritalStatus</th>\n",
       "      <th>occupation</th>\n",
       "      <th>relationship</th>\n",
       "      <th>race</th>\n",
       "      <th>gender</th>\n",
       "      <th>hourPerWeek</th>\n",
       "      <th>nativeCountry</th>\n",
       "    </tr>\n",
       "  </thead>\n",
       "  <tbody>\n",
       "    <tr>\n",
       "      <th>0</th>\n",
       "      <td>40</td>\n",
       "      <td>Self-emp-not-inc</td>\n",
       "      <td>Masters</td>\n",
       "      <td>14</td>\n",
       "      <td>Married-civ-spouse</td>\n",
       "      <td>Exec-managerial</td>\n",
       "      <td>Not-in-family</td>\n",
       "      <td>3</td>\n",
       "      <td>male</td>\n",
       "      <td>38</td>\n",
       "      <td>Jamaica</td>\n",
       "    </tr>\n",
       "    <tr>\n",
       "      <th>0</th>\n",
       "      <td>39</td>\n",
       "      <td>State-gov</td>\n",
       "      <td>Bachelors</td>\n",
       "      <td>13</td>\n",
       "      <td>Never-married</td>\n",
       "      <td>Adm-clerical</td>\n",
       "      <td>Not-in-family</td>\n",
       "      <td>4</td>\n",
       "      <td>Male</td>\n",
       "      <td>40</td>\n",
       "      <td>United-States</td>\n",
       "    </tr>\n",
       "    <tr>\n",
       "      <th>1</th>\n",
       "      <td>50</td>\n",
       "      <td>Self-emp-not-inc</td>\n",
       "      <td>Bachelors</td>\n",
       "      <td>13</td>\n",
       "      <td>Married-civ-spouse</td>\n",
       "      <td>Exec-managerial</td>\n",
       "      <td>Husband</td>\n",
       "      <td>4</td>\n",
       "      <td>Male</td>\n",
       "      <td>13</td>\n",
       "      <td>United-States</td>\n",
       "    </tr>\n",
       "    <tr>\n",
       "      <th>2</th>\n",
       "      <td>38</td>\n",
       "      <td>Private</td>\n",
       "      <td>HS-grad</td>\n",
       "      <td>9</td>\n",
       "      <td>Divorced</td>\n",
       "      <td>Handlers-cleaners</td>\n",
       "      <td>Not-in-family</td>\n",
       "      <td>4</td>\n",
       "      <td>Male</td>\n",
       "      <td>40</td>\n",
       "      <td>United-States</td>\n",
       "    </tr>\n",
       "    <tr>\n",
       "      <th>3</th>\n",
       "      <td>53</td>\n",
       "      <td>Private</td>\n",
       "      <td>11th</td>\n",
       "      <td>7</td>\n",
       "      <td>Married-civ-spouse</td>\n",
       "      <td>Handlers-cleaners</td>\n",
       "      <td>Husband</td>\n",
       "      <td>3</td>\n",
       "      <td>Male</td>\n",
       "      <td>40</td>\n",
       "      <td>United-States</td>\n",
       "    </tr>\n",
       "  </tbody>\n",
       "</table>\n",
       "</div>"
      ],
      "text/plain": [
       "   age          workclass   education  educationNumber        maritalStatus  \\\n",
       "0   40   Self-emp-not-inc     Masters               14   Married-civ-spouse   \n",
       "0   39          State-gov   Bachelors               13        Never-married   \n",
       "1   50   Self-emp-not-inc   Bachelors               13   Married-civ-spouse   \n",
       "2   38            Private     HS-grad                9             Divorced   \n",
       "3   53            Private        11th                7   Married-civ-spouse   \n",
       "\n",
       "           occupation    relationship  race gender  hourPerWeek  \\\n",
       "0     Exec-managerial   Not-in-family     3   male           38   \n",
       "0        Adm-clerical   Not-in-family     4   Male           40   \n",
       "1     Exec-managerial         Husband     4   Male           13   \n",
       "2   Handlers-cleaners   Not-in-family     4   Male           40   \n",
       "3   Handlers-cleaners         Husband     3   Male           40   \n",
       "\n",
       "    nativeCountry  \n",
       "0         Jamaica  \n",
       "0   United-States  \n",
       "1   United-States  \n",
       "2   United-States  \n",
       "3   United-States  "
      ]
     },
     "execution_count": 6,
     "metadata": {},
     "output_type": "execute_result"
    }
   ],
   "source": [
    "df_appended = new_df_X.append(df_X)\n",
    "print('df_appended.shape:', df_appended.shape)\n",
    "df_appended.head()"
   ]
  },
  {
   "cell_type": "code",
   "execution_count": 7,
   "id": "89aea3df",
   "metadata": {},
   "outputs": [
    {
     "name": "stdout",
     "output_type": "stream",
     "text": [
      "<class 'pandas.core.frame.DataFrame'>\n",
      "Int64Index: 32562 entries, 0 to 32560\n",
      "Data columns (total 11 columns):\n",
      " #   Column           Non-Null Count  Dtype \n",
      "---  ------           --------------  ----- \n",
      " 0   age              32562 non-null  int64 \n",
      " 1   workclass        32562 non-null  object\n",
      " 2   education        32562 non-null  object\n",
      " 3   educationNumber  32562 non-null  int64 \n",
      " 4   maritalStatus    32562 non-null  object\n",
      " 5   occupation       32562 non-null  object\n",
      " 6   relationship     32562 non-null  object\n",
      " 7   race             32562 non-null  int64 \n",
      " 8   gender           32562 non-null  object\n",
      " 9   hourPerWeek      32562 non-null  int64 \n",
      " 10  nativeCountry    32562 non-null  object\n",
      "dtypes: int64(4), object(7)\n",
      "memory usage: 3.0+ MB\n"
     ]
    }
   ],
   "source": [
    "df_appended.info()"
   ]
  },
  {
   "cell_type": "code",
   "execution_count": 8,
   "id": "480a59a2",
   "metadata": {},
   "outputs": [
    {
     "name": "stdout",
     "output_type": "stream",
     "text": [
      "(32562, 4)\n",
      "(32562, 7)\n"
     ]
    }
   ],
   "source": [
    "X_num = df_appended.select_dtypes(include=['int64'])\n",
    "X_cat = df_appended.select_dtypes(include=['object'])\n",
    "print(X_num.shape)\n",
    "print(X_cat.shape)"
   ]
  },
  {
   "cell_type": "code",
   "execution_count": 9,
   "id": "e83c04ed",
   "metadata": {},
   "outputs": [
    {
     "name": "stdout",
     "output_type": "stream",
     "text": [
      "(32562, 4)\n",
      "[0.31506849 0.86666667 0.5        0.37755102]\n"
     ]
    }
   ],
   "source": [
    "import pickle\n",
    "\n",
    "save_path = '/Users/jsha/gjai/nlp/pytest/14_연습문제/'\n",
    "model_name = '14_추천모델.h5'\n",
    "mms_name = 'minmaxscaler.pickle'\n",
    "\n",
    "with open(save_path+mms_name, 'rb') as handle:\n",
    "    scaler = pickle.load(handle)\n",
    "    \n",
    "X_scaled = scaler.transform(X_num)\n",
    "print(X_scaled.shape)\n",
    "print(X_scaled[0])"
   ]
  },
  {
   "cell_type": "code",
   "execution_count": 10,
   "id": "777f99c9",
   "metadata": {},
   "outputs": [
    {
     "name": "stdout",
     "output_type": "stream",
     "text": [
      "(32562, 104)\n",
      "(32561, 97)\n"
     ]
    }
   ],
   "source": [
    "X_hot = pd.get_dummies(X_cat)\n",
    "print(X_hot.shape)\n",
    "\n",
    "original_X_hot = pd.get_dummies(df_X.select_dtypes(include=['object']))\n",
    "print(original_X_hot.shape)"
   ]
  },
  {
   "cell_type": "code",
   "execution_count": 11,
   "id": "26879d07",
   "metadata": {},
   "outputs": [
    {
     "name": "stdout",
     "output_type": "stream",
     "text": [
      "97\n"
     ]
    },
    {
     "data": {
      "text/plain": [
       "(32562, 97)"
      ]
     },
     "execution_count": 11,
     "metadata": {},
     "output_type": "execute_result"
    }
   ],
   "source": [
    "from collections import Counter\n",
    "\n",
    "new = set(X_hot.columns)\n",
    "original = set(original_X_hot.columns)\n",
    "col_list = new & original\n",
    "print(len(col_list))\n",
    "X_hot = X_hot.loc[:, col_list]\n",
    "X_hot.shape"
   ]
  },
  {
   "cell_type": "code",
   "execution_count": 12,
   "id": "aca1bdca",
   "metadata": {},
   "outputs": [
    {
     "name": "stdout",
     "output_type": "stream",
     "text": [
      "(32562, 101)\n"
     ]
    }
   ],
   "source": [
    "X_final = pd.concat([pd.DataFrame(X_scaled).reset_index(drop=True), X_hot.reset_index(drop=True)], axis=1)\n",
    "print(X_final.shape)"
   ]
  },
  {
   "cell_type": "code",
   "execution_count": 13,
   "id": "fa92f8fd",
   "metadata": {},
   "outputs": [
    {
     "data": {
      "text/plain": [
       "(1, 101)"
      ]
     },
     "execution_count": 13,
     "metadata": {},
     "output_type": "execute_result"
    }
   ],
   "source": [
    "X_only_new = X_final.iloc[:len(new_df_X), ]\n",
    "X_only_new.shape"
   ]
  },
  {
   "cell_type": "code",
   "execution_count": 14,
   "id": "3e21fbf6",
   "metadata": {
    "scrolled": true
   },
   "outputs": [
    {
     "name": "stderr",
     "output_type": "stream",
     "text": [
      "Using TensorFlow backend.\n"
     ]
    },
    {
     "name": "stdout",
     "output_type": "stream",
     "text": [
      "Result: [[0.664339]]\n"
     ]
    }
   ],
   "source": [
    "from keras.models import load_model\n",
    "\n",
    "loaded_model = load_model(save_path+model_name)\n",
    "\n",
    "predictions = loaded_model.predict(X_only_new)\n",
    "print('Result:', predictions)"
   ]
  },
  {
   "cell_type": "code",
   "execution_count": 15,
   "id": "c1f11fb7",
   "metadata": {},
   "outputs": [
    {
     "name": "stdout",
     "output_type": "stream",
     "text": [
      "['above 50K']\n"
     ]
    }
   ],
   "source": [
    "result = []\n",
    "for i, prediction in enumerate(predictions):\n",
    "    if prediction > 0.1: \n",
    "        result.append(\"above 50K\") \n",
    "    else:\n",
    "        result.append(\"below 50K\")\n",
    "print(result)"
   ]
  }
 ],
 "metadata": {
  "kernelspec": {
   "display_name": "nlp3710",
   "language": "python",
   "name": "nlp3710"
  },
  "language_info": {
   "codemirror_mode": {
    "name": "ipython",
    "version": 3
   },
   "file_extension": ".py",
   "mimetype": "text/x-python",
   "name": "python",
   "nbconvert_exporter": "python",
   "pygments_lexer": "ipython3",
   "version": "3.7.10"
  },
  "toc": {
   "base_numbering": 1,
   "nav_menu": {},
   "number_sections": true,
   "sideBar": true,
   "skip_h1_title": false,
   "title_cell": "Table of Contents",
   "title_sidebar": "Contents",
   "toc_cell": false,
   "toc_position": {},
   "toc_section_display": true,
   "toc_window_display": false
  }
 },
 "nbformat": 4,
 "nbformat_minor": 5
}
