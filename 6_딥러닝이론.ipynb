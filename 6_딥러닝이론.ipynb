{
 "cells": [
  {
   "cell_type": "markdown",
   "id": "ab066449",
   "metadata": {},
   "source": [
    "# Perceptron"
   ]
  },
  {
   "cell_type": "markdown",
   "id": "cc42c5bc",
   "metadata": {},
   "source": [
    "## Perceptron으로 AND 게이트 구현하기"
   ]
  },
  {
   "cell_type": "code",
   "execution_count": 9,
   "id": "2d0adc8c",
   "metadata": {},
   "outputs": [
    {
     "data": {
      "text/plain": [
       "0"
      ]
     },
     "execution_count": 9,
     "metadata": {},
     "output_type": "execute_result"
    }
   ],
   "source": [
    "import numpy as np\n",
    "\n",
    "def percept(x, w, b):\n",
    "    y = np.sum(x*w) + b\n",
    "    \n",
    "    if y <= 0:\n",
    "        return 0\n",
    "    else:\n",
    "        return 1\n",
    "\n",
    "def AND(x1, x2):\n",
    "    x = np.array([x1, x2])\n",
    "    w = np.array([0.5, 0.5])\n",
    "    b = -0.7\n",
    "    \n",
    "    return percept(x, w, b)\n",
    "\n",
    "AND(0,0)\n",
    "AND(0,1)\n",
    "AND(1,0)\n",
    "AND(1,1)"
   ]
  },
  {
   "cell_type": "code",
   "execution_count": 19,
   "id": "79c43010",
   "metadata": {},
   "outputs": [
    {
     "data": {
      "text/plain": [
       "0"
      ]
     },
     "execution_count": 19,
     "metadata": {},
     "output_type": "execute_result"
    }
   ],
   "source": [
    "def NAND(x1, x2):\n",
    "    x = np.array([x1, x2])\n",
    "    w = np.array([-0.5, -0.5])\n",
    "    b = 0.7\n",
    "    \n",
    "    return percept(x, w, b)\n",
    "\n",
    "NAND(0, 0)\n",
    "NAND(1, 0)\n",
    "NAND(0, 1)\n",
    "NAND(1, 1)"
   ]
  },
  {
   "cell_type": "code",
   "execution_count": 27,
   "id": "e97864da",
   "metadata": {},
   "outputs": [
    {
     "data": {
      "text/plain": [
       "1"
      ]
     },
     "execution_count": 27,
     "metadata": {},
     "output_type": "execute_result"
    }
   ],
   "source": [
    "def OR(x1, x2):\n",
    "    x = np.array([x1, x2])\n",
    "    w = np.array([0.5, 0.5])\n",
    "    b = -0.3\n",
    "    \n",
    "    return percept(x, w, b)\n",
    "\n",
    "OR(0, 0)\n",
    "OR(1, 0)\n",
    "OR(0, 1)\n",
    "OR(1, 1)"
   ]
  },
  {
   "cell_type": "code",
   "execution_count": 23,
   "id": "04330d81",
   "metadata": {},
   "outputs": [
    {
     "data": {
      "text/plain": [
       "0"
      ]
     },
     "execution_count": 23,
     "metadata": {},
     "output_type": "execute_result"
    }
   ],
   "source": [
    "def NOR(x1, x2):\n",
    "    x = np.array([x1, x2])\n",
    "    w = np.array([-0.5, -0.5])\n",
    "    b = 0.3\n",
    "    \n",
    "    return percept(x, w, b)\n",
    "\n",
    "XOR(0, 0)\n",
    "XOR(1, 0)\n",
    "XOR(0, 1)\n",
    "XOR(1, 1)"
   ]
  },
  {
   "cell_type": "code",
   "execution_count": 31,
   "id": "27b215ad",
   "metadata": {},
   "outputs": [
    {
     "data": {
      "text/plain": [
       "0"
      ]
     },
     "execution_count": 31,
     "metadata": {},
     "output_type": "execute_result"
    }
   ],
   "source": [
    "# 비선형(곡선)으로도 선을 그을 수 있다는 것을 입증함.\n",
    "def XOR(x1, x2):\n",
    "    # hidden 층\n",
    "    hidden1_1 = NAND(x1, x2)\n",
    "    hidden1_2 = OR(x1, x2)\n",
    "    \n",
    "    return AND(hidden1_1, hidden1_2)\n",
    "\n",
    "XOR(0, 0)\n",
    "XOR(1, 0)\n",
    "XOR(0, 1)\n",
    "XOR(1, 1)"
   ]
  },
  {
   "cell_type": "markdown",
   "id": "eb69b901",
   "metadata": {},
   "source": [
    "## 확인문제\n",
    "- Multi-Layer-Perceptron(MLP)\n",
    "- 층을 하나 더 쌓는다는 말은 무슨 말일까?\n",
    "\n",
    "- gate 연산을 한번 더 수행한다는 의미. 단일층으로는 해결할 수 없는 문제가 있음.\n",
    "- 더 복잡한 계산을 수행하지만 특정 목적의 결과를 내기 위해 필요함.\n",
    "- 비선형적 표현이 가능하다. 선형적 표현은 perceptron하나로 해결 가능.\n",
    "- XOR의 예시.\n",
    "- 각 층의 gate 연산의 결과는 무엇을 의미하는가? 데이터의 특징?"
   ]
  },
  {
   "cell_type": "code",
   "execution_count": null,
   "id": "9a470317",
   "metadata": {},
   "outputs": [],
   "source": []
  }
 ],
 "metadata": {
  "kernelspec": {
   "display_name": "nlp3710",
   "language": "python",
   "name": "nlp3710"
  },
  "language_info": {
   "codemirror_mode": {
    "name": "ipython",
    "version": 3
   },
   "file_extension": ".py",
   "mimetype": "text/x-python",
   "name": "python",
   "nbconvert_exporter": "python",
   "pygments_lexer": "ipython3",
   "version": "3.7.10"
  },
  "toc": {
   "base_numbering": 1,
   "nav_menu": {},
   "number_sections": true,
   "sideBar": true,
   "skip_h1_title": false,
   "title_cell": "Table of Contents",
   "title_sidebar": "Contents",
   "toc_cell": false,
   "toc_position": {},
   "toc_section_display": true,
   "toc_window_display": false
  }
 },
 "nbformat": 4,
 "nbformat_minor": 5
}
