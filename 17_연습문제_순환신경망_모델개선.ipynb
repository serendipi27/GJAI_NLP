{
 "cells": [
  {
   "cell_type": "markdown",
   "id": "6c8fffbb",
   "metadata": {},
   "source": [
    "# 연습문제\n",
    "1. 워드임베딩 + 순환신경망 + 규제설정L2\n",
    "4. 워드 임베딩 + 순환신경망 + Dropout\n",
    "5. 워드 임베딩 + Dropout \n",
    "6. 워드 임베딩 + 양방향 순환신경망"
   ]
  },
  {
   "cell_type": "code",
   "execution_count": 1,
   "id": "d2adc0bb",
   "metadata": {},
   "outputs": [
    {
     "name": "stdout",
     "output_type": "stream",
     "text": [
      "making done /Users/jsha/gjai/nlp/pytest/17_practice/\n"
     ]
    }
   ],
   "source": [
    "import pandas as pd\n",
    "from matplotlib import rc\n",
    "import os\n",
    "\n",
    "rc('font', family='AppleGothic')\n",
    "\n",
    "path = '/Users/jsha/gjai/nlp/pytest/'\n",
    "working_path = path + '17_practice/'\n",
    "if not os.path.exists(working_path):\n",
    "    os.mkdir(working_path)\n",
    "    print(f'making done {working_path}')\n",
    "os.chdir(working_path)"
   ]
  },
  {
   "cell_type": "markdown",
   "id": "7bac23ba",
   "metadata": {},
   "source": [
    "# 워드임베딩 + 순환신경망 + L2"
   ]
  },
  {
   "cell_type": "markdown",
   "id": "842ac573",
   "metadata": {},
   "source": [
    "## 분류1"
   ]
  },
  {
   "cell_type": "code",
   "execution_count": 306,
   "id": "7083b30e",
   "metadata": {},
   "outputs": [],
   "source": [
    "import pandas as pd\n",
    "from matplotlib import rc\n",
    "\n",
    "rc('font', family='AppleGothic')\n",
    "\n",
    "data_path = '/Users/jsha/gjai/nlp/pytest/16_practice/'\n",
    "filename1 = '분류1_뉴스데이터_morphed_train.csv'\n",
    "filename2 = '분류1_뉴스데이터_morphed_test.csv'\n",
    "\n",
    "train_df = pd.read_csv(data_path+filename1)\n",
    "test_df = pd.read_csv(data_path+filename2)"
   ]
  },
  {
   "cell_type": "code",
   "execution_count": 307,
   "id": "4c37a47e",
   "metadata": {},
   "outputs": [
    {
     "data": {
      "text/html": [
       "<div>\n",
       "<style scoped>\n",
       "    .dataframe tbody tr th:only-of-type {\n",
       "        vertical-align: middle;\n",
       "    }\n",
       "\n",
       "    .dataframe tbody tr th {\n",
       "        vertical-align: top;\n",
       "    }\n",
       "\n",
       "    .dataframe thead th {\n",
       "        text-align: right;\n",
       "    }\n",
       "</style>\n",
       "<table border=\"1\" class=\"dataframe\">\n",
       "  <thead>\n",
       "    <tr style=\"text-align: right;\">\n",
       "      <th></th>\n",
       "      <th>id</th>\n",
       "      <th>날짜</th>\n",
       "      <th>분류1</th>\n",
       "      <th>텍스트</th>\n",
       "      <th>분류1_상위</th>\n",
       "      <th>morphed</th>\n",
       "    </tr>\n",
       "  </thead>\n",
       "  <tbody>\n",
       "    <tr>\n",
       "      <th>0</th>\n",
       "      <td>1319794</td>\n",
       "      <td>20190412</td>\n",
       "      <td>국제,중동_아프리카</td>\n",
       "      <td>이들은 성경이 난민에 대해 어떻게 말하고 있으며, 현 상황과 관련해 난민에 대한 정...</td>\n",
       "      <td>국제</td>\n",
       "      <td>성경 난민 대하 어떻하 말 있 현 상황과 관련 난민 대하 정확 하 팩트 밝히</td>\n",
       "    </tr>\n",
       "    <tr>\n",
       "      <th>1</th>\n",
       "      <td>1410943</td>\n",
       "      <td>20190503</td>\n",
       "      <td>지역,충북</td>\n",
       "      <td>충북 충주시는 3일 충주시청 중앙탑회의실에서 제47회 어버이날 유공자 시상식을 열고...</td>\n",
       "      <td>지역</td>\n",
       "      <td>충북 충주시 충주시 청 중앙 탑 회의실 어버이날 유공자 시상식 열 심영섭 효행 장한...</td>\n",
       "    </tr>\n",
       "    <tr>\n",
       "      <th>2</th>\n",
       "      <td>972814</td>\n",
       "      <td>20190122</td>\n",
       "      <td>스포츠,축구,국가대표팀</td>\n",
       "      <td>아시안게임이 U-23 대표팀 경기로 A 대표팀과는 객관적 지표에서 차이가 있지만, ...</td>\n",
       "      <td>스포츠</td>\n",
       "      <td>아시안게임 대표 팀 경기 대표 팀 객관적 지표 차이 있 그때 기억 황의 조의 자신감...</td>\n",
       "    </tr>\n",
       "    <tr>\n",
       "      <th>3</th>\n",
       "      <td>359452</td>\n",
       "      <td>20180828</td>\n",
       "      <td>IT_과학,콘텐츠</td>\n",
       "      <td>신기술전시회 280개 기업, 국제발명특허대전 160개 발명품, 국제컨퍼런스 40개 ...</td>\n",
       "      <td>IT_과학</td>\n",
       "      <td>신기술 전시회 기업 국제 발명 특허 대전 발명품 국제 컨퍼런스 세션 꾸미 명 관람객...</td>\n",
       "    </tr>\n",
       "    <tr>\n",
       "      <th>4</th>\n",
       "      <td>1338926</td>\n",
       "      <td>20190416</td>\n",
       "      <td>사회,장애인</td>\n",
       "      <td>아카데미에서는 장애인복지시설, 발달장애인훈련센터 등 학령기 장애인 대상으로의 진로직...</td>\n",
       "      <td>사회</td>\n",
       "      <td>아카데미 장애인 복지 시설 발달 장애 훈련 센터 학령기 장애인 대상 진로 직업 체험...</td>\n",
       "    </tr>\n",
       "  </tbody>\n",
       "</table>\n",
       "</div>"
      ],
      "text/plain": [
       "        id        날짜           분류1  \\\n",
       "0  1319794  20190412    국제,중동_아프리카   \n",
       "1  1410943  20190503         지역,충북   \n",
       "2   972814  20190122  스포츠,축구,국가대표팀   \n",
       "3   359452  20180828     IT_과학,콘텐츠   \n",
       "4  1338926  20190416        사회,장애인   \n",
       "\n",
       "                                                 텍스트 분류1_상위  \\\n",
       "0  이들은 성경이 난민에 대해 어떻게 말하고 있으며, 현 상황과 관련해 난민에 대한 정...     국제   \n",
       "1  충북 충주시는 3일 충주시청 중앙탑회의실에서 제47회 어버이날 유공자 시상식을 열고...     지역   \n",
       "2  아시안게임이 U-23 대표팀 경기로 A 대표팀과는 객관적 지표에서 차이가 있지만, ...    스포츠   \n",
       "3  신기술전시회 280개 기업, 국제발명특허대전 160개 발명품, 국제컨퍼런스 40개 ...  IT_과학   \n",
       "4  아카데미에서는 장애인복지시설, 발달장애인훈련센터 등 학령기 장애인 대상으로의 진로직...     사회   \n",
       "\n",
       "                                             morphed  \n",
       "0         성경 난민 대하 어떻하 말 있 현 상황과 관련 난민 대하 정확 하 팩트 밝히  \n",
       "1  충북 충주시 충주시 청 중앙 탑 회의실 어버이날 유공자 시상식 열 심영섭 효행 장한...  \n",
       "2  아시안게임 대표 팀 경기 대표 팀 객관적 지표 차이 있 그때 기억 황의 조의 자신감...  \n",
       "3  신기술 전시회 기업 국제 발명 특허 대전 발명품 국제 컨퍼런스 세션 꾸미 명 관람객...  \n",
       "4  아카데미 장애인 복지 시설 발달 장애 훈련 센터 학령기 장애인 대상 진로 직업 체험...  "
      ]
     },
     "execution_count": 307,
     "metadata": {},
     "output_type": "execute_result"
    }
   ],
   "source": [
    "# train_df.head()\n",
    "# train_df['morphed'] = morphed_data\n",
    "train_df.head()"
   ]
  },
  {
   "cell_type": "code",
   "execution_count": 308,
   "id": "cf31bddc",
   "metadata": {},
   "outputs": [
    {
     "data": {
      "text/html": [
       "<div>\n",
       "<style scoped>\n",
       "    .dataframe tbody tr th:only-of-type {\n",
       "        vertical-align: middle;\n",
       "    }\n",
       "\n",
       "    .dataframe tbody tr th {\n",
       "        vertical-align: top;\n",
       "    }\n",
       "\n",
       "    .dataframe thead th {\n",
       "        text-align: right;\n",
       "    }\n",
       "</style>\n",
       "<table border=\"1\" class=\"dataframe\">\n",
       "  <thead>\n",
       "    <tr style=\"text-align: right;\">\n",
       "      <th></th>\n",
       "      <th>id</th>\n",
       "      <th>날짜</th>\n",
       "      <th>분류1</th>\n",
       "      <th>텍스트</th>\n",
       "      <th>분류1_상위</th>\n",
       "      <th>morphed</th>\n",
       "    </tr>\n",
       "  </thead>\n",
       "  <tbody>\n",
       "    <tr>\n",
       "      <th>0</th>\n",
       "      <td>268980</td>\n",
       "      <td>20180806</td>\n",
       "      <td>경제,증권_증시</td>\n",
       "      <td>이런 가격 조작 행위는 지난해 말 ‘코인 열풍’이 불 때부터 폭발적으로 늘어났다는 ...</td>\n",
       "      <td>경제</td>\n",
       "      <td>이런 가격 조작 행위 지난해 말 코인 열풍 불 때 폭발적 늘어나 설명</td>\n",
       "    </tr>\n",
       "    <tr>\n",
       "      <th>1</th>\n",
       "      <td>260551</td>\n",
       "      <td>20180803</td>\n",
       "      <td>국제,러시아</td>\n",
       "      <td>한 정보 소식통에 따르면 이 여성은 지난해 중순쯤 국무부로부터 비밀정보 사용 인가를...</td>\n",
       "      <td>국제</td>\n",
       "      <td>하 정보 소식통 따르 이 여성 지난해 중순쯤 국무부 비밀 정보 사용 인가 취소 당하...</td>\n",
       "    </tr>\n",
       "    <tr>\n",
       "      <th>2</th>\n",
       "      <td>390392</td>\n",
       "      <td>20180903</td>\n",
       "      <td>국제,아시아</td>\n",
       "      <td>시진핑(習近平) 중국 국가주석은 오는 11월 파푸아뉴기니에서 열리는 아시아·태평양경...</td>\n",
       "      <td>국제</td>\n",
       "      <td>시진 핑 중국 국가주석 오 파푸아뉴기니 열리 아시아 태평양 경제 협력체 정상 회의 ...</td>\n",
       "    </tr>\n",
       "    <tr>\n",
       "      <th>3</th>\n",
       "      <td>215899</td>\n",
       "      <td>20180723</td>\n",
       "      <td>경제,무역</td>\n",
       "      <td>이번 세이프가드는 최근 3년간 평균 수입물량으로 쿼터를 산정 후 쿼터 초과 수입물량...</td>\n",
       "      <td>경제</td>\n",
       "      <td>이번 세이프가드 최근 평균 수입 물량 쿼터 산정 후 쿼터 초과 수입 물량 대하 관세...</td>\n",
       "    </tr>\n",
       "    <tr>\n",
       "      <th>4</th>\n",
       "      <td>380078</td>\n",
       "      <td>20180902</td>\n",
       "      <td>스포츠,축구,국가대표팀</td>\n",
       "      <td>손흥민과 이승우, 황의조와 황희찬 등 해외에서 활약하는 선수들은 더 이상 병역 문제...</td>\n",
       "      <td>스포츠</td>\n",
       "      <td>손 흥 민 이승우 황의 황희찬 해외 활약 선수 더 이상 병역 문제 발목 잡히 국내 ...</td>\n",
       "    </tr>\n",
       "  </tbody>\n",
       "</table>\n",
       "</div>"
      ],
      "text/plain": [
       "       id        날짜           분류1  \\\n",
       "0  268980  20180806      경제,증권_증시   \n",
       "1  260551  20180803        국제,러시아   \n",
       "2  390392  20180903        국제,아시아   \n",
       "3  215899  20180723         경제,무역   \n",
       "4  380078  20180902  스포츠,축구,국가대표팀   \n",
       "\n",
       "                                                 텍스트 분류1_상위  \\\n",
       "0  이런 가격 조작 행위는 지난해 말 ‘코인 열풍’이 불 때부터 폭발적으로 늘어났다는 ...     경제   \n",
       "1  한 정보 소식통에 따르면 이 여성은 지난해 중순쯤 국무부로부터 비밀정보 사용 인가를...     국제   \n",
       "2  시진핑(習近平) 중국 국가주석은 오는 11월 파푸아뉴기니에서 열리는 아시아·태평양경...     국제   \n",
       "3  이번 세이프가드는 최근 3년간 평균 수입물량으로 쿼터를 산정 후 쿼터 초과 수입물량...     경제   \n",
       "4  손흥민과 이승우, 황의조와 황희찬 등 해외에서 활약하는 선수들은 더 이상 병역 문제...    스포츠   \n",
       "\n",
       "                                             morphed  \n",
       "0             이런 가격 조작 행위 지난해 말 코인 열풍 불 때 폭발적 늘어나 설명  \n",
       "1  하 정보 소식통 따르 이 여성 지난해 중순쯤 국무부 비밀 정보 사용 인가 취소 당하...  \n",
       "2  시진 핑 중국 국가주석 오 파푸아뉴기니 열리 아시아 태평양 경제 협력체 정상 회의 ...  \n",
       "3  이번 세이프가드 최근 평균 수입 물량 쿼터 산정 후 쿼터 초과 수입 물량 대하 관세...  \n",
       "4  손 흥 민 이승우 황의 황희찬 해외 활약 선수 더 이상 병역 문제 발목 잡히 국내 ...  "
      ]
     },
     "execution_count": 308,
     "metadata": {},
     "output_type": "execute_result"
    }
   ],
   "source": [
    "test_df.head()"
   ]
  },
  {
   "cell_type": "code",
   "execution_count": 309,
   "id": "a31761f5",
   "metadata": {},
   "outputs": [
    {
     "name": "stdout",
     "output_type": "stream",
     "text": [
      "['국제', '지역', '스포츠']\n",
      "['성경 난민 대하 어떻하 말 있 현 상황과 관련 난민 대하 정확 하 팩트 밝히', '충북 충주시 충주시 청 중앙 탑 회의실 어버이날 유공자 시상식 열 심영섭 효행 장한 어버이 표창장 수여', '아시안게임 대표 팀 경기 대표 팀 객관적 지표 차이 있 그때 기억 황의 조의 자신감 불태우 충분']\n",
      "--------------------------------------------------\n",
      "['경제', '국제', '국제']\n",
      "['이런 가격 조작 행위 지난해 말 코인 열풍 불 때 폭발적 늘어나 설명', '하 정보 소식통 따르 이 여성 지난해 중순쯤 국무부 비밀 정보 사용 인가 취소 당하 직후 해고 되', '시진 핑 중국 국가주석 오 파푸아뉴기니 열리 아시아 태평양 경제 협력체 정상 회의 전후 태평 도서 국 정상 회담 알리']\n"
     ]
    }
   ],
   "source": [
    "from sklearn.model_selection import train_test_split\n",
    "\n",
    "data_text = train_df.loc[:,'morphed'].to_list()\n",
    "data_label = train_df.loc[:,'분류1_상위'].to_list()\n",
    "print(data_label[:3])\n",
    "print(data_text[:3])\n",
    "\n",
    "print('-'*50)\n",
    "\n",
    "data_text_test = test_df.loc[:,'morphed'].to_list()\n",
    "data_label_test = test_df.loc[:,'분류1_상위'].to_list()\n",
    "print(data_label_test[:3])\n",
    "print(data_text_test[:3])\n",
    "\n",
    "train_data_text = data_text\n",
    "train_data_label = data_label\n",
    "test_data_text = data_text_test\n",
    "test_data_label = data_label_test\n",
    "# train_data_text, test_data_text, train_data_label, test_data_label = \\\n",
    "# train_test_split(data_text, data_label, stratify=data_label, \n",
    "#                  test_size=0.3, random_state=1111)"
   ]
  },
  {
   "cell_type": "code",
   "execution_count": 310,
   "id": "f27da9a0",
   "metadata": {},
   "outputs": [
    {
     "name": "stdout",
     "output_type": "stream",
     "text": [
      "6792\n",
      "2265\n"
     ]
    }
   ],
   "source": [
    "print(len(train_data_text))\n",
    "print(len(test_data_text))"
   ]
  },
  {
   "cell_type": "code",
   "execution_count": 311,
   "id": "3788b358",
   "metadata": {},
   "outputs": [
    {
     "name": "stdout",
     "output_type": "stream",
     "text": [
      "train_data_label_freq: Counter({'지역': 2151, '스포츠': 1725, '경제': 945, '국제': 733, '사회': 639, 'IT_과학': 491, '문화': 98, '미분류': 9, '정치': 1})\n",
      "test_data_label_freq: Counter({'지역': 722, '스포츠': 540, '경제': 329, '국제': 219, '사회': 213, 'IT_과학': 203, '문화': 30, '미분류': 9})\n"
     ]
    }
   ],
   "source": [
    "from collections import Counter\n",
    "train_data_label_freq = Counter(train_data_label)\n",
    "print('train_data_label_freq:', train_data_label_freq)\n",
    "\n",
    "test_data_label_freq = Counter(test_data_label)\n",
    "print('test_data_label_freq:', test_data_label_freq)\n"
   ]
  },
  {
   "cell_type": "code",
   "execution_count": 312,
   "id": "1a40003f",
   "metadata": {},
   "outputs": [
    {
     "name": "stdout",
     "output_type": "stream",
     "text": [
      "최소길이: 4\n",
      "최대길이: 54\n",
      "평균길이: 19.5\n",
      "중위수길이: 19.0\n",
      "percentile  : [0, 25, 50, 75, 90, 99, 100]\n",
      "구간별 최대 길이: [ 4. 16. 19. 22. 27. 35. 54.]\n",
      "최소길이 문장: 투입 예산 내년 총\n",
      "최대길이 문장: 주요 신규 사업 삼사해상공원 해 파랑 공원 파도 걷기 보행 조성 새 뜰 사업 축산 블루 시티 조성 사업 예 주 고을 역사 문화 공원 조성 사업 오십천 그린 로드 조성 영덕 도서관 건립 사업 영덕 애니메이션 테마파크 조성 사업 영덕 하 양교 션 강구면 화전 우수 저류 시설 설치 아름답 소하천 꾸 사업\n"
     ]
    }
   ],
   "source": [
    "import numpy as np\n",
    "\n",
    "text_len = [len(line.split(' ')) for line in train_data_text]\n",
    "print('최소길이:', np.min(text_len))\n",
    "print('최대길이:', np.max(text_len))\n",
    "print('평균길이:', np.round(np.mean(text_len),1))\n",
    "print('중위수길이:', np.median(text_len))\n",
    "print('percentile  : [0, 25, 50, 75, 90, 99, 100]')\n",
    "print('구간별 최대 길이:', np.percentile(text_len, [0, 25, 50, 75, 90, 99, 100]))\n",
    "print('최소길이 문장:', train_data_text[np.argmin(text_len)])\n",
    "print('최대길이 문장:', train_data_text[np.argmax(text_len)])"
   ]
  },
  {
   "cell_type": "code",
   "execution_count": 313,
   "id": "7f42c405",
   "metadata": {},
   "outputs": [],
   "source": [
    "from keras.preprocessing.text import Tokenizer\n",
    "from keras.preprocessing.sequence import pad_sequences\n",
    "import numpy as np\n",
    "import math \n",
    "\n",
    "max_words = 10000\n",
    "maxlen = 40\n",
    "\n",
    "tokenizer = Tokenizer(num_words=max_words)\n",
    "tokenizer.fit_on_texts(train_data_text)\n",
    "word_index = tokenizer.word_index"
   ]
  },
  {
   "cell_type": "code",
   "execution_count": 314,
   "id": "3b59517f",
   "metadata": {},
   "outputs": [
    {
     "name": "stdout",
     "output_type": "stream",
     "text": [
      "wjscpdptj 18050개의 고유한 토큰을 찾았습니다\n",
      "word_index type: <class 'dict'>\n"
     ]
    }
   ],
   "source": [
    "print('wjscpdptj %s개의 고유한 토큰을 찾았습니다' % len(word_index))\n",
    "print('word_index type:', type(word_index))\n",
    "# print('word_index:', word_index)"
   ]
  },
  {
   "cell_type": "code",
   "execution_count": 315,
   "id": "45f8824d",
   "metadata": {},
   "outputs": [
    {
     "name": "stdout",
     "output_type": "stream",
     "text": [
      "최대 문장 길이: 49\n",
      "최소 문장 길이: 4\n"
     ]
    }
   ],
   "source": [
    "seq_data = tokenizer.texts_to_sequences(train_data_text)\n",
    "# print('data', data)\n",
    "\n",
    "len_d = [len(d) for d in seq_data]\n",
    "# print('길이:', len_d)\n",
    "print('최대 문장 길이:', max(len_d))\n",
    "print('최소 문장 길이:', min(len_d))"
   ]
  },
  {
   "cell_type": "code",
   "execution_count": 316,
   "id": "f43f94a5",
   "metadata": {},
   "outputs": [
    {
     "name": "stdout",
     "output_type": "stream",
     "text": [
      "data: [[   0    0    0 ...    1 7165   18]\n",
      " [   0    0    0 ... 7168 7169 2108]\n",
      " [   0    0    0 ... 3970 4700 1797]\n",
      " ...\n",
      " [   0    0    0 ... 9362 5861   18]\n",
      " [   0    0    0 ... 1042 1564   13]\n",
      " [   0    0    0 ... 9916 3268  362]]\n",
      "data 0: [   0    0    0    0    0    0    0    0    0    0    0    0    0    0\n",
      "    0    0    0    0    0    0    0    0    0    0    0 2300  677   10\n",
      " 2301  220    3  790 4698   76  677   10 1389    1 7165   18]\n",
      "data 0의 길이: 40\n"
     ]
    }
   ],
   "source": [
    "pad_data = pad_sequences(seq_data, maxlen=maxlen)\n",
    "\n",
    "print('data:', pad_data)\n",
    "print('data 0:', pad_data[0])\n",
    "print('data 0의 길이:', len(pad_data[0]))"
   ]
  },
  {
   "cell_type": "code",
   "execution_count": 317,
   "id": "d37569a4",
   "metadata": {},
   "outputs": [
    {
     "name": "stdout",
     "output_type": "stream",
     "text": [
      "train_data_text type: <class 'list'>\n",
      "data type: <class 'numpy.ndarray'>\n",
      "train_data_text 0: 성경 난민 대하 어떻하 말 있 현 상황과 관련 난민 대하 정확 하 팩트 밝히\n",
      "data 0: [   0    0    0    0    0    0    0    0    0    0    0    0    0    0\n",
      "    0    0    0    0    0    0    0    0    0    0    0 2300  677   10\n",
      " 2301  220    3  790 4698   76  677   10 1389    1 7165   18]\n"
     ]
    }
   ],
   "source": [
    "print('train_data_text type:', type(train_data_text))\n",
    "print('data type:', type(pad_data))\n",
    "print('train_data_text 0:', train_data_text[0])\n",
    "print('data 0:', pad_data[0])"
   ]
  },
  {
   "cell_type": "code",
   "execution_count": 318,
   "id": "a1e8c616",
   "metadata": {},
   "outputs": [],
   "source": [
    "def to_one_hot(sequences, dimension):\n",
    "    results = np.zeros((len(sequences), dimension))\n",
    "    for i, sequence in enumerate(sequences):\n",
    "        results[i, sequence] = 1.\n",
    "    return results\n",
    "\n",
    "# x_train = to_one_hot(pad_data, dimension=max_words)\n",
    "x_train = pad_data"
   ]
  },
  {
   "cell_type": "code",
   "execution_count": 319,
   "id": "90ebae9d",
   "metadata": {},
   "outputs": [],
   "source": [
    "# print('train_data_text type:', type(train_data_text))\n",
    "# print(len(train_data_text[0]))\n",
    "# print('texts 0:', train_data_text[0])\n",
    "\n",
    "# print('data type:', type(x_train))\n",
    "# print(len(x_train[0]))\n",
    "# print('x_train [0][0:100]:', x_train[0][:100])"
   ]
  },
  {
   "cell_type": "code",
   "execution_count": 320,
   "id": "31f15283",
   "metadata": {},
   "outputs": [
    {
     "name": "stdout",
     "output_type": "stream",
     "text": [
      "['IT_과학' '경제' '국제' '문화' '미분류' '사회' '스포츠' '정치' '지역']\n"
     ]
    }
   ],
   "source": [
    "from sklearn.preprocessing import LabelEncoder\n",
    "le = LabelEncoder()\n",
    "le.fit(train_data_label)\n",
    "print(le.classes_)\n",
    "train_data_label = le.transform(train_data_label)"
   ]
  },
  {
   "cell_type": "code",
   "execution_count": 321,
   "id": "5bb12e1f",
   "metadata": {},
   "outputs": [],
   "source": [
    "test_data_label = le.transform(test_data_label)"
   ]
  },
  {
   "cell_type": "code",
   "execution_count": 322,
   "id": "139ffcef",
   "metadata": {},
   "outputs": [
    {
     "name": "stdout",
     "output_type": "stream",
     "text": [
      "[[0. 0. 1. ... 0. 0. 0.]\n",
      " [0. 0. 0. ... 0. 0. 1.]\n",
      " [0. 0. 0. ... 1. 0. 0.]\n",
      " ...\n",
      " [0. 0. 0. ... 1. 0. 0.]\n",
      " [0. 1. 0. ... 0. 0. 0.]\n",
      " [0. 0. 0. ... 0. 0. 1.]]\n"
     ]
    }
   ],
   "source": [
    "class_number = len(le.classes_)\n",
    "y_train = to_one_hot(train_data_label, dimension=class_number)\n",
    "print(y_train)"
   ]
  },
  {
   "cell_type": "code",
   "execution_count": 323,
   "id": "7a7e1dfe",
   "metadata": {},
   "outputs": [
    {
     "name": "stdout",
     "output_type": "stream",
     "text": [
      "[[0. 1. 0. ... 0. 0. 0.]\n",
      " [0. 0. 1. ... 0. 0. 0.]\n",
      " [0. 0. 1. ... 0. 0. 0.]\n",
      " ...\n",
      " [0. 0. 1. ... 0. 0. 0.]\n",
      " [0. 1. 0. ... 0. 0. 0.]\n",
      " [0. 0. 1. ... 0. 0. 0.]]\n"
     ]
    }
   ],
   "source": [
    "data_test = tokenizer.texts_to_sequences(test_data_text)\n",
    "\n",
    "data_test = pad_sequences(data_test, maxlen=maxlen)\n",
    "\n",
    "x_test = data_test\n",
    "\n",
    "y_test = to_one_hot(test_data_label, dimension=class_number)\n",
    "print(y_test)"
   ]
  },
  {
   "cell_type": "code",
   "execution_count": 324,
   "id": "902faffb",
   "metadata": {},
   "outputs": [
    {
     "name": "stdout",
     "output_type": "stream",
     "text": [
      "훈련 데이터 본문 텐서의 크기: (6792, 40)\n",
      "훈련 데이터 레이블 텐서의 크기: (6792, 9)\n",
      "테스트 데이터 본문 텐서의 크기: (2265, 40)\n",
      "테스트 데이터 레이블 텐서의 크기: (2265, 9)\n"
     ]
    }
   ],
   "source": [
    "print('훈련 데이터 본문 텐서의 크기:', x_train.shape)\n",
    "print('훈련 데이터 레이블 텐서의 크기:', y_train.shape)\n",
    "\n",
    "print('테스트 데이터 본문 텐서의 크기:', x_test.shape)\n",
    "print('테스트 데이터 레이블 텐서의 크기:', y_test.shape)"
   ]
  },
  {
   "cell_type": "code",
   "execution_count": 325,
   "id": "9d5b0eac",
   "metadata": {},
   "outputs": [
    {
     "data": {
      "text/plain": [
       "(6792, 9)"
      ]
     },
     "execution_count": 325,
     "metadata": {},
     "output_type": "execute_result"
    }
   ],
   "source": [
    "y_train.shape"
   ]
  },
  {
   "cell_type": "code",
   "execution_count": 326,
   "id": "b986732a",
   "metadata": {},
   "outputs": [
    {
     "name": "stdout",
     "output_type": "stream",
     "text": [
      "/Users/jsha/gjai/nlp/pytest/17_practice\r\n"
     ]
    }
   ],
   "source": [
    "!pwd"
   ]
  },
  {
   "cell_type": "code",
   "execution_count": 327,
   "id": "4f8ba4a1",
   "metadata": {},
   "outputs": [],
   "source": [
    "import os\n",
    "\n",
    "class_number = y_train.shape[-1]\n",
    "epochs = 10\n",
    "batch_size = 50\n",
    "embedding_dim = 200\n",
    "model_name = '분류1_we_rnn_l2_model.h5'\n",
    "tokenizer_name = '분류1_we_rnn_l2_token.pickle'\n",
    "labelencode_name = '분류1_we_rnn_l2_le.pickle'\n",
    "\n",
    "# working_path = '/Users/jsha/gjai/nlp/pytest/15_working/'\n",
    "# save_path = working_path + 'practice/'\n",
    "# if not os.path.exists(save_path):\n",
    "#     os.mkdir(save_path)\n",
    "#     print(f'made {save_path} directory')\n",
    "# os.chdir(save_path)"
   ]
  },
  {
   "cell_type": "code",
   "execution_count": 29,
   "id": "c9f6b141",
   "metadata": {},
   "outputs": [
    {
     "name": "stdout",
     "output_type": "stream",
     "text": [
      "Model: \"sequential_2\"\n",
      "_________________________________________________________________\n",
      "Layer (type)                 Output Shape              Param #   \n",
      "=================================================================\n",
      "embedding_2 (Embedding)      (None, 40, 200)           2000000   \n",
      "_________________________________________________________________\n",
      "lstm_2 (LSTM)                (None, 128)               168448    \n",
      "_________________________________________________________________\n",
      "dense_1 (Dense)              (None, 64)                8256      \n",
      "_________________________________________________________________\n",
      "dense_2 (Dense)              (None, 32)                2080      \n",
      "_________________________________________________________________\n",
      "dense_3 (Dense)              (None, 9)                 297       \n",
      "=================================================================\n",
      "Total params: 2,179,081\n",
      "Trainable params: 2,179,081\n",
      "Non-trainable params: 0\n",
      "_________________________________________________________________\n"
     ]
    }
   ],
   "source": [
    "from keras.models import Sequential\n",
    "from keras.layers import Dense\n",
    "from keras import layers\n",
    "from keras import regularizers\n",
    "\n",
    "model = Sequential()\n",
    "\n",
    "model.add(layers.Embedding(input_dim=max_words, output_dim=embedding_dim, \n",
    "                          input_length=maxlen))\n",
    "\n",
    "model.add(layers.LSTM(64))\n",
    "\n",
    "model.add(Dense(units=32, kernel_regularizer=regularizers.l2(0.001), activation='relu'))\n",
    "model.add(Dense(units=class_number, activation='softmax'))\n",
    "\n",
    "model.summary()"
   ]
  },
  {
   "cell_type": "code",
   "execution_count": 30,
   "id": "6529af7f",
   "metadata": {},
   "outputs": [
    {
     "name": "stdout",
     "output_type": "stream",
     "text": [
      "/Users/jsha/gjai/nlp/pytest/17_practice/ --- Folder already exists\n",
      "\n"
     ]
    }
   ],
   "source": [
    "from keras.callbacks import EarlyStopping\n",
    "import os\n",
    "\n",
    "checkpoint_path = working_path\n",
    "# checkpoint_dir = os.path.dirname(checkpoint_path)\n",
    "if os.path.exists(checkpoint_path):\n",
    "    print('{} --- Folder already exists\\n'.format(checkpoint_path))\n",
    "else:\n",
    "    os.makedirs(checkpoint_path, exist_ok=True)\n",
    "    print('{} --- Folder created\\n'.format(checkpoint_path))"
   ]
  },
  {
   "cell_type": "code",
   "execution_count": 31,
   "id": "c727d41d",
   "metadata": {},
   "outputs": [],
   "source": [
    "model.compile(optimizer='rmsprop', loss='categorical_crossentropy',\n",
    "             metrics=['acc'])"
   ]
  },
  {
   "cell_type": "code",
   "execution_count": 32,
   "id": "1c3b4853",
   "metadata": {},
   "outputs": [
    {
     "name": "stderr",
     "output_type": "stream",
     "text": [
      "/Users/jsha/opt/anaconda3/envs/nlp3710/lib/python3.7/site-packages/tensorflow_core/python/framework/indexed_slices.py:424: UserWarning: Converting sparse IndexedSlices to a dense Tensor of unknown shape. This may consume a large amount of memory.\n",
      "  \"Converting sparse IndexedSlices to a dense Tensor of unknown shape. \"\n"
     ]
    },
    {
     "name": "stdout",
     "output_type": "stream",
     "text": [
      "Train on 4754 samples, validate on 2038 samples\n",
      "Epoch 1/10\n",
      "4754/4754 [==============================] - 20s 4ms/step - loss: 1.7397 - acc: 0.3955 - val_loss: 1.5928 - val_acc: 0.4583\n",
      "\n",
      "Epoch 00001: val_acc improved from -inf to 0.45829, saving model to /Users/jsha/gjai/nlp/pytest/17_practice/분류1_we_rnn_l2_model.h5\n",
      "Epoch 2/10\n",
      "4754/4754 [==============================] - 19s 4ms/step - loss: 1.1753 - acc: 0.5974 - val_loss: 2.0491 - val_acc: 0.3342\n",
      "\n",
      "Epoch 00002: val_acc did not improve from 0.45829\n",
      "Epoch 3/10\n",
      "4754/4754 [==============================] - 21s 4ms/step - loss: 0.9494 - acc: 0.6801 - val_loss: 1.2351 - val_acc: 0.5868\n",
      "\n",
      "Epoch 00003: val_acc improved from 0.45829 to 0.58685, saving model to /Users/jsha/gjai/nlp/pytest/17_practice/분류1_we_rnn_l2_model.h5\n",
      "Epoch 4/10\n",
      "4754/4754 [==============================] - 23s 5ms/step - loss: 0.7272 - acc: 0.7560 - val_loss: 1.2045 - val_acc: 0.6433\n",
      "\n",
      "Epoch 00004: val_acc improved from 0.58685 to 0.64328, saving model to /Users/jsha/gjai/nlp/pytest/17_practice/분류1_we_rnn_l2_model.h5\n",
      "Epoch 5/10\n",
      "4754/4754 [==============================] - 19s 4ms/step - loss: 0.5023 - acc: 0.8589 - val_loss: 1.1988 - val_acc: 0.6575\n",
      "\n",
      "Epoch 00005: val_acc improved from 0.64328 to 0.65751, saving model to /Users/jsha/gjai/nlp/pytest/17_practice/분류1_we_rnn_l2_model.h5\n",
      "Epoch 6/10\n",
      "4754/4754 [==============================] - 21s 4ms/step - loss: 0.3374 - acc: 0.9165 - val_loss: 1.4068 - val_acc: 0.6629\n",
      "\n",
      "Epoch 00006: val_acc improved from 0.65751 to 0.66290, saving model to /Users/jsha/gjai/nlp/pytest/17_practice/분류1_we_rnn_l2_model.h5\n",
      "Epoch 7/10\n",
      "4754/4754 [==============================] - 18s 4ms/step - loss: 0.2322 - acc: 0.9453 - val_loss: 1.6154 - val_acc: 0.6364\n",
      "\n",
      "Epoch 00007: val_acc did not improve from 0.66290\n",
      "Epoch 8/10\n",
      "4754/4754 [==============================] - 21s 4ms/step - loss: 0.1687 - acc: 0.9628 - val_loss: 1.6348 - val_acc: 0.6850\n",
      "\n",
      "Epoch 00008: val_acc improved from 0.66290 to 0.68499, saving model to /Users/jsha/gjai/nlp/pytest/17_practice/분류1_we_rnn_l2_model.h5\n",
      "Epoch 9/10\n",
      "4754/4754 [==============================] - 21s 5ms/step - loss: 0.1224 - acc: 0.9806 - val_loss: 1.8073 - val_acc: 0.6840\n",
      "\n",
      "Epoch 00009: val_acc did not improve from 0.68499\n",
      "Epoch 10/10\n",
      "4754/4754 [==============================] - 23s 5ms/step - loss: 0.0976 - acc: 0.9863 - val_loss: 1.7647 - val_acc: 0.6801\n",
      "\n",
      "Epoch 00010: val_acc did not improve from 0.68499\n"
     ]
    }
   ],
   "source": [
    "from keras.callbacks import ModelCheckpoint\n",
    "\n",
    "earlystop_callback = EarlyStopping(monitor='val_acc', patience=2)\n",
    "cp_callback = ModelCheckpoint(filepath=checkpoint_path+model_name,\n",
    "                             monitor='val_acc', verbose=1, \n",
    "                             save_best_only=True)\n",
    "history = model.fit(x_train, y_train, epochs=epochs,\n",
    "                   batch_size=batch_size, validation_split=0.3,\n",
    "                   callbacks=[earlystop_callback, cp_callback], verbose=1)\n",
    "history_dict = history.history"
   ]
  },
  {
   "cell_type": "code",
   "execution_count": 33,
   "id": "45e59aa1",
   "metadata": {},
   "outputs": [],
   "source": [
    "import pickle\n",
    "\n",
    "# model.save(model_name)\n",
    "\n",
    "with open(checkpoint_path+tokenizer_name, 'wb') as file:\n",
    "    pickle.dump(tokenizer, file, protocol=pickle.HIGHEST_PROTOCOL)\n",
    "    \n",
    "with open(checkpoint_path+labelencode_name, 'wb') as file:\n",
    "    pickle.dump(le, file, protocol=pickle.HIGHEST_PROTOCOL)\n",
    "    "
   ]
  },
  {
   "cell_type": "code",
   "execution_count": 34,
   "id": "e1a27c69",
   "metadata": {},
   "outputs": [
    {
     "name": "stdout",
     "output_type": "stream",
     "text": [
      "validation accuracy of each epoch: [0.458 0.334 0.587 0.643 0.658 0.663 0.636 0.685 0.684 0.68 ]\n"
     ]
    }
   ],
   "source": [
    "acc = history.history['acc']\n",
    "val_acc = history.history['val_acc']\n",
    "loss = history.history['loss']\n",
    "val_loss = history.history['val_loss']\n",
    "\n",
    "print('validation accuracy of each epoch:', np.round(val_acc,3))\n",
    "epochs = range(1, len(val_acc)+1)"
   ]
  },
  {
   "cell_type": "code",
   "execution_count": 35,
   "id": "f2feaec0",
   "metadata": {},
   "outputs": [
    {
     "data": {
      "image/png": "[encoded data removed]",
      "text/plain": [
       "<Figure size 432x288 with 1 Axes>"
      ]
     },
     "metadata": {
      "needs_background": "light"
     },
     "output_type": "display_data"
    }
   ],
   "source": [
    "import matplotlib.pyplot as plt\n",
    "\n",
    "plt.plot(epochs, acc, 'bo', label='Training Acc')\n",
    "plt.plot(epochs, val_acc, 'r', label='Validation Acc')\n",
    "plt.title('Training and Validation Accuracy')\n",
    "plt.legend(loc=4)\n",
    "plt.show()"
   ]
  },
  {
   "cell_type": "code",
   "execution_count": 36,
   "id": "24c863da",
   "metadata": {
    "scrolled": false
   },
   "outputs": [
    {
     "data": {
      "image/png": "[encoded data removed]",
      "text/plain": [
       "<Figure size 432x288 with 1 Axes>"
      ]
     },
     "metadata": {
      "needs_background": "light"
     },
     "output_type": "display_data"
    }
   ],
   "source": [
    "plt.plot(epochs, loss, 'bo', label='Training Loss')\n",
    "plt.plot(epochs, val_loss, 'r', label='Validation Loss')\n",
    "plt.title('Training and Validation loss')\n",
    "plt.legend(loc=1)\n",
    "plt.show()"
   ]
  },
  {
   "cell_type": "code",
   "execution_count": 37,
   "id": "92f366fd",
   "metadata": {},
   "outputs": [
    {
     "name": "stderr",
     "output_type": "stream",
     "text": [
      "/Users/jsha/opt/anaconda3/envs/nlp3710/lib/python3.7/site-packages/tensorflow_core/python/framework/indexed_slices.py:424: UserWarning: Converting sparse IndexedSlices to a dense Tensor of unknown shape. This may consume a large amount of memory.\n",
      "  \"Converting sparse IndexedSlices to a dense Tensor of unknown shape. \"\n"
     ]
    }
   ],
   "source": [
    "from keras.models import load_model\n",
    "\n",
    "loaded_model = load_model(checkpoint_path+model_name)\n",
    "\n",
    "with open(checkpoint_path+tokenizer_name, 'rb') as handle:\n",
    "    loaded_tokenizer = pickle.load(handle)"
   ]
  },
  {
   "cell_type": "markdown",
   "id": "481b8b88",
   "metadata": {},
   "source": [
    "### 결과"
   ]
  },
  {
   "cell_type": "code",
   "execution_count": 39,
   "id": "319196bd",
   "metadata": {},
   "outputs": [
    {
     "name": "stdout",
     "output_type": "stream",
     "text": [
      "2265/2265 [==============================] - 3s 1ms/step\n",
      "분류1 word_embedding+LSTM+L2 prediction\n",
      "prediction model loss & acc: [1.424281131563334, 0.7072847485542297]\n"
     ]
    }
   ],
   "source": [
    "test_eval = loaded_model.evaluate(x_test, y_test)\n",
    "\n",
    "print('분류1 word_embedding+LSTM+L2 prediction')\n",
    "print('prediction model loss & acc:', test_eval)"
   ]
  },
  {
   "cell_type": "code",
   "execution_count": null,
   "id": "da2d4b95",
   "metadata": {},
   "outputs": [],
   "source": []
  },
  {
   "cell_type": "markdown",
   "id": "235672a9",
   "metadata": {},
   "source": [
    "## 분류2"
   ]
  },
  {
   "cell_type": "code",
   "execution_count": 40,
   "id": "86537e22",
   "metadata": {},
   "outputs": [],
   "source": [
    "import pandas as pd\n",
    "from matplotlib import rc\n",
    "\n",
    "rc('font', family='AppleGothic')\n",
    "\n",
    "data_path = '/Users/jsha/gjai/nlp/pytest/16_practice/'\n",
    "filename1 = '분류2_뉴스데이터_morphed_train.csv'\n",
    "filename2 = '분류2_뉴스데이터_morphed_test.csv'\n",
    "\n",
    "train_df = pd.read_csv(data_path+filename1)\n",
    "test_df = pd.read_csv(data_path+filename2)"
   ]
  },
  {
   "cell_type": "code",
   "execution_count": 41,
   "id": "5fd49189",
   "metadata": {},
   "outputs": [
    {
     "data": {
      "text/html": [
       "<div>\n",
       "<style scoped>\n",
       "    .dataframe tbody tr th:only-of-type {\n",
       "        vertical-align: middle;\n",
       "    }\n",
       "\n",
       "    .dataframe tbody tr th {\n",
       "        vertical-align: top;\n",
       "    }\n",
       "\n",
       "    .dataframe thead th {\n",
       "        text-align: right;\n",
       "    }\n",
       "</style>\n",
       "<table border=\"1\" class=\"dataframe\">\n",
       "  <thead>\n",
       "    <tr style=\"text-align: right;\">\n",
       "      <th></th>\n",
       "      <th>id</th>\n",
       "      <th>날짜</th>\n",
       "      <th>분류2</th>\n",
       "      <th>텍스트</th>\n",
       "      <th>분류2_상위</th>\n",
       "      <th>morphed</th>\n",
       "    </tr>\n",
       "  </thead>\n",
       "  <tbody>\n",
       "    <tr>\n",
       "      <th>0</th>\n",
       "      <td>1319794</td>\n",
       "      <td>20190412</td>\n",
       "      <td>문화,출판</td>\n",
       "      <td>이들은 성경이 난민에 대해 어떻게 말하고 있으며, 현 상황과 관련해 난민에 대한 정...</td>\n",
       "      <td>문화</td>\n",
       "      <td>성경 난민 대하 어떻하 말 있 현 상황과 관련 난민 대하 정확 하 팩트 밝히</td>\n",
       "    </tr>\n",
       "    <tr>\n",
       "      <th>1</th>\n",
       "      <td>1410943</td>\n",
       "      <td>20190503</td>\n",
       "      <td>사회,사회일반</td>\n",
       "      <td>충북 충주시는 3일 충주시청 중앙탑회의실에서 제47회 어버이날 유공자 시상식을 열고...</td>\n",
       "      <td>사회</td>\n",
       "      <td>충북 충주시 충주시 청 중앙 탑 회의실 어버이날 유공자 시상식 열 심영섭 효행 장한...</td>\n",
       "    </tr>\n",
       "    <tr>\n",
       "      <th>2</th>\n",
       "      <td>972814</td>\n",
       "      <td>20190122</td>\n",
       "      <td>스포츠,축구,한국프로축구</td>\n",
       "      <td>아시안게임이 U-23 대표팀 경기로 A 대표팀과는 객관적 지표에서 차이가 있지만, ...</td>\n",
       "      <td>스포츠</td>\n",
       "      <td>아시안게임 대표 팀 경기 대표 팀 객관적 지표 차이 있 그때 기억 황의 조의 자신감...</td>\n",
       "    </tr>\n",
       "    <tr>\n",
       "      <th>3</th>\n",
       "      <td>359452</td>\n",
       "      <td>20180828</td>\n",
       "      <td>IT_과학,과학</td>\n",
       "      <td>신기술전시회 280개 기업, 국제발명특허대전 160개 발명품, 국제컨퍼런스 40개 ...</td>\n",
       "      <td>IT_과학</td>\n",
       "      <td>신기술 전시회 기업 국제 발명 특허 대전 발명품 국제 컨퍼런스 세션 꾸미 명 관람객...</td>\n",
       "    </tr>\n",
       "    <tr>\n",
       "      <th>4</th>\n",
       "      <td>310019</td>\n",
       "      <td>20180816</td>\n",
       "      <td>스포츠,축구,해외축구</td>\n",
       "      <td>손흥민은 이미 지난 2018 러시아 월드컵 조벌예선 전 경기에 출전했을 뿐더러 토트...</td>\n",
       "      <td>스포츠</td>\n",
       "      <td>손 흥 민 이미 지나 러시아 월드컵 벌 예선 전 경기 출전 토트 넘 미국 프리 시즌...</td>\n",
       "    </tr>\n",
       "  </tbody>\n",
       "</table>\n",
       "</div>"
      ],
      "text/plain": [
       "        id        날짜            분류2  \\\n",
       "0  1319794  20190412          문화,출판   \n",
       "1  1410943  20190503        사회,사회일반   \n",
       "2   972814  20190122  스포츠,축구,한국프로축구   \n",
       "3   359452  20180828       IT_과학,과학   \n",
       "4   310019  20180816    스포츠,축구,해외축구   \n",
       "\n",
       "                                                 텍스트 분류2_상위  \\\n",
       "0  이들은 성경이 난민에 대해 어떻게 말하고 있으며, 현 상황과 관련해 난민에 대한 정...     문화   \n",
       "1  충북 충주시는 3일 충주시청 중앙탑회의실에서 제47회 어버이날 유공자 시상식을 열고...     사회   \n",
       "2  아시안게임이 U-23 대표팀 경기로 A 대표팀과는 객관적 지표에서 차이가 있지만, ...    스포츠   \n",
       "3  신기술전시회 280개 기업, 국제발명특허대전 160개 발명품, 국제컨퍼런스 40개 ...  IT_과학   \n",
       "4  손흥민은 이미 지난 2018 러시아 월드컵 조벌예선 전 경기에 출전했을 뿐더러 토트...    스포츠   \n",
       "\n",
       "                                             morphed  \n",
       "0         성경 난민 대하 어떻하 말 있 현 상황과 관련 난민 대하 정확 하 팩트 밝히  \n",
       "1  충북 충주시 충주시 청 중앙 탑 회의실 어버이날 유공자 시상식 열 심영섭 효행 장한...  \n",
       "2  아시안게임 대표 팀 경기 대표 팀 객관적 지표 차이 있 그때 기억 황의 조의 자신감...  \n",
       "3  신기술 전시회 기업 국제 발명 특허 대전 발명품 국제 컨퍼런스 세션 꾸미 명 관람객...  \n",
       "4  손 흥 민 이미 지나 러시아 월드컵 벌 예선 전 경기 출전 토트 넘 미국 프리 시즌...  "
      ]
     },
     "execution_count": 41,
     "metadata": {},
     "output_type": "execute_result"
    }
   ],
   "source": [
    "# train_df.head()\n",
    "# train_df['morphed'] = morphed_data\n",
    "train_df.head()"
   ]
  },
  {
   "cell_type": "code",
   "execution_count": 42,
   "id": "b80eee7d",
   "metadata": {},
   "outputs": [
    {
     "data": {
      "text/html": [
       "<div>\n",
       "<style scoped>\n",
       "    .dataframe tbody tr th:only-of-type {\n",
       "        vertical-align: middle;\n",
       "    }\n",
       "\n",
       "    .dataframe tbody tr th {\n",
       "        vertical-align: top;\n",
       "    }\n",
       "\n",
       "    .dataframe thead th {\n",
       "        text-align: right;\n",
       "    }\n",
       "</style>\n",
       "<table border=\"1\" class=\"dataframe\">\n",
       "  <thead>\n",
       "    <tr style=\"text-align: right;\">\n",
       "      <th></th>\n",
       "      <th>id</th>\n",
       "      <th>날짜</th>\n",
       "      <th>분류2</th>\n",
       "      <th>텍스트</th>\n",
       "      <th>분류2_상위</th>\n",
       "      <th>morphed</th>\n",
       "    </tr>\n",
       "  </thead>\n",
       "  <tbody>\n",
       "    <tr>\n",
       "      <th>0</th>\n",
       "      <td>268980</td>\n",
       "      <td>20180806</td>\n",
       "      <td>경제,국제경제</td>\n",
       "      <td>이런 가격 조작 행위는 지난해 말 ‘코인 열풍’이 불 때부터 폭발적으로 늘어났다는 ...</td>\n",
       "      <td>경제</td>\n",
       "      <td>이런 가격 조작 행위 지난해 말 코인 열풍 불 때 폭발적 늘어나 설명</td>\n",
       "    </tr>\n",
       "    <tr>\n",
       "      <th>1</th>\n",
       "      <td>260551</td>\n",
       "      <td>20180803</td>\n",
       "      <td>국제,미국_북미</td>\n",
       "      <td>한 정보 소식통에 따르면 이 여성은 지난해 중순쯤 국무부로부터 비밀정보 사용 인가를...</td>\n",
       "      <td>국제</td>\n",
       "      <td>하 정보 소식통 따르 이 여성 지난해 중순쯤 국무부 비밀 정보 사용 인가 취소 당하...</td>\n",
       "    </tr>\n",
       "    <tr>\n",
       "      <th>2</th>\n",
       "      <td>390392</td>\n",
       "      <td>20180903</td>\n",
       "      <td>국제,중국</td>\n",
       "      <td>시진핑(習近平) 중국 국가주석은 오는 11월 파푸아뉴기니에서 열리는 아시아·태평양경...</td>\n",
       "      <td>국제</td>\n",
       "      <td>시진 핑 중국 국가주석 오 파푸아뉴기니 열리 아시아 태평양 경제 협력체 정상 회의 ...</td>\n",
       "    </tr>\n",
       "    <tr>\n",
       "      <th>3</th>\n",
       "      <td>215899</td>\n",
       "      <td>20180723</td>\n",
       "      <td>경제,산업_기업</td>\n",
       "      <td>이번 세이프가드는 최근 3년간 평균 수입물량으로 쿼터를 산정 후 쿼터 초과 수입물량...</td>\n",
       "      <td>경제</td>\n",
       "      <td>이번 세이프가드 최근 평균 수입 물량 쿼터 산정 후 쿼터 초과 수입 물량 대하 관세...</td>\n",
       "    </tr>\n",
       "    <tr>\n",
       "      <th>4</th>\n",
       "      <td>380078</td>\n",
       "      <td>20180902</td>\n",
       "      <td>스포츠,축구,해외축구</td>\n",
       "      <td>손흥민과 이승우, 황의조와 황희찬 등 해외에서 활약하는 선수들은 더 이상 병역 문제...</td>\n",
       "      <td>스포츠</td>\n",
       "      <td>손 흥 민 이승우 황의 황희찬 해외 활약 선수 더 이상 병역 문제 발목 잡히 국내 ...</td>\n",
       "    </tr>\n",
       "  </tbody>\n",
       "</table>\n",
       "</div>"
      ],
      "text/plain": [
       "       id        날짜          분류2  \\\n",
       "0  268980  20180806      경제,국제경제   \n",
       "1  260551  20180803     국제,미국_북미   \n",
       "2  390392  20180903        국제,중국   \n",
       "3  215899  20180723     경제,산업_기업   \n",
       "4  380078  20180902  스포츠,축구,해외축구   \n",
       "\n",
       "                                                 텍스트 분류2_상위  \\\n",
       "0  이런 가격 조작 행위는 지난해 말 ‘코인 열풍’이 불 때부터 폭발적으로 늘어났다는 ...     경제   \n",
       "1  한 정보 소식통에 따르면 이 여성은 지난해 중순쯤 국무부로부터 비밀정보 사용 인가를...     국제   \n",
       "2  시진핑(習近平) 중국 국가주석은 오는 11월 파푸아뉴기니에서 열리는 아시아·태평양경...     국제   \n",
       "3  이번 세이프가드는 최근 3년간 평균 수입물량으로 쿼터를 산정 후 쿼터 초과 수입물량...     경제   \n",
       "4  손흥민과 이승우, 황의조와 황희찬 등 해외에서 활약하는 선수들은 더 이상 병역 문제...    스포츠   \n",
       "\n",
       "                                             morphed  \n",
       "0             이런 가격 조작 행위 지난해 말 코인 열풍 불 때 폭발적 늘어나 설명  \n",
       "1  하 정보 소식통 따르 이 여성 지난해 중순쯤 국무부 비밀 정보 사용 인가 취소 당하...  \n",
       "2  시진 핑 중국 국가주석 오 파푸아뉴기니 열리 아시아 태평양 경제 협력체 정상 회의 ...  \n",
       "3  이번 세이프가드 최근 평균 수입 물량 쿼터 산정 후 쿼터 초과 수입 물량 대하 관세...  \n",
       "4  손 흥 민 이승우 황의 황희찬 해외 활약 선수 더 이상 병역 문제 발목 잡히 국내 ...  "
      ]
     },
     "execution_count": 42,
     "metadata": {},
     "output_type": "execute_result"
    }
   ],
   "source": [
    "test_df.head()"
   ]
  },
  {
   "cell_type": "code",
   "execution_count": 45,
   "id": "488133b1",
   "metadata": {},
   "outputs": [
    {
     "name": "stdout",
     "output_type": "stream",
     "text": [
      "['문화', '사회', '스포츠']\n",
      "['성경 난민 대하 어떻하 말 있 현 상황과 관련 난민 대하 정확 하 팩트 밝히', '충북 충주시 충주시 청 중앙 탑 회의실 어버이날 유공자 시상식 열 심영섭 효행 장한 어버이 표창장 수여', '아시안게임 대표 팀 경기 대표 팀 객관적 지표 차이 있 그때 기억 황의 조의 자신감 불태우 충분']\n",
      "--------------------------------------------------\n",
      "['경제', '국제', '국제']\n",
      "['이런 가격 조작 행위 지난해 말 코인 열풍 불 때 폭발적 늘어나 설명', '하 정보 소식통 따르 이 여성 지난해 중순쯤 국무부 비밀 정보 사용 인가 취소 당하 직후 해고 되', '시진 핑 중국 국가주석 오 파푸아뉴기니 열리 아시아 태평양 경제 협력체 정상 회의 전후 태평 도서 국 정상 회담 알리']\n"
     ]
    }
   ],
   "source": [
    "from sklearn.model_selection import train_test_split\n",
    "\n",
    "data_text = train_df.loc[:,'morphed'].to_list()\n",
    "data_label = train_df.loc[:,'분류2_상위'].to_list()\n",
    "print(data_label[:3])\n",
    "print(data_text[:3])\n",
    "\n",
    "print('-'*50)\n",
    "\n",
    "data_text_test = test_df.loc[:,'morphed'].to_list()\n",
    "data_label_test = test_df.loc[:,'분류2_상위'].to_list()\n",
    "print(data_label_test[:3])\n",
    "print(data_text_test[:3])\n",
    "\n",
    "train_data_text = data_text\n",
    "train_data_label = data_label\n",
    "test_data_text = data_text_test\n",
    "test_data_label = data_label_test\n",
    "# train_data_text, test_data_text, train_data_label, test_data_label = \\\n",
    "# train_test_split(data_text, data_label, stratify=data_label, \n",
    "#                  test_size=0.3, random_state=1111)"
   ]
  },
  {
   "cell_type": "code",
   "execution_count": 46,
   "id": "fed3d8f6",
   "metadata": {},
   "outputs": [
    {
     "name": "stdout",
     "output_type": "stream",
     "text": [
      "4730\n",
      "1593\n"
     ]
    }
   ],
   "source": [
    "print(len(train_data_text))\n",
    "print(len(test_data_text))"
   ]
  },
  {
   "cell_type": "code",
   "execution_count": 47,
   "id": "817e880a",
   "metadata": {},
   "outputs": [
    {
     "name": "stdout",
     "output_type": "stream",
     "text": [
      "train_data_label_freq: Counter({'지역': 1047, '경제': 936, '스포츠': 910, '사회': 473, '국제': 466, '문화': 463, 'IT_과학': 288, '정치': 147})\n",
      "test_data_label_freq: Counter({'지역': 349, '경제': 329, '스포츠': 303, '사회': 163, '국제': 142, 'IT_과학': 126, '문화': 125, '정치': 56})\n"
     ]
    }
   ],
   "source": [
    "from collections import Counter\n",
    "train_data_label_freq = Counter(train_data_label)\n",
    "print('train_data_label_freq:', train_data_label_freq)\n",
    "\n",
    "test_data_label_freq = Counter(test_data_label)\n",
    "print('test_data_label_freq:', test_data_label_freq)\n"
   ]
  },
  {
   "cell_type": "code",
   "execution_count": 48,
   "id": "56965b43",
   "metadata": {},
   "outputs": [
    {
     "name": "stdout",
     "output_type": "stream",
     "text": [
      "최소길이: 4\n",
      "최대길이: 54\n",
      "평균길이: 19.5\n",
      "중위수길이: 19.0\n",
      "percentile  : [0, 25, 50, 75, 90, 99, 100]\n",
      "구간별 최대 길이: [ 4. 16. 19. 22. 27. 35. 54.]\n",
      "최소길이 문장: 투입 예산 내년 총\n",
      "최대길이 문장: 주요 신규 사업 삼사해상공원 해 파랑 공원 파도 걷기 보행 조성 새 뜰 사업 축산 블루 시티 조성 사업 예 주 고을 역사 문화 공원 조성 사업 오십천 그린 로드 조성 영덕 도서관 건립 사업 영덕 애니메이션 테마파크 조성 사업 영덕 하 양교 션 강구면 화전 우수 저류 시설 설치 아름답 소하천 꾸 사업\n"
     ]
    }
   ],
   "source": [
    "import numpy as np\n",
    "\n",
    "text_len = [len(line.split(' ')) for line in train_data_text]\n",
    "print('최소길이:', np.min(text_len))\n",
    "print('최대길이:', np.max(text_len))\n",
    "print('평균길이:', np.round(np.mean(text_len),1))\n",
    "print('중위수길이:', np.median(text_len))\n",
    "print('percentile  : [0, 25, 50, 75, 90, 99, 100]')\n",
    "print('구간별 최대 길이:', np.percentile(text_len, [0, 25, 50, 75, 90, 99, 100]))\n",
    "print('최소길이 문장:', train_data_text[np.argmin(text_len)])\n",
    "print('최대길이 문장:', train_data_text[np.argmax(text_len)])"
   ]
  },
  {
   "cell_type": "code",
   "execution_count": 49,
   "id": "1bd77b43",
   "metadata": {},
   "outputs": [],
   "source": [
    "from keras.preprocessing.text import Tokenizer\n",
    "from keras.preprocessing.sequence import pad_sequences\n",
    "import numpy as np\n",
    "import math \n",
    "\n",
    "max_words = 10000\n",
    "maxlen = 40\n",
    "\n",
    "tokenizer = Tokenizer(num_words=max_words)\n",
    "tokenizer.fit_on_texts(train_data_text)\n",
    "word_index = tokenizer.word_index"
   ]
  },
  {
   "cell_type": "code",
   "execution_count": 50,
   "id": "51326bb5",
   "metadata": {},
   "outputs": [
    {
     "name": "stdout",
     "output_type": "stream",
     "text": [
      "wjscpdptj 15300개의 고유한 토큰을 찾았습니다\n",
      "word_index type: <class 'dict'>\n"
     ]
    }
   ],
   "source": [
    "print('wjscpdptj %s개의 고유한 토큰을 찾았습니다' % len(word_index))\n",
    "print('word_index type:', type(word_index))\n",
    "# print('word_index:', word_index)"
   ]
  },
  {
   "cell_type": "code",
   "execution_count": 51,
   "id": "6fd44047",
   "metadata": {},
   "outputs": [
    {
     "name": "stdout",
     "output_type": "stream",
     "text": [
      "최대 문장 길이: 49\n",
      "최소 문장 길이: 4\n"
     ]
    }
   ],
   "source": [
    "seq_data = tokenizer.texts_to_sequences(train_data_text)\n",
    "# print('data', data)\n",
    "\n",
    "len_d = [len(d) for d in seq_data]\n",
    "# print('길이:', len_d)\n",
    "print('최대 문장 길이:', max(len_d))\n",
    "print('최소 문장 길이:', min(len_d))"
   ]
  },
  {
   "cell_type": "code",
   "execution_count": 52,
   "id": "87e8caf1",
   "metadata": {},
   "outputs": [
    {
     "name": "stdout",
     "output_type": "stream",
     "text": [
      "data: [[   0    0    0 ...    1 8205   15]\n",
      " [   0    0    0 ... 5730 8208 2302]\n",
      " [   0    0    0 ... 3627 4436 1497]\n",
      " ...\n",
      " [   0    0    0 ... 7559 4594   15]\n",
      " [   0    0    0 ... 1403 1385    9]\n",
      " [   0    0    0 ... 8034 2811  446]]\n",
      "data 0: [   0    0    0    0    0    0    0    0    0    0    0    0    0    0\n",
      "    0    0    0    0    0    0    0    0    0    0    0 1642  747   10\n",
      " 2622  208    3  885 4435   87  747   10 1270    1 8205   15]\n",
      "data 0의 길이: 40\n"
     ]
    }
   ],
   "source": [
    "pad_data = pad_sequences(seq_data, maxlen=maxlen)\n",
    "\n",
    "print('data:', pad_data)\n",
    "print('data 0:', pad_data[0])\n",
    "print('data 0의 길이:', len(pad_data[0]))"
   ]
  },
  {
   "cell_type": "code",
   "execution_count": 53,
   "id": "85281d2d",
   "metadata": {},
   "outputs": [
    {
     "name": "stdout",
     "output_type": "stream",
     "text": [
      "train_data_text type: <class 'list'>\n",
      "data type: <class 'numpy.ndarray'>\n",
      "train_data_text 0: 성경 난민 대하 어떻하 말 있 현 상황과 관련 난민 대하 정확 하 팩트 밝히\n",
      "data 0: [   0    0    0    0    0    0    0    0    0    0    0    0    0    0\n",
      "    0    0    0    0    0    0    0    0    0    0    0 1642  747   10\n",
      " 2622  208    3  885 4435   87  747   10 1270    1 8205   15]\n"
     ]
    }
   ],
   "source": [
    "print('train_data_text type:', type(train_data_text))\n",
    "print('data type:', type(pad_data))\n",
    "print('train_data_text 0:', train_data_text[0])\n",
    "print('data 0:', pad_data[0])"
   ]
  },
  {
   "cell_type": "code",
   "execution_count": 54,
   "id": "e87aac62",
   "metadata": {},
   "outputs": [],
   "source": [
    "def to_one_hot(sequences, dimension):\n",
    "    results = np.zeros((len(sequences), dimension))\n",
    "    for i, sequence in enumerate(sequences):\n",
    "        results[i, sequence] = 1.\n",
    "    return results\n",
    "\n",
    "# x_train = to_one_hot(pad_data, dimension=max_words)\n",
    "x_train = pad_data"
   ]
  },
  {
   "cell_type": "code",
   "execution_count": 55,
   "id": "8dc07834",
   "metadata": {},
   "outputs": [],
   "source": [
    "# print('train_data_text type:', type(train_data_text))\n",
    "# print(len(train_data_text[0]))\n",
    "# print('texts 0:', train_data_text[0])\n",
    "\n",
    "# print('data type:', type(x_train))\n",
    "# print(len(x_train[0]))\n",
    "# print('x_train [0][0:100]:', x_train[0][:100])"
   ]
  },
  {
   "cell_type": "code",
   "execution_count": 56,
   "id": "1516611e",
   "metadata": {},
   "outputs": [
    {
     "name": "stdout",
     "output_type": "stream",
     "text": [
      "['IT_과학' '경제' '국제' '문화' '사회' '스포츠' '정치' '지역']\n"
     ]
    }
   ],
   "source": [
    "from sklearn.preprocessing import LabelEncoder\n",
    "le = LabelEncoder()\n",
    "le.fit(train_data_label)\n",
    "print(le.classes_)\n",
    "train_data_label = le.transform(train_data_label)"
   ]
  },
  {
   "cell_type": "code",
   "execution_count": 57,
   "id": "a64e0d0f",
   "metadata": {},
   "outputs": [],
   "source": [
    "test_data_label = le.transform(test_data_label)"
   ]
  },
  {
   "cell_type": "code",
   "execution_count": 58,
   "id": "bfe376a7",
   "metadata": {},
   "outputs": [
    {
     "name": "stdout",
     "output_type": "stream",
     "text": [
      "[[0. 0. 0. ... 0. 0. 0.]\n",
      " [0. 0. 0. ... 0. 0. 0.]\n",
      " [0. 0. 0. ... 1. 0. 0.]\n",
      " ...\n",
      " [0. 0. 0. ... 1. 0. 0.]\n",
      " [0. 1. 0. ... 0. 0. 0.]\n",
      " [0. 0. 0. ... 0. 0. 0.]]\n"
     ]
    }
   ],
   "source": [
    "class_number = len(le.classes_)\n",
    "y_train = to_one_hot(train_data_label, dimension=class_number)\n",
    "print(y_train)"
   ]
  },
  {
   "cell_type": "code",
   "execution_count": 59,
   "id": "8aa88ad2",
   "metadata": {},
   "outputs": [
    {
     "name": "stdout",
     "output_type": "stream",
     "text": [
      "[[0. 1. 0. ... 0. 0. 0.]\n",
      " [0. 0. 1. ... 0. 0. 0.]\n",
      " [0. 0. 1. ... 0. 0. 0.]\n",
      " ...\n",
      " [0. 0. 1. ... 0. 0. 0.]\n",
      " [0. 0. 0. ... 0. 0. 1.]\n",
      " [0. 0. 1. ... 0. 0. 0.]]\n"
     ]
    }
   ],
   "source": [
    "data_test = tokenizer.texts_to_sequences(test_data_text)\n",
    "\n",
    "data_test = pad_sequences(data_test, maxlen=maxlen)\n",
    "\n",
    "x_test = data_test\n",
    "\n",
    "y_test = to_one_hot(test_data_label, dimension=class_number)\n",
    "print(y_test)"
   ]
  },
  {
   "cell_type": "code",
   "execution_count": 60,
   "id": "9e809e6b",
   "metadata": {},
   "outputs": [
    {
     "name": "stdout",
     "output_type": "stream",
     "text": [
      "훈련 데이터 본문 텐서의 크기: (4730, 40)\n",
      "훈련 데이터 레이블 텐서의 크기: (4730, 8)\n",
      "테스트 데이터 본문 텐서의 크기: (1593, 40)\n",
      "테스트 데이터 레이블 텐서의 크기: (1593, 8)\n"
     ]
    }
   ],
   "source": [
    "print('훈련 데이터 본문 텐서의 크기:', x_train.shape)\n",
    "print('훈련 데이터 레이블 텐서의 크기:', y_train.shape)\n",
    "\n",
    "print('테스트 데이터 본문 텐서의 크기:', x_test.shape)\n",
    "print('테스트 데이터 레이블 텐서의 크기:', y_test.shape)"
   ]
  },
  {
   "cell_type": "code",
   "execution_count": 61,
   "id": "cedb6223",
   "metadata": {},
   "outputs": [
    {
     "data": {
      "text/plain": [
       "(4730, 8)"
      ]
     },
     "execution_count": 61,
     "metadata": {},
     "output_type": "execute_result"
    }
   ],
   "source": [
    "y_train.shape"
   ]
  },
  {
   "cell_type": "code",
   "execution_count": 62,
   "id": "8e1786f1",
   "metadata": {},
   "outputs": [
    {
     "name": "stdout",
     "output_type": "stream",
     "text": [
      "/Users/jsha/gjai/nlp/pytest/17_practice\r\n"
     ]
    }
   ],
   "source": [
    "!pwd"
   ]
  },
  {
   "cell_type": "code",
   "execution_count": 63,
   "id": "bfa7c2fc",
   "metadata": {},
   "outputs": [],
   "source": [
    "import os\n",
    "\n",
    "class_number = y_train.shape[-1]\n",
    "epochs = 10\n",
    "batch_size = 50\n",
    "embedding_dim = 200\n",
    "model_name = '분류2_we_LSTM_l2_model.h5'\n",
    "tokenizer_name = '분류2_we_LSMT_l2_token.pickle'\n",
    "labelencode_name = '분류2_we_LSTM_l2_le.pickle'\n",
    "\n",
    "# working_path = '/Users/jsha/gjai/nlp/pytest/15_working/'\n",
    "# save_path = working_path + 'practice/'\n",
    "# if not os.path.exists(save_path):\n",
    "#     os.mkdir(save_path)\n",
    "#     print(f'made {save_path} directory')\n",
    "# os.chdir(save_path)"
   ]
  },
  {
   "cell_type": "code",
   "execution_count": 64,
   "id": "d3915ede",
   "metadata": {},
   "outputs": [
    {
     "name": "stdout",
     "output_type": "stream",
     "text": [
      "Model: \"sequential_3\"\n",
      "_________________________________________________________________\n",
      "Layer (type)                 Output Shape              Param #   \n",
      "=================================================================\n",
      "embedding_3 (Embedding)      (None, 40, 200)           2000000   \n",
      "_________________________________________________________________\n",
      "lstm_3 (LSTM)                (None, 128)               168448    \n",
      "_________________________________________________________________\n",
      "dense_4 (Dense)              (None, 64)                8256      \n",
      "_________________________________________________________________\n",
      "dense_5 (Dense)              (None, 32)                2080      \n",
      "_________________________________________________________________\n",
      "dense_6 (Dense)              (None, 8)                 264       \n",
      "=================================================================\n",
      "Total params: 2,179,048\n",
      "Trainable params: 2,179,048\n",
      "Non-trainable params: 0\n",
      "_________________________________________________________________\n"
     ]
    }
   ],
   "source": [
    "from keras.models import Sequential\n",
    "from keras.layers import Dense\n",
    "from keras import layers\n",
    "from keras import regularizers\n",
    "\n",
    "model = Sequential()\n",
    "\n",
    "model.add(layers.Embedding(input_dim=max_words, output_dim=embedding_dim, \n",
    "                          input_length=maxlen))\n",
    "\n",
    "model.add(layers.LSTM(128))\n",
    "\n",
    "model.add(Dense(64, kernel_regularizer=regularizers.l2(0.001), activation='relu', input_shape=(max_words,)))\n",
    "model.add(Dense(units=32, kernel_regularizer=regularizers.l2(0.001), activation='relu'))\n",
    "model.add(Dense(units=class_number, activation='softmax'))\n",
    "\n",
    "model.summary()"
   ]
  },
  {
   "cell_type": "code",
   "execution_count": 65,
   "id": "ffc44c92",
   "metadata": {},
   "outputs": [
    {
     "name": "stdout",
     "output_type": "stream",
     "text": [
      "/Users/jsha/gjai/nlp/pytest/17_practice/ --- Folder already exists\n",
      "\n"
     ]
    }
   ],
   "source": [
    "from keras.callbacks import EarlyStopping\n",
    "import os\n",
    "\n",
    "checkpoint_path = working_path\n",
    "# checkpoint_dir = os.path.dirname(checkpoint_path)\n",
    "if os.path.exists(checkpoint_path):\n",
    "    print('{} --- Folder already exists\\n'.format(checkpoint_path))\n",
    "else:\n",
    "    os.makedirs(checkpoint_path, exist_ok=True)\n",
    "    print('{} --- Folder created\\n'.format(checkpoint_path))"
   ]
  },
  {
   "cell_type": "code",
   "execution_count": 66,
   "id": "13f16665",
   "metadata": {},
   "outputs": [],
   "source": [
    "model.compile(optimizer='rmsprop', loss='categorical_crossentropy',\n",
    "             metrics=['acc'])"
   ]
  },
  {
   "cell_type": "code",
   "execution_count": 67,
   "id": "1f5c1816",
   "metadata": {},
   "outputs": [
    {
     "name": "stderr",
     "output_type": "stream",
     "text": [
      "/Users/jsha/opt/anaconda3/envs/nlp3710/lib/python3.7/site-packages/tensorflow_core/python/framework/indexed_slices.py:424: UserWarning: Converting sparse IndexedSlices to a dense Tensor of unknown shape. This may consume a large amount of memory.\n",
      "  \"Converting sparse IndexedSlices to a dense Tensor of unknown shape. \"\n"
     ]
    },
    {
     "name": "stdout",
     "output_type": "stream",
     "text": [
      "Train on 3311 samples, validate on 1419 samples\n",
      "Epoch 1/10\n",
      "3311/3311 [==============================] - 14s 4ms/step - loss: 1.9621 - acc: 0.2809 - val_loss: 1.7424 - val_acc: 0.4292\n",
      "\n",
      "Epoch 00001: val_acc improved from -inf to 0.42918, saving model to /Users/jsha/gjai/nlp/pytest/17_practice/분류2_we_LSTM_l2_model.h5\n",
      "Epoch 2/10\n",
      "3311/3311 [==============================] - 13s 4ms/step - loss: 1.4854 - acc: 0.4603 - val_loss: 1.5373 - val_acc: 0.4581\n",
      "\n",
      "Epoch 00002: val_acc improved from 0.42918 to 0.45807, saving model to /Users/jsha/gjai/nlp/pytest/17_practice/분류2_we_LSTM_l2_model.h5\n",
      "Epoch 3/10\n",
      "3311/3311 [==============================] - 13s 4ms/step - loss: 1.1610 - acc: 0.5850 - val_loss: 1.4684 - val_acc: 0.4891\n",
      "\n",
      "Epoch 00003: val_acc improved from 0.45807 to 0.48908, saving model to /Users/jsha/gjai/nlp/pytest/17_practice/분류2_we_LSTM_l2_model.h5\n",
      "Epoch 4/10\n",
      "3311/3311 [==============================] - 13s 4ms/step - loss: 0.8441 - acc: 0.7424 - val_loss: 1.8334 - val_acc: 0.4602\n",
      "\n",
      "Epoch 00004: val_acc did not improve from 0.48908\n",
      "Epoch 5/10\n",
      "3311/3311 [==============================] - 13s 4ms/step - loss: 0.5754 - acc: 0.8345 - val_loss: 1.6496 - val_acc: 0.5130\n",
      "\n",
      "Epoch 00005: val_acc improved from 0.48908 to 0.51304, saving model to /Users/jsha/gjai/nlp/pytest/17_practice/분류2_we_LSTM_l2_model.h5\n",
      "Epoch 6/10\n",
      "3311/3311 [==============================] - 13s 4ms/step - loss: 0.3892 - acc: 0.9082 - val_loss: 2.0977 - val_acc: 0.4658\n",
      "\n",
      "Epoch 00006: val_acc did not improve from 0.51304\n",
      "Epoch 7/10\n",
      "3311/3311 [==============================] - 15s 4ms/step - loss: 0.2571 - acc: 0.9468 - val_loss: 2.0459 - val_acc: 0.5638\n",
      "\n",
      "Epoch 00007: val_acc improved from 0.51304 to 0.56378, saving model to /Users/jsha/gjai/nlp/pytest/17_practice/분류2_we_LSTM_l2_model.h5\n",
      "Epoch 8/10\n",
      "3311/3311 [==============================] - 15s 5ms/step - loss: 0.1770 - acc: 0.9674 - val_loss: 2.2029 - val_acc: 0.5504\n",
      "\n",
      "Epoch 00008: val_acc did not improve from 0.56378\n",
      "Epoch 9/10\n",
      "3311/3311 [==============================] - 16s 5ms/step - loss: 0.1330 - acc: 0.9807 - val_loss: 2.3031 - val_acc: 0.5553\n",
      "\n",
      "Epoch 00009: val_acc did not improve from 0.56378\n"
     ]
    }
   ],
   "source": [
    "from keras.callbacks import ModelCheckpoint\n",
    "\n",
    "earlystop_callback = EarlyStopping(monitor='val_acc', patience=2)\n",
    "cp_callback = ModelCheckpoint(filepath=checkpoint_path+model_name,\n",
    "                             monitor='val_acc', verbose=1, \n",
    "                             save_best_only=True)\n",
    "history = model.fit(x_train, y_train, epochs=epochs,\n",
    "                   batch_size=batch_size, validation_split=0.3,\n",
    "                   callbacks=[earlystop_callback, cp_callback], verbose=1)\n",
    "history_dict = history.history"
   ]
  },
  {
   "cell_type": "code",
   "execution_count": 68,
   "id": "31b659d7",
   "metadata": {},
   "outputs": [],
   "source": [
    "import pickle\n",
    "\n",
    "# model.save(model_name)\n",
    "\n",
    "with open(checkpoint_path+tokenizer_name, 'wb') as file:\n",
    "    pickle.dump(tokenizer, file, protocol=pickle.HIGHEST_PROTOCOL)\n",
    "    \n",
    "with open(checkpoint_path+labelencode_name, 'wb') as file:\n",
    "    pickle.dump(le, file, protocol=pickle.HIGHEST_PROTOCOL)\n",
    "    "
   ]
  },
  {
   "cell_type": "code",
   "execution_count": 69,
   "id": "76d43cd5",
   "metadata": {},
   "outputs": [
    {
     "name": "stdout",
     "output_type": "stream",
     "text": [
      "validation accuracy of each epoch: [0.429 0.458 0.489 0.46  0.513 0.466 0.564 0.55  0.555]\n"
     ]
    }
   ],
   "source": [
    "acc = history.history['acc']\n",
    "val_acc = history.history['val_acc']\n",
    "loss = history.history['loss']\n",
    "val_loss = history.history['val_loss']\n",
    "\n",
    "print('validation accuracy of each epoch:', np.round(val_acc,3))\n",
    "epochs = range(1, len(val_acc)+1)"
   ]
  },
  {
   "cell_type": "code",
   "execution_count": 70,
   "id": "11934f26",
   "metadata": {},
   "outputs": [
    {
     "data": {
      "image/png": "[encoded data removed]",
      "text/plain": [
       "<Figure size 432x288 with 1 Axes>"
      ]
     },
     "metadata": {
      "needs_background": "light"
     },
     "output_type": "display_data"
    }
   ],
   "source": [
    "import matplotlib.pyplot as plt\n",
    "\n",
    "plt.plot(epochs, acc, 'bo', label='Training Acc')\n",
    "plt.plot(epochs, val_acc, 'r', label='Validation Acc')\n",
    "plt.title('Training and Validation Accuracy')\n",
    "plt.legend(loc=4)\n",
    "plt.show()"
   ]
  },
  {
   "cell_type": "code",
   "execution_count": 71,
   "id": "640c5f6a",
   "metadata": {
    "scrolled": false
   },
   "outputs": [
    {
     "data": {
      "image/png": "[encoded data removed]",
      "text/plain": [
       "<Figure size 432x288 with 1 Axes>"
      ]
     },
     "metadata": {
      "needs_background": "light"
     },
     "output_type": "display_data"
    }
   ],
   "source": [
    "plt.plot(epochs, loss, 'bo', label='Training Loss')\n",
    "plt.plot(epochs, val_loss, 'r', label='Validation Loss')\n",
    "plt.title('Training and Validation loss')\n",
    "plt.legend(loc=1)\n",
    "plt.show()"
   ]
  },
  {
   "cell_type": "code",
   "execution_count": 72,
   "id": "b2f0ded6",
   "metadata": {},
   "outputs": [
    {
     "name": "stderr",
     "output_type": "stream",
     "text": [
      "/Users/jsha/opt/anaconda3/envs/nlp3710/lib/python3.7/site-packages/tensorflow_core/python/framework/indexed_slices.py:424: UserWarning: Converting sparse IndexedSlices to a dense Tensor of unknown shape. This may consume a large amount of memory.\n",
      "  \"Converting sparse IndexedSlices to a dense Tensor of unknown shape. \"\n"
     ]
    }
   ],
   "source": [
    "from keras.models import load_model\n",
    "\n",
    "loaded_model = load_model(checkpoint_path+model_name)\n",
    "\n",
    "with open(checkpoint_path+tokenizer_name, 'rb') as handle:\n",
    "    loaded_tokenizer = pickle.load(handle)"
   ]
  },
  {
   "cell_type": "markdown",
   "id": "6bd8fa79",
   "metadata": {},
   "source": [
    "### 결과"
   ]
  },
  {
   "cell_type": "code",
   "execution_count": 74,
   "id": "fc24f608",
   "metadata": {
    "scrolled": false
   },
   "outputs": [
    {
     "name": "stdout",
     "output_type": "stream",
     "text": [
      "1593/1593 [==============================] - 2s 1ms/step\n",
      "분류2 word_embedding+LSTM+L2 prediction\n",
      "prediction model loss & acc: [2.0407698943191406, 0.5605775117874146]\n"
     ]
    }
   ],
   "source": [
    "test_eval = loaded_model.evaluate(x_test, y_test)\n",
    "\n",
    "print('분류2 word_embedding+LSTM+L2 prediction')\n",
    "print('prediction model loss & acc:', test_eval)"
   ]
  },
  {
   "cell_type": "code",
   "execution_count": null,
   "id": "56d60212",
   "metadata": {},
   "outputs": [],
   "source": []
  },
  {
   "cell_type": "code",
   "execution_count": null,
   "id": "e0b31d92",
   "metadata": {},
   "outputs": [],
   "source": []
  },
  {
   "cell_type": "code",
   "execution_count": null,
   "id": "9d5f93d7",
   "metadata": {},
   "outputs": [],
   "source": []
  },
  {
   "cell_type": "code",
   "execution_count": null,
   "id": "19a5beb6",
   "metadata": {},
   "outputs": [],
   "source": []
  },
  {
   "cell_type": "markdown",
   "id": "68b71a41",
   "metadata": {},
   "source": [
    "# 워드임베딩 + 순환신경망 + Dropout"
   ]
  },
  {
   "cell_type": "markdown",
   "id": "225e1f58",
   "metadata": {},
   "source": [
    "## 분류1"
   ]
  },
  {
   "cell_type": "code",
   "execution_count": 75,
   "id": "ff6103b2",
   "metadata": {},
   "outputs": [],
   "source": [
    "import pandas as pd\n",
    "from matplotlib import rc\n",
    "\n",
    "rc('font', family='AppleGothic')\n",
    "\n",
    "data_path = '/Users/jsha/gjai/nlp/pytest/16_practice/'\n",
    "filename1 = '분류1_뉴스데이터_morphed_train.csv'\n",
    "filename2 = '분류1_뉴스데이터_morphed_test.csv'\n",
    "\n",
    "train_df = pd.read_csv(data_path+filename1)\n",
    "test_df = pd.read_csv(data_path+filename2)"
   ]
  },
  {
   "cell_type": "code",
   "execution_count": 76,
   "id": "600f224b",
   "metadata": {},
   "outputs": [
    {
     "data": {
      "text/html": [
       "<div>\n",
       "<style scoped>\n",
       "    .dataframe tbody tr th:only-of-type {\n",
       "        vertical-align: middle;\n",
       "    }\n",
       "\n",
       "    .dataframe tbody tr th {\n",
       "        vertical-align: top;\n",
       "    }\n",
       "\n",
       "    .dataframe thead th {\n",
       "        text-align: right;\n",
       "    }\n",
       "</style>\n",
       "<table border=\"1\" class=\"dataframe\">\n",
       "  <thead>\n",
       "    <tr style=\"text-align: right;\">\n",
       "      <th></th>\n",
       "      <th>id</th>\n",
       "      <th>날짜</th>\n",
       "      <th>분류1</th>\n",
       "      <th>텍스트</th>\n",
       "      <th>분류1_상위</th>\n",
       "      <th>morphed</th>\n",
       "    </tr>\n",
       "  </thead>\n",
       "  <tbody>\n",
       "    <tr>\n",
       "      <th>0</th>\n",
       "      <td>1319794</td>\n",
       "      <td>20190412</td>\n",
       "      <td>국제,중동_아프리카</td>\n",
       "      <td>이들은 성경이 난민에 대해 어떻게 말하고 있으며, 현 상황과 관련해 난민에 대한 정...</td>\n",
       "      <td>국제</td>\n",
       "      <td>성경 난민 대하 어떻하 말 있 현 상황과 관련 난민 대하 정확 하 팩트 밝히</td>\n",
       "    </tr>\n",
       "    <tr>\n",
       "      <th>1</th>\n",
       "      <td>1410943</td>\n",
       "      <td>20190503</td>\n",
       "      <td>지역,충북</td>\n",
       "      <td>충북 충주시는 3일 충주시청 중앙탑회의실에서 제47회 어버이날 유공자 시상식을 열고...</td>\n",
       "      <td>지역</td>\n",
       "      <td>충북 충주시 충주시 청 중앙 탑 회의실 어버이날 유공자 시상식 열 심영섭 효행 장한...</td>\n",
       "    </tr>\n",
       "    <tr>\n",
       "      <th>2</th>\n",
       "      <td>972814</td>\n",
       "      <td>20190122</td>\n",
       "      <td>스포츠,축구,국가대표팀</td>\n",
       "      <td>아시안게임이 U-23 대표팀 경기로 A 대표팀과는 객관적 지표에서 차이가 있지만, ...</td>\n",
       "      <td>스포츠</td>\n",
       "      <td>아시안게임 대표 팀 경기 대표 팀 객관적 지표 차이 있 그때 기억 황의 조의 자신감...</td>\n",
       "    </tr>\n",
       "    <tr>\n",
       "      <th>3</th>\n",
       "      <td>359452</td>\n",
       "      <td>20180828</td>\n",
       "      <td>IT_과학,콘텐츠</td>\n",
       "      <td>신기술전시회 280개 기업, 국제발명특허대전 160개 발명품, 국제컨퍼런스 40개 ...</td>\n",
       "      <td>IT_과학</td>\n",
       "      <td>신기술 전시회 기업 국제 발명 특허 대전 발명품 국제 컨퍼런스 세션 꾸미 명 관람객...</td>\n",
       "    </tr>\n",
       "    <tr>\n",
       "      <th>4</th>\n",
       "      <td>1338926</td>\n",
       "      <td>20190416</td>\n",
       "      <td>사회,장애인</td>\n",
       "      <td>아카데미에서는 장애인복지시설, 발달장애인훈련센터 등 학령기 장애인 대상으로의 진로직...</td>\n",
       "      <td>사회</td>\n",
       "      <td>아카데미 장애인 복지 시설 발달 장애 훈련 센터 학령기 장애인 대상 진로 직업 체험...</td>\n",
       "    </tr>\n",
       "  </tbody>\n",
       "</table>\n",
       "</div>"
      ],
      "text/plain": [
       "        id        날짜           분류1  \\\n",
       "0  1319794  20190412    국제,중동_아프리카   \n",
       "1  1410943  20190503         지역,충북   \n",
       "2   972814  20190122  스포츠,축구,국가대표팀   \n",
       "3   359452  20180828     IT_과학,콘텐츠   \n",
       "4  1338926  20190416        사회,장애인   \n",
       "\n",
       "                                                 텍스트 분류1_상위  \\\n",
       "0  이들은 성경이 난민에 대해 어떻게 말하고 있으며, 현 상황과 관련해 난민에 대한 정...     국제   \n",
       "1  충북 충주시는 3일 충주시청 중앙탑회의실에서 제47회 어버이날 유공자 시상식을 열고...     지역   \n",
       "2  아시안게임이 U-23 대표팀 경기로 A 대표팀과는 객관적 지표에서 차이가 있지만, ...    스포츠   \n",
       "3  신기술전시회 280개 기업, 국제발명특허대전 160개 발명품, 국제컨퍼런스 40개 ...  IT_과학   \n",
       "4  아카데미에서는 장애인복지시설, 발달장애인훈련센터 등 학령기 장애인 대상으로의 진로직...     사회   \n",
       "\n",
       "                                             morphed  \n",
       "0         성경 난민 대하 어떻하 말 있 현 상황과 관련 난민 대하 정확 하 팩트 밝히  \n",
       "1  충북 충주시 충주시 청 중앙 탑 회의실 어버이날 유공자 시상식 열 심영섭 효행 장한...  \n",
       "2  아시안게임 대표 팀 경기 대표 팀 객관적 지표 차이 있 그때 기억 황의 조의 자신감...  \n",
       "3  신기술 전시회 기업 국제 발명 특허 대전 발명품 국제 컨퍼런스 세션 꾸미 명 관람객...  \n",
       "4  아카데미 장애인 복지 시설 발달 장애 훈련 센터 학령기 장애인 대상 진로 직업 체험...  "
      ]
     },
     "execution_count": 76,
     "metadata": {},
     "output_type": "execute_result"
    }
   ],
   "source": [
    "# train_df.head()\n",
    "# train_df['morphed'] = morphed_data\n",
    "train_df.head()"
   ]
  },
  {
   "cell_type": "code",
   "execution_count": 77,
   "id": "bd022f66",
   "metadata": {},
   "outputs": [
    {
     "data": {
      "text/html": [
       "<div>\n",
       "<style scoped>\n",
       "    .dataframe tbody tr th:only-of-type {\n",
       "        vertical-align: middle;\n",
       "    }\n",
       "\n",
       "    .dataframe tbody tr th {\n",
       "        vertical-align: top;\n",
       "    }\n",
       "\n",
       "    .dataframe thead th {\n",
       "        text-align: right;\n",
       "    }\n",
       "</style>\n",
       "<table border=\"1\" class=\"dataframe\">\n",
       "  <thead>\n",
       "    <tr style=\"text-align: right;\">\n",
       "      <th></th>\n",
       "      <th>id</th>\n",
       "      <th>날짜</th>\n",
       "      <th>분류1</th>\n",
       "      <th>텍스트</th>\n",
       "      <th>분류1_상위</th>\n",
       "      <th>morphed</th>\n",
       "    </tr>\n",
       "  </thead>\n",
       "  <tbody>\n",
       "    <tr>\n",
       "      <th>0</th>\n",
       "      <td>268980</td>\n",
       "      <td>20180806</td>\n",
       "      <td>경제,증권_증시</td>\n",
       "      <td>이런 가격 조작 행위는 지난해 말 ‘코인 열풍’이 불 때부터 폭발적으로 늘어났다는 ...</td>\n",
       "      <td>경제</td>\n",
       "      <td>이런 가격 조작 행위 지난해 말 코인 열풍 불 때 폭발적 늘어나 설명</td>\n",
       "    </tr>\n",
       "    <tr>\n",
       "      <th>1</th>\n",
       "      <td>260551</td>\n",
       "      <td>20180803</td>\n",
       "      <td>국제,러시아</td>\n",
       "      <td>한 정보 소식통에 따르면 이 여성은 지난해 중순쯤 국무부로부터 비밀정보 사용 인가를...</td>\n",
       "      <td>국제</td>\n",
       "      <td>하 정보 소식통 따르 이 여성 지난해 중순쯤 국무부 비밀 정보 사용 인가 취소 당하...</td>\n",
       "    </tr>\n",
       "    <tr>\n",
       "      <th>2</th>\n",
       "      <td>390392</td>\n",
       "      <td>20180903</td>\n",
       "      <td>국제,아시아</td>\n",
       "      <td>시진핑(習近平) 중국 국가주석은 오는 11월 파푸아뉴기니에서 열리는 아시아·태평양경...</td>\n",
       "      <td>국제</td>\n",
       "      <td>시진 핑 중국 국가주석 오 파푸아뉴기니 열리 아시아 태평양 경제 협력체 정상 회의 ...</td>\n",
       "    </tr>\n",
       "    <tr>\n",
       "      <th>3</th>\n",
       "      <td>215899</td>\n",
       "      <td>20180723</td>\n",
       "      <td>경제,무역</td>\n",
       "      <td>이번 세이프가드는 최근 3년간 평균 수입물량으로 쿼터를 산정 후 쿼터 초과 수입물량...</td>\n",
       "      <td>경제</td>\n",
       "      <td>이번 세이프가드 최근 평균 수입 물량 쿼터 산정 후 쿼터 초과 수입 물량 대하 관세...</td>\n",
       "    </tr>\n",
       "    <tr>\n",
       "      <th>4</th>\n",
       "      <td>380078</td>\n",
       "      <td>20180902</td>\n",
       "      <td>스포츠,축구,국가대표팀</td>\n",
       "      <td>손흥민과 이승우, 황의조와 황희찬 등 해외에서 활약하는 선수들은 더 이상 병역 문제...</td>\n",
       "      <td>스포츠</td>\n",
       "      <td>손 흥 민 이승우 황의 황희찬 해외 활약 선수 더 이상 병역 문제 발목 잡히 국내 ...</td>\n",
       "    </tr>\n",
       "  </tbody>\n",
       "</table>\n",
       "</div>"
      ],
      "text/plain": [
       "       id        날짜           분류1  \\\n",
       "0  268980  20180806      경제,증권_증시   \n",
       "1  260551  20180803        국제,러시아   \n",
       "2  390392  20180903        국제,아시아   \n",
       "3  215899  20180723         경제,무역   \n",
       "4  380078  20180902  스포츠,축구,국가대표팀   \n",
       "\n",
       "                                                 텍스트 분류1_상위  \\\n",
       "0  이런 가격 조작 행위는 지난해 말 ‘코인 열풍’이 불 때부터 폭발적으로 늘어났다는 ...     경제   \n",
       "1  한 정보 소식통에 따르면 이 여성은 지난해 중순쯤 국무부로부터 비밀정보 사용 인가를...     국제   \n",
       "2  시진핑(習近平) 중국 국가주석은 오는 11월 파푸아뉴기니에서 열리는 아시아·태평양경...     국제   \n",
       "3  이번 세이프가드는 최근 3년간 평균 수입물량으로 쿼터를 산정 후 쿼터 초과 수입물량...     경제   \n",
       "4  손흥민과 이승우, 황의조와 황희찬 등 해외에서 활약하는 선수들은 더 이상 병역 문제...    스포츠   \n",
       "\n",
       "                                             morphed  \n",
       "0             이런 가격 조작 행위 지난해 말 코인 열풍 불 때 폭발적 늘어나 설명  \n",
       "1  하 정보 소식통 따르 이 여성 지난해 중순쯤 국무부 비밀 정보 사용 인가 취소 당하...  \n",
       "2  시진 핑 중국 국가주석 오 파푸아뉴기니 열리 아시아 태평양 경제 협력체 정상 회의 ...  \n",
       "3  이번 세이프가드 최근 평균 수입 물량 쿼터 산정 후 쿼터 초과 수입 물량 대하 관세...  \n",
       "4  손 흥 민 이승우 황의 황희찬 해외 활약 선수 더 이상 병역 문제 발목 잡히 국내 ...  "
      ]
     },
     "execution_count": 77,
     "metadata": {},
     "output_type": "execute_result"
    }
   ],
   "source": [
    "test_df.head()"
   ]
  },
  {
   "cell_type": "code",
   "execution_count": 78,
   "id": "57b83290",
   "metadata": {},
   "outputs": [
    {
     "name": "stdout",
     "output_type": "stream",
     "text": [
      "['국제', '지역', '스포츠']\n",
      "['성경 난민 대하 어떻하 말 있 현 상황과 관련 난민 대하 정확 하 팩트 밝히', '충북 충주시 충주시 청 중앙 탑 회의실 어버이날 유공자 시상식 열 심영섭 효행 장한 어버이 표창장 수여', '아시안게임 대표 팀 경기 대표 팀 객관적 지표 차이 있 그때 기억 황의 조의 자신감 불태우 충분']\n",
      "--------------------------------------------------\n",
      "['경제', '국제', '국제']\n",
      "['이런 가격 조작 행위 지난해 말 코인 열풍 불 때 폭발적 늘어나 설명', '하 정보 소식통 따르 이 여성 지난해 중순쯤 국무부 비밀 정보 사용 인가 취소 당하 직후 해고 되', '시진 핑 중국 국가주석 오 파푸아뉴기니 열리 아시아 태평양 경제 협력체 정상 회의 전후 태평 도서 국 정상 회담 알리']\n"
     ]
    }
   ],
   "source": [
    "from sklearn.model_selection import train_test_split\n",
    "\n",
    "data_text = train_df.loc[:,'morphed'].to_list()\n",
    "data_label = train_df.loc[:,'분류1_상위'].to_list()\n",
    "print(data_label[:3])\n",
    "print(data_text[:3])\n",
    "\n",
    "print('-'*50)\n",
    "\n",
    "data_text_test = test_df.loc[:,'morphed'].to_list()\n",
    "data_label_test = test_df.loc[:,'분류1_상위'].to_list()\n",
    "print(data_label_test[:3])\n",
    "print(data_text_test[:3])\n",
    "\n",
    "train_data_text = data_text\n",
    "train_data_label = data_label\n",
    "test_data_text = data_text_test\n",
    "test_data_label = data_label_test\n",
    "# train_data_text, test_data_text, train_data_label, test_data_label = \\\n",
    "# train_test_split(data_text, data_label, stratify=data_label, \n",
    "#                  test_size=0.3, random_state=1111)"
   ]
  },
  {
   "cell_type": "code",
   "execution_count": 79,
   "id": "7745113f",
   "metadata": {},
   "outputs": [
    {
     "name": "stdout",
     "output_type": "stream",
     "text": [
      "6792\n",
      "2265\n"
     ]
    }
   ],
   "source": [
    "print(len(train_data_text))\n",
    "print(len(test_data_text))"
   ]
  },
  {
   "cell_type": "code",
   "execution_count": 80,
   "id": "d8f7ea05",
   "metadata": {},
   "outputs": [
    {
     "name": "stdout",
     "output_type": "stream",
     "text": [
      "train_data_label_freq: Counter({'지역': 2151, '스포츠': 1725, '경제': 945, '국제': 733, '사회': 639, 'IT_과학': 491, '문화': 98, '미분류': 9, '정치': 1})\n",
      "test_data_label_freq: Counter({'지역': 722, '스포츠': 540, '경제': 329, '국제': 219, '사회': 213, 'IT_과학': 203, '문화': 30, '미분류': 9})\n"
     ]
    }
   ],
   "source": [
    "from collections import Counter\n",
    "train_data_label_freq = Counter(train_data_label)\n",
    "print('train_data_label_freq:', train_data_label_freq)\n",
    "\n",
    "test_data_label_freq = Counter(test_data_label)\n",
    "print('test_data_label_freq:', test_data_label_freq)\n"
   ]
  },
  {
   "cell_type": "code",
   "execution_count": 81,
   "id": "bf1a7ec9",
   "metadata": {},
   "outputs": [
    {
     "name": "stdout",
     "output_type": "stream",
     "text": [
      "최소길이: 4\n",
      "최대길이: 54\n",
      "평균길이: 19.5\n",
      "중위수길이: 19.0\n",
      "percentile  : [0, 25, 50, 75, 90, 99, 100]\n",
      "구간별 최대 길이: [ 4. 16. 19. 22. 27. 35. 54.]\n",
      "최소길이 문장: 투입 예산 내년 총\n",
      "최대길이 문장: 주요 신규 사업 삼사해상공원 해 파랑 공원 파도 걷기 보행 조성 새 뜰 사업 축산 블루 시티 조성 사업 예 주 고을 역사 문화 공원 조성 사업 오십천 그린 로드 조성 영덕 도서관 건립 사업 영덕 애니메이션 테마파크 조성 사업 영덕 하 양교 션 강구면 화전 우수 저류 시설 설치 아름답 소하천 꾸 사업\n"
     ]
    }
   ],
   "source": [
    "import numpy as np\n",
    "\n",
    "text_len = [len(line.split(' ')) for line in train_data_text]\n",
    "print('최소길이:', np.min(text_len))\n",
    "print('최대길이:', np.max(text_len))\n",
    "print('평균길이:', np.round(np.mean(text_len),1))\n",
    "print('중위수길이:', np.median(text_len))\n",
    "print('percentile  : [0, 25, 50, 75, 90, 99, 100]')\n",
    "print('구간별 최대 길이:', np.percentile(text_len, [0, 25, 50, 75, 90, 99, 100]))\n",
    "print('최소길이 문장:', train_data_text[np.argmin(text_len)])\n",
    "print('최대길이 문장:', train_data_text[np.argmax(text_len)])"
   ]
  },
  {
   "cell_type": "code",
   "execution_count": 82,
   "id": "fb2aefb2",
   "metadata": {},
   "outputs": [],
   "source": [
    "from keras.preprocessing.text import Tokenizer\n",
    "from keras.preprocessing.sequence import pad_sequences\n",
    "import numpy as np\n",
    "import math \n",
    "\n",
    "max_words = 10000\n",
    "maxlen = 40\n",
    "\n",
    "tokenizer = Tokenizer(num_words=max_words)\n",
    "tokenizer.fit_on_texts(train_data_text)\n",
    "word_index = tokenizer.word_index"
   ]
  },
  {
   "cell_type": "code",
   "execution_count": 83,
   "id": "5a6356c3",
   "metadata": {},
   "outputs": [
    {
     "name": "stdout",
     "output_type": "stream",
     "text": [
      "wjscpdptj 18050개의 고유한 토큰을 찾았습니다\n",
      "word_index type: <class 'dict'>\n"
     ]
    }
   ],
   "source": [
    "print('wjscpdptj %s개의 고유한 토큰을 찾았습니다' % len(word_index))\n",
    "print('word_index type:', type(word_index))\n",
    "# print('word_index:', word_index)"
   ]
  },
  {
   "cell_type": "code",
   "execution_count": 84,
   "id": "5ef68d13",
   "metadata": {},
   "outputs": [
    {
     "name": "stdout",
     "output_type": "stream",
     "text": [
      "최대 문장 길이: 49\n",
      "최소 문장 길이: 4\n"
     ]
    }
   ],
   "source": [
    "seq_data = tokenizer.texts_to_sequences(train_data_text)\n",
    "# print('data', data)\n",
    "\n",
    "len_d = [len(d) for d in seq_data]\n",
    "# print('길이:', len_d)\n",
    "print('최대 문장 길이:', max(len_d))\n",
    "print('최소 문장 길이:', min(len_d))"
   ]
  },
  {
   "cell_type": "code",
   "execution_count": 85,
   "id": "7946309c",
   "metadata": {},
   "outputs": [
    {
     "name": "stdout",
     "output_type": "stream",
     "text": [
      "data: [[   0    0    0 ...    1 7165   18]\n",
      " [   0    0    0 ... 7168 7169 2108]\n",
      " [   0    0    0 ... 3970 4700 1797]\n",
      " ...\n",
      " [   0    0    0 ... 9362 5861   18]\n",
      " [   0    0    0 ... 1042 1564   13]\n",
      " [   0    0    0 ... 9916 3268  362]]\n",
      "data 0: [   0    0    0    0    0    0    0    0    0    0    0    0    0    0\n",
      "    0    0    0    0    0    0    0    0    0    0    0 2300  677   10\n",
      " 2301  220    3  790 4698   76  677   10 1389    1 7165   18]\n",
      "data 0의 길이: 40\n"
     ]
    }
   ],
   "source": [
    "pad_data = pad_sequences(seq_data, maxlen=maxlen)\n",
    "\n",
    "print('data:', pad_data)\n",
    "print('data 0:', pad_data[0])\n",
    "print('data 0의 길이:', len(pad_data[0]))"
   ]
  },
  {
   "cell_type": "code",
   "execution_count": 86,
   "id": "0590c79c",
   "metadata": {},
   "outputs": [
    {
     "name": "stdout",
     "output_type": "stream",
     "text": [
      "train_data_text type: <class 'list'>\n",
      "data type: <class 'numpy.ndarray'>\n",
      "train_data_text 0: 성경 난민 대하 어떻하 말 있 현 상황과 관련 난민 대하 정확 하 팩트 밝히\n",
      "data 0: [   0    0    0    0    0    0    0    0    0    0    0    0    0    0\n",
      "    0    0    0    0    0    0    0    0    0    0    0 2300  677   10\n",
      " 2301  220    3  790 4698   76  677   10 1389    1 7165   18]\n"
     ]
    }
   ],
   "source": [
    "print('train_data_text type:', type(train_data_text))\n",
    "print('data type:', type(pad_data))\n",
    "print('train_data_text 0:', train_data_text[0])\n",
    "print('data 0:', pad_data[0])"
   ]
  },
  {
   "cell_type": "code",
   "execution_count": 87,
   "id": "1148720c",
   "metadata": {},
   "outputs": [],
   "source": [
    "def to_one_hot(sequences, dimension):\n",
    "    results = np.zeros((len(sequences), dimension))\n",
    "    for i, sequence in enumerate(sequences):\n",
    "        results[i, sequence] = 1.\n",
    "    return results\n",
    "\n",
    "# x_train = to_one_hot(pad_data, dimension=max_words)\n",
    "x_train = pad_data"
   ]
  },
  {
   "cell_type": "code",
   "execution_count": 88,
   "id": "afd0c5a5",
   "metadata": {},
   "outputs": [],
   "source": [
    "# print('train_data_text type:', type(train_data_text))\n",
    "# print(len(train_data_text[0]))\n",
    "# print('texts 0:', train_data_text[0])\n",
    "\n",
    "# print('data type:', type(x_train))\n",
    "# print(len(x_train[0]))\n",
    "# print('x_train [0][0:100]:', x_train[0][:100])"
   ]
  },
  {
   "cell_type": "code",
   "execution_count": 89,
   "id": "2aa85e8a",
   "metadata": {},
   "outputs": [
    {
     "name": "stdout",
     "output_type": "stream",
     "text": [
      "['IT_과학' '경제' '국제' '문화' '미분류' '사회' '스포츠' '정치' '지역']\n"
     ]
    }
   ],
   "source": [
    "from sklearn.preprocessing import LabelEncoder\n",
    "le = LabelEncoder()\n",
    "le.fit(train_data_label)\n",
    "print(le.classes_)\n",
    "train_data_label = le.transform(train_data_label)"
   ]
  },
  {
   "cell_type": "code",
   "execution_count": 90,
   "id": "91ca518a",
   "metadata": {},
   "outputs": [],
   "source": [
    "test_data_label = le.transform(test_data_label)"
   ]
  },
  {
   "cell_type": "code",
   "execution_count": 91,
   "id": "0948f2ac",
   "metadata": {},
   "outputs": [
    {
     "name": "stdout",
     "output_type": "stream",
     "text": [
      "[[0. 0. 1. ... 0. 0. 0.]\n",
      " [0. 0. 0. ... 0. 0. 1.]\n",
      " [0. 0. 0. ... 1. 0. 0.]\n",
      " ...\n",
      " [0. 0. 0. ... 1. 0. 0.]\n",
      " [0. 1. 0. ... 0. 0. 0.]\n",
      " [0. 0. 0. ... 0. 0. 1.]]\n"
     ]
    }
   ],
   "source": [
    "class_number = len(le.classes_)\n",
    "y_train = to_one_hot(train_data_label, dimension=class_number)\n",
    "print(y_train)"
   ]
  },
  {
   "cell_type": "code",
   "execution_count": 92,
   "id": "11fd0ac4",
   "metadata": {},
   "outputs": [
    {
     "name": "stdout",
     "output_type": "stream",
     "text": [
      "[[0. 1. 0. ... 0. 0. 0.]\n",
      " [0. 0. 1. ... 0. 0. 0.]\n",
      " [0. 0. 1. ... 0. 0. 0.]\n",
      " ...\n",
      " [0. 0. 1. ... 0. 0. 0.]\n",
      " [0. 1. 0. ... 0. 0. 0.]\n",
      " [0. 0. 1. ... 0. 0. 0.]]\n"
     ]
    }
   ],
   "source": [
    "data_test = tokenizer.texts_to_sequences(test_data_text)\n",
    "\n",
    "data_test = pad_sequences(data_test, maxlen=maxlen)\n",
    "\n",
    "x_test = data_test\n",
    "\n",
    "y_test = to_one_hot(test_data_label, dimension=class_number)\n",
    "print(y_test)"
   ]
  },
  {
   "cell_type": "code",
   "execution_count": 93,
   "id": "27d18207",
   "metadata": {},
   "outputs": [
    {
     "name": "stdout",
     "output_type": "stream",
     "text": [
      "훈련 데이터 본문 텐서의 크기: (6792, 40)\n",
      "훈련 데이터 레이블 텐서의 크기: (6792, 9)\n",
      "테스트 데이터 본문 텐서의 크기: (2265, 40)\n",
      "테스트 데이터 레이블 텐서의 크기: (2265, 9)\n"
     ]
    }
   ],
   "source": [
    "print('훈련 데이터 본문 텐서의 크기:', x_train.shape)\n",
    "print('훈련 데이터 레이블 텐서의 크기:', y_train.shape)\n",
    "\n",
    "print('테스트 데이터 본문 텐서의 크기:', x_test.shape)\n",
    "print('테스트 데이터 레이블 텐서의 크기:', y_test.shape)"
   ]
  },
  {
   "cell_type": "code",
   "execution_count": 94,
   "id": "80bb7698",
   "metadata": {},
   "outputs": [
    {
     "data": {
      "text/plain": [
       "(6792, 9)"
      ]
     },
     "execution_count": 94,
     "metadata": {},
     "output_type": "execute_result"
    }
   ],
   "source": [
    "y_train.shape"
   ]
  },
  {
   "cell_type": "code",
   "execution_count": 95,
   "id": "52c2bcdd",
   "metadata": {},
   "outputs": [
    {
     "name": "stdout",
     "output_type": "stream",
     "text": [
      "/Users/jsha/gjai/nlp/pytest/17_practice\r\n"
     ]
    }
   ],
   "source": [
    "!pwd"
   ]
  },
  {
   "cell_type": "code",
   "execution_count": 96,
   "id": "60a2641d",
   "metadata": {},
   "outputs": [],
   "source": [
    "import os\n",
    "\n",
    "class_number = y_train.shape[-1]\n",
    "epochs = 10\n",
    "batch_size = 50\n",
    "embedding_dim = 200\n",
    "model_name = '분류1_we_rnn_dropout_model.h5'\n",
    "tokenizer_name = '분류1_we_rnn_dropout_token.pickle'\n",
    "labelencode_name = '분류1_we_rnn_dropout_le.pickle'\n",
    "\n",
    "# working_path = '/Users/jsha/gjai/nlp/pytest/15_working/'\n",
    "# save_path = working_path + 'practice/'\n",
    "# if not os.path.exists(save_path):\n",
    "#     os.mkdir(save_path)\n",
    "#     print(f'made {save_path} directory')\n",
    "# os.chdir(save_path)"
   ]
  },
  {
   "cell_type": "code",
   "execution_count": 97,
   "id": "14e92315",
   "metadata": {},
   "outputs": [
    {
     "name": "stdout",
     "output_type": "stream",
     "text": [
      "Model: \"sequential_4\"\n",
      "_________________________________________________________________\n",
      "Layer (type)                 Output Shape              Param #   \n",
      "=================================================================\n",
      "embedding_4 (Embedding)      (None, 40, 200)           2000000   \n",
      "_________________________________________________________________\n",
      "lstm_4 (LSTM)                (None, 128)               168448    \n",
      "_________________________________________________________________\n",
      "dropout_1 (Dropout)          (None, 128)               0         \n",
      "_________________________________________________________________\n",
      "dense_7 (Dense)              (None, 64)                8256      \n",
      "_________________________________________________________________\n",
      "dense_8 (Dense)              (None, 32)                2080      \n",
      "_________________________________________________________________\n",
      "dropout_2 (Dropout)          (None, 32)                0         \n",
      "_________________________________________________________________\n",
      "dense_9 (Dense)              (None, 9)                 297       \n",
      "=================================================================\n",
      "Total params: 2,179,081\n",
      "Trainable params: 2,179,081\n",
      "Non-trainable params: 0\n",
      "_________________________________________________________________\n"
     ]
    }
   ],
   "source": [
    "from keras.models import Sequential\n",
    "from keras.layers import Dense, Dropout\n",
    "from keras import layers\n",
    "from keras import regularizers\n",
    "\n",
    "model = Sequential()\n",
    "\n",
    "model.add(layers.Embedding(input_dim=max_words, output_dim=embedding_dim, \n",
    "                          input_length=maxlen))\n",
    "\n",
    "model.add(layers.LSTM(128))\n",
    "model.add(Dropout(0.5))\n",
    "\n",
    "model.add(Dense(64, kernel_regularizer=regularizers.l2(0.001), activation='relu', input_shape=(max_words,)))\n",
    "model.add(Dense(units=32, kernel_regularizer=regularizers.l2(0.001), activation='relu'))\n",
    "model.add(Dropout(0.5))\n",
    "model.add(Dense(units=class_number, activation='softmax'))\n",
    "\n",
    "model.summary()"
   ]
  },
  {
   "cell_type": "code",
   "execution_count": 98,
   "id": "0ecfb6e9",
   "metadata": {},
   "outputs": [
    {
     "name": "stdout",
     "output_type": "stream",
     "text": [
      "/Users/jsha/gjai/nlp/pytest/17_practice/ --- Folder already exists\n",
      "\n"
     ]
    }
   ],
   "source": [
    "from keras.callbacks import EarlyStopping\n",
    "import os\n",
    "\n",
    "checkpoint_path = working_path\n",
    "# checkpoint_dir = os.path.dirname(checkpoint_path)\n",
    "if os.path.exists(checkpoint_path):\n",
    "    print('{} --- Folder already exists\\n'.format(checkpoint_path))\n",
    "else:\n",
    "    os.makedirs(checkpoint_path, exist_ok=True)\n",
    "    print('{} --- Folder created\\n'.format(checkpoint_path))"
   ]
  },
  {
   "cell_type": "code",
   "execution_count": 99,
   "id": "8d29eed8",
   "metadata": {},
   "outputs": [],
   "source": [
    "model.compile(optimizer='rmsprop', loss='categorical_crossentropy',\n",
    "             metrics=['acc'])"
   ]
  },
  {
   "cell_type": "code",
   "execution_count": 100,
   "id": "5a9eb7d7",
   "metadata": {},
   "outputs": [
    {
     "name": "stderr",
     "output_type": "stream",
     "text": [
      "/Users/jsha/opt/anaconda3/envs/nlp3710/lib/python3.7/site-packages/tensorflow_core/python/framework/indexed_slices.py:424: UserWarning: Converting sparse IndexedSlices to a dense Tensor of unknown shape. This may consume a large amount of memory.\n",
      "  \"Converting sparse IndexedSlices to a dense Tensor of unknown shape. \"\n"
     ]
    },
    {
     "name": "stdout",
     "output_type": "stream",
     "text": [
      "Train on 4754 samples, validate on 2038 samples\n",
      "Epoch 1/10\n",
      "4754/4754 [==============================] - 22s 5ms/step - loss: 1.9183 - acc: 0.3284 - val_loss: 1.4509 - val_acc: 0.5309\n",
      "\n",
      "Epoch 00001: val_acc improved from -inf to 0.53091, saving model to /Users/jsha/gjai/nlp/pytest/17_practice/분류1_we_rnn_l2_model.h5\n",
      "Epoch 2/10\n",
      "4754/4754 [==============================] - 21s 4ms/step - loss: 1.3311 - acc: 0.5536 - val_loss: 1.2507 - val_acc: 0.5707\n",
      "\n",
      "Epoch 00002: val_acc improved from 0.53091 to 0.57066, saving model to /Users/jsha/gjai/nlp/pytest/17_practice/분류1_we_rnn_l2_model.h5\n",
      "Epoch 3/10\n",
      "4754/4754 [==============================] - 23s 5ms/step - loss: 1.0698 - acc: 0.6397 - val_loss: 1.2775 - val_acc: 0.6035\n",
      "\n",
      "Epoch 00003: val_acc improved from 0.57066 to 0.60353, saving model to /Users/jsha/gjai/nlp/pytest/17_practice/분류1_we_rnn_l2_model.h5\n",
      "Epoch 4/10\n",
      "4754/4754 [==============================] - 23s 5ms/step - loss: 0.8580 - acc: 0.7127 - val_loss: 1.3262 - val_acc: 0.6452\n",
      "\n",
      "Epoch 00004: val_acc improved from 0.60353 to 0.64524, saving model to /Users/jsha/gjai/nlp/pytest/17_practice/분류1_we_rnn_l2_model.h5\n",
      "Epoch 5/10\n",
      "4754/4754 [==============================] - 26s 5ms/step - loss: 0.6925 - acc: 0.7743 - val_loss: 1.3081 - val_acc: 0.6590\n",
      "\n",
      "Epoch 00005: val_acc improved from 0.64524 to 0.65898, saving model to /Users/jsha/gjai/nlp/pytest/17_practice/분류1_we_rnn_l2_model.h5\n",
      "Epoch 6/10\n",
      "4754/4754 [==============================] - 25s 5ms/step - loss: 0.5471 - acc: 0.8368 - val_loss: 1.3372 - val_acc: 0.6320\n",
      "\n",
      "Epoch 00006: val_acc did not improve from 0.65898\n",
      "Epoch 7/10\n",
      "4754/4754 [==============================] - 26s 6ms/step - loss: 0.4269 - acc: 0.8870 - val_loss: 1.5403 - val_acc: 0.6678\n",
      "\n",
      "Epoch 00007: val_acc improved from 0.65898 to 0.66781, saving model to /Users/jsha/gjai/nlp/pytest/17_practice/분류1_we_rnn_l2_model.h5\n",
      "Epoch 8/10\n",
      "4754/4754 [==============================] - 24s 5ms/step - loss: 0.3359 - acc: 0.9167 - val_loss: 1.6064 - val_acc: 0.6923\n",
      "\n",
      "Epoch 00008: val_acc improved from 0.66781 to 0.69235, saving model to /Users/jsha/gjai/nlp/pytest/17_practice/분류1_we_rnn_l2_model.h5\n",
      "Epoch 9/10\n",
      "4754/4754 [==============================] - 26s 5ms/step - loss: 0.2765 - acc: 0.9390 - val_loss: 1.7181 - val_acc: 0.6963\n",
      "\n",
      "Epoch 00009: val_acc improved from 0.69235 to 0.69627, saving model to /Users/jsha/gjai/nlp/pytest/17_practice/분류1_we_rnn_l2_model.h5\n",
      "Epoch 10/10\n",
      "4754/4754 [==============================] - 24s 5ms/step - loss: 0.2237 - acc: 0.9472 - val_loss: 2.0226 - val_acc: 0.6889\n",
      "\n",
      "Epoch 00010: val_acc did not improve from 0.69627\n"
     ]
    }
   ],
   "source": [
    "from keras.callbacks import ModelCheckpoint\n",
    "\n",
    "earlystop_callback = EarlyStopping(monitor='val_acc', patience=2)\n",
    "cp_callback = ModelCheckpoint(filepath=checkpoint_path+model_name,\n",
    "                             monitor='val_acc', verbose=1, \n",
    "                             save_best_only=True)\n",
    "history = model.fit(x_train, y_train, epochs=epochs,\n",
    "                   batch_size=batch_size, validation_split=0.3,\n",
    "                   callbacks=[earlystop_callback, cp_callback], verbose=1)\n",
    "history_dict = history.history"
   ]
  },
  {
   "cell_type": "code",
   "execution_count": 101,
   "id": "39a5ab7c",
   "metadata": {},
   "outputs": [],
   "source": [
    "import pickle\n",
    "\n",
    "# model.save(model_name)\n",
    "\n",
    "with open(checkpoint_path+tokenizer_name, 'wb') as file:\n",
    "    pickle.dump(tokenizer, file, protocol=pickle.HIGHEST_PROTOCOL)\n",
    "    \n",
    "with open(checkpoint_path+labelencode_name, 'wb') as file:\n",
    "    pickle.dump(le, file, protocol=pickle.HIGHEST_PROTOCOL)\n",
    "    "
   ]
  },
  {
   "cell_type": "code",
   "execution_count": 102,
   "id": "50422ae4",
   "metadata": {},
   "outputs": [
    {
     "name": "stdout",
     "output_type": "stream",
     "text": [
      "validation accuracy of each epoch: [0.531 0.571 0.604 0.645 0.659 0.632 0.668 0.692 0.696 0.689]\n"
     ]
    }
   ],
   "source": [
    "acc = history.history['acc']\n",
    "val_acc = history.history['val_acc']\n",
    "loss = history.history['loss']\n",
    "val_loss = history.history['val_loss']\n",
    "\n",
    "print('validation accuracy of each epoch:', np.round(val_acc,3))\n",
    "epochs = range(1, len(val_acc)+1)"
   ]
  },
  {
   "cell_type": "code",
   "execution_count": 103,
   "id": "4407e38a",
   "metadata": {},
   "outputs": [
    {
     "data": {
      "image/png": "[encoded data removed]",
      "text/plain": [
       "<Figure size 432x288 with 1 Axes>"
      ]
     },
     "metadata": {
      "needs_background": "light"
     },
     "output_type": "display_data"
    }
   ],
   "source": [
    "import matplotlib.pyplot as plt\n",
    "\n",
    "plt.plot(epochs, acc, 'bo', label='Training Acc')\n",
    "plt.plot(epochs, val_acc, 'r', label='Validation Acc')\n",
    "plt.title('Training and Validation Accuracy')\n",
    "plt.legend(loc=4)\n",
    "plt.show()"
   ]
  },
  {
   "cell_type": "code",
   "execution_count": 104,
   "id": "d3014b8b",
   "metadata": {
    "scrolled": false
   },
   "outputs": [
    {
     "data": {
      "image/png": "[encoded data removed]",
      "text/plain": [
       "<Figure size 432x288 with 1 Axes>"
      ]
     },
     "metadata": {
      "needs_background": "light"
     },
     "output_type": "display_data"
    }
   ],
   "source": [
    "plt.plot(epochs, loss, 'bo', label='Training Loss')\n",
    "plt.plot(epochs, val_loss, 'r', label='Validation Loss')\n",
    "plt.title('Training and Validation loss')\n",
    "plt.legend(loc=1)\n",
    "plt.show()"
   ]
  },
  {
   "cell_type": "code",
   "execution_count": 105,
   "id": "06bdf2a8",
   "metadata": {},
   "outputs": [
    {
     "name": "stderr",
     "output_type": "stream",
     "text": [
      "/Users/jsha/opt/anaconda3/envs/nlp3710/lib/python3.7/site-packages/tensorflow_core/python/framework/indexed_slices.py:424: UserWarning: Converting sparse IndexedSlices to a dense Tensor of unknown shape. This may consume a large amount of memory.\n",
      "  \"Converting sparse IndexedSlices to a dense Tensor of unknown shape. \"\n"
     ]
    }
   ],
   "source": [
    "from keras.models import load_model\n",
    "\n",
    "loaded_model = load_model(checkpoint_path+model_name)\n",
    "\n",
    "with open(checkpoint_path+tokenizer_name, 'rb') as handle:\n",
    "    loaded_tokenizer = pickle.load(handle)"
   ]
  },
  {
   "cell_type": "markdown",
   "id": "44cb3953",
   "metadata": {},
   "source": [
    "### 결과"
   ]
  },
  {
   "cell_type": "code",
   "execution_count": 107,
   "id": "0e7c5d83",
   "metadata": {},
   "outputs": [
    {
     "name": "stdout",
     "output_type": "stream",
     "text": [
      "2265/2265 [==============================] - 3s 1ms/step\n",
      "분류1 word_embedding+LSTM+Dropout prediction\n",
      "prediction model loss & acc: [1.5827102541134057, 0.6997792720794678]\n"
     ]
    }
   ],
   "source": [
    "test_eval = loaded_model.evaluate(x_test, y_test)\n",
    "\n",
    "print('분류1 word_embedding+LSTM+Dropout prediction')\n",
    "print('prediction model loss & acc:', test_eval)"
   ]
  },
  {
   "cell_type": "code",
   "execution_count": null,
   "id": "d4306a6f",
   "metadata": {},
   "outputs": [],
   "source": []
  },
  {
   "cell_type": "markdown",
   "id": "59b1522a",
   "metadata": {},
   "source": [
    "## 분류2"
   ]
  },
  {
   "cell_type": "code",
   "execution_count": 134,
   "id": "9735430e",
   "metadata": {},
   "outputs": [],
   "source": [
    "import pandas as pd\n",
    "from matplotlib import rc\n",
    "\n",
    "rc('font', family='AppleGothic')\n",
    "\n",
    "data_path = '/Users/jsha/gjai/nlp/pytest/16_practice/'\n",
    "filename1 = '분류2_뉴스데이터_morphed_train.csv'\n",
    "filename2 = '분류2_뉴스데이터_morphed_test.csv'\n",
    "\n",
    "train_df = pd.read_csv(data_path+filename1)\n",
    "test_df = pd.read_csv(data_path+filename2)"
   ]
  },
  {
   "cell_type": "code",
   "execution_count": 135,
   "id": "61a5d72b",
   "metadata": {},
   "outputs": [
    {
     "data": {
      "text/html": [
       "<div>\n",
       "<style scoped>\n",
       "    .dataframe tbody tr th:only-of-type {\n",
       "        vertical-align: middle;\n",
       "    }\n",
       "\n",
       "    .dataframe tbody tr th {\n",
       "        vertical-align: top;\n",
       "    }\n",
       "\n",
       "    .dataframe thead th {\n",
       "        text-align: right;\n",
       "    }\n",
       "</style>\n",
       "<table border=\"1\" class=\"dataframe\">\n",
       "  <thead>\n",
       "    <tr style=\"text-align: right;\">\n",
       "      <th></th>\n",
       "      <th>id</th>\n",
       "      <th>날짜</th>\n",
       "      <th>분류2</th>\n",
       "      <th>텍스트</th>\n",
       "      <th>분류2_상위</th>\n",
       "      <th>morphed</th>\n",
       "    </tr>\n",
       "  </thead>\n",
       "  <tbody>\n",
       "    <tr>\n",
       "      <th>0</th>\n",
       "      <td>1319794</td>\n",
       "      <td>20190412</td>\n",
       "      <td>문화,출판</td>\n",
       "      <td>이들은 성경이 난민에 대해 어떻게 말하고 있으며, 현 상황과 관련해 난민에 대한 정...</td>\n",
       "      <td>문화</td>\n",
       "      <td>성경 난민 대하 어떻하 말 있 현 상황과 관련 난민 대하 정확 하 팩트 밝히</td>\n",
       "    </tr>\n",
       "    <tr>\n",
       "      <th>1</th>\n",
       "      <td>1410943</td>\n",
       "      <td>20190503</td>\n",
       "      <td>사회,사회일반</td>\n",
       "      <td>충북 충주시는 3일 충주시청 중앙탑회의실에서 제47회 어버이날 유공자 시상식을 열고...</td>\n",
       "      <td>사회</td>\n",
       "      <td>충북 충주시 충주시 청 중앙 탑 회의실 어버이날 유공자 시상식 열 심영섭 효행 장한...</td>\n",
       "    </tr>\n",
       "    <tr>\n",
       "      <th>2</th>\n",
       "      <td>972814</td>\n",
       "      <td>20190122</td>\n",
       "      <td>스포츠,축구,한국프로축구</td>\n",
       "      <td>아시안게임이 U-23 대표팀 경기로 A 대표팀과는 객관적 지표에서 차이가 있지만, ...</td>\n",
       "      <td>스포츠</td>\n",
       "      <td>아시안게임 대표 팀 경기 대표 팀 객관적 지표 차이 있 그때 기억 황의 조의 자신감...</td>\n",
       "    </tr>\n",
       "    <tr>\n",
       "      <th>3</th>\n",
       "      <td>359452</td>\n",
       "      <td>20180828</td>\n",
       "      <td>IT_과학,과학</td>\n",
       "      <td>신기술전시회 280개 기업, 국제발명특허대전 160개 발명품, 국제컨퍼런스 40개 ...</td>\n",
       "      <td>IT_과학</td>\n",
       "      <td>신기술 전시회 기업 국제 발명 특허 대전 발명품 국제 컨퍼런스 세션 꾸미 명 관람객...</td>\n",
       "    </tr>\n",
       "    <tr>\n",
       "      <th>4</th>\n",
       "      <td>310019</td>\n",
       "      <td>20180816</td>\n",
       "      <td>스포츠,축구,해외축구</td>\n",
       "      <td>손흥민은 이미 지난 2018 러시아 월드컵 조벌예선 전 경기에 출전했을 뿐더러 토트...</td>\n",
       "      <td>스포츠</td>\n",
       "      <td>손 흥 민 이미 지나 러시아 월드컵 벌 예선 전 경기 출전 토트 넘 미국 프리 시즌...</td>\n",
       "    </tr>\n",
       "  </tbody>\n",
       "</table>\n",
       "</div>"
      ],
      "text/plain": [
       "        id        날짜            분류2  \\\n",
       "0  1319794  20190412          문화,출판   \n",
       "1  1410943  20190503        사회,사회일반   \n",
       "2   972814  20190122  스포츠,축구,한국프로축구   \n",
       "3   359452  20180828       IT_과학,과학   \n",
       "4   310019  20180816    스포츠,축구,해외축구   \n",
       "\n",
       "                                                 텍스트 분류2_상위  \\\n",
       "0  이들은 성경이 난민에 대해 어떻게 말하고 있으며, 현 상황과 관련해 난민에 대한 정...     문화   \n",
       "1  충북 충주시는 3일 충주시청 중앙탑회의실에서 제47회 어버이날 유공자 시상식을 열고...     사회   \n",
       "2  아시안게임이 U-23 대표팀 경기로 A 대표팀과는 객관적 지표에서 차이가 있지만, ...    스포츠   \n",
       "3  신기술전시회 280개 기업, 국제발명특허대전 160개 발명품, 국제컨퍼런스 40개 ...  IT_과학   \n",
       "4  손흥민은 이미 지난 2018 러시아 월드컵 조벌예선 전 경기에 출전했을 뿐더러 토트...    스포츠   \n",
       "\n",
       "                                             morphed  \n",
       "0         성경 난민 대하 어떻하 말 있 현 상황과 관련 난민 대하 정확 하 팩트 밝히  \n",
       "1  충북 충주시 충주시 청 중앙 탑 회의실 어버이날 유공자 시상식 열 심영섭 효행 장한...  \n",
       "2  아시안게임 대표 팀 경기 대표 팀 객관적 지표 차이 있 그때 기억 황의 조의 자신감...  \n",
       "3  신기술 전시회 기업 국제 발명 특허 대전 발명품 국제 컨퍼런스 세션 꾸미 명 관람객...  \n",
       "4  손 흥 민 이미 지나 러시아 월드컵 벌 예선 전 경기 출전 토트 넘 미국 프리 시즌...  "
      ]
     },
     "execution_count": 135,
     "metadata": {},
     "output_type": "execute_result"
    }
   ],
   "source": [
    "# train_df.head()\n",
    "# train_df['morphed'] = morphed_data\n",
    "train_df.head()"
   ]
  },
  {
   "cell_type": "code",
   "execution_count": 136,
   "id": "19c75821",
   "metadata": {},
   "outputs": [
    {
     "data": {
      "text/html": [
       "<div>\n",
       "<style scoped>\n",
       "    .dataframe tbody tr th:only-of-type {\n",
       "        vertical-align: middle;\n",
       "    }\n",
       "\n",
       "    .dataframe tbody tr th {\n",
       "        vertical-align: top;\n",
       "    }\n",
       "\n",
       "    .dataframe thead th {\n",
       "        text-align: right;\n",
       "    }\n",
       "</style>\n",
       "<table border=\"1\" class=\"dataframe\">\n",
       "  <thead>\n",
       "    <tr style=\"text-align: right;\">\n",
       "      <th></th>\n",
       "      <th>id</th>\n",
       "      <th>날짜</th>\n",
       "      <th>분류2</th>\n",
       "      <th>텍스트</th>\n",
       "      <th>분류2_상위</th>\n",
       "      <th>morphed</th>\n",
       "    </tr>\n",
       "  </thead>\n",
       "  <tbody>\n",
       "    <tr>\n",
       "      <th>0</th>\n",
       "      <td>268980</td>\n",
       "      <td>20180806</td>\n",
       "      <td>경제,국제경제</td>\n",
       "      <td>이런 가격 조작 행위는 지난해 말 ‘코인 열풍’이 불 때부터 폭발적으로 늘어났다는 ...</td>\n",
       "      <td>경제</td>\n",
       "      <td>이런 가격 조작 행위 지난해 말 코인 열풍 불 때 폭발적 늘어나 설명</td>\n",
       "    </tr>\n",
       "    <tr>\n",
       "      <th>1</th>\n",
       "      <td>260551</td>\n",
       "      <td>20180803</td>\n",
       "      <td>국제,미국_북미</td>\n",
       "      <td>한 정보 소식통에 따르면 이 여성은 지난해 중순쯤 국무부로부터 비밀정보 사용 인가를...</td>\n",
       "      <td>국제</td>\n",
       "      <td>하 정보 소식통 따르 이 여성 지난해 중순쯤 국무부 비밀 정보 사용 인가 취소 당하...</td>\n",
       "    </tr>\n",
       "    <tr>\n",
       "      <th>2</th>\n",
       "      <td>390392</td>\n",
       "      <td>20180903</td>\n",
       "      <td>국제,중국</td>\n",
       "      <td>시진핑(習近平) 중국 국가주석은 오는 11월 파푸아뉴기니에서 열리는 아시아·태평양경...</td>\n",
       "      <td>국제</td>\n",
       "      <td>시진 핑 중국 국가주석 오 파푸아뉴기니 열리 아시아 태평양 경제 협력체 정상 회의 ...</td>\n",
       "    </tr>\n",
       "    <tr>\n",
       "      <th>3</th>\n",
       "      <td>215899</td>\n",
       "      <td>20180723</td>\n",
       "      <td>경제,산업_기업</td>\n",
       "      <td>이번 세이프가드는 최근 3년간 평균 수입물량으로 쿼터를 산정 후 쿼터 초과 수입물량...</td>\n",
       "      <td>경제</td>\n",
       "      <td>이번 세이프가드 최근 평균 수입 물량 쿼터 산정 후 쿼터 초과 수입 물량 대하 관세...</td>\n",
       "    </tr>\n",
       "    <tr>\n",
       "      <th>4</th>\n",
       "      <td>380078</td>\n",
       "      <td>20180902</td>\n",
       "      <td>스포츠,축구,해외축구</td>\n",
       "      <td>손흥민과 이승우, 황의조와 황희찬 등 해외에서 활약하는 선수들은 더 이상 병역 문제...</td>\n",
       "      <td>스포츠</td>\n",
       "      <td>손 흥 민 이승우 황의 황희찬 해외 활약 선수 더 이상 병역 문제 발목 잡히 국내 ...</td>\n",
       "    </tr>\n",
       "  </tbody>\n",
       "</table>\n",
       "</div>"
      ],
      "text/plain": [
       "       id        날짜          분류2  \\\n",
       "0  268980  20180806      경제,국제경제   \n",
       "1  260551  20180803     국제,미국_북미   \n",
       "2  390392  20180903        국제,중국   \n",
       "3  215899  20180723     경제,산업_기업   \n",
       "4  380078  20180902  스포츠,축구,해외축구   \n",
       "\n",
       "                                                 텍스트 분류2_상위  \\\n",
       "0  이런 가격 조작 행위는 지난해 말 ‘코인 열풍’이 불 때부터 폭발적으로 늘어났다는 ...     경제   \n",
       "1  한 정보 소식통에 따르면 이 여성은 지난해 중순쯤 국무부로부터 비밀정보 사용 인가를...     국제   \n",
       "2  시진핑(習近平) 중국 국가주석은 오는 11월 파푸아뉴기니에서 열리는 아시아·태평양경...     국제   \n",
       "3  이번 세이프가드는 최근 3년간 평균 수입물량으로 쿼터를 산정 후 쿼터 초과 수입물량...     경제   \n",
       "4  손흥민과 이승우, 황의조와 황희찬 등 해외에서 활약하는 선수들은 더 이상 병역 문제...    스포츠   \n",
       "\n",
       "                                             morphed  \n",
       "0             이런 가격 조작 행위 지난해 말 코인 열풍 불 때 폭발적 늘어나 설명  \n",
       "1  하 정보 소식통 따르 이 여성 지난해 중순쯤 국무부 비밀 정보 사용 인가 취소 당하...  \n",
       "2  시진 핑 중국 국가주석 오 파푸아뉴기니 열리 아시아 태평양 경제 협력체 정상 회의 ...  \n",
       "3  이번 세이프가드 최근 평균 수입 물량 쿼터 산정 후 쿼터 초과 수입 물량 대하 관세...  \n",
       "4  손 흥 민 이승우 황의 황희찬 해외 활약 선수 더 이상 병역 문제 발목 잡히 국내 ...  "
      ]
     },
     "execution_count": 136,
     "metadata": {},
     "output_type": "execute_result"
    }
   ],
   "source": [
    "test_df.head()"
   ]
  },
  {
   "cell_type": "code",
   "execution_count": 137,
   "id": "f0184671",
   "metadata": {},
   "outputs": [
    {
     "name": "stdout",
     "output_type": "stream",
     "text": [
      "['문화', '사회', '스포츠']\n",
      "['성경 난민 대하 어떻하 말 있 현 상황과 관련 난민 대하 정확 하 팩트 밝히', '충북 충주시 충주시 청 중앙 탑 회의실 어버이날 유공자 시상식 열 심영섭 효행 장한 어버이 표창장 수여', '아시안게임 대표 팀 경기 대표 팀 객관적 지표 차이 있 그때 기억 황의 조의 자신감 불태우 충분']\n",
      "--------------------------------------------------\n",
      "['경제', '국제', '국제']\n",
      "['이런 가격 조작 행위 지난해 말 코인 열풍 불 때 폭발적 늘어나 설명', '하 정보 소식통 따르 이 여성 지난해 중순쯤 국무부 비밀 정보 사용 인가 취소 당하 직후 해고 되', '시진 핑 중국 국가주석 오 파푸아뉴기니 열리 아시아 태평양 경제 협력체 정상 회의 전후 태평 도서 국 정상 회담 알리']\n"
     ]
    }
   ],
   "source": [
    "from sklearn.model_selection import train_test_split\n",
    "\n",
    "data_text = train_df.loc[:,'morphed'].to_list()\n",
    "data_label = train_df.loc[:,'분류2_상위'].to_list()\n",
    "print(data_label[:3])\n",
    "print(data_text[:3])\n",
    "\n",
    "print('-'*50)\n",
    "\n",
    "data_text_test = test_df.loc[:,'morphed'].to_list()\n",
    "data_label_test = test_df.loc[:,'분류2_상위'].to_list()\n",
    "print(data_label_test[:3])\n",
    "print(data_text_test[:3])\n",
    "\n",
    "train_data_text = data_text\n",
    "train_data_label = data_label\n",
    "test_data_text = data_text_test\n",
    "test_data_label = data_label_test\n",
    "# train_data_text, test_data_text, train_data_label, test_data_label = \\\n",
    "# train_test_split(data_text, data_label, stratify=data_label, \n",
    "#                  test_size=0.3, random_state=1111)"
   ]
  },
  {
   "cell_type": "code",
   "execution_count": 138,
   "id": "1e22a976",
   "metadata": {},
   "outputs": [
    {
     "name": "stdout",
     "output_type": "stream",
     "text": [
      "4730\n",
      "1593\n"
     ]
    }
   ],
   "source": [
    "print(len(train_data_text))\n",
    "print(len(test_data_text))"
   ]
  },
  {
   "cell_type": "code",
   "execution_count": 139,
   "id": "fb971058",
   "metadata": {},
   "outputs": [
    {
     "name": "stdout",
     "output_type": "stream",
     "text": [
      "train_data_label_freq: Counter({'지역': 1047, '경제': 936, '스포츠': 910, '사회': 473, '국제': 466, '문화': 463, 'IT_과학': 288, '정치': 147})\n",
      "test_data_label_freq: Counter({'지역': 349, '경제': 329, '스포츠': 303, '사회': 163, '국제': 142, 'IT_과학': 126, '문화': 125, '정치': 56})\n"
     ]
    }
   ],
   "source": [
    "from collections import Counter\n",
    "train_data_label_freq = Counter(train_data_label)\n",
    "print('train_data_label_freq:', train_data_label_freq)\n",
    "\n",
    "test_data_label_freq = Counter(test_data_label)\n",
    "print('test_data_label_freq:', test_data_label_freq)\n"
   ]
  },
  {
   "cell_type": "code",
   "execution_count": 140,
   "id": "f0d13ed7",
   "metadata": {},
   "outputs": [
    {
     "name": "stdout",
     "output_type": "stream",
     "text": [
      "최소길이: 4\n",
      "최대길이: 54\n",
      "평균길이: 19.5\n",
      "중위수길이: 19.0\n",
      "percentile  : [0, 25, 50, 75, 90, 99, 100]\n",
      "구간별 최대 길이: [ 4. 16. 19. 22. 27. 35. 54.]\n",
      "최소길이 문장: 투입 예산 내년 총\n",
      "최대길이 문장: 주요 신규 사업 삼사해상공원 해 파랑 공원 파도 걷기 보행 조성 새 뜰 사업 축산 블루 시티 조성 사업 예 주 고을 역사 문화 공원 조성 사업 오십천 그린 로드 조성 영덕 도서관 건립 사업 영덕 애니메이션 테마파크 조성 사업 영덕 하 양교 션 강구면 화전 우수 저류 시설 설치 아름답 소하천 꾸 사업\n"
     ]
    }
   ],
   "source": [
    "import numpy as np\n",
    "\n",
    "text_len = [len(line.split(' ')) for line in train_data_text]\n",
    "print('최소길이:', np.min(text_len))\n",
    "print('최대길이:', np.max(text_len))\n",
    "print('평균길이:', np.round(np.mean(text_len),1))\n",
    "print('중위수길이:', np.median(text_len))\n",
    "print('percentile  : [0, 25, 50, 75, 90, 99, 100]')\n",
    "print('구간별 최대 길이:', np.percentile(text_len, [0, 25, 50, 75, 90, 99, 100]))\n",
    "print('최소길이 문장:', train_data_text[np.argmin(text_len)])\n",
    "print('최대길이 문장:', train_data_text[np.argmax(text_len)])"
   ]
  },
  {
   "cell_type": "code",
   "execution_count": 141,
   "id": "f3f52ed7",
   "metadata": {},
   "outputs": [],
   "source": [
    "from keras.preprocessing.text import Tokenizer\n",
    "from keras.preprocessing.sequence import pad_sequences\n",
    "import numpy as np\n",
    "import math \n",
    "\n",
    "max_words = 10000\n",
    "maxlen = 40\n",
    "\n",
    "tokenizer = Tokenizer(num_words=max_words)\n",
    "tokenizer.fit_on_texts(train_data_text)\n",
    "word_index = tokenizer.word_index"
   ]
  },
  {
   "cell_type": "code",
   "execution_count": 142,
   "id": "f8d84781",
   "metadata": {},
   "outputs": [
    {
     "name": "stdout",
     "output_type": "stream",
     "text": [
      "wjscpdptj 15300개의 고유한 토큰을 찾았습니다\n",
      "word_index type: <class 'dict'>\n"
     ]
    }
   ],
   "source": [
    "print('wjscpdptj %s개의 고유한 토큰을 찾았습니다' % len(word_index))\n",
    "print('word_index type:', type(word_index))\n",
    "# print('word_index:', word_index)"
   ]
  },
  {
   "cell_type": "code",
   "execution_count": 143,
   "id": "df9c168c",
   "metadata": {},
   "outputs": [
    {
     "name": "stdout",
     "output_type": "stream",
     "text": [
      "최대 문장 길이: 49\n",
      "최소 문장 길이: 4\n"
     ]
    }
   ],
   "source": [
    "seq_data = tokenizer.texts_to_sequences(train_data_text)\n",
    "# print('data', data)\n",
    "\n",
    "len_d = [len(d) for d in seq_data]\n",
    "# print('길이:', len_d)\n",
    "print('최대 문장 길이:', max(len_d))\n",
    "print('최소 문장 길이:', min(len_d))"
   ]
  },
  {
   "cell_type": "code",
   "execution_count": 144,
   "id": "44dc1732",
   "metadata": {},
   "outputs": [
    {
     "name": "stdout",
     "output_type": "stream",
     "text": [
      "data: [[   0    0    0 ...    1 8205   15]\n",
      " [   0    0    0 ... 5730 8208 2302]\n",
      " [   0    0    0 ... 3627 4436 1497]\n",
      " ...\n",
      " [   0    0    0 ... 7559 4594   15]\n",
      " [   0    0    0 ... 1403 1385    9]\n",
      " [   0    0    0 ... 8034 2811  446]]\n",
      "data 0: [   0    0    0    0    0    0    0    0    0    0    0    0    0    0\n",
      "    0    0    0    0    0    0    0    0    0    0    0 1642  747   10\n",
      " 2622  208    3  885 4435   87  747   10 1270    1 8205   15]\n",
      "data 0의 길이: 40\n"
     ]
    }
   ],
   "source": [
    "pad_data = pad_sequences(seq_data, maxlen=maxlen)\n",
    "\n",
    "print('data:', pad_data)\n",
    "print('data 0:', pad_data[0])\n",
    "print('data 0의 길이:', len(pad_data[0]))"
   ]
  },
  {
   "cell_type": "code",
   "execution_count": 145,
   "id": "db46f93e",
   "metadata": {},
   "outputs": [
    {
     "name": "stdout",
     "output_type": "stream",
     "text": [
      "train_data_text type: <class 'list'>\n",
      "data type: <class 'numpy.ndarray'>\n",
      "train_data_text 0: 성경 난민 대하 어떻하 말 있 현 상황과 관련 난민 대하 정확 하 팩트 밝히\n",
      "data 0: [   0    0    0    0    0    0    0    0    0    0    0    0    0    0\n",
      "    0    0    0    0    0    0    0    0    0    0    0 1642  747   10\n",
      " 2622  208    3  885 4435   87  747   10 1270    1 8205   15]\n"
     ]
    }
   ],
   "source": [
    "print('train_data_text type:', type(train_data_text))\n",
    "print('data type:', type(pad_data))\n",
    "print('train_data_text 0:', train_data_text[0])\n",
    "print('data 0:', pad_data[0])"
   ]
  },
  {
   "cell_type": "code",
   "execution_count": 146,
   "id": "08548d39",
   "metadata": {},
   "outputs": [],
   "source": [
    "def to_one_hot(sequences, dimension):\n",
    "    results = np.zeros((len(sequences), dimension))\n",
    "    for i, sequence in enumerate(sequences):\n",
    "        results[i, sequence] = 1.\n",
    "    return results\n",
    "\n",
    "# x_train = to_one_hot(pad_data, dimension=max_words)\n",
    "x_train = pad_data"
   ]
  },
  {
   "cell_type": "code",
   "execution_count": 147,
   "id": "5cf3d66f",
   "metadata": {},
   "outputs": [],
   "source": [
    "# print('train_data_text type:', type(train_data_text))\n",
    "# print(len(train_data_text[0]))\n",
    "# print('texts 0:', train_data_text[0])\n",
    "\n",
    "# print('data type:', type(x_train))\n",
    "# print(len(x_train[0]))\n",
    "# print('x_train [0][0:100]:', x_train[0][:100])"
   ]
  },
  {
   "cell_type": "code",
   "execution_count": 148,
   "id": "180def06",
   "metadata": {},
   "outputs": [
    {
     "name": "stdout",
     "output_type": "stream",
     "text": [
      "['IT_과학' '경제' '국제' '문화' '사회' '스포츠' '정치' '지역']\n"
     ]
    }
   ],
   "source": [
    "from sklearn.preprocessing import LabelEncoder\n",
    "le = LabelEncoder()\n",
    "le.fit(train_data_label)\n",
    "print(le.classes_)\n",
    "train_data_label = le.transform(train_data_label)"
   ]
  },
  {
   "cell_type": "code",
   "execution_count": 149,
   "id": "41b81129",
   "metadata": {},
   "outputs": [],
   "source": [
    "test_data_label = le.transform(test_data_label)"
   ]
  },
  {
   "cell_type": "code",
   "execution_count": 150,
   "id": "ad8a196d",
   "metadata": {},
   "outputs": [
    {
     "name": "stdout",
     "output_type": "stream",
     "text": [
      "[[0. 0. 0. ... 0. 0. 0.]\n",
      " [0. 0. 0. ... 0. 0. 0.]\n",
      " [0. 0. 0. ... 1. 0. 0.]\n",
      " ...\n",
      " [0. 0. 0. ... 1. 0. 0.]\n",
      " [0. 1. 0. ... 0. 0. 0.]\n",
      " [0. 0. 0. ... 0. 0. 0.]]\n"
     ]
    }
   ],
   "source": [
    "class_number = len(le.classes_)\n",
    "y_train = to_one_hot(train_data_label, dimension=class_number)\n",
    "print(y_train)"
   ]
  },
  {
   "cell_type": "code",
   "execution_count": 151,
   "id": "1f5090de",
   "metadata": {},
   "outputs": [
    {
     "name": "stdout",
     "output_type": "stream",
     "text": [
      "[[0. 1. 0. ... 0. 0. 0.]\n",
      " [0. 0. 1. ... 0. 0. 0.]\n",
      " [0. 0. 1. ... 0. 0. 0.]\n",
      " ...\n",
      " [0. 0. 1. ... 0. 0. 0.]\n",
      " [0. 0. 0. ... 0. 0. 1.]\n",
      " [0. 0. 1. ... 0. 0. 0.]]\n"
     ]
    }
   ],
   "source": [
    "data_test = tokenizer.texts_to_sequences(test_data_text)\n",
    "\n",
    "data_test = pad_sequences(data_test, maxlen=maxlen)\n",
    "\n",
    "x_test = data_test\n",
    "\n",
    "y_test = to_one_hot(test_data_label, dimension=class_number)\n",
    "print(y_test)"
   ]
  },
  {
   "cell_type": "code",
   "execution_count": 152,
   "id": "618acd1e",
   "metadata": {},
   "outputs": [
    {
     "name": "stdout",
     "output_type": "stream",
     "text": [
      "훈련 데이터 본문 텐서의 크기: (4730, 40)\n",
      "훈련 데이터 레이블 텐서의 크기: (4730, 8)\n",
      "테스트 데이터 본문 텐서의 크기: (1593, 40)\n",
      "테스트 데이터 레이블 텐서의 크기: (1593, 8)\n"
     ]
    }
   ],
   "source": [
    "print('훈련 데이터 본문 텐서의 크기:', x_train.shape)\n",
    "print('훈련 데이터 레이블 텐서의 크기:', y_train.shape)\n",
    "\n",
    "print('테스트 데이터 본문 텐서의 크기:', x_test.shape)\n",
    "print('테스트 데이터 레이블 텐서의 크기:', y_test.shape)"
   ]
  },
  {
   "cell_type": "code",
   "execution_count": 153,
   "id": "f492df24",
   "metadata": {},
   "outputs": [
    {
     "data": {
      "text/plain": [
       "(4730, 8)"
      ]
     },
     "execution_count": 153,
     "metadata": {},
     "output_type": "execute_result"
    }
   ],
   "source": [
    "y_train.shape"
   ]
  },
  {
   "cell_type": "code",
   "execution_count": 154,
   "id": "f004af35",
   "metadata": {},
   "outputs": [
    {
     "name": "stdout",
     "output_type": "stream",
     "text": [
      "/Users/jsha/gjai/nlp/pytest/17_practice\r\n"
     ]
    }
   ],
   "source": [
    "!pwd"
   ]
  },
  {
   "cell_type": "code",
   "execution_count": 155,
   "id": "96ed1e2e",
   "metadata": {},
   "outputs": [],
   "source": [
    "import os\n",
    "\n",
    "class_number = y_train.shape[-1]\n",
    "epochs = 10\n",
    "batch_size = 50\n",
    "embedding_dim = 200\n",
    "model_name = '분류2_we_LSTM_dropout_model.h5'\n",
    "tokenizer_name = '분류2_we_LSMT_dropout_token.pickle'\n",
    "labelencode_name = '분류2_we_LSTM_dropout_le.pickle'\n",
    "\n",
    "# working_path = '/Users/jsha/gjai/nlp/pytest/15_working/'\n",
    "# save_path = working_path + 'practice/'\n",
    "# if not os.path.exists(save_path):\n",
    "#     os.mkdir(save_path)\n",
    "#     print(f'made {save_path} directory')\n",
    "# os.chdir(save_path)"
   ]
  },
  {
   "cell_type": "code",
   "execution_count": 156,
   "id": "c700e223",
   "metadata": {},
   "outputs": [
    {
     "name": "stdout",
     "output_type": "stream",
     "text": [
      "Model: \"sequential_6\"\n",
      "_________________________________________________________________\n",
      "Layer (type)                 Output Shape              Param #   \n",
      "=================================================================\n",
      "embedding_6 (Embedding)      (None, 40, 200)           2000000   \n",
      "_________________________________________________________________\n",
      "lstm_6 (LSTM)                (None, 128)               168448    \n",
      "_________________________________________________________________\n",
      "dense_13 (Dense)             (None, 64)                8256      \n",
      "_________________________________________________________________\n",
      "dropout_5 (Dropout)          (None, 64)                0         \n",
      "_________________________________________________________________\n",
      "dense_14 (Dense)             (None, 32)                2080      \n",
      "_________________________________________________________________\n",
      "dropout_6 (Dropout)          (None, 32)                0         \n",
      "_________________________________________________________________\n",
      "dense_15 (Dense)             (None, 8)                 264       \n",
      "=================================================================\n",
      "Total params: 2,179,048\n",
      "Trainable params: 2,179,048\n",
      "Non-trainable params: 0\n",
      "_________________________________________________________________\n"
     ]
    }
   ],
   "source": [
    "from keras.models import Sequential\n",
    "from keras.layers import Dense, Dropout\n",
    "from keras import layers\n",
    "from keras import regularizers\n",
    "\n",
    "model = Sequential()\n",
    "\n",
    "model.add(layers.Embedding(input_dim=max_words, output_dim=embedding_dim, \n",
    "                          input_length=maxlen))\n",
    "\n",
    "model.add(layers.LSTM(128))\n",
    "\n",
    "model.add(Dense(64, activation='relu', input_shape=(max_words,)))\n",
    "model.add(Dropout(0.5))\n",
    "model.add(Dense(units=32, activation='relu'))\n",
    "model.add(Dropout(0.5))\n",
    "model.add(Dense(units=class_number, activation='softmax'))\n",
    "\n",
    "model.summary()"
   ]
  },
  {
   "cell_type": "code",
   "execution_count": 157,
   "id": "c208c6e2",
   "metadata": {},
   "outputs": [
    {
     "name": "stdout",
     "output_type": "stream",
     "text": [
      "/Users/jsha/gjai/nlp/pytest/17_practice/ --- Folder already exists\n",
      "\n"
     ]
    }
   ],
   "source": [
    "from keras.callbacks import EarlyStopping\n",
    "import os\n",
    "\n",
    "checkpoint_path = working_path\n",
    "# checkpoint_dir = os.path.dirname(checkpoint_path)\n",
    "if os.path.exists(checkpoint_path):\n",
    "    print('{} --- Folder already exists\\n'.format(checkpoint_path))\n",
    "else:\n",
    "    os.makedirs(checkpoint_path, exist_ok=True)\n",
    "    print('{} --- Folder created\\n'.format(checkpoint_path))"
   ]
  },
  {
   "cell_type": "code",
   "execution_count": 158,
   "id": "e45cb8b8",
   "metadata": {},
   "outputs": [],
   "source": [
    "model.compile(optimizer='rmsprop', loss='categorical_crossentropy',\n",
    "             metrics=['acc'])"
   ]
  },
  {
   "cell_type": "code",
   "execution_count": 159,
   "id": "b392f9cc",
   "metadata": {},
   "outputs": [
    {
     "name": "stderr",
     "output_type": "stream",
     "text": [
      "/Users/jsha/opt/anaconda3/envs/nlp3710/lib/python3.7/site-packages/tensorflow_core/python/framework/indexed_slices.py:424: UserWarning: Converting sparse IndexedSlices to a dense Tensor of unknown shape. This may consume a large amount of memory.\n",
      "  \"Converting sparse IndexedSlices to a dense Tensor of unknown shape. \"\n"
     ]
    },
    {
     "name": "stdout",
     "output_type": "stream",
     "text": [
      "Train on 3311 samples, validate on 1419 samples\n",
      "Epoch 1/10\n",
      "3311/3311 [==============================] - 14s 4ms/step - loss: 1.9713 - acc: 0.2253 - val_loss: 1.7123 - val_acc: 0.4003\n",
      "\n",
      "Epoch 00001: val_acc improved from -inf to 0.40028, saving model to /Users/jsha/gjai/nlp/pytest/17_practice/분류2_we_LSTM_dropout_model.h5\n",
      "Epoch 2/10\n",
      "3311/3311 [==============================] - 13s 4ms/step - loss: 1.6075 - acc: 0.3911 - val_loss: 1.5245 - val_acc: 0.4616\n",
      "\n",
      "Epoch 00002: val_acc improved from 0.40028 to 0.46159, saving model to /Users/jsha/gjai/nlp/pytest/17_practice/분류2_we_LSTM_dropout_model.h5\n",
      "Epoch 3/10\n",
      "3311/3311 [==============================] - 13s 4ms/step - loss: 1.3825 - acc: 0.5159 - val_loss: 1.3911 - val_acc: 0.5144\n",
      "\n",
      "Epoch 00003: val_acc improved from 0.46159 to 0.51445, saving model to /Users/jsha/gjai/nlp/pytest/17_practice/분류2_we_LSTM_dropout_model.h5\n",
      "Epoch 4/10\n",
      "3311/3311 [==============================] - 14s 4ms/step - loss: 1.1453 - acc: 0.5974 - val_loss: 1.4718 - val_acc: 0.5370\n",
      "\n",
      "Epoch 00004: val_acc improved from 0.51445 to 0.53700, saving model to /Users/jsha/gjai/nlp/pytest/17_practice/분류2_we_LSTM_dropout_model.h5\n",
      "Epoch 5/10\n",
      "3311/3311 [==============================] - 13s 4ms/step - loss: 0.9677 - acc: 0.6678 - val_loss: 1.6305 - val_acc: 0.5553\n",
      "\n",
      "Epoch 00005: val_acc improved from 0.53700 to 0.55532, saving model to /Users/jsha/gjai/nlp/pytest/17_practice/분류2_we_LSTM_dropout_model.h5\n",
      "Epoch 6/10\n",
      "3311/3311 [==============================] - 14s 4ms/step - loss: 0.8045 - acc: 0.7224 - val_loss: 1.8254 - val_acc: 0.5433\n",
      "\n",
      "Epoch 00006: val_acc did not improve from 0.55532\n",
      "Epoch 7/10\n",
      "3311/3311 [==============================] - 13s 4ms/step - loss: 0.6777 - acc: 0.7635 - val_loss: 1.8809 - val_acc: 0.4813\n",
      "\n",
      "Epoch 00007: val_acc did not improve from 0.55532\n"
     ]
    }
   ],
   "source": [
    "from keras.callbacks import ModelCheckpoint\n",
    "\n",
    "earlystop_callback = EarlyStopping(monitor='val_acc', patience=2)\n",
    "cp_callback = ModelCheckpoint(filepath=checkpoint_path+model_name,\n",
    "                             monitor='val_acc', verbose=1, \n",
    "                             save_best_only=True)\n",
    "history = model.fit(x_train, y_train, epochs=epochs,\n",
    "                   batch_size=batch_size, validation_split=0.3,\n",
    "                   callbacks=[earlystop_callback, cp_callback], verbose=1)\n",
    "history_dict = history.history"
   ]
  },
  {
   "cell_type": "code",
   "execution_count": 160,
   "id": "32d57989",
   "metadata": {},
   "outputs": [],
   "source": [
    "import pickle\n",
    "\n",
    "# model.save(model_name)\n",
    "\n",
    "with open(checkpoint_path+tokenizer_name, 'wb') as file:\n",
    "    pickle.dump(tokenizer, file, protocol=pickle.HIGHEST_PROTOCOL)\n",
    "    \n",
    "with open(checkpoint_path+labelencode_name, 'wb') as file:\n",
    "    pickle.dump(le, file, protocol=pickle.HIGHEST_PROTOCOL)\n",
    "    "
   ]
  },
  {
   "cell_type": "code",
   "execution_count": 161,
   "id": "d404d20e",
   "metadata": {},
   "outputs": [
    {
     "name": "stdout",
     "output_type": "stream",
     "text": [
      "validation accuracy of each epoch: [0.4   0.462 0.514 0.537 0.555 0.543 0.481]\n"
     ]
    }
   ],
   "source": [
    "acc = history.history['acc']\n",
    "val_acc = history.history['val_acc']\n",
    "loss = history.history['loss']\n",
    "val_loss = history.history['val_loss']\n",
    "\n",
    "print('validation accuracy of each epoch:', np.round(val_acc,3))\n",
    "epochs = range(1, len(val_acc)+1)"
   ]
  },
  {
   "cell_type": "code",
   "execution_count": 162,
   "id": "f36d7b9b",
   "metadata": {},
   "outputs": [
    {
     "data": {
      "image/png": "[encoded data removed]",
      "text/plain": [
       "<Figure size 432x288 with 1 Axes>"
      ]
     },
     "metadata": {
      "needs_background": "light"
     },
     "output_type": "display_data"
    }
   ],
   "source": [
    "import matplotlib.pyplot as plt\n",
    "\n",
    "plt.plot(epochs, acc, 'bo', label='Training Acc')\n",
    "plt.plot(epochs, val_acc, 'r', label='Validation Acc')\n",
    "plt.title('Training and Validation Accuracy')\n",
    "plt.legend(loc=4)\n",
    "plt.show()"
   ]
  },
  {
   "cell_type": "code",
   "execution_count": 163,
   "id": "51d7cd61",
   "metadata": {
    "scrolled": false
   },
   "outputs": [
    {
     "data": {
      "image/png": "[encoded data removed]",
      "text/plain": [
       "<Figure size 432x288 with 1 Axes>"
      ]
     },
     "metadata": {
      "needs_background": "light"
     },
     "output_type": "display_data"
    }
   ],
   "source": [
    "plt.plot(epochs, loss, 'bo', label='Training Loss')\n",
    "plt.plot(epochs, val_loss, 'r', label='Validation Loss')\n",
    "plt.title('Training and Validation loss')\n",
    "plt.legend(loc=1)\n",
    "plt.show()"
   ]
  },
  {
   "cell_type": "code",
   "execution_count": 164,
   "id": "2156d2f9",
   "metadata": {},
   "outputs": [
    {
     "name": "stderr",
     "output_type": "stream",
     "text": [
      "/Users/jsha/opt/anaconda3/envs/nlp3710/lib/python3.7/site-packages/tensorflow_core/python/framework/indexed_slices.py:424: UserWarning: Converting sparse IndexedSlices to a dense Tensor of unknown shape. This may consume a large amount of memory.\n",
      "  \"Converting sparse IndexedSlices to a dense Tensor of unknown shape. \"\n"
     ]
    }
   ],
   "source": [
    "from keras.models import load_model\n",
    "\n",
    "loaded_model = load_model(checkpoint_path+model_name)\n",
    "\n",
    "with open(checkpoint_path+tokenizer_name, 'rb') as handle:\n",
    "    loaded_tokenizer = pickle.load(handle)"
   ]
  },
  {
   "cell_type": "markdown",
   "id": "19675da0",
   "metadata": {},
   "source": [
    "### 결과"
   ]
  },
  {
   "cell_type": "code",
   "execution_count": 165,
   "id": "17453874",
   "metadata": {
    "scrolled": true
   },
   "outputs": [
    {
     "name": "stdout",
     "output_type": "stream",
     "text": [
      "1593/1593 [==============================] - 2s 1ms/step\n",
      "분류2 word_embedding+LSTM+dropout prediction\n",
      "prediction model loss & acc: [1.618680285270006, 0.5310734510421753]\n"
     ]
    }
   ],
   "source": [
    "test_eval = loaded_model.evaluate(x_test, y_test)\n",
    "\n",
    "print('분류2 word_embedding+LSTM+dropout prediction')\n",
    "print('prediction model loss & acc:', test_eval)"
   ]
  },
  {
   "cell_type": "code",
   "execution_count": null,
   "id": "42034d68",
   "metadata": {},
   "outputs": [],
   "source": []
  },
  {
   "cell_type": "code",
   "execution_count": null,
   "id": "f36fe63f",
   "metadata": {},
   "outputs": [],
   "source": []
  },
  {
   "cell_type": "code",
   "execution_count": null,
   "id": "cbdb31b7",
   "metadata": {},
   "outputs": [],
   "source": []
  },
  {
   "cell_type": "code",
   "execution_count": null,
   "id": "ed790f56",
   "metadata": {},
   "outputs": [],
   "source": []
  },
  {
   "cell_type": "markdown",
   "id": "6498a92d",
   "metadata": {},
   "source": [
    "# 워드임베딩 + Dropout"
   ]
  },
  {
   "cell_type": "markdown",
   "id": "018b960a",
   "metadata": {},
   "source": [
    "## 분류1"
   ]
  },
  {
   "cell_type": "code",
   "execution_count": 167,
   "id": "b9825d7b",
   "metadata": {},
   "outputs": [],
   "source": [
    "import pandas as pd\n",
    "from matplotlib import rc\n",
    "\n",
    "rc('font', family='AppleGothic')\n",
    "\n",
    "data_path = '/Users/jsha/gjai/nlp/pytest/16_practice/'\n",
    "filename1 = '분류1_뉴스데이터_morphed_train.csv'\n",
    "filename2 = '분류1_뉴스데이터_morphed_test.csv'\n",
    "\n",
    "train_df = pd.read_csv(data_path+filename1)\n",
    "test_df = pd.read_csv(data_path+filename2)"
   ]
  },
  {
   "cell_type": "code",
   "execution_count": 168,
   "id": "fc4b15a4",
   "metadata": {},
   "outputs": [
    {
     "data": {
      "text/html": [
       "<div>\n",
       "<style scoped>\n",
       "    .dataframe tbody tr th:only-of-type {\n",
       "        vertical-align: middle;\n",
       "    }\n",
       "\n",
       "    .dataframe tbody tr th {\n",
       "        vertical-align: top;\n",
       "    }\n",
       "\n",
       "    .dataframe thead th {\n",
       "        text-align: right;\n",
       "    }\n",
       "</style>\n",
       "<table border=\"1\" class=\"dataframe\">\n",
       "  <thead>\n",
       "    <tr style=\"text-align: right;\">\n",
       "      <th></th>\n",
       "      <th>id</th>\n",
       "      <th>날짜</th>\n",
       "      <th>분류1</th>\n",
       "      <th>텍스트</th>\n",
       "      <th>분류1_상위</th>\n",
       "      <th>morphed</th>\n",
       "    </tr>\n",
       "  </thead>\n",
       "  <tbody>\n",
       "    <tr>\n",
       "      <th>0</th>\n",
       "      <td>1319794</td>\n",
       "      <td>20190412</td>\n",
       "      <td>국제,중동_아프리카</td>\n",
       "      <td>이들은 성경이 난민에 대해 어떻게 말하고 있으며, 현 상황과 관련해 난민에 대한 정...</td>\n",
       "      <td>국제</td>\n",
       "      <td>성경 난민 대하 어떻하 말 있 현 상황과 관련 난민 대하 정확 하 팩트 밝히</td>\n",
       "    </tr>\n",
       "    <tr>\n",
       "      <th>1</th>\n",
       "      <td>1410943</td>\n",
       "      <td>20190503</td>\n",
       "      <td>지역,충북</td>\n",
       "      <td>충북 충주시는 3일 충주시청 중앙탑회의실에서 제47회 어버이날 유공자 시상식을 열고...</td>\n",
       "      <td>지역</td>\n",
       "      <td>충북 충주시 충주시 청 중앙 탑 회의실 어버이날 유공자 시상식 열 심영섭 효행 장한...</td>\n",
       "    </tr>\n",
       "    <tr>\n",
       "      <th>2</th>\n",
       "      <td>972814</td>\n",
       "      <td>20190122</td>\n",
       "      <td>스포츠,축구,국가대표팀</td>\n",
       "      <td>아시안게임이 U-23 대표팀 경기로 A 대표팀과는 객관적 지표에서 차이가 있지만, ...</td>\n",
       "      <td>스포츠</td>\n",
       "      <td>아시안게임 대표 팀 경기 대표 팀 객관적 지표 차이 있 그때 기억 황의 조의 자신감...</td>\n",
       "    </tr>\n",
       "    <tr>\n",
       "      <th>3</th>\n",
       "      <td>359452</td>\n",
       "      <td>20180828</td>\n",
       "      <td>IT_과학,콘텐츠</td>\n",
       "      <td>신기술전시회 280개 기업, 국제발명특허대전 160개 발명품, 국제컨퍼런스 40개 ...</td>\n",
       "      <td>IT_과학</td>\n",
       "      <td>신기술 전시회 기업 국제 발명 특허 대전 발명품 국제 컨퍼런스 세션 꾸미 명 관람객...</td>\n",
       "    </tr>\n",
       "    <tr>\n",
       "      <th>4</th>\n",
       "      <td>1338926</td>\n",
       "      <td>20190416</td>\n",
       "      <td>사회,장애인</td>\n",
       "      <td>아카데미에서는 장애인복지시설, 발달장애인훈련센터 등 학령기 장애인 대상으로의 진로직...</td>\n",
       "      <td>사회</td>\n",
       "      <td>아카데미 장애인 복지 시설 발달 장애 훈련 센터 학령기 장애인 대상 진로 직업 체험...</td>\n",
       "    </tr>\n",
       "  </tbody>\n",
       "</table>\n",
       "</div>"
      ],
      "text/plain": [
       "        id        날짜           분류1  \\\n",
       "0  1319794  20190412    국제,중동_아프리카   \n",
       "1  1410943  20190503         지역,충북   \n",
       "2   972814  20190122  스포츠,축구,국가대표팀   \n",
       "3   359452  20180828     IT_과학,콘텐츠   \n",
       "4  1338926  20190416        사회,장애인   \n",
       "\n",
       "                                                 텍스트 분류1_상위  \\\n",
       "0  이들은 성경이 난민에 대해 어떻게 말하고 있으며, 현 상황과 관련해 난민에 대한 정...     국제   \n",
       "1  충북 충주시는 3일 충주시청 중앙탑회의실에서 제47회 어버이날 유공자 시상식을 열고...     지역   \n",
       "2  아시안게임이 U-23 대표팀 경기로 A 대표팀과는 객관적 지표에서 차이가 있지만, ...    스포츠   \n",
       "3  신기술전시회 280개 기업, 국제발명특허대전 160개 발명품, 국제컨퍼런스 40개 ...  IT_과학   \n",
       "4  아카데미에서는 장애인복지시설, 발달장애인훈련센터 등 학령기 장애인 대상으로의 진로직...     사회   \n",
       "\n",
       "                                             morphed  \n",
       "0         성경 난민 대하 어떻하 말 있 현 상황과 관련 난민 대하 정확 하 팩트 밝히  \n",
       "1  충북 충주시 충주시 청 중앙 탑 회의실 어버이날 유공자 시상식 열 심영섭 효행 장한...  \n",
       "2  아시안게임 대표 팀 경기 대표 팀 객관적 지표 차이 있 그때 기억 황의 조의 자신감...  \n",
       "3  신기술 전시회 기업 국제 발명 특허 대전 발명품 국제 컨퍼런스 세션 꾸미 명 관람객...  \n",
       "4  아카데미 장애인 복지 시설 발달 장애 훈련 센터 학령기 장애인 대상 진로 직업 체험...  "
      ]
     },
     "execution_count": 168,
     "metadata": {},
     "output_type": "execute_result"
    }
   ],
   "source": [
    "# train_df.head()\n",
    "# train_df['morphed'] = morphed_data\n",
    "train_df.head()"
   ]
  },
  {
   "cell_type": "code",
   "execution_count": 169,
   "id": "ce310825",
   "metadata": {},
   "outputs": [
    {
     "data": {
      "text/html": [
       "<div>\n",
       "<style scoped>\n",
       "    .dataframe tbody tr th:only-of-type {\n",
       "        vertical-align: middle;\n",
       "    }\n",
       "\n",
       "    .dataframe tbody tr th {\n",
       "        vertical-align: top;\n",
       "    }\n",
       "\n",
       "    .dataframe thead th {\n",
       "        text-align: right;\n",
       "    }\n",
       "</style>\n",
       "<table border=\"1\" class=\"dataframe\">\n",
       "  <thead>\n",
       "    <tr style=\"text-align: right;\">\n",
       "      <th></th>\n",
       "      <th>id</th>\n",
       "      <th>날짜</th>\n",
       "      <th>분류1</th>\n",
       "      <th>텍스트</th>\n",
       "      <th>분류1_상위</th>\n",
       "      <th>morphed</th>\n",
       "    </tr>\n",
       "  </thead>\n",
       "  <tbody>\n",
       "    <tr>\n",
       "      <th>0</th>\n",
       "      <td>268980</td>\n",
       "      <td>20180806</td>\n",
       "      <td>경제,증권_증시</td>\n",
       "      <td>이런 가격 조작 행위는 지난해 말 ‘코인 열풍’이 불 때부터 폭발적으로 늘어났다는 ...</td>\n",
       "      <td>경제</td>\n",
       "      <td>이런 가격 조작 행위 지난해 말 코인 열풍 불 때 폭발적 늘어나 설명</td>\n",
       "    </tr>\n",
       "    <tr>\n",
       "      <th>1</th>\n",
       "      <td>260551</td>\n",
       "      <td>20180803</td>\n",
       "      <td>국제,러시아</td>\n",
       "      <td>한 정보 소식통에 따르면 이 여성은 지난해 중순쯤 국무부로부터 비밀정보 사용 인가를...</td>\n",
       "      <td>국제</td>\n",
       "      <td>하 정보 소식통 따르 이 여성 지난해 중순쯤 국무부 비밀 정보 사용 인가 취소 당하...</td>\n",
       "    </tr>\n",
       "    <tr>\n",
       "      <th>2</th>\n",
       "      <td>390392</td>\n",
       "      <td>20180903</td>\n",
       "      <td>국제,아시아</td>\n",
       "      <td>시진핑(習近平) 중국 국가주석은 오는 11월 파푸아뉴기니에서 열리는 아시아·태평양경...</td>\n",
       "      <td>국제</td>\n",
       "      <td>시진 핑 중국 국가주석 오 파푸아뉴기니 열리 아시아 태평양 경제 협력체 정상 회의 ...</td>\n",
       "    </tr>\n",
       "    <tr>\n",
       "      <th>3</th>\n",
       "      <td>215899</td>\n",
       "      <td>20180723</td>\n",
       "      <td>경제,무역</td>\n",
       "      <td>이번 세이프가드는 최근 3년간 평균 수입물량으로 쿼터를 산정 후 쿼터 초과 수입물량...</td>\n",
       "      <td>경제</td>\n",
       "      <td>이번 세이프가드 최근 평균 수입 물량 쿼터 산정 후 쿼터 초과 수입 물량 대하 관세...</td>\n",
       "    </tr>\n",
       "    <tr>\n",
       "      <th>4</th>\n",
       "      <td>380078</td>\n",
       "      <td>20180902</td>\n",
       "      <td>스포츠,축구,국가대표팀</td>\n",
       "      <td>손흥민과 이승우, 황의조와 황희찬 등 해외에서 활약하는 선수들은 더 이상 병역 문제...</td>\n",
       "      <td>스포츠</td>\n",
       "      <td>손 흥 민 이승우 황의 황희찬 해외 활약 선수 더 이상 병역 문제 발목 잡히 국내 ...</td>\n",
       "    </tr>\n",
       "  </tbody>\n",
       "</table>\n",
       "</div>"
      ],
      "text/plain": [
       "       id        날짜           분류1  \\\n",
       "0  268980  20180806      경제,증권_증시   \n",
       "1  260551  20180803        국제,러시아   \n",
       "2  390392  20180903        국제,아시아   \n",
       "3  215899  20180723         경제,무역   \n",
       "4  380078  20180902  스포츠,축구,국가대표팀   \n",
       "\n",
       "                                                 텍스트 분류1_상위  \\\n",
       "0  이런 가격 조작 행위는 지난해 말 ‘코인 열풍’이 불 때부터 폭발적으로 늘어났다는 ...     경제   \n",
       "1  한 정보 소식통에 따르면 이 여성은 지난해 중순쯤 국무부로부터 비밀정보 사용 인가를...     국제   \n",
       "2  시진핑(習近平) 중국 국가주석은 오는 11월 파푸아뉴기니에서 열리는 아시아·태평양경...     국제   \n",
       "3  이번 세이프가드는 최근 3년간 평균 수입물량으로 쿼터를 산정 후 쿼터 초과 수입물량...     경제   \n",
       "4  손흥민과 이승우, 황의조와 황희찬 등 해외에서 활약하는 선수들은 더 이상 병역 문제...    스포츠   \n",
       "\n",
       "                                             morphed  \n",
       "0             이런 가격 조작 행위 지난해 말 코인 열풍 불 때 폭발적 늘어나 설명  \n",
       "1  하 정보 소식통 따르 이 여성 지난해 중순쯤 국무부 비밀 정보 사용 인가 취소 당하...  \n",
       "2  시진 핑 중국 국가주석 오 파푸아뉴기니 열리 아시아 태평양 경제 협력체 정상 회의 ...  \n",
       "3  이번 세이프가드 최근 평균 수입 물량 쿼터 산정 후 쿼터 초과 수입 물량 대하 관세...  \n",
       "4  손 흥 민 이승우 황의 황희찬 해외 활약 선수 더 이상 병역 문제 발목 잡히 국내 ...  "
      ]
     },
     "execution_count": 169,
     "metadata": {},
     "output_type": "execute_result"
    }
   ],
   "source": [
    "test_df.head()"
   ]
  },
  {
   "cell_type": "code",
   "execution_count": 170,
   "id": "a93ab362",
   "metadata": {},
   "outputs": [
    {
     "name": "stdout",
     "output_type": "stream",
     "text": [
      "['국제', '지역', '스포츠']\n",
      "['성경 난민 대하 어떻하 말 있 현 상황과 관련 난민 대하 정확 하 팩트 밝히', '충북 충주시 충주시 청 중앙 탑 회의실 어버이날 유공자 시상식 열 심영섭 효행 장한 어버이 표창장 수여', '아시안게임 대표 팀 경기 대표 팀 객관적 지표 차이 있 그때 기억 황의 조의 자신감 불태우 충분']\n",
      "--------------------------------------------------\n",
      "['경제', '국제', '국제']\n",
      "['이런 가격 조작 행위 지난해 말 코인 열풍 불 때 폭발적 늘어나 설명', '하 정보 소식통 따르 이 여성 지난해 중순쯤 국무부 비밀 정보 사용 인가 취소 당하 직후 해고 되', '시진 핑 중국 국가주석 오 파푸아뉴기니 열리 아시아 태평양 경제 협력체 정상 회의 전후 태평 도서 국 정상 회담 알리']\n"
     ]
    }
   ],
   "source": [
    "from sklearn.model_selection import train_test_split\n",
    "\n",
    "data_text = train_df.loc[:,'morphed'].to_list()\n",
    "data_label = train_df.loc[:,'분류1_상위'].to_list()\n",
    "print(data_label[:3])\n",
    "print(data_text[:3])\n",
    "\n",
    "print('-'*50)\n",
    "\n",
    "data_text_test = test_df.loc[:,'morphed'].to_list()\n",
    "data_label_test = test_df.loc[:,'분류1_상위'].to_list()\n",
    "print(data_label_test[:3])\n",
    "print(data_text_test[:3])\n",
    "\n",
    "train_data_text = data_text\n",
    "train_data_label = data_label\n",
    "test_data_text = data_text_test\n",
    "test_data_label = data_label_test\n",
    "# train_data_text, test_data_text, train_data_label, test_data_label = \\\n",
    "# train_test_split(data_text, data_label, stratify=data_label, \n",
    "#                  test_size=0.3, random_state=1111)"
   ]
  },
  {
   "cell_type": "code",
   "execution_count": 171,
   "id": "803570c3",
   "metadata": {},
   "outputs": [
    {
     "name": "stdout",
     "output_type": "stream",
     "text": [
      "6792\n",
      "2265\n"
     ]
    }
   ],
   "source": [
    "print(len(train_data_text))\n",
    "print(len(test_data_text))"
   ]
  },
  {
   "cell_type": "code",
   "execution_count": 172,
   "id": "b4714e07",
   "metadata": {},
   "outputs": [
    {
     "name": "stdout",
     "output_type": "stream",
     "text": [
      "train_data_label_freq: Counter({'지역': 2151, '스포츠': 1725, '경제': 945, '국제': 733, '사회': 639, 'IT_과학': 491, '문화': 98, '미분류': 9, '정치': 1})\n",
      "test_data_label_freq: Counter({'지역': 722, '스포츠': 540, '경제': 329, '국제': 219, '사회': 213, 'IT_과학': 203, '문화': 30, '미분류': 9})\n"
     ]
    }
   ],
   "source": [
    "from collections import Counter\n",
    "train_data_label_freq = Counter(train_data_label)\n",
    "print('train_data_label_freq:', train_data_label_freq)\n",
    "\n",
    "test_data_label_freq = Counter(test_data_label)\n",
    "print('test_data_label_freq:', test_data_label_freq)\n"
   ]
  },
  {
   "cell_type": "code",
   "execution_count": 173,
   "id": "8bc798cc",
   "metadata": {},
   "outputs": [
    {
     "name": "stdout",
     "output_type": "stream",
     "text": [
      "최소길이: 4\n",
      "최대길이: 54\n",
      "평균길이: 19.5\n",
      "중위수길이: 19.0\n",
      "percentile  : [0, 25, 50, 75, 90, 99, 100]\n",
      "구간별 최대 길이: [ 4. 16. 19. 22. 27. 35. 54.]\n",
      "최소길이 문장: 투입 예산 내년 총\n",
      "최대길이 문장: 주요 신규 사업 삼사해상공원 해 파랑 공원 파도 걷기 보행 조성 새 뜰 사업 축산 블루 시티 조성 사업 예 주 고을 역사 문화 공원 조성 사업 오십천 그린 로드 조성 영덕 도서관 건립 사업 영덕 애니메이션 테마파크 조성 사업 영덕 하 양교 션 강구면 화전 우수 저류 시설 설치 아름답 소하천 꾸 사업\n"
     ]
    }
   ],
   "source": [
    "import numpy as np\n",
    "\n",
    "text_len = [len(line.split(' ')) for line in train_data_text]\n",
    "print('최소길이:', np.min(text_len))\n",
    "print('최대길이:', np.max(text_len))\n",
    "print('평균길이:', np.round(np.mean(text_len),1))\n",
    "print('중위수길이:', np.median(text_len))\n",
    "print('percentile  : [0, 25, 50, 75, 90, 99, 100]')\n",
    "print('구간별 최대 길이:', np.percentile(text_len, [0, 25, 50, 75, 90, 99, 100]))\n",
    "print('최소길이 문장:', train_data_text[np.argmin(text_len)])\n",
    "print('최대길이 문장:', train_data_text[np.argmax(text_len)])"
   ]
  },
  {
   "cell_type": "code",
   "execution_count": 174,
   "id": "484f70a1",
   "metadata": {},
   "outputs": [],
   "source": [
    "from keras.preprocessing.text import Tokenizer\n",
    "from keras.preprocessing.sequence import pad_sequences\n",
    "import numpy as np\n",
    "import math \n",
    "\n",
    "max_words = 10000\n",
    "maxlen = 40\n",
    "\n",
    "tokenizer = Tokenizer(num_words=max_words)\n",
    "tokenizer.fit_on_texts(train_data_text)\n",
    "word_index = tokenizer.word_index"
   ]
  },
  {
   "cell_type": "code",
   "execution_count": 175,
   "id": "528689ba",
   "metadata": {},
   "outputs": [
    {
     "name": "stdout",
     "output_type": "stream",
     "text": [
      "wjscpdptj 18050개의 고유한 토큰을 찾았습니다\n",
      "word_index type: <class 'dict'>\n"
     ]
    }
   ],
   "source": [
    "print('wjscpdptj %s개의 고유한 토큰을 찾았습니다' % len(word_index))\n",
    "print('word_index type:', type(word_index))\n",
    "# print('word_index:', word_index)"
   ]
  },
  {
   "cell_type": "code",
   "execution_count": 176,
   "id": "9dc2e6ab",
   "metadata": {},
   "outputs": [
    {
     "name": "stdout",
     "output_type": "stream",
     "text": [
      "최대 문장 길이: 49\n",
      "최소 문장 길이: 4\n"
     ]
    }
   ],
   "source": [
    "seq_data = tokenizer.texts_to_sequences(train_data_text)\n",
    "# print('data', data)\n",
    "\n",
    "len_d = [len(d) for d in seq_data]\n",
    "# print('길이:', len_d)\n",
    "print('최대 문장 길이:', max(len_d))\n",
    "print('최소 문장 길이:', min(len_d))"
   ]
  },
  {
   "cell_type": "code",
   "execution_count": 177,
   "id": "2bfa7134",
   "metadata": {},
   "outputs": [
    {
     "name": "stdout",
     "output_type": "stream",
     "text": [
      "data: [[   0    0    0 ...    1 7165   18]\n",
      " [   0    0    0 ... 7168 7169 2108]\n",
      " [   0    0    0 ... 3970 4700 1797]\n",
      " ...\n",
      " [   0    0    0 ... 9362 5861   18]\n",
      " [   0    0    0 ... 1042 1564   13]\n",
      " [   0    0    0 ... 9916 3268  362]]\n",
      "data 0: [   0    0    0    0    0    0    0    0    0    0    0    0    0    0\n",
      "    0    0    0    0    0    0    0    0    0    0    0 2300  677   10\n",
      " 2301  220    3  790 4698   76  677   10 1389    1 7165   18]\n",
      "data 0의 길이: 40\n"
     ]
    }
   ],
   "source": [
    "pad_data = pad_sequences(seq_data, maxlen=maxlen)\n",
    "\n",
    "print('data:', pad_data)\n",
    "print('data 0:', pad_data[0])\n",
    "print('data 0의 길이:', len(pad_data[0]))"
   ]
  },
  {
   "cell_type": "code",
   "execution_count": 178,
   "id": "95c48fde",
   "metadata": {},
   "outputs": [
    {
     "name": "stdout",
     "output_type": "stream",
     "text": [
      "train_data_text type: <class 'list'>\n",
      "data type: <class 'numpy.ndarray'>\n",
      "train_data_text 0: 성경 난민 대하 어떻하 말 있 현 상황과 관련 난민 대하 정확 하 팩트 밝히\n",
      "data 0: [   0    0    0    0    0    0    0    0    0    0    0    0    0    0\n",
      "    0    0    0    0    0    0    0    0    0    0    0 2300  677   10\n",
      " 2301  220    3  790 4698   76  677   10 1389    1 7165   18]\n"
     ]
    }
   ],
   "source": [
    "print('train_data_text type:', type(train_data_text))\n",
    "print('data type:', type(pad_data))\n",
    "print('train_data_text 0:', train_data_text[0])\n",
    "print('data 0:', pad_data[0])"
   ]
  },
  {
   "cell_type": "code",
   "execution_count": 179,
   "id": "10fac27a",
   "metadata": {},
   "outputs": [],
   "source": [
    "def to_one_hot(sequences, dimension):\n",
    "    results = np.zeros((len(sequences), dimension))\n",
    "    for i, sequence in enumerate(sequences):\n",
    "        results[i, sequence] = 1.\n",
    "    return results\n",
    "\n",
    "# x_train = to_one_hot(pad_data, dimension=max_words)\n",
    "x_train = pad_data"
   ]
  },
  {
   "cell_type": "code",
   "execution_count": 180,
   "id": "c91c6aa7",
   "metadata": {},
   "outputs": [],
   "source": [
    "# print('train_data_text type:', type(train_data_text))\n",
    "# print(len(train_data_text[0]))\n",
    "# print('texts 0:', train_data_text[0])\n",
    "\n",
    "# print('data type:', type(x_train))\n",
    "# print(len(x_train[0]))\n",
    "# print('x_train [0][0:100]:', x_train[0][:100])"
   ]
  },
  {
   "cell_type": "code",
   "execution_count": 181,
   "id": "aa0844d4",
   "metadata": {},
   "outputs": [
    {
     "name": "stdout",
     "output_type": "stream",
     "text": [
      "['IT_과학' '경제' '국제' '문화' '미분류' '사회' '스포츠' '정치' '지역']\n"
     ]
    }
   ],
   "source": [
    "from sklearn.preprocessing import LabelEncoder\n",
    "le = LabelEncoder()\n",
    "le.fit(train_data_label)\n",
    "print(le.classes_)\n",
    "train_data_label = le.transform(train_data_label)"
   ]
  },
  {
   "cell_type": "code",
   "execution_count": 182,
   "id": "0385ae6b",
   "metadata": {},
   "outputs": [],
   "source": [
    "test_data_label = le.transform(test_data_label)"
   ]
  },
  {
   "cell_type": "code",
   "execution_count": 183,
   "id": "654482fe",
   "metadata": {},
   "outputs": [
    {
     "name": "stdout",
     "output_type": "stream",
     "text": [
      "[[0. 0. 1. ... 0. 0. 0.]\n",
      " [0. 0. 0. ... 0. 0. 1.]\n",
      " [0. 0. 0. ... 1. 0. 0.]\n",
      " ...\n",
      " [0. 0. 0. ... 1. 0. 0.]\n",
      " [0. 1. 0. ... 0. 0. 0.]\n",
      " [0. 0. 0. ... 0. 0. 1.]]\n"
     ]
    }
   ],
   "source": [
    "class_number = len(le.classes_)\n",
    "y_train = to_one_hot(train_data_label, dimension=class_number)\n",
    "print(y_train)"
   ]
  },
  {
   "cell_type": "code",
   "execution_count": 184,
   "id": "ede579f5",
   "metadata": {},
   "outputs": [
    {
     "name": "stdout",
     "output_type": "stream",
     "text": [
      "[[0. 1. 0. ... 0. 0. 0.]\n",
      " [0. 0. 1. ... 0. 0. 0.]\n",
      " [0. 0. 1. ... 0. 0. 0.]\n",
      " ...\n",
      " [0. 0. 1. ... 0. 0. 0.]\n",
      " [0. 1. 0. ... 0. 0. 0.]\n",
      " [0. 0. 1. ... 0. 0. 0.]]\n"
     ]
    }
   ],
   "source": [
    "data_test = tokenizer.texts_to_sequences(test_data_text)\n",
    "\n",
    "data_test = pad_sequences(data_test, maxlen=maxlen)\n",
    "\n",
    "x_test = data_test\n",
    "\n",
    "y_test = to_one_hot(test_data_label, dimension=class_number)\n",
    "print(y_test)"
   ]
  },
  {
   "cell_type": "code",
   "execution_count": 185,
   "id": "f7d178b4",
   "metadata": {},
   "outputs": [
    {
     "name": "stdout",
     "output_type": "stream",
     "text": [
      "훈련 데이터 본문 텐서의 크기: (6792, 40)\n",
      "훈련 데이터 레이블 텐서의 크기: (6792, 9)\n",
      "테스트 데이터 본문 텐서의 크기: (2265, 40)\n",
      "테스트 데이터 레이블 텐서의 크기: (2265, 9)\n"
     ]
    }
   ],
   "source": [
    "print('훈련 데이터 본문 텐서의 크기:', x_train.shape)\n",
    "print('훈련 데이터 레이블 텐서의 크기:', y_train.shape)\n",
    "\n",
    "print('테스트 데이터 본문 텐서의 크기:', x_test.shape)\n",
    "print('테스트 데이터 레이블 텐서의 크기:', y_test.shape)"
   ]
  },
  {
   "cell_type": "code",
   "execution_count": 186,
   "id": "1a0d63a4",
   "metadata": {},
   "outputs": [
    {
     "data": {
      "text/plain": [
       "(6792, 9)"
      ]
     },
     "execution_count": 186,
     "metadata": {},
     "output_type": "execute_result"
    }
   ],
   "source": [
    "y_train.shape"
   ]
  },
  {
   "cell_type": "code",
   "execution_count": 187,
   "id": "d033e364",
   "metadata": {},
   "outputs": [
    {
     "name": "stdout",
     "output_type": "stream",
     "text": [
      "/Users/jsha/gjai/nlp/pytest/17_practice\r\n"
     ]
    }
   ],
   "source": [
    "!pwd"
   ]
  },
  {
   "cell_type": "code",
   "execution_count": 188,
   "id": "24e50434",
   "metadata": {},
   "outputs": [],
   "source": [
    "import os\n",
    "\n",
    "class_number = y_train.shape[-1]\n",
    "epochs = 10\n",
    "batch_size = 50\n",
    "embedding_dim = 200\n",
    "model_name = '분류1_we_dropout_model.h5'\n",
    "tokenizer_name = '분류1_we_dropout_token.pickle'\n",
    "labelencode_name = '분류1_we_dropout_le.pickle'\n",
    "\n",
    "# working_path = '/Users/jsha/gjai/nlp/pytest/15_working/'\n",
    "# save_path = working_path + 'practice/'\n",
    "# if not os.path.exists(save_path):\n",
    "#     os.mkdir(save_path)\n",
    "#     print(f'made {save_path} directory')\n",
    "# os.chdir(save_path)"
   ]
  },
  {
   "cell_type": "code",
   "execution_count": 189,
   "id": "dacfa7f8",
   "metadata": {},
   "outputs": [
    {
     "name": "stdout",
     "output_type": "stream",
     "text": [
      "Model: \"sequential_8\"\n",
      "_________________________________________________________________\n",
      "Layer (type)                 Output Shape              Param #   \n",
      "=================================================================\n",
      "embedding_8 (Embedding)      (None, 40, 200)           2000000   \n",
      "_________________________________________________________________\n",
      "flatten_2 (Flatten)          (None, 8000)              0         \n",
      "_________________________________________________________________\n",
      "dropout_9 (Dropout)          (None, 8000)              0         \n",
      "_________________________________________________________________\n",
      "dense_19 (Dense)             (None, 64)                512064    \n",
      "_________________________________________________________________\n",
      "dense_20 (Dense)             (None, 32)                2080      \n",
      "_________________________________________________________________\n",
      "dropout_10 (Dropout)         (None, 32)                0         \n",
      "_________________________________________________________________\n",
      "dense_21 (Dense)             (None, 9)                 297       \n",
      "=================================================================\n",
      "Total params: 2,514,441\n",
      "Trainable params: 2,514,441\n",
      "Non-trainable params: 0\n",
      "_________________________________________________________________\n"
     ]
    }
   ],
   "source": [
    "from keras.models import Sequential\n",
    "from keras.layers import Dense, Dropout\n",
    "from keras import layers\n",
    "from keras import regularizers\n",
    "\n",
    "model = Sequential()\n",
    "\n",
    "model.add(layers.Embedding(input_dim=max_words, output_dim=embedding_dim, \n",
    "                          input_length=maxlen))\n",
    "\n",
    "model.add(layers.Flatten())\n",
    "model.add(Dropout(0.5))\n",
    "\n",
    "model.add(Dense(64, activation='relu', input_shape=(max_words,)))\n",
    "model.add(Dense(units=32, activation='relu'))\n",
    "model.add(Dropout(0.5))\n",
    "model.add(Dense(units=class_number, activation='softmax'))\n",
    "\n",
    "model.summary()"
   ]
  },
  {
   "cell_type": "code",
   "execution_count": 190,
   "id": "cff71b5c",
   "metadata": {},
   "outputs": [
    {
     "name": "stdout",
     "output_type": "stream",
     "text": [
      "/Users/jsha/gjai/nlp/pytest/17_practice/ --- Folder already exists\n",
      "\n"
     ]
    }
   ],
   "source": [
    "from keras.callbacks import EarlyStopping\n",
    "import os\n",
    "\n",
    "checkpoint_path = working_path\n",
    "# checkpoint_dir = os.path.dirname(checkpoint_path)\n",
    "if os.path.exists(checkpoint_path):\n",
    "    print('{} --- Folder already exists\\n'.format(checkpoint_path))\n",
    "else:\n",
    "    os.makedirs(checkpoint_path, exist_ok=True)\n",
    "    print('{} --- Folder created\\n'.format(checkpoint_path))"
   ]
  },
  {
   "cell_type": "code",
   "execution_count": 191,
   "id": "a4650483",
   "metadata": {},
   "outputs": [],
   "source": [
    "model.compile(optimizer='rmsprop', loss='categorical_crossentropy',\n",
    "             metrics=['acc'])"
   ]
  },
  {
   "cell_type": "code",
   "execution_count": 192,
   "id": "d249eb3e",
   "metadata": {},
   "outputs": [
    {
     "name": "stderr",
     "output_type": "stream",
     "text": [
      "/Users/jsha/opt/anaconda3/envs/nlp3710/lib/python3.7/site-packages/tensorflow_core/python/framework/indexed_slices.py:424: UserWarning: Converting sparse IndexedSlices to a dense Tensor of unknown shape. This may consume a large amount of memory.\n",
      "  \"Converting sparse IndexedSlices to a dense Tensor of unknown shape. \"\n"
     ]
    },
    {
     "name": "stdout",
     "output_type": "stream",
     "text": [
      "Train on 4754 samples, validate on 2038 samples\n",
      "Epoch 1/10\n",
      "4754/4754 [==============================] - 5s 1ms/step - loss: 1.8377 - acc: 0.2989 - val_loss: 1.7340 - val_acc: 0.3440\n",
      "\n",
      "Epoch 00001: val_acc improved from -inf to 0.34396, saving model to /Users/jsha/gjai/nlp/pytest/17_practice/분류1_we_dropout_model.h5\n",
      "Epoch 2/10\n",
      "4754/4754 [==============================] - 5s 1ms/step - loss: 1.5335 - acc: 0.4781 - val_loss: 1.3767 - val_acc: 0.5010\n",
      "\n",
      "Epoch 00002: val_acc improved from 0.34396 to 0.50098, saving model to /Users/jsha/gjai/nlp/pytest/17_practice/분류1_we_dropout_model.h5\n",
      "Epoch 3/10\n",
      "4754/4754 [==============================] - 5s 1ms/step - loss: 1.1216 - acc: 0.5915 - val_loss: 1.1456 - val_acc: 0.5913\n",
      "\n",
      "Epoch 00003: val_acc improved from 0.50098 to 0.59127, saving model to /Users/jsha/gjai/nlp/pytest/17_practice/분류1_we_dropout_model.h5\n",
      "Epoch 4/10\n",
      "4754/4754 [==============================] - 5s 1ms/step - loss: 0.8385 - acc: 0.7097 - val_loss: 1.0826 - val_acc: 0.6389\n",
      "\n",
      "Epoch 00004: val_acc improved from 0.59127 to 0.63886, saving model to /Users/jsha/gjai/nlp/pytest/17_practice/분류1_we_dropout_model.h5\n",
      "Epoch 5/10\n",
      "4754/4754 [==============================] - 5s 1ms/step - loss: 0.6063 - acc: 0.7930 - val_loss: 1.0781 - val_acc: 0.6580\n",
      "\n",
      "Epoch 00005: val_acc improved from 0.63886 to 0.65800, saving model to /Users/jsha/gjai/nlp/pytest/17_practice/분류1_we_dropout_model.h5\n",
      "Epoch 6/10\n",
      "4754/4754 [==============================] - 5s 1ms/step - loss: 0.4246 - acc: 0.8652 - val_loss: 1.1729 - val_acc: 0.6565\n",
      "\n",
      "Epoch 00006: val_acc did not improve from 0.65800\n",
      "Epoch 7/10\n",
      "4754/4754 [==============================] - 5s 1ms/step - loss: 0.2786 - acc: 0.9180 - val_loss: 1.2743 - val_acc: 0.6762\n",
      "\n",
      "Epoch 00007: val_acc improved from 0.65800 to 0.67615, saving model to /Users/jsha/gjai/nlp/pytest/17_practice/분류1_we_dropout_model.h5\n",
      "Epoch 8/10\n",
      "4754/4754 [==============================] - 5s 1ms/step - loss: 0.2069 - acc: 0.9369 - val_loss: 1.3747 - val_acc: 0.6786\n",
      "\n",
      "Epoch 00008: val_acc improved from 0.67615 to 0.67861, saving model to /Users/jsha/gjai/nlp/pytest/17_practice/분류1_we_dropout_model.h5\n",
      "Epoch 9/10\n",
      "4754/4754 [==============================] - 5s 1ms/step - loss: 0.1538 - acc: 0.9535 - val_loss: 1.3981 - val_acc: 0.6766\n",
      "\n",
      "Epoch 00009: val_acc did not improve from 0.67861\n",
      "Epoch 10/10\n",
      "4754/4754 [==============================] - 5s 1ms/step - loss: 0.1206 - acc: 0.9621 - val_loss: 1.5184 - val_acc: 0.6796\n",
      "\n",
      "Epoch 00010: val_acc improved from 0.67861 to 0.67959, saving model to /Users/jsha/gjai/nlp/pytest/17_practice/분류1_we_dropout_model.h5\n"
     ]
    }
   ],
   "source": [
    "from keras.callbacks import ModelCheckpoint\n",
    "\n",
    "earlystop_callback = EarlyStopping(monitor='val_acc', patience=2)\n",
    "cp_callback = ModelCheckpoint(filepath=checkpoint_path+model_name,\n",
    "                             monitor='val_acc', verbose=1, \n",
    "                             save_best_only=True)\n",
    "history = model.fit(x_train, y_train, epochs=epochs,\n",
    "                   batch_size=batch_size, validation_split=0.3,\n",
    "                   callbacks=[earlystop_callback, cp_callback], verbose=1)\n",
    "history_dict = history.history"
   ]
  },
  {
   "cell_type": "code",
   "execution_count": 193,
   "id": "8271d3f1",
   "metadata": {},
   "outputs": [],
   "source": [
    "import pickle\n",
    "\n",
    "# model.save(model_name)\n",
    "\n",
    "with open(checkpoint_path+tokenizer_name, 'wb') as file:\n",
    "    pickle.dump(tokenizer, file, protocol=pickle.HIGHEST_PROTOCOL)\n",
    "    \n",
    "with open(checkpoint_path+labelencode_name, 'wb') as file:\n",
    "    pickle.dump(le, file, protocol=pickle.HIGHEST_PROTOCOL)\n",
    "    "
   ]
  },
  {
   "cell_type": "code",
   "execution_count": 194,
   "id": "f763f1c9",
   "metadata": {},
   "outputs": [
    {
     "name": "stdout",
     "output_type": "stream",
     "text": [
      "validation accuracy of each epoch: [0.344 0.501 0.591 0.639 0.658 0.657 0.676 0.679 0.677 0.68 ]\n"
     ]
    }
   ],
   "source": [
    "acc = history.history['acc']\n",
    "val_acc = history.history['val_acc']\n",
    "loss = history.history['loss']\n",
    "val_loss = history.history['val_loss']\n",
    "\n",
    "print('validation accuracy of each epoch:', np.round(val_acc,3))\n",
    "epochs = range(1, len(val_acc)+1)"
   ]
  },
  {
   "cell_type": "code",
   "execution_count": 195,
   "id": "9c06e2a9",
   "metadata": {},
   "outputs": [
    {
     "data": {
      "image/png": "[encoded data removed]",
      "text/plain": [
       "<Figure size 432x288 with 1 Axes>"
      ]
     },
     "metadata": {
      "needs_background": "light"
     },
     "output_type": "display_data"
    }
   ],
   "source": [
    "import matplotlib.pyplot as plt\n",
    "\n",
    "plt.plot(epochs, acc, 'bo', label='Training Acc')\n",
    "plt.plot(epochs, val_acc, 'r', label='Validation Acc')\n",
    "plt.title('Training and Validation Accuracy')\n",
    "plt.legend(loc=4)\n",
    "plt.show()"
   ]
  },
  {
   "cell_type": "code",
   "execution_count": 196,
   "id": "7b30d7ac",
   "metadata": {
    "scrolled": false
   },
   "outputs": [
    {
     "data": {
      "image/png": "[encoded data removed]",
      "text/plain": [
       "<Figure size 432x288 with 1 Axes>"
      ]
     },
     "metadata": {
      "needs_background": "light"
     },
     "output_type": "display_data"
    }
   ],
   "source": [
    "plt.plot(epochs, loss, 'bo', label='Training Loss')\n",
    "plt.plot(epochs, val_loss, 'r', label='Validation Loss')\n",
    "plt.title('Training and Validation loss')\n",
    "plt.legend(loc=1)\n",
    "plt.show()"
   ]
  },
  {
   "cell_type": "code",
   "execution_count": 197,
   "id": "46329bc0",
   "metadata": {},
   "outputs": [
    {
     "name": "stderr",
     "output_type": "stream",
     "text": [
      "/Users/jsha/opt/anaconda3/envs/nlp3710/lib/python3.7/site-packages/tensorflow_core/python/framework/indexed_slices.py:424: UserWarning: Converting sparse IndexedSlices to a dense Tensor of unknown shape. This may consume a large amount of memory.\n",
      "  \"Converting sparse IndexedSlices to a dense Tensor of unknown shape. \"\n"
     ]
    }
   ],
   "source": [
    "from keras.models import load_model\n",
    "\n",
    "loaded_model = load_model(checkpoint_path+model_name)\n",
    "\n",
    "with open(checkpoint_path+tokenizer_name, 'rb') as handle:\n",
    "    loaded_tokenizer = pickle.load(handle)"
   ]
  },
  {
   "cell_type": "markdown",
   "id": "dbfa3525",
   "metadata": {},
   "source": [
    "### 결과"
   ]
  },
  {
   "cell_type": "code",
   "execution_count": 198,
   "id": "dbec9033",
   "metadata": {},
   "outputs": [
    {
     "name": "stdout",
     "output_type": "stream",
     "text": [
      "2265/2265 [==============================] - 0s 149us/step\n",
      "분류1 word_embedding+Dropout prediction\n",
      "prediction model loss & acc: [1.3948551461133474, 0.701545238494873]\n"
     ]
    }
   ],
   "source": [
    "test_eval = loaded_model.evaluate(x_test, y_test)\n",
    "\n",
    "print('분류1 word_embedding+Dropout prediction')\n",
    "print('prediction model loss & acc:', test_eval)"
   ]
  },
  {
   "cell_type": "code",
   "execution_count": null,
   "id": "1d695879",
   "metadata": {},
   "outputs": [],
   "source": []
  },
  {
   "cell_type": "markdown",
   "id": "687f894f",
   "metadata": {},
   "source": [
    "## 분류2"
   ]
  },
  {
   "cell_type": "code",
   "execution_count": 200,
   "id": "f2a49ce9",
   "metadata": {},
   "outputs": [],
   "source": [
    "import pandas as pd\n",
    "from matplotlib import rc\n",
    "\n",
    "rc('font', family='AppleGothic')\n",
    "\n",
    "data_path = '/Users/jsha/gjai/nlp/pytest/16_practice/'\n",
    "filename1 = '분류2_뉴스데이터_morphed_train.csv'\n",
    "filename2 = '분류2_뉴스데이터_morphed_test.csv'\n",
    "\n",
    "train_df = pd.read_csv(data_path+filename1)\n",
    "test_df = pd.read_csv(data_path+filename2)"
   ]
  },
  {
   "cell_type": "code",
   "execution_count": 201,
   "id": "7fcc5b5f",
   "metadata": {},
   "outputs": [
    {
     "data": {
      "text/html": [
       "<div>\n",
       "<style scoped>\n",
       "    .dataframe tbody tr th:only-of-type {\n",
       "        vertical-align: middle;\n",
       "    }\n",
       "\n",
       "    .dataframe tbody tr th {\n",
       "        vertical-align: top;\n",
       "    }\n",
       "\n",
       "    .dataframe thead th {\n",
       "        text-align: right;\n",
       "    }\n",
       "</style>\n",
       "<table border=\"1\" class=\"dataframe\">\n",
       "  <thead>\n",
       "    <tr style=\"text-align: right;\">\n",
       "      <th></th>\n",
       "      <th>id</th>\n",
       "      <th>날짜</th>\n",
       "      <th>분류2</th>\n",
       "      <th>텍스트</th>\n",
       "      <th>분류2_상위</th>\n",
       "      <th>morphed</th>\n",
       "    </tr>\n",
       "  </thead>\n",
       "  <tbody>\n",
       "    <tr>\n",
       "      <th>0</th>\n",
       "      <td>1319794</td>\n",
       "      <td>20190412</td>\n",
       "      <td>문화,출판</td>\n",
       "      <td>이들은 성경이 난민에 대해 어떻게 말하고 있으며, 현 상황과 관련해 난민에 대한 정...</td>\n",
       "      <td>문화</td>\n",
       "      <td>성경 난민 대하 어떻하 말 있 현 상황과 관련 난민 대하 정확 하 팩트 밝히</td>\n",
       "    </tr>\n",
       "    <tr>\n",
       "      <th>1</th>\n",
       "      <td>1410943</td>\n",
       "      <td>20190503</td>\n",
       "      <td>사회,사회일반</td>\n",
       "      <td>충북 충주시는 3일 충주시청 중앙탑회의실에서 제47회 어버이날 유공자 시상식을 열고...</td>\n",
       "      <td>사회</td>\n",
       "      <td>충북 충주시 충주시 청 중앙 탑 회의실 어버이날 유공자 시상식 열 심영섭 효행 장한...</td>\n",
       "    </tr>\n",
       "    <tr>\n",
       "      <th>2</th>\n",
       "      <td>972814</td>\n",
       "      <td>20190122</td>\n",
       "      <td>스포츠,축구,한국프로축구</td>\n",
       "      <td>아시안게임이 U-23 대표팀 경기로 A 대표팀과는 객관적 지표에서 차이가 있지만, ...</td>\n",
       "      <td>스포츠</td>\n",
       "      <td>아시안게임 대표 팀 경기 대표 팀 객관적 지표 차이 있 그때 기억 황의 조의 자신감...</td>\n",
       "    </tr>\n",
       "    <tr>\n",
       "      <th>3</th>\n",
       "      <td>359452</td>\n",
       "      <td>20180828</td>\n",
       "      <td>IT_과학,과학</td>\n",
       "      <td>신기술전시회 280개 기업, 국제발명특허대전 160개 발명품, 국제컨퍼런스 40개 ...</td>\n",
       "      <td>IT_과학</td>\n",
       "      <td>신기술 전시회 기업 국제 발명 특허 대전 발명품 국제 컨퍼런스 세션 꾸미 명 관람객...</td>\n",
       "    </tr>\n",
       "    <tr>\n",
       "      <th>4</th>\n",
       "      <td>310019</td>\n",
       "      <td>20180816</td>\n",
       "      <td>스포츠,축구,해외축구</td>\n",
       "      <td>손흥민은 이미 지난 2018 러시아 월드컵 조벌예선 전 경기에 출전했을 뿐더러 토트...</td>\n",
       "      <td>스포츠</td>\n",
       "      <td>손 흥 민 이미 지나 러시아 월드컵 벌 예선 전 경기 출전 토트 넘 미국 프리 시즌...</td>\n",
       "    </tr>\n",
       "  </tbody>\n",
       "</table>\n",
       "</div>"
      ],
      "text/plain": [
       "        id        날짜            분류2  \\\n",
       "0  1319794  20190412          문화,출판   \n",
       "1  1410943  20190503        사회,사회일반   \n",
       "2   972814  20190122  스포츠,축구,한국프로축구   \n",
       "3   359452  20180828       IT_과학,과학   \n",
       "4   310019  20180816    스포츠,축구,해외축구   \n",
       "\n",
       "                                                 텍스트 분류2_상위  \\\n",
       "0  이들은 성경이 난민에 대해 어떻게 말하고 있으며, 현 상황과 관련해 난민에 대한 정...     문화   \n",
       "1  충북 충주시는 3일 충주시청 중앙탑회의실에서 제47회 어버이날 유공자 시상식을 열고...     사회   \n",
       "2  아시안게임이 U-23 대표팀 경기로 A 대표팀과는 객관적 지표에서 차이가 있지만, ...    스포츠   \n",
       "3  신기술전시회 280개 기업, 국제발명특허대전 160개 발명품, 국제컨퍼런스 40개 ...  IT_과학   \n",
       "4  손흥민은 이미 지난 2018 러시아 월드컵 조벌예선 전 경기에 출전했을 뿐더러 토트...    스포츠   \n",
       "\n",
       "                                             morphed  \n",
       "0         성경 난민 대하 어떻하 말 있 현 상황과 관련 난민 대하 정확 하 팩트 밝히  \n",
       "1  충북 충주시 충주시 청 중앙 탑 회의실 어버이날 유공자 시상식 열 심영섭 효행 장한...  \n",
       "2  아시안게임 대표 팀 경기 대표 팀 객관적 지표 차이 있 그때 기억 황의 조의 자신감...  \n",
       "3  신기술 전시회 기업 국제 발명 특허 대전 발명품 국제 컨퍼런스 세션 꾸미 명 관람객...  \n",
       "4  손 흥 민 이미 지나 러시아 월드컵 벌 예선 전 경기 출전 토트 넘 미국 프리 시즌...  "
      ]
     },
     "execution_count": 201,
     "metadata": {},
     "output_type": "execute_result"
    }
   ],
   "source": [
    "# train_df.head()\n",
    "# train_df['morphed'] = morphed_data\n",
    "train_df.head()"
   ]
  },
  {
   "cell_type": "code",
   "execution_count": 202,
   "id": "b839d19c",
   "metadata": {},
   "outputs": [
    {
     "data": {
      "text/html": [
       "<div>\n",
       "<style scoped>\n",
       "    .dataframe tbody tr th:only-of-type {\n",
       "        vertical-align: middle;\n",
       "    }\n",
       "\n",
       "    .dataframe tbody tr th {\n",
       "        vertical-align: top;\n",
       "    }\n",
       "\n",
       "    .dataframe thead th {\n",
       "        text-align: right;\n",
       "    }\n",
       "</style>\n",
       "<table border=\"1\" class=\"dataframe\">\n",
       "  <thead>\n",
       "    <tr style=\"text-align: right;\">\n",
       "      <th></th>\n",
       "      <th>id</th>\n",
       "      <th>날짜</th>\n",
       "      <th>분류2</th>\n",
       "      <th>텍스트</th>\n",
       "      <th>분류2_상위</th>\n",
       "      <th>morphed</th>\n",
       "    </tr>\n",
       "  </thead>\n",
       "  <tbody>\n",
       "    <tr>\n",
       "      <th>0</th>\n",
       "      <td>268980</td>\n",
       "      <td>20180806</td>\n",
       "      <td>경제,국제경제</td>\n",
       "      <td>이런 가격 조작 행위는 지난해 말 ‘코인 열풍’이 불 때부터 폭발적으로 늘어났다는 ...</td>\n",
       "      <td>경제</td>\n",
       "      <td>이런 가격 조작 행위 지난해 말 코인 열풍 불 때 폭발적 늘어나 설명</td>\n",
       "    </tr>\n",
       "    <tr>\n",
       "      <th>1</th>\n",
       "      <td>260551</td>\n",
       "      <td>20180803</td>\n",
       "      <td>국제,미국_북미</td>\n",
       "      <td>한 정보 소식통에 따르면 이 여성은 지난해 중순쯤 국무부로부터 비밀정보 사용 인가를...</td>\n",
       "      <td>국제</td>\n",
       "      <td>하 정보 소식통 따르 이 여성 지난해 중순쯤 국무부 비밀 정보 사용 인가 취소 당하...</td>\n",
       "    </tr>\n",
       "    <tr>\n",
       "      <th>2</th>\n",
       "      <td>390392</td>\n",
       "      <td>20180903</td>\n",
       "      <td>국제,중국</td>\n",
       "      <td>시진핑(習近平) 중국 국가주석은 오는 11월 파푸아뉴기니에서 열리는 아시아·태평양경...</td>\n",
       "      <td>국제</td>\n",
       "      <td>시진 핑 중국 국가주석 오 파푸아뉴기니 열리 아시아 태평양 경제 협력체 정상 회의 ...</td>\n",
       "    </tr>\n",
       "    <tr>\n",
       "      <th>3</th>\n",
       "      <td>215899</td>\n",
       "      <td>20180723</td>\n",
       "      <td>경제,산업_기업</td>\n",
       "      <td>이번 세이프가드는 최근 3년간 평균 수입물량으로 쿼터를 산정 후 쿼터 초과 수입물량...</td>\n",
       "      <td>경제</td>\n",
       "      <td>이번 세이프가드 최근 평균 수입 물량 쿼터 산정 후 쿼터 초과 수입 물량 대하 관세...</td>\n",
       "    </tr>\n",
       "    <tr>\n",
       "      <th>4</th>\n",
       "      <td>380078</td>\n",
       "      <td>20180902</td>\n",
       "      <td>스포츠,축구,해외축구</td>\n",
       "      <td>손흥민과 이승우, 황의조와 황희찬 등 해외에서 활약하는 선수들은 더 이상 병역 문제...</td>\n",
       "      <td>스포츠</td>\n",
       "      <td>손 흥 민 이승우 황의 황희찬 해외 활약 선수 더 이상 병역 문제 발목 잡히 국내 ...</td>\n",
       "    </tr>\n",
       "  </tbody>\n",
       "</table>\n",
       "</div>"
      ],
      "text/plain": [
       "       id        날짜          분류2  \\\n",
       "0  268980  20180806      경제,국제경제   \n",
       "1  260551  20180803     국제,미국_북미   \n",
       "2  390392  20180903        국제,중국   \n",
       "3  215899  20180723     경제,산업_기업   \n",
       "4  380078  20180902  스포츠,축구,해외축구   \n",
       "\n",
       "                                                 텍스트 분류2_상위  \\\n",
       "0  이런 가격 조작 행위는 지난해 말 ‘코인 열풍’이 불 때부터 폭발적으로 늘어났다는 ...     경제   \n",
       "1  한 정보 소식통에 따르면 이 여성은 지난해 중순쯤 국무부로부터 비밀정보 사용 인가를...     국제   \n",
       "2  시진핑(習近平) 중국 국가주석은 오는 11월 파푸아뉴기니에서 열리는 아시아·태평양경...     국제   \n",
       "3  이번 세이프가드는 최근 3년간 평균 수입물량으로 쿼터를 산정 후 쿼터 초과 수입물량...     경제   \n",
       "4  손흥민과 이승우, 황의조와 황희찬 등 해외에서 활약하는 선수들은 더 이상 병역 문제...    스포츠   \n",
       "\n",
       "                                             morphed  \n",
       "0             이런 가격 조작 행위 지난해 말 코인 열풍 불 때 폭발적 늘어나 설명  \n",
       "1  하 정보 소식통 따르 이 여성 지난해 중순쯤 국무부 비밀 정보 사용 인가 취소 당하...  \n",
       "2  시진 핑 중국 국가주석 오 파푸아뉴기니 열리 아시아 태평양 경제 협력체 정상 회의 ...  \n",
       "3  이번 세이프가드 최근 평균 수입 물량 쿼터 산정 후 쿼터 초과 수입 물량 대하 관세...  \n",
       "4  손 흥 민 이승우 황의 황희찬 해외 활약 선수 더 이상 병역 문제 발목 잡히 국내 ...  "
      ]
     },
     "execution_count": 202,
     "metadata": {},
     "output_type": "execute_result"
    }
   ],
   "source": [
    "test_df.head()"
   ]
  },
  {
   "cell_type": "code",
   "execution_count": 203,
   "id": "ce456b78",
   "metadata": {},
   "outputs": [
    {
     "name": "stdout",
     "output_type": "stream",
     "text": [
      "['문화', '사회', '스포츠']\n",
      "['성경 난민 대하 어떻하 말 있 현 상황과 관련 난민 대하 정확 하 팩트 밝히', '충북 충주시 충주시 청 중앙 탑 회의실 어버이날 유공자 시상식 열 심영섭 효행 장한 어버이 표창장 수여', '아시안게임 대표 팀 경기 대표 팀 객관적 지표 차이 있 그때 기억 황의 조의 자신감 불태우 충분']\n",
      "--------------------------------------------------\n",
      "['경제', '국제', '국제']\n",
      "['이런 가격 조작 행위 지난해 말 코인 열풍 불 때 폭발적 늘어나 설명', '하 정보 소식통 따르 이 여성 지난해 중순쯤 국무부 비밀 정보 사용 인가 취소 당하 직후 해고 되', '시진 핑 중국 국가주석 오 파푸아뉴기니 열리 아시아 태평양 경제 협력체 정상 회의 전후 태평 도서 국 정상 회담 알리']\n"
     ]
    }
   ],
   "source": [
    "from sklearn.model_selection import train_test_split\n",
    "\n",
    "data_text = train_df.loc[:,'morphed'].to_list()\n",
    "data_label = train_df.loc[:,'분류2_상위'].to_list()\n",
    "print(data_label[:3])\n",
    "print(data_text[:3])\n",
    "\n",
    "print('-'*50)\n",
    "\n",
    "data_text_test = test_df.loc[:,'morphed'].to_list()\n",
    "data_label_test = test_df.loc[:,'분류2_상위'].to_list()\n",
    "print(data_label_test[:3])\n",
    "print(data_text_test[:3])\n",
    "\n",
    "train_data_text = data_text\n",
    "train_data_label = data_label\n",
    "test_data_text = data_text_test\n",
    "test_data_label = data_label_test\n",
    "# train_data_text, test_data_text, train_data_label, test_data_label = \\\n",
    "# train_test_split(data_text, data_label, stratify=data_label, \n",
    "#                  test_size=0.3, random_state=1111)"
   ]
  },
  {
   "cell_type": "code",
   "execution_count": 204,
   "id": "50eb154a",
   "metadata": {},
   "outputs": [
    {
     "name": "stdout",
     "output_type": "stream",
     "text": [
      "4730\n",
      "1593\n"
     ]
    }
   ],
   "source": [
    "print(len(train_data_text))\n",
    "print(len(test_data_text))"
   ]
  },
  {
   "cell_type": "code",
   "execution_count": 205,
   "id": "b1099d59",
   "metadata": {},
   "outputs": [
    {
     "name": "stdout",
     "output_type": "stream",
     "text": [
      "train_data_label_freq: Counter({'지역': 1047, '경제': 936, '스포츠': 910, '사회': 473, '국제': 466, '문화': 463, 'IT_과학': 288, '정치': 147})\n",
      "test_data_label_freq: Counter({'지역': 349, '경제': 329, '스포츠': 303, '사회': 163, '국제': 142, 'IT_과학': 126, '문화': 125, '정치': 56})\n"
     ]
    }
   ],
   "source": [
    "from collections import Counter\n",
    "train_data_label_freq = Counter(train_data_label)\n",
    "print('train_data_label_freq:', train_data_label_freq)\n",
    "\n",
    "test_data_label_freq = Counter(test_data_label)\n",
    "print('test_data_label_freq:', test_data_label_freq)\n"
   ]
  },
  {
   "cell_type": "code",
   "execution_count": 206,
   "id": "2206cb05",
   "metadata": {},
   "outputs": [
    {
     "name": "stdout",
     "output_type": "stream",
     "text": [
      "최소길이: 4\n",
      "최대길이: 54\n",
      "평균길이: 19.5\n",
      "중위수길이: 19.0\n",
      "percentile  : [0, 25, 50, 75, 90, 99, 100]\n",
      "구간별 최대 길이: [ 4. 16. 19. 22. 27. 35. 54.]\n",
      "최소길이 문장: 투입 예산 내년 총\n",
      "최대길이 문장: 주요 신규 사업 삼사해상공원 해 파랑 공원 파도 걷기 보행 조성 새 뜰 사업 축산 블루 시티 조성 사업 예 주 고을 역사 문화 공원 조성 사업 오십천 그린 로드 조성 영덕 도서관 건립 사업 영덕 애니메이션 테마파크 조성 사업 영덕 하 양교 션 강구면 화전 우수 저류 시설 설치 아름답 소하천 꾸 사업\n"
     ]
    }
   ],
   "source": [
    "import numpy as np\n",
    "\n",
    "text_len = [len(line.split(' ')) for line in train_data_text]\n",
    "print('최소길이:', np.min(text_len))\n",
    "print('최대길이:', np.max(text_len))\n",
    "print('평균길이:', np.round(np.mean(text_len),1))\n",
    "print('중위수길이:', np.median(text_len))\n",
    "print('percentile  : [0, 25, 50, 75, 90, 99, 100]')\n",
    "print('구간별 최대 길이:', np.percentile(text_len, [0, 25, 50, 75, 90, 99, 100]))\n",
    "print('최소길이 문장:', train_data_text[np.argmin(text_len)])\n",
    "print('최대길이 문장:', train_data_text[np.argmax(text_len)])"
   ]
  },
  {
   "cell_type": "code",
   "execution_count": 207,
   "id": "33cbc5f9",
   "metadata": {},
   "outputs": [],
   "source": [
    "from keras.preprocessing.text import Tokenizer\n",
    "from keras.preprocessing.sequence import pad_sequences\n",
    "import numpy as np\n",
    "import math \n",
    "\n",
    "max_words = 10000\n",
    "maxlen = 40\n",
    "\n",
    "tokenizer = Tokenizer(num_words=max_words)\n",
    "tokenizer.fit_on_texts(train_data_text)\n",
    "word_index = tokenizer.word_index"
   ]
  },
  {
   "cell_type": "code",
   "execution_count": 208,
   "id": "d41df024",
   "metadata": {},
   "outputs": [
    {
     "name": "stdout",
     "output_type": "stream",
     "text": [
      "wjscpdptj 15300개의 고유한 토큰을 찾았습니다\n",
      "word_index type: <class 'dict'>\n"
     ]
    }
   ],
   "source": [
    "print('wjscpdptj %s개의 고유한 토큰을 찾았습니다' % len(word_index))\n",
    "print('word_index type:', type(word_index))\n",
    "# print('word_index:', word_index)"
   ]
  },
  {
   "cell_type": "code",
   "execution_count": 209,
   "id": "5e77db8b",
   "metadata": {},
   "outputs": [
    {
     "name": "stdout",
     "output_type": "stream",
     "text": [
      "최대 문장 길이: 49\n",
      "최소 문장 길이: 4\n"
     ]
    }
   ],
   "source": [
    "seq_data = tokenizer.texts_to_sequences(train_data_text)\n",
    "# print('data', data)\n",
    "\n",
    "len_d = [len(d) for d in seq_data]\n",
    "# print('길이:', len_d)\n",
    "print('최대 문장 길이:', max(len_d))\n",
    "print('최소 문장 길이:', min(len_d))"
   ]
  },
  {
   "cell_type": "code",
   "execution_count": 210,
   "id": "1c557c96",
   "metadata": {},
   "outputs": [
    {
     "name": "stdout",
     "output_type": "stream",
     "text": [
      "data: [[   0    0    0 ...    1 8205   15]\n",
      " [   0    0    0 ... 5730 8208 2302]\n",
      " [   0    0    0 ... 3627 4436 1497]\n",
      " ...\n",
      " [   0    0    0 ... 7559 4594   15]\n",
      " [   0    0    0 ... 1403 1385    9]\n",
      " [   0    0    0 ... 8034 2811  446]]\n",
      "data 0: [   0    0    0    0    0    0    0    0    0    0    0    0    0    0\n",
      "    0    0    0    0    0    0    0    0    0    0    0 1642  747   10\n",
      " 2622  208    3  885 4435   87  747   10 1270    1 8205   15]\n",
      "data 0의 길이: 40\n"
     ]
    }
   ],
   "source": [
    "pad_data = pad_sequences(seq_data, maxlen=maxlen)\n",
    "\n",
    "print('data:', pad_data)\n",
    "print('data 0:', pad_data[0])\n",
    "print('data 0의 길이:', len(pad_data[0]))"
   ]
  },
  {
   "cell_type": "code",
   "execution_count": 211,
   "id": "14ab8f1a",
   "metadata": {},
   "outputs": [
    {
     "name": "stdout",
     "output_type": "stream",
     "text": [
      "train_data_text type: <class 'list'>\n",
      "data type: <class 'numpy.ndarray'>\n",
      "train_data_text 0: 성경 난민 대하 어떻하 말 있 현 상황과 관련 난민 대하 정확 하 팩트 밝히\n",
      "data 0: [   0    0    0    0    0    0    0    0    0    0    0    0    0    0\n",
      "    0    0    0    0    0    0    0    0    0    0    0 1642  747   10\n",
      " 2622  208    3  885 4435   87  747   10 1270    1 8205   15]\n"
     ]
    }
   ],
   "source": [
    "print('train_data_text type:', type(train_data_text))\n",
    "print('data type:', type(pad_data))\n",
    "print('train_data_text 0:', train_data_text[0])\n",
    "print('data 0:', pad_data[0])"
   ]
  },
  {
   "cell_type": "code",
   "execution_count": 212,
   "id": "2042d8a9",
   "metadata": {},
   "outputs": [],
   "source": [
    "def to_one_hot(sequences, dimension):\n",
    "    results = np.zeros((len(sequences), dimension))\n",
    "    for i, sequence in enumerate(sequences):\n",
    "        results[i, sequence] = 1.\n",
    "    return results\n",
    "\n",
    "# x_train = to_one_hot(pad_data, dimension=max_words)\n",
    "x_train = pad_data"
   ]
  },
  {
   "cell_type": "code",
   "execution_count": 213,
   "id": "afc9f9ea",
   "metadata": {},
   "outputs": [],
   "source": [
    "# print('train_data_text type:', type(train_data_text))\n",
    "# print(len(train_data_text[0]))\n",
    "# print('texts 0:', train_data_text[0])\n",
    "\n",
    "# print('data type:', type(x_train))\n",
    "# print(len(x_train[0]))\n",
    "# print('x_train [0][0:100]:', x_train[0][:100])"
   ]
  },
  {
   "cell_type": "code",
   "execution_count": 214,
   "id": "e82dd2c1",
   "metadata": {},
   "outputs": [
    {
     "name": "stdout",
     "output_type": "stream",
     "text": [
      "['IT_과학' '경제' '국제' '문화' '사회' '스포츠' '정치' '지역']\n"
     ]
    }
   ],
   "source": [
    "from sklearn.preprocessing import LabelEncoder\n",
    "le = LabelEncoder()\n",
    "le.fit(train_data_label)\n",
    "print(le.classes_)\n",
    "train_data_label = le.transform(train_data_label)"
   ]
  },
  {
   "cell_type": "code",
   "execution_count": 215,
   "id": "768b78d3",
   "metadata": {},
   "outputs": [],
   "source": [
    "test_data_label = le.transform(test_data_label)"
   ]
  },
  {
   "cell_type": "code",
   "execution_count": 216,
   "id": "b91418b1",
   "metadata": {},
   "outputs": [
    {
     "name": "stdout",
     "output_type": "stream",
     "text": [
      "[[0. 0. 0. ... 0. 0. 0.]\n",
      " [0. 0. 0. ... 0. 0. 0.]\n",
      " [0. 0. 0. ... 1. 0. 0.]\n",
      " ...\n",
      " [0. 0. 0. ... 1. 0. 0.]\n",
      " [0. 1. 0. ... 0. 0. 0.]\n",
      " [0. 0. 0. ... 0. 0. 0.]]\n"
     ]
    }
   ],
   "source": [
    "class_number = len(le.classes_)\n",
    "y_train = to_one_hot(train_data_label, dimension=class_number)\n",
    "print(y_train)"
   ]
  },
  {
   "cell_type": "code",
   "execution_count": 217,
   "id": "edd6bac0",
   "metadata": {},
   "outputs": [
    {
     "name": "stdout",
     "output_type": "stream",
     "text": [
      "[[0. 1. 0. ... 0. 0. 0.]\n",
      " [0. 0. 1. ... 0. 0. 0.]\n",
      " [0. 0. 1. ... 0. 0. 0.]\n",
      " ...\n",
      " [0. 0. 1. ... 0. 0. 0.]\n",
      " [0. 0. 0. ... 0. 0. 1.]\n",
      " [0. 0. 1. ... 0. 0. 0.]]\n"
     ]
    }
   ],
   "source": [
    "data_test = tokenizer.texts_to_sequences(test_data_text)\n",
    "\n",
    "data_test = pad_sequences(data_test, maxlen=maxlen)\n",
    "\n",
    "x_test = data_test\n",
    "\n",
    "y_test = to_one_hot(test_data_label, dimension=class_number)\n",
    "print(y_test)"
   ]
  },
  {
   "cell_type": "code",
   "execution_count": 218,
   "id": "0569049d",
   "metadata": {},
   "outputs": [
    {
     "name": "stdout",
     "output_type": "stream",
     "text": [
      "훈련 데이터 본문 텐서의 크기: (4730, 40)\n",
      "훈련 데이터 레이블 텐서의 크기: (4730, 8)\n",
      "테스트 데이터 본문 텐서의 크기: (1593, 40)\n",
      "테스트 데이터 레이블 텐서의 크기: (1593, 8)\n"
     ]
    }
   ],
   "source": [
    "print('훈련 데이터 본문 텐서의 크기:', x_train.shape)\n",
    "print('훈련 데이터 레이블 텐서의 크기:', y_train.shape)\n",
    "\n",
    "print('테스트 데이터 본문 텐서의 크기:', x_test.shape)\n",
    "print('테스트 데이터 레이블 텐서의 크기:', y_test.shape)"
   ]
  },
  {
   "cell_type": "code",
   "execution_count": 219,
   "id": "04246dc9",
   "metadata": {},
   "outputs": [
    {
     "data": {
      "text/plain": [
       "(4730, 8)"
      ]
     },
     "execution_count": 219,
     "metadata": {},
     "output_type": "execute_result"
    }
   ],
   "source": [
    "y_train.shape"
   ]
  },
  {
   "cell_type": "code",
   "execution_count": 220,
   "id": "ae4a0c24",
   "metadata": {},
   "outputs": [
    {
     "name": "stdout",
     "output_type": "stream",
     "text": [
      "/Users/jsha/gjai/nlp/pytest/17_practice\r\n"
     ]
    }
   ],
   "source": [
    "!pwd"
   ]
  },
  {
   "cell_type": "code",
   "execution_count": 221,
   "id": "985043b4",
   "metadata": {},
   "outputs": [],
   "source": [
    "import os\n",
    "\n",
    "class_number = y_train.shape[-1]\n",
    "epochs = 10\n",
    "batch_size = 50\n",
    "embedding_dim = 200\n",
    "model_name = '분류2_we_dropout_model.h5'\n",
    "tokenizer_name = '분류2_we_dropout_token.pickle'\n",
    "labelencode_name = '분류2_we_dropout_le.pickle'\n",
    "\n",
    "# working_path = '/Users/jsha/gjai/nlp/pytest/15_working/'\n",
    "# save_path = working_path + 'practice/'\n",
    "# if not os.path.exists(save_path):\n",
    "#     os.mkdir(save_path)\n",
    "#     print(f'made {save_path} directory')\n",
    "# os.chdir(save_path)"
   ]
  },
  {
   "cell_type": "code",
   "execution_count": 222,
   "id": "23e3254c",
   "metadata": {},
   "outputs": [
    {
     "name": "stdout",
     "output_type": "stream",
     "text": [
      "Model: \"sequential_10\"\n",
      "_________________________________________________________________\n",
      "Layer (type)                 Output Shape              Param #   \n",
      "=================================================================\n",
      "embedding_10 (Embedding)     (None, 40, 200)           2000000   \n",
      "_________________________________________________________________\n",
      "flatten_4 (Flatten)          (None, 8000)              0         \n",
      "_________________________________________________________________\n",
      "dense_25 (Dense)             (None, 64)                512064    \n",
      "_________________________________________________________________\n",
      "dropout_13 (Dropout)         (None, 64)                0         \n",
      "_________________________________________________________________\n",
      "dense_26 (Dense)             (None, 32)                2080      \n",
      "_________________________________________________________________\n",
      "dropout_14 (Dropout)         (None, 32)                0         \n",
      "_________________________________________________________________\n",
      "dense_27 (Dense)             (None, 8)                 264       \n",
      "=================================================================\n",
      "Total params: 2,514,408\n",
      "Trainable params: 2,514,408\n",
      "Non-trainable params: 0\n",
      "_________________________________________________________________\n"
     ]
    }
   ],
   "source": [
    "from keras.models import Sequential\n",
    "from keras.layers import Dense, Dropout\n",
    "from keras import layers\n",
    "from keras import regularizers\n",
    "\n",
    "model = Sequential()\n",
    "\n",
    "model.add(layers.Embedding(input_dim=max_words, output_dim=embedding_dim, \n",
    "                          input_length=maxlen))\n",
    "\n",
    "model.add(layers.Flatten())\n",
    "\n",
    "model.add(Dense(64, activation='relu', input_shape=(max_words,)))\n",
    "model.add(Dropout(0.5))\n",
    "model.add(Dense(units=32, activation='relu'))\n",
    "model.add(Dropout(0.5))\n",
    "model.add(Dense(units=class_number, activation='softmax'))\n",
    "\n",
    "model.summary()"
   ]
  },
  {
   "cell_type": "code",
   "execution_count": 223,
   "id": "f4ba8080",
   "metadata": {},
   "outputs": [
    {
     "name": "stdout",
     "output_type": "stream",
     "text": [
      "/Users/jsha/gjai/nlp/pytest/17_practice/ --- Folder already exists\n",
      "\n"
     ]
    }
   ],
   "source": [
    "from keras.callbacks import EarlyStopping\n",
    "import os\n",
    "\n",
    "checkpoint_path = working_path\n",
    "# checkpoint_dir = os.path.dirname(checkpoint_path)\n",
    "if os.path.exists(checkpoint_path):\n",
    "    print('{} --- Folder already exists\\n'.format(checkpoint_path))\n",
    "else:\n",
    "    os.makedirs(checkpoint_path, exist_ok=True)\n",
    "    print('{} --- Folder created\\n'.format(checkpoint_path))"
   ]
  },
  {
   "cell_type": "code",
   "execution_count": 224,
   "id": "7c876e2c",
   "metadata": {},
   "outputs": [],
   "source": [
    "model.compile(optimizer='rmsprop', loss='categorical_crossentropy',\n",
    "             metrics=['acc'])"
   ]
  },
  {
   "cell_type": "code",
   "execution_count": 225,
   "id": "2b8dba92",
   "metadata": {},
   "outputs": [
    {
     "name": "stderr",
     "output_type": "stream",
     "text": [
      "/Users/jsha/opt/anaconda3/envs/nlp3710/lib/python3.7/site-packages/tensorflow_core/python/framework/indexed_slices.py:424: UserWarning: Converting sparse IndexedSlices to a dense Tensor of unknown shape. This may consume a large amount of memory.\n",
      "  \"Converting sparse IndexedSlices to a dense Tensor of unknown shape. \"\n"
     ]
    },
    {
     "name": "stdout",
     "output_type": "stream",
     "text": [
      "Train on 3311 samples, validate on 1419 samples\n",
      "Epoch 1/10\n",
      "3311/3311 [==============================] - 3s 980us/step - loss: 2.0146 - acc: 0.1978 - val_loss: 1.9643 - val_acc: 0.2333\n",
      "\n",
      "Epoch 00001: val_acc improved from -inf to 0.23326, saving model to /Users/jsha/gjai/nlp/pytest/17_practice/분류2_we_dropout_model.h5\n",
      "Epoch 2/10\n",
      "3311/3311 [==============================] - 2s 726us/step - loss: 1.9177 - acc: 0.2555 - val_loss: 1.8490 - val_acc: 0.3820\n",
      "\n",
      "Epoch 00002: val_acc improved from 0.23326 to 0.38196, saving model to /Users/jsha/gjai/nlp/pytest/17_practice/분류2_we_dropout_model.h5\n",
      "Epoch 3/10\n",
      "3311/3311 [==============================] - 3s 809us/step - loss: 1.6620 - acc: 0.3899 - val_loss: 1.5808 - val_acc: 0.4024\n",
      "\n",
      "Epoch 00003: val_acc improved from 0.38196 to 0.40240, saving model to /Users/jsha/gjai/nlp/pytest/17_practice/분류2_we_dropout_model.h5\n",
      "Epoch 4/10\n",
      "3311/3311 [==============================] - 3s 846us/step - loss: 1.3385 - acc: 0.4733 - val_loss: 1.4409 - val_acc: 0.4834\n",
      "\n",
      "Epoch 00004: val_acc improved from 0.40240 to 0.48344, saving model to /Users/jsha/gjai/nlp/pytest/17_practice/분류2_we_dropout_model.h5\n",
      "Epoch 5/10\n",
      "3311/3311 [==============================] - 3s 815us/step - loss: 1.0519 - acc: 0.6013 - val_loss: 1.3584 - val_acc: 0.5356\n",
      "\n",
      "Epoch 00005: val_acc improved from 0.48344 to 0.53559, saving model to /Users/jsha/gjai/nlp/pytest/17_practice/분류2_we_dropout_model.h5\n",
      "Epoch 6/10\n",
      "3311/3311 [==============================] - 3s 829us/step - loss: 0.7764 - acc: 0.7249 - val_loss: 1.3939 - val_acc: 0.5377\n",
      "\n",
      "Epoch 00006: val_acc improved from 0.53559 to 0.53770, saving model to /Users/jsha/gjai/nlp/pytest/17_practice/분류2_we_dropout_model.h5\n",
      "Epoch 7/10\n",
      "3311/3311 [==============================] - 3s 838us/step - loss: 0.5766 - acc: 0.8106 - val_loss: 1.4942 - val_acc: 0.5603\n",
      "\n",
      "Epoch 00007: val_acc improved from 0.53770 to 0.56025, saving model to /Users/jsha/gjai/nlp/pytest/17_practice/분류2_we_dropout_model.h5\n",
      "Epoch 8/10\n",
      "3311/3311 [==============================] - 3s 791us/step - loss: 0.4274 - acc: 0.8559 - val_loss: 1.5754 - val_acc: 0.5595\n",
      "\n",
      "Epoch 00008: val_acc did not improve from 0.56025\n",
      "Epoch 9/10\n",
      "3311/3311 [==============================] - 3s 782us/step - loss: 0.3173 - acc: 0.8943 - val_loss: 1.6725 - val_acc: 0.5652\n",
      "\n",
      "Epoch 00009: val_acc improved from 0.56025 to 0.56519, saving model to /Users/jsha/gjai/nlp/pytest/17_practice/분류2_we_dropout_model.h5\n",
      "Epoch 10/10\n",
      "3311/3311 [==============================] - 3s 799us/step - loss: 0.2332 - acc: 0.9178 - val_loss: 1.7672 - val_acc: 0.5638\n",
      "\n",
      "Epoch 00010: val_acc did not improve from 0.56519\n"
     ]
    }
   ],
   "source": [
    "from keras.callbacks import ModelCheckpoint\n",
    "\n",
    "earlystop_callback = EarlyStopping(monitor='val_acc', patience=2)\n",
    "cp_callback = ModelCheckpoint(filepath=checkpoint_path+model_name,\n",
    "                             monitor='val_acc', verbose=1, \n",
    "                             save_best_only=True)\n",
    "history = model.fit(x_train, y_train, epochs=epochs,\n",
    "                   batch_size=batch_size, validation_split=0.3,\n",
    "                   callbacks=[earlystop_callback, cp_callback], verbose=1)\n",
    "history_dict = history.history"
   ]
  },
  {
   "cell_type": "code",
   "execution_count": 226,
   "id": "1e36500a",
   "metadata": {},
   "outputs": [],
   "source": [
    "import pickle\n",
    "\n",
    "# model.save(model_name)\n",
    "\n",
    "with open(checkpoint_path+tokenizer_name, 'wb') as file:\n",
    "    pickle.dump(tokenizer, file, protocol=pickle.HIGHEST_PROTOCOL)\n",
    "    \n",
    "with open(checkpoint_path+labelencode_name, 'wb') as file:\n",
    "    pickle.dump(le, file, protocol=pickle.HIGHEST_PROTOCOL)\n",
    "    "
   ]
  },
  {
   "cell_type": "code",
   "execution_count": 227,
   "id": "ee0ff811",
   "metadata": {},
   "outputs": [
    {
     "name": "stdout",
     "output_type": "stream",
     "text": [
      "validation accuracy of each epoch: [0.233 0.382 0.402 0.483 0.536 0.538 0.56  0.56  0.565 0.564]\n"
     ]
    }
   ],
   "source": [
    "acc = history.history['acc']\n",
    "val_acc = history.history['val_acc']\n",
    "loss = history.history['loss']\n",
    "val_loss = history.history['val_loss']\n",
    "\n",
    "print('validation accuracy of each epoch:', np.round(val_acc,3))\n",
    "epochs = range(1, len(val_acc)+1)"
   ]
  },
  {
   "cell_type": "code",
   "execution_count": 228,
   "id": "1d3118ef",
   "metadata": {},
   "outputs": [
    {
     "data": {
      "image/png": "[encoded data removed]",
      "text/plain": [
       "<Figure size 432x288 with 1 Axes>"
      ]
     },
     "metadata": {
      "needs_background": "light"
     },
     "output_type": "display_data"
    }
   ],
   "source": [
    "import matplotlib.pyplot as plt\n",
    "\n",
    "plt.plot(epochs, acc, 'bo', label='Training Acc')\n",
    "plt.plot(epochs, val_acc, 'r', label='Validation Acc')\n",
    "plt.title('Training and Validation Accuracy')\n",
    "plt.legend(loc=4)\n",
    "plt.show()"
   ]
  },
  {
   "cell_type": "code",
   "execution_count": 229,
   "id": "f5b6d439",
   "metadata": {
    "scrolled": false
   },
   "outputs": [
    {
     "data": {
      "image/png": "[encoded data removed]",
      "text/plain": [
       "<Figure size 432x288 with 1 Axes>"
      ]
     },
     "metadata": {
      "needs_background": "light"
     },
     "output_type": "display_data"
    }
   ],
   "source": [
    "plt.plot(epochs, loss, 'bo', label='Training Loss')\n",
    "plt.plot(epochs, val_loss, 'r', label='Validation Loss')\n",
    "plt.title('Training and Validation loss')\n",
    "plt.legend(loc=1)\n",
    "plt.show()"
   ]
  },
  {
   "cell_type": "code",
   "execution_count": 230,
   "id": "7e052407",
   "metadata": {},
   "outputs": [
    {
     "name": "stderr",
     "output_type": "stream",
     "text": [
      "/Users/jsha/opt/anaconda3/envs/nlp3710/lib/python3.7/site-packages/tensorflow_core/python/framework/indexed_slices.py:424: UserWarning: Converting sparse IndexedSlices to a dense Tensor of unknown shape. This may consume a large amount of memory.\n",
      "  \"Converting sparse IndexedSlices to a dense Tensor of unknown shape. \"\n"
     ]
    }
   ],
   "source": [
    "from keras.models import load_model\n",
    "\n",
    "loaded_model = load_model(checkpoint_path+model_name)\n",
    "\n",
    "with open(checkpoint_path+tokenizer_name, 'rb') as handle:\n",
    "    loaded_tokenizer = pickle.load(handle)"
   ]
  },
  {
   "cell_type": "markdown",
   "id": "0a32a692",
   "metadata": {},
   "source": [
    "### 결과"
   ]
  },
  {
   "cell_type": "code",
   "execution_count": 231,
   "id": "7eea30a3",
   "metadata": {
    "scrolled": false
   },
   "outputs": [
    {
     "name": "stdout",
     "output_type": "stream",
     "text": [
      "1593/1593 [==============================] - 0s 166us/step\n",
      "분류2 word_embedding+dropout prediction\n",
      "prediction model loss & acc: [1.7243916527400283, 0.5674827098846436]\n"
     ]
    }
   ],
   "source": [
    "test_eval = loaded_model.evaluate(x_test, y_test)\n",
    "\n",
    "print('분류2 word_embedding+dropout prediction')\n",
    "print('prediction model loss & acc:', test_eval)"
   ]
  },
  {
   "cell_type": "code",
   "execution_count": null,
   "id": "ab6dbd57",
   "metadata": {},
   "outputs": [],
   "source": []
  },
  {
   "cell_type": "code",
   "execution_count": null,
   "id": "15e78656",
   "metadata": {},
   "outputs": [],
   "source": []
  },
  {
   "cell_type": "code",
   "execution_count": null,
   "id": "1f183c1d",
   "metadata": {},
   "outputs": [],
   "source": []
  },
  {
   "cell_type": "code",
   "execution_count": null,
   "id": "3f007afe",
   "metadata": {},
   "outputs": [],
   "source": []
  },
  {
   "cell_type": "markdown",
   "id": "b2439b34",
   "metadata": {},
   "source": [
    "# 워드임베딩 + 양방향 순환신경망"
   ]
  },
  {
   "cell_type": "markdown",
   "id": "9f9bb073",
   "metadata": {},
   "source": [
    "## 분류1"
   ]
  },
  {
   "cell_type": "code",
   "execution_count": 235,
   "id": "5c2f1c6d",
   "metadata": {},
   "outputs": [],
   "source": [
    "import pandas as pd\n",
    "from matplotlib import rc\n",
    "\n",
    "rc('font', family='AppleGothic')\n",
    "\n",
    "data_path = '/Users/jsha/gjai/nlp/pytest/16_practice/'\n",
    "filename1 = '분류1_뉴스데이터_morphed_train.csv'\n",
    "filename2 = '분류1_뉴스데이터_morphed_test.csv'\n",
    "\n",
    "train_df = pd.read_csv(data_path+filename1)\n",
    "test_df = pd.read_csv(data_path+filename2)"
   ]
  },
  {
   "cell_type": "code",
   "execution_count": 236,
   "id": "775caaab",
   "metadata": {},
   "outputs": [
    {
     "data": {
      "text/html": [
       "<div>\n",
       "<style scoped>\n",
       "    .dataframe tbody tr th:only-of-type {\n",
       "        vertical-align: middle;\n",
       "    }\n",
       "\n",
       "    .dataframe tbody tr th {\n",
       "        vertical-align: top;\n",
       "    }\n",
       "\n",
       "    .dataframe thead th {\n",
       "        text-align: right;\n",
       "    }\n",
       "</style>\n",
       "<table border=\"1\" class=\"dataframe\">\n",
       "  <thead>\n",
       "    <tr style=\"text-align: right;\">\n",
       "      <th></th>\n",
       "      <th>id</th>\n",
       "      <th>날짜</th>\n",
       "      <th>분류1</th>\n",
       "      <th>텍스트</th>\n",
       "      <th>분류1_상위</th>\n",
       "      <th>morphed</th>\n",
       "    </tr>\n",
       "  </thead>\n",
       "  <tbody>\n",
       "    <tr>\n",
       "      <th>0</th>\n",
       "      <td>1319794</td>\n",
       "      <td>20190412</td>\n",
       "      <td>국제,중동_아프리카</td>\n",
       "      <td>이들은 성경이 난민에 대해 어떻게 말하고 있으며, 현 상황과 관련해 난민에 대한 정...</td>\n",
       "      <td>국제</td>\n",
       "      <td>성경 난민 대하 어떻하 말 있 현 상황과 관련 난민 대하 정확 하 팩트 밝히</td>\n",
       "    </tr>\n",
       "    <tr>\n",
       "      <th>1</th>\n",
       "      <td>1410943</td>\n",
       "      <td>20190503</td>\n",
       "      <td>지역,충북</td>\n",
       "      <td>충북 충주시는 3일 충주시청 중앙탑회의실에서 제47회 어버이날 유공자 시상식을 열고...</td>\n",
       "      <td>지역</td>\n",
       "      <td>충북 충주시 충주시 청 중앙 탑 회의실 어버이날 유공자 시상식 열 심영섭 효행 장한...</td>\n",
       "    </tr>\n",
       "    <tr>\n",
       "      <th>2</th>\n",
       "      <td>972814</td>\n",
       "      <td>20190122</td>\n",
       "      <td>스포츠,축구,국가대표팀</td>\n",
       "      <td>아시안게임이 U-23 대표팀 경기로 A 대표팀과는 객관적 지표에서 차이가 있지만, ...</td>\n",
       "      <td>스포츠</td>\n",
       "      <td>아시안게임 대표 팀 경기 대표 팀 객관적 지표 차이 있 그때 기억 황의 조의 자신감...</td>\n",
       "    </tr>\n",
       "    <tr>\n",
       "      <th>3</th>\n",
       "      <td>359452</td>\n",
       "      <td>20180828</td>\n",
       "      <td>IT_과학,콘텐츠</td>\n",
       "      <td>신기술전시회 280개 기업, 국제발명특허대전 160개 발명품, 국제컨퍼런스 40개 ...</td>\n",
       "      <td>IT_과학</td>\n",
       "      <td>신기술 전시회 기업 국제 발명 특허 대전 발명품 국제 컨퍼런스 세션 꾸미 명 관람객...</td>\n",
       "    </tr>\n",
       "    <tr>\n",
       "      <th>4</th>\n",
       "      <td>1338926</td>\n",
       "      <td>20190416</td>\n",
       "      <td>사회,장애인</td>\n",
       "      <td>아카데미에서는 장애인복지시설, 발달장애인훈련센터 등 학령기 장애인 대상으로의 진로직...</td>\n",
       "      <td>사회</td>\n",
       "      <td>아카데미 장애인 복지 시설 발달 장애 훈련 센터 학령기 장애인 대상 진로 직업 체험...</td>\n",
       "    </tr>\n",
       "  </tbody>\n",
       "</table>\n",
       "</div>"
      ],
      "text/plain": [
       "        id        날짜           분류1  \\\n",
       "0  1319794  20190412    국제,중동_아프리카   \n",
       "1  1410943  20190503         지역,충북   \n",
       "2   972814  20190122  스포츠,축구,국가대표팀   \n",
       "3   359452  20180828     IT_과학,콘텐츠   \n",
       "4  1338926  20190416        사회,장애인   \n",
       "\n",
       "                                                 텍스트 분류1_상위  \\\n",
       "0  이들은 성경이 난민에 대해 어떻게 말하고 있으며, 현 상황과 관련해 난민에 대한 정...     국제   \n",
       "1  충북 충주시는 3일 충주시청 중앙탑회의실에서 제47회 어버이날 유공자 시상식을 열고...     지역   \n",
       "2  아시안게임이 U-23 대표팀 경기로 A 대표팀과는 객관적 지표에서 차이가 있지만, ...    스포츠   \n",
       "3  신기술전시회 280개 기업, 국제발명특허대전 160개 발명품, 국제컨퍼런스 40개 ...  IT_과학   \n",
       "4  아카데미에서는 장애인복지시설, 발달장애인훈련센터 등 학령기 장애인 대상으로의 진로직...     사회   \n",
       "\n",
       "                                             morphed  \n",
       "0         성경 난민 대하 어떻하 말 있 현 상황과 관련 난민 대하 정확 하 팩트 밝히  \n",
       "1  충북 충주시 충주시 청 중앙 탑 회의실 어버이날 유공자 시상식 열 심영섭 효행 장한...  \n",
       "2  아시안게임 대표 팀 경기 대표 팀 객관적 지표 차이 있 그때 기억 황의 조의 자신감...  \n",
       "3  신기술 전시회 기업 국제 발명 특허 대전 발명품 국제 컨퍼런스 세션 꾸미 명 관람객...  \n",
       "4  아카데미 장애인 복지 시설 발달 장애 훈련 센터 학령기 장애인 대상 진로 직업 체험...  "
      ]
     },
     "execution_count": 236,
     "metadata": {},
     "output_type": "execute_result"
    }
   ],
   "source": [
    "# train_df.head()\n",
    "# train_df['morphed'] = morphed_data\n",
    "train_df.head()"
   ]
  },
  {
   "cell_type": "code",
   "execution_count": 237,
   "id": "dc481bc2",
   "metadata": {},
   "outputs": [
    {
     "data": {
      "text/html": [
       "<div>\n",
       "<style scoped>\n",
       "    .dataframe tbody tr th:only-of-type {\n",
       "        vertical-align: middle;\n",
       "    }\n",
       "\n",
       "    .dataframe tbody tr th {\n",
       "        vertical-align: top;\n",
       "    }\n",
       "\n",
       "    .dataframe thead th {\n",
       "        text-align: right;\n",
       "    }\n",
       "</style>\n",
       "<table border=\"1\" class=\"dataframe\">\n",
       "  <thead>\n",
       "    <tr style=\"text-align: right;\">\n",
       "      <th></th>\n",
       "      <th>id</th>\n",
       "      <th>날짜</th>\n",
       "      <th>분류1</th>\n",
       "      <th>텍스트</th>\n",
       "      <th>분류1_상위</th>\n",
       "      <th>morphed</th>\n",
       "    </tr>\n",
       "  </thead>\n",
       "  <tbody>\n",
       "    <tr>\n",
       "      <th>0</th>\n",
       "      <td>268980</td>\n",
       "      <td>20180806</td>\n",
       "      <td>경제,증권_증시</td>\n",
       "      <td>이런 가격 조작 행위는 지난해 말 ‘코인 열풍’이 불 때부터 폭발적으로 늘어났다는 ...</td>\n",
       "      <td>경제</td>\n",
       "      <td>이런 가격 조작 행위 지난해 말 코인 열풍 불 때 폭발적 늘어나 설명</td>\n",
       "    </tr>\n",
       "    <tr>\n",
       "      <th>1</th>\n",
       "      <td>260551</td>\n",
       "      <td>20180803</td>\n",
       "      <td>국제,러시아</td>\n",
       "      <td>한 정보 소식통에 따르면 이 여성은 지난해 중순쯤 국무부로부터 비밀정보 사용 인가를...</td>\n",
       "      <td>국제</td>\n",
       "      <td>하 정보 소식통 따르 이 여성 지난해 중순쯤 국무부 비밀 정보 사용 인가 취소 당하...</td>\n",
       "    </tr>\n",
       "    <tr>\n",
       "      <th>2</th>\n",
       "      <td>390392</td>\n",
       "      <td>20180903</td>\n",
       "      <td>국제,아시아</td>\n",
       "      <td>시진핑(習近平) 중국 국가주석은 오는 11월 파푸아뉴기니에서 열리는 아시아·태평양경...</td>\n",
       "      <td>국제</td>\n",
       "      <td>시진 핑 중국 국가주석 오 파푸아뉴기니 열리 아시아 태평양 경제 협력체 정상 회의 ...</td>\n",
       "    </tr>\n",
       "    <tr>\n",
       "      <th>3</th>\n",
       "      <td>215899</td>\n",
       "      <td>20180723</td>\n",
       "      <td>경제,무역</td>\n",
       "      <td>이번 세이프가드는 최근 3년간 평균 수입물량으로 쿼터를 산정 후 쿼터 초과 수입물량...</td>\n",
       "      <td>경제</td>\n",
       "      <td>이번 세이프가드 최근 평균 수입 물량 쿼터 산정 후 쿼터 초과 수입 물량 대하 관세...</td>\n",
       "    </tr>\n",
       "    <tr>\n",
       "      <th>4</th>\n",
       "      <td>380078</td>\n",
       "      <td>20180902</td>\n",
       "      <td>스포츠,축구,국가대표팀</td>\n",
       "      <td>손흥민과 이승우, 황의조와 황희찬 등 해외에서 활약하는 선수들은 더 이상 병역 문제...</td>\n",
       "      <td>스포츠</td>\n",
       "      <td>손 흥 민 이승우 황의 황희찬 해외 활약 선수 더 이상 병역 문제 발목 잡히 국내 ...</td>\n",
       "    </tr>\n",
       "  </tbody>\n",
       "</table>\n",
       "</div>"
      ],
      "text/plain": [
       "       id        날짜           분류1  \\\n",
       "0  268980  20180806      경제,증권_증시   \n",
       "1  260551  20180803        국제,러시아   \n",
       "2  390392  20180903        국제,아시아   \n",
       "3  215899  20180723         경제,무역   \n",
       "4  380078  20180902  스포츠,축구,국가대표팀   \n",
       "\n",
       "                                                 텍스트 분류1_상위  \\\n",
       "0  이런 가격 조작 행위는 지난해 말 ‘코인 열풍’이 불 때부터 폭발적으로 늘어났다는 ...     경제   \n",
       "1  한 정보 소식통에 따르면 이 여성은 지난해 중순쯤 국무부로부터 비밀정보 사용 인가를...     국제   \n",
       "2  시진핑(習近平) 중국 국가주석은 오는 11월 파푸아뉴기니에서 열리는 아시아·태평양경...     국제   \n",
       "3  이번 세이프가드는 최근 3년간 평균 수입물량으로 쿼터를 산정 후 쿼터 초과 수입물량...     경제   \n",
       "4  손흥민과 이승우, 황의조와 황희찬 등 해외에서 활약하는 선수들은 더 이상 병역 문제...    스포츠   \n",
       "\n",
       "                                             morphed  \n",
       "0             이런 가격 조작 행위 지난해 말 코인 열풍 불 때 폭발적 늘어나 설명  \n",
       "1  하 정보 소식통 따르 이 여성 지난해 중순쯤 국무부 비밀 정보 사용 인가 취소 당하...  \n",
       "2  시진 핑 중국 국가주석 오 파푸아뉴기니 열리 아시아 태평양 경제 협력체 정상 회의 ...  \n",
       "3  이번 세이프가드 최근 평균 수입 물량 쿼터 산정 후 쿼터 초과 수입 물량 대하 관세...  \n",
       "4  손 흥 민 이승우 황의 황희찬 해외 활약 선수 더 이상 병역 문제 발목 잡히 국내 ...  "
      ]
     },
     "execution_count": 237,
     "metadata": {},
     "output_type": "execute_result"
    }
   ],
   "source": [
    "test_df.head()"
   ]
  },
  {
   "cell_type": "code",
   "execution_count": 238,
   "id": "186488f0",
   "metadata": {},
   "outputs": [
    {
     "name": "stdout",
     "output_type": "stream",
     "text": [
      "['국제', '지역', '스포츠']\n",
      "['성경 난민 대하 어떻하 말 있 현 상황과 관련 난민 대하 정확 하 팩트 밝히', '충북 충주시 충주시 청 중앙 탑 회의실 어버이날 유공자 시상식 열 심영섭 효행 장한 어버이 표창장 수여', '아시안게임 대표 팀 경기 대표 팀 객관적 지표 차이 있 그때 기억 황의 조의 자신감 불태우 충분']\n",
      "--------------------------------------------------\n",
      "['경제', '국제', '국제']\n",
      "['이런 가격 조작 행위 지난해 말 코인 열풍 불 때 폭발적 늘어나 설명', '하 정보 소식통 따르 이 여성 지난해 중순쯤 국무부 비밀 정보 사용 인가 취소 당하 직후 해고 되', '시진 핑 중국 국가주석 오 파푸아뉴기니 열리 아시아 태평양 경제 협력체 정상 회의 전후 태평 도서 국 정상 회담 알리']\n"
     ]
    }
   ],
   "source": [
    "from sklearn.model_selection import train_test_split\n",
    "\n",
    "data_text = train_df.loc[:,'morphed'].to_list()\n",
    "data_label = train_df.loc[:,'분류1_상위'].to_list()\n",
    "print(data_label[:3])\n",
    "print(data_text[:3])\n",
    "\n",
    "print('-'*50)\n",
    "\n",
    "data_text_test = test_df.loc[:,'morphed'].to_list()\n",
    "data_label_test = test_df.loc[:,'분류1_상위'].to_list()\n",
    "print(data_label_test[:3])\n",
    "print(data_text_test[:3])\n",
    "\n",
    "train_data_text = data_text\n",
    "train_data_label = data_label\n",
    "test_data_text = data_text_test\n",
    "test_data_label = data_label_test\n",
    "# train_data_text, test_data_text, train_data_label, test_data_label = \\\n",
    "# train_test_split(data_text, data_label, stratify=data_label, \n",
    "#                  test_size=0.3, random_state=1111)"
   ]
  },
  {
   "cell_type": "code",
   "execution_count": 239,
   "id": "aadd9d40",
   "metadata": {},
   "outputs": [
    {
     "name": "stdout",
     "output_type": "stream",
     "text": [
      "6792\n",
      "2265\n"
     ]
    }
   ],
   "source": [
    "print(len(train_data_text))\n",
    "print(len(test_data_text))"
   ]
  },
  {
   "cell_type": "code",
   "execution_count": 240,
   "id": "5f4bf19a",
   "metadata": {},
   "outputs": [
    {
     "name": "stdout",
     "output_type": "stream",
     "text": [
      "train_data_label_freq: Counter({'지역': 2151, '스포츠': 1725, '경제': 945, '국제': 733, '사회': 639, 'IT_과학': 491, '문화': 98, '미분류': 9, '정치': 1})\n",
      "test_data_label_freq: Counter({'지역': 722, '스포츠': 540, '경제': 329, '국제': 219, '사회': 213, 'IT_과학': 203, '문화': 30, '미분류': 9})\n"
     ]
    }
   ],
   "source": [
    "from collections import Counter\n",
    "train_data_label_freq = Counter(train_data_label)\n",
    "print('train_data_label_freq:', train_data_label_freq)\n",
    "\n",
    "test_data_label_freq = Counter(test_data_label)\n",
    "print('test_data_label_freq:', test_data_label_freq)\n"
   ]
  },
  {
   "cell_type": "code",
   "execution_count": 241,
   "id": "176668a6",
   "metadata": {},
   "outputs": [
    {
     "name": "stdout",
     "output_type": "stream",
     "text": [
      "최소길이: 4\n",
      "최대길이: 54\n",
      "평균길이: 19.5\n",
      "중위수길이: 19.0\n",
      "percentile  : [0, 25, 50, 75, 90, 99, 100]\n",
      "구간별 최대 길이: [ 4. 16. 19. 22. 27. 35. 54.]\n",
      "최소길이 문장: 투입 예산 내년 총\n",
      "최대길이 문장: 주요 신규 사업 삼사해상공원 해 파랑 공원 파도 걷기 보행 조성 새 뜰 사업 축산 블루 시티 조성 사업 예 주 고을 역사 문화 공원 조성 사업 오십천 그린 로드 조성 영덕 도서관 건립 사업 영덕 애니메이션 테마파크 조성 사업 영덕 하 양교 션 강구면 화전 우수 저류 시설 설치 아름답 소하천 꾸 사업\n"
     ]
    }
   ],
   "source": [
    "import numpy as np\n",
    "\n",
    "text_len = [len(line.split(' ')) for line in train_data_text]\n",
    "print('최소길이:', np.min(text_len))\n",
    "print('최대길이:', np.max(text_len))\n",
    "print('평균길이:', np.round(np.mean(text_len),1))\n",
    "print('중위수길이:', np.median(text_len))\n",
    "print('percentile  : [0, 25, 50, 75, 90, 99, 100]')\n",
    "print('구간별 최대 길이:', np.percentile(text_len, [0, 25, 50, 75, 90, 99, 100]))\n",
    "print('최소길이 문장:', train_data_text[np.argmin(text_len)])\n",
    "print('최대길이 문장:', train_data_text[np.argmax(text_len)])"
   ]
  },
  {
   "cell_type": "code",
   "execution_count": 242,
   "id": "3eb7b164",
   "metadata": {},
   "outputs": [],
   "source": [
    "from keras.preprocessing.text import Tokenizer\n",
    "from keras.preprocessing.sequence import pad_sequences\n",
    "import numpy as np\n",
    "import math \n",
    "\n",
    "max_words = 10000\n",
    "maxlen = 40\n",
    "\n",
    "tokenizer = Tokenizer(num_words=max_words)\n",
    "tokenizer.fit_on_texts(train_data_text)\n",
    "word_index = tokenizer.word_index"
   ]
  },
  {
   "cell_type": "code",
   "execution_count": 243,
   "id": "7ced7709",
   "metadata": {},
   "outputs": [
    {
     "name": "stdout",
     "output_type": "stream",
     "text": [
      "wjscpdptj 18050개의 고유한 토큰을 찾았습니다\n",
      "word_index type: <class 'dict'>\n"
     ]
    }
   ],
   "source": [
    "print('wjscpdptj %s개의 고유한 토큰을 찾았습니다' % len(word_index))\n",
    "print('word_index type:', type(word_index))\n",
    "# print('word_index:', word_index)"
   ]
  },
  {
   "cell_type": "code",
   "execution_count": 244,
   "id": "ac0b84b3",
   "metadata": {},
   "outputs": [
    {
     "name": "stdout",
     "output_type": "stream",
     "text": [
      "최대 문장 길이: 49\n",
      "최소 문장 길이: 4\n"
     ]
    }
   ],
   "source": [
    "seq_data = tokenizer.texts_to_sequences(train_data_text)\n",
    "# print('data', data)\n",
    "\n",
    "len_d = [len(d) for d in seq_data]\n",
    "# print('길이:', len_d)\n",
    "print('최대 문장 길이:', max(len_d))\n",
    "print('최소 문장 길이:', min(len_d))"
   ]
  },
  {
   "cell_type": "code",
   "execution_count": 245,
   "id": "508f2033",
   "metadata": {},
   "outputs": [
    {
     "name": "stdout",
     "output_type": "stream",
     "text": [
      "data: [[   0    0    0 ...    1 7165   18]\n",
      " [   0    0    0 ... 7168 7169 2108]\n",
      " [   0    0    0 ... 3970 4700 1797]\n",
      " ...\n",
      " [   0    0    0 ... 9362 5861   18]\n",
      " [   0    0    0 ... 1042 1564   13]\n",
      " [   0    0    0 ... 9916 3268  362]]\n",
      "data 0: [   0    0    0    0    0    0    0    0    0    0    0    0    0    0\n",
      "    0    0    0    0    0    0    0    0    0    0    0 2300  677   10\n",
      " 2301  220    3  790 4698   76  677   10 1389    1 7165   18]\n",
      "data 0의 길이: 40\n"
     ]
    }
   ],
   "source": [
    "pad_data = pad_sequences(seq_data, maxlen=maxlen)\n",
    "\n",
    "print('data:', pad_data)\n",
    "print('data 0:', pad_data[0])\n",
    "print('data 0의 길이:', len(pad_data[0]))"
   ]
  },
  {
   "cell_type": "code",
   "execution_count": 246,
   "id": "b1545e34",
   "metadata": {},
   "outputs": [
    {
     "name": "stdout",
     "output_type": "stream",
     "text": [
      "train_data_text type: <class 'list'>\n",
      "data type: <class 'numpy.ndarray'>\n",
      "train_data_text 0: 성경 난민 대하 어떻하 말 있 현 상황과 관련 난민 대하 정확 하 팩트 밝히\n",
      "data 0: [   0    0    0    0    0    0    0    0    0    0    0    0    0    0\n",
      "    0    0    0    0    0    0    0    0    0    0    0 2300  677   10\n",
      " 2301  220    3  790 4698   76  677   10 1389    1 7165   18]\n"
     ]
    }
   ],
   "source": [
    "print('train_data_text type:', type(train_data_text))\n",
    "print('data type:', type(pad_data))\n",
    "print('train_data_text 0:', train_data_text[0])\n",
    "print('data 0:', pad_data[0])"
   ]
  },
  {
   "cell_type": "code",
   "execution_count": 247,
   "id": "5a8c95b5",
   "metadata": {},
   "outputs": [],
   "source": [
    "def to_one_hot(sequences, dimension):\n",
    "    results = np.zeros((len(sequences), dimension))\n",
    "    for i, sequence in enumerate(sequences):\n",
    "        results[i, sequence] = 1.\n",
    "    return results\n",
    "\n",
    "# x_train = to_one_hot(pad_data, dimension=max_words)\n",
    "x_train = pad_data"
   ]
  },
  {
   "cell_type": "code",
   "execution_count": 248,
   "id": "05ecf04f",
   "metadata": {},
   "outputs": [],
   "source": [
    "# print('train_data_text type:', type(train_data_text))\n",
    "# print(len(train_data_text[0]))\n",
    "# print('texts 0:', train_data_text[0])\n",
    "\n",
    "# print('data type:', type(x_train))\n",
    "# print(len(x_train[0]))\n",
    "# print('x_train [0][0:100]:', x_train[0][:100])"
   ]
  },
  {
   "cell_type": "code",
   "execution_count": 249,
   "id": "6856cc3d",
   "metadata": {},
   "outputs": [
    {
     "name": "stdout",
     "output_type": "stream",
     "text": [
      "['IT_과학' '경제' '국제' '문화' '미분류' '사회' '스포츠' '정치' '지역']\n"
     ]
    }
   ],
   "source": [
    "from sklearn.preprocessing import LabelEncoder\n",
    "le = LabelEncoder()\n",
    "le.fit(train_data_label)\n",
    "print(le.classes_)\n",
    "train_data_label = le.transform(train_data_label)"
   ]
  },
  {
   "cell_type": "code",
   "execution_count": 250,
   "id": "93157825",
   "metadata": {},
   "outputs": [],
   "source": [
    "test_data_label = le.transform(test_data_label)"
   ]
  },
  {
   "cell_type": "code",
   "execution_count": 251,
   "id": "2ed1100c",
   "metadata": {},
   "outputs": [
    {
     "name": "stdout",
     "output_type": "stream",
     "text": [
      "[[0. 0. 1. ... 0. 0. 0.]\n",
      " [0. 0. 0. ... 0. 0. 1.]\n",
      " [0. 0. 0. ... 1. 0. 0.]\n",
      " ...\n",
      " [0. 0. 0. ... 1. 0. 0.]\n",
      " [0. 1. 0. ... 0. 0. 0.]\n",
      " [0. 0. 0. ... 0. 0. 1.]]\n"
     ]
    }
   ],
   "source": [
    "class_number = len(le.classes_)\n",
    "y_train = to_one_hot(train_data_label, dimension=class_number)\n",
    "print(y_train)"
   ]
  },
  {
   "cell_type": "code",
   "execution_count": 252,
   "id": "c1748aaa",
   "metadata": {},
   "outputs": [
    {
     "name": "stdout",
     "output_type": "stream",
     "text": [
      "[[0. 1. 0. ... 0. 0. 0.]\n",
      " [0. 0. 1. ... 0. 0. 0.]\n",
      " [0. 0. 1. ... 0. 0. 0.]\n",
      " ...\n",
      " [0. 0. 1. ... 0. 0. 0.]\n",
      " [0. 1. 0. ... 0. 0. 0.]\n",
      " [0. 0. 1. ... 0. 0. 0.]]\n"
     ]
    }
   ],
   "source": [
    "data_test = tokenizer.texts_to_sequences(test_data_text)\n",
    "\n",
    "data_test = pad_sequences(data_test, maxlen=maxlen)\n",
    "\n",
    "x_test = data_test\n",
    "\n",
    "y_test = to_one_hot(test_data_label, dimension=class_number)\n",
    "print(y_test)"
   ]
  },
  {
   "cell_type": "code",
   "execution_count": 253,
   "id": "8b4cd54b",
   "metadata": {},
   "outputs": [
    {
     "name": "stdout",
     "output_type": "stream",
     "text": [
      "훈련 데이터 본문 텐서의 크기: (6792, 40)\n",
      "훈련 데이터 레이블 텐서의 크기: (6792, 9)\n",
      "테스트 데이터 본문 텐서의 크기: (2265, 40)\n",
      "테스트 데이터 레이블 텐서의 크기: (2265, 9)\n"
     ]
    }
   ],
   "source": [
    "print('훈련 데이터 본문 텐서의 크기:', x_train.shape)\n",
    "print('훈련 데이터 레이블 텐서의 크기:', y_train.shape)\n",
    "\n",
    "print('테스트 데이터 본문 텐서의 크기:', x_test.shape)\n",
    "print('테스트 데이터 레이블 텐서의 크기:', y_test.shape)"
   ]
  },
  {
   "cell_type": "code",
   "execution_count": 254,
   "id": "596be32a",
   "metadata": {},
   "outputs": [
    {
     "data": {
      "text/plain": [
       "(6792, 9)"
      ]
     },
     "execution_count": 254,
     "metadata": {},
     "output_type": "execute_result"
    }
   ],
   "source": [
    "y_train.shape"
   ]
  },
  {
   "cell_type": "code",
   "execution_count": 255,
   "id": "d26dbfd6",
   "metadata": {},
   "outputs": [
    {
     "name": "stdout",
     "output_type": "stream",
     "text": [
      "/Users/jsha/gjai/nlp/pytest/17_practice\r\n"
     ]
    }
   ],
   "source": [
    "!pwd"
   ]
  },
  {
   "cell_type": "code",
   "execution_count": 256,
   "id": "a20ad6aa",
   "metadata": {},
   "outputs": [],
   "source": [
    "import os\n",
    "\n",
    "class_number = y_train.shape[-1]\n",
    "epochs = 10\n",
    "batch_size = 50\n",
    "embedding_dim = 200\n",
    "model_name = '분류1_we_bidirectional_LSTM_model.h5'\n",
    "tokenizer_name = '분류1_we_bidirectional_LSTM_token.pickle'\n",
    "labelencode_name = '분류1_we_bidirectional_LSTM_le.pickle'\n",
    "\n",
    "# working_path = '/Users/jsha/gjai/nlp/pytest/15_working/'\n",
    "# save_path = working_path + 'practice/'\n",
    "# if not os.path.exists(save_path):\n",
    "#     os.mkdir(save_path)\n",
    "#     print(f'made {save_path} directory')\n",
    "# os.chdir(save_path)"
   ]
  },
  {
   "cell_type": "code",
   "execution_count": 257,
   "id": "c3ade7df",
   "metadata": {},
   "outputs": [
    {
     "name": "stdout",
     "output_type": "stream",
     "text": [
      "Model: \"sequential_13\"\n",
      "_________________________________________________________________\n",
      "Layer (type)                 Output Shape              Param #   \n",
      "=================================================================\n",
      "embedding_13 (Embedding)     (None, 40, 200)           2000000   \n",
      "_________________________________________________________________\n",
      "bidirectional_2 (Bidirection (None, 256)               336896    \n",
      "_________________________________________________________________\n",
      "dense_31 (Dense)             (None, 64)                16448     \n",
      "_________________________________________________________________\n",
      "dense_32 (Dense)             (None, 32)                2080      \n",
      "_________________________________________________________________\n",
      "dense_33 (Dense)             (None, 9)                 297       \n",
      "=================================================================\n",
      "Total params: 2,355,721\n",
      "Trainable params: 2,355,721\n",
      "Non-trainable params: 0\n",
      "_________________________________________________________________\n"
     ]
    }
   ],
   "source": [
    "from keras.models import Sequential\n",
    "from keras.layers import Dense, Dropout\n",
    "from keras import layers\n",
    "from keras import regularizers\n",
    "\n",
    "model = Sequential()\n",
    "\n",
    "model.add(layers.Embedding(input_dim=max_words, output_dim=embedding_dim, \n",
    "                          input_length=maxlen))\n",
    "\n",
    "model.add(layers.Bidirectional(layers.LSTM(128)))\n",
    "\n",
    "model.add(Dense(64, activation='relu', input_shape=(max_words,)))\n",
    "model.add(Dense(units=32, activation='relu'))\n",
    "model.add(Dense(units=class_number, activation='softmax'))\n",
    "\n",
    "model.summary()"
   ]
  },
  {
   "cell_type": "code",
   "execution_count": 258,
   "id": "edb08f51",
   "metadata": {},
   "outputs": [
    {
     "name": "stdout",
     "output_type": "stream",
     "text": [
      "/Users/jsha/gjai/nlp/pytest/17_practice/ --- Folder already exists\n",
      "\n"
     ]
    }
   ],
   "source": [
    "from keras.callbacks import EarlyStopping\n",
    "import os\n",
    "\n",
    "checkpoint_path = working_path\n",
    "# checkpoint_dir = os.path.dirname(checkpoint_path)\n",
    "if os.path.exists(checkpoint_path):\n",
    "    print('{} --- Folder already exists\\n'.format(checkpoint_path))\n",
    "else:\n",
    "    os.makedirs(checkpoint_path, exist_ok=True)\n",
    "    print('{} --- Folder created\\n'.format(checkpoint_path))"
   ]
  },
  {
   "cell_type": "code",
   "execution_count": 259,
   "id": "a9a5a0d4",
   "metadata": {},
   "outputs": [],
   "source": [
    "model.compile(optimizer='rmsprop', loss='categorical_crossentropy',\n",
    "             metrics=['acc'])"
   ]
  },
  {
   "cell_type": "code",
   "execution_count": 260,
   "id": "c26d3d98",
   "metadata": {},
   "outputs": [
    {
     "name": "stderr",
     "output_type": "stream",
     "text": [
      "/Users/jsha/opt/anaconda3/envs/nlp3710/lib/python3.7/site-packages/tensorflow_core/python/framework/indexed_slices.py:424: UserWarning: Converting sparse IndexedSlices to a dense Tensor of unknown shape. This may consume a large amount of memory.\n",
      "  \"Converting sparse IndexedSlices to a dense Tensor of unknown shape. \"\n"
     ]
    },
    {
     "name": "stdout",
     "output_type": "stream",
     "text": [
      "Train on 4754 samples, validate on 2038 samples\n",
      "Epoch 1/10\n",
      "4754/4754 [==============================] - 27s 6ms/step - loss: 1.5533 - acc: 0.4340 - val_loss: 1.4349 - val_acc: 0.4887\n",
      "\n",
      "Epoch 00001: val_acc improved from -inf to 0.48871, saving model to /Users/jsha/gjai/nlp/pytest/17_practice/분류1_we_bidirectional_LSTM_model.h5\n",
      "Epoch 2/10\n",
      "4754/4754 [==============================] - 25s 5ms/step - loss: 1.1252 - acc: 0.5972 - val_loss: 1.1477 - val_acc: 0.5981\n",
      "\n",
      "Epoch 00002: val_acc improved from 0.48871 to 0.59814, saving model to /Users/jsha/gjai/nlp/pytest/17_practice/분류1_we_bidirectional_LSTM_model.h5\n",
      "Epoch 3/10\n",
      "4754/4754 [==============================] - 24s 5ms/step - loss: 0.8632 - acc: 0.7021 - val_loss: 1.2546 - val_acc: 0.5412\n",
      "\n",
      "Epoch 00003: val_acc did not improve from 0.59814\n",
      "Epoch 4/10\n",
      "4754/4754 [==============================] - 24s 5ms/step - loss: 0.6246 - acc: 0.7960 - val_loss: 1.1339 - val_acc: 0.6683\n",
      "\n",
      "Epoch 00004: val_acc improved from 0.59814 to 0.66830, saving model to /Users/jsha/gjai/nlp/pytest/17_practice/분류1_we_bidirectional_LSTM_model.h5\n",
      "Epoch 5/10\n",
      "4754/4754 [==============================] - 23s 5ms/step - loss: 0.3929 - acc: 0.8765 - val_loss: 1.3879 - val_acc: 0.6658\n",
      "\n",
      "Epoch 00005: val_acc did not improve from 0.66830\n",
      "Epoch 6/10\n",
      "4754/4754 [==============================] - 23s 5ms/step - loss: 0.2536 - acc: 0.9215 - val_loss: 1.2440 - val_acc: 0.6904\n",
      "\n",
      "Epoch 00006: val_acc improved from 0.66830 to 0.69038, saving model to /Users/jsha/gjai/nlp/pytest/17_practice/분류1_we_bidirectional_LSTM_model.h5\n",
      "Epoch 7/10\n",
      "4754/4754 [==============================] - 24s 5ms/step - loss: 0.1544 - acc: 0.9523 - val_loss: 1.6067 - val_acc: 0.7007\n",
      "\n",
      "Epoch 00007: val_acc improved from 0.69038 to 0.70069, saving model to /Users/jsha/gjai/nlp/pytest/17_practice/분류1_we_bidirectional_LSTM_model.h5\n",
      "Epoch 8/10\n",
      "4754/4754 [==============================] - 38s 8ms/step - loss: 0.1002 - acc: 0.9708 - val_loss: 1.8189 - val_acc: 0.6869\n",
      "\n",
      "Epoch 00008: val_acc did not improve from 0.70069\n",
      "Epoch 9/10\n",
      "4754/4754 [==============================] - 36s 8ms/step - loss: 0.0704 - acc: 0.9806 - val_loss: 2.3163 - val_acc: 0.6948\n",
      "\n",
      "Epoch 00009: val_acc did not improve from 0.70069\n"
     ]
    }
   ],
   "source": [
    "from keras.callbacks import ModelCheckpoint\n",
    "\n",
    "earlystop_callback = EarlyStopping(monitor='val_acc', patience=2)\n",
    "cp_callback = ModelCheckpoint(filepath=checkpoint_path+model_name,\n",
    "                             monitor='val_acc', verbose=1, \n",
    "                             save_best_only=True)\n",
    "history = model.fit(x_train, y_train, epochs=epochs,\n",
    "                   batch_size=batch_size, validation_split=0.3,\n",
    "                   callbacks=[earlystop_callback, cp_callback], verbose=1)\n",
    "history_dict = history.history"
   ]
  },
  {
   "cell_type": "code",
   "execution_count": 261,
   "id": "92f85897",
   "metadata": {},
   "outputs": [],
   "source": [
    "import pickle\n",
    "\n",
    "# model.save(model_name)\n",
    "\n",
    "with open(checkpoint_path+tokenizer_name, 'wb') as file:\n",
    "    pickle.dump(tokenizer, file, protocol=pickle.HIGHEST_PROTOCOL)\n",
    "    \n",
    "with open(checkpoint_path+labelencode_name, 'wb') as file:\n",
    "    pickle.dump(le, file, protocol=pickle.HIGHEST_PROTOCOL)\n",
    "    "
   ]
  },
  {
   "cell_type": "code",
   "execution_count": 262,
   "id": "4a8ae42b",
   "metadata": {},
   "outputs": [
    {
     "name": "stdout",
     "output_type": "stream",
     "text": [
      "validation accuracy of each epoch: [0.489 0.598 0.541 0.668 0.666 0.69  0.701 0.687 0.695]\n"
     ]
    }
   ],
   "source": [
    "acc = history.history['acc']\n",
    "val_acc = history.history['val_acc']\n",
    "loss = history.history['loss']\n",
    "val_loss = history.history['val_loss']\n",
    "\n",
    "print('validation accuracy of each epoch:', np.round(val_acc,3))\n",
    "epochs = range(1, len(val_acc)+1)"
   ]
  },
  {
   "cell_type": "code",
   "execution_count": 263,
   "id": "25e3e80e",
   "metadata": {},
   "outputs": [
    {
     "data": {
      "image/png": "[encoded data removed]",
      "text/plain": [
       "<Figure size 432x288 with 1 Axes>"
      ]
     },
     "metadata": {
      "needs_background": "light"
     },
     "output_type": "display_data"
    }
   ],
   "source": [
    "import matplotlib.pyplot as plt\n",
    "\n",
    "plt.plot(epochs, acc, 'bo', label='Training Acc')\n",
    "plt.plot(epochs, val_acc, 'r', label='Validation Acc')\n",
    "plt.title('Training and Validation Accuracy')\n",
    "plt.legend(loc=4)\n",
    "plt.show()"
   ]
  },
  {
   "cell_type": "code",
   "execution_count": 264,
   "id": "12b0eca6",
   "metadata": {
    "scrolled": false
   },
   "outputs": [
    {
     "data": {
      "image/png": "[encoded data removed]",
      "text/plain": [
       "<Figure size 432x288 with 1 Axes>"
      ]
     },
     "metadata": {
      "needs_background": "light"
     },
     "output_type": "display_data"
    }
   ],
   "source": [
    "plt.plot(epochs, loss, 'bo', label='Training Loss')\n",
    "plt.plot(epochs, val_loss, 'r', label='Validation Loss')\n",
    "plt.title('Training and Validation loss')\n",
    "plt.legend(loc=1)\n",
    "plt.show()"
   ]
  },
  {
   "cell_type": "code",
   "execution_count": 265,
   "id": "758c655a",
   "metadata": {},
   "outputs": [
    {
     "name": "stderr",
     "output_type": "stream",
     "text": [
      "/Users/jsha/opt/anaconda3/envs/nlp3710/lib/python3.7/site-packages/tensorflow_core/python/framework/indexed_slices.py:424: UserWarning: Converting sparse IndexedSlices to a dense Tensor of unknown shape. This may consume a large amount of memory.\n",
      "  \"Converting sparse IndexedSlices to a dense Tensor of unknown shape. \"\n"
     ]
    }
   ],
   "source": [
    "from keras.models import load_model\n",
    "\n",
    "loaded_model = load_model(checkpoint_path+model_name)\n",
    "\n",
    "with open(checkpoint_path+tokenizer_name, 'rb') as handle:\n",
    "    loaded_tokenizer = pickle.load(handle)"
   ]
  },
  {
   "cell_type": "markdown",
   "id": "b20fc792",
   "metadata": {},
   "source": [
    "### 결과"
   ]
  },
  {
   "cell_type": "code",
   "execution_count": 267,
   "id": "a929e052",
   "metadata": {},
   "outputs": [
    {
     "name": "stdout",
     "output_type": "stream",
     "text": [
      "2265/2265 [==============================] - 3s 1ms/step\n",
      "분류1 word_embedding+bidirectiona_LSTM prediction\n",
      "prediction model loss & acc: [1.4709418651547126, 0.7143487930297852]\n"
     ]
    }
   ],
   "source": [
    "test_eval = loaded_model.evaluate(x_test, y_test)\n",
    "\n",
    "print('분류1 word_embedding+bidirectiona_LSTM prediction')\n",
    "print('prediction model loss & acc:', test_eval)"
   ]
  },
  {
   "cell_type": "code",
   "execution_count": null,
   "id": "e9cf9fcc",
   "metadata": {},
   "outputs": [],
   "source": []
  },
  {
   "cell_type": "markdown",
   "id": "c96e527b",
   "metadata": {},
   "source": [
    "## 분류2"
   ]
  },
  {
   "cell_type": "code",
   "execution_count": 268,
   "id": "93c5c42d",
   "metadata": {},
   "outputs": [],
   "source": [
    "import pandas as pd\n",
    "from matplotlib import rc\n",
    "\n",
    "rc('font', family='AppleGothic')\n",
    "\n",
    "data_path = '/Users/jsha/gjai/nlp/pytest/16_practice/'\n",
    "filename1 = '분류2_뉴스데이터_morphed_train.csv'\n",
    "filename2 = '분류2_뉴스데이터_morphed_test.csv'\n",
    "\n",
    "train_df = pd.read_csv(data_path+filename1)\n",
    "test_df = pd.read_csv(data_path+filename2)"
   ]
  },
  {
   "cell_type": "code",
   "execution_count": 269,
   "id": "b71bf38c",
   "metadata": {},
   "outputs": [
    {
     "data": {
      "text/html": [
       "<div>\n",
       "<style scoped>\n",
       "    .dataframe tbody tr th:only-of-type {\n",
       "        vertical-align: middle;\n",
       "    }\n",
       "\n",
       "    .dataframe tbody tr th {\n",
       "        vertical-align: top;\n",
       "    }\n",
       "\n",
       "    .dataframe thead th {\n",
       "        text-align: right;\n",
       "    }\n",
       "</style>\n",
       "<table border=\"1\" class=\"dataframe\">\n",
       "  <thead>\n",
       "    <tr style=\"text-align: right;\">\n",
       "      <th></th>\n",
       "      <th>id</th>\n",
       "      <th>날짜</th>\n",
       "      <th>분류2</th>\n",
       "      <th>텍스트</th>\n",
       "      <th>분류2_상위</th>\n",
       "      <th>morphed</th>\n",
       "    </tr>\n",
       "  </thead>\n",
       "  <tbody>\n",
       "    <tr>\n",
       "      <th>0</th>\n",
       "      <td>1319794</td>\n",
       "      <td>20190412</td>\n",
       "      <td>문화,출판</td>\n",
       "      <td>이들은 성경이 난민에 대해 어떻게 말하고 있으며, 현 상황과 관련해 난민에 대한 정...</td>\n",
       "      <td>문화</td>\n",
       "      <td>성경 난민 대하 어떻하 말 있 현 상황과 관련 난민 대하 정확 하 팩트 밝히</td>\n",
       "    </tr>\n",
       "    <tr>\n",
       "      <th>1</th>\n",
       "      <td>1410943</td>\n",
       "      <td>20190503</td>\n",
       "      <td>사회,사회일반</td>\n",
       "      <td>충북 충주시는 3일 충주시청 중앙탑회의실에서 제47회 어버이날 유공자 시상식을 열고...</td>\n",
       "      <td>사회</td>\n",
       "      <td>충북 충주시 충주시 청 중앙 탑 회의실 어버이날 유공자 시상식 열 심영섭 효행 장한...</td>\n",
       "    </tr>\n",
       "    <tr>\n",
       "      <th>2</th>\n",
       "      <td>972814</td>\n",
       "      <td>20190122</td>\n",
       "      <td>스포츠,축구,한국프로축구</td>\n",
       "      <td>아시안게임이 U-23 대표팀 경기로 A 대표팀과는 객관적 지표에서 차이가 있지만, ...</td>\n",
       "      <td>스포츠</td>\n",
       "      <td>아시안게임 대표 팀 경기 대표 팀 객관적 지표 차이 있 그때 기억 황의 조의 자신감...</td>\n",
       "    </tr>\n",
       "    <tr>\n",
       "      <th>3</th>\n",
       "      <td>359452</td>\n",
       "      <td>20180828</td>\n",
       "      <td>IT_과학,과학</td>\n",
       "      <td>신기술전시회 280개 기업, 국제발명특허대전 160개 발명품, 국제컨퍼런스 40개 ...</td>\n",
       "      <td>IT_과학</td>\n",
       "      <td>신기술 전시회 기업 국제 발명 특허 대전 발명품 국제 컨퍼런스 세션 꾸미 명 관람객...</td>\n",
       "    </tr>\n",
       "    <tr>\n",
       "      <th>4</th>\n",
       "      <td>310019</td>\n",
       "      <td>20180816</td>\n",
       "      <td>스포츠,축구,해외축구</td>\n",
       "      <td>손흥민은 이미 지난 2018 러시아 월드컵 조벌예선 전 경기에 출전했을 뿐더러 토트...</td>\n",
       "      <td>스포츠</td>\n",
       "      <td>손 흥 민 이미 지나 러시아 월드컵 벌 예선 전 경기 출전 토트 넘 미국 프리 시즌...</td>\n",
       "    </tr>\n",
       "  </tbody>\n",
       "</table>\n",
       "</div>"
      ],
      "text/plain": [
       "        id        날짜            분류2  \\\n",
       "0  1319794  20190412          문화,출판   \n",
       "1  1410943  20190503        사회,사회일반   \n",
       "2   972814  20190122  스포츠,축구,한국프로축구   \n",
       "3   359452  20180828       IT_과학,과학   \n",
       "4   310019  20180816    스포츠,축구,해외축구   \n",
       "\n",
       "                                                 텍스트 분류2_상위  \\\n",
       "0  이들은 성경이 난민에 대해 어떻게 말하고 있으며, 현 상황과 관련해 난민에 대한 정...     문화   \n",
       "1  충북 충주시는 3일 충주시청 중앙탑회의실에서 제47회 어버이날 유공자 시상식을 열고...     사회   \n",
       "2  아시안게임이 U-23 대표팀 경기로 A 대표팀과는 객관적 지표에서 차이가 있지만, ...    스포츠   \n",
       "3  신기술전시회 280개 기업, 국제발명특허대전 160개 발명품, 국제컨퍼런스 40개 ...  IT_과학   \n",
       "4  손흥민은 이미 지난 2018 러시아 월드컵 조벌예선 전 경기에 출전했을 뿐더러 토트...    스포츠   \n",
       "\n",
       "                                             morphed  \n",
       "0         성경 난민 대하 어떻하 말 있 현 상황과 관련 난민 대하 정확 하 팩트 밝히  \n",
       "1  충북 충주시 충주시 청 중앙 탑 회의실 어버이날 유공자 시상식 열 심영섭 효행 장한...  \n",
       "2  아시안게임 대표 팀 경기 대표 팀 객관적 지표 차이 있 그때 기억 황의 조의 자신감...  \n",
       "3  신기술 전시회 기업 국제 발명 특허 대전 발명품 국제 컨퍼런스 세션 꾸미 명 관람객...  \n",
       "4  손 흥 민 이미 지나 러시아 월드컵 벌 예선 전 경기 출전 토트 넘 미국 프리 시즌...  "
      ]
     },
     "execution_count": 269,
     "metadata": {},
     "output_type": "execute_result"
    }
   ],
   "source": [
    "# train_df.head()\n",
    "# train_df['morphed'] = morphed_data\n",
    "train_df.head()"
   ]
  },
  {
   "cell_type": "code",
   "execution_count": 270,
   "id": "6f8960eb",
   "metadata": {},
   "outputs": [
    {
     "data": {
      "text/html": [
       "<div>\n",
       "<style scoped>\n",
       "    .dataframe tbody tr th:only-of-type {\n",
       "        vertical-align: middle;\n",
       "    }\n",
       "\n",
       "    .dataframe tbody tr th {\n",
       "        vertical-align: top;\n",
       "    }\n",
       "\n",
       "    .dataframe thead th {\n",
       "        text-align: right;\n",
       "    }\n",
       "</style>\n",
       "<table border=\"1\" class=\"dataframe\">\n",
       "  <thead>\n",
       "    <tr style=\"text-align: right;\">\n",
       "      <th></th>\n",
       "      <th>id</th>\n",
       "      <th>날짜</th>\n",
       "      <th>분류2</th>\n",
       "      <th>텍스트</th>\n",
       "      <th>분류2_상위</th>\n",
       "      <th>morphed</th>\n",
       "    </tr>\n",
       "  </thead>\n",
       "  <tbody>\n",
       "    <tr>\n",
       "      <th>0</th>\n",
       "      <td>268980</td>\n",
       "      <td>20180806</td>\n",
       "      <td>경제,국제경제</td>\n",
       "      <td>이런 가격 조작 행위는 지난해 말 ‘코인 열풍’이 불 때부터 폭발적으로 늘어났다는 ...</td>\n",
       "      <td>경제</td>\n",
       "      <td>이런 가격 조작 행위 지난해 말 코인 열풍 불 때 폭발적 늘어나 설명</td>\n",
       "    </tr>\n",
       "    <tr>\n",
       "      <th>1</th>\n",
       "      <td>260551</td>\n",
       "      <td>20180803</td>\n",
       "      <td>국제,미국_북미</td>\n",
       "      <td>한 정보 소식통에 따르면 이 여성은 지난해 중순쯤 국무부로부터 비밀정보 사용 인가를...</td>\n",
       "      <td>국제</td>\n",
       "      <td>하 정보 소식통 따르 이 여성 지난해 중순쯤 국무부 비밀 정보 사용 인가 취소 당하...</td>\n",
       "    </tr>\n",
       "    <tr>\n",
       "      <th>2</th>\n",
       "      <td>390392</td>\n",
       "      <td>20180903</td>\n",
       "      <td>국제,중국</td>\n",
       "      <td>시진핑(習近平) 중국 국가주석은 오는 11월 파푸아뉴기니에서 열리는 아시아·태평양경...</td>\n",
       "      <td>국제</td>\n",
       "      <td>시진 핑 중국 국가주석 오 파푸아뉴기니 열리 아시아 태평양 경제 협력체 정상 회의 ...</td>\n",
       "    </tr>\n",
       "    <tr>\n",
       "      <th>3</th>\n",
       "      <td>215899</td>\n",
       "      <td>20180723</td>\n",
       "      <td>경제,산업_기업</td>\n",
       "      <td>이번 세이프가드는 최근 3년간 평균 수입물량으로 쿼터를 산정 후 쿼터 초과 수입물량...</td>\n",
       "      <td>경제</td>\n",
       "      <td>이번 세이프가드 최근 평균 수입 물량 쿼터 산정 후 쿼터 초과 수입 물량 대하 관세...</td>\n",
       "    </tr>\n",
       "    <tr>\n",
       "      <th>4</th>\n",
       "      <td>380078</td>\n",
       "      <td>20180902</td>\n",
       "      <td>스포츠,축구,해외축구</td>\n",
       "      <td>손흥민과 이승우, 황의조와 황희찬 등 해외에서 활약하는 선수들은 더 이상 병역 문제...</td>\n",
       "      <td>스포츠</td>\n",
       "      <td>손 흥 민 이승우 황의 황희찬 해외 활약 선수 더 이상 병역 문제 발목 잡히 국내 ...</td>\n",
       "    </tr>\n",
       "  </tbody>\n",
       "</table>\n",
       "</div>"
      ],
      "text/plain": [
       "       id        날짜          분류2  \\\n",
       "0  268980  20180806      경제,국제경제   \n",
       "1  260551  20180803     국제,미국_북미   \n",
       "2  390392  20180903        국제,중국   \n",
       "3  215899  20180723     경제,산업_기업   \n",
       "4  380078  20180902  스포츠,축구,해외축구   \n",
       "\n",
       "                                                 텍스트 분류2_상위  \\\n",
       "0  이런 가격 조작 행위는 지난해 말 ‘코인 열풍’이 불 때부터 폭발적으로 늘어났다는 ...     경제   \n",
       "1  한 정보 소식통에 따르면 이 여성은 지난해 중순쯤 국무부로부터 비밀정보 사용 인가를...     국제   \n",
       "2  시진핑(習近平) 중국 국가주석은 오는 11월 파푸아뉴기니에서 열리는 아시아·태평양경...     국제   \n",
       "3  이번 세이프가드는 최근 3년간 평균 수입물량으로 쿼터를 산정 후 쿼터 초과 수입물량...     경제   \n",
       "4  손흥민과 이승우, 황의조와 황희찬 등 해외에서 활약하는 선수들은 더 이상 병역 문제...    스포츠   \n",
       "\n",
       "                                             morphed  \n",
       "0             이런 가격 조작 행위 지난해 말 코인 열풍 불 때 폭발적 늘어나 설명  \n",
       "1  하 정보 소식통 따르 이 여성 지난해 중순쯤 국무부 비밀 정보 사용 인가 취소 당하...  \n",
       "2  시진 핑 중국 국가주석 오 파푸아뉴기니 열리 아시아 태평양 경제 협력체 정상 회의 ...  \n",
       "3  이번 세이프가드 최근 평균 수입 물량 쿼터 산정 후 쿼터 초과 수입 물량 대하 관세...  \n",
       "4  손 흥 민 이승우 황의 황희찬 해외 활약 선수 더 이상 병역 문제 발목 잡히 국내 ...  "
      ]
     },
     "execution_count": 270,
     "metadata": {},
     "output_type": "execute_result"
    }
   ],
   "source": [
    "test_df.head()"
   ]
  },
  {
   "cell_type": "code",
   "execution_count": 271,
   "id": "c48485e2",
   "metadata": {},
   "outputs": [
    {
     "name": "stdout",
     "output_type": "stream",
     "text": [
      "['문화', '사회', '스포츠']\n",
      "['성경 난민 대하 어떻하 말 있 현 상황과 관련 난민 대하 정확 하 팩트 밝히', '충북 충주시 충주시 청 중앙 탑 회의실 어버이날 유공자 시상식 열 심영섭 효행 장한 어버이 표창장 수여', '아시안게임 대표 팀 경기 대표 팀 객관적 지표 차이 있 그때 기억 황의 조의 자신감 불태우 충분']\n",
      "--------------------------------------------------\n",
      "['경제', '국제', '국제']\n",
      "['이런 가격 조작 행위 지난해 말 코인 열풍 불 때 폭발적 늘어나 설명', '하 정보 소식통 따르 이 여성 지난해 중순쯤 국무부 비밀 정보 사용 인가 취소 당하 직후 해고 되', '시진 핑 중국 국가주석 오 파푸아뉴기니 열리 아시아 태평양 경제 협력체 정상 회의 전후 태평 도서 국 정상 회담 알리']\n"
     ]
    }
   ],
   "source": [
    "from sklearn.model_selection import train_test_split\n",
    "\n",
    "data_text = train_df.loc[:,'morphed'].to_list()\n",
    "data_label = train_df.loc[:,'분류2_상위'].to_list()\n",
    "print(data_label[:3])\n",
    "print(data_text[:3])\n",
    "\n",
    "print('-'*50)\n",
    "\n",
    "data_text_test = test_df.loc[:,'morphed'].to_list()\n",
    "data_label_test = test_df.loc[:,'분류2_상위'].to_list()\n",
    "print(data_label_test[:3])\n",
    "print(data_text_test[:3])\n",
    "\n",
    "train_data_text = data_text\n",
    "train_data_label = data_label\n",
    "test_data_text = data_text_test\n",
    "test_data_label = data_label_test\n",
    "# train_data_text, test_data_text, train_data_label, test_data_label = \\\n",
    "# train_test_split(data_text, data_label, stratify=data_label, \n",
    "#                  test_size=0.3, random_state=1111)"
   ]
  },
  {
   "cell_type": "code",
   "execution_count": 272,
   "id": "6deaf07b",
   "metadata": {},
   "outputs": [
    {
     "name": "stdout",
     "output_type": "stream",
     "text": [
      "4730\n",
      "1593\n"
     ]
    }
   ],
   "source": [
    "print(len(train_data_text))\n",
    "print(len(test_data_text))"
   ]
  },
  {
   "cell_type": "code",
   "execution_count": 273,
   "id": "b3020278",
   "metadata": {},
   "outputs": [
    {
     "name": "stdout",
     "output_type": "stream",
     "text": [
      "train_data_label_freq: Counter({'지역': 1047, '경제': 936, '스포츠': 910, '사회': 473, '국제': 466, '문화': 463, 'IT_과학': 288, '정치': 147})\n",
      "test_data_label_freq: Counter({'지역': 349, '경제': 329, '스포츠': 303, '사회': 163, '국제': 142, 'IT_과학': 126, '문화': 125, '정치': 56})\n"
     ]
    }
   ],
   "source": [
    "from collections import Counter\n",
    "train_data_label_freq = Counter(train_data_label)\n",
    "print('train_data_label_freq:', train_data_label_freq)\n",
    "\n",
    "test_data_label_freq = Counter(test_data_label)\n",
    "print('test_data_label_freq:', test_data_label_freq)\n"
   ]
  },
  {
   "cell_type": "code",
   "execution_count": 274,
   "id": "400bc69c",
   "metadata": {},
   "outputs": [
    {
     "name": "stdout",
     "output_type": "stream",
     "text": [
      "최소길이: 4\n",
      "최대길이: 54\n",
      "평균길이: 19.5\n",
      "중위수길이: 19.0\n",
      "percentile  : [0, 25, 50, 75, 90, 99, 100]\n",
      "구간별 최대 길이: [ 4. 16. 19. 22. 27. 35. 54.]\n",
      "최소길이 문장: 투입 예산 내년 총\n",
      "최대길이 문장: 주요 신규 사업 삼사해상공원 해 파랑 공원 파도 걷기 보행 조성 새 뜰 사업 축산 블루 시티 조성 사업 예 주 고을 역사 문화 공원 조성 사업 오십천 그린 로드 조성 영덕 도서관 건립 사업 영덕 애니메이션 테마파크 조성 사업 영덕 하 양교 션 강구면 화전 우수 저류 시설 설치 아름답 소하천 꾸 사업\n"
     ]
    }
   ],
   "source": [
    "import numpy as np\n",
    "\n",
    "text_len = [len(line.split(' ')) for line in train_data_text]\n",
    "print('최소길이:', np.min(text_len))\n",
    "print('최대길이:', np.max(text_len))\n",
    "print('평균길이:', np.round(np.mean(text_len),1))\n",
    "print('중위수길이:', np.median(text_len))\n",
    "print('percentile  : [0, 25, 50, 75, 90, 99, 100]')\n",
    "print('구간별 최대 길이:', np.percentile(text_len, [0, 25, 50, 75, 90, 99, 100]))\n",
    "print('최소길이 문장:', train_data_text[np.argmin(text_len)])\n",
    "print('최대길이 문장:', train_data_text[np.argmax(text_len)])"
   ]
  },
  {
   "cell_type": "code",
   "execution_count": 275,
   "id": "1cc2b9e7",
   "metadata": {},
   "outputs": [],
   "source": [
    "from keras.preprocessing.text import Tokenizer\n",
    "from keras.preprocessing.sequence import pad_sequences\n",
    "import numpy as np\n",
    "import math \n",
    "\n",
    "max_words = 10000\n",
    "maxlen = 40\n",
    "\n",
    "tokenizer = Tokenizer(num_words=max_words)\n",
    "tokenizer.fit_on_texts(train_data_text)\n",
    "word_index = tokenizer.word_index"
   ]
  },
  {
   "cell_type": "code",
   "execution_count": 276,
   "id": "6a56de1f",
   "metadata": {},
   "outputs": [
    {
     "name": "stdout",
     "output_type": "stream",
     "text": [
      "wjscpdptj 15300개의 고유한 토큰을 찾았습니다\n",
      "word_index type: <class 'dict'>\n"
     ]
    }
   ],
   "source": [
    "print('wjscpdptj %s개의 고유한 토큰을 찾았습니다' % len(word_index))\n",
    "print('word_index type:', type(word_index))\n",
    "# print('word_index:', word_index)"
   ]
  },
  {
   "cell_type": "code",
   "execution_count": 277,
   "id": "13e16161",
   "metadata": {},
   "outputs": [
    {
     "name": "stdout",
     "output_type": "stream",
     "text": [
      "최대 문장 길이: 49\n",
      "최소 문장 길이: 4\n"
     ]
    }
   ],
   "source": [
    "seq_data = tokenizer.texts_to_sequences(train_data_text)\n",
    "# print('data', data)\n",
    "\n",
    "len_d = [len(d) for d in seq_data]\n",
    "# print('길이:', len_d)\n",
    "print('최대 문장 길이:', max(len_d))\n",
    "print('최소 문장 길이:', min(len_d))"
   ]
  },
  {
   "cell_type": "code",
   "execution_count": 278,
   "id": "ea796e0c",
   "metadata": {},
   "outputs": [
    {
     "name": "stdout",
     "output_type": "stream",
     "text": [
      "data: [[   0    0    0 ...    1 8205   15]\n",
      " [   0    0    0 ... 5730 8208 2302]\n",
      " [   0    0    0 ... 3627 4436 1497]\n",
      " ...\n",
      " [   0    0    0 ... 7559 4594   15]\n",
      " [   0    0    0 ... 1403 1385    9]\n",
      " [   0    0    0 ... 8034 2811  446]]\n",
      "data 0: [   0    0    0    0    0    0    0    0    0    0    0    0    0    0\n",
      "    0    0    0    0    0    0    0    0    0    0    0 1642  747   10\n",
      " 2622  208    3  885 4435   87  747   10 1270    1 8205   15]\n",
      "data 0의 길이: 40\n"
     ]
    }
   ],
   "source": [
    "pad_data = pad_sequences(seq_data, maxlen=maxlen)\n",
    "\n",
    "print('data:', pad_data)\n",
    "print('data 0:', pad_data[0])\n",
    "print('data 0의 길이:', len(pad_data[0]))"
   ]
  },
  {
   "cell_type": "code",
   "execution_count": 279,
   "id": "91bd187b",
   "metadata": {},
   "outputs": [
    {
     "name": "stdout",
     "output_type": "stream",
     "text": [
      "train_data_text type: <class 'list'>\n",
      "data type: <class 'numpy.ndarray'>\n",
      "train_data_text 0: 성경 난민 대하 어떻하 말 있 현 상황과 관련 난민 대하 정확 하 팩트 밝히\n",
      "data 0: [   0    0    0    0    0    0    0    0    0    0    0    0    0    0\n",
      "    0    0    0    0    0    0    0    0    0    0    0 1642  747   10\n",
      " 2622  208    3  885 4435   87  747   10 1270    1 8205   15]\n"
     ]
    }
   ],
   "source": [
    "print('train_data_text type:', type(train_data_text))\n",
    "print('data type:', type(pad_data))\n",
    "print('train_data_text 0:', train_data_text[0])\n",
    "print('data 0:', pad_data[0])"
   ]
  },
  {
   "cell_type": "code",
   "execution_count": 280,
   "id": "6bc39c30",
   "metadata": {},
   "outputs": [],
   "source": [
    "def to_one_hot(sequences, dimension):\n",
    "    results = np.zeros((len(sequences), dimension))\n",
    "    for i, sequence in enumerate(sequences):\n",
    "        results[i, sequence] = 1.\n",
    "    return results\n",
    "\n",
    "# x_train = to_one_hot(pad_data, dimension=max_words)\n",
    "x_train = pad_data"
   ]
  },
  {
   "cell_type": "code",
   "execution_count": 281,
   "id": "26436ddf",
   "metadata": {},
   "outputs": [],
   "source": [
    "# print('train_data_text type:', type(train_data_text))\n",
    "# print(len(train_data_text[0]))\n",
    "# print('texts 0:', train_data_text[0])\n",
    "\n",
    "# print('data type:', type(x_train))\n",
    "# print(len(x_train[0]))\n",
    "# print('x_train [0][0:100]:', x_train[0][:100])"
   ]
  },
  {
   "cell_type": "code",
   "execution_count": 282,
   "id": "b8cadebe",
   "metadata": {},
   "outputs": [
    {
     "name": "stdout",
     "output_type": "stream",
     "text": [
      "['IT_과학' '경제' '국제' '문화' '사회' '스포츠' '정치' '지역']\n"
     ]
    }
   ],
   "source": [
    "from sklearn.preprocessing import LabelEncoder\n",
    "le = LabelEncoder()\n",
    "le.fit(train_data_label)\n",
    "print(le.classes_)\n",
    "train_data_label = le.transform(train_data_label)"
   ]
  },
  {
   "cell_type": "code",
   "execution_count": 283,
   "id": "7d436d39",
   "metadata": {},
   "outputs": [],
   "source": [
    "test_data_label = le.transform(test_data_label)"
   ]
  },
  {
   "cell_type": "code",
   "execution_count": 284,
   "id": "1bcdfe6e",
   "metadata": {},
   "outputs": [
    {
     "name": "stdout",
     "output_type": "stream",
     "text": [
      "[[0. 0. 0. ... 0. 0. 0.]\n",
      " [0. 0. 0. ... 0. 0. 0.]\n",
      " [0. 0. 0. ... 1. 0. 0.]\n",
      " ...\n",
      " [0. 0. 0. ... 1. 0. 0.]\n",
      " [0. 1. 0. ... 0. 0. 0.]\n",
      " [0. 0. 0. ... 0. 0. 0.]]\n"
     ]
    }
   ],
   "source": [
    "class_number = len(le.classes_)\n",
    "y_train = to_one_hot(train_data_label, dimension=class_number)\n",
    "print(y_train)"
   ]
  },
  {
   "cell_type": "code",
   "execution_count": 285,
   "id": "29e016a2",
   "metadata": {},
   "outputs": [
    {
     "name": "stdout",
     "output_type": "stream",
     "text": [
      "[[0. 1. 0. ... 0. 0. 0.]\n",
      " [0. 0. 1. ... 0. 0. 0.]\n",
      " [0. 0. 1. ... 0. 0. 0.]\n",
      " ...\n",
      " [0. 0. 1. ... 0. 0. 0.]\n",
      " [0. 0. 0. ... 0. 0. 1.]\n",
      " [0. 0. 1. ... 0. 0. 0.]]\n"
     ]
    }
   ],
   "source": [
    "data_test = tokenizer.texts_to_sequences(test_data_text)\n",
    "\n",
    "data_test = pad_sequences(data_test, maxlen=maxlen)\n",
    "\n",
    "x_test = data_test\n",
    "\n",
    "y_test = to_one_hot(test_data_label, dimension=class_number)\n",
    "print(y_test)"
   ]
  },
  {
   "cell_type": "code",
   "execution_count": 286,
   "id": "07a7bc76",
   "metadata": {},
   "outputs": [
    {
     "name": "stdout",
     "output_type": "stream",
     "text": [
      "훈련 데이터 본문 텐서의 크기: (4730, 40)\n",
      "훈련 데이터 레이블 텐서의 크기: (4730, 8)\n",
      "테스트 데이터 본문 텐서의 크기: (1593, 40)\n",
      "테스트 데이터 레이블 텐서의 크기: (1593, 8)\n"
     ]
    }
   ],
   "source": [
    "print('훈련 데이터 본문 텐서의 크기:', x_train.shape)\n",
    "print('훈련 데이터 레이블 텐서의 크기:', y_train.shape)\n",
    "\n",
    "print('테스트 데이터 본문 텐서의 크기:', x_test.shape)\n",
    "print('테스트 데이터 레이블 텐서의 크기:', y_test.shape)"
   ]
  },
  {
   "cell_type": "code",
   "execution_count": 287,
   "id": "d457fd91",
   "metadata": {},
   "outputs": [
    {
     "data": {
      "text/plain": [
       "(4730, 8)"
      ]
     },
     "execution_count": 287,
     "metadata": {},
     "output_type": "execute_result"
    }
   ],
   "source": [
    "y_train.shape"
   ]
  },
  {
   "cell_type": "code",
   "execution_count": 288,
   "id": "de2ef643",
   "metadata": {},
   "outputs": [
    {
     "name": "stdout",
     "output_type": "stream",
     "text": [
      "/Users/jsha/gjai/nlp/pytest/17_practice\r\n"
     ]
    }
   ],
   "source": [
    "!pwd"
   ]
  },
  {
   "cell_type": "code",
   "execution_count": 289,
   "id": "3b6e8cc6",
   "metadata": {},
   "outputs": [],
   "source": [
    "import os\n",
    "\n",
    "class_number = y_train.shape[-1]\n",
    "epochs = 10\n",
    "batch_size = 50\n",
    "embedding_dim = 200\n",
    "model_name = '분류2_we_bidirectional_LSTM_model.h5'\n",
    "tokenizer_name = '분류2_we_bidirectional_LSTM_token.pickle'\n",
    "labelencode_name = '분류2_we_bidirectional_LSTM_le.pickle'\n",
    "\n",
    "# working_path = '/Users/jsha/gjai/nlp/pytest/15_working/'\n",
    "# save_path = working_path + 'practice/'\n",
    "# if not os.path.exists(save_path):\n",
    "#     os.mkdir(save_path)\n",
    "#     print(f'made {save_path} directory')\n",
    "# os.chdir(save_path)"
   ]
  },
  {
   "cell_type": "code",
   "execution_count": 290,
   "id": "91d18c28",
   "metadata": {},
   "outputs": [
    {
     "name": "stdout",
     "output_type": "stream",
     "text": [
      "Model: \"sequential_14\"\n",
      "_________________________________________________________________\n",
      "Layer (type)                 Output Shape              Param #   \n",
      "=================================================================\n",
      "embedding_14 (Embedding)     (None, 40, 200)           2000000   \n",
      "_________________________________________________________________\n",
      "bidirectional_3 (Bidirection (None, 256)               336896    \n",
      "_________________________________________________________________\n",
      "dense_34 (Dense)             (None, 64)                16448     \n",
      "_________________________________________________________________\n",
      "dense_35 (Dense)             (None, 32)                2080      \n",
      "_________________________________________________________________\n",
      "dense_36 (Dense)             (None, 8)                 264       \n",
      "=================================================================\n",
      "Total params: 2,355,688\n",
      "Trainable params: 2,355,688\n",
      "Non-trainable params: 0\n",
      "_________________________________________________________________\n"
     ]
    }
   ],
   "source": [
    "from keras.models import Sequential\n",
    "from keras.layers import Dense, Dropout\n",
    "from keras import layers\n",
    "from keras import regularizers\n",
    "\n",
    "model = Sequential()\n",
    "\n",
    "model.add(layers.Embedding(input_dim=max_words, output_dim=embedding_dim, \n",
    "                          input_length=maxlen))\n",
    "\n",
    "model.add(layers.Bidirectional(layers.LSTM(128)))\n",
    "\n",
    "model.add(Dense(64, activation='relu', input_shape=(max_words,)))\n",
    "model.add(Dense(units=32, activation='relu'))\n",
    "model.add(Dense(units=class_number, activation='softmax'))\n",
    "\n",
    "model.summary()"
   ]
  },
  {
   "cell_type": "code",
   "execution_count": 291,
   "id": "43567bad",
   "metadata": {},
   "outputs": [
    {
     "name": "stdout",
     "output_type": "stream",
     "text": [
      "/Users/jsha/gjai/nlp/pytest/17_practice/ --- Folder already exists\n",
      "\n"
     ]
    }
   ],
   "source": [
    "from keras.callbacks import EarlyStopping\n",
    "import os\n",
    "\n",
    "checkpoint_path = working_path\n",
    "# checkpoint_dir = os.path.dirname(checkpoint_path)\n",
    "if os.path.exists(checkpoint_path):\n",
    "    print('{} --- Folder already exists\\n'.format(checkpoint_path))\n",
    "else:\n",
    "    os.makedirs(checkpoint_path, exist_ok=True)\n",
    "    print('{} --- Folder created\\n'.format(checkpoint_path))"
   ]
  },
  {
   "cell_type": "code",
   "execution_count": 292,
   "id": "04577c00",
   "metadata": {},
   "outputs": [],
   "source": [
    "model.compile(optimizer='rmsprop', loss='categorical_crossentropy',\n",
    "             metrics=['acc'])"
   ]
  },
  {
   "cell_type": "code",
   "execution_count": 293,
   "id": "83d6d7a3",
   "metadata": {},
   "outputs": [
    {
     "name": "stderr",
     "output_type": "stream",
     "text": [
      "/Users/jsha/opt/anaconda3/envs/nlp3710/lib/python3.7/site-packages/tensorflow_core/python/framework/indexed_slices.py:424: UserWarning: Converting sparse IndexedSlices to a dense Tensor of unknown shape. This may consume a large amount of memory.\n",
      "  \"Converting sparse IndexedSlices to a dense Tensor of unknown shape. \"\n"
     ]
    },
    {
     "name": "stdout",
     "output_type": "stream",
     "text": [
      "Train on 3311 samples, validate on 1419 samples\n",
      "Epoch 1/10\n",
      "3311/3311 [==============================] - 18s 5ms/step - loss: 1.9101 - acc: 0.2591 - val_loss: 1.7009 - val_acc: 0.3820\n",
      "\n",
      "Epoch 00001: val_acc improved from -inf to 0.38196, saving model to /Users/jsha/gjai/nlp/pytest/17_practice/분류2_we_bidirectional_LSTM_model.h5\n",
      "Epoch 2/10\n",
      "3311/3311 [==============================] - 16s 5ms/step - loss: 1.3897 - acc: 0.5014 - val_loss: 1.3659 - val_acc: 0.5144\n",
      "\n",
      "Epoch 00002: val_acc improved from 0.38196 to 0.51445, saving model to /Users/jsha/gjai/nlp/pytest/17_practice/분류2_we_bidirectional_LSTM_model.h5\n",
      "Epoch 3/10\n",
      "3311/3311 [==============================] - 16s 5ms/step - loss: 1.0135 - acc: 0.6406 - val_loss: 1.4396 - val_acc: 0.5180\n",
      "\n",
      "Epoch 00003: val_acc improved from 0.51445 to 0.51797, saving model to /Users/jsha/gjai/nlp/pytest/17_practice/분류2_we_bidirectional_LSTM_model.h5\n",
      "Epoch 4/10\n",
      "3311/3311 [==============================] - 16s 5ms/step - loss: 0.7523 - acc: 0.7348 - val_loss: 1.6333 - val_acc: 0.5335\n",
      "\n",
      "Epoch 00004: val_acc improved from 0.51797 to 0.53347, saving model to /Users/jsha/gjai/nlp/pytest/17_practice/분류2_we_bidirectional_LSTM_model.h5\n",
      "Epoch 5/10\n",
      "3311/3311 [==============================] - 16s 5ms/step - loss: 0.5204 - acc: 0.8227 - val_loss: 1.6795 - val_acc: 0.5426\n",
      "\n",
      "Epoch 00005: val_acc improved from 0.53347 to 0.54264, saving model to /Users/jsha/gjai/nlp/pytest/17_practice/분류2_we_bidirectional_LSTM_model.h5\n",
      "Epoch 6/10\n",
      "3311/3311 [==============================] - 16s 5ms/step - loss: 0.3213 - acc: 0.9018 - val_loss: 1.7801 - val_acc: 0.5398\n",
      "\n",
      "Epoch 00006: val_acc did not improve from 0.54264\n",
      "Epoch 7/10\n",
      "3311/3311 [==============================] - 19s 6ms/step - loss: 0.1804 - acc: 0.9496 - val_loss: 2.0314 - val_acc: 0.5588\n",
      "\n",
      "Epoch 00007: val_acc improved from 0.54264 to 0.55884, saving model to /Users/jsha/gjai/nlp/pytest/17_practice/분류2_we_bidirectional_LSTM_model.h5\n",
      "Epoch 8/10\n",
      "3311/3311 [==============================] - 29s 9ms/step - loss: 0.1127 - acc: 0.9683 - val_loss: 2.3107 - val_acc: 0.5511\n",
      "\n",
      "Epoch 00008: val_acc did not improve from 0.55884\n",
      "Epoch 9/10\n",
      "3311/3311 [==============================] - 25s 8ms/step - loss: 0.0660 - acc: 0.9822 - val_loss: 2.5499 - val_acc: 0.5617\n",
      "\n",
      "Epoch 00009: val_acc improved from 0.55884 to 0.56166, saving model to /Users/jsha/gjai/nlp/pytest/17_practice/분류2_we_bidirectional_LSTM_model.h5\n",
      "Epoch 10/10\n",
      "3311/3311 [==============================] - 25s 8ms/step - loss: 0.0404 - acc: 0.9885 - val_loss: 2.7769 - val_acc: 0.5462\n",
      "\n",
      "Epoch 00010: val_acc did not improve from 0.56166\n"
     ]
    }
   ],
   "source": [
    "from keras.callbacks import ModelCheckpoint\n",
    "\n",
    "earlystop_callback = EarlyStopping(monitor='val_acc', patience=2)\n",
    "cp_callback = ModelCheckpoint(filepath=checkpoint_path+model_name,\n",
    "                             monitor='val_acc', verbose=1, \n",
    "                             save_best_only=True)\n",
    "history = model.fit(x_train, y_train, epochs=epochs,\n",
    "                   batch_size=batch_size, validation_split=0.3,\n",
    "                   callbacks=[earlystop_callback, cp_callback], verbose=1)\n",
    "history_dict = history.history"
   ]
  },
  {
   "cell_type": "code",
   "execution_count": 300,
   "id": "154e8bdc",
   "metadata": {},
   "outputs": [],
   "source": [
    "import pickle\n",
    "\n",
    "# model.save(model_name)\n",
    "\n",
    "with open(checkpoint_path+tokenizer_name, 'wb') as file:\n",
    "    pickle.dump(tokenizer, file, protocol=pickle.HIGHEST_PROTOCOL)\n",
    "    \n",
    "with open(checkpoint_path+labelencode_name, 'wb') as file:\n",
    "    pickle.dump(le, file, protocol=pickle.HIGHEST_PROTOCOL)\n",
    "    "
   ]
  },
  {
   "cell_type": "code",
   "execution_count": 301,
   "id": "d67a5ade",
   "metadata": {},
   "outputs": [
    {
     "name": "stdout",
     "output_type": "stream",
     "text": [
      "validation accuracy of each epoch: [0.382 0.514 0.518 0.533 0.543 0.54  0.559 0.551 0.562 0.546]\n"
     ]
    }
   ],
   "source": [
    "acc = history.history['acc']\n",
    "val_acc = history.history['val_acc']\n",
    "loss = history.history['loss']\n",
    "val_loss = history.history['val_loss']\n",
    "\n",
    "print('validation accuracy of each epoch:', np.round(val_acc,3))\n",
    "epochs = range(1, len(val_acc)+1)"
   ]
  },
  {
   "cell_type": "code",
   "execution_count": 302,
   "id": "35d1e3bd",
   "metadata": {},
   "outputs": [
    {
     "data": {
      "image/png": "[encoded data removed]",
      "text/plain": [
       "<Figure size 432x288 with 1 Axes>"
      ]
     },
     "metadata": {
      "needs_background": "light"
     },
     "output_type": "display_data"
    }
   ],
   "source": [
    "import matplotlib.pyplot as plt\n",
    "\n",
    "plt.plot(epochs, acc, 'bo', label='Training Acc')\n",
    "plt.plot(epochs, val_acc, 'r', label='Validation Acc')\n",
    "plt.title('Training and Validation Accuracy')\n",
    "plt.legend(loc=4)\n",
    "plt.show()"
   ]
  },
  {
   "cell_type": "code",
   "execution_count": 303,
   "id": "41431328",
   "metadata": {
    "scrolled": false
   },
   "outputs": [
    {
     "data": {
      "image/png": "[encoded data removed]",
      "text/plain": [
       "<Figure size 432x288 with 1 Axes>"
      ]
     },
     "metadata": {
      "needs_background": "light"
     },
     "output_type": "display_data"
    }
   ],
   "source": [
    "plt.plot(epochs, loss, 'bo', label='Training Loss')\n",
    "plt.plot(epochs, val_loss, 'r', label='Validation Loss')\n",
    "plt.title('Training and Validation loss')\n",
    "plt.legend(loc=1)\n",
    "plt.show()"
   ]
  },
  {
   "cell_type": "code",
   "execution_count": 304,
   "id": "ce0c90de",
   "metadata": {},
   "outputs": [
    {
     "name": "stderr",
     "output_type": "stream",
     "text": [
      "/Users/jsha/opt/anaconda3/envs/nlp3710/lib/python3.7/site-packages/tensorflow_core/python/framework/indexed_slices.py:424: UserWarning: Converting sparse IndexedSlices to a dense Tensor of unknown shape. This may consume a large amount of memory.\n",
      "  \"Converting sparse IndexedSlices to a dense Tensor of unknown shape. \"\n"
     ]
    }
   ],
   "source": [
    "from keras.models import load_model\n",
    "\n",
    "loaded_model = load_model(checkpoint_path+model_name)\n",
    "\n",
    "with open(checkpoint_path+tokenizer_name, 'rb') as handle:\n",
    "    loaded_tokenizer = pickle.load(handle)"
   ]
  },
  {
   "cell_type": "markdown",
   "id": "25c62249",
   "metadata": {},
   "source": [
    "### 결과"
   ]
  },
  {
   "cell_type": "code",
   "execution_count": 305,
   "id": "ac617dac",
   "metadata": {
    "scrolled": true
   },
   "outputs": [
    {
     "name": "stdout",
     "output_type": "stream",
     "text": [
      "1593/1593 [==============================] - 3s 2ms/step\n",
      "분류2 word_embedding+bidirectional_LSTM prediction\n",
      "prediction model loss & acc: [2.6581631511992354, 0.5379786491394043]\n"
     ]
    }
   ],
   "source": [
    "test_eval = loaded_model.evaluate(x_test, y_test)\n",
    "\n",
    "print('분류2 word_embedding+bidirectional_LSTM prediction')\n",
    "print('prediction model loss & acc:', test_eval)"
   ]
  }
 ],
 "metadata": {
  "kernelspec": {
   "display_name": "nlp3710",
   "language": "python",
   "name": "nlp3710"
  },
  "language_info": {
   "codemirror_mode": {
    "name": "ipython",
    "version": 3
   },
   "file_extension": ".py",
   "mimetype": "text/x-python",
   "name": "python",
   "nbconvert_exporter": "python",
   "pygments_lexer": "ipython3",
   "version": "3.7.10"
  },
  "toc": {
   "base_numbering": 1,
   "nav_menu": {},
   "number_sections": true,
   "sideBar": true,
   "skip_h1_title": false,
   "title_cell": "Table of Contents",
   "title_sidebar": "Contents",
   "toc_cell": false,
   "toc_position": {},
   "toc_section_display": true,
   "toc_window_display": true
  }
 },
 "nbformat": 4,
 "nbformat_minor": 5
}
