{
 "cells": [
  {
   "cell_type": "markdown",
   "id": "7055185c",
   "metadata": {},
   "source": [
    "# 연습문제 1\n",
    "\n",
    "- 3인 1조로 조를 구성하시오\n",
    "- 감성대화말뭉치_validation.csv의 여러 컬럼 중 [사람문장 1] 컬럼만 엑셀로 가져오시오\n",
    "- 가져온 컬럼 중 600행을 가져오시오 (조별로 가져오는 행을 다르게 함)\n",
    "    - 1. 조원끼리 분담하여 600행의 데이터에 대하여 긍정/중립/부정 라벨링을 하시오 (감정 분류 내용을 따르지 않고, 다시 라벨링을 진행. 중립은 많지 않음)\n",
    "    - 2. 600행 데이터에서 긍정 단어와 부정 단어를 찾아 조별 토의로 감정사전을 만드시오 \n",
    "    - 3. 조별로만든감정사전을통합하되,같은단어가있는경우자기조의판단내용을유지"
   ]
  },
  {
   "cell_type": "code",
   "execution_count": 9,
   "id": "a06aa8cf",
   "metadata": {},
   "outputs": [],
   "source": [
    "# import numpy as np\n",
    "# import pandas as pd\n",
    "\n",
    "# path = '/Users/jsha/gjai/nlp/pytest/'\n",
    "# file = '감성대화말뭉치(최종데이터)_Validation.xlsx'\n",
    "\n",
    "# df = pd.read_excel(path+file)\n",
    "# df2 = df.loc[1651:1800, ['감정_대분류', '감정_소분류', '사람문장1']]\n",
    "# df2.to_excel(path+'jsha_감성분석.xlsx', index=False)"
   ]
  },
  {
   "cell_type": "code",
   "execution_count": 33,
   "id": "8d490cd6",
   "metadata": {},
   "outputs": [],
   "source": [
    "import numpy as np\n",
    "import pandas as pd\n",
    "\n",
    "path = '/Users/jsha/gjai/nlp/pytest/'\n",
    "file2 = 'jsha_감성분석_labeled.xlsx'\n",
    "\n",
    "df = pd.read_excel(path+file2)\n",
    "df = df.iloc[:, [0,1,2,-1]]\n",
    "df.rename(columns={'Unnamed: 12':'label'}, inplace=True)\n",
    "df[['사람문장1', 'label']].to_csv(path+'labeling_1651_1800.csv', encoding='cp949', index=False)"
   ]
  },
  {
   "cell_type": "code",
   "execution_count": 116,
   "id": "7761dc9e",
   "metadata": {
    "scrolled": true
   },
   "outputs": [],
   "source": [
    "file1 = 'labeling_1201_1350.csv'\n",
    "file2 = 'labeling_1351_1500.xlsx'\n",
    "file3 = 'labeling_1501_1650.txt'\n",
    "file4 = 'labeling_1651_1800.csv'\n",
    "\n",
    "df1 = pd.read_csv(path+file1)\n",
    "df2 = pd.read_excel(path+file2)\n",
    "with open(path+file3, 'r', encoding='cp949') as f:\n",
    "    data = f.readlines()\n",
    "    data = [da.split('\\t') for da in data]\n",
    "    data = data[1:]\n",
    "dummy = [(ll[1], ll[2].replace('\\n', '')) for ll in data]\n",
    "df3 = pd.DataFrame(dummy, columns=['text', 'label'])\n",
    "df4 = pd.read_csv(path+file4, encoding='cp949')\n",
    "df1.columns = ['text', 'label']\n",
    "df2.columns = ['text', 'label']\n",
    "df3.columns = ['text', 'label']\n",
    "df4.columns = ['text', 'label']"
   ]
  },
  {
   "cell_type": "code",
   "execution_count": 124,
   "id": "ca6a6e86",
   "metadata": {},
   "outputs": [
    {
     "name": "stdout",
     "output_type": "stream",
     "text": [
      "<class 'pandas.core.frame.DataFrame'>\n",
      "Int64Index: 600 entries, 0 to 149\n",
      "Data columns (total 2 columns):\n",
      " #   Column  Non-Null Count  Dtype \n",
      "---  ------  --------------  ----- \n",
      " 0   text    600 non-null    object\n",
      " 1   label   600 non-null    int64 \n",
      "dtypes: int64(1), object(1)\n",
      "memory usage: 14.1+ KB\n"
     ]
    }
   ],
   "source": [
    "new = pd.concat([df1, df2, df3, df4], axis=0)\n",
    "new['label'] = pd.to_numeric(new['label'])\n",
    "new.info()\n",
    "new.to_csv(path+'통합라벨데이터.csv', encoding='cp949', index=False)"
   ]
  },
  {
   "cell_type": "code",
   "execution_count": 43,
   "id": "c874c4dd",
   "metadata": {},
   "outputs": [
    {
     "data": {
      "text/plain": [
       "(600, 2)"
      ]
     },
     "execution_count": 43,
     "metadata": {},
     "output_type": "execute_result"
    }
   ],
   "source": [
    "import pandas as pd\n",
    "import numpy as np\n",
    "\n",
    "path = '/Users/jsha/gjai/nlp/pytest/'\n",
    "file2 = '통합라벨링데이터.csv'\n",
    "\n",
    "df = pd.read_csv(path+file2)\n",
    "df.shape"
   ]
  },
  {
   "cell_type": "code",
   "execution_count": null,
   "id": "182b0d86",
   "metadata": {},
   "outputs": [],
   "source": [
    "import rhinoMorph\n",
    "\n",
    "rn = rhinoMorph.startRhino()\n",
    "\n",
    "def morph(string):\n",
    "    ll = rhinoMorph.onlyMorph_list(rn, string,\n",
    "                pos= ['NNG', 'NNP', 'VV', 'VA', 'XR', 'IC', \n",
    "                      'MM', 'MAG', 'MAJ'], eomi=True, xrVv=True)\n",
    "    return ll\n",
    "\n",
    "df['morphed'] = df['text'].apply(morph)\n",
    "df.head()"
   ]
  },
  {
   "cell_type": "markdown",
   "id": "ac2d3a14",
   "metadata": {},
   "source": [
    "## 긍정 감정사전 만들기"
   ]
  },
  {
   "cell_type": "code",
   "execution_count": 53,
   "id": "faa80153",
   "metadata": {},
   "outputs": [
    {
     "data": {
      "text/plain": [
       "text       요즈음 사는 기분이 나.팀원들의 업무분배로 인한 오해가 풀렸어.나 내일 결혼해서 너...\n",
       "morphed    [요즈음, 살다, 기분, 나다, 팀원, 업무, 분배, 인하다, 오해, 풀리다, 내일...\n",
       "dtype: object"
      ]
     },
     "execution_count": 53,
     "metadata": {},
     "output_type": "execute_result"
    }
   ],
   "source": [
    "positive = df[['text', 'morphed']][df['label']==1]\n",
    "new_positive = positive.sum()\n",
    "new_positive\n",
    "# print(len(new_positive))\n",
    "# new_positive = list(set(new_positive))\n",
    "# print(len(new_positive))\n",
    "# pd.Series(new_positive).to_excel(path+'positive.xlsx', index=False)"
   ]
  },
  {
   "cell_type": "code",
   "execution_count": 68,
   "id": "ca8950f2",
   "metadata": {},
   "outputs": [],
   "source": [
    "positive_done_df = pd.read_excel(path+'positive_done.xlsx')\n",
    "\n",
    "positive_done_df.columns = ['a', 'positive_word']\n",
    "positive_done = positive_done_df['positive_word']\n",
    "positive_done.dropna(inplace=True)"
   ]
  },
  {
   "cell_type": "code",
   "execution_count": 70,
   "id": "00f065b6",
   "metadata": {
    "scrolled": false
   },
   "outputs": [
    {
     "data": {
      "text/plain": [
       "0        기증자\n",
       "1         사다\n",
       "2         돕다\n",
       "3       배부르다\n",
       "4         맡다\n",
       "       ...  \n",
       "150       적금\n",
       "151      밤하늘\n",
       "152    만족스럽다\n",
       "153       찾다\n",
       "154      다행히\n",
       "Name: positive_word, Length: 155, dtype: object"
      ]
     },
     "execution_count": 70,
     "metadata": {},
     "output_type": "execute_result"
    }
   ],
   "source": [
    "positive_done.reset_index(drop=True)"
   ]
  },
  {
   "cell_type": "code",
   "execution_count": 89,
   "id": "ab895f01",
   "metadata": {},
   "outputs": [],
   "source": [
    "positive_done.to_csv(path+'positive_dict_jsha.csv', index=False)"
   ]
  },
  {
   "cell_type": "markdown",
   "id": "1a3450c2",
   "metadata": {},
   "source": [
    "## 부정 감정사전 만들기"
   ]
  },
  {
   "cell_type": "code",
   "execution_count": null,
   "id": "8b4a4c81",
   "metadata": {},
   "outputs": [],
   "source": []
  },
  {
   "cell_type": "code",
   "execution_count": 81,
   "id": "3a92ede3",
   "metadata": {},
   "outputs": [
    {
     "name": "stdout",
     "output_type": "stream",
     "text": [
      "3784\n",
      "1208\n"
     ]
    }
   ],
   "source": [
    "negative = df['morphed'][df['label']==-1]\n",
    "new_negative = negative.sum()\n",
    "new_negative\n",
    "print(len(new_negative))\n",
    "new_negative = list(set(new_negative))\n",
    "print(len(new_negative))\n",
    "pd.Series(new_negative).to_excel(path+'negative.xlsx', index=False)"
   ]
  },
  {
   "cell_type": "code",
   "execution_count": 87,
   "id": "e93c6b75",
   "metadata": {},
   "outputs": [],
   "source": [
    "negative_done = pd.read_excel(path+'negative_done.xlsx')\n",
    "negative_done.columns = ['negative_word']\n",
    "negative_done = negative_done['negative_word']\n",
    "negative_done.dropna(inplace=True)"
   ]
  },
  {
   "cell_type": "code",
   "execution_count": 88,
   "id": "055c83c8",
   "metadata": {
    "scrolled": false
   },
   "outputs": [
    {
     "data": {
      "text/plain": [
       "0       우울하다\n",
       "1        조르다\n",
       "2      부담스럽다\n",
       "3       파기하다\n",
       "4      잃어버리다\n",
       "       ...  \n",
       "487     싫어하다\n",
       "488     쓸쓸하다\n",
       "489        약\n",
       "490       아무\n",
       "491       가시\n",
       "Name: negative_word, Length: 492, dtype: object"
      ]
     },
     "execution_count": 88,
     "metadata": {},
     "output_type": "execute_result"
    }
   ],
   "source": [
    "negative_done.reset_index(drop=True)"
   ]
  },
  {
   "cell_type": "code",
   "execution_count": 90,
   "id": "4152856f",
   "metadata": {},
   "outputs": [],
   "source": [
    "negative_done.to_csv(path+'negative_dict_jsha.csv', index=False)"
   ]
  },
  {
   "cell_type": "code",
   "execution_count": null,
   "id": "9a35b101",
   "metadata": {},
   "outputs": [],
   "source": []
  },
  {
   "cell_type": "markdown",
   "id": "2e62de5c",
   "metadata": {},
   "source": [
    "## 중립 감정사전 만들기"
   ]
  },
  {
   "cell_type": "code",
   "execution_count": 91,
   "id": "3734a1e5",
   "metadata": {},
   "outputs": [
    {
     "name": "stdout",
     "output_type": "stream",
     "text": [
      "222\n",
      "171\n"
     ]
    }
   ],
   "source": [
    "neural = df['morphed'][df['label']==0]\n",
    "new_neural = neural.sum()\n",
    "new_neural\n",
    "print(len(new_neural))\n",
    "new_neural = list(set(new_neural))\n",
    "print(len(new_neural))\n",
    "pd.Series(new_neural).to_excel(path+'neural.xlsx', index=False)"
   ]
  },
  {
   "cell_type": "code",
   "execution_count": 100,
   "id": "5050dab5",
   "metadata": {},
   "outputs": [],
   "source": [
    "neural_done = pd.read_excel(path+'neural_done.xlsx')\n",
    "type(neural_done)\n",
    "neural_done = neural_done['neutral_word']\n",
    "neural_done.dropna(inplace=True)"
   ]
  },
  {
   "cell_type": "code",
   "execution_count": 101,
   "id": "b2ca2029",
   "metadata": {
    "scrolled": false
   },
   "outputs": [
    {
     "data": {
      "text/plain": [
       "0      따르다\n",
       "1      대하다\n",
       "2       사다\n",
       "3      맞추다\n",
       "4      챙기다\n",
       "5       다음\n",
       "6      적당히\n",
       "7     익숙하다\n",
       "8     분배하다\n",
       "9       살다\n",
       "10     다니다\n",
       "11       밥\n",
       "12    요청하다\n",
       "13      매일\n",
       "14    움직이다\n",
       "15      입다\n",
       "16     어리다\n",
       "17       안\n",
       "18      어제\n",
       "19       일\n",
       "20      남다\n",
       "21      수업\n",
       "22      주변\n",
       "23      면접\n",
       "24    관련하다\n",
       "25      도움\n",
       "26     채우다\n",
       "27    나타나다\n",
       "28      과장\n",
       "29      먹다\n",
       "30     보이다\n",
       "31      주다\n",
       "32      있다\n",
       "33      자다\n",
       "34      연락\n",
       "35      회사\n",
       "36     나누다\n",
       "37      요즘\n",
       "38    늘어나다\n",
       "39      필요\n",
       "40    담당하다\n",
       "41       애\n",
       "42      의견\n",
       "43      가다\n",
       "44      교복\n",
       "45      시선\n",
       "46      마음\n",
       "47     앞두다\n",
       "48      전체\n",
       "49    챙겨주다\n",
       "50      되다\n",
       "51      평소\n",
       "52     나오다\n",
       "Name: neutral_word, dtype: object"
      ]
     },
     "execution_count": 101,
     "metadata": {},
     "output_type": "execute_result"
    }
   ],
   "source": [
    "neural_done.reset_index(drop=True)"
   ]
  },
  {
   "cell_type": "code",
   "execution_count": 102,
   "id": "1e6abde0",
   "metadata": {},
   "outputs": [],
   "source": [
    "neural_done.to_csv(path+'neutral_dict_jsha.csv', index=False)"
   ]
  },
  {
   "cell_type": "code",
   "execution_count": null,
   "id": "bf5d16c2",
   "metadata": {},
   "outputs": [],
   "source": []
  }
 ],
 "metadata": {
  "kernelspec": {
   "display_name": "nlp3710",
   "language": "python",
   "name": "nlp3710"
  },
  "language_info": {
   "codemirror_mode": {
    "name": "ipython",
    "version": 3
   },
   "file_extension": ".py",
   "mimetype": "text/x-python",
   "name": "python",
   "nbconvert_exporter": "python",
   "pygments_lexer": "ipython3",
   "version": "3.7.10"
  },
  "toc": {
   "base_numbering": 1,
   "nav_menu": {},
   "number_sections": true,
   "sideBar": true,
   "skip_h1_title": false,
   "title_cell": "Table of Contents",
   "title_sidebar": "Contents",
   "toc_cell": false,
   "toc_position": {},
   "toc_section_display": true,
   "toc_window_display": false
  }
 },
 "nbformat": 4,
 "nbformat_minor": 5
}
