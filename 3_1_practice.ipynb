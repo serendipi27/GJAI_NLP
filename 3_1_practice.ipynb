{
 "cells": [
  {
   "cell_type": "markdown",
   "id": "f6d19f71",
   "metadata": {},
   "source": [
    "# exam1\n",
    "- 1. 윤동주와 김소월의 시를 빈도분석하여 사용한 단어들의 종류에 어떠한 차이가 있는지를 살펴보시오\n",
    "- 2. 워드 클라우드를 그리시오.\n",
    "- 3. 어절과 형태소 단위로 통계 분석을 수행하시오\n",
    "    - 다양한 그래프를 그리고 분석 결과를 해석하는 보고서를 작성"
   ]
  },
  {
   "cell_type": "code",
   "execution_count": 111,
   "id": "390db2fc",
   "metadata": {},
   "outputs": [],
   "source": [
    "from matplotlib import rc\n",
    "rc('font', family='AppleGothic')"
   ]
  },
  {
   "cell_type": "markdown",
   "id": "a4463225",
   "metadata": {},
   "source": [
    "## 윤동주와 김소얼 시 빈도 분석"
   ]
  },
  {
   "cell_type": "markdown",
   "id": "3a226717",
   "metadata": {},
   "source": [
    "### 데이터를 어절, 형태소 단위 리스트 만들기"
   ]
  },
  {
   "cell_type": "code",
   "execution_count": 112,
   "id": "8f56ea54",
   "metadata": {
    "scrolled": false
   },
   "outputs": [
    {
     "name": "stdout",
     "output_type": "stream",
     "text": [
      "filepath:  /Users/jsha/opt/anaconda3/envs/nlp3710/lib/python3.7/site-packages\n",
      "classpath:  /Users/jsha/opt/anaconda3/envs/nlp3710/lib/python3.7/site-packages/rhinoMorph/lib/rhino.jar\n",
      "JVM is already started~\n",
      "RHINO started!\n"
     ]
    }
   ],
   "source": [
    "import chardet\n",
    "import rhinoMorph\n",
    "\n",
    "path = '/Users/jsha/gjai/nlp/pytest/'\n",
    "filename = '윤동주시.txt'\n",
    "with open(path+filename, 'r') as f:\n",
    "    yoon = f.readlines()\n",
    "yoon = [sen.replace('\\n', '') for sen in yoon]\n",
    "yoon_sentence = [sen for sen in yoon if sen != ''] \n",
    "\n",
    "filename = '김소월시.txt'\n",
    "with open(path+filename, 'r') as f:\n",
    "    kim = f.readlines()\n",
    "kim = [sen.replace('\\n', '') for sen in kim]\n",
    "kim_sentence = [sen for sen in kim if sen != ''] \n",
    "\n",
    "rn = rhinoMorph.startRhino()\n",
    "yoon_morphs_list = []\n",
    "for dat in yoon_sentence:\n",
    "    yoon_morphed = rhinoMorph.onlyMorph_list(rn, dat, pos=['NNP', 'NNG',\n",
    "                                'VV', 'VA', 'IC', 'XR', 'MM', 'MAG',\n",
    "                                'MAJ'], eomi=True)\n",
    "    yoon_morphs_list += yoon_morphed\n",
    "yoon_eojul = [sen.split(' ') for sen in yoon_sentence]\n",
    "yoon_eojul_list = [word for sen in yoon_eojul for word in sen] \n",
    "\n",
    "kim_morphs_list = []\n",
    "for dat in kim_sentence:\n",
    "    kim_morphed = rhinoMorph.onlyMorph_list(rn, dat, pos=['NNP', 'NNG',\n",
    "                                'VV', 'VA', 'IC', 'XR', 'MM', 'MAG',\n",
    "                                'MAJ'], eomi=True)\n",
    "    kim_morphs_list += kim_morphed\n",
    "kim_eojul = [sen.split(' ') for sen in kim_sentence]\n",
    "kim_eojul_list = [word for sen in kim_eojul for word in sen] \n"
   ]
  },
  {
   "cell_type": "markdown",
   "id": "1f1077d4",
   "metadata": {},
   "source": [
    "### 빈도 분석"
   ]
  },
  {
   "cell_type": "code",
   "execution_count": 113,
   "id": "17015d65",
   "metadata": {
    "scrolled": true
   },
   "outputs": [
    {
     "name": "stdout",
     "output_type": "stream",
     "text": [
      "윤동주 단어빈도 총합: 326\n",
      "윤동주 고빈도 단어: ['하다', '내일', '사나이', '그', '어느', '다', '남다', '돌아가다', '없다', '오늘']\n",
      "윤동주 고빈도 단어비율: ['2.76', '2.45', '1.84', '1.53', '1.23', '1.23', '1.23', '1.23', '1.23', '1.23']\n",
      "----------------------------------------------------------------------\n",
      "----------------------------------------------------------------------\n",
      "김소월 단어빈도 총합: 732\n",
      "김소월 고빈도 단어: ['가다', '잊다', '살다', '하다', '못', '울다', '죽다', '꽃', '그립다', '멀다']\n",
      "김소월 고빈도 단어비율: ['3.01', '2.32', '2.05', '1.50', '1.37', '1.37', '1.23', '1.23', '1.23', '1.09']\n"
     ]
    }
   ],
   "source": [
    "from collections import Counter\n",
    "import pandas as pd\n",
    "\n",
    "count = Counter(yoon_morphs_list)\n",
    "key_list = []\n",
    "value_list = []\n",
    "ll = [[key, value] for key, value in count.items()]\n",
    "df = pd.DataFrame(ll, columns=['morph', 'length'])\n",
    "# print(df.head())\n",
    "df_ordered = df.sort_values(by='length', ascending=False)\n",
    "df_ordered.reset_index(drop=True, inplace=True)\n",
    "# df_ordered['length'].dtype\n",
    "df_ordered['ratio'] = df_ordered['length'].map(lambda x: f'{x / sum(df.length)*100:.2f}')\n",
    "word = df_ordered.morph.to_list()\n",
    "ratio = df_ordered.ratio.to_list()\n",
    "tot_num = sum(df_ordered.length)\n",
    "\n",
    "limnum = 10\n",
    "print('윤동주 단어빈도 총합:', tot_num)\n",
    "print('윤동주 고빈도 단어:', word[:limnum])\n",
    "print('윤동주 고빈도 단어비율:', ratio[:limnum])\n",
    "print('-'*70)\n",
    "print('-'*70)\n",
    "#-----------------------------------------------------------------\n",
    "\n",
    "count = Counter(kim_morphs_list)\n",
    "key_list = []\n",
    "value_list = []\n",
    "ll = [[key, value] for key, value in count.items()]\n",
    "df = pd.DataFrame(ll, columns=['morph', 'length'])\n",
    "# print(df.head())\n",
    "df_ordered = df.sort_values(by='length', ascending=False)\n",
    "df_ordered.reset_index(drop=True, inplace=True)\n",
    "# df_ordered['length'].dtype\n",
    "df_ordered['ratio'] = df_ordered['length'].map(lambda x: f'{x / sum(df.length)*100:.2f}')\n",
    "word = df_ordered.morph.to_list()\n",
    "ratio = df_ordered.ratio.to_list()\n",
    "tot_num = sum(df_ordered.length)\n",
    "\n",
    "limnum = 10\n",
    "print('김소월 단어빈도 총합:', tot_num)\n",
    "print('김소월 고빈도 단어:', word[:limnum])\n",
    "print('김소월 고빈도 단어비율:', ratio[:limnum])"
   ]
  },
  {
   "cell_type": "markdown",
   "id": "1abad169",
   "metadata": {},
   "source": [
    "## Word Cloud 그리기"
   ]
  },
  {
   "cell_type": "code",
   "execution_count": 114,
   "id": "7e97428d",
   "metadata": {},
   "outputs": [
    {
     "data": {
      "image/png": "[encoded data removed]",
      "text/plain": [
       "<Figure size 720x576 with 2 Axes>"
      ]
     },
     "metadata": {
      "needs_background": "light"
     },
     "output_type": "display_data"
    }
   ],
   "source": [
    "from wordcloud import WordCloud\n",
    "import matplotlib.pyplot as plt\n",
    "\n",
    "yoon_string = ' '.join(yoon_morphs_list)\n",
    "yoon_cloud = WordCloud(font_path='malgun', \n",
    "                  width=800, height=600, \n",
    "                  background_color='white').generate(yoon_string)\n",
    "\n",
    "kim_string = ' '.join(kim_morphs_list)\n",
    "kim_cloud = WordCloud(font_path='malgun', \n",
    "                  width=800, height=600, \n",
    "                  background_color='white').generate(kim_string)\n",
    "\n",
    "fig = plt.figure(figsize=(10,8))\n",
    "ax1 = fig.add_subplot(121)\n",
    "ax1.imshow(kim_cloud, interpolation='bilinear')\n",
    "ax1.set_title('Kim')\n",
    "plt.axis('off')\n",
    "\n",
    "ax2 = fig.add_subplot(122)\n",
    "ax2.imshow(yoon_cloud, interpolation='bilinear')\n",
    "ax2.set_title('Yoon')\n",
    "plt.axis('off')\n",
    "plt.show()"
   ]
  },
  {
   "cell_type": "markdown",
   "id": "746633ef",
   "metadata": {},
   "source": [
    "## 어절 리스트, 형태소 리스트 통계분석하기"
   ]
  },
  {
   "cell_type": "code",
   "execution_count": 115,
   "id": "f069c699",
   "metadata": {},
   "outputs": [
    {
     "name": "stdout",
     "output_type": "stream",
     "text": [
      "------------------------------윤동주 시 통계분석 결과------------------------------\n",
      "count    93.000000\n",
      "mean      4.107527\n",
      "std       2.018730\n",
      "min       1.000000\n",
      "25%       3.000000\n",
      "50%       4.000000\n",
      "75%       5.000000\n",
      "max      12.000000\n",
      "dtype: float64\n",
      "7.3999999999999915\n",
      "----------------------------------------------------------------------\n",
      "----------------------------------------------------------------------\n",
      "------------------------------김소월 시 통계분석 결과------------------------------\n",
      "count    304.000000\n",
      "mean       3.983553\n",
      "std        5.130289\n",
      "min        1.000000\n",
      "25%        2.000000\n",
      "50%        3.000000\n",
      "75%        4.000000\n",
      "max       81.000000\n",
      "dtype: float64\n",
      "12.0\n"
     ]
    }
   ],
   "source": [
    "import pandas as pd\n",
    "import numpy as np\n",
    "import matplotlib.pyplot as plt\n",
    "\n",
    "yoon_sentence_length_list = [len(sen.split(' ')) for sen in yoon_sentence]\n",
    "kim_sentence_length_list = [len(sen.split(' ')) for sen in kim_sentence]\n",
    "\n",
    "yoon_ss = pd.Series(yoon_sentence_length_list)\n",
    "print('-'*30+'윤동주 시 통계분석 결과'+'-'*30)\n",
    "print(yoon_ss.describe())\n",
    "print(yoon_ss.quantile(0.95)) # max 12는 특이값에 가까움\n",
    "print('-'*70)\n",
    "print('-'*70)\n",
    "print('-'*30+'김소월 시 통계분석 결과'+'-'*30)\n",
    "kim_ss = pd.Series(kim_sentence_length_list)\n",
    "print(kim_ss.describe())\n",
    "print(kim_ss.quantile(0.95)) # max 12는 특이값에 가까움\n"
   ]
  },
  {
   "cell_type": "code",
   "execution_count": 116,
   "id": "76e33cb6",
   "metadata": {},
   "outputs": [
    {
     "data": {
      "image/png": "[encoded data removed]",
      "text/plain": [
       "<Figure size 720x576 with 1 Axes>"
      ]
     },
     "metadata": {
      "needs_background": "light"
     },
     "output_type": "display_data"
    }
   ],
   "source": [
    "# 어절 수 boxplot\n",
    "plt.figure(figsize=(10,8))\n",
    "plt.boxplot(yoon_sentence_length_list, labels=['어절'])\n",
    "plt.show()"
   ]
  },
  {
   "cell_type": "code",
   "execution_count": 117,
   "id": "921f66f7",
   "metadata": {},
   "outputs": [
    {
     "data": {
      "image/png": "[encoded data removed]",
      "text/plain": [
       "<Figure size 720x576 with 1 Axes>"
      ]
     },
     "metadata": {
      "needs_background": "light"
     },
     "output_type": "display_data"
    }
   ],
   "source": [
    "# 어절 수 분포 histplot\n",
    "plt.figure(figsize=(10,8))\n",
    "plt.hist(yoon_sentence_length_list, bins=50, label='어절 수')\n",
    "plt.show()"
   ]
  },
  {
   "cell_type": "code",
   "execution_count": null,
   "id": "555b3c6b",
   "metadata": {},
   "outputs": [],
   "source": []
  },
  {
   "cell_type": "markdown",
   "id": "2841b65e",
   "metadata": {},
   "source": [
    "# Exam 3 - 감성대화\n",
    "- 감성대화말뭉치_validation.csv 파일을 읽고 다음을 수행하시오\n",
    "    - 1. [사람문장 1/2/3/4] 컬럼을 pandas로 읽고, 결합\n",
    "    - 2. 결측치가 있는 행은 제거\n",
    "    - 3. 분류 항목(연령, 성별, 감정_대분류)에 따라 어떤 어휘적 특징이 있는지 조사 (품사 태그 선택에 유의)\n",
    "- 앞뒤로 3~4인이 1조가 되어 분석 결과를 공유하고, 하나의 보고서를 만들어 발표 • 먼저개인별로분석하고,이후조별로분석결과공유\n",
    "\n",
    "- 두 가지 가설을 세우자\n",
    "    - 1. 청소년과 청년이 중년과 노년보다 어휘 중 IC(감탄사)의 비중이 높을 것이다. \n",
    "    - 2. 연령층별 기쁨의 감정과 슬픔의 감정을 대변하는 어휘를 찾고 그 이유에 대해 유추해 보자."
   ]
  },
  {
   "cell_type": "markdown",
   "id": "4643d43d",
   "metadata": {},
   "source": [
    "## 감성대화 말뭉치_validation.csv 파일 읽기 "
   ]
  },
  {
   "cell_type": "code",
   "execution_count": 118,
   "id": "0dfe551e",
   "metadata": {},
   "outputs": [],
   "source": [
    "# 한글 폰트 설정하기\n",
    "from matplotlib import rc\n",
    "rc('font', family='AppleGothic')"
   ]
  },
  {
   "cell_type": "code",
   "execution_count": 119,
   "id": "3e44fea1",
   "metadata": {},
   "outputs": [],
   "source": [
    "# 감성대화말뭉치 가져오기\n",
    "import numpy as np\n",
    "import pandas as pd\n",
    "\n",
    "path = '/Users/jsha/gjai/nlp/pytest/'\n",
    "file = '감성대화말뭉치(최종데이터)_Validation.xlsx'\n",
    "\n",
    "df = pd.read_excel(path+file)"
   ]
  },
  {
   "cell_type": "code",
   "execution_count": 120,
   "id": "f0f8b288",
   "metadata": {},
   "outputs": [
    {
     "name": "stdout",
     "output_type": "stream",
     "text": [
      "<class 'pandas.core.frame.DataFrame'>\n",
      "RangeIndex: 5130 entries, 0 to 5129\n",
      "Data columns (total 4 columns):\n",
      " #   Column  Non-Null Count  Dtype \n",
      "---  ------  --------------  ----- \n",
      " 0   사람문장1   5130 non-null   object\n",
      " 1   사람문장2   5130 non-null   object\n",
      " 2   사람문장3   5130 non-null   object\n",
      " 3   사람문장4   5130 non-null   object\n",
      "dtypes: object(4)\n",
      "memory usage: 160.4+ KB\n"
     ]
    },
    {
     "data": {
      "text/html": [
       "<div>\n",
       "<style scoped>\n",
       "    .dataframe tbody tr th:only-of-type {\n",
       "        vertical-align: middle;\n",
       "    }\n",
       "\n",
       "    .dataframe tbody tr th {\n",
       "        vertical-align: top;\n",
       "    }\n",
       "\n",
       "    .dataframe thead th {\n",
       "        text-align: right;\n",
       "    }\n",
       "</style>\n",
       "<table border=\"1\" class=\"dataframe\">\n",
       "  <thead>\n",
       "    <tr style=\"text-align: right;\">\n",
       "      <th></th>\n",
       "      <th>번호</th>\n",
       "      <th>연령</th>\n",
       "      <th>성별</th>\n",
       "      <th>상황키워드</th>\n",
       "      <th>신체질환</th>\n",
       "      <th>감정_대분류</th>\n",
       "      <th>감정_소분류</th>\n",
       "      <th>사람문장1</th>\n",
       "      <th>시스템응답1</th>\n",
       "      <th>사람문장2</th>\n",
       "      <th>시스템응답2</th>\n",
       "      <th>사람문장3</th>\n",
       "      <th>시스템응답3</th>\n",
       "      <th>사람문장4</th>\n",
       "      <th>시스템응답4</th>\n",
       "      <th>sum_string</th>\n",
       "    </tr>\n",
       "  </thead>\n",
       "  <tbody>\n",
       "    <tr>\n",
       "      <th>0</th>\n",
       "      <td>23093</td>\n",
       "      <td>청년</td>\n",
       "      <td>여성</td>\n",
       "      <td>진로, 취업, 직장</td>\n",
       "      <td>해당없음</td>\n",
       "      <td>분노</td>\n",
       "      <td>툴툴대는</td>\n",
       "      <td>요즘 부모님과 많이 부딪혀.</td>\n",
       "      <td>어떤 일로 부딪히시나요?</td>\n",
       "      <td>난 하고 싶은 일이 있는데 부모님은 안정적인 일만 하라고 하셔. 내 마음대로 하지도...</td>\n",
       "      <td>부모님과의 충돌로 힘드시겠군요.</td>\n",
       "      <td>응. 그래도 난 내가 하고 싶은 일을 위해 노력할 거야.</td>\n",
       "      <td>자신이 하고 싶은 일을 목표로 하기로 하셨군요.</td>\n",
       "      <td>NaN</td>\n",
       "      <td>NaN</td>\n",
       "      <td>요즘 부모님과 많이 부딪혀. 난 하고 싶은 일이 있는데 부모님은 안정적인 일만 하라...</td>\n",
       "    </tr>\n",
       "  </tbody>\n",
       "</table>\n",
       "</div>"
      ],
      "text/plain": [
       "      번호  연령  성별       상황키워드  신체질환 감정_대분류 감정_소분류            사람문장1  \\\n",
       "0  23093  청년  여성  진로, 취업, 직장  해당없음     분노   툴툴대는  요즘 부모님과 많이 부딪혀.   \n",
       "\n",
       "          시스템응답1                                              사람문장2  \\\n",
       "0  어떤 일로 부딪히시나요?  난 하고 싶은 일이 있는데 부모님은 안정적인 일만 하라고 하셔. 내 마음대로 하지도...   \n",
       "\n",
       "              시스템응답2                            사람문장3  \\\n",
       "0  부모님과의 충돌로 힘드시겠군요.  응. 그래도 난 내가 하고 싶은 일을 위해 노력할 거야.   \n",
       "\n",
       "                       시스템응답3 사람문장4 시스템응답4  \\\n",
       "0  자신이 하고 싶은 일을 목표로 하기로 하셨군요.   NaN    NaN   \n",
       "\n",
       "                                          sum_string  \n",
       "0  요즘 부모님과 많이 부딪혀. 난 하고 싶은 일이 있는데 부모님은 안정적인 일만 하라...  "
      ]
     },
     "execution_count": 120,
     "metadata": {},
     "output_type": "execute_result"
    }
   ],
   "source": [
    "# 사람문장1/2/3/4을 합쳐서 sum_string으로 만들기\n",
    "df.columns\n",
    "\n",
    "human_df = df[df.columns[-8::2]].copy()\n",
    "\n",
    "def func_sum(string):\n",
    "    return ' '.join(string)\n",
    "    \n",
    "human_df.replace({np.nan:''}, inplace=True)\n",
    "human_df.info()\n",
    "human_df['sum_string'] = human_df.apply(func_sum, axis=1)\n",
    "human_df.head()\n",
    "\n",
    "df['sum_string'] = human_df.sum_string\n",
    "df.head(1)"
   ]
  },
  {
   "cell_type": "code",
   "execution_count": 121,
   "id": "e9d1db51",
   "metadata": {},
   "outputs": [
    {
     "name": "stdout",
     "output_type": "stream",
     "text": [
      "(5130, 5)\n",
      "(5130, 5)\n"
     ]
    },
    {
     "data": {
      "text/plain": [
       "(5130, 16)"
      ]
     },
     "execution_count": 121,
     "metadata": {},
     "output_type": "execute_result"
    }
   ],
   "source": [
    "# 결측치 행 제거\n",
    "print(human_df.shape)\n",
    "human_df.dropna(inplace=True)\n",
    "print(human_df.shape)\n",
    "human_df.head(2)\n",
    "\n",
    "df.shape\n",
    "df.dropna(subset=['sum_string'], inplace=True)\n",
    "df.shape"
   ]
  },
  {
   "cell_type": "markdown",
   "id": "b494a8a9",
   "metadata": {},
   "source": [
    "## 가설검증1\n",
    "- 가설: 청소년과 청년이 중년과 노년보다 어휘 중 IC(감탄사)의 비중이 높을 것이다. \n",
    "- 사용할 품사 태그: 9개의 모든 품사태그를 사용한다.\n",
    "- 방법:\n",
    "    - 연령별 전체 태그 대비 IC의 태그 비율을 확인해야 한다.\n",
    "    - 1. 전체를 형태소 분석을 한다음(이때, 형태소와 pos를 모두 가져와야 해), \n",
    "    - 2. 연령별로 모으고,\n",
    "    - 태그의 수를 센 다음,\n",
    "    - 연령별로 비교한다."
   ]
  },
  {
   "cell_type": "code",
   "execution_count": 122,
   "id": "b811bfb1",
   "metadata": {},
   "outputs": [],
   "source": [
    "# # method2\n",
    "# new_df = pd.concat([human_df, df[classifier_columns]], \n",
    "#                    keys=human_df.index, join='inner', axis=1)\n",
    "# new_df.shape"
   ]
  },
  {
   "cell_type": "code",
   "execution_count": 123,
   "id": "afcbb7d9",
   "metadata": {},
   "outputs": [
    {
     "name": "stdout",
     "output_type": "stream",
     "text": [
      "(5130, 4)\n",
      "(5130, 4)\n"
     ]
    }
   ],
   "source": [
    "# 필요한 컬럼만 따로 떼어서 new_df를 만든다.\n",
    "classifier_columns = ['연령', '성별', '감정_대분류', 'sum_string']\n",
    "\n",
    "new_df = df[classifier_columns].copy()\n",
    "print(new_df.shape)\n",
    "new_df.dropna(inplace=True)\n",
    "print(new_df.shape)"
   ]
  },
  {
   "cell_type": "code",
   "execution_count": 124,
   "id": "d5fa05cc",
   "metadata": {},
   "outputs": [],
   "source": [
    "# import rhinoMorph\n",
    "\n",
    "# rn = rhinoMorph.startRhino()\n",
    "\n",
    "# def func_morph(string):\n",
    "#     morphs, poses = rhinoMorph.wholeResult_list(rn, string, pos=['NNP', 'NNG', \n",
    "#         'VV', 'VA', 'XR', 'IC', 'MM', 'MAG', 'MAJ'], eomi=True, xrVv=True)\n",
    "# #     pos=['NNP', 'NNG', 'VV', 'VA', 'XR', 'IC', 'MM', 'MAG', 'MAJ'], eomi=True)\n",
    "#     return morphs\n",
    "\n",
    "# def func_poses(string):\n",
    "#     morphs, poses = rhinoMorph.wholeResult_list(rn, string, pos=['NNP', 'NNG', \n",
    "#         'VV', 'VA', 'XR', 'IC', 'MM', 'MAG', 'MAJ'], eomi=True, xrVv=True)\n",
    "# #     pos=['NNP', 'NNG', 'VV', 'VA', 'XR', 'IC', 'MM', 'MAG', 'MAJ'], eomi=True)\n",
    "#     return poses\n",
    "\n",
    "# # 연령별 나누기\n",
    "# # 연령에 따른 어휘적 특징 분석\n",
    "# age_df = new_df[['연령', 'sum_string']].copy()\n",
    "# age_df['morphed'] = age_df['sum_string'].apply(func_morph)\n",
    "# age_df['pos'] = age_df['sum_string'].apply(func_poses)\n",
    "\n",
    "# age_list = age_df.연령.value_counts().index.to_list()\n",
    "# age_morph_dict = {}\n",
    "# for name in age_list:\n",
    "#     result = age_df['morphed'][age_df['연령'] == name].to_list()\n",
    "#     result = ' '.join(result)\n",
    "#     age_morph_dict[name] = result\n",
    "\n",
    "    \n",
    "# from collections import Counter\n",
    "# import matplotlib.pyplot as plt\n",
    "# %matplotlib inline\n",
    "# import seaborn as sns\n",
    "\n",
    "# stopwords_ko = [\"하다\", \"있다\", \"되다\", \"그\", \"않다\", \"없다\", \"나\", \"말\", \n",
    "#                 \"사람\", \"이\", \"보다\", \" 한\", \"때\", \"년\", \"같다\", \"대하다\", \n",
    "#                 \"일\", \"이\", \"생각\", \"위하다\", \"때문\", \"그것\", \"그러나\", \"가다\",\n",
    "#                 \" 받다\", \"그렇다\", \"알다\", \"사회\", \"더\", \"그녀\", \"문제\", \n",
    "#                 \"오다\", \"그리고\", \"크다\", \"속\", \"너무\"]\n",
    "\n",
    "# age_dict = {}\n",
    "# numlim = 20\n",
    "# for key, value in age_morph_dict.items():\n",
    "#     dummy = value.split(' ')\n",
    "# #     dummy = [val for val in dummy if val not in stopwords_ko]\n",
    "#     age_dict[key] = pd.DataFrame(Counter(dummy).most_common(numlim),\n",
    "#                                 columns=['morph', 'count'])"
   ]
  },
  {
   "cell_type": "code",
   "execution_count": 125,
   "id": "ed0e1932",
   "metadata": {
    "scrolled": true
   },
   "outputs": [
    {
     "data": {
      "text/html": [
       "<div>\n",
       "<style scoped>\n",
       "    .dataframe tbody tr th:only-of-type {\n",
       "        vertical-align: middle;\n",
       "    }\n",
       "\n",
       "    .dataframe tbody tr th {\n",
       "        vertical-align: top;\n",
       "    }\n",
       "\n",
       "    .dataframe thead th {\n",
       "        text-align: right;\n",
       "    }\n",
       "</style>\n",
       "<table border=\"1\" class=\"dataframe\">\n",
       "  <thead>\n",
       "    <tr style=\"text-align: right;\">\n",
       "      <th></th>\n",
       "      <th>연령</th>\n",
       "      <th>성별</th>\n",
       "      <th>감정_대분류</th>\n",
       "      <th>sum_string</th>\n",
       "    </tr>\n",
       "  </thead>\n",
       "  <tbody>\n",
       "    <tr>\n",
       "      <th>0</th>\n",
       "      <td>청년</td>\n",
       "      <td>여성</td>\n",
       "      <td>분노</td>\n",
       "      <td>요즘 부모님과 많이 부딪혀. 난 하고 싶은 일이 있는데 부모님은 안정적인 일만 하라...</td>\n",
       "    </tr>\n",
       "    <tr>\n",
       "      <th>1</th>\n",
       "      <td>청소년</td>\n",
       "      <td>남성</td>\n",
       "      <td>슬픔</td>\n",
       "      <td>엄마가 결국 집을 나갔어. 너무 너무 슬퍼. 엄마도 엄마만의 인생이 있을 테니 가지...</td>\n",
       "    </tr>\n",
       "    <tr>\n",
       "      <th>2</th>\n",
       "      <td>청소년</td>\n",
       "      <td>남성</td>\n",
       "      <td>불안</td>\n",
       "      <td>학교에서 한 친구를 괴롭히는 무리에게 그만하라고 했어. 그런데 말을 하고 난 후 나...</td>\n",
       "    </tr>\n",
       "    <tr>\n",
       "      <th>3</th>\n",
       "      <td>청년</td>\n",
       "      <td>남성</td>\n",
       "      <td>당황</td>\n",
       "      <td>이번에 팀장님이 간단한 조사 업무를 부탁하셨는데 내가 잘못 처리했어. 너무 절망적이...</td>\n",
       "    </tr>\n",
       "    <tr>\n",
       "      <th>4</th>\n",
       "      <td>중년</td>\n",
       "      <td>여성</td>\n",
       "      <td>분노</td>\n",
       "      <td>남편이 이혼할 때 위자료를 주지 않으려고 변호사를 고용했어. 어떻게 그럴 수가 있지...</td>\n",
       "    </tr>\n",
       "  </tbody>\n",
       "</table>\n",
       "</div>"
      ],
      "text/plain": [
       "    연령  성별 감정_대분류                                         sum_string\n",
       "0   청년  여성     분노  요즘 부모님과 많이 부딪혀. 난 하고 싶은 일이 있는데 부모님은 안정적인 일만 하라...\n",
       "1  청소년  남성     슬픔  엄마가 결국 집을 나갔어. 너무 너무 슬퍼. 엄마도 엄마만의 인생이 있을 테니 가지...\n",
       "2  청소년  남성     불안  학교에서 한 친구를 괴롭히는 무리에게 그만하라고 했어. 그런데 말을 하고 난 후 나...\n",
       "3   청년  남성     당황  이번에 팀장님이 간단한 조사 업무를 부탁하셨는데 내가 잘못 처리했어. 너무 절망적이...\n",
       "4   중년  여성     분노  남편이 이혼할 때 위자료를 주지 않으려고 변호사를 고용했어. 어떻게 그럴 수가 있지..."
      ]
     },
     "execution_count": 125,
     "metadata": {},
     "output_type": "execute_result"
    }
   ],
   "source": [
    "new_df.head()"
   ]
  },
  {
   "cell_type": "code",
   "execution_count": 126,
   "id": "1a0af52b",
   "metadata": {},
   "outputs": [
    {
     "name": "stdout",
     "output_type": "stream",
     "text": [
      "filepath:  /Users/jsha/opt/anaconda3/envs/nlp3710/lib/python3.7/site-packages\n",
      "classpath:  /Users/jsha/opt/anaconda3/envs/nlp3710/lib/python3.7/site-packages/rhinoMorph/lib/rhino.jar\n",
      "JVM is already started~\n",
      "RHINO started!\n"
     ]
    }
   ],
   "source": [
    "# 형태소 분석과 pos new_df에 넣기\n",
    "import rhinoMorph\n",
    "\n",
    "rn = rhinoMorph.startRhino()\n",
    "\n",
    "def func_morph(string):\n",
    "    morphs = rhinoMorph.onlyMorph_list(rn, string, pos=['NNP', 'NNG', \n",
    "        'VV', 'VA', 'XR', 'IC', 'MM', 'MAG', 'MAJ'], eomi=True, xrVv=True)\n",
    "#     pos=['NNP', 'NNG', 'VV', 'VA', 'XR', 'IC', 'MM', 'MAG', 'MAJ'], eomi=True)\n",
    "    return morphs\n",
    "\n",
    "def func_poses(string):\n",
    "    morphs, poses = rhinoMorph.wholeResult_list(rn, string, pos=['NNP', 'NNG', \n",
    "        'VV', 'VA', 'XR', 'IC', 'MM', 'MAG', 'MAJ'], eomi=True, xrVv=True)\n",
    "#     pos=['NNP', 'NNG', 'VV', 'VA', 'XR', 'IC', 'MM', 'MAG', 'MAJ'], eomi=True)\n",
    "    return poses\n",
    "\n",
    "# new_df에 morph와 pos 컬럼 넣기\n",
    "new_df['morph'] = new_df['sum_string'].apply(func_morph)\n",
    "new_df['pos'] = new_df['sum_string'].apply(func_poses)\n",
    "    "
   ]
  },
  {
   "cell_type": "code",
   "execution_count": 127,
   "id": "b6a6d172",
   "metadata": {},
   "outputs": [
    {
     "name": "stderr",
     "output_type": "stream",
     "text": [
      "/Users/jsha/opt/anaconda3/envs/nlp3710/lib/python3.7/site-packages/ipykernel_launcher.py:5: FutureWarning: Indexing with multiple keys (implicitly converted to a tuple of keys) will be deprecated, use a list instead.\n",
      "  \"\"\"\n"
     ]
    },
    {
     "data": {
      "text/html": [
       "<div>\n",
       "<style scoped>\n",
       "    .dataframe tbody tr th:only-of-type {\n",
       "        vertical-align: middle;\n",
       "    }\n",
       "\n",
       "    .dataframe tbody tr th {\n",
       "        vertical-align: top;\n",
       "    }\n",
       "\n",
       "    .dataframe thead th {\n",
       "        text-align: right;\n",
       "    }\n",
       "</style>\n",
       "<table border=\"1\" class=\"dataframe\">\n",
       "  <thead>\n",
       "    <tr style=\"text-align: right;\">\n",
       "      <th></th>\n",
       "      <th>morph</th>\n",
       "      <th>pos</th>\n",
       "    </tr>\n",
       "    <tr>\n",
       "      <th>연령</th>\n",
       "      <th></th>\n",
       "      <th></th>\n",
       "    </tr>\n",
       "  </thead>\n",
       "  <tbody>\n",
       "    <tr>\n",
       "      <th>노년</th>\n",
       "      <td>[이번, 약이, 바뀌다, 정말, 구역질, 나다, 의사, 한번, 말, 하다, 보다, ...</td>\n",
       "      <td>[NNG, NNG, VV, MAG, XR, VV, NNG, MAG, NNG, VV,...</td>\n",
       "    </tr>\n",
       "    <tr>\n",
       "      <th>중년</th>\n",
       "      <td>[남편, 이혼하다, 때, 위자료, 주다, 변호사, 고용하다, 어떻하다, 그렇다, 있...</td>\n",
       "      <td>[NNG, VV, NNG, NNG, VV, NNG, VV, VA, VA, VV, M...</td>\n",
       "    </tr>\n",
       "    <tr>\n",
       "      <th>청년</th>\n",
       "      <td>[요즘, 부모, 많이, 부딪치다, 하다, 일, 있다, 부모, 안정적, 일, 하다, ...</td>\n",
       "      <td>[NNG, NNG, MAG, VV, VV, NNG, VV, NNG, NNG, NNG...</td>\n",
       "    </tr>\n",
       "    <tr>\n",
       "      <th>청소년</th>\n",
       "      <td>[엄마, 결국, 집, 나가다, 너무, 너무, 슬프다, 엄마, 엄마, 인생, 테, 마...</td>\n",
       "      <td>[NNG, MAG, NNG, VV, MAG, MAG, VA, NNG, NNG, NN...</td>\n",
       "    </tr>\n",
       "  </tbody>\n",
       "</table>\n",
       "</div>"
      ],
      "text/plain": [
       "                                                 morph  \\\n",
       "연령                                                       \n",
       "노년   [이번, 약이, 바뀌다, 정말, 구역질, 나다, 의사, 한번, 말, 하다, 보다, ...   \n",
       "중년   [남편, 이혼하다, 때, 위자료, 주다, 변호사, 고용하다, 어떻하다, 그렇다, 있...   \n",
       "청년   [요즘, 부모, 많이, 부딪치다, 하다, 일, 있다, 부모, 안정적, 일, 하다, ...   \n",
       "청소년  [엄마, 결국, 집, 나가다, 너무, 너무, 슬프다, 엄마, 엄마, 인생, 테, 마...   \n",
       "\n",
       "                                                   pos  \n",
       "연령                                                      \n",
       "노년   [NNG, NNG, VV, MAG, XR, VV, NNG, MAG, NNG, VV,...  \n",
       "중년   [NNG, VV, NNG, NNG, VV, NNG, VV, VA, VA, VV, M...  \n",
       "청년   [NNG, NNG, MAG, VV, VV, NNG, VV, NNG, NNG, NNG...  \n",
       "청소년  [NNG, MAG, NNG, VV, MAG, MAG, VA, NNG, NNG, NN...  "
      ]
     },
     "execution_count": 127,
     "metadata": {},
     "output_type": "execute_result"
    }
   ],
   "source": [
    "#연령별 morph와 pos 별 개수세기\n",
    "from collections import Counter\n",
    "\n",
    "new_df.head()\n",
    "age_df = new_df.groupby(by='연령')['morph', 'pos'].sum()\n",
    "age_df.head()"
   ]
  },
  {
   "cell_type": "code",
   "execution_count": 128,
   "id": "6864250d",
   "metadata": {},
   "outputs": [
    {
     "data": {
      "text/plain": [
       "{'청소년':    pos  count\n",
       " 0  NNG   7750\n",
       " 1   VV   6520\n",
       " 2  MAG   2553\n",
       " 3   VA   1860\n",
       " 4   MM    412\n",
       " 5   IC    152\n",
       " 6  NNP    110\n",
       " 7  MAJ    108\n",
       " 8   XR     38,\n",
       " '청년':    pos  count\n",
       " 0  NNG  13637\n",
       " 1   VV  11306\n",
       " 2  MAG   4698\n",
       " 3   VA   3002\n",
       " 4   MM    791\n",
       " 5   IC    315\n",
       " 6  NNP    196\n",
       " 7  MAJ    182\n",
       " 8   XR     65,\n",
       " '중년':    pos  count\n",
       " 0  NNG  12047\n",
       " 1   VV   9431\n",
       " 2  MAG   3896\n",
       " 3   VA   2624\n",
       " 4   MM    527\n",
       " 5   IC    209\n",
       " 6  NNP    142\n",
       " 7  MAJ    127\n",
       " 8   XR     62,\n",
       " '노년':    pos  count\n",
       " 0  NNG  11829\n",
       " 1   VV   9734\n",
       " 2  MAG   3735\n",
       " 3   VA   2887\n",
       " 4   MM    515\n",
       " 5  NNP    196\n",
       " 6   IC    179\n",
       " 7  MAJ    114\n",
       " 8   XR     47}"
      ]
     },
     "execution_count": 128,
     "metadata": {},
     "output_type": "execute_result"
    }
   ],
   "source": [
    "youth_morph_df = pd.DataFrame(Counter(age_df.loc['청소년','morph']).most_common(20), \n",
    "                      columns=['morph', 'count'])\n",
    "youth_pos_df = pd.DataFrame(Counter(age_df.loc['청소년','pos']).most_common(20), \n",
    "                      columns=['pos', 'count'])\n",
    "fresh_pos_df = pd.DataFrame(Counter(age_df.loc['청년','pos']).most_common(20), \n",
    "                      columns=['pos', 'count'])\n",
    "mid_pos_df = pd.DataFrame(Counter(age_df.loc['중년','pos']).most_common(20), \n",
    "                      columns=['pos', 'count'])\n",
    "old_pos_df = pd.DataFrame(Counter(age_df.loc['노년','pos']).most_common(20), \n",
    "                      columns=['pos', 'count'])\n",
    "result_dict = {'청소년':youth_pos_df, '청년':fresh_pos_df,\n",
    "               '중년':mid_pos_df, '노년':old_pos_df}\n",
    "result_dict"
   ]
  },
  {
   "cell_type": "code",
   "execution_count": 129,
   "id": "9b6eae6f",
   "metadata": {},
   "outputs": [
    {
     "data": {
      "image/png": "[encoded data removed]",
      "text/plain": [
       "<Figure size 432x288 with 1 Axes>"
      ]
     },
     "metadata": {
      "needs_background": "light"
     },
     "output_type": "display_data"
    }
   ],
   "source": [
    "dummy_list = []\n",
    "key_list = []\n",
    "for key, value in result_dict.items():\n",
    "    value['ratio'] = value['count'].apply(lambda x: \n",
    "                    round(x/value['count'].sum(), 2))\n",
    "    dum = value['ratio'][value['pos'] == 'IC'].to_list()\n",
    "    dummy_list += dum\n",
    "    key_list.append(key)\n",
    "result_df = pd.DataFrame(np.array([key_list, dummy_list]).T, \n",
    "                         columns=['age', 'ratio'])\n",
    "result_df['ratio'] = result_df['ratio'].astype(float)\n",
    "sns.barplot(data=result_df, x='age', y='ratio')\n",
    "plt.show()"
   ]
  },
  {
   "cell_type": "markdown",
   "id": "d0a3fe45",
   "metadata": {},
   "source": [
    "### 결론: 연령별 IC의 비중 차이는 없다. 청년이나 청소년에서 더 높은 비율로 나타나거나 하지 않는다."
   ]
  },
  {
   "cell_type": "code",
   "execution_count": null,
   "id": "a38c2a75",
   "metadata": {},
   "outputs": [],
   "source": []
  },
  {
   "cell_type": "code",
   "execution_count": null,
   "id": "65d1bad8",
   "metadata": {},
   "outputs": [],
   "source": []
  },
  {
   "cell_type": "markdown",
   "id": "e7c79725",
   "metadata": {},
   "source": [
    "## 가설검증2\n",
    "- 가설: 기쁨, 슬픔에 따라 연령별 사용하는 단어를 파악해 보자.\n",
    "- 사용할 품사 태그: NNG, NNP, 2개를 제외한 7개를 사용한다.\n",
    "- 방법:"
   ]
  },
  {
   "cell_type": "code",
   "execution_count": 130,
   "id": "d7ae7583",
   "metadata": {},
   "outputs": [
    {
     "name": "stdout",
     "output_type": "stream",
     "text": [
      "filepath:  /Users/jsha/opt/anaconda3/envs/nlp3710/lib/python3.7/site-packages\n",
      "classpath:  /Users/jsha/opt/anaconda3/envs/nlp3710/lib/python3.7/site-packages/rhinoMorph/lib/rhino.jar\n",
      "JVM is already started~\n",
      "RHINO started!\n"
     ]
    }
   ],
   "source": [
    "# 형태소 분석과 pos new_df에 넣기\n",
    "import rhinoMorph\n",
    "\n",
    "rn = rhinoMorph.startRhino()\n",
    "stopwords_ko = [\"하다\", \"있다\", \"되다\", \"그\", \"않다\", \"없다\", \"나\", \"말\", \n",
    "                \"사람\", \"이\", \"보다\", \" 한\", \"때\", \"년\", \"같다\", \"대하다\", \n",
    "                \"일\", \"이\", \"생각\", \"위하다\", \"때문\", \"그것\", \"그러나\", \"가다\",\n",
    "                \" 받다\", \"그렇다\", \"알다\", \"사회\", \"더\", \"그녀\", \"문제\", \n",
    "                \"오다\", \"그리고\", \"크다\", \"속\", \"너무\", '좋다', '정말', '잘']\n",
    "\n",
    "def func_morph(string):\n",
    "    morphs = rhinoMorph.onlyMorph_list(rn, string, pos=['VV', 'VA','XR', 'MM', 'MAG', 'MAJ'], eomi=True, xrVv=True)\n",
    "#     pos=['NNP', 'NNG', 'VV', 'VA', 'XR', 'IC', 'MM', 'MAG', 'MAJ'], eomi=True)\n",
    "# xrVv=True\n",
    "    dummy = [val for val in morphs if val not in stopwords_ko]\n",
    "    return dummy\n",
    "\n",
    "# new_df에 morph와 pos 컬럼 넣기\n",
    "new_df['morph'] = new_df['sum_string'].apply(func_morph)\n",
    "    "
   ]
  },
  {
   "cell_type": "code",
   "execution_count": 131,
   "id": "6a807aca",
   "metadata": {},
   "outputs": [
    {
     "data": {
      "text/html": [
       "<div>\n",
       "<style scoped>\n",
       "    .dataframe tbody tr th:only-of-type {\n",
       "        vertical-align: middle;\n",
       "    }\n",
       "\n",
       "    .dataframe tbody tr th {\n",
       "        vertical-align: top;\n",
       "    }\n",
       "\n",
       "    .dataframe thead th {\n",
       "        text-align: right;\n",
       "    }\n",
       "</style>\n",
       "<table border=\"1\" class=\"dataframe\">\n",
       "  <thead>\n",
       "    <tr style=\"text-align: right;\">\n",
       "      <th></th>\n",
       "      <th>morph</th>\n",
       "    </tr>\n",
       "    <tr>\n",
       "      <th>연령</th>\n",
       "      <th></th>\n",
       "    </tr>\n",
       "  </thead>\n",
       "  <tbody>\n",
       "    <tr>\n",
       "      <th>노년</th>\n",
       "      <td>[아직, 아프다, 들다, 곧, 닥치다, 그래도, 긷다, 아직, 실망하다, 변하다, ...</td>\n",
       "    </tr>\n",
       "    <tr>\n",
       "      <th>중년</th>\n",
       "      <td>[갚다, 살다, 포기하다, 슬프다, 이제, 갚다, 허무하다, 서글프다, 조용하다, ...</td>\n",
       "    </tr>\n",
       "    <tr>\n",
       "      <th>청년</th>\n",
       "      <td>[후회되다, 맞다, 지금, 어렵다, 속상하다, 나오다, 톡, 거의, 다른, 흉보다,...</td>\n",
       "    </tr>\n",
       "    <tr>\n",
       "      <th>청소년</th>\n",
       "      <td>[결국, 나가다, 슬프다, 마르다, 그래서, 답답하다, 일단, 좀, 자다, 걱정하다...</td>\n",
       "    </tr>\n",
       "  </tbody>\n",
       "</table>\n",
       "</div>"
      ],
      "text/plain": [
       "                                                 morph\n",
       "연령                                                    \n",
       "노년   [아직, 아프다, 들다, 곧, 닥치다, 그래도, 긷다, 아직, 실망하다, 변하다, ...\n",
       "중년   [갚다, 살다, 포기하다, 슬프다, 이제, 갚다, 허무하다, 서글프다, 조용하다, ...\n",
       "청년   [후회되다, 맞다, 지금, 어렵다, 속상하다, 나오다, 톡, 거의, 다른, 흉보다,...\n",
       "청소년  [결국, 나가다, 슬프다, 마르다, 그래서, 답답하다, 일단, 좀, 자다, 걱정하다..."
      ]
     },
     "execution_count": 131,
     "metadata": {},
     "output_type": "execute_result"
    }
   ],
   "source": [
    "#연령별, 감정_대분류별 morph와 pos 별 개수세기\n",
    "from collections import Counter\n",
    "\n",
    "new_df.head()\n",
    "joy_df = new_df[new_df['감정_대분류'] == '기쁨']\n",
    "joy_df.head()\n",
    "sad_df = new_df[new_df['감정_대분류'] == '슬픔']\n",
    "sad_df.head()\n",
    "\n",
    "joy_df = joy_df.groupby(by='연령')[['morph']].sum()\n",
    "sad_df = sad_df.groupby(by='연령')[['morph']].sum()\n",
    "sad_df.head()"
   ]
  },
  {
   "cell_type": "code",
   "execution_count": 132,
   "id": "7b270058",
   "metadata": {},
   "outputs": [],
   "source": [
    "from collections import Counter\n",
    "import seaborn as sns\n",
    "\n",
    "def count(ll):\n",
    "    return pd.DataFrame(Counter(ll).most_common(10), \n",
    "             columns=['morph', 'count']).sort_values(by='count', \n",
    "                                                    ascending=False)\n",
    "\n",
    "sad_df['count'] = sad_df['morph'].apply(count)"
   ]
  },
  {
   "cell_type": "code",
   "execution_count": 133,
   "id": "bf5fe5b8",
   "metadata": {},
   "outputs": [
    {
     "data": {
      "text/plain": [
       "<AxesSubplot:xlabel='count', ylabel='morph'>"
      ]
     },
     "execution_count": 133,
     "metadata": {},
     "output_type": "execute_result"
    },
    {
     "data": {
      "image/png": "[encoded data removed]",
      "text/plain": [
       "<Figure size 432x288 with 1 Axes>"
      ]
     },
     "metadata": {
      "needs_background": "light"
     },
     "output_type": "display_data"
    }
   ],
   "source": [
    "sns.barplot(data=sad_df.loc['청소년', 'count'], x='count', y='morph', \n",
    "            orient='h')"
   ]
  },
  {
   "cell_type": "code",
   "execution_count": 134,
   "id": "a571a66e",
   "metadata": {},
   "outputs": [
    {
     "data": {
      "text/plain": [
       "<AxesSubplot:xlabel='count', ylabel='morph'>"
      ]
     },
     "execution_count": 134,
     "metadata": {},
     "output_type": "execute_result"
    },
    {
     "data": {
      "image/png": "[encoded data removed]",
      "text/plain": [
       "<Figure size 432x288 with 1 Axes>"
      ]
     },
     "metadata": {
      "needs_background": "light"
     },
     "output_type": "display_data"
    }
   ],
   "source": [
    "sns.barplot(data=sad_df.loc['청년', 'count'], x='count', y='morph', \n",
    "            orient='h')"
   ]
  },
  {
   "cell_type": "code",
   "execution_count": 135,
   "id": "68892ba5",
   "metadata": {},
   "outputs": [
    {
     "data": {
      "text/plain": [
       "<AxesSubplot:xlabel='count', ylabel='morph'>"
      ]
     },
     "execution_count": 135,
     "metadata": {},
     "output_type": "execute_result"
    },
    {
     "data": {
      "image/png": "[encoded data removed]",
      "text/plain": [
       "<Figure size 432x288 with 1 Axes>"
      ]
     },
     "metadata": {
      "needs_background": "light"
     },
     "output_type": "display_data"
    }
   ],
   "source": [
    "sns.barplot(data=sad_df.loc['중년', 'count'], x='count', y='morph', \n",
    "            orient='h')"
   ]
  },
  {
   "cell_type": "code",
   "execution_count": 136,
   "id": "156ec10d",
   "metadata": {},
   "outputs": [
    {
     "data": {
      "text/plain": [
       "<AxesSubplot:xlabel='count', ylabel='morph'>"
      ]
     },
     "execution_count": 136,
     "metadata": {},
     "output_type": "execute_result"
    },
    {
     "data": {
      "image/png": "[encoded data removed]",
      "text/plain": [
       "<Figure size 432x288 with 1 Axes>"
      ]
     },
     "metadata": {
      "needs_background": "light"
     },
     "output_type": "display_data"
    }
   ],
   "source": [
    "sns.barplot(data=sad_df.loc['노년', 'count'], x='count', y='morph', \n",
    "            orient='h')"
   ]
  },
  {
   "cell_type": "markdown",
   "id": "529baaa3",
   "metadata": {},
   "source": [
    "### 결론 - 기쁨\n",
    "1. 청소년\n",
    "    - 공부를 열심히 하거나, 성적이 잘 나오면 기쁘다 라고 표현\n",
    "    - 친구와 같이(NNP, NNG)\n",
    "    - \n",
    "2. 청년\n",
    "    - 만남에서 행복, 드디어 결혼해서 행복\n",
    "    - 친구와 함께(NNP, NNG)\n",
    "3. 장년\n",
    "    - 열심히 일하고, 아마도 돈?? 많이 받으면 행복\n",
    "    - 노후가 가장 큰 이슈(NNP, NNG)\n",
    "    - 의외로 돈이라는 단어는 후순위(NNP, NNG)\n",
    "4. 노년\n",
    "    - 건강하고 오래 살아서 기쁘고, 고마움을 느끼면서 행복을 느낌\n",
    "    - 경제적 자유가 부족함. 돈이 가장 큰 이슈(NNP, NNG)"
   ]
  },
  {
   "cell_type": "markdown",
   "id": "50489305",
   "metadata": {},
   "source": [
    "### 결론 - 슬픔\n",
    "1. 청소년\n",
    "    - 친구, 엄마, 선생, 학교 등 관계에서 슬픔을 많이 표현. 의외로 학업은 뒤에.\n",
    "    - 괴롭힘이나 자신의 마음을 몰라줄 때\n",
    "    \n",
    "2. 청년\n",
    "    - 친구, 직업, 직장에서의 고충\n",
    "    - 마음을 몰라주는데서 상처가 큼\n",
    "3. 장년\n",
    "    - 아들, 회사, 돈에 의존함. 노후 보장은 순위가 높지 않음.\n",
    "4. 노년\n",
    "    - 돈, 친구, 자식 때문에 속앓이\n",
    "    - 아프고 사는게 힘들게 느껴짐. 죽음에 대한 두려움도."
   ]
  },
  {
   "cell_type": "code",
   "execution_count": null,
   "id": "730aef7e",
   "metadata": {},
   "outputs": [],
   "source": []
  },
  {
   "cell_type": "markdown",
   "id": "c0bc6403",
   "metadata": {},
   "source": [
    "## 마무리 하지 못한 추가 내용"
   ]
  },
  {
   "cell_type": "code",
   "execution_count": null,
   "id": "c3f32c2f",
   "metadata": {},
   "outputs": [],
   "source": [
    "from collections import Counter\n",
    "import matplotlib.pyplot as plt\n",
    "%matplotlib inline\n",
    "import seaborn as sns\n",
    "\n",
    "stopwords_ko = [\"하다\", \"있다\", \"되다\", \"그\", \"않다\", \"없다\", \"나\", \"말\", \n",
    "                \"사람\", \"이\", \"보다\", \" 한\", \"때\", \"년\", \"같다\", \"대하다\", \n",
    "                \"일\", \"이\", \"생각\", \"위하다\", \"때문\", \"그것\", \"그러나\", \"가다\",\n",
    "                \" 받다\", \"그렇다\", \"알다\", \"사회\", \"더\", \"그녀\", \"문제\", \n",
    "                \"오다\", \"그리고\", \"크다\", \"속\", \"너무\"]\n",
    "\n",
    "grouped = age_df.groupby(by='연령').sum()\n",
    "grouped\n",
    "\n",
    "# age_dict[key] = pd.DataFrame(Counter(dummy).most_common(numlim),\n",
    "#                                 columns=['morph', 'count'])\n",
    "\n",
    "age_dict = {}\n",
    "for i, idx in enumerate(grouped.index):\n",
    "    age_dict[idx] = Counter(grouped['pos'][i])"
   ]
  },
  {
   "cell_type": "code",
   "execution_count": null,
   "id": "ca9e0942",
   "metadata": {},
   "outputs": [],
   "source": [
    "sum_ll = []\n",
    "for name, value in age_dict.items():\n",
    "    dummy = [(name, pos, count) for pos, count in value.items()]\n",
    "    sum_ll += dummy\n",
    "\n",
    "result_df = pd.DataFrame(sum_ll, columns=['연령', 'pos', 'count'])"
   ]
  },
  {
   "cell_type": "code",
   "execution_count": null,
   "id": "028e75b1",
   "metadata": {},
   "outputs": [],
   "source": [
    "IC['ratio'] = result_df['연령'] == \n",
    "# IC = result_df[result_df['pos'] == 'IC']\n",
    "# IC['ratio']\n",
    "# sns.barplot(data=IC, x='pos', y='count', hue='연령')\n",
    "# plt.show()"
   ]
  },
  {
   "cell_type": "code",
   "execution_count": null,
   "id": "6e46ad2e",
   "metadata": {},
   "outputs": [],
   "source": [
    "%matplotlib inline\n",
    "plt.figure()\n",
    "sns.barplot(data=result_df, x='pos', y='count', hue='연령')"
   ]
  },
  {
   "cell_type": "code",
   "execution_count": null,
   "id": "ea5c4977",
   "metadata": {},
   "outputs": [],
   "source": [
    "new = result_df.groupby(by=['pos', '연령']).sum()\n",
    "sns.barplot(data=new, x='pos', y='count', hue='연령')"
   ]
  },
  {
   "cell_type": "code",
   "execution_count": null,
   "id": "62fc1d39",
   "metadata": {},
   "outputs": [],
   "source": [
    "# 청소년 형태소 비율\n",
    "youth_list = [(key, value) for key, value in age_dict['청소년'].items()]\n",
    "youth_df = pd.DataFrame(youth_list, columns=['pos', 'count'])\n",
    "youth_df.sort_values('count', inplace=True, ascending=False)\n",
    "youth_df['ratio'] = youth_df['count'].apply(lambda x: x/sum(youth_df['count']))\n",
    "sns.barplot(data=youth_df, x='pos', y='ratio')\n",
    "plt.show()"
   ]
  },
  {
   "cell_type": "code",
   "execution_count": null,
   "id": "da5b7a7b",
   "metadata": {},
   "outputs": [],
   "source": [
    "# 청년 형태소 비율\n",
    "youth_list = [(key, value) for key, value in age_dict['청년'].items()]\n",
    "youth_df = pd.DataFrame(youth_list, columns=['pos', 'count'])\n",
    "youth_df.sort_values('count', inplace=True, ascending=False)\n",
    "youth_df['ratio'] = youth_df['count'].apply(lambda x: x/sum(youth_df['count']))\n",
    "sns.barplot(data=youth_df, x='pos', y='ratio')\n",
    "plt.show()"
   ]
  },
  {
   "cell_type": "code",
   "execution_count": null,
   "id": "e77d03d3",
   "metadata": {},
   "outputs": [],
   "source": [
    "# 중년 형태소 비율\n",
    "youth_list = [(key, value) for key, value in age_dict['중년'].items()]\n",
    "youth_df = pd.DataFrame(youth_list, columns=['pos', 'count'])\n",
    "youth_df.sort_values('count', inplace=True, ascending=False)\n",
    "youth_df['ratio'] = youth_df['count'].apply(lambda x: x/sum(youth_df['count']))\n",
    "sns.barplot(data=youth_df, x='pos', y='ratio')\n",
    "plt.show()"
   ]
  },
  {
   "cell_type": "code",
   "execution_count": null,
   "id": "3a86d83e",
   "metadata": {},
   "outputs": [],
   "source": [
    "# 노년 형태소 비율\n",
    "youth_list = [(key, value) for key, value in age_dict['노년'].items()]\n",
    "youth_df = pd.DataFrame(youth_list, columns=['pos', 'count'])\n",
    "youth_df.sort_values('count', inplace=True, ascending=False)\n",
    "youth_df['ratio'] = youth_df['count'].apply(lambda x: x/sum(youth_df['count']))\n",
    "sns.barplot(data=youth_df, x='pos', y='ratio')\n",
    "plt.show()"
   ]
  },
  {
   "cell_type": "code",
   "execution_count": null,
   "id": "e7ae9eb9",
   "metadata": {},
   "outputs": [],
   "source": [
    "youth_df.count.sum()"
   ]
  },
  {
   "cell_type": "code",
   "execution_count": null,
   "id": "39c6b799",
   "metadata": {
    "scrolled": true
   },
   "outputs": [],
   "source": [
    "# fig, ax = plt.subplots(2,2, figsize=(10, 8))\n",
    "# dict_keys(['청년', '노년', '중년', '청소년'])\n",
    "plt.figure(figsize=(10,8))\n",
    "sns.barplot(data=age_dict['청소년'], x='count', y='morph', orient='h')\n",
    "plt.xticks(fontsize=13)\n",
    "plt.show()"
   ]
  },
  {
   "cell_type": "code",
   "execution_count": null,
   "id": "60c42eac",
   "metadata": {},
   "outputs": [],
   "source": [
    "# fig, ax = plt.subplots(2,2, figsize=(10, 8))\n",
    "# dict_keys(['청년', '노년', '중년', '청소년'])\n",
    "plt.figure(figsize=(10,8))\n",
    "sns.barplot(data=age_dict['청년'], x='count', y='morph', orient='h')\n",
    "plt.xticks(fontsize=13)\n",
    "plt.show()"
   ]
  },
  {
   "cell_type": "code",
   "execution_count": null,
   "id": "8c62bc1c",
   "metadata": {
    "scrolled": true
   },
   "outputs": [],
   "source": [
    "# fig, ax = plt.subplots(2,2, figsize=(10, 8))\n",
    "# dict_keys(['청년', '노년', '중년', '청소년'])\n",
    "plt.figure(figsize=(10,8))\n",
    "sns.barplot(data=age_dict['중년'], x='count', y='morph', orient='h')\n",
    "plt.xticks(fontsize=13)\n",
    "plt.show()"
   ]
  },
  {
   "cell_type": "code",
   "execution_count": null,
   "id": "7e1c18b8",
   "metadata": {
    "scrolled": true
   },
   "outputs": [],
   "source": [
    "# fig, ax = plt.subplots(2,2, figsize=(10, 8))\n",
    "# dict_keys(['청년', '노년', '중년', '청소년'])\n",
    "plt.figure(figsize=(10,8))\n",
    "sns.barplot(data=age_dict['노년'], x='count', y='morph', orient='h')\n",
    "plt.xticks(fontsize=13)\n",
    "plt.show()"
   ]
  },
  {
   "cell_type": "code",
   "execution_count": null,
   "id": "92cb5de7",
   "metadata": {
    "scrolled": true
   },
   "outputs": [],
   "source": [
    "# fig, ax = plt.subplots(2,2, figsize=(10, 8))\n",
    "# dict_keys(['청년', '노년', '중년', '청소년'])\n",
    "plt.figure(figsize=(10,8))\n",
    "sns.barplot(data=age_dict['노년'], x='count', y='morph', orient='h')\n",
    "plt.xticks(fontsize=13)\n",
    "plt.show()"
   ]
  }
 ],
 "metadata": {
  "kernelspec": {
   "display_name": "nlp3710",
   "language": "python",
   "name": "nlp3710"
  },
  "language_info": {
   "codemirror_mode": {
    "name": "ipython",
    "version": 3
   },
   "file_extension": ".py",
   "mimetype": "text/x-python",
   "name": "python",
   "nbconvert_exporter": "python",
   "pygments_lexer": "ipython3",
   "version": "3.7.10"
  },
  "toc": {
   "base_numbering": 1,
   "nav_menu": {},
   "number_sections": true,
   "sideBar": true,
   "skip_h1_title": false,
   "title_cell": "Table of Contents",
   "title_sidebar": "Contents",
   "toc_cell": false,
   "toc_position": {},
   "toc_section_display": true,
   "toc_window_display": false
  }
 },
 "nbformat": 4,
 "nbformat_minor": 5
}
