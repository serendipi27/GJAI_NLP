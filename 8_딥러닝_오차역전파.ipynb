{
 "cells": [
  {
   "cell_type": "markdown",
   "id": "7a7f8c1c",
   "metadata": {},
   "source": [
    "## 계층 구현하기"
   ]
  },
  {
   "cell_type": "markdown",
   "id": "1c460fec",
   "metadata": {},
   "source": [
    "### 곱셈 계층 구현하기"
   ]
  },
  {
   "cell_type": "code",
   "execution_count": 1,
   "id": "dcc67139",
   "metadata": {},
   "outputs": [],
   "source": [
    "class MulLayer:\n",
    "    def __init_(self):\n",
    "        self.x = None\n",
    "        self.y = None\n",
    "        \n",
    "    def forward(self, x, y):\n",
    "        self.x = x\n",
    "        self.y = y\n",
    "        out = x * y\n",
    "        return out\n",
    "    \n",
    "    def backward(self, dout):\n",
    "        dx = dout * self.y\n",
    "        dy = dout * self.x\n",
    "        return dx, dy"
   ]
  },
  {
   "cell_type": "code",
   "execution_count": 2,
   "id": "7f2e6964",
   "metadata": {},
   "outputs": [
    {
     "name": "stdout",
     "output_type": "stream",
     "text": [
      "최종 지불 금액: 220.0\n"
     ]
    }
   ],
   "source": [
    "price_apple = 100\n",
    "apple_num = 2\n",
    "tax = 1.1\n",
    "\n",
    "#계층\n",
    "mul_apple_layer = MulLayer()\n",
    "mul_tax_layer = MulLayer()\n",
    "\n",
    "#순전파\n",
    "price_apple_num = mul_apple_layer.forward(price_apple, apple_num)\n",
    "price_apple_tax = mul_tax_layer.forward(price_apple_num, tax)\n",
    "\n",
    "print('최종 지불 금액:', round(price_apple_tax, 3))"
   ]
  },
  {
   "cell_type": "code",
   "execution_count": 3,
   "id": "8cbf0e1a",
   "metadata": {},
   "outputs": [
    {
     "name": "stdout",
     "output_type": "stream",
     "text": [
      "소비세에 대한 지불 금액의 미분: 200\n",
      "사과 가격에 대한 지불 금액의 미분: 2.2\n",
      "사과 개수에 대한 지불 금액의 미분: 110.00000000000001\n"
     ]
    }
   ],
   "source": [
    "#역전파\n",
    "dprice = 1\n",
    "dprice_apple_num, dtax = mul_tax_layer.backward(dprice)\n",
    "dprice_apple, dapple_num = mul_apple_layer.backward(dprice_apple_num)\n",
    "\n",
    "print('소비세에 대한 지불 금액의 미분:', dtax)\n",
    "print('사과 가격에 대한 지불 금액의 미분:', dprice_apple)\n",
    "print('사과 개수에 대한 지불 금액의 미분:', dapple_num)\n"
   ]
  },
  {
   "cell_type": "markdown",
   "id": "77174d1d",
   "metadata": {},
   "source": [
    "## 덧셈 계층 구현하기"
   ]
  },
  {
   "cell_type": "code",
   "execution_count": 4,
   "id": "5d88a82a",
   "metadata": {},
   "outputs": [],
   "source": [
    "class AddLayer():\n",
    "    def __init__(self):\n",
    "        pass\n",
    "    \n",
    "    def forward(self, x, y):\n",
    "        out = x + y\n",
    "        return out\n",
    "    \n",
    "    def backward(self, dout):\n",
    "        dx = dout * 1\n",
    "        dy = dout * 1\n",
    "        return dx, dy"
   ]
  },
  {
   "cell_type": "code",
   "execution_count": 5,
   "id": "03ce9772",
   "metadata": {},
   "outputs": [],
   "source": [
    "price_apple = 100\n",
    "apple_num = 2\n",
    "price_orange = 150\n",
    "orange_num = 3\n",
    "tax = 1.1\n",
    "\n",
    "# 계층\n",
    "mul_apple_layer = MulLayer()\n",
    "mul_orange_layer = MulLayer()\n",
    "add_apple_orange = AddLayer()\n",
    "mul_tax_layer = MulLayer()"
   ]
  },
  {
   "cell_type": "code",
   "execution_count": 6,
   "id": "b7af7514",
   "metadata": {},
   "outputs": [
    {
     "name": "stdout",
     "output_type": "stream",
     "text": [
      "최종 지불 금액: 715.0\n"
     ]
    }
   ],
   "source": [
    "# 순전파\n",
    "price_apple_num = mul_apple_layer.forward(price_apple, apple_num)\n",
    "price_orange_num = mul_orange_layer.forward(price_orange, orange_num)\n",
    "price_all_num = add_apple_orange.forward(price_apple_num, price_orange_num)\n",
    "price_all_tax = mul_tax_layer.forward(price_all_num, tax)\n",
    "\n",
    "print('최종 지불 금액:', round(price_all_tax, 3))"
   ]
  },
  {
   "cell_type": "code",
   "execution_count": 9,
   "id": "87889f0f",
   "metadata": {},
   "outputs": [
    {
     "name": "stdout",
     "output_type": "stream",
     "text": [
      "소비세에 대한 지불 금액의 미분: 650\n",
      "사과 가격에 대한 지불 금액의 미분: 2.2\n",
      "사과 개수에 대한 지불 금액의 미분: 110.00000000000001\n",
      "오랜지 가격에 대한 지불 금액의 미분: 3.3000000000000003\n",
      "오랜지 개수에 대한 지불 금액의 미분: 165.0\n"
     ]
    }
   ],
   "source": [
    "# 역전파\n",
    "dprice = 1\n",
    "dprice_all_num, dtax = mul_tax_layer.backward(dprice)\n",
    "dprice_apple_num, dprice_orange_num = add_apple_orange.backward(dprice_all_num)\n",
    "dprice_orange, dorange_num = mul_orange_layer.backward(dprice_orange_num)\n",
    "dprice_apple, dapple_num = mul_apple_layer.backward(dprice_apple_num)\n",
    "\n",
    "print('소비세에 대한 지불 금액의 미분:', dtax)\n",
    "print('사과 가격에 대한 지불 금액의 미분:', dprice_apple)\n",
    "print('사과 개수에 대한 지불 금액의 미분:', dapple_num)\n",
    "print('오랜지 가격에 대한 지불 금액의 미분:', dprice_orange)\n",
    "print('오랜지 개수에 대한 지불 금액의 미분:', dorange_num)\n",
    "\n",
    "\n"
   ]
  },
  {
   "cell_type": "code",
   "execution_count": null,
   "id": "56a92458",
   "metadata": {},
   "outputs": [],
   "source": []
  }
 ],
 "metadata": {
  "kernelspec": {
   "display_name": "nlp3710",
   "language": "python",
   "name": "nlp3710"
  },
  "language_info": {
   "codemirror_mode": {
    "name": "ipython",
    "version": 3
   },
   "file_extension": ".py",
   "mimetype": "text/x-python",
   "name": "python",
   "nbconvert_exporter": "python",
   "pygments_lexer": "ipython3",
   "version": "3.7.10"
  },
  "toc": {
   "base_numbering": 1,
   "nav_menu": {},
   "number_sections": true,
   "sideBar": true,
   "skip_h1_title": false,
   "title_cell": "Table of Contents",
   "title_sidebar": "Contents",
   "toc_cell": false,
   "toc_position": {},
   "toc_section_display": true,
   "toc_window_display": false
  }
 },
 "nbformat": 4,
 "nbformat_minor": 5
}
