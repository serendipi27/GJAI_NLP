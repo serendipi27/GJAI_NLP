{
 "cells": [
  {
   "cell_type": "markdown",
   "id": "584ea1e0",
   "metadata": {},
   "source": [
    "# 연습문제1. 다음 중 가장 적절한 학습 상태를 표현한 상태는 무엇이며 그 상태가 가장 적절한 이유는 무엇인지 설명하시오.\n",
    "\n",
    "- 2번. 데이터의 트렌드를 가장 잘 쫓아감. 1은 전체 데이터를 대변하지 못하고, 3은 너무 세세한 부분까지 설명하고 있어 새로운 데이터가 들어왔을 때 잘못 예측할 확률이 높다."
   ]
  },
  {
   "cell_type": "markdown",
   "id": "48501720",
   "metadata": {},
   "source": [
    "# 연습문제2. 다음은 평균제곱오차(MSE) 수식과 관련 코드이다. 수식의 의미를 코드를 이용하여 설명하시오.\n",
    "\n",
    "- 모든 데이터에 대하여 인공지능에서 예측하는 결과값과 실제 결과값의 차이의 제곱하여 더하고 이를 반으로 나눈 값.\n",
    "- 예측값과 실제값이 크면 클수록 오차값인 MSE 수치가 높아지는 걸 알 수 있다."
   ]
  },
  {
   "cell_type": "markdown",
   "id": "0a56dc63",
   "metadata": {},
   "source": [
    "# 연습문제3. 다음은 교차 엔트로피 오차(CEE) 관련 코드이다. 이 코드의 계산 과정을 설명하시오.\n",
    "\n",
    "1. 모델의 예측값은 0~1 사이의 확률로 표현되고, 실제값은 정답인 레이블은 1, 나머지는 모두 0으로 표현된다.\n",
    "2. log(예측값)은 예측값이 0이 아닌 이상 어떤 수치를 가지게 되지만, 이에 곱해지는 실제값이 정답이 아닌 경우에는 모두 0이 되어 버린다. 결국 데이터마다 실제값이 1인 경우에만 계산\u001f다.\n",
    "3. 그리고 여기에 (-) 기호가 곱하고 이를 각 데이터마다 더한값이 최종 오차가 된다.\n",
    "4. 만약 실제값에 대해 높은 확률로 예측하게 되면 (-)기호로 인해 오차값이 낮아지게 되고, 실제값에 대해 낮은 확률로 예측하게 되면, 오차값이 높아진다."
   ]
  },
  {
   "cell_type": "markdown",
   "id": "e0fb53e3",
   "metadata": {},
   "source": [
    "# 연습문제 4. 손실함수가 쓰이는 곳과, 손실함수를 설정해야 하는 이유를 설명하시오. 특히, 손실함수의 입력값으로 정답 레이블과 신경망의 출력이 들어오는데, 정답 레이블과 신경망의 출력이 갖는 값의 의미, 그리고 이 둘이 손실함수에서 어떠한 연산을 하게 되는지 설명하시오.\n",
    "\n",
    "- 손실함수를 사용하는 이유는 모델의 예측값과 실제값을 비교하여 그 차이를 줄일 수 있도록 모델을 개선시키기 위함이다. 손실함수의 오차값이 줄어드는 방향으로 모델의 가중치를 계산하여 적용시킬 수 있다.\n",
    "- 손실함수마다 세부 연산 내용이 다를 수 있지만, 결국 신경망의 출력인 예측값과 레이블 값이 실제값이 얼마나 차이가 나는지를 확인하고 이를 줄일 수 있는 방법을 찾는다는 목적은 동일하다."
   ]
  },
  {
   "cell_type": "code",
   "execution_count": null,
   "id": "2eb5ff69",
   "metadata": {},
   "outputs": [],
   "source": []
  }
 ],
 "metadata": {
  "kernelspec": {
   "display_name": "nlp3710",
   "language": "python",
   "name": "nlp3710"
  },
  "language_info": {
   "codemirror_mode": {
    "name": "ipython",
    "version": 3
   },
   "file_extension": ".py",
   "mimetype": "text/x-python",
   "name": "python",
   "nbconvert_exporter": "python",
   "pygments_lexer": "ipython3",
   "version": "3.7.10"
  },
  "toc": {
   "base_numbering": 1,
   "nav_menu": {},
   "number_sections": true,
   "sideBar": true,
   "skip_h1_title": false,
   "title_cell": "Table of Contents",
   "title_sidebar": "Contents",
   "toc_cell": false,
   "toc_position": {},
   "toc_section_display": true,
   "toc_window_display": false
  }
 },
 "nbformat": 4,
 "nbformat_minor": 5
}
