{
 "cells": [
  {
   "cell_type": "markdown",
   "id": "11a231a2",
   "metadata": {},
   "source": [
    "# 연습문제1. 다음은 형태소 분석된 동일한 문장 \"샘플 수량 확인 주\"에 대한 Tokenizing, Padding, One-Hot Encoding의 결과이다. 각각의 결과가 어떻게 나온 것인지를 설명하시오.\n",
    "\n",
    "* morphed_text = '샘플 수량 확인 주\"\n",
    "\n",
    "1. Tokenizing의 결과\n",
    "- 처음 대괄호는 전체 문장이고, 두번째 대괄호는 각 문장의 Tokenizing 결과이다.\n",
    "- 두번째 대괄호 첫번째를 예로 들면, [20, 57, 2, 10]임을 알 수 있다. 각 번호별로 하나의 단어가 매칭되어 있는데, 번호가 낮을수록 전체 문장에서 등장하는 빈도가 높다는 것을 의미한다. 이 번호를 워드 인덱스라 하고, 2번 인덱스는 '확인'이라는 단어에 매치되어 있고, 10번 인덱스는 '주'라는 단어와 매칭되어 있다.\n",
    "- 토크나이징 인덱스의 최대 번호는 max_words 인수로 결정되지만, 전체 문장에서 등장하는 단어의 수가 이보다 적으면 인덱스의 최대 번호로 적어질 수 있다.\n",
    "\n",
    "2. Padding의 결과\n",
    "- train_data_text의 타입은 리스트이다.\n",
    "- padding 과정을 거치고 난 후 결과는 ndarray 타입이 된다.\n",
    "- train_data_text[0] 는 '샘플 수량 확인 주'라는 형태소를 가지는 문장이다.\n",
    "- 이를 토크나이징하여 형태소 단어마다 word_index를 부여하면 [20 57 2 10]이 된다.\n",
    "- 이후 maxlen=20으로 하는 padding 과정을 거치면, 20의 길이를 갖는 문장을 갖게 되는데 원래 문장의 길이는 4이므로 나머지 16에 대해서는 0 인덱스(padding index)를 부여한다. 그리고 원래 문장에 부여한 word_index는 문장 뒤에 위치시킨다.\n",
    "\n",
    "3. One-Hot Encoding\n",
    "- 원핫 인코딩은 각 문장마다 패딩의 결과에서 word_index에 해당하는 열에만 1을 부여하고 나머지 word_index에 대해서는 0을 부여한다.\n",
    "- 열의 최대 번호는 그냥 max_words로 한다. 사실 전체문장의 토큰 수가 이보다 작을 수 있는데, 뭐 그래도 max_words보다 작은 만큼 0으로 채우니까 큰 문제는 없다.\n",
    "- 1을 부여받는 word_index는 [0 20 57 2 10]이므로 이 위치에 해당하는 열에는 1, 나머지는 모두 0을 부여한다. \n",
    "- 문장의 순서나 단어의 빈도수는 반영하지 않는다."
   ]
  },
  {
   "cell_type": "code",
   "execution_count": null,
   "id": "7ba70ed0",
   "metadata": {},
   "outputs": [],
   "source": []
  }
 ],
 "metadata": {
  "kernelspec": {
   "display_name": "nlp3710",
   "language": "python",
   "name": "nlp3710"
  },
  "language_info": {
   "codemirror_mode": {
    "name": "ipython",
    "version": 3
   },
   "file_extension": ".py",
   "mimetype": "text/x-python",
   "name": "python",
   "nbconvert_exporter": "python",
   "pygments_lexer": "ipython3",
   "version": "3.7.10"
  },
  "toc": {
   "base_numbering": 1,
   "nav_menu": {},
   "number_sections": true,
   "sideBar": true,
   "skip_h1_title": false,
   "title_cell": "Table of Contents",
   "title_sidebar": "Contents",
   "toc_cell": false,
   "toc_position": {},
   "toc_section_display": true,
   "toc_window_display": false
  }
 },
 "nbformat": 4,
 "nbformat_minor": 5
}
