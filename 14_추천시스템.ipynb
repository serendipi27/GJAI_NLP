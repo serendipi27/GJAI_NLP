{
 "cells": [
  {
   "cell_type": "code",
   "execution_count": 1,
   "id": "651166bf",
   "metadata": {},
   "outputs": [
    {
     "data": {
      "text/html": [
       "<div>\n",
       "<style scoped>\n",
       "    .dataframe tbody tr th:only-of-type {\n",
       "        vertical-align: middle;\n",
       "    }\n",
       "\n",
       "    .dataframe tbody tr th {\n",
       "        vertical-align: top;\n",
       "    }\n",
       "\n",
       "    .dataframe thead th {\n",
       "        text-align: right;\n",
       "    }\n",
       "</style>\n",
       "<table border=\"1\" class=\"dataframe\">\n",
       "  <thead>\n",
       "    <tr style=\"text-align: right;\">\n",
       "      <th></th>\n",
       "      <th>age</th>\n",
       "      <th>workclass</th>\n",
       "      <th>education</th>\n",
       "      <th>educationNumber</th>\n",
       "      <th>maritalStatus</th>\n",
       "      <th>occupation</th>\n",
       "      <th>relationship</th>\n",
       "      <th>race</th>\n",
       "      <th>gender</th>\n",
       "      <th>hourPerWeek</th>\n",
       "      <th>nativeCountry</th>\n",
       "      <th>income</th>\n",
       "    </tr>\n",
       "  </thead>\n",
       "  <tbody>\n",
       "    <tr>\n",
       "      <th>0</th>\n",
       "      <td>39</td>\n",
       "      <td>State-gov</td>\n",
       "      <td>Bachelors</td>\n",
       "      <td>13</td>\n",
       "      <td>Never-married</td>\n",
       "      <td>Adm-clerical</td>\n",
       "      <td>Not-in-family</td>\n",
       "      <td>4</td>\n",
       "      <td>Male</td>\n",
       "      <td>40</td>\n",
       "      <td>United-States</td>\n",
       "      <td>0</td>\n",
       "    </tr>\n",
       "    <tr>\n",
       "      <th>1</th>\n",
       "      <td>50</td>\n",
       "      <td>Self-emp-not-inc</td>\n",
       "      <td>Bachelors</td>\n",
       "      <td>13</td>\n",
       "      <td>Married-civ-spouse</td>\n",
       "      <td>Exec-managerial</td>\n",
       "      <td>Husband</td>\n",
       "      <td>4</td>\n",
       "      <td>Male</td>\n",
       "      <td>13</td>\n",
       "      <td>United-States</td>\n",
       "      <td>0</td>\n",
       "    </tr>\n",
       "    <tr>\n",
       "      <th>2</th>\n",
       "      <td>38</td>\n",
       "      <td>Private</td>\n",
       "      <td>HS-grad</td>\n",
       "      <td>9</td>\n",
       "      <td>Divorced</td>\n",
       "      <td>Handlers-cleaners</td>\n",
       "      <td>Not-in-family</td>\n",
       "      <td>4</td>\n",
       "      <td>Male</td>\n",
       "      <td>40</td>\n",
       "      <td>United-States</td>\n",
       "      <td>0</td>\n",
       "    </tr>\n",
       "    <tr>\n",
       "      <th>3</th>\n",
       "      <td>53</td>\n",
       "      <td>Private</td>\n",
       "      <td>11th</td>\n",
       "      <td>7</td>\n",
       "      <td>Married-civ-spouse</td>\n",
       "      <td>Handlers-cleaners</td>\n",
       "      <td>Husband</td>\n",
       "      <td>3</td>\n",
       "      <td>Male</td>\n",
       "      <td>40</td>\n",
       "      <td>United-States</td>\n",
       "      <td>0</td>\n",
       "    </tr>\n",
       "    <tr>\n",
       "      <th>4</th>\n",
       "      <td>28</td>\n",
       "      <td>Private</td>\n",
       "      <td>Bachelors</td>\n",
       "      <td>13</td>\n",
       "      <td>Married-civ-spouse</td>\n",
       "      <td>Prof-specialty</td>\n",
       "      <td>Wife</td>\n",
       "      <td>3</td>\n",
       "      <td>Female</td>\n",
       "      <td>40</td>\n",
       "      <td>Cuba</td>\n",
       "      <td>0</td>\n",
       "    </tr>\n",
       "  </tbody>\n",
       "</table>\n",
       "</div>"
      ],
      "text/plain": [
       "   age          workclass   education  educationNumber        maritalStatus  \\\n",
       "0   39          State-gov   Bachelors               13        Never-married   \n",
       "1   50   Self-emp-not-inc   Bachelors               13   Married-civ-spouse   \n",
       "2   38            Private     HS-grad                9             Divorced   \n",
       "3   53            Private        11th                7   Married-civ-spouse   \n",
       "4   28            Private   Bachelors               13   Married-civ-spouse   \n",
       "\n",
       "           occupation    relationship  race   gender  hourPerWeek  \\\n",
       "0        Adm-clerical   Not-in-family     4     Male           40   \n",
       "1     Exec-managerial         Husband     4     Male           13   \n",
       "2   Handlers-cleaners   Not-in-family     4     Male           40   \n",
       "3   Handlers-cleaners         Husband     3     Male           40   \n",
       "4      Prof-specialty            Wife     3   Female           40   \n",
       "\n",
       "    nativeCountry  income  \n",
       "0   United-States       0  \n",
       "1   United-States       0  \n",
       "2   United-States       0  \n",
       "3   United-States       0  \n",
       "4            Cuba       0  "
      ]
     },
     "execution_count": 1,
     "metadata": {},
     "output_type": "execute_result"
    }
   ],
   "source": [
    "import numpy as np\n",
    "import pandas as pd\n",
    "from matplotlib import rc\n",
    "\n",
    "rc('font', family='AppleGothic')\n",
    "\n",
    "path = '/Users/jsha/gjai/nlp/pytest/'\n",
    "file = 'income.csv'\n",
    "\n",
    "df = pd.read_csv(path+file)\n",
    "df.head()"
   ]
  },
  {
   "cell_type": "code",
   "execution_count": 2,
   "id": "7dc31bdd",
   "metadata": {},
   "outputs": [
    {
     "data": {
      "text/plain": [
       "array([dtype('O'), dtype('O'), dtype('O'), dtype('O'), dtype('O'),\n",
       "       dtype('O'), dtype('O')], dtype=object)"
      ]
     },
     "execution_count": 2,
     "metadata": {},
     "output_type": "execute_result"
    }
   ],
   "source": [
    "df.dtypes[df.dtypes == object].values"
   ]
  },
  {
   "cell_type": "code",
   "execution_count": 3,
   "id": "189252f6",
   "metadata": {},
   "outputs": [
    {
     "data": {
      "text/plain": [
       "array(['age', 'workclass', 'education', 'educationNumber',\n",
       "       'maritalStatus', 'occupation', 'relationship', 'race', 'gender',\n",
       "       'hourPerWeek', 'nativeCountry', 'income'], dtype=object)"
      ]
     },
     "execution_count": 3,
     "metadata": {},
     "output_type": "execute_result"
    }
   ],
   "source": [
    "df.columns.values"
   ]
  },
  {
   "cell_type": "code",
   "execution_count": 4,
   "id": "63dc7329",
   "metadata": {},
   "outputs": [
    {
     "data": {
      "text/plain": [
       "['age',\n",
       " 'workclass',\n",
       " 'education',\n",
       " 'educationNumber',\n",
       " 'maritalStatus',\n",
       " 'occupation',\n",
       " 'relationship',\n",
       " 'race',\n",
       " 'gender',\n",
       " 'hourPerWeek',\n",
       " 'nativeCountry',\n",
       " 'income']"
      ]
     },
     "execution_count": 4,
     "metadata": {},
     "output_type": "execute_result"
    }
   ],
   "source": [
    "df.columns.to_list()"
   ]
  },
  {
   "cell_type": "code",
   "execution_count": 5,
   "id": "55357d48",
   "metadata": {},
   "outputs": [
    {
     "data": {
      "text/html": [
       "<div>\n",
       "<style scoped>\n",
       "    .dataframe tbody tr th:only-of-type {\n",
       "        vertical-align: middle;\n",
       "    }\n",
       "\n",
       "    .dataframe tbody tr th {\n",
       "        vertical-align: top;\n",
       "    }\n",
       "\n",
       "    .dataframe thead th {\n",
       "        text-align: right;\n",
       "    }\n",
       "</style>\n",
       "<table border=\"1\" class=\"dataframe\">\n",
       "  <thead>\n",
       "    <tr style=\"text-align: right;\">\n",
       "      <th></th>\n",
       "      <th>age</th>\n",
       "      <th>workclass</th>\n",
       "      <th>education</th>\n",
       "      <th>educationNumber</th>\n",
       "      <th>maritalStatus</th>\n",
       "      <th>occupation</th>\n",
       "      <th>relationship</th>\n",
       "      <th>race</th>\n",
       "      <th>gender</th>\n",
       "      <th>hourPerWeek</th>\n",
       "      <th>nativeCountry</th>\n",
       "    </tr>\n",
       "  </thead>\n",
       "  <tbody>\n",
       "    <tr>\n",
       "      <th>0</th>\n",
       "      <td>39</td>\n",
       "      <td>State-gov</td>\n",
       "      <td>Bachelors</td>\n",
       "      <td>13</td>\n",
       "      <td>Never-married</td>\n",
       "      <td>Adm-clerical</td>\n",
       "      <td>Not-in-family</td>\n",
       "      <td>4</td>\n",
       "      <td>Male</td>\n",
       "      <td>40</td>\n",
       "      <td>United-States</td>\n",
       "    </tr>\n",
       "    <tr>\n",
       "      <th>1</th>\n",
       "      <td>50</td>\n",
       "      <td>Self-emp-not-inc</td>\n",
       "      <td>Bachelors</td>\n",
       "      <td>13</td>\n",
       "      <td>Married-civ-spouse</td>\n",
       "      <td>Exec-managerial</td>\n",
       "      <td>Husband</td>\n",
       "      <td>4</td>\n",
       "      <td>Male</td>\n",
       "      <td>13</td>\n",
       "      <td>United-States</td>\n",
       "    </tr>\n",
       "    <tr>\n",
       "      <th>2</th>\n",
       "      <td>38</td>\n",
       "      <td>Private</td>\n",
       "      <td>HS-grad</td>\n",
       "      <td>9</td>\n",
       "      <td>Divorced</td>\n",
       "      <td>Handlers-cleaners</td>\n",
       "      <td>Not-in-family</td>\n",
       "      <td>4</td>\n",
       "      <td>Male</td>\n",
       "      <td>40</td>\n",
       "      <td>United-States</td>\n",
       "    </tr>\n",
       "    <tr>\n",
       "      <th>3</th>\n",
       "      <td>53</td>\n",
       "      <td>Private</td>\n",
       "      <td>11th</td>\n",
       "      <td>7</td>\n",
       "      <td>Married-civ-spouse</td>\n",
       "      <td>Handlers-cleaners</td>\n",
       "      <td>Husband</td>\n",
       "      <td>3</td>\n",
       "      <td>Male</td>\n",
       "      <td>40</td>\n",
       "      <td>United-States</td>\n",
       "    </tr>\n",
       "    <tr>\n",
       "      <th>4</th>\n",
       "      <td>28</td>\n",
       "      <td>Private</td>\n",
       "      <td>Bachelors</td>\n",
       "      <td>13</td>\n",
       "      <td>Married-civ-spouse</td>\n",
       "      <td>Prof-specialty</td>\n",
       "      <td>Wife</td>\n",
       "      <td>3</td>\n",
       "      <td>Female</td>\n",
       "      <td>40</td>\n",
       "      <td>Cuba</td>\n",
       "    </tr>\n",
       "  </tbody>\n",
       "</table>\n",
       "</div>"
      ],
      "text/plain": [
       "   age          workclass   education  educationNumber        maritalStatus  \\\n",
       "0   39          State-gov   Bachelors               13        Never-married   \n",
       "1   50   Self-emp-not-inc   Bachelors               13   Married-civ-spouse   \n",
       "2   38            Private     HS-grad                9             Divorced   \n",
       "3   53            Private        11th                7   Married-civ-spouse   \n",
       "4   28            Private   Bachelors               13   Married-civ-spouse   \n",
       "\n",
       "           occupation    relationship  race   gender  hourPerWeek  \\\n",
       "0        Adm-clerical   Not-in-family     4     Male           40   \n",
       "1     Exec-managerial         Husband     4     Male           13   \n",
       "2   Handlers-cleaners   Not-in-family     4     Male           40   \n",
       "3   Handlers-cleaners         Husband     3     Male           40   \n",
       "4      Prof-specialty            Wife     3   Female           40   \n",
       "\n",
       "    nativeCountry  \n",
       "0   United-States  \n",
       "1   United-States  \n",
       "2   United-States  \n",
       "3   United-States  \n",
       "4            Cuba  "
      ]
     },
     "execution_count": 5,
     "metadata": {},
     "output_type": "execute_result"
    }
   ],
   "source": [
    "X = df.loc[:, 'age':'nativeCountry']\n",
    "X.head()"
   ]
  },
  {
   "cell_type": "code",
   "execution_count": 6,
   "id": "0f979a85",
   "metadata": {},
   "outputs": [
    {
     "data": {
      "text/plain": [
       "0    0\n",
       "1    0\n",
       "2    0\n",
       "3    0\n",
       "4    0\n",
       "Name: income, dtype: int64"
      ]
     },
     "execution_count": 6,
     "metadata": {},
     "output_type": "execute_result"
    }
   ],
   "source": [
    "y = df.loc[:, 'income']\n",
    "y.head()"
   ]
  },
  {
   "cell_type": "code",
   "execution_count": 7,
   "id": "eabc575b",
   "metadata": {},
   "outputs": [
    {
     "name": "stdout",
     "output_type": "stream",
     "text": [
      "<class 'pandas.core.frame.DataFrame'>\n",
      "RangeIndex: 32561 entries, 0 to 32560\n",
      "Data columns (total 11 columns):\n",
      " #   Column           Non-Null Count  Dtype \n",
      "---  ------           --------------  ----- \n",
      " 0   age              32561 non-null  int64 \n",
      " 1   workclass        32561 non-null  object\n",
      " 2   education        32561 non-null  object\n",
      " 3   educationNumber  32561 non-null  int64 \n",
      " 4   maritalStatus    32561 non-null  object\n",
      " 5   occupation       32561 non-null  object\n",
      " 6   relationship     32561 non-null  object\n",
      " 7   race             32561 non-null  int64 \n",
      " 8   gender           32561 non-null  object\n",
      " 9   hourPerWeek      32561 non-null  int64 \n",
      " 10  nativeCountry    32561 non-null  object\n",
      "dtypes: int64(4), object(7)\n",
      "memory usage: 2.7+ MB\n"
     ]
    }
   ],
   "source": [
    "X.info()"
   ]
  },
  {
   "cell_type": "code",
   "execution_count": 8,
   "id": "bc9dc9db",
   "metadata": {},
   "outputs": [],
   "source": [
    "cat_list = X.select_dtypes(exclude=['int64']).columns.tolist()\n",
    "int_list = X.select_dtypes(exclude=['object']).columns.tolist()\n",
    "\n",
    "X_num = X[int_list]\n",
    "X_cat = X[cat_list]"
   ]
  },
  {
   "cell_type": "code",
   "execution_count": 9,
   "id": "c60bfa4d",
   "metadata": {},
   "outputs": [
    {
     "name": "stdout",
     "output_type": "stream",
     "text": [
      "[[0.30136986 0.8        0.75       0.39795918]\n",
      " [0.45205479 0.8        0.75       0.12244898]\n",
      " [0.28767123 0.53333333 0.75       0.39795918]\n",
      " ...\n",
      " [0.56164384 0.53333333 0.75       0.39795918]\n",
      " [0.06849315 0.53333333 0.75       0.19387755]\n",
      " [0.47945205 0.53333333 0.75       0.39795918]]\n",
      "<class 'numpy.ndarray'>\n"
     ]
    }
   ],
   "source": [
    "from sklearn.preprocessing import MinMaxScaler\n",
    "\n",
    "scaler = MinMaxScaler()\n",
    "scaler.fit(X_num)\n",
    "\n",
    "X_scaled = scaler.transform(X_num)\n",
    "print(X_scaled)\n",
    "print(type(X_scaled))\n",
    "\n"
   ]
  },
  {
   "cell_type": "code",
   "execution_count": 10,
   "id": "b6117dfe",
   "metadata": {},
   "outputs": [
    {
     "name": "stdout",
     "output_type": "stream",
     "text": [
      "['workclass_ ?' 'workclass_ Federal-gov' 'workclass_ Local-gov'\n",
      " 'workclass_ Never-worked' 'workclass_ Private' 'workclass_ Self-emp-inc'\n",
      " 'workclass_ Self-emp-not-inc' 'workclass_ State-gov'\n",
      " 'workclass_ Without-pay' 'education_ 10th' 'education_ 11th'\n",
      " 'education_ 12th' 'education_ 1st-4th' 'education_ 5th-6th'\n",
      " 'education_ 7th-8th' 'education_ 9th' 'education_ Assoc-acdm'\n",
      " 'education_ Assoc-voc' 'education_ Bachelors' 'education_ Doctorate'\n",
      " 'education_ HS-grad' 'education_ Masters' 'education_ Preschool'\n",
      " 'education_ Prof-school' 'education_ Some-college'\n",
      " 'maritalStatus_ Divorced' 'maritalStatus_ Married-AF-spouse'\n",
      " 'maritalStatus_ Married-civ-spouse'\n",
      " 'maritalStatus_ Married-spouse-absent' 'maritalStatus_ Never-married'\n",
      " 'maritalStatus_ Separated' 'maritalStatus_ Widowed' 'occupation_ ?'\n",
      " 'occupation_ Adm-clerical' 'occupation_ Armed-Forces'\n",
      " 'occupation_ Craft-repair' 'occupation_ Exec-managerial'\n",
      " 'occupation_ Farming-fishing' 'occupation_ Handlers-cleaners'\n",
      " 'occupation_ Machine-op-inspct' 'occupation_ Other-service'\n",
      " 'occupation_ Priv-house-serv' 'occupation_ Prof-specialty'\n",
      " 'occupation_ Protective-serv' 'occupation_ Sales'\n",
      " 'occupation_ Tech-support' 'occupation_ Transport-moving'\n",
      " 'relationship_ Husband' 'relationship_ Not-in-family'\n",
      " 'relationship_ Other-relative' 'relationship_ Own-child'\n",
      " 'relationship_ Unmarried' 'relationship_ Wife' 'gender_ Female'\n",
      " 'gender_ Male' 'nativeCountry_ ?' 'nativeCountry_ Cambodia'\n",
      " 'nativeCountry_ Canada' 'nativeCountry_ China' 'nativeCountry_ Columbia'\n",
      " 'nativeCountry_ Cuba' 'nativeCountry_ Dominican-Republic'\n",
      " 'nativeCountry_ Ecuador' 'nativeCountry_ El-Salvador'\n",
      " 'nativeCountry_ England' 'nativeCountry_ France' 'nativeCountry_ Germany'\n",
      " 'nativeCountry_ Greece' 'nativeCountry_ Guatemala' 'nativeCountry_ Haiti'\n",
      " 'nativeCountry_ Holand-Netherlands' 'nativeCountry_ Honduras'\n",
      " 'nativeCountry_ Hong' 'nativeCountry_ Hungary' 'nativeCountry_ India'\n",
      " 'nativeCountry_ Iran' 'nativeCountry_ Ireland' 'nativeCountry_ Italy'\n",
      " 'nativeCountry_ Jamaica' 'nativeCountry_ Japan' 'nativeCountry_ Laos'\n",
      " 'nativeCountry_ Mexico' 'nativeCountry_ Nicaragua'\n",
      " 'nativeCountry_ Outlying-US(Guam-USVI-etc)' 'nativeCountry_ Peru'\n",
      " 'nativeCountry_ Philippines' 'nativeCountry_ Poland'\n",
      " 'nativeCountry_ Portugal' 'nativeCountry_ Puerto-Rico'\n",
      " 'nativeCountry_ Scotland' 'nativeCountry_ South' 'nativeCountry_ Taiwan'\n",
      " 'nativeCountry_ Thailand' 'nativeCountry_ Trinadad&Tobago'\n",
      " 'nativeCountry_ United-States' 'nativeCountry_ Vietnam'\n",
      " 'nativeCountry_ Yugoslavia']\n",
      "<class 'pandas.core.frame.DataFrame'>\n"
     ]
    },
    {
     "data": {
      "text/html": [
       "<div>\n",
       "<style scoped>\n",
       "    .dataframe tbody tr th:only-of-type {\n",
       "        vertical-align: middle;\n",
       "    }\n",
       "\n",
       "    .dataframe tbody tr th {\n",
       "        vertical-align: top;\n",
       "    }\n",
       "\n",
       "    .dataframe thead th {\n",
       "        text-align: right;\n",
       "    }\n",
       "</style>\n",
       "<table border=\"1\" class=\"dataframe\">\n",
       "  <thead>\n",
       "    <tr style=\"text-align: right;\">\n",
       "      <th></th>\n",
       "      <th>workclass_ ?</th>\n",
       "      <th>workclass_ Federal-gov</th>\n",
       "      <th>workclass_ Local-gov</th>\n",
       "      <th>workclass_ Never-worked</th>\n",
       "      <th>workclass_ Private</th>\n",
       "      <th>workclass_ Self-emp-inc</th>\n",
       "      <th>workclass_ Self-emp-not-inc</th>\n",
       "      <th>workclass_ State-gov</th>\n",
       "      <th>workclass_ Without-pay</th>\n",
       "      <th>education_ 10th</th>\n",
       "      <th>...</th>\n",
       "      <th>nativeCountry_ Portugal</th>\n",
       "      <th>nativeCountry_ Puerto-Rico</th>\n",
       "      <th>nativeCountry_ Scotland</th>\n",
       "      <th>nativeCountry_ South</th>\n",
       "      <th>nativeCountry_ Taiwan</th>\n",
       "      <th>nativeCountry_ Thailand</th>\n",
       "      <th>nativeCountry_ Trinadad&amp;Tobago</th>\n",
       "      <th>nativeCountry_ United-States</th>\n",
       "      <th>nativeCountry_ Vietnam</th>\n",
       "      <th>nativeCountry_ Yugoslavia</th>\n",
       "    </tr>\n",
       "  </thead>\n",
       "  <tbody>\n",
       "    <tr>\n",
       "      <th>0</th>\n",
       "      <td>0</td>\n",
       "      <td>0</td>\n",
       "      <td>0</td>\n",
       "      <td>0</td>\n",
       "      <td>0</td>\n",
       "      <td>0</td>\n",
       "      <td>0</td>\n",
       "      <td>1</td>\n",
       "      <td>0</td>\n",
       "      <td>0</td>\n",
       "      <td>...</td>\n",
       "      <td>0</td>\n",
       "      <td>0</td>\n",
       "      <td>0</td>\n",
       "      <td>0</td>\n",
       "      <td>0</td>\n",
       "      <td>0</td>\n",
       "      <td>0</td>\n",
       "      <td>1</td>\n",
       "      <td>0</td>\n",
       "      <td>0</td>\n",
       "    </tr>\n",
       "    <tr>\n",
       "      <th>1</th>\n",
       "      <td>0</td>\n",
       "      <td>0</td>\n",
       "      <td>0</td>\n",
       "      <td>0</td>\n",
       "      <td>0</td>\n",
       "      <td>0</td>\n",
       "      <td>1</td>\n",
       "      <td>0</td>\n",
       "      <td>0</td>\n",
       "      <td>0</td>\n",
       "      <td>...</td>\n",
       "      <td>0</td>\n",
       "      <td>0</td>\n",
       "      <td>0</td>\n",
       "      <td>0</td>\n",
       "      <td>0</td>\n",
       "      <td>0</td>\n",
       "      <td>0</td>\n",
       "      <td>1</td>\n",
       "      <td>0</td>\n",
       "      <td>0</td>\n",
       "    </tr>\n",
       "    <tr>\n",
       "      <th>2</th>\n",
       "      <td>0</td>\n",
       "      <td>0</td>\n",
       "      <td>0</td>\n",
       "      <td>0</td>\n",
       "      <td>1</td>\n",
       "      <td>0</td>\n",
       "      <td>0</td>\n",
       "      <td>0</td>\n",
       "      <td>0</td>\n",
       "      <td>0</td>\n",
       "      <td>...</td>\n",
       "      <td>0</td>\n",
       "      <td>0</td>\n",
       "      <td>0</td>\n",
       "      <td>0</td>\n",
       "      <td>0</td>\n",
       "      <td>0</td>\n",
       "      <td>0</td>\n",
       "      <td>1</td>\n",
       "      <td>0</td>\n",
       "      <td>0</td>\n",
       "    </tr>\n",
       "    <tr>\n",
       "      <th>3</th>\n",
       "      <td>0</td>\n",
       "      <td>0</td>\n",
       "      <td>0</td>\n",
       "      <td>0</td>\n",
       "      <td>1</td>\n",
       "      <td>0</td>\n",
       "      <td>0</td>\n",
       "      <td>0</td>\n",
       "      <td>0</td>\n",
       "      <td>0</td>\n",
       "      <td>...</td>\n",
       "      <td>0</td>\n",
       "      <td>0</td>\n",
       "      <td>0</td>\n",
       "      <td>0</td>\n",
       "      <td>0</td>\n",
       "      <td>0</td>\n",
       "      <td>0</td>\n",
       "      <td>1</td>\n",
       "      <td>0</td>\n",
       "      <td>0</td>\n",
       "    </tr>\n",
       "    <tr>\n",
       "      <th>4</th>\n",
       "      <td>0</td>\n",
       "      <td>0</td>\n",
       "      <td>0</td>\n",
       "      <td>0</td>\n",
       "      <td>1</td>\n",
       "      <td>0</td>\n",
       "      <td>0</td>\n",
       "      <td>0</td>\n",
       "      <td>0</td>\n",
       "      <td>0</td>\n",
       "      <td>...</td>\n",
       "      <td>0</td>\n",
       "      <td>0</td>\n",
       "      <td>0</td>\n",
       "      <td>0</td>\n",
       "      <td>0</td>\n",
       "      <td>0</td>\n",
       "      <td>0</td>\n",
       "      <td>0</td>\n",
       "      <td>0</td>\n",
       "      <td>0</td>\n",
       "    </tr>\n",
       "  </tbody>\n",
       "</table>\n",
       "<p>5 rows × 97 columns</p>\n",
       "</div>"
      ],
      "text/plain": [
       "   workclass_ ?  workclass_ Federal-gov  workclass_ Local-gov  \\\n",
       "0             0                       0                     0   \n",
       "1             0                       0                     0   \n",
       "2             0                       0                     0   \n",
       "3             0                       0                     0   \n",
       "4             0                       0                     0   \n",
       "\n",
       "   workclass_ Never-worked  workclass_ Private  workclass_ Self-emp-inc  \\\n",
       "0                        0                   0                        0   \n",
       "1                        0                   0                        0   \n",
       "2                        0                   1                        0   \n",
       "3                        0                   1                        0   \n",
       "4                        0                   1                        0   \n",
       "\n",
       "   workclass_ Self-emp-not-inc  workclass_ State-gov  workclass_ Without-pay  \\\n",
       "0                            0                     1                       0   \n",
       "1                            1                     0                       0   \n",
       "2                            0                     0                       0   \n",
       "3                            0                     0                       0   \n",
       "4                            0                     0                       0   \n",
       "\n",
       "   education_ 10th  ...  nativeCountry_ Portugal  nativeCountry_ Puerto-Rico  \\\n",
       "0                0  ...                        0                           0   \n",
       "1                0  ...                        0                           0   \n",
       "2                0  ...                        0                           0   \n",
       "3                0  ...                        0                           0   \n",
       "4                0  ...                        0                           0   \n",
       "\n",
       "   nativeCountry_ Scotland  nativeCountry_ South  nativeCountry_ Taiwan  \\\n",
       "0                        0                     0                      0   \n",
       "1                        0                     0                      0   \n",
       "2                        0                     0                      0   \n",
       "3                        0                     0                      0   \n",
       "4                        0                     0                      0   \n",
       "\n",
       "   nativeCountry_ Thailand  nativeCountry_ Trinadad&Tobago  \\\n",
       "0                        0                               0   \n",
       "1                        0                               0   \n",
       "2                        0                               0   \n",
       "3                        0                               0   \n",
       "4                        0                               0   \n",
       "\n",
       "   nativeCountry_ United-States  nativeCountry_ Vietnam  \\\n",
       "0                             1                       0   \n",
       "1                             1                       0   \n",
       "2                             1                       0   \n",
       "3                             1                       0   \n",
       "4                             0                       0   \n",
       "\n",
       "   nativeCountry_ Yugoslavia  \n",
       "0                          0  \n",
       "1                          0  \n",
       "2                          0  \n",
       "3                          0  \n",
       "4                          0  \n",
       "\n",
       "[5 rows x 97 columns]"
      ]
     },
     "execution_count": 10,
     "metadata": {},
     "output_type": "execute_result"
    }
   ],
   "source": [
    "X_hot = pd.get_dummies(X_cat)\n",
    "print(X_hot.columns.values)\n",
    "print(type(X_hot))\n",
    "X_hot.head()"
   ]
  },
  {
   "cell_type": "code",
   "execution_count": 11,
   "id": "2601401d",
   "metadata": {},
   "outputs": [
    {
     "data": {
      "text/html": [
       "<div>\n",
       "<style scoped>\n",
       "    .dataframe tbody tr th:only-of-type {\n",
       "        vertical-align: middle;\n",
       "    }\n",
       "\n",
       "    .dataframe tbody tr th {\n",
       "        vertical-align: top;\n",
       "    }\n",
       "\n",
       "    .dataframe thead th {\n",
       "        text-align: right;\n",
       "    }\n",
       "</style>\n",
       "<table border=\"1\" class=\"dataframe\">\n",
       "  <thead>\n",
       "    <tr style=\"text-align: right;\">\n",
       "      <th></th>\n",
       "      <th>0</th>\n",
       "      <th>1</th>\n",
       "      <th>2</th>\n",
       "      <th>3</th>\n",
       "      <th>workclass_ ?</th>\n",
       "      <th>workclass_ Federal-gov</th>\n",
       "      <th>workclass_ Local-gov</th>\n",
       "      <th>workclass_ Never-worked</th>\n",
       "      <th>workclass_ Private</th>\n",
       "      <th>workclass_ Self-emp-inc</th>\n",
       "      <th>...</th>\n",
       "      <th>nativeCountry_ Portugal</th>\n",
       "      <th>nativeCountry_ Puerto-Rico</th>\n",
       "      <th>nativeCountry_ Scotland</th>\n",
       "      <th>nativeCountry_ South</th>\n",
       "      <th>nativeCountry_ Taiwan</th>\n",
       "      <th>nativeCountry_ Thailand</th>\n",
       "      <th>nativeCountry_ Trinadad&amp;Tobago</th>\n",
       "      <th>nativeCountry_ United-States</th>\n",
       "      <th>nativeCountry_ Vietnam</th>\n",
       "      <th>nativeCountry_ Yugoslavia</th>\n",
       "    </tr>\n",
       "  </thead>\n",
       "  <tbody>\n",
       "    <tr>\n",
       "      <th>0</th>\n",
       "      <td>0.301370</td>\n",
       "      <td>0.800000</td>\n",
       "      <td>0.75</td>\n",
       "      <td>0.397959</td>\n",
       "      <td>0</td>\n",
       "      <td>0</td>\n",
       "      <td>0</td>\n",
       "      <td>0</td>\n",
       "      <td>0</td>\n",
       "      <td>0</td>\n",
       "      <td>...</td>\n",
       "      <td>0</td>\n",
       "      <td>0</td>\n",
       "      <td>0</td>\n",
       "      <td>0</td>\n",
       "      <td>0</td>\n",
       "      <td>0</td>\n",
       "      <td>0</td>\n",
       "      <td>1</td>\n",
       "      <td>0</td>\n",
       "      <td>0</td>\n",
       "    </tr>\n",
       "    <tr>\n",
       "      <th>1</th>\n",
       "      <td>0.452055</td>\n",
       "      <td>0.800000</td>\n",
       "      <td>0.75</td>\n",
       "      <td>0.122449</td>\n",
       "      <td>0</td>\n",
       "      <td>0</td>\n",
       "      <td>0</td>\n",
       "      <td>0</td>\n",
       "      <td>0</td>\n",
       "      <td>0</td>\n",
       "      <td>...</td>\n",
       "      <td>0</td>\n",
       "      <td>0</td>\n",
       "      <td>0</td>\n",
       "      <td>0</td>\n",
       "      <td>0</td>\n",
       "      <td>0</td>\n",
       "      <td>0</td>\n",
       "      <td>1</td>\n",
       "      <td>0</td>\n",
       "      <td>0</td>\n",
       "    </tr>\n",
       "    <tr>\n",
       "      <th>2</th>\n",
       "      <td>0.287671</td>\n",
       "      <td>0.533333</td>\n",
       "      <td>0.75</td>\n",
       "      <td>0.397959</td>\n",
       "      <td>0</td>\n",
       "      <td>0</td>\n",
       "      <td>0</td>\n",
       "      <td>0</td>\n",
       "      <td>1</td>\n",
       "      <td>0</td>\n",
       "      <td>...</td>\n",
       "      <td>0</td>\n",
       "      <td>0</td>\n",
       "      <td>0</td>\n",
       "      <td>0</td>\n",
       "      <td>0</td>\n",
       "      <td>0</td>\n",
       "      <td>0</td>\n",
       "      <td>1</td>\n",
       "      <td>0</td>\n",
       "      <td>0</td>\n",
       "    </tr>\n",
       "    <tr>\n",
       "      <th>3</th>\n",
       "      <td>0.493151</td>\n",
       "      <td>0.400000</td>\n",
       "      <td>0.50</td>\n",
       "      <td>0.397959</td>\n",
       "      <td>0</td>\n",
       "      <td>0</td>\n",
       "      <td>0</td>\n",
       "      <td>0</td>\n",
       "      <td>1</td>\n",
       "      <td>0</td>\n",
       "      <td>...</td>\n",
       "      <td>0</td>\n",
       "      <td>0</td>\n",
       "      <td>0</td>\n",
       "      <td>0</td>\n",
       "      <td>0</td>\n",
       "      <td>0</td>\n",
       "      <td>0</td>\n",
       "      <td>1</td>\n",
       "      <td>0</td>\n",
       "      <td>0</td>\n",
       "    </tr>\n",
       "    <tr>\n",
       "      <th>4</th>\n",
       "      <td>0.150685</td>\n",
       "      <td>0.800000</td>\n",
       "      <td>0.50</td>\n",
       "      <td>0.397959</td>\n",
       "      <td>0</td>\n",
       "      <td>0</td>\n",
       "      <td>0</td>\n",
       "      <td>0</td>\n",
       "      <td>1</td>\n",
       "      <td>0</td>\n",
       "      <td>...</td>\n",
       "      <td>0</td>\n",
       "      <td>0</td>\n",
       "      <td>0</td>\n",
       "      <td>0</td>\n",
       "      <td>0</td>\n",
       "      <td>0</td>\n",
       "      <td>0</td>\n",
       "      <td>0</td>\n",
       "      <td>0</td>\n",
       "      <td>0</td>\n",
       "    </tr>\n",
       "  </tbody>\n",
       "</table>\n",
       "<p>5 rows × 101 columns</p>\n",
       "</div>"
      ],
      "text/plain": [
       "          0         1     2         3  workclass_ ?  workclass_ Federal-gov  \\\n",
       "0  0.301370  0.800000  0.75  0.397959             0                       0   \n",
       "1  0.452055  0.800000  0.75  0.122449             0                       0   \n",
       "2  0.287671  0.533333  0.75  0.397959             0                       0   \n",
       "3  0.493151  0.400000  0.50  0.397959             0                       0   \n",
       "4  0.150685  0.800000  0.50  0.397959             0                       0   \n",
       "\n",
       "   workclass_ Local-gov  workclass_ Never-worked  workclass_ Private  \\\n",
       "0                     0                        0                   0   \n",
       "1                     0                        0                   0   \n",
       "2                     0                        0                   1   \n",
       "3                     0                        0                   1   \n",
       "4                     0                        0                   1   \n",
       "\n",
       "   workclass_ Self-emp-inc  ...  nativeCountry_ Portugal  \\\n",
       "0                        0  ...                        0   \n",
       "1                        0  ...                        0   \n",
       "2                        0  ...                        0   \n",
       "3                        0  ...                        0   \n",
       "4                        0  ...                        0   \n",
       "\n",
       "   nativeCountry_ Puerto-Rico  nativeCountry_ Scotland  nativeCountry_ South  \\\n",
       "0                           0                        0                     0   \n",
       "1                           0                        0                     0   \n",
       "2                           0                        0                     0   \n",
       "3                           0                        0                     0   \n",
       "4                           0                        0                     0   \n",
       "\n",
       "   nativeCountry_ Taiwan  nativeCountry_ Thailand  \\\n",
       "0                      0                        0   \n",
       "1                      0                        0   \n",
       "2                      0                        0   \n",
       "3                      0                        0   \n",
       "4                      0                        0   \n",
       "\n",
       "   nativeCountry_ Trinadad&Tobago  nativeCountry_ United-States  \\\n",
       "0                               0                             1   \n",
       "1                               0                             1   \n",
       "2                               0                             1   \n",
       "3                               0                             1   \n",
       "4                               0                             0   \n",
       "\n",
       "   nativeCountry_ Vietnam  nativeCountry_ Yugoslavia  \n",
       "0                       0                          0  \n",
       "1                       0                          0  \n",
       "2                       0                          0  \n",
       "3                       0                          0  \n",
       "4                       0                          0  \n",
       "\n",
       "[5 rows x 101 columns]"
      ]
     },
     "execution_count": 11,
     "metadata": {},
     "output_type": "execute_result"
    }
   ],
   "source": [
    "X_final = pd.concat([pd.DataFrame(X_scaled).reset_index(drop=True),\n",
    "                    X_hot.reset_index(drop=True)], axis=1)\n",
    "X_final.head()"
   ]
  },
  {
   "cell_type": "code",
   "execution_count": 12,
   "id": "605722f4",
   "metadata": {},
   "outputs": [
    {
     "name": "stdout",
     "output_type": "stream",
     "text": [
      "X.shape: (32561, 101)\n",
      "y.shape: (32561,)\n"
     ]
    }
   ],
   "source": [
    "print('X.shape:', X_final.shape)\n",
    "print('y.shape:', y.shape)"
   ]
  },
  {
   "cell_type": "code",
   "execution_count": 13,
   "id": "2fcbecde",
   "metadata": {},
   "outputs": [],
   "source": [
    "from sklearn.model_selection import train_test_split\n",
    "\n",
    "X_train, X_test, y_train, y_test = train_test_split(X_final, y)"
   ]
  },
  {
   "cell_type": "code",
   "execution_count": 14,
   "id": "cf7d8f70",
   "metadata": {},
   "outputs": [
    {
     "name": "stderr",
     "output_type": "stream",
     "text": [
      "Using TensorFlow backend.\n"
     ]
    },
    {
     "name": "stdout",
     "output_type": "stream",
     "text": [
      "Model: \"sequential_1\"\n",
      "_________________________________________________________________\n",
      "Layer (type)                 Output Shape              Param #   \n",
      "=================================================================\n",
      "dense_1 (Dense)              (None, 64)                6528      \n",
      "_________________________________________________________________\n",
      "dense_2 (Dense)              (None, 32)                2080      \n",
      "_________________________________________________________________\n",
      "dense_3 (Dense)              (None, 1)                 33        \n",
      "=================================================================\n",
      "Total params: 8,641\n",
      "Trainable params: 8,641\n",
      "Non-trainable params: 0\n",
      "_________________________________________________________________\n"
     ]
    }
   ],
   "source": [
    "from keras.models import Sequential\n",
    "from keras.layers import Dense\n",
    "\n",
    "model = Sequential()\n",
    "\n",
    "model.add(Dense(64, activation='relu', input_shape=(X_train.shape[-1],)))\n",
    "model.add(Dense(32, activation='relu'))\n",
    "model.add(Dense(1, activation='sigmoid'))\n",
    "\n",
    "model.summary()"
   ]
  },
  {
   "cell_type": "code",
   "execution_count": 15,
   "id": "507cf644",
   "metadata": {},
   "outputs": [],
   "source": [
    "model.compile(loss='binary_crossentropy', optimizer='rmsprop',\n",
    "             metrics=['acc'])"
   ]
  },
  {
   "cell_type": "code",
   "execution_count": 16,
   "id": "9bab39e1",
   "metadata": {},
   "outputs": [
    {
     "name": "stdout",
     "output_type": "stream",
     "text": [
      "Train on 24420 samples, validate on 8141 samples\n",
      "Epoch 1/10\n",
      "24420/24420 [==============================] - 3s 122us/step - loss: 0.3746 - acc: 0.8225 - val_loss: 0.3560 - val_acc: 0.8366\n",
      "Epoch 2/10\n",
      "24420/24420 [==============================] - 3s 142us/step - loss: 0.3543 - acc: 0.8332 - val_loss: 0.3514 - val_acc: 0.8369\n",
      "Epoch 3/10\n",
      "24420/24420 [==============================] - 2s 92us/step - loss: 0.3511 - acc: 0.8353 - val_loss: 0.3513 - val_acc: 0.8393\n",
      "Epoch 4/10\n",
      "24420/24420 [==============================] - 2s 96us/step - loss: 0.3498 - acc: 0.8359 - val_loss: 0.3496 - val_acc: 0.8386\n",
      "Epoch 5/10\n",
      "24420/24420 [==============================] - 3s 112us/step - loss: 0.3485 - acc: 0.8376 - val_loss: 0.3510 - val_acc: 0.8396\n",
      "Epoch 6/10\n",
      "24420/24420 [==============================] - 3s 109us/step - loss: 0.3467 - acc: 0.8388 - val_loss: 0.3512 - val_acc: 0.8368\n",
      "Epoch 7/10\n",
      "24420/24420 [==============================] - 2s 93us/step - loss: 0.3454 - acc: 0.8403 - val_loss: 0.3511 - val_acc: 0.8391\n",
      "Epoch 8/10\n",
      "24420/24420 [==============================] - 2s 94us/step - loss: 0.3448 - acc: 0.8421 - val_loss: 0.3496 - val_acc: 0.8415\n",
      "Epoch 9/10\n",
      "24420/24420 [==============================] - 2s 96us/step - loss: 0.3436 - acc: 0.8417 - val_loss: 0.3549 - val_acc: 0.8347\n",
      "Epoch 10/10\n",
      "24420/24420 [==============================] - 2s 97us/step - loss: 0.3428 - acc: 0.8432 - val_loss: 0.3472 - val_acc: 0.8426\n"
     ]
    }
   ],
   "source": [
    "history = model.fit(X_train, y_train, epochs=10, batch_size=32,\n",
    "                   validation_data=(X_test, y_test))"
   ]
  },
  {
   "cell_type": "code",
   "execution_count": 17,
   "id": "13ee782d",
   "metadata": {},
   "outputs": [
    {
     "name": "stdout",
     "output_type": "stream",
     "text": [
      "/Users/jsha/gjai/nlp/pytest/14_연습문제/ -- Folder already exists\n",
      "\n"
     ]
    }
   ],
   "source": [
    "import os \n",
    "\n",
    "path = '/Users/jsha/gjai/nlp/pytest/14_연습문제/'\n",
    "model_name = '14_추천모델.h5'\n",
    "mms_name = 'minmaxscaler.pickle'\n",
    "\n",
    "if os.path.exists(path):\n",
    "    print(\"{} -- Folder already exists\\n\".format(path))\n",
    "else:\n",
    "    os.makedirs(path, exist_ok=True)\n",
    "    print(\"{} -- Folder created\\n\".format(path))\n",
    "\n",
    "model.save(path+model_name)\n",
    "\n",
    "import pickle\n",
    "\n",
    "with open(path+mms_name, 'wb') as file:\n",
    "    pickle.dump(scaler, file, protocol=pickle.HIGHEST_PROTOCOL)"
   ]
  },
  {
   "cell_type": "code",
   "execution_count": 18,
   "id": "44c2c9be",
   "metadata": {},
   "outputs": [
    {
     "data": {
      "text/plain": [
       "dict_keys(['val_loss', 'val_acc', 'loss', 'acc'])"
      ]
     },
     "execution_count": 18,
     "metadata": {},
     "output_type": "execute_result"
    }
   ],
   "source": [
    "history.history.keys()"
   ]
  },
  {
   "cell_type": "code",
   "execution_count": 19,
   "id": "1d66a01b",
   "metadata": {},
   "outputs": [],
   "source": [
    "loss = history.history['loss']\n",
    "acc = history.history['acc']\n",
    "val_loss = history.history['val_loss']\n",
    "val_acc = history.history['val_acc']\n",
    "\n",
    "epochs = range(1, len(acc)+1)"
   ]
  },
  {
   "cell_type": "code",
   "execution_count": 20,
   "id": "f336a34f",
   "metadata": {},
   "outputs": [
    {
     "data": {
      "image/png": "[encoded data removed]",
      "text/plain": [
       "<Figure size 432x288 with 1 Axes>"
      ]
     },
     "metadata": {
      "needs_background": "light"
     },
     "output_type": "display_data"
    }
   ],
   "source": [
    "import matplotlib.pyplot as plt\n",
    "\n",
    "plt.plot(epochs, acc, 'bo', label='Training Acc')\n",
    "plt.plot(epochs, val_acc, 'r', label='Validation Acc')\n",
    "plt.title('Training and Validation accuracy')\n",
    "plt.legend()\n",
    "plt.show()"
   ]
  },
  {
   "cell_type": "code",
   "execution_count": 21,
   "id": "6de72e20",
   "metadata": {},
   "outputs": [
    {
     "data": {
      "image/png": "[encoded data removed]",
      "text/plain": [
       "<Figure size 432x288 with 1 Axes>"
      ]
     },
     "metadata": {
      "needs_background": "light"
     },
     "output_type": "display_data"
    }
   ],
   "source": [
    "plt.figure()\n",
    "plt.plot(epochs, loss, 'bo', label='Training Loss')\n",
    "plt.plot(epochs, val_loss, 'r', label='Validation Loss')\n",
    "plt.title('Training and Validation loss')\n",
    "plt.legend()\n",
    "plt.show()"
   ]
  },
  {
   "cell_type": "markdown",
   "id": "b54f7f55",
   "metadata": {},
   "source": [
    "# 테스트 데이터 전처리\n",
    "- 중요한 점은, get_dummies를 사용할 때, 이전 training 데이터와 결합해서 사용한다.\n",
    "- 왜? 테스트 데이터가 너무 작아서 이대로 get_dummies를 사용하면 확장되는 컬럼수가 달라진다. 나중에 모델에 넣을 수가 없어."
   ]
  },
  {
   "cell_type": "code",
   "execution_count": 23,
   "id": "031d4253",
   "metadata": {},
   "outputs": [
    {
     "name": "stdout",
     "output_type": "stream",
     "text": [
      "df_X.shape: (32561, 11)\n",
      "new_df_X.shape: (10, 11)\n"
     ]
    }
   ],
   "source": [
    "import pandas as pd\n",
    "\n",
    "path = '/Users/jsha/gjai/nlp/pytest/'\n",
    "df = pd.read_csv(path+'income.csv')\n",
    "df_X = df.loc[:, 'age':'nativeCountry']\n",
    "print('df_X.shape:', df_X.shape)\n",
    "\n",
    "new_df = pd.read_csv(path+'income_test.csv')\n",
    "new_df_X = new_df.loc[:, 'age':'nativeCountry']\n",
    "print('new_df_X.shape:', new_df_X.shape)\n"
   ]
  },
  {
   "cell_type": "code",
   "execution_count": 24,
   "id": "0e2932ad",
   "metadata": {},
   "outputs": [
    {
     "name": "stdout",
     "output_type": "stream",
     "text": [
      "df_appended.shape: (32571, 11)\n"
     ]
    }
   ],
   "source": [
    "df_appended = new_df_X.append(df_X)\n",
    "print('df_appended.shape:', df_appended.shape)"
   ]
  },
  {
   "cell_type": "code",
   "execution_count": 25,
   "id": "cd6aa4c2",
   "metadata": {},
   "outputs": [
    {
     "name": "stdout",
     "output_type": "stream",
     "text": [
      "<class 'pandas.core.frame.DataFrame'>\n",
      "Int64Index: 32571 entries, 0 to 32560\n",
      "Data columns (total 11 columns):\n",
      " #   Column           Non-Null Count  Dtype \n",
      "---  ------           --------------  ----- \n",
      " 0   age              32571 non-null  int64 \n",
      " 1   workclass        32571 non-null  object\n",
      " 2   education        32571 non-null  object\n",
      " 3   educationNumber  32571 non-null  int64 \n",
      " 4   maritalStatus    32571 non-null  object\n",
      " 5   occupation       32571 non-null  object\n",
      " 6   relationship     32571 non-null  object\n",
      " 7   race             32571 non-null  int64 \n",
      " 8   gender           32571 non-null  object\n",
      " 9   hourPerWeek      32571 non-null  int64 \n",
      " 10  nativeCountry    32571 non-null  object\n",
      "dtypes: int64(4), object(7)\n",
      "memory usage: 3.0+ MB\n"
     ]
    }
   ],
   "source": [
    "df_appended.info()"
   ]
  },
  {
   "cell_type": "code",
   "execution_count": 26,
   "id": "a5f0ea53",
   "metadata": {},
   "outputs": [
    {
     "name": "stdout",
     "output_type": "stream",
     "text": [
      "(32571, 4)\n",
      "(32571, 7)\n"
     ]
    }
   ],
   "source": [
    "X_num = df_appended.select_dtypes(include=['int64'])\n",
    "X_cat = df_appended.select_dtypes(include=['object'])\n",
    "print(X_num.shape)\n",
    "print(X_cat.shape)"
   ]
  },
  {
   "cell_type": "code",
   "execution_count": 27,
   "id": "6a8a969b",
   "metadata": {},
   "outputs": [
    {
     "name": "stdout",
     "output_type": "stream",
     "text": [
      "(32571, 4)\n",
      "[0.2739726 0.6       0.75      0.3877551]\n"
     ]
    }
   ],
   "source": [
    "X_scaled = scaler.transform(X_num)\n",
    "print(X_scaled.shape)\n",
    "print(X_scaled[0])"
   ]
  },
  {
   "cell_type": "code",
   "execution_count": 28,
   "id": "87661f3f",
   "metadata": {},
   "outputs": [
    {
     "name": "stdout",
     "output_type": "stream",
     "text": [
      "(32571, 97)\n"
     ]
    }
   ],
   "source": [
    "X_hot = pd.get_dummies(X_cat)\n",
    "print(X_hot.shape)"
   ]
  },
  {
   "cell_type": "code",
   "execution_count": 29,
   "id": "154b7213",
   "metadata": {},
   "outputs": [
    {
     "name": "stdout",
     "output_type": "stream",
     "text": [
      "(32571, 101)\n"
     ]
    }
   ],
   "source": [
    "X_final = pd.concat([pd.DataFrame(X_scaled).reset_index(drop=True), X_hot.reset_index(drop=True)], axis=1)\n",
    "print(X_final.shape)"
   ]
  },
  {
   "cell_type": "code",
   "execution_count": 30,
   "id": "ba9010b9",
   "metadata": {},
   "outputs": [
    {
     "data": {
      "text/plain": [
       "(10, 101)"
      ]
     },
     "execution_count": 30,
     "metadata": {},
     "output_type": "execute_result"
    }
   ],
   "source": [
    "X_only_new = X_final.iloc[:len(new_df), ]\n",
    "X_only_new.shape"
   ]
  },
  {
   "cell_type": "code",
   "execution_count": 31,
   "id": "554795af",
   "metadata": {
    "scrolled": true
   },
   "outputs": [
    {
     "name": "stdout",
     "output_type": "stream",
     "text": [
      "Result: [[0.03273654]\n",
      " [0.00207368]\n",
      " [0.2515434 ]\n",
      " [0.03064194]\n",
      " [0.16467813]\n",
      " [0.0014942 ]\n",
      " [0.00575393]\n",
      " [0.08190474]\n",
      " [0.04217426]\n",
      " [0.06515942]]\n"
     ]
    }
   ],
   "source": [
    "predictions = model.predict(X_only_new)\n",
    "print('Result:', predictions)"
   ]
  },
  {
   "cell_type": "code",
   "execution_count": 32,
   "id": "87d71442",
   "metadata": {},
   "outputs": [
    {
     "data": {
      "text/plain": [
       "['0 below 50K',\n",
       " '1 below 50K',\n",
       " '2 above 50K',\n",
       " '3 below 50K',\n",
       " '4 above 50K',\n",
       " '5 below 50K',\n",
       " '6 below 50K',\n",
       " '7 below 50K',\n",
       " '8 below 50K',\n",
       " '9 below 50K']"
      ]
     },
     "execution_count": 32,
     "metadata": {},
     "output_type": "execute_result"
    }
   ],
   "source": [
    "result = []\n",
    "for i, prediction in enumerate(predictions):\n",
    "    if prediction > 0.1: # 현재 결과는 0.5 이상인 것이 없어서 기준을 낮게 잡음\n",
    "        result.append(str(i)+\" above 50K\") \n",
    "    else:\n",
    "        result.append(str(i)+\" below 50K\")\n",
    "result"
   ]
  },
  {
   "cell_type": "code",
   "execution_count": null,
   "id": "5ff2129e",
   "metadata": {},
   "outputs": [],
   "source": []
  }
 ],
 "metadata": {
  "kernelspec": {
   "display_name": "nlp3710",
   "language": "python",
   "name": "nlp3710"
  },
  "language_info": {
   "codemirror_mode": {
    "name": "ipython",
    "version": 3
   },
   "file_extension": ".py",
   "mimetype": "text/x-python",
   "name": "python",
   "nbconvert_exporter": "python",
   "pygments_lexer": "ipython3",
   "version": "3.7.10"
  },
  "toc": {
   "base_numbering": 1,
   "nav_menu": {},
   "number_sections": true,
   "sideBar": true,
   "skip_h1_title": false,
   "title_cell": "Table of Contents",
   "title_sidebar": "Contents",
   "toc_cell": false,
   "toc_position": {},
   "toc_section_display": true,
   "toc_window_display": false
  }
 },
 "nbformat": 4,
 "nbformat_minor": 5
}
