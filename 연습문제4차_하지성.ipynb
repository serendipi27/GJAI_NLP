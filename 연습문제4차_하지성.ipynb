{
 "cells": [
  {
   "cell_type": "markdown",
   "id": "59f68fad",
   "metadata": {},
   "source": [
    "# 연습문제1\n",
    "- 다음 수식의 의미를 자세히 설명하시오\n",
    "\n",
    "- 변수 x를 갖는 함수 f가 있다.\n",
    "- h가 0에 가까운 아주 작은 값이라고 하자.\n",
    "- h가 조금 변할 때, 함수값 f(x)는 얼마나 변하는지를 알아보는 수식이다.\n",
    "- 즉, h에 따른 f(x+h) - f(x)의 변화량이다."
   ]
  },
  {
   "cell_type": "code",
   "execution_count": 27,
   "id": "4c99fcb3",
   "metadata": {},
   "outputs": [
    {
     "data": {
      "text/plain": [
       "'10.00'"
      ]
     },
     "execution_count": 27,
     "metadata": {},
     "output_type": "execute_result"
    }
   ],
   "source": [
    "import numpy as np\n",
    "\n",
    "def diff(f, x):\n",
    "    h = 0.00001\n",
    "    return (f(x+h) - f(x)) / h\n",
    "\n",
    "def f(a):\n",
    "    return a**2\n",
    "\n",
    "format(diff(f, 5), '.2f')"
   ]
  },
  {
   "cell_type": "markdown",
   "id": "16ddff1b",
   "metadata": {},
   "source": [
    "# 연습문제2\n",
    "- 함수 $f(x_0, x_1)$은 다음과 같다. \n",
    "$f(x_0, x_1) = x_0^2 + x_1^2$\n",
    "- $x_0 = 3, x_1 = 4$일 때, $x_1$에 대한 편미분 $ round(f)/round(x_1)$를 구하시오."
   ]
  },
  {
   "cell_type": "code",
   "execution_count": 25,
   "id": "c1093546",
   "metadata": {},
   "outputs": [
    {
     "data": {
      "text/plain": [
       "'8.00'"
      ]
     },
     "execution_count": 25,
     "metadata": {},
     "output_type": "execute_result"
    }
   ],
   "source": [
    "def f(x):\n",
    "    assert x is not list\n",
    "    return x[0]**2 + x[1]**2\n",
    "\n",
    "def partial_diff(f, x):\n",
    "    assert x is not list\n",
    "    h = 0.0001\n",
    "    x0 = x.copy()\n",
    "    x1 = x.copy()\n",
    "    \n",
    "    # partial0\n",
    "    f2 = f(x0)\n",
    "    x0[0] = x0[0] + h\n",
    "    f1 = f(x0)\n",
    "    result0 = (f1 - f2) / h\n",
    "    \n",
    "    # partial1\n",
    "    f2 = f(x1)\n",
    "    x1[1] = x1[1] + h\n",
    "    f1 = f(x1)\n",
    "    result1 = (f1 - f2) / h\n",
    "    \n",
    "    return (result0, result1)\n",
    "    \n",
    "partial_1, partial_2 = partial_diff(f, [3,4])\n",
    "format(partial_2, '.2f')"
   ]
  },
  {
   "cell_type": "markdown",
   "id": "9117d267",
   "metadata": {},
   "source": [
    "# 연습문제3. local minimum과 global minimum의 차이에 대하여 설명하시오.\n",
    "\n",
    "- 오차함수에서 기울기가 0인 지점은 max, min, 말안장 등 여러 곳에서 나타날 수 있다. 전체 오차함수에서 오차가 최소인 지점을 global minimum이라 하고, 국부적으로 기울기가 0인 지역을을 local minimum이라 한다. 즉, global minimum은 하나이지만, local minimum은 여러곳에서 나타날 수 있다."
   ]
  },
  {
   "cell_type": "markdown",
   "id": "6b2af2a6",
   "metadata": {},
   "source": [
    "# 연습문제4. 경사하강법이 필요한 이유를 설명하시오. 또한, 기울기가 낮은 지점을 찾는다는 것의 의미를 설명하시오.\n",
    "\n",
    "- 오차함수의 기울기가 0인 지점은 오차가 최대이거나 최소인 경우라고 할 수 있겠다. 오차함수의 값은 이전값과 비교를 통해 최대값인지 최소값인지 확인할 수 있으므로, 기울기가 0인 지역을 찾아 최소값인지 확인하면 된다. 경사하강법은 오차함수의 기울를 계산하여 기울기가 음수인지 양수인지를 판단하고 경사를 줄이는 방향으로 조금씩 가중치를 수정한다. "
   ]
  },
  {
   "cell_type": "markdown",
   "id": "1f49f7af",
   "metadata": {},
   "source": [
    "# 연습문제5. 경사하강법에서 학습률이 너무 크면 발산을 하는 이유를 설명하시오.\n",
    "- 경사하강법에서 학습률을 너무 크게 하면, 특정 가중치 근방의 가중치를 면밀히 살피지 못하고 수정치가 널뛰기 하게 된다. 그러면 이후 가중치 수정시 널뛰기 된 가중치를 사용하게 되므로 오차함수를 줄이는데 어려움을 겪게 된다. "
   ]
  },
  {
   "cell_type": "markdown",
   "id": "8e02ab2c",
   "metadata": {},
   "source": [
    "# 연습문제6. x -= lr*grad의 의미를 설명하시오.\n",
    "\n",
    "- x에 따른 손실함수의 변화량을 grad라 하고, grad를 계산하게 되면 오차가 얼마나 큰지를 알 수 있고, 오차함수를 0으로 수렴하게 하기 위해 x값을 업데이트 해야한다. grad에 학습율 lr을 곱하여 기준 가중치에서 빼주게 되면, 오차함수가 줄어드는 방향으로 x값을 업데이트 할 수 있다. "
   ]
  },
  {
   "cell_type": "markdown",
   "id": "6d02e283",
   "metadata": {},
   "source": [
    "# 연습문제7. 확률적 경사하강법이 지역해를 탈출할 수 있는 이유를 설명하시오.\n",
    "\n",
    "- 확률적 경사하강법은 learning rate에 따라 데이터를 랜덤하게 학습함으로, 가중치 업데이트를 촘촘하게 매몰된 공간에서 수행하지 않기 때문에 지역해를 탈출할 수 있다."
   ]
  },
  {
   "cell_type": "markdown",
   "id": "9b0be01e",
   "metadata": {},
   "source": [
    "# 연습문제8. 미니배치 학습에 대하여 설명하시오.\n",
    "\n",
    "- 전체 데이터 N개에서 배치사이즈 n만큼 나누고, N/n번 만큼 학습을 수행하여 1번의 에포크를 만든다. 이와같은 방법으로 k번 에포크를 수행한다.\n",
    "- 미니배치학습은 적절한 병렬연산을 수행함으로서 학습속도를 높이면서도, 연산자원 메모리를 적절히 활용하는 장점이 있다. 또한, 가중치 업데이터를 배치사이즈 단위로 수행하기 때문에 모델이 지역해에 빠질수 있는 단점을 극복할 수 있다. "
   ]
  },
  {
   "cell_type": "code",
   "execution_count": null,
   "id": "385d3f4c",
   "metadata": {},
   "outputs": [],
   "source": []
  }
 ],
 "metadata": {
  "kernelspec": {
   "display_name": "nlp3710",
   "language": "python",
   "name": "nlp3710"
  },
  "language_info": {
   "codemirror_mode": {
    "name": "ipython",
    "version": 3
   },
   "file_extension": ".py",
   "mimetype": "text/x-python",
   "name": "python",
   "nbconvert_exporter": "python",
   "pygments_lexer": "ipython3",
   "version": "3.7.10"
  },
  "toc": {
   "base_numbering": 1,
   "nav_menu": {},
   "number_sections": true,
   "sideBar": true,
   "skip_h1_title": false,
   "title_cell": "Table of Contents",
   "title_sidebar": "Contents",
   "toc_cell": false,
   "toc_position": {},
   "toc_section_display": true,
   "toc_window_display": false
  }
 },
 "nbformat": 4,
 "nbformat_minor": 5
}
