{
 "cells": [
  {
   "cell_type": "code",
   "execution_count": 6,
   "id": "0db3bf83",
   "metadata": {},
   "outputs": [],
   "source": [
    "import sys, os\n",
    "sys.path.append(\"/Users/jsha/gjai/nlp/pytest/base/dataset/\")\n",
    "from mnist import load_mnist\n",
    "import numpy as np"
   ]
  },
  {
   "cell_type": "code",
   "execution_count": 7,
   "id": "6750ad05",
   "metadata": {},
   "outputs": [
    {
     "name": "stdout",
     "output_type": "stream",
     "text": [
      "x_train.shape: (60000, 784)\n",
      "t_train.shape: (60000, 10)\n"
     ]
    }
   ],
   "source": [
    "(x_train, t_train), (x_test, t_test) = load_mnist(normalize=True, \n",
    "                                                  one_hot_label=True)\n",
    "print(\"x_train.shape:\", x_train.shape)\n",
    "print(\"t_train.shape:\", t_train.shape)"
   ]
  },
  {
   "cell_type": "code",
   "execution_count": 9,
   "id": "ae3fcb93",
   "metadata": {},
   "outputs": [
    {
     "name": "stdout",
     "output_type": "stream",
     "text": [
      "[52242 46982 37734 52950 30311  6540 41654 39481   344 55042]\n"
     ]
    }
   ],
   "source": [
    "train_size = x_train.shape[0]\n",
    "batch_size = 10\n",
    "batch_mask = np.random.choice(train_size, batch_size)\n",
    "print(batch_mask)\n",
    "\n",
    "x_batch = x_train[batch_mask]\n",
    "t_batch = t_train[batch_mask]"
   ]
  },
  {
   "cell_type": "code",
   "execution_count": 10,
   "id": "b21b49ce",
   "metadata": {
    "scrolled": true
   },
   "outputs": [
    {
     "data": {
      "text/plain": [
       "array([[0., 0., 1., 0., 0., 0., 0., 0., 0., 0.],\n",
       "       [0., 0., 0., 0., 0., 0., 0., 0., 1., 0.],\n",
       "       [0., 0., 1., 0., 0., 0., 0., 0., 0., 0.],\n",
       "       [0., 0., 0., 0., 0., 0., 0., 0., 1., 0.],\n",
       "       [0., 0., 0., 0., 1., 0., 0., 0., 0., 0.],\n",
       "       [0., 0., 1., 0., 0., 0., 0., 0., 0., 0.],\n",
       "       [0., 0., 0., 0., 0., 0., 1., 0., 0., 0.],\n",
       "       [0., 0., 0., 0., 0., 0., 0., 0., 0., 1.],\n",
       "       [0., 0., 0., 0., 0., 0., 0., 0., 0., 1.],\n",
       "       [0., 0., 0., 0., 0., 1., 0., 0., 0., 0.]])"
      ]
     },
     "execution_count": 10,
     "metadata": {},
     "output_type": "execute_result"
    }
   ],
   "source": [
    "t_batch"
   ]
  },
  {
   "cell_type": "markdown",
   "id": "584ea1e0",
   "metadata": {},
   "source": [
    "# 연습문제1. 다음 중 가장 적절한 학습 상태를 표현한 상태는 무엇이며 그 상태가 가장 적절한 이유는 무엇인지 설명하시오.\n",
    "\n",
    "- 2번. 데이터의 트렌드를 가장 잘 쫓아감. 1은 전체 데이터를 대변하지 못하고, 3은 너무 세세한 부분까지 설명하고 있어 새로운 데이터가 들어왔을 때 잘못 예측할 확률이 높다."
   ]
  },
  {
   "cell_type": "markdown",
   "id": "48501720",
   "metadata": {},
   "source": [
    "# 연습문제2. 다음은 평균제곱오차(MSE) 수식과 관련 코드이다. 수식의 의미를 코드를 이용하여 설명하시오.\n",
    "\n",
    "- 모든 데이터에 대하여 인공지능에서 예측하는 결과값과 실제 결과값의 차이의 제곱하여 더하고 이를 반으로 나눈 값.\n",
    "- 예측값과 실제값이 크면 클수록 오차값인 MSE 수치가 높아지는 걸 알 수 있다."
   ]
  },
  {
   "cell_type": "markdown",
   "id": "0a56dc63",
   "metadata": {},
   "source": [
    "# 연습문제3. 다음은 교차 엔트로피 오차(CEE) 관련 코드이다. 이 코드의 계산 과정을 설명하시오.\n",
    "\n",
    "1. 모델의 예측값은 0~1 사이의 확률로 표현되고, 실제값은 정답인 레이블은 1, 나머지는 모두 0으로 표현된다.\n",
    "2. log(예측값)은 예측값이 0이 아닌 이상 어떤 수치를 가지게 되지만, 이에 곱해지는 실제값이 정답이 아닌 경우에는 모두 0이 되어 버린다. 결국 데이터마다 실제값이 1인 경우에만 계산\u001f다.\n",
    "3. 그리고 여기에 (-) 기호가 곱하고 이를 각 데이터마다 더한값이 최종 오차가 된다.\n",
    "4. 만약 실제값에 대해 높은 확률로 예측하게 되면 (-)기호로 인해 오차값이 낮아지게 되고, 실제값에 대해 낮은 확률로 예측하게 되면, 오차값이 높아진다."
   ]
  },
  {
   "cell_type": "markdown",
   "id": "e0fb53e3",
   "metadata": {},
   "source": [
    "# 연습문제 4. 손실함수가 쓰이는 곳과, 손실함수를 설정해야 하는 이유를 설명하시오. 특히, 손실함수의 입력값으로 정답 레이블과 신경망의 출력이 들어오는데, 정답 레이블과 신경망의 출력이 갖는 값의 의미, 그리고 이 둘이 손실함수에서 어떠한 연산을 하게 되는지 설명하시오.\n",
    "\n",
    "- 손실함수를 사용하는 이유는 모델의 예측값과 실제값을 비교하여 그 차이를 줄일 수 있도록 모델을 개선시키기 위함이다. 손실함수의 오차값이 줄어드는 방향으로 모델의 가중치를 계산하여 적용시킬 수 있다.\n",
    "- 손실함수마다 세부 연산 내용이 다를 수 있지만, 결국 신경망의 출력인 예측값과 레이블 값이 실제값이 얼마나 차이가 나는지를 확인하고 이를 줄일 수 있는 방법을 찾는다는 목적은 동일하다."
   ]
  },
  {
   "cell_type": "markdown",
   "id": "9c2535e5",
   "metadata": {},
   "source": [
    "# Numerical differentiation"
   ]
  },
  {
   "cell_type": "code",
   "execution_count": 11,
   "id": "4e51ed0e",
   "metadata": {},
   "outputs": [],
   "source": [
    "def numerical_diff(f, x):\n",
    "    h = 0.00001\n",
    "    return (f(x+h) - f(x)) / h"
   ]
  },
  {
   "cell_type": "code",
   "execution_count": 12,
   "id": "b8a282a6",
   "metadata": {},
   "outputs": [],
   "source": [
    "def function_1(x):\n",
    "    return 0.01*x**2 + 0.2*x"
   ]
  },
  {
   "cell_type": "code",
   "execution_count": 13,
   "id": "e246beaf",
   "metadata": {},
   "outputs": [
    {
     "data": {
      "image/png": "[encoded data removed]",
      "text/plain": [
       "<Figure size 432x288 with 1 Axes>"
      ]
     },
     "metadata": {
      "needs_background": "light"
     },
     "output_type": "display_data"
    }
   ],
   "source": [
    "%matplotlib inline\n",
    "import numpy as np\n",
    "import matplotlib.pylab as plt\n",
    "\n",
    "x = np.arange(0., 20., 0.1)\n",
    "y = function_1(x)\n",
    "\n",
    "plt.xlabel('x')\n",
    "plt.ylabel('y')\n",
    "plt.plot(x, y)\n",
    "plt.show()"
   ]
  },
  {
   "cell_type": "code",
   "execution_count": 14,
   "id": "2b660c17",
   "metadata": {},
   "outputs": [
    {
     "data": {
      "text/plain": [
       "0.3000001000064145"
      ]
     },
     "execution_count": 14,
     "metadata": {},
     "output_type": "execute_result"
    }
   ],
   "source": [
    "numerical_diff(function_1, 5)"
   ]
  },
  {
   "cell_type": "code",
   "execution_count": 15,
   "id": "9e0a5ebb",
   "metadata": {},
   "outputs": [
    {
     "data": {
      "text/plain": [
       "0.40000009997598335"
      ]
     },
     "execution_count": 15,
     "metadata": {},
     "output_type": "execute_result"
    }
   ],
   "source": [
    "numerical_diff(function_1, 10)"
   ]
  },
  {
   "cell_type": "markdown",
   "id": "55f69c97",
   "metadata": {},
   "source": [
    "### 해석\n",
    "- function_1이 loss_function이라고 가정하면, x가 5에서 10으로 이동할때, 기울기가 0.3에서 0.4로 증가했다.\n",
    "- 기울기가 커졌다는 건, loss_function 즉 오차가 커졌다는 것.\n",
    "- 그래서 5에서 10으로 가면 안되고, 5에서 1이나 2, 3으로 가야한다.\n",
    "- 오차가 줄어드는 방향으로 가야하기 때문에."
   ]
  },
  {
   "cell_type": "markdown",
   "id": "b0f565a1",
   "metadata": {},
   "source": [
    "# Gradient Descent\n",
    "- 실제 현상은 복잡하고, 매개변수가 많아 모델이 실제로 가질 수 있는 모든 오차값을 조사하여 최소값을 직접 알아내기 어려움. 따라서 직접 최소값을 찾기보다 간접적으로라도 최소값의 방향을 알려주는 방법을 모색함.\n",
    "- 우리는 loss function이 최소가 되는 지점을 찾고 싶다.\n",
    "- 그곳은 기울기가 0인 지점이며, 더 이상 오차가 낮아질 수 없는 단계일 것.\n",
    "- 단, 그곳이 지역해일 수 있으며, 전역해를 찾기 위해서는 random하게 살피거나, 학습률을 조절하는 방법을 써야 한다.\n"
   ]
  },
  {
   "cell_type": "markdown",
   "id": "8c829254",
   "metadata": {},
   "source": [
    "## 편미분"
   ]
  },
  {
   "cell_type": "code",
   "execution_count": 21,
   "id": "9b37be3e",
   "metadata": {},
   "outputs": [],
   "source": [
    "def function_2_partial1(x0):\n",
    "    return x0**2 + 4.0**2\n",
    "\n",
    "def function_2_partial2(x1):\n",
    "    return 3.0**2 + x1**2"
   ]
  },
  {
   "cell_type": "code",
   "execution_count": 22,
   "id": "1d2c3e47",
   "metadata": {},
   "outputs": [
    {
     "data": {
      "text/plain": [
       "6.000009999951316"
      ]
     },
     "execution_count": 22,
     "metadata": {},
     "output_type": "execute_result"
    }
   ],
   "source": [
    "numerical_diff(function_2_partial1, 3.0)"
   ]
  },
  {
   "cell_type": "code",
   "execution_count": 23,
   "id": "83fee3cb",
   "metadata": {},
   "outputs": [
    {
     "data": {
      "text/plain": [
       "8.00000999952033"
      ]
     },
     "execution_count": 23,
     "metadata": {},
     "output_type": "execute_result"
    }
   ],
   "source": [
    "numerical_diff(function_2_partial2, 4.0)"
   ]
  },
  {
   "cell_type": "markdown",
   "id": "18e870ec",
   "metadata": {},
   "source": [
    "# Gradient"
   ]
  },
  {
   "cell_type": "code",
   "execution_count": 24,
   "id": "809e7932",
   "metadata": {},
   "outputs": [],
   "source": [
    "def numerical_diff(f, x):\n",
    "    h = 0.0001\n",
    "    return (f(x+h) - f(x)) / h"
   ]
  },
  {
   "cell_type": "code",
   "execution_count": 28,
   "id": "1a4b322a",
   "metadata": {},
   "outputs": [],
   "source": [
    "import numpy as np\n",
    "\n",
    "def numerical_gradient(f, x):\n",
    "    h = 0.0001\n",
    "    grad = np.zeros_like(x)\n",
    "    \n",
    "    for index in range(x.size):\n",
    "        tmp_val = x[index]\n",
    "        x[index] = tmp_val + h\n",
    "        fxh1 = f(x)\n",
    "        \n",
    "        x[index] = tmp_val\n",
    "        fxh2 = f(x)\n",
    "        \n",
    "        grad[index] = (fxh1 - fxh2) / h\n",
    "        \n",
    "    return np.round(grad, 3)"
   ]
  },
  {
   "cell_type": "code",
   "execution_count": 29,
   "id": "03752b2d",
   "metadata": {},
   "outputs": [],
   "source": [
    "def function_2(x):\n",
    "    return x[0]**2 + x[1]**2"
   ]
  },
  {
   "cell_type": "code",
   "execution_count": 30,
   "id": "3ce3e216",
   "metadata": {},
   "outputs": [
    {
     "data": {
      "text/plain": [
       "array([6., 8.])"
      ]
     },
     "execution_count": 30,
     "metadata": {},
     "output_type": "execute_result"
    }
   ],
   "source": [
    "numerical_gradient(function_2, np.array([3.0, 4.0]))"
   ]
  },
  {
   "cell_type": "code",
   "execution_count": 33,
   "id": "c4669ee8",
   "metadata": {},
   "outputs": [
    {
     "data": {
      "text/plain": [
       "array([0., 4.])"
      ]
     },
     "execution_count": 33,
     "metadata": {},
     "output_type": "execute_result"
    }
   ],
   "source": [
    "numerical_gradient(function_2, np.array([0.0, 2.0]))"
   ]
  },
  {
   "cell_type": "code",
   "execution_count": 32,
   "id": "bfe6460a",
   "metadata": {},
   "outputs": [
    {
     "data": {
      "text/plain": [
       "array([0., 2.])"
      ]
     },
     "execution_count": 32,
     "metadata": {},
     "output_type": "execute_result"
    }
   ],
   "source": [
    "numerical_gradient(function_2, np.array([0.0, 1.0]))"
   ]
  },
  {
   "cell_type": "markdown",
   "id": "b4902f28",
   "metadata": {},
   "source": [
    "## gradient descent"
   ]
  },
  {
   "cell_type": "code",
   "execution_count": 34,
   "id": "e53dbfad",
   "metadata": {},
   "outputs": [],
   "source": [
    "def gradient_descent(f, init_x, lr=0.01, step_num=100):\n",
    "    x = init_x\n",
    "    x_history = []\n",
    "    \n",
    "    for i in range(step_num):\n",
    "        x_history.append(x.copy())\n",
    "        grad = numerical_gradient(f, x)\n",
    "        x -= lr * grad\n",
    "        \n",
    "    return x, np.array(x_history)"
   ]
  },
  {
   "cell_type": "code",
   "execution_count": 36,
   "id": "3618e244",
   "metadata": {},
   "outputs": [
    {
     "name": "stdout",
     "output_type": "stream",
     "text": [
      "[-0.0002  0.0001]\n"
     ]
    }
   ],
   "source": [
    "init_x = np.array([-3.0, 4.0])\n",
    "lr = 0.1\n",
    "step_num = 100\n",
    "\n",
    "x, x_history = gradient_descent(function_2, init_x, lr, step_num)\n",
    "print(x)"
   ]
  },
  {
   "cell_type": "markdown",
   "id": "0bbcdcd8",
   "metadata": {},
   "source": [
    "## 학습률이 너무 크면?"
   ]
  },
  {
   "cell_type": "code",
   "execution_count": 39,
   "id": "5d6a5ce6",
   "metadata": {},
   "outputs": [
    {
     "name": "stdout",
     "output_type": "stream",
     "text": [
      "최종 수렴값: [ 9.97599663e+11 -1.19059582e+12]\n",
      "x_history:\n",
      " [[-3.00000000e+00  4.00000000e+00]\n",
      " [ 7.42829969e+06 -9.90439349e+06]\n",
      " [ 9.97599663e+11 -1.19059582e+12]\n",
      " [ 9.97599663e+11 -1.19059582e+12]\n",
      " [ 9.97599663e+11 -1.19059582e+12]\n",
      " [ 9.97599663e+11 -1.19059582e+12]\n",
      " [ 9.97599663e+11 -1.19059582e+12]\n",
      " [ 9.97599663e+11 -1.19059582e+12]\n",
      " [ 9.97599663e+11 -1.19059582e+12]\n",
      " [ 9.97599663e+11 -1.19059582e+12]\n",
      " [ 9.97599663e+11 -1.19059582e+12]\n",
      " [ 9.97599663e+11 -1.19059582e+12]\n",
      " [ 9.97599663e+11 -1.19059582e+12]\n",
      " [ 9.97599663e+11 -1.19059582e+12]\n",
      " [ 9.97599663e+11 -1.19059582e+12]\n",
      " [ 9.97599663e+11 -1.19059582e+12]\n",
      " [ 9.97599663e+11 -1.19059582e+12]\n",
      " [ 9.97599663e+11 -1.19059582e+12]\n",
      " [ 9.97599663e+11 -1.19059582e+12]\n",
      " [ 9.97599663e+11 -1.19059582e+12]]\n"
     ]
    }
   ],
   "source": [
    "init_x = np.array([-3., 4.])\n",
    "lr = 10.0\n",
    "step_num = 100\n",
    "\n",
    "x, x_history = gradient_descent(function_2, init_x, lr, step_num)\n",
    "print('최종 수렴값:', x)\n",
    "print('x_history:\\n', x_history[::5])"
   ]
  },
  {
   "cell_type": "markdown",
   "id": "967cb1e1",
   "metadata": {},
   "source": [
    "## 학습률이 너무 작으면?"
   ]
  },
  {
   "cell_type": "code",
   "execution_count": 41,
   "id": "a61330c3",
   "metadata": {},
   "outputs": [
    {
     "name": "stdout",
     "output_type": "stream",
     "text": [
      "최종 수렴값: [-2.99999994  3.99999992]\n",
      "x_history:\n",
      " [[-3.          4.        ]\n",
      " [-3.          4.        ]\n",
      " [-2.99999999  3.99999999]\n",
      " [-2.99999999  3.99999999]\n",
      " [-2.99999999  3.99999998]\n",
      " [-2.99999998  3.99999998]\n",
      " [-2.99999998  3.99999998]\n",
      " [-2.99999998  3.99999997]\n",
      " [-2.99999998  3.99999997]\n",
      " [-2.99999997  3.99999996]\n",
      " [-2.99999997  3.99999996]\n",
      " [-2.99999997  3.99999996]\n",
      " [-2.99999996  3.99999995]\n",
      " [-2.99999996  3.99999995]\n",
      " [-2.99999996  3.99999994]\n",
      " [-2.99999995  3.99999994]\n",
      " [-2.99999995  3.99999994]\n",
      " [-2.99999995  3.99999993]\n",
      " [-2.99999995  3.99999993]\n",
      " [-2.99999994  3.99999992]]\n"
     ]
    }
   ],
   "source": [
    "init_x = np.array([-3., 4.])\n",
    "lr = 0.0000000001\n",
    "step_num = 100\n",
    "\n",
    "x, x_history = gradient_descent(function_2, init_x, lr, step_num)\n",
    "print('최종 수렴값:', x)\n",
    "print('x_history:\\n', x_history[::5])"
   ]
  },
  {
   "cell_type": "markdown",
   "id": "c7558baf",
   "metadata": {},
   "source": [
    "## 다차원 배열의 입력과 조회 가능하게 하는 클래스 np.nditer"
   ]
  },
  {
   "cell_type": "code",
   "execution_count": 44,
   "id": "c6a60ae2",
   "metadata": {},
   "outputs": [
    {
     "name": "stdout",
     "output_type": "stream",
     "text": [
      "(0, 0)\n",
      "1\n",
      "(0, 1)\n",
      "2\n",
      "(0, 2)\n",
      "3\n",
      "(1, 0)\n",
      "4\n",
      "(1, 1)\n",
      "5\n",
      "(1, 2)\n",
      "6\n"
     ]
    }
   ],
   "source": [
    "import numpy as np\n",
    "x = np.array([[1,2,3], [4,5,6]])\n",
    "it = np.nditer(x, flags=['multi_index'], op_flags=['readwrite'])\n",
    "\n",
    "while not it.finished:\n",
    "    print(it.multi_index)\n",
    "    print(x[it.multi_index])\n",
    "    it.iternext()"
   ]
  },
  {
   "cell_type": "markdown",
   "id": "fe6dcff4",
   "metadata": {},
   "source": [
    "## 신경망에서의 기울기"
   ]
  },
  {
   "cell_type": "code",
   "execution_count": 74,
   "id": "8d49c919",
   "metadata": {},
   "outputs": [],
   "source": [
    "import numpy as np\n",
    "\n",
    "def softmax(a):\n",
    "    exp_a = np.exp(a)\n",
    "    sum_exp_a = np.sum(exp_a)\n",
    "    y = exp_a / sum_exp_a\n",
    "    return y\n",
    "\n",
    "def cross_entropy_error(y, t):\n",
    "    delta = 0.0000007\n",
    "    return -np.sum(t*np.log(y + delta))\n",
    "\n",
    "def numerical_gradient(f, x):\n",
    "    h = 0.0001\n",
    "    grad = np.zeros_like(x)\n",
    "    \n",
    "    it = np.nditer(x, flags=['multi_index'], op_flags=['readwrite'])\n",
    "    while not it.finished:\n",
    "#         가중치 행렬 각 원소의 인덱스를 하나씩 튜플로 던져줌\n",
    "        index =it.multi_index\n",
    "        \n",
    "        tmp_val = x[index]\n",
    "        x[index] = float(tmp_val) + h\n",
    "        fxh1 = f(x)\n",
    "        \n",
    "        x[index] = tmp_val\n",
    "        fxh2 = f(x)\n",
    "        \n",
    "        grad[index] = (fxh1 - fxh2) / h\n",
    "        it.iternext()\n",
    "        \n",
    "    return np.round(grad, 3)\n",
    "        "
   ]
  },
  {
   "cell_type": "code",
   "execution_count": 75,
   "id": "8dd279ad",
   "metadata": {},
   "outputs": [],
   "source": [
    "class simpleNet():\n",
    "    def __init__(self):\n",
    "        self.W = np.random.randn(2,3)\n",
    "        \n",
    "    def predict(self, x):\n",
    "        return np.dot(x, self.W)\n",
    "    \n",
    "    def loss(self, x, t):\n",
    "        z = self.predict(x)\n",
    "        y = softmax(z)\n",
    "        loss = cross_entropy_error(y, t)\n",
    "        return loss"
   ]
  },
  {
   "cell_type": "code",
   "execution_count": 76,
   "id": "76a7c83f",
   "metadata": {},
   "outputs": [
    {
     "name": "stdout",
     "output_type": "stream",
     "text": [
      "[[-1.17707426  0.85275307 -1.29239237]\n",
      " [-0.57257968 -0.54112601  0.09163631]]\n"
     ]
    }
   ],
   "source": [
    "net = simpleNet()\n",
    "print(net.W)"
   ]
  },
  {
   "cell_type": "code",
   "execution_count": 77,
   "id": "d9dbe8c4",
   "metadata": {},
   "outputs": [
    {
     "name": "stdout",
     "output_type": "stream",
     "text": [
      "[-1.22156627  0.02463843 -0.69296274]\n"
     ]
    }
   ],
   "source": [
    "x = np.array([0.6, 0.9])\n",
    "p = net.predict(x)\n",
    "print(p)"
   ]
  },
  {
   "cell_type": "code",
   "execution_count": 78,
   "id": "700d65eb",
   "metadata": {},
   "outputs": [
    {
     "data": {
      "text/plain": [
       "1"
      ]
     },
     "execution_count": 78,
     "metadata": {},
     "output_type": "execute_result"
    }
   ],
   "source": [
    "np.argmax(p)"
   ]
  },
  {
   "cell_type": "code",
   "execution_count": 79,
   "id": "1df71236",
   "metadata": {},
   "outputs": [
    {
     "data": {
      "text/plain": [
       "1.2916894443633793"
      ]
     },
     "execution_count": 79,
     "metadata": {},
     "output_type": "execute_result"
    }
   ],
   "source": [
    "t = np.array([0, 0, 1])\n",
    "net.loss(x, t)"
   ]
  },
  {
   "cell_type": "code",
   "execution_count": 80,
   "id": "725bb628",
   "metadata": {},
   "outputs": [
    {
     "data": {
      "text/plain": [
       "0.57408957481931"
      ]
     },
     "execution_count": 80,
     "metadata": {},
     "output_type": "execute_result"
    }
   ],
   "source": [
    "t = np.array([0, 1, 0])\n",
    "net.loss(x, t)"
   ]
  },
  {
   "cell_type": "code",
   "execution_count": 81,
   "id": "ac0b136b",
   "metadata": {},
   "outputs": [
    {
     "data": {
      "text/plain": [
       "1.8202911981927914"
      ]
     },
     "execution_count": 81,
     "metadata": {},
     "output_type": "execute_result"
    }
   ],
   "source": [
    "t = np.array([1, 0, 0])\n",
    "net.loss(x, t)"
   ]
  },
  {
   "cell_type": "code",
   "execution_count": 86,
   "id": "2f9c7e58",
   "metadata": {},
   "outputs": [
    {
     "name": "stdout",
     "output_type": "stream",
     "text": [
      "[[-0.503  0.338  0.165]\n",
      " [-0.754  0.507  0.247]]\n"
     ]
    }
   ],
   "source": [
    "def f(zzvvvvz):\n",
    "    return net.loss(x, t)\n",
    "\n",
    "dW = numerical_gradient(f, net.W)\n",
    "print(dW)"
   ]
  },
  {
   "cell_type": "code",
   "execution_count": null,
   "id": "cd30df26",
   "metadata": {},
   "outputs": [],
   "source": []
  }
 ],
 "metadata": {
  "kernelspec": {
   "display_name": "nlp3710",
   "language": "python",
   "name": "nlp3710"
  },
  "language_info": {
   "codemirror_mode": {
    "name": "ipython",
    "version": 3
   },
   "file_extension": ".py",
   "mimetype": "text/x-python",
   "name": "python",
   "nbconvert_exporter": "python",
   "pygments_lexer": "ipython3",
   "version": "3.7.10"
  },
  "toc": {
   "base_numbering": 1,
   "nav_menu": {},
   "number_sections": true,
   "sideBar": true,
   "skip_h1_title": false,
   "title_cell": "Table of Contents",
   "title_sidebar": "Contents",
   "toc_cell": false,
   "toc_position": {},
   "toc_section_display": true,
   "toc_window_display": false
  }
 },
 "nbformat": 4,
 "nbformat_minor": 5
}
