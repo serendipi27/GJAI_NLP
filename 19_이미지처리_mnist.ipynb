{
 "cells": [
  {
   "cell_type": "code",
   "execution_count": 1,
   "id": "29f93e67",
   "metadata": {},
   "outputs": [],
   "source": [
    "import os, sys\n",
    "from IPython.display import display\n",
    "from IPython.display import Image as _Imgdis\n",
    "from PIL import Image\n",
    "import numpy as np"
   ]
  },
  {
   "cell_type": "code",
   "execution_count": 8,
   "id": "9ce1d6d9",
   "metadata": {},
   "outputs": [
    {
     "name": "stdout",
     "output_type": "stream",
     "text": [
      "Working with 60000 images\n"
     ]
    }
   ],
   "source": [
    "folder = '/Users/jsha/gjai/nlp/pytest_img/mnist_jpg/'\n",
    "files = [f for f in os.listdir(folder) if os.path.isfile(os.path.join(folder, f))]\n",
    "print('Working with {0} images'.format(len(files)))"
   ]
  },
  {
   "cell_type": "markdown",
   "id": "d137b8ad",
   "metadata": {},
   "source": [
    "- 위 files 리스트 컴프리헨션 해석하기\n",
    "- 폴더 안에 존재하는 모든 존재들을 하나씩 불러내고, 만약 그 존재가 파일이면 리스트 안에 넣어라."
   ]
  },
  {
   "cell_type": "code",
   "execution_count": 9,
   "id": "74470e3a",
   "metadata": {},
   "outputs": [
    {
     "name": "stdout",
     "output_type": "stream",
     "text": [
      "img_1_ (4177).jpg\n"
     ]
    },
    {
     "data": {
      "image/jpeg": "[encoded data removed]",
      "text/plain": [
       "<IPython.core.display.Image object>"
      ]
     },
     "metadata": {
      "image/jpeg": {
       "height": 40,
       "width": 30
      }
     },
     "output_type": "display_data"
    },
    {
     "name": "stdout",
     "output_type": "stream",
     "text": [
      "img_1_ (136).jpg\n"
     ]
    },
    {
     "data": {
      "image/jpeg": "[encoded data removed]",
      "text/plain": [
       "<IPython.core.display.Image object>"
      ]
     },
     "metadata": {
      "image/jpeg": {
       "height": 40,
       "width": 30
      }
     },
     "output_type": "display_data"
    }
   ],
   "source": [
    "for i in range(0, 2):\n",
    "    print(files[i])\n",
    "    display(_Imgdis(filename=os.path.join(folder, files[i]), \n",
    "                                         width=30, height=40))"
   ]
  },
  {
   "cell_type": "code",
   "execution_count": 12,
   "id": "c66c128d",
   "metadata": {},
   "outputs": [
    {
     "name": "stdout",
     "output_type": "stream",
     "text": [
      "Files in folder: 60000\n"
     ]
    }
   ],
   "source": [
    "from tensorflow.keras.preprocessing.image import array_to_img, img_to_array, load_img\n",
    "\n",
    "file_names = []\n",
    "file_labels = []\n",
    "\n",
    "for _file in files:\n",
    "    file_names.append(_file)\n",
    "    label_start = _file.find(\"_\")+1\n",
    "    label_end = _file.find(\"_ (\")\n",
    "    file_labels.append(int(_file[label_start:label_end]))\n",
    "    \n",
    "print(\"Files in folder: %d\" % len(file_names))"
   ]
  },
  {
   "cell_type": "code",
   "execution_count": 14,
   "id": "e0c7fb9b",
   "metadata": {},
   "outputs": [
    {
     "name": "stdout",
     "output_type": "stream",
     "text": [
      "Original: <class 'PIL.Image.Image'>\n",
      "NumPy array info:\n",
      "<class 'numpy.ndarray'>\n",
      "type: float32\n",
      "shape: (28, 28, 3)\n"
     ]
    }
   ],
   "source": [
    "os.chdir(folder)\n",
    "\n",
    "img = load_img(file_names[0])\n",
    "print('Original:', type(img))\n",
    "\n",
    "img_array = img_to_array(img)\n",
    "\n",
    "print(\"NumPy array info:\")\n",
    "print(type(img_array))\n",
    "print(\"type:\", img_array.dtype)\n",
    "print('shape:', img_array.shape)"
   ]
  },
  {
   "cell_type": "code",
   "execution_count": 15,
   "id": "cf36c6c8",
   "metadata": {},
   "outputs": [
    {
     "name": "stdout",
     "output_type": "stream",
     "text": [
      "(60000, 28, 28, 3)\n"
     ]
    }
   ],
   "source": [
    "image_height = img_array.shape[0]\n",
    "image_width = img_array.shape[1]\n",
    "channels = img_array.shape[2]\n",
    "\n",
    "dataset = np.ndarray(shape=(len(file_names), image_height,\n",
    "                           image_width, channels), dtype=np.int32)\n",
    "print(dataset.shape)"
   ]
  },
  {
   "cell_type": "code",
   "execution_count": 16,
   "id": "f48f0182",
   "metadata": {
    "collapsed": true
   },
   "outputs": [
    {
     "name": "stdout",
     "output_type": "stream",
     "text": [
      "[[[0 0 0]\n",
      "  [0 0 0]\n",
      "  [0 0 0]\n",
      "  ...\n",
      "  [0 0 0]\n",
      "  [0 0 0]\n",
      "  [0 0 0]]\n",
      "\n",
      " [[0 0 0]\n",
      "  [0 0 0]\n",
      "  [0 0 0]\n",
      "  ...\n",
      "  [0 0 0]\n",
      "  [0 0 0]\n",
      "  [0 0 0]]\n",
      "\n",
      " [[0 0 0]\n",
      "  [0 0 0]\n",
      "  [0 0 0]\n",
      "  ...\n",
      "  [0 0 0]\n",
      "  [0 0 0]\n",
      "  [0 0 0]]\n",
      "\n",
      " ...\n",
      "\n",
      " [[0 0 0]\n",
      "  [0 0 0]\n",
      "  [0 0 0]\n",
      "  ...\n",
      "  [0 0 0]\n",
      "  [0 0 0]\n",
      "  [0 0 0]]\n",
      "\n",
      " [[0 0 0]\n",
      "  [0 0 0]\n",
      "  [0 0 0]\n",
      "  ...\n",
      "  [0 0 0]\n",
      "  [0 0 0]\n",
      "  [0 0 0]]\n",
      "\n",
      " [[0 0 0]\n",
      "  [0 0 0]\n",
      "  [0 0 0]\n",
      "  ...\n",
      "  [0 0 0]\n",
      "  [0 0 0]\n",
      "  [0 0 0]]]\n"
     ]
    }
   ],
   "source": [
    "print(dataset[0])"
   ]
  },
  {
   "cell_type": "code",
   "execution_count": 17,
   "id": "61156b4c",
   "metadata": {},
   "outputs": [
    {
     "name": "stdout",
     "output_type": "stream",
     "text": [
      "0 images to array\n",
      "5000 images to array\n",
      "10000 images to array\n",
      "15000 images to array\n",
      "20000 images to array\n",
      "25000 images to array\n",
      "30000 images to array\n",
      "35000 images to array\n",
      "40000 images to array\n",
      "45000 images to array\n",
      "50000 images to array\n",
      "55000 images to array\n",
      "All images to array!\n"
     ]
    }
   ],
   "source": [
    "for count, item in enumerate(file_names):\n",
    "    img = load_img(item)\n",
    "    img_array = img_to_array(img)\n",
    "#     img_array = img_array.reshape((28, 28, 3))\n",
    "    dataset[count] = img_array\n",
    "    \n",
    "    if count % 5000 == 0:\n",
    "        print(\"%d images to array\" % count)\n",
    "        \n",
    "print('All images to array!')"
   ]
  },
  {
   "cell_type": "code",
   "execution_count": 19,
   "id": "5c910545",
   "metadata": {},
   "outputs": [
    {
     "name": "stdout",
     "output_type": "stream",
     "text": [
      "(60000, 28, 28, 3)\n",
      "4\n"
     ]
    }
   ],
   "source": [
    "print(dataset.shape)\n",
    "print(file_labels[40000])"
   ]
  },
  {
   "cell_type": "code",
   "execution_count": 25,
   "id": "77efae0a",
   "metadata": {},
   "outputs": [
    {
     "data": {
      "image/jpeg": "[encoded data removed]",
      "text/plain": [
       "<IPython.core.display.Image object>"
      ]
     },
     "metadata": {
      "image/jpeg": {
       "height": 40,
       "width": 30
      }
     },
     "output_type": "display_data"
    }
   ],
   "source": [
    "display(_Imgdis(filename=os.path.join(folder, files[40000]), width=30, height=40))"
   ]
  },
  {
   "cell_type": "code",
   "execution_count": 26,
   "id": "2884e625",
   "metadata": {},
   "outputs": [
    {
     "name": "stdout",
     "output_type": "stream",
     "text": [
      "[[  0   0   0   0   0   0   0   0   1   0   1   6   5   3   5   0   3   0   5   0   0   0  14   0   0   0   0   0]\n",
      " [  0   0   0   0   0   0   0   0   0  17   2   0   0   0   0   4   0  13   0   0   0   3   0  11   0   0   0   0]\n",
      " [  0   0   0   0   0   0   0   0   0   7   0   8   2  15   0   0  14   0   0  16   9   0   0   1   0   0   0   0]\n",
      " [  0   0   0   0   0   0   0   0  12   0   0   7   0   0   9   3   0   0  13   0   0   8  16   0   0   0   0   0]\n",
      " [  0   0   0   0   0   0   0   0   0   0  11   3   0   0   2   5  20   0   0   2   0   2   0   0   0   0   0   0]\n",
      " [  0   0   0   0   0   0   0   0   0  17   0   0  12  14   0   1   0   0  16   6   0 212 194  15   0   0   0   0]\n",
      " [  0   0   0   0   0   0   0   0   0   8   0  17   0   7   0   8   5   0   0   6  89 255 194   0   0   0   0   0]\n",
      " [  0   0   0   0   0   0   0   0   3   0  77 188  27   6   0   0   0  11   3   0 233 234  81   4   0   0   0   0]\n",
      " [  0   4   0   1   0   0   6   0   7  76 237 253  32   0   9   0   0   0  14 117 248 188   0   0   0   0   0   0]\n",
      " [  0   2   3   2   0   0   4   2   0 138 255 240  32   0   0  13  11  13  62 255 247  31  17   0   0   0   0   0]\n",
      " [  1   0   1   4   0   1   4   0  32 219 242  85   0   9   0   6   0  65 233 239  86   6   0   0   0   0   0   0]\n",
      " [ 11   0   0   4   4   5   0   0 192 255 195   2  17   0   0   0  84 175 255 236  13   0   0  12   0   0   0   0]\n",
      " [ 13   0   2   0   0   0   1  50 232 255 191  29 116 179 246 233 240 240 249 233  19   0  11   0   0   0   0   0]\n",
      " [  0   0   9   0   0   0  39 170 255 250 225 230 255 249 250 244 255 255 255  94   0  21   0   0   0   0   0   0]\n",
      " [  0   0   8   0   5   0  63 252 240 251 245 255 244 255 255 248 245 255 148  10   0   0   0  21   0   0   0   0]\n",
      " [  3   4   1   0  10   0  49 254 255 254 253 246 187 161 227 255 255 191  23   1   4   0   9   0   0   0   0   0]\n",
      " [  2   0   1   7   0   0  50 124 134 144  55  27  14   8 212 249 255  61   0   5   0   1   0   6   0   0   0   0]\n",
      " [  1   0   1   7   3   0   5  20  12   0   5  11   0 142 255 245 152  20   0   5   0   5   0   0   0   0   0   0]\n",
      " [  3   3   0   0   1   6   0   0   0   2   0   9  14 255 255 235  39   0   1   3   0   7   0   0   0   0   0   0]\n",
      " [  0   3   1   0   0   6   9   3   0   2  15   7 138 245 255  71   0   0   9   0   0   3   0   2   0   0   0   0]\n",
      " [  0   0   5   6   1   0   0   5   0  25   0  26 241 251 231  34   2   1   5   0   0   0   0   5   0   0   0   0]\n",
      " [  6   0   0   3   4   0   0   1   0   0  24 243 253 255 168   0   3   0   0   0   1   0   0   1   0   0   0   0]\n",
      " [ 12   0   0   0   1   2   3   4   0   0  69 250 243 158  40   0   0   0   0   2   0   0   5   0   0   0   0   0]\n",
      " [  0   0   3   2   2   2   0   0   8   0  55 251 247 126   0   2   3   1   4   5   0   0  11   0   0   0   0   0]\n",
      " [  0   0   0   0   0   0   0   0   0  11  51 231 213  15   0   3   0   0   0   0   0   0   0   0   0   0   0   0]\n",
      " [  0   0   0   0   0   0   0   0   0  13   1  14   5   0   9   0   0   0   0   0   0   0   0   0   0   0   0   0]\n",
      " [  0   0   0   0   0   0   0   0   7   0   0   1   1   0   0  14   0   0   0   0   0   0   0   0   0   0   0   0]\n",
      " [  0   0   0   0   0   0   0   0   0   0   5   0   0   6   0   0   0   0   0   0   0   0   0   0   0   0   0   0]]\n"
     ]
    }
   ],
   "source": [
    "np.set_printoptions(linewidth=np.inf)\n",
    "print(dataset[40000, :, :, 0])"
   ]
  },
  {
   "cell_type": "code",
   "execution_count": 28,
   "id": "31716379",
   "metadata": {},
   "outputs": [
    {
     "name": "stdout",
     "output_type": "stream",
     "text": [
      "Train set size 48000, Test set size: 12000\n"
     ]
    }
   ],
   "source": [
    "from sklearn.model_selection import train_test_split\n",
    "\n",
    "train_images, test_images, train_labels, test_labels = \\\n",
    "train_test_split(dataset, file_labels, test_size=0.2)\n",
    "\n",
    "print(\"Train set size {0}, Test set size: {1}\".format(len(train_images), len(test_images)))\n"
   ]
  },
  {
   "cell_type": "code",
   "execution_count": 30,
   "id": "d676a08c",
   "metadata": {},
   "outputs": [
    {
     "name": "stdout",
     "output_type": "stream",
     "text": [
      "Model: \"sequential_2\"\n",
      "_________________________________________________________________\n",
      "Layer (type)                 Output Shape              Param #   \n",
      "=================================================================\n",
      "conv2d_3 (Conv2D)            (None, 26, 26, 32)        896       \n",
      "_________________________________________________________________\n",
      "conv2d_4 (Conv2D)            (None, 24, 24, 64)        18496     \n",
      "_________________________________________________________________\n",
      "max_pooling2d_1 (MaxPooling2 (None, 12, 12, 64)        0         \n",
      "_________________________________________________________________\n",
      "dropout_1 (Dropout)          (None, 12, 12, 64)        0         \n",
      "_________________________________________________________________\n",
      "flatten_1 (Flatten)          (None, 9216)              0         \n",
      "_________________________________________________________________\n",
      "dense_1 (Dense)              (None, 128)               1179776   \n",
      "_________________________________________________________________\n",
      "dropout_2 (Dropout)          (None, 128)               0         \n",
      "_________________________________________________________________\n",
      "dense_2 (Dense)              (None, 10)                1290      \n",
      "=================================================================\n",
      "Total params: 1,200,458\n",
      "Trainable params: 1,200,458\n",
      "Non-trainable params: 0\n",
      "_________________________________________________________________\n"
     ]
    }
   ],
   "source": [
    "from keras import models\n",
    "from keras import layers\n",
    "import numpy as np\n",
    "\n",
    "model = models.Sequential()\n",
    "\n",
    "model.add(layers.Conv2D(32, kernel_size=(3, 3), input_shape=(28, 28, 3),\n",
    "                       activation='relu'))\n",
    "model.add(layers.Conv2D(64, kernel_size=(3, 3), activation='relu'))\n",
    "model.add(layers.MaxPooling2D(pool_size=2))\n",
    "model.add(layers.Dropout(0.25))\n",
    "model.add(layers.Flatten())\n",
    "model.add(layers.Dense(128, activation='relu'))\n",
    "model.add(layers.Dropout(0.25))\n",
    "model.add(layers.Dense(10, activation='softmax'))\n",
    "\n",
    "model.summary()"
   ]
  },
  {
   "cell_type": "code",
   "execution_count": 31,
   "id": "0dd44418",
   "metadata": {},
   "outputs": [],
   "source": [
    "model.compile(loss='categorical_crossentropy', optimizer='rmsprop',\n",
    "             metrics=['acc'])"
   ]
  },
  {
   "cell_type": "code",
   "execution_count": 32,
   "id": "cdad1a05",
   "metadata": {},
   "outputs": [
    {
     "data": {
      "text/plain": [
       "(48000, 28, 28, 3)"
      ]
     },
     "execution_count": 32,
     "metadata": {},
     "output_type": "execute_result"
    }
   ],
   "source": [
    "train_images.shape"
   ]
  },
  {
   "cell_type": "code",
   "execution_count": 33,
   "id": "e45459dc",
   "metadata": {},
   "outputs": [],
   "source": [
    "# train_images = train_images.reshape((len(train_images), 28, 28, 3))\n",
    "train_images = train_images.astype('float32') / 255\n",
    "\n",
    "# test_images = test_images.reshape((len(test_images), 28, 28, 3))\n",
    "teset_images = test_images.astype('float32') / 255"
   ]
  },
  {
   "cell_type": "code",
   "execution_count": 34,
   "id": "527b92f5",
   "metadata": {},
   "outputs": [],
   "source": [
    "from tensorflow.keras.utils import to_categorical\n",
    "\n",
    "train_labels = to_categorical(train_labels)\n",
    "test_labels = to_categorical(test_labels)"
   ]
  },
  {
   "cell_type": "code",
   "execution_count": 35,
   "id": "c8310fa9",
   "metadata": {},
   "outputs": [
    {
     "name": "stdout",
     "output_type": "stream",
     "text": [
      "Train on 48000 samples, validate on 12000 samples\n",
      "Epoch 1/5\n",
      "48000/48000 [==============================] - 80s 2ms/step - loss: 0.1938 - acc: 0.9406 - val_loss: 9.0129 - val_acc: 0.9822\n",
      "Epoch 2/5\n",
      "48000/48000 [==============================] - 77s 2ms/step - loss: 0.0604 - acc: 0.9810 - val_loss: 8.6797 - val_acc: 0.9853\n",
      "Epoch 3/5\n",
      "48000/48000 [==============================] - 77s 2ms/step - loss: 0.0440 - acc: 0.9870 - val_loss: 8.4270 - val_acc: 0.9889\n",
      "Epoch 4/5\n",
      "48000/48000 [==============================] - 76s 2ms/step - loss: 0.0343 - acc: 0.9898 - val_loss: 8.4824 - val_acc: 0.9892\n",
      "Epoch 5/5\n",
      "48000/48000 [==============================] - 76s 2ms/step - loss: 0.0278 - acc: 0.9914 - val_loss: 9.8930 - val_acc: 0.9881\n"
     ]
    }
   ],
   "source": [
    "history = model.fit(train_images, train_labels, epochs=5,\n",
    "                   batch_size=128, validation_size=0.3)"
   ]
  },
  {
   "cell_type": "code",
   "execution_count": 36,
   "id": "e750d6e7",
   "metadata": {},
   "outputs": [
    {
     "name": "stdout",
     "output_type": "stream",
     "text": [
      "12000/12000 [==============================] - 6s 508us/step\n",
      "test_acc: 0.9880833625793457\n",
      "test_loss: 9.893027772733843\n"
     ]
    }
   ],
   "source": [
    "test_loss, test_acc = model.evaluate(test_images, test_labels)\n",
    "print('test_acc:', test_acc)\n",
    "print('test_loss:', test_loss)"
   ]
  },
  {
   "cell_type": "code",
   "execution_count": 40,
   "id": "3394b30c",
   "metadata": {},
   "outputs": [
    {
     "data": {
      "image/png": "[encoded data removed]",
      "text/plain": [
       "<Figure size 432x288 with 1 Axes>"
      ]
     },
     "metadata": {
      "needs_background": "light"
     },
     "output_type": "display_data"
    }
   ],
   "source": [
    "%matplotlib inline\n",
    "import matplotlib.pyplot as plt\n",
    "\n",
    "acc = history.history['acc']\n",
    "val_acc = history.history['val_acc']\n",
    "loss = history.history['loss']\n",
    "val_loss = history.history['val_loss']\n",
    "\n",
    "epochs = range(1, 6)\n",
    "plt.plot(epochs, acc, 'bo', label='Training Acc')\n",
    "plt.plot(epochs, val_acc, 'b', label='Validation Acc')\n",
    "plt.title('Training and validation accuracy')\n",
    "plt.legend()\n",
    "plt.show()"
   ]
  },
  {
   "cell_type": "code",
   "execution_count": 41,
   "id": "dd74b767",
   "metadata": {},
   "outputs": [
    {
     "data": {
      "image/png": "[encoded data removed]",
      "text/plain": [
       "<Figure size 432x288 with 1 Axes>"
      ]
     },
     "metadata": {
      "needs_background": "light"
     },
     "output_type": "display_data"
    }
   ],
   "source": [
    "plt.plot(epochs, loss, 'bo', label='Training Loss')\n",
    "plt.plot(epochs, val_loss, 'b', label='Validation Loss')\n",
    "plt.title('Training and validation loss')\n",
    "plt.legend()\n",
    "plt.show()"
   ]
  },
  {
   "cell_type": "code",
   "execution_count": null,
   "id": "c3c873f2",
   "metadata": {},
   "outputs": [],
   "source": []
  }
 ],
 "metadata": {
  "kernelspec": {
   "display_name": "nlp3710",
   "language": "python",
   "name": "nlp3710"
  },
  "language_info": {
   "codemirror_mode": {
    "name": "ipython",
    "version": 3
   },
   "file_extension": ".py",
   "mimetype": "text/x-python",
   "name": "python",
   "nbconvert_exporter": "python",
   "pygments_lexer": "ipython3",
   "version": "3.7.10"
  },
  "toc": {
   "base_numbering": 1,
   "nav_menu": {},
   "number_sections": true,
   "sideBar": true,
   "skip_h1_title": false,
   "title_cell": "Table of Contents",
   "title_sidebar": "Contents",
   "toc_cell": false,
   "toc_position": {},
   "toc_section_display": true,
   "toc_window_display": false
  }
 },
 "nbformat": 4,
 "nbformat_minor": 5
}
