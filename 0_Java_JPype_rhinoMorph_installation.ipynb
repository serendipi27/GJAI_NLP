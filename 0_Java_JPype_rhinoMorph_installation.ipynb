{
 "cells": [
  {
   "cell_type": "markdown",
   "id": "dbadd826",
   "metadata": {},
   "source": [
    "# 형태소 분석을 위한 Java, JPype, rhinoMorph 설치하기"
   ]
  },
  {
   "cell_type": "code",
   "execution_count": null,
   "id": "a566eecb",
   "metadata": {},
   "outputs": [],
   "source": [
    "# JPype 설치하기\n",
    "!pip install JPype\n",
    "\n",
    "# rhinoMorph\n",
    "!pip install rhinoMorph"
   ]
  }
 ],
 "metadata": {
  "kernelspec": {
   "display_name": "nlp3710",
   "language": "python",
   "name": "nlp3710"
  },
  "language_info": {
   "codemirror_mode": {
    "name": "ipython",
    "version": 3
   },
   "file_extension": ".py",
   "mimetype": "text/x-python",
   "name": "python",
   "nbconvert_exporter": "python",
   "pygments_lexer": "ipython3",
   "version": "3.7.10"
  },
  "toc": {
   "base_numbering": 1,
   "nav_menu": {},
   "number_sections": true,
   "sideBar": true,
   "skip_h1_title": false,
   "title_cell": "Table of Contents",
   "title_sidebar": "Contents",
   "toc_cell": false,
   "toc_position": {},
   "toc_section_display": true,
   "toc_window_display": false
  }
 },
 "nbformat": 4,
 "nbformat_minor": 5
}
