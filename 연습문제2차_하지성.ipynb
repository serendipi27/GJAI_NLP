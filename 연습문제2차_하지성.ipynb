{
 "cells": [
  {
   "cell_type": "markdown",
   "id": "4bd64432",
   "metadata": {},
   "source": [
    "# 연습문제 2차"
   ]
  },
  {
   "cell_type": "markdown",
   "id": "c613af86",
   "metadata": {},
   "source": [
    "## 연습문제1. 다음 기호 $w^{(1)}_{12}$의 의미를 설명하시오.\n",
    "- 은닉 1층 1번 노드에 대한 입력층 2번 노드의 가중치를 의미함."
   ]
  },
  {
   "cell_type": "markdown",
   "id": "4106eb89",
   "metadata": {},
   "source": [
    "## 연습문제2. 왼쪽의 식을 오른쪽 그림과 관련하여 설명하시오. 특히, XW를 계산해 보시오\n",
    "\n",
    "- $A^{(1)} = XW^{(1)} + B^{(1)}$\n",
    "\n",
    "- 은닉 1층 1번 노드에 대하여 입력층 X 노드들 각각의 가중치들을 내적하고, 그 결과에 편향 $b^{(1)}_1$를 더한다.\n",
    "- 은닉 1층에 대한 입력층 X와 가중치 W의 내적 XW는 $x_1$과 은닉 1층 1번 노드 $a_1^{(1)}$에 대한 가중치 $w^{(1)}_{11}$의 곱의 결과와 $x_2$와 은닉 1층 1번 노드 $a_1^{(1)}$에 대한 가중치 $w^{(1)}_{12}$의 곱의 결과를 더하는 연산이다. "
   ]
  },
  {
   "cell_type": "markdown",
   "id": "4c0114e3",
   "metadata": {},
   "source": [
    "## 연습문제3. 다음 그림의 진하게 표시된 부분을 설명하시오\n",
    "\n",
    "- 은닉 1층 1번 노드 $a_1^{(1)}$에 대한 XW+B 계산이 끝나면 활성화 함수 h()에 대입하여 $Z^{(1)}_1$를 얻는다.\n",
    "- 활성화 함수는 각 노드에 대한 선형방정식 결과에서 영향력 있는 가중치는 출력하고 영향력이 적은 가중치를 필터링하는 역할을 수행한다.\n",
    "- 현재는 활성화 함수로 ReLU를 많이 사용한다."
   ]
  },
  {
   "cell_type": "markdown",
   "id": "0eb473fb",
   "metadata": {},
   "source": [
    "## 연습문제4. 활성화 함수는 기본적으로 은닉층에서는 relu, 출력층에서는 sigmoid/softmax 함수를 사용한다. 은닉층에서 활성화함수를 다른 것으로 바꿀 수는 있지만, 분류 상황의 출력층에서 relu 함수를 사용할 수는 없다. 그 이유를 설명하시오.\n",
    "\n",
    "- relu는 0이하의 값에서는 0, 0이상의 값에서는 identity value를 출력하는데, 결과값의 수가 매우 커질 수 있다. \n",
    "- 딥러닝의 다중 분류 문제에서 출력층 노드 각각은 타겟의 레이블에 해당한다. 분류 문제를 해결할 때, 출력층 하나의 노드에에 대한 수치를 보고 판단하는 것 보다는, 출력층 전체 노드에 대한 특정 노드들의 확률을 구하고 가장 높은 확률을 갖는 노드를 선택하는 게 타당하다.  \n",
    "- 이에 비해 relu는 0 이상에서는 identity value를 내어놓기 때문에 각 노드에 대한 확률을 판단하기가 어렵다."
   ]
  },
  {
   "cell_type": "markdown",
   "id": "0900ec9b",
   "metadata": {},
   "source": [
    "## 연습문제5. 다음은 소프트맥스 함수의 수식이다. 이 수식에 대하여 설명하시오.\n",
    "\n",
    "- 선형방정식 XW + B 연산을 끝낸 A값들에 대해 소프트맥스 함수를 적용한다.\n",
    "- A의 각각의 요소에 exponential을 취한 값을 합한 전체에 대해 각 요소의 exponential의 비율을 구함으로서, 각 노드마다 갖는 확률을 구하고 가장 높은 확률의 노드를 선택한다."
   ]
  },
  {
   "cell_type": "code",
   "execution_count": null,
   "id": "d41248f2",
   "metadata": {},
   "outputs": [],
   "source": []
  }
 ],
 "metadata": {
  "kernelspec": {
   "display_name": "nlp3710",
   "language": "python",
   "name": "nlp3710"
  },
  "language_info": {
   "codemirror_mode": {
    "name": "ipython",
    "version": 3
   },
   "file_extension": ".py",
   "mimetype": "text/x-python",
   "name": "python",
   "nbconvert_exporter": "python",
   "pygments_lexer": "ipython3",
   "version": "3.7.10"
  },
  "toc": {
   "base_numbering": 1,
   "nav_menu": {},
   "number_sections": true,
   "sideBar": true,
   "skip_h1_title": false,
   "title_cell": "Table of Contents",
   "title_sidebar": "Contents",
   "toc_cell": false,
   "toc_position": {},
   "toc_section_display": true,
   "toc_window_display": false
  }
 },
 "nbformat": 4,
 "nbformat_minor": 5
}
