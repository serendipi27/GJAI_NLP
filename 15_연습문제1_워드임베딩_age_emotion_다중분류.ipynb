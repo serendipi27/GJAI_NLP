{
 "cells": [
  {
   "cell_type": "markdown",
   "id": "76b67f8b",
   "metadata": {},
   "source": [
    "# 연습문제\n",
    "- 다중분류에서 진행한 연령과 감정_대분류 모델에 워드 임베딩 Layer를 추가해보시오.\n",
    "- 단, 감정_대분류의 경우 ‘당황‘, ‘불안’, ‘상처‘ 감정을 가진 대화는 제거하고 3분류 모델로 진행 하시오."
   ]
  },
  {
   "cell_type": "code",
   "execution_count": 1,
   "id": "d2adc0bb",
   "metadata": {},
   "outputs": [],
   "source": [
    "import pandas as pd\n",
    "\n",
    "def read_data(filename, encoding='cp949', start=1):\n",
    "    with open(filename, 'r', encoding=encoding) as f:\n",
    "        data = [line.split('\\t') for line in f.read().splitlines()]\n",
    "        data = daㅁta[start:]\n",
    "    return data\n",
    "\n",
    "def write_data(data, filename, encoding='cp949'):\n",
    "    with open(filename, 'w', encoding=encoding) as f:\n",
    "        f.write(data)\n",
    "\n",
    "path = '/Users/jsha/gjai/nlp/pytest/'\n",
    "file = '감성대화말뭉치(최종데이터)_Training.xlsx'\n",
    "\n",
    "df = pd.read_excel(path+file)"
   ]
  },
  {
   "cell_type": "code",
   "execution_count": 2,
   "id": "e6bd1729",
   "metadata": {},
   "outputs": [
    {
     "name": "stdout",
     "output_type": "stream",
     "text": [
      "<class 'pandas.core.frame.DataFrame'>\n",
      "RangeIndex: 40879 entries, 0 to 40878\n",
      "Data columns (total 15 columns):\n",
      " #   Column  Non-Null Count  Dtype \n",
      "---  ------  --------------  ----- \n",
      " 0   번호      40879 non-null  int64 \n",
      " 1   연령      40879 non-null  object\n",
      " 2   성별      40879 non-null  object\n",
      " 3   상황키워드   40879 non-null  object\n",
      " 4   신체질환    40879 non-null  object\n",
      " 5   감정_대분류  40879 non-null  object\n",
      " 6   감정_소분류  40879 non-null  object\n",
      " 7   사람문장1   40879 non-null  object\n",
      " 8   시스템응답1  40879 non-null  object\n",
      " 9   사람문장2   40879 non-null  object\n",
      " 10  시스템응답2  40879 non-null  object\n",
      " 11  사람문장3   31059 non-null  object\n",
      " 12  시스템응답3  31059 non-null  object\n",
      " 13  사람문장4   1472 non-null   object\n",
      " 14  시스템응답4  1362 non-null   object\n",
      "dtypes: int64(1), object(14)\n",
      "memory usage: 4.7+ MB\n"
     ]
    }
   ],
   "source": [
    "df.info()"
   ]
  },
  {
   "cell_type": "code",
   "execution_count": 3,
   "id": "312470c0",
   "metadata": {},
   "outputs": [
    {
     "name": "stdout",
     "output_type": "stream",
     "text": [
      "<class 'pandas.core.frame.DataFrame'>\n",
      "RangeIndex: 40879 entries, 0 to 40878\n",
      "Data columns (total 6 columns):\n",
      " #   Column  Non-Null Count  Dtype \n",
      "---  ------  --------------  ----- \n",
      " 0   연령      40879 non-null  object\n",
      " 1   감정_대분류  40879 non-null  object\n",
      " 2   사람문장1   40879 non-null  object\n",
      " 3   사람문장2   40879 non-null  object\n",
      " 4   사람문장3   31059 non-null  object\n",
      " 5   사람문장4   1472 non-null   object\n",
      "dtypes: object(6)\n",
      "memory usage: 1.9+ MB\n"
     ]
    }
   ],
   "source": [
    "df = df[['연령', '감정_대분류', '사람문장1', '사람문장2', '사람문장3', '사람문장4']]\n",
    "df.info()"
   ]
  },
  {
   "cell_type": "code",
   "execution_count": 4,
   "id": "6df48fe4",
   "metadata": {
    "scrolled": true
   },
   "outputs": [
    {
     "data": {
      "text/plain": [
       "연령        0\n",
       "감정_대분류    0\n",
       "사람문장1     0\n",
       "사람문장2     0\n",
       "사람문장3     0\n",
       "사람문장4     0\n",
       "dtype: int64"
      ]
     },
     "execution_count": 4,
     "metadata": {},
     "output_type": "execute_result"
    }
   ],
   "source": [
    "new_df = df.fillna('')\n",
    "new_df.isnull().sum()"
   ]
  },
  {
   "cell_type": "code",
   "execution_count": 5,
   "id": "d5e84c13",
   "metadata": {},
   "outputs": [
    {
     "data": {
      "text/plain": [
       "불안     7328\n",
       "분노     6920\n",
       "슬픔     6915\n",
       "기쁨     6730\n",
       "상처     6624\n",
       "당황     6360\n",
       "기쁨        1\n",
       "불안        1\n",
       "Name: 감정_대분류, dtype: int64"
      ]
     },
     "execution_count": 5,
     "metadata": {},
     "output_type": "execute_result"
    }
   ],
   "source": [
    "new_df['감정_대분류'].value_counts()"
   ]
  },
  {
   "cell_type": "code",
   "execution_count": 6,
   "id": "24f8a422",
   "metadata": {},
   "outputs": [],
   "source": [
    "new_df['감정_대분류'] = new_df['감정_대분류'].map(lambda x: str.strip(x))"
   ]
  },
  {
   "cell_type": "code",
   "execution_count": 7,
   "id": "7054288d",
   "metadata": {},
   "outputs": [
    {
     "data": {
      "text/plain": [
       "Index(['불안', '분노', '슬픔', '기쁨', '상처', '당황'], dtype='object')"
      ]
     },
     "execution_count": 7,
     "metadata": {},
     "output_type": "execute_result"
    }
   ],
   "source": [
    "new_df['감정_대분류'].value_counts().index\n"
   ]
  },
  {
   "cell_type": "code",
   "execution_count": 8,
   "id": "302e18cc",
   "metadata": {},
   "outputs": [
    {
     "data": {
      "text/plain": [
       "분노    6920\n",
       "슬픔    6915\n",
       "기쁨    6731\n",
       "Name: 감정_대분류, dtype: int64"
      ]
     },
     "execution_count": 8,
     "metadata": {},
     "output_type": "execute_result"
    }
   ],
   "source": [
    "new_df = new_df[(new_df['감정_대분류'] == '기쁨') | (new_df['감정_대분류'] == '분노') | (new_df['감정_대분류'] == '슬픔')]\n",
    "new_df['감정_대분류'].value_counts()"
   ]
  },
  {
   "cell_type": "code",
   "execution_count": 9,
   "id": "351c5d57",
   "metadata": {},
   "outputs": [],
   "source": [
    "data = new_df.iloc[:,2:].to_numpy()\n",
    "data = [' '.join(ar).rstrip() for ar in data]"
   ]
  },
  {
   "cell_type": "code",
   "execution_count": 10,
   "id": "bbb4e491",
   "metadata": {},
   "outputs": [
    {
     "name": "stdout",
     "output_type": "stream",
     "text": [
      "20566\n",
      "20566\n"
     ]
    }
   ],
   "source": [
    "print(len(data))\n",
    "print(len(new_df.iloc[:,0]))"
   ]
  },
  {
   "cell_type": "code",
   "execution_count": 11,
   "id": "5616369d",
   "metadata": {},
   "outputs": [
    {
     "name": "stdout",
     "output_type": "stream",
     "text": [
      "filepath:  /Users/jsha/opt/anaconda3/envs/nlp3710/lib/python3.7/site-packages\n",
      "classpath:  /Users/jsha/opt/anaconda3/envs/nlp3710/lib/python3.7/site-packages/rhinoMorph/lib/rhino.jar\n",
      "RHINO started!\n"
     ]
    },
    {
     "name": "stderr",
     "output_type": "stream",
     "text": [
      "100%|██████████| 20566/20566 [00:24<00:00, 824.58it/s] \n"
     ]
    }
   ],
   "source": [
    "from tqdm import tqdm\n",
    "import rhinoMorph\n",
    "rn = rhinoMorph.startRhino()\n",
    "\n",
    "morphed_data = []\n",
    "morphed_text = ''\n",
    "for data_each in tqdm(data):\n",
    "    morphed_data_each = rhinoMorph.onlyMorph_list(rn, \n",
    "                        data_each, pos=['NNG', 'NNP', 'VV',\n",
    "                        'VA', 'XR', 'IC', 'MM', 'MAG', 'MAJ'])\n",
    "#                             xrVv=True, eomi=True)\n",
    "    joined_data_each = ' '.join(morphed_data_each)\n",
    "    if joined_data_each:\n",
    "        morphed_data.append(joined_data_each)\n",
    "        morphed_text += joined_data_each + '\\n'\n"
   ]
  },
  {
   "cell_type": "code",
   "execution_count": 12,
   "id": "e50a4357",
   "metadata": {},
   "outputs": [],
   "source": [
    "path = '/Users/jsha/gjai/nlp/pytest/'\n",
    "with open(path+'감성대화말뭉치(최종데이터)_Training_morphed.txt', 'w') as file:\n",
    "    file.write(morphed_text)"
   ]
  },
  {
   "cell_type": "code",
   "execution_count": 13,
   "id": "7083b30e",
   "metadata": {},
   "outputs": [
    {
     "name": "stdout",
     "output_type": "stream",
     "text": [
      "자료 타입: <class 'list'>\n",
      "전체 문장수: 20565\n",
      "형태소 분석 전 모습: [['재취업 되 받 되 첫 월급 오 가족 외식 하 예정 너무 행복 퇴직 후 다시 돈 못 벌 알 이렇게 월급 가족 맛있 밥 사 있 너무 행복 회사 생활 열심히 하 계속 월급 받'], ['빚 드디어 다 갚 되 이제야 안도감 들 빚 다 갚 당분간 아무 생각 안 하 살'], ['사십 접어들 머리카락 많이 빠지 고민 이러 대머리 되 걱정 아직 병원 진료 받 탈모 방지 샴푸 쓰 있'], ['이제 돈 지긋지긋 나이 넘 돈 나가 많 힘'], ['친구 괴롭 부모 선생 이야기 믿 너무 화도 나 좌절 하 상태 학교 다니 싫 증거 준비 다시 부모 선생 말씀 좋']]\n"
     ]
    }
   ],
   "source": [
    "from matplotlib import rc\n",
    "rc('font', family='AppleGothic')\n",
    "\n",
    "# 데이터 읽기와 쓰기를 위한 사용자 함수\n",
    "def read_data(filename, encoding='cp949', start=1):\n",
    "    with open(filename, 'r', encoding=encoding) as f:\n",
    "        data = [line.split('\\t') for line in f.read().splitlines()]\n",
    "        data = data[start:]\n",
    "    return data\n",
    "\n",
    "def write_data(data, filename, encoding='cp949'):\n",
    "    with open(filename, 'w', encoding=encoding) as f:\n",
    "        f.write(data)\n",
    "\n",
    "dummy = read_data(path+'감성대화말뭉치(최종데이터)_Training_morphed.txt', encoding='utf-8')\n",
    "print('자료 타입:', type(dummy))\n",
    "print('전체 문장수:', len(dummy))\n",
    "print('형태소 분석 전 모습:', dummy[:5])"
   ]
  },
  {
   "cell_type": "code",
   "execution_count": null,
   "id": "ca947fed",
   "metadata": {},
   "outputs": [],
   "source": []
  },
  {
   "cell_type": "markdown",
   "id": "842ac573",
   "metadata": {},
   "source": [
    "# 연령 분류"
   ]
  },
  {
   "cell_type": "code",
   "execution_count": 14,
   "id": "a31761f5",
   "metadata": {},
   "outputs": [
    {
     "name": "stdout",
     "output_type": "stream",
     "text": [
      "20566\n"
     ]
    }
   ],
   "source": [
    "from sklearn.model_selection import train_test_split\n",
    "\n",
    "print(len(morphed_data))\n",
    "data_text = morphed_data\n",
    "data_label = new_df.iloc[:,0].to_list()\n",
    "# data_label = new_df.iloc[:,1].to_list()\n",
    "\n",
    "train_data_text, test_data_text, train_data_label, test_data_label = \\\n",
    "train_test_split(data_text, data_label, stratify=data_label, \n",
    "                 test_size=0.3, random_state=1111)"
   ]
  },
  {
   "cell_type": "code",
   "execution_count": 15,
   "id": "5c3afdd2",
   "metadata": {},
   "outputs": [
    {
     "data": {
      "text/plain": [
       "6170"
      ]
     },
     "execution_count": 15,
     "metadata": {},
     "output_type": "execute_result"
    }
   ],
   "source": [
    "len(test_data_text)"
   ]
  },
  {
   "cell_type": "code",
   "execution_count": 16,
   "id": "3788b358",
   "metadata": {},
   "outputs": [
    {
     "name": "stdout",
     "output_type": "stream",
     "text": [
      "train_data_label_freq: Counter({'청년': 4372, '중년': 3837, '노년': 3561, '청소년': 2626})\n",
      "test_data_label_freq: Counter({'청년': 1874, '중년': 1644, '노년': 1527, '청소년': 1125})\n"
     ]
    }
   ],
   "source": [
    "from collections import Counter\n",
    "train_data_label_freq = Counter(train_data_label)\n",
    "print('train_data_label_freq:', train_data_label_freq)\n",
    "\n",
    "test_data_label_freq = Counter(test_data_label)\n",
    "print('test_data_label_freq:', test_data_label_freq)\n"
   ]
  },
  {
   "cell_type": "code",
   "execution_count": 17,
   "id": "6582fa83",
   "metadata": {},
   "outputs": [],
   "source": [
    "test_data_text = test_data_text[:3000]\n",
    "test_data_label = test_data_label[:3000]"
   ]
  },
  {
   "cell_type": "code",
   "execution_count": 18,
   "id": "1a40003f",
   "metadata": {},
   "outputs": [
    {
     "name": "stdout",
     "output_type": "stream",
     "text": [
      "최소길이: 4\n",
      "최대길이: 74\n",
      "평균길이: 22.1\n",
      "중위수길이: 22.0\n",
      "구간별 최대 길이: [ 4. 17. 22. 27. 31. 40. 74.]\n",
      "최소길이 문장: 친구 눈물 친구 거짓말\n",
      "최대길이 문장: 어제 아들 무슨 잘못 하 야단 좀 치 글쎄 말 엄마 하 줄 있 기가 막히 애 뒷바라지 하 얼마나 고생 하 아들 그림 좀 잘 그리 편 한데 내가 미대 절대 안 되 그림 도구 같 다 버리 근데 부모 되 자식 진로 대하 결정 하 있 애가 공부 시간 없 틈 나 붓 잡 있 화 나 그리하 아들 좀 미안 하 마음 있 한데 그렇 부모 그렇게 말 하 더 나쁘\n"
     ]
    }
   ],
   "source": [
    "import numpy as np\n",
    "\n",
    "text_len = [len(line.split(' ')) for line in train_data_text]\n",
    "print('최소길이:', np.min(text_len))\n",
    "print('최대길이:', np.max(text_len))\n",
    "print('평균길이:', np.round(np.mean(text_len),1))\n",
    "print('중위수길이:', np.median(text_len))\n",
    "print('구간별 최대 길이:', np.percentile(text_len, [0, 25, 50, 75, 90, 99, 100]))\n",
    "print('최소길이 문장:', train_data_text[np.argmin(text_len)])\n",
    "print('최대길이 문장:', train_data_text[np.argmax(text_len)])"
   ]
  },
  {
   "cell_type": "code",
   "execution_count": 19,
   "id": "7f42c405",
   "metadata": {},
   "outputs": [
    {
     "name": "stderr",
     "output_type": "stream",
     "text": [
      "Using TensorFlow backend.\n"
     ]
    }
   ],
   "source": [
    "from keras.preprocessing.text import Tokenizer\n",
    "from keras.preprocessing.sequence import pad_sequences\n",
    "import numpy as np\n",
    "import math \n",
    "\n",
    "max_words = 9000\n",
    "maxlen = 40\n",
    "\n",
    "tokenizer = Tokenizer(num_words=max_words)\n",
    "tokenizer.fit_on_texts(train_data_text)\n",
    "word_index = tokenizer.word_index"
   ]
  },
  {
   "cell_type": "code",
   "execution_count": 20,
   "id": "3b59517f",
   "metadata": {},
   "outputs": [
    {
     "name": "stdout",
     "output_type": "stream",
     "text": [
      "wjscpdptj 9846개의 고유한 토큰을 찾았습니다\n",
      "word_index type: <class 'dict'>\n"
     ]
    }
   ],
   "source": [
    "print('wjscpdptj %s개의 고유한 토큰을 찾았습니다' % len(word_index))\n",
    "print('word_index type:', type(word_index))\n",
    "# print('word_index:', word_index)"
   ]
  },
  {
   "cell_type": "code",
   "execution_count": 21,
   "id": "45f8824d",
   "metadata": {},
   "outputs": [
    {
     "name": "stdout",
     "output_type": "stream",
     "text": [
      "최대 문장 길이: 297\n",
      "최소 문장 길이: 19\n"
     ]
    }
   ],
   "source": [
    "seq_data = tokenizer.texts_to_sequences(train_data_text)\n",
    "# print('data', data)\n",
    "\n",
    "len_d = [len(d) for d in data]\n",
    "# print('길이:', len_d)\n",
    "print('최대 문장 길이:', max(len_d))\n",
    "print('최소 문장 길이:', min(len_d))"
   ]
  },
  {
   "cell_type": "code",
   "execution_count": 22,
   "id": "f43f94a5",
   "metadata": {},
   "outputs": [
    {
     "name": "stdout",
     "output_type": "stream",
     "text": [
      "data: [[   0    0    0 ...  384   51    1]\n",
      " [   0    0    0 ... 1466 1594 1292]\n",
      " [   0    0    0 ... 1147  193  114]\n",
      " ...\n",
      " [   0    0    0 ... 1457   75    1]\n",
      " [   0    0    0 ...  366   23  106]\n",
      " [   0    0    0 ...   31   37  354]]\n",
      "data 0: [   0    0    0    0    0    0    0    0    0   30 2115 2881 1073  132\n",
      " 1146    1   38 1017  172    5  297 4360   25   26  236    1   28   16\n",
      "  357   21 2017  329  497  107 4361 1334   20  384   51    1]\n",
      "data 0의 길이: 40\n"
     ]
    }
   ],
   "source": [
    "pad_data = pad_sequences(seq_data, maxlen=maxlen)\n",
    "\n",
    "print('data:', pad_data)\n",
    "print('data 0:', pad_data[0])\n",
    "print('data 0의 길이:', len(pad_data[0]))"
   ]
  },
  {
   "cell_type": "code",
   "execution_count": 23,
   "id": "d37569a4",
   "metadata": {},
   "outputs": [
    {
     "name": "stdout",
     "output_type": "stream",
     "text": [
      "train_data_text type: <class 'list'>\n",
      "data type: <class 'numpy.ndarray'>\n",
      "train_data_text 0: 회사 권고 사직 권유 그래도 정년 하 알 배신 당하 같 화나 한창 힘들 때 이해 하 이제 일 구하 모르 착잡 퇴근 동네 한 바퀴 돌 생각 정리 좀 하\n",
      "data 0: [   0    0    0    0    0    0    0    0    0   30 2115 2881 1073  132\n",
      " 1146    1   38 1017  172    5  297 4360   25   26  236    1   28   16\n",
      "  357   21 2017  329  497  107 4361 1334   20  384   51    1]\n"
     ]
    }
   ],
   "source": [
    "print('train_data_text type:', type(train_data_text))\n",
    "print('data type:', type(pad_data))\n",
    "print('train_data_text 0:', train_data_text[0])\n",
    "print('data 0:', pad_data[0])"
   ]
  },
  {
   "cell_type": "code",
   "execution_count": 24,
   "id": "a1e8c616",
   "metadata": {},
   "outputs": [],
   "source": [
    "def to_one_hot(sequences, dimension):\n",
    "    results = np.zeros((len(sequences), dimension))\n",
    "    for i, sequence in enumerate(sequences):\n",
    "        results[i, sequence] = 1.\n",
    "    return results\n",
    "\n",
    "# x_train = to_one_hot(pad_data, dimension=max_words)\n",
    "x_train = pad_data"
   ]
  },
  {
   "cell_type": "code",
   "execution_count": 25,
   "id": "90ebae9d",
   "metadata": {},
   "outputs": [],
   "source": [
    "# print('train_data_text type:', type(train_data_text))\n",
    "# print(len(train_data_text[0]))\n",
    "# print('texts 0:', train_data_text[0])\n",
    "\n",
    "# print('data type:', type(x_train))\n",
    "# print(len(x_train[0]))\n",
    "# print('x_train [0][0:100]:', x_train[0][:100])"
   ]
  },
  {
   "cell_type": "code",
   "execution_count": 26,
   "id": "31f15283",
   "metadata": {},
   "outputs": [
    {
     "name": "stdout",
     "output_type": "stream",
     "text": [
      "['노년' '중년' '청년' '청소년']\n"
     ]
    }
   ],
   "source": [
    "from sklearn.preprocessing import LabelEncoder\n",
    "le = LabelEncoder()\n",
    "le.fit(train_data_label)\n",
    "print(le.classes_)\n",
    "train_data_label = le.transform(train_data_label)"
   ]
  },
  {
   "cell_type": "code",
   "execution_count": 27,
   "id": "5bb12e1f",
   "metadata": {},
   "outputs": [],
   "source": [
    "test_data_label = le.transform(test_data_label)"
   ]
  },
  {
   "cell_type": "code",
   "execution_count": 28,
   "id": "139ffcef",
   "metadata": {},
   "outputs": [
    {
     "name": "stdout",
     "output_type": "stream",
     "text": [
      "[[0. 1. 0. 0.]\n",
      " [0. 0. 0. 1.]\n",
      " [0. 0. 1. 0.]\n",
      " ...\n",
      " [0. 0. 0. 1.]\n",
      " [0. 0. 1. 0.]\n",
      " [0. 1. 0. 0.]]\n"
     ]
    }
   ],
   "source": [
    "class_number = len(le.classes_)\n",
    "y_train = to_one_hot(train_data_label, dimension=class_number)\n",
    "print(y_train)"
   ]
  },
  {
   "cell_type": "code",
   "execution_count": 29,
   "id": "7a7e1dfe",
   "metadata": {},
   "outputs": [
    {
     "name": "stdout",
     "output_type": "stream",
     "text": [
      "[[0. 0. 1. 0.]\n",
      " [0. 0. 1. 0.]\n",
      " [0. 1. 0. 0.]\n",
      " ...\n",
      " [0. 0. 0. 1.]\n",
      " [0. 0. 0. 1.]\n",
      " [0. 0. 1. 0.]]\n"
     ]
    }
   ],
   "source": [
    "data_test = tokenizer.texts_to_sequences(test_data_text)\n",
    "\n",
    "data_test = pad_sequences(data_test, maxlen=maxlen)\n",
    "\n",
    "x_test = data_test\n",
    "\n",
    "y_test = to_one_hot(test_data_label, dimension=class_number)\n",
    "print(y_test)"
   ]
  },
  {
   "cell_type": "code",
   "execution_count": 30,
   "id": "902faffb",
   "metadata": {},
   "outputs": [
    {
     "name": "stdout",
     "output_type": "stream",
     "text": [
      "훈련 데이터 본문 텐서의 크기: (14396, 40)\n",
      "훈련 데이터 레이블 텐서의 크기: (14396, 4)\n",
      "테스트 데이터 본문 텐서의 크기: (3000, 40)\n",
      "테스트 데이터 레이블 텐서의 크기: (3000, 4)\n"
     ]
    }
   ],
   "source": [
    "print('훈련 데이터 본문 텐서의 크기:', x_train.shape)\n",
    "print('훈련 데이터 레이블 텐서의 크기:', y_train.shape)\n",
    "\n",
    "print('테스트 데이터 본문 텐서의 크기:', x_test.shape)\n",
    "print('테스트 데이터 레이블 텐서의 크기:', y_test.shape)"
   ]
  },
  {
   "cell_type": "code",
   "execution_count": 31,
   "id": "c35c1d18",
   "metadata": {},
   "outputs": [
    {
     "data": {
      "text/plain": [
       "(14396, 4)"
      ]
     },
     "execution_count": 31,
     "metadata": {},
     "output_type": "execute_result"
    }
   ],
   "source": [
    "y_train.shape"
   ]
  },
  {
   "cell_type": "code",
   "execution_count": 32,
   "id": "4f8ba4a1",
   "metadata": {},
   "outputs": [],
   "source": [
    "import os\n",
    "\n",
    "class_number = y_train.shape[-1]\n",
    "epochs = 10\n",
    "batch_size = 100\n",
    "embedding_dim = 200\n",
    "model_name = 'train_data_age_morphed_model.h5'\n",
    "tokenizer_name = 'train_data_age_morphed_token.pickle'\n",
    "labelencode_name = 'train_data_age_morphed_le.pickle'\n",
    "\n",
    "working_path = '/Users/jsha/gjai/nlp/pytest/15_working/'\n",
    "save_path = working_path + 'practice/'\n",
    "if not os.path.exists(save_path):\n",
    "    os.mkdir(save_path)\n",
    "    print(f'made {save_path} directory')\n",
    "os.chdir(save_path)"
   ]
  },
  {
   "cell_type": "code",
   "execution_count": 33,
   "id": "c9f6b141",
   "metadata": {},
   "outputs": [
    {
     "name": "stdout",
     "output_type": "stream",
     "text": [
      "Model: \"sequential_1\"\n",
      "_________________________________________________________________\n",
      "Layer (type)                 Output Shape              Param #   \n",
      "=================================================================\n",
      "embedding_1 (Embedding)      (None, 40, 200)           1800000   \n",
      "_________________________________________________________________\n",
      "flatten_1 (Flatten)          (None, 8000)              0         \n",
      "_________________________________________________________________\n",
      "dense_1 (Dense)              (None, 64)                512064    \n",
      "_________________________________________________________________\n",
      "dense_2 (Dense)              (None, 32)                2080      \n",
      "_________________________________________________________________\n",
      "dense_3 (Dense)              (None, 4)                 132       \n",
      "=================================================================\n",
      "Total params: 2,314,276\n",
      "Trainable params: 2,314,276\n",
      "Non-trainable params: 0\n",
      "_________________________________________________________________\n"
     ]
    }
   ],
   "source": [
    "from keras.models import Sequential\n",
    "from keras.layers import Dense\n",
    "from keras import layers\n",
    "\n",
    "model = Sequential()\n",
    "\n",
    "model.add(layers.Embedding(input_dim=max_words, output_dim=embedding_dim, \n",
    "                          input_length=maxlen))\n",
    "model.add(layers.Flatten())\n",
    "\n",
    "model.add(Dense(64, activation='relu', input_shape=(max_words,)))\n",
    "model.add(Dense(units=32, activation='relu'))\n",
    "model.add(Dense(units=class_number, activation='softmax'))\n",
    "\n",
    "model.summary()"
   ]
  },
  {
   "cell_type": "code",
   "execution_count": 34,
   "id": "6529af7f",
   "metadata": {},
   "outputs": [
    {
     "name": "stdout",
     "output_type": "stream",
     "text": [
      "/Users/jsha/gjai/nlp/pytest/15_working/practice/ --- Folder already exists\n",
      "\n"
     ]
    }
   ],
   "source": [
    "from keras.callbacks import EarlyStopping\n",
    "import os\n",
    "\n",
    "checkpoint_path = save_path\n",
    "# checkpoint_dir = os.path.dirname(checkpoint_path)\n",
    "if os.path.exists(checkpoint_path):\n",
    "    print('{} --- Folder already exists\\n'.format(checkpoint_path))\n",
    "else:\n",
    "    os.makedirs(checkpoint_path, exist_ok=True)\n",
    "    print('{} --- Folder created\\n'.format(checkpoint_path))"
   ]
  },
  {
   "cell_type": "code",
   "execution_count": 35,
   "id": "c727d41d",
   "metadata": {},
   "outputs": [],
   "source": [
    "model.compile(optimizer='rmsprop', loss='categorical_crossentropy',\n",
    "             metrics=['acc'])"
   ]
  },
  {
   "cell_type": "code",
   "execution_count": 36,
   "id": "1c3b4853",
   "metadata": {},
   "outputs": [
    {
     "name": "stderr",
     "output_type": "stream",
     "text": [
      "/Users/jsha/opt/anaconda3/envs/nlp3710/lib/python3.7/site-packages/tensorflow_core/python/framework/indexed_slices.py:424: UserWarning: Converting sparse IndexedSlices to a dense Tensor of unknown shape. This may consume a large amount of memory.\n",
      "  \"Converting sparse IndexedSlices to a dense Tensor of unknown shape. \"\n"
     ]
    },
    {
     "name": "stdout",
     "output_type": "stream",
     "text": [
      "Train on 10077 samples, validate on 4319 samples\n",
      "Epoch 1/10\n",
      "10077/10077 [==============================] - 4s 437us/step - loss: 1.1316 - acc: 0.4668 - val_loss: 0.8072 - val_acc: 0.6569\n",
      "\n",
      "Epoch 00001: val_acc improved from -inf to 0.65687, saving model to /Users/jsha/gjai/nlp/pytest/15_working/practice/train_data_age_morphed_model.h5\n",
      "Epoch 2/10\n",
      "10077/10077 [==============================] - 4s 432us/step - loss: 0.6073 - acc: 0.7609 - val_loss: 0.7800 - val_acc: 0.6703\n",
      "\n",
      "Epoch 00002: val_acc improved from 0.65687 to 0.67029, saving model to /Users/jsha/gjai/nlp/pytest/15_working/practice/train_data_age_morphed_model.h5\n",
      "Epoch 3/10\n",
      "10077/10077 [==============================] - 4s 417us/step - loss: 0.3186 - acc: 0.8945 - val_loss: 0.7425 - val_acc: 0.7189\n",
      "\n",
      "Epoch 00003: val_acc improved from 0.67029 to 0.71892, saving model to /Users/jsha/gjai/nlp/pytest/15_working/practice/train_data_age_morphed_model.h5\n",
      "Epoch 4/10\n",
      "10077/10077 [==============================] - 4s 435us/step - loss: 0.1186 - acc: 0.9684 - val_loss: 0.9236 - val_acc: 0.7032\n",
      "\n",
      "Epoch 00004: val_acc did not improve from 0.71892\n",
      "Epoch 5/10\n",
      "10077/10077 [==============================] - 4s 446us/step - loss: 0.0269 - acc: 0.9940 - val_loss: 1.1741 - val_acc: 0.6914\n",
      "\n",
      "Epoch 00005: val_acc did not improve from 0.71892\n"
     ]
    }
   ],
   "source": [
    "from keras.callbacks import ModelCheckpoint\n",
    "\n",
    "earlystop_callback = EarlyStopping(monitor='val_acc', patience=2)\n",
    "cp_callback = ModelCheckpoint(filepath=checkpoint_path+model_name,\n",
    "                             monitor='val_acc', verbose=1, \n",
    "                             save_best_only=True)\n",
    "history = model.fit(x_train, y_train, epochs=epochs,\n",
    "                   batch_size=batch_size, validation_split=0.3,\n",
    "                   callbacks=[earlystop_callback, cp_callback], verbose=1)\n",
    "history_dict = history.history"
   ]
  },
  {
   "cell_type": "code",
   "execution_count": 37,
   "id": "45e59aa1",
   "metadata": {},
   "outputs": [],
   "source": [
    "import pickle\n",
    "\n",
    "# model.save(model_name)\n",
    "\n",
    "with open(checkpoint_path+tokenizer_name, 'wb') as file:\n",
    "    pickle.dump(tokenizer, file, protocol=pickle.HIGHEST_PROTOCOL)\n",
    "    \n",
    "with open(checkpoint_path+labelencode_name, 'wb') as file:\n",
    "    pickle.dump(le, file, protocol=pickle.HIGHEST_PROTOCOL)\n",
    "    "
   ]
  },
  {
   "cell_type": "code",
   "execution_count": 38,
   "id": "e1a27c69",
   "metadata": {},
   "outputs": [
    {
     "name": "stdout",
     "output_type": "stream",
     "text": [
      "validation accuracy of each epoch: [0.657 0.67  0.719 0.703 0.691]\n"
     ]
    }
   ],
   "source": [
    "acc = history.history['acc']\n",
    "val_acc = history.history['val_acc']\n",
    "loss = history.history['loss']\n",
    "val_loss = history.history['val_loss']\n",
    "\n",
    "print('validation accuracy of each epoch:', np.round(val_acc,3))\n",
    "epochs = range(1, len(val_acc)+1)"
   ]
  },
  {
   "cell_type": "code",
   "execution_count": 39,
   "id": "f2feaec0",
   "metadata": {},
   "outputs": [
    {
     "data": {
      "image/png": "[encoded data removed]",
      "text/plain": [
       "<Figure size 432x288 with 1 Axes>"
      ]
     },
     "metadata": {
      "needs_background": "light"
     },
     "output_type": "display_data"
    }
   ],
   "source": [
    "import matplotlib.pyplot as plt\n",
    "\n",
    "plt.plot(epochs, acc, 'bo', label='Training Acc')\n",
    "plt.plot(epochs, val_acc, 'r', label='Validation Acc')\n",
    "plt.title('Training and Validation Accuracy')\n",
    "plt.legend(loc=4)\n",
    "plt.show()"
   ]
  },
  {
   "cell_type": "code",
   "execution_count": 40,
   "id": "24c863da",
   "metadata": {
    "scrolled": false
   },
   "outputs": [
    {
     "data": {
      "image/png": "[encoded data removed]",
      "text/plain": [
       "<Figure size 432x288 with 1 Axes>"
      ]
     },
     "metadata": {
      "needs_background": "light"
     },
     "output_type": "display_data"
    }
   ],
   "source": [
    "plt.plot(epochs, loss, 'bo', label='Training Loss')\n",
    "plt.plot(epochs, val_loss, 'r', label='Validation Loss')\n",
    "plt.title('Training and Validation loss')\n",
    "plt.legend(loc=1)\n",
    "plt.show()"
   ]
  },
  {
   "cell_type": "code",
   "execution_count": 41,
   "id": "92f366fd",
   "metadata": {},
   "outputs": [
    {
     "name": "stderr",
     "output_type": "stream",
     "text": [
      "/Users/jsha/opt/anaconda3/envs/nlp3710/lib/python3.7/site-packages/tensorflow_core/python/framework/indexed_slices.py:424: UserWarning: Converting sparse IndexedSlices to a dense Tensor of unknown shape. This may consume a large amount of memory.\n",
      "  \"Converting sparse IndexedSlices to a dense Tensor of unknown shape. \"\n"
     ]
    }
   ],
   "source": [
    "from keras.models import load_model\n",
    "\n",
    "loaded_model = load_model(checkpoint_path+model_name)\n",
    "\n",
    "with open(checkpoint_path+tokenizer_name, 'rb') as handle:\n",
    "    loaded_tokenizer = pickle.load(handle)"
   ]
  },
  {
   "cell_type": "code",
   "execution_count": 42,
   "id": "319196bd",
   "metadata": {},
   "outputs": [
    {
     "name": "stdout",
     "output_type": "stream",
     "text": [
      "3000/3000 [==============================] - 0s 89us/step\n",
      "age prediction\n",
      "prediction model loss & acc: [0.7163980782826741, 0.7206666469573975]\n"
     ]
    }
   ],
   "source": [
    "test_eval = loaded_model.evaluate(x_test, y_test)\n",
    "\n",
    "print('age prediction')\n",
    "print('prediction model loss & acc:', test_eval)"
   ]
  },
  {
   "cell_type": "code",
   "execution_count": null,
   "id": "18510a30",
   "metadata": {},
   "outputs": [],
   "source": []
  },
  {
   "cell_type": "code",
   "execution_count": null,
   "id": "f50eb6a5",
   "metadata": {},
   "outputs": [],
   "source": []
  },
  {
   "cell_type": "code",
   "execution_count": null,
   "id": "da2d4b95",
   "metadata": {},
   "outputs": [],
   "source": []
  },
  {
   "cell_type": "markdown",
   "id": "235672a9",
   "metadata": {},
   "source": [
    "# 감정 분류"
   ]
  },
  {
   "cell_type": "code",
   "execution_count": 43,
   "id": "20d5865b",
   "metadata": {},
   "outputs": [
    {
     "data": {
      "text/plain": [
       "Index(['연령', '감정_대분류', '사람문장1', '사람문장2', '사람문장3', '사람문장4'], dtype='object')"
      ]
     },
     "execution_count": 43,
     "metadata": {},
     "output_type": "execute_result"
    }
   ],
   "source": [
    "new_df.columns"
   ]
  },
  {
   "cell_type": "code",
   "execution_count": 44,
   "id": "32faf15b",
   "metadata": {},
   "outputs": [
    {
     "name": "stdout",
     "output_type": "stream",
     "text": [
      "20566\n"
     ]
    }
   ],
   "source": [
    "from sklearn.model_selection import train_test_split\n",
    "\n",
    "print(len(morphed_data))\n",
    "data_text = morphed_data\n",
    "# data_label = new_df.iloc[:,0].to_list()\n",
    "data_label = new_df.iloc[:,1].to_list()\n",
    "\n",
    "train_data_text, test_data_text, train_data_label, test_data_label = \\\n",
    "train_test_split(data_text, data_label, stratify=data_label, \n",
    "                 test_size=0.3, random_state=1111)"
   ]
  },
  {
   "cell_type": "code",
   "execution_count": 45,
   "id": "1c0ac868",
   "metadata": {},
   "outputs": [
    {
     "name": "stdout",
     "output_type": "stream",
     "text": [
      "train_data_label_freq: Counter({'분노': 4844, '슬픔': 4840, '기쁨': 4712})\n",
      "test_data_label_freq: Counter({'분노': 2076, '슬픔': 2075, '기쁨': 2019})\n"
     ]
    }
   ],
   "source": [
    "from collections import Counter\n",
    "train_data_label_freq = Counter(train_data_label)\n",
    "print('train_data_label_freq:', train_data_label_freq)\n",
    "\n",
    "test_data_label_freq = Counter(test_data_label)\n",
    "print('test_data_label_freq:', test_data_label_freq)\n"
   ]
  },
  {
   "cell_type": "code",
   "execution_count": 46,
   "id": "538221ee",
   "metadata": {},
   "outputs": [],
   "source": [
    "test_data_text = test_data_text[:3000]\n",
    "test_data_label = test_data_label[:3000]"
   ]
  },
  {
   "cell_type": "code",
   "execution_count": 47,
   "id": "f1019dc8",
   "metadata": {},
   "outputs": [
    {
     "name": "stdout",
     "output_type": "stream",
     "text": [
      "최소길이: 4\n",
      "최대길이: 74\n",
      "평균길이: 22.1\n",
      "중위수길이: 22.0\n",
      "구간별 최대 길이: [ 4. 17. 22. 27. 31. 40. 74.]\n",
      "최소길이 문장: 남편 돼지 대화 하\n",
      "최대길이 문장: 어제 아들 무슨 잘못 하 야단 좀 치 글쎄 말 엄마 하 줄 있 기가 막히 애 뒷바라지 하 얼마나 고생 하 아들 그림 좀 잘 그리 편 한데 내가 미대 절대 안 되 그림 도구 같 다 버리 근데 부모 되 자식 진로 대하 결정 하 있 애가 공부 시간 없 틈 나 붓 잡 있 화 나 그리하 아들 좀 미안 하 마음 있 한데 그렇 부모 그렇게 말 하 더 나쁘\n"
     ]
    }
   ],
   "source": [
    "import numpy as np\n",
    "\n",
    "text_len = [len(line.split(' ')) for line in train_data_text]\n",
    "print('최소길이:', np.min(text_len))\n",
    "print('최대길이:', np.max(text_len))\n",
    "print('평균길이:', np.round(np.mean(text_len),1))\n",
    "print('중위수길이:', np.median(text_len))\n",
    "print('구간별 최대 길이:', np.percentile(text_len, [0, 25, 50, 75, 90, 99, 100]))\n",
    "print('최소길이 문장:', train_data_text[np.argmin(text_len)])\n",
    "print('최대길이 문장:', train_data_text[np.argmax(text_len)])"
   ]
  },
  {
   "cell_type": "code",
   "execution_count": 48,
   "id": "4de9b51b",
   "metadata": {},
   "outputs": [],
   "source": [
    "from keras.preprocessing.text import Tokenizer\n",
    "from keras.preprocessing.sequence import pad_sequences\n",
    "import numpy as np\n",
    "import math \n",
    "\n",
    "# max_words = 10000\n",
    "# maxlen = 40\n",
    "\n",
    "tokenizer = Tokenizer(num_words=max_words)\n",
    "tokenizer.fit_on_texts(train_data_text)\n",
    "word_index = tokenizer.word_index"
   ]
  },
  {
   "cell_type": "code",
   "execution_count": 49,
   "id": "1215f6d6",
   "metadata": {},
   "outputs": [
    {
     "name": "stdout",
     "output_type": "stream",
     "text": [
      "wjscpdptj 9881개의 고유한 토큰을 찾았습니다\n",
      "word_index type: <class 'dict'>\n"
     ]
    }
   ],
   "source": [
    "print('wjscpdptj %s개의 고유한 토큰을 찾았습니다' % len(word_index))\n",
    "print('word_index type:', type(word_index))\n",
    "# print('word_index:', word_index)"
   ]
  },
  {
   "cell_type": "code",
   "execution_count": 50,
   "id": "6ad5f06a",
   "metadata": {},
   "outputs": [
    {
     "name": "stdout",
     "output_type": "stream",
     "text": [
      "최대 문장 길이: 297\n",
      "최소 문장 길이: 19\n"
     ]
    }
   ],
   "source": [
    "seq_data = tokenizer.texts_to_sequences(train_data_text)\n",
    "# print('data', data)\n",
    "\n",
    "len_d = [len(d) for d in data]\n",
    "# print('길이:', len_d)\n",
    "print('최대 문장 길이:', max(len_d))\n",
    "print('최소 문장 길이:', min(len_d))"
   ]
  },
  {
   "cell_type": "code",
   "execution_count": 51,
   "id": "d53d5217",
   "metadata": {},
   "outputs": [
    {
     "name": "stdout",
     "output_type": "stream",
     "text": [
      "data: [[   0    0    0 ...   14 6642    7]\n",
      " [   0    0    0 ...   12    1    5]\n",
      " [   0    0    0 ...  796 1580  437]\n",
      " ...\n",
      " [   0    0    0 ...   85 1649  255]\n",
      " [   0    0    0 ...   75    9   15]\n",
      " [   0    0    0 ...    1    6  448]]\n",
      "data 0: [   0    0    0    0    0    0    0    0    0    0  386  141    1    4\n",
      "  344  128 2894   28  134    1   17  102   28   13  141   50  244    4\n",
      "   28 2895    1  108   28    1   17   50  356   14 6642    7]\n",
      "data 0의 길이: 40\n"
     ]
    }
   ],
   "source": [
    "pad_data = pad_sequences(seq_data, maxlen=maxlen)\n",
    "\n",
    "print('data:', pad_data)\n",
    "print('data 0:', pad_data[0])\n",
    "print('data 0의 길이:', len(pad_data[0]))"
   ]
  },
  {
   "cell_type": "code",
   "execution_count": 52,
   "id": "33e098f5",
   "metadata": {},
   "outputs": [
    {
     "name": "stdout",
     "output_type": "stream",
     "text": [
      "train_data_text type: <class 'list'>\n",
      "data type: <class 'numpy.ndarray'>\n",
      "train_data_text 0: 곧 은퇴 하 되 근데 그런 와중 아내 감사 하 일 생기 아내 말 은퇴 열심히 일하 되 아내 자영업 하 고맙 아내 하 일 열심히 돕 더 번창 있\n",
      "data 0: [   0    0    0    0    0    0    0    0    0    0  386  141    1    4\n",
      "  344  128 2894   28  134    1   17  102   28   13  141   50  244    4\n",
      "   28 2895    1  108   28    1   17   50  356   14 6642    7]\n"
     ]
    }
   ],
   "source": [
    "print('train_data_text type:', type(train_data_text))\n",
    "print('data type:', type(pad_data))\n",
    "print('train_data_text 0:', train_data_text[0])\n",
    "print('data 0:', pad_data[0])"
   ]
  },
  {
   "cell_type": "code",
   "execution_count": 53,
   "id": "11236c29",
   "metadata": {},
   "outputs": [],
   "source": [
    "def to_one_hot(sequences, dimension):\n",
    "    results = np.zeros((len(sequences), dimension))\n",
    "    for i, sequence in enumerate(sequences):\n",
    "        results[i, sequence] = 1.\n",
    "    return results\n",
    "\n",
    "# x_train = to_one_hot(pad_data, dimension=max_words)\n",
    "x_train = pad_data"
   ]
  },
  {
   "cell_type": "code",
   "execution_count": 54,
   "id": "f125b9c5",
   "metadata": {},
   "outputs": [
    {
     "name": "stdout",
     "output_type": "stream",
     "text": [
      "train_data_text type: <class 'list'>\n",
      "79\n",
      "texts 0: 곧 은퇴 하 되 근데 그런 와중 아내 감사 하 일 생기 아내 말 은퇴 열심히 일하 되 아내 자영업 하 고맙 아내 하 일 열심히 돕 더 번창 있\n",
      "data type: <class 'numpy.ndarray'>\n",
      "40\n",
      "x_train [0][0:100]: [   0    0    0    0    0    0    0    0    0    0  386  141    1    4\n",
      "  344  128 2894   28  134    1   17  102   28   13  141   50  244    4\n",
      "   28 2895    1  108   28    1   17   50  356   14 6642    7]\n"
     ]
    }
   ],
   "source": [
    "print('train_data_text type:', type(train_data_text))\n",
    "print(len(train_data_text[0]))\n",
    "print('texts 0:', train_data_text[0])\n",
    "\n",
    "print('data type:', type(x_train))\n",
    "print(len(x_train[0]))\n",
    "print('x_train [0][0:100]:', x_train[0][:100])"
   ]
  },
  {
   "cell_type": "code",
   "execution_count": 55,
   "id": "f9f2d475",
   "metadata": {},
   "outputs": [
    {
     "name": "stdout",
     "output_type": "stream",
     "text": [
      "['기쁨' '분노' '슬픔']\n"
     ]
    }
   ],
   "source": [
    "from sklearn.preprocessing import LabelEncoder\n",
    "le = LabelEncoder()\n",
    "le.fit(train_data_label)\n",
    "print(le.classes_)\n",
    "train_data_label = le.transform(train_data_label)"
   ]
  },
  {
   "cell_type": "code",
   "execution_count": 56,
   "id": "e1885890",
   "metadata": {},
   "outputs": [],
   "source": [
    "test_data_label = le.transform(test_data_label)"
   ]
  },
  {
   "cell_type": "code",
   "execution_count": 57,
   "id": "d8dc2b97",
   "metadata": {},
   "outputs": [
    {
     "name": "stdout",
     "output_type": "stream",
     "text": [
      "[[1. 0. 0.]\n",
      " [1. 0. 0.]\n",
      " [0. 1. 0.]\n",
      " ...\n",
      " [1. 0. 0.]\n",
      " [0. 0. 1.]\n",
      " [0. 1. 0.]]\n"
     ]
    }
   ],
   "source": [
    "class_number = len(le.classes_)\n",
    "y_train = to_one_hot(train_data_label, dimension=class_number)\n",
    "print(y_train)"
   ]
  },
  {
   "cell_type": "code",
   "execution_count": 58,
   "id": "5f58e843",
   "metadata": {},
   "outputs": [
    {
     "name": "stdout",
     "output_type": "stream",
     "text": [
      "[[0. 0. 1.]\n",
      " [0. 1. 0.]\n",
      " [1. 0. 0.]\n",
      " ...\n",
      " [0. 1. 0.]\n",
      " [1. 0. 0.]\n",
      " [1. 0. 0.]]\n"
     ]
    }
   ],
   "source": [
    "data_test = tokenizer.texts_to_sequences(test_data_text)\n",
    "\n",
    "data_test = pad_sequences(data_test, maxlen=maxlen)\n",
    "\n",
    "# 원핫 인코딩 안함\n",
    "x_test = data_test\n",
    "\n",
    "y_test = to_one_hot(test_data_label, dimension=class_number)\n",
    "print(y_test)"
   ]
  },
  {
   "cell_type": "code",
   "execution_count": 59,
   "id": "4866d0d1",
   "metadata": {},
   "outputs": [
    {
     "name": "stdout",
     "output_type": "stream",
     "text": [
      "훈련 데이터 본문 텐서의 크기: (14396, 40)\n",
      "훈련 데이터 레이블 텐서의 크기: (14396, 3)\n",
      "테스트 데이터 본문 텐서의 크기: (3000, 40)\n",
      "테스트 데이터 레이블 텐서의 크기: (3000, 3)\n"
     ]
    }
   ],
   "source": [
    "print('훈련 데이터 본문 텐서의 크기:', x_train.shape)\n",
    "print('훈련 데이터 레이블 텐서의 크기:', y_train.shape)\n",
    "\n",
    "print('테스트 데이터 본문 텐서의 크기:', x_test.shape)\n",
    "print('테스트 데이터 레이블 텐서의 크기:', y_test.shape)"
   ]
  },
  {
   "cell_type": "code",
   "execution_count": 60,
   "id": "6c80aab2",
   "metadata": {},
   "outputs": [],
   "source": [
    "import os\n",
    "\n",
    "class_number = y_train.shape[-1]\n",
    "epochs = 10\n",
    "batch_size = 100\n",
    "embedding_dim = 200\n",
    "model_name = 'train_data_age_morphed_model.h5'\n",
    "tokenizer_name = 'train_data_age_morphed_token.pickle'\n",
    "labelencode_name = 'train_data_age_morphed_le.pickle'\n",
    "\n",
    "working_path = '/Users/jsha/gjai/nlp/pytest/15_working/'\n",
    "save_path = working_path + 'practice/'\n",
    "if not os.path.exists(save_path):\n",
    "    os.mkdir(save_path)\n",
    "    print(f'made {save_path} directory')\n",
    "os.chdir(save_path)"
   ]
  },
  {
   "cell_type": "code",
   "execution_count": 61,
   "id": "17b1ee42",
   "metadata": {},
   "outputs": [
    {
     "name": "stdout",
     "output_type": "stream",
     "text": [
      "Model: \"sequential_2\"\n",
      "_________________________________________________________________\n",
      "Layer (type)                 Output Shape              Param #   \n",
      "=================================================================\n",
      "embedding_2 (Embedding)      (None, 40, 200)           1800000   \n",
      "_________________________________________________________________\n",
      "flatten_2 (Flatten)          (None, 8000)              0         \n",
      "_________________________________________________________________\n",
      "dense_4 (Dense)              (None, 128)               1024128   \n",
      "_________________________________________________________________\n",
      "dense_5 (Dense)              (None, 64)                8256      \n",
      "_________________________________________________________________\n",
      "dense_6 (Dense)              (None, 32)                2080      \n",
      "_________________________________________________________________\n",
      "dense_7 (Dense)              (None, 3)                 99        \n",
      "=================================================================\n",
      "Total params: 2,834,563\n",
      "Trainable params: 2,834,563\n",
      "Non-trainable params: 0\n",
      "_________________________________________________________________\n"
     ]
    }
   ],
   "source": [
    "from keras.models import Sequential\n",
    "from keras.layers import Dense\n",
    "from keras import layers\n",
    "\n",
    "model = Sequential()\n",
    "\n",
    "model.add(layers.Embedding(input_dim=max_words, output_dim=embedding_dim, \n",
    "                          input_length=maxlen))\n",
    "model.add(layers.Flatten())\n",
    "\n",
    "model.add(Dense(units=128, activation='relu'))\n",
    "model.add(Dense(units=64, activation='relu'))\n",
    "model.add(Dense(units=32, activation='relu'))\n",
    "model.add(Dense(units=class_number, activation='softmax'))\n",
    "\n",
    "model.summary()"
   ]
  },
  {
   "cell_type": "code",
   "execution_count": 62,
   "id": "68a032cf",
   "metadata": {},
   "outputs": [],
   "source": [
    "model.compile(optimizer='rmsprop', loss='categorical_crossentropy',\n",
    "             metrics=['acc'])"
   ]
  },
  {
   "cell_type": "code",
   "execution_count": 63,
   "id": "b9322b35",
   "metadata": {},
   "outputs": [
    {
     "name": "stdout",
     "output_type": "stream",
     "text": [
      "/Users/jsha/gjai/nlp/pytest/15_working/practice/ --- Folder already exists\n",
      "\n"
     ]
    }
   ],
   "source": [
    "from keras.callbacks import EarlyStopping\n",
    "import os\n",
    "\n",
    "checkpoint_path = save_path\n",
    "# checkpoint_dir = os.path.dirname(checkpoint_path)\n",
    "if os.path.exists(checkpoint_path):\n",
    "    print('{} --- Folder already exists\\n'.format(checkpoint_path))\n",
    "else:\n",
    "    os.makedirs(checkpoint_path, exist_ok=True)\n",
    "    print('{} --- Folder created\\n'.format(checkpoint_path))"
   ]
  },
  {
   "cell_type": "code",
   "execution_count": 64,
   "id": "deec29e7",
   "metadata": {},
   "outputs": [
    {
     "name": "stderr",
     "output_type": "stream",
     "text": [
      "/Users/jsha/opt/anaconda3/envs/nlp3710/lib/python3.7/site-packages/tensorflow_core/python/framework/indexed_slices.py:424: UserWarning: Converting sparse IndexedSlices to a dense Tensor of unknown shape. This may consume a large amount of memory.\n",
      "  \"Converting sparse IndexedSlices to a dense Tensor of unknown shape. \"\n"
     ]
    },
    {
     "name": "stdout",
     "output_type": "stream",
     "text": [
      "Train on 10077 samples, validate on 4319 samples\n",
      "Epoch 1/10\n",
      "10077/10077 [==============================] - 5s 515us/step - loss: 0.8293 - acc: 0.5870 - val_loss: 0.5592 - val_acc: 0.7652\n",
      "\n",
      "Epoch 00001: val_acc improved from -inf to 0.76522, saving model to /Users/jsha/gjai/nlp/pytest/15_working/practice/train_data_age_morphed_model.h5\n",
      "Epoch 2/10\n",
      "10077/10077 [==============================] - 5s 498us/step - loss: 0.3503 - acc: 0.8646 - val_loss: 0.4939 - val_acc: 0.8055\n",
      "\n",
      "Epoch 00002: val_acc improved from 0.76522 to 0.80551, saving model to /Users/jsha/gjai/nlp/pytest/15_working/practice/train_data_age_morphed_model.h5\n",
      "Epoch 3/10\n",
      "10077/10077 [==============================] - 5s 483us/step - loss: 0.1236 - acc: 0.9614 - val_loss: 0.6658 - val_acc: 0.7856\n",
      "\n",
      "Epoch 00003: val_acc did not improve from 0.80551\n",
      "Epoch 4/10\n",
      "10077/10077 [==============================] - 5s 512us/step - loss: 0.0293 - acc: 0.9914 - val_loss: 0.8209 - val_acc: 0.7712\n",
      "\n",
      "Epoch 00004: val_acc did not improve from 0.80551\n"
     ]
    }
   ],
   "source": [
    "from keras.callbacks import ModelCheckpoint\n",
    "\n",
    "earlystop_callback = EarlyStopping(monitor='val_acc', patience=2)\n",
    "cp_callback = ModelCheckpoint(filepath=checkpoint_path+model_name,\n",
    "                             monitor='val_acc', verbose=1, \n",
    "                             save_best_only=True)\n",
    "history = model.fit(x_train, y_train, epochs=epochs,\n",
    "                   batch_size=batch_size, validation_split=0.3,\n",
    "                   callbacks=[earlystop_callback, cp_callback], verbose=1)\n",
    "history_dict = history.history"
   ]
  },
  {
   "cell_type": "code",
   "execution_count": 65,
   "id": "5833cbbc",
   "metadata": {},
   "outputs": [],
   "source": [
    "import pickle\n",
    "\n",
    "# model.save(model_name)\n",
    "\n",
    "with open(checkpoint_path+tokenizer_name, 'wb') as file:\n",
    "    pickle.dump(tokenizer, file, protocol=pickle.HIGHEST_PROTOCOL)\n",
    "    \n",
    "with open(checkpoint_path+labelencode_name, 'wb') as file:\n",
    "    pickle.dump(le, file, protocol=pickle.HIGHEST_PROTOCOL)\n",
    "    "
   ]
  },
  {
   "cell_type": "code",
   "execution_count": 66,
   "id": "f51234ab",
   "metadata": {},
   "outputs": [
    {
     "name": "stdout",
     "output_type": "stream",
     "text": [
      "validation accuracy of each epoch: [0.765 0.806 0.786 0.771]\n"
     ]
    }
   ],
   "source": [
    "acc = history.history['acc']\n",
    "val_acc = history.history['val_acc']\n",
    "loss = history.history['loss']\n",
    "val_loss = history.history['val_loss']\n",
    "\n",
    "print('validation accuracy of each epoch:', np.round(val_acc,3))\n",
    "epochs = range(1, len(val_acc)+1)"
   ]
  },
  {
   "cell_type": "code",
   "execution_count": 67,
   "id": "abc5c449",
   "metadata": {},
   "outputs": [
    {
     "data": {
      "image/png": "[encoded data removed]",
      "text/plain": [
       "<Figure size 432x288 with 1 Axes>"
      ]
     },
     "metadata": {
      "needs_background": "light"
     },
     "output_type": "display_data"
    }
   ],
   "source": [
    "import matplotlib.pyplot as plt\n",
    "\n",
    "plt.plot(epochs, acc, 'bo', label='Training Acc')\n",
    "plt.plot(epochs, val_acc, 'r', label='Validation Acc')\n",
    "plt.title('Training and Validation Accuracy')\n",
    "plt.legend(loc=4)\n",
    "plt.show()"
   ]
  },
  {
   "cell_type": "code",
   "execution_count": 68,
   "id": "86681d58",
   "metadata": {
    "scrolled": false
   },
   "outputs": [
    {
     "data": {
      "image/png": "[encoded data removed]",
      "text/plain": [
       "<Figure size 432x288 with 1 Axes>"
      ]
     },
     "metadata": {
      "needs_background": "light"
     },
     "output_type": "display_data"
    }
   ],
   "source": [
    "plt.plot(epochs, loss, 'bo', label='Training Loss')\n",
    "plt.plot(epochs, val_loss, 'r', label='Validation Loss')\n",
    "plt.title('Training and Validation loss')\n",
    "plt.legend(loc=1)\n",
    "plt.show()"
   ]
  },
  {
   "cell_type": "code",
   "execution_count": 69,
   "id": "c2ed8f5b",
   "metadata": {},
   "outputs": [
    {
     "name": "stderr",
     "output_type": "stream",
     "text": [
      "/Users/jsha/opt/anaconda3/envs/nlp3710/lib/python3.7/site-packages/tensorflow_core/python/framework/indexed_slices.py:424: UserWarning: Converting sparse IndexedSlices to a dense Tensor of unknown shape. This may consume a large amount of memory.\n",
      "  \"Converting sparse IndexedSlices to a dense Tensor of unknown shape. \"\n"
     ]
    }
   ],
   "source": [
    "from keras.models import load_model\n",
    "\n",
    "loaded_model = load_model(checkpoint_path+model_name)\n",
    "\n",
    "with open(checkpoint_path+tokenizer_name, 'rb') as handle:\n",
    "    loaded_tokenizer = pickle.load(handle)"
   ]
  },
  {
   "cell_type": "code",
   "execution_count": 70,
   "id": "c3ba22b8",
   "metadata": {},
   "outputs": [
    {
     "name": "stdout",
     "output_type": "stream",
     "text": [
      "3000/3000 [==============================] - 0s 112us/step\n",
      "prediction emotion\n",
      "prediction model loss & acc: [0.5037077797253927, 0.7983333468437195]\n"
     ]
    }
   ],
   "source": [
    "test_eval = loaded_model.evaluate(x_test, y_test)\n",
    "print('prediction emotion')\n",
    "print('prediction model loss & acc:', test_eval)"
   ]
  },
  {
   "cell_type": "code",
   "execution_count": null,
   "id": "8cc533a8",
   "metadata": {},
   "outputs": [],
   "source": []
  }
 ],
 "metadata": {
  "kernelspec": {
   "display_name": "nlp3710",
   "language": "python",
   "name": "nlp3710"
  },
  "language_info": {
   "codemirror_mode": {
    "name": "ipython",
    "version": 3
   },
   "file_extension": ".py",
   "mimetype": "text/x-python",
   "name": "python",
   "nbconvert_exporter": "python",
   "pygments_lexer": "ipython3",
   "version": "3.7.10"
  },
  "toc": {
   "base_numbering": 1,
   "nav_menu": {},
   "number_sections": true,
   "sideBar": true,
   "skip_h1_title": false,
   "title_cell": "Table of Contents",
   "title_sidebar": "Contents",
   "toc_cell": false,
   "toc_position": {},
   "toc_section_display": true,
   "toc_window_display": false
  }
 },
 "nbformat": 4,
 "nbformat_minor": 5
}
